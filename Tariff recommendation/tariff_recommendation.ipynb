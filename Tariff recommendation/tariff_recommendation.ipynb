{
 "cells": [
  {
   "cell_type": "markdown",
   "metadata": {},
   "source": [
    "## Изучение данных"
   ]
  },
  {
   "cell_type": "code",
   "execution_count": 1,
   "metadata": {},
   "outputs": [],
   "source": [
    "import warnings\n",
    "warnings.filterwarnings('ignore')\n",
    "import pandas as pd\n",
    "import numpy as np\n",
    "import seaborn as sns\n",
    "from sklearn.tree import DecisionTreeClassifier\n",
    "from sklearn.ensemble import RandomForestClassifier\n",
    "from sklearn.linear_model import LogisticRegression\n",
    "from sklearn.model_selection import train_test_split\n",
    "from sklearn.model_selection import GridSearchCV\n",
    "from sklearn.model_selection import StratifiedKFold\n",
    "from sklearn.metrics import accuracy_score\n",
    "from sklearn.metrics import mean_squared_error\n",
    "from sklearn.dummy import DummyClassifier"
   ]
  },
  {
   "cell_type": "code",
   "execution_count": 2,
   "metadata": {},
   "outputs": [],
   "source": [
    "df = pd.read_csv('/datasets/users_behavior.csv')"
   ]
  },
  {
   "cell_type": "code",
   "execution_count": 3,
   "metadata": {
    "scrolled": true
   },
   "outputs": [
    {
     "data": {
      "text/html": [
       "<div>\n",
       "<style scoped>\n",
       "    .dataframe tbody tr th:only-of-type {\n",
       "        vertical-align: middle;\n",
       "    }\n",
       "\n",
       "    .dataframe tbody tr th {\n",
       "        vertical-align: top;\n",
       "    }\n",
       "\n",
       "    .dataframe thead th {\n",
       "        text-align: right;\n",
       "    }\n",
       "</style>\n",
       "<table border=\"1\" class=\"dataframe\">\n",
       "  <thead>\n",
       "    <tr style=\"text-align: right;\">\n",
       "      <th></th>\n",
       "      <th>calls</th>\n",
       "      <th>minutes</th>\n",
       "      <th>messages</th>\n",
       "      <th>mb_used</th>\n",
       "      <th>is_ultra</th>\n",
       "    </tr>\n",
       "  </thead>\n",
       "  <tbody>\n",
       "    <tr>\n",
       "      <td>0</td>\n",
       "      <td>40.0</td>\n",
       "      <td>311.90</td>\n",
       "      <td>83.0</td>\n",
       "      <td>19915.42</td>\n",
       "      <td>0</td>\n",
       "    </tr>\n",
       "    <tr>\n",
       "      <td>1</td>\n",
       "      <td>85.0</td>\n",
       "      <td>516.75</td>\n",
       "      <td>56.0</td>\n",
       "      <td>22696.96</td>\n",
       "      <td>0</td>\n",
       "    </tr>\n",
       "    <tr>\n",
       "      <td>2</td>\n",
       "      <td>77.0</td>\n",
       "      <td>467.66</td>\n",
       "      <td>86.0</td>\n",
       "      <td>21060.45</td>\n",
       "      <td>0</td>\n",
       "    </tr>\n",
       "    <tr>\n",
       "      <td>3</td>\n",
       "      <td>106.0</td>\n",
       "      <td>745.53</td>\n",
       "      <td>81.0</td>\n",
       "      <td>8437.39</td>\n",
       "      <td>1</td>\n",
       "    </tr>\n",
       "    <tr>\n",
       "      <td>4</td>\n",
       "      <td>66.0</td>\n",
       "      <td>418.74</td>\n",
       "      <td>1.0</td>\n",
       "      <td>14502.75</td>\n",
       "      <td>0</td>\n",
       "    </tr>\n",
       "  </tbody>\n",
       "</table>\n",
       "</div>"
      ],
      "text/plain": [
       "   calls  minutes  messages   mb_used  is_ultra\n",
       "0   40.0   311.90      83.0  19915.42         0\n",
       "1   85.0   516.75      56.0  22696.96         0\n",
       "2   77.0   467.66      86.0  21060.45         0\n",
       "3  106.0   745.53      81.0   8437.39         1\n",
       "4   66.0   418.74       1.0  14502.75         0"
      ]
     },
     "execution_count": 3,
     "metadata": {},
     "output_type": "execute_result"
    }
   ],
   "source": [
    "df.head()"
   ]
  },
  {
   "cell_type": "code",
   "execution_count": 4,
   "metadata": {},
   "outputs": [
    {
     "name": "stdout",
     "output_type": "stream",
     "text": [
      "<class 'pandas.core.frame.DataFrame'>\n",
      "RangeIndex: 3214 entries, 0 to 3213\n",
      "Data columns (total 5 columns):\n",
      "calls       3214 non-null float64\n",
      "minutes     3214 non-null float64\n",
      "messages    3214 non-null float64\n",
      "mb_used     3214 non-null float64\n",
      "is_ultra    3214 non-null int64\n",
      "dtypes: float64(4), int64(1)\n",
      "memory usage: 125.7 KB\n"
     ]
    }
   ],
   "source": [
    "df.info()"
   ]
  },
  {
   "cell_type": "code",
   "execution_count": 5,
   "metadata": {},
   "outputs": [
    {
     "data": {
      "text/plain": [
       "calls       0.0\n",
       "minutes     0.0\n",
       "messages    0.0\n",
       "mb_used     0.0\n",
       "is_ultra    0.0\n",
       "dtype: float64"
      ]
     },
     "execution_count": 5,
     "metadata": {},
     "output_type": "execute_result"
    }
   ],
   "source": [
    "df.isna().mean()"
   ]
  },
  {
   "cell_type": "code",
   "execution_count": 6,
   "metadata": {},
   "outputs": [],
   "source": [
    "df[['calls', 'messages']] = df[['calls', 'messages']].astype('int').copy()"
   ]
  },
  {
   "cell_type": "code",
   "execution_count": 7,
   "metadata": {},
   "outputs": [
    {
     "data": {
      "text/plain": [
       "0"
      ]
     },
     "execution_count": 7,
     "metadata": {},
     "output_type": "execute_result"
    }
   ],
   "source": [
    "df.duplicated().sum()"
   ]
  },
  {
   "cell_type": "markdown",
   "metadata": {},
   "source": [
    "Полных дубликатов и пропущенных значений нет. Еще перевел тип данных у двух признаков из float в integer."
   ]
  },
  {
   "cell_type": "code",
   "execution_count": 8,
   "metadata": {},
   "outputs": [
    {
     "data": {
      "text/html": [
       "<style  type=\"text/css\" >\n",
       "    #T_f889efdc_713d_11ec_a5b3_02420a39d251row0_col0 {\n",
       "            background-color:  #67000d;\n",
       "            color:  #f1f1f1;\n",
       "        }    #T_f889efdc_713d_11ec_a5b3_02420a39d251row0_col1 {\n",
       "            background-color:  #71020e;\n",
       "            color:  #f1f1f1;\n",
       "        }    #T_f889efdc_713d_11ec_a5b3_02420a39d251row0_col2 {\n",
       "            background-color:  #fff4ef;\n",
       "            color:  #000000;\n",
       "        }    #T_f889efdc_713d_11ec_a5b3_02420a39d251row0_col3 {\n",
       "            background-color:  #fee3d6;\n",
       "            color:  #000000;\n",
       "        }    #T_f889efdc_713d_11ec_a5b3_02420a39d251row1_col0 {\n",
       "            background-color:  #71020e;\n",
       "            color:  #f1f1f1;\n",
       "        }    #T_f889efdc_713d_11ec_a5b3_02420a39d251row1_col1 {\n",
       "            background-color:  #67000d;\n",
       "            color:  #f1f1f1;\n",
       "        }    #T_f889efdc_713d_11ec_a5b3_02420a39d251row1_col2 {\n",
       "            background-color:  #fff5f0;\n",
       "            color:  #000000;\n",
       "        }    #T_f889efdc_713d_11ec_a5b3_02420a39d251row1_col3 {\n",
       "            background-color:  #fee3d7;\n",
       "            color:  #000000;\n",
       "        }    #T_f889efdc_713d_11ec_a5b3_02420a39d251row2_col0 {\n",
       "            background-color:  #fff5f0;\n",
       "            color:  #000000;\n",
       "        }    #T_f889efdc_713d_11ec_a5b3_02420a39d251row2_col1 {\n",
       "            background-color:  #fff5f0;\n",
       "            color:  #000000;\n",
       "        }    #T_f889efdc_713d_11ec_a5b3_02420a39d251row2_col2 {\n",
       "            background-color:  #67000d;\n",
       "            color:  #f1f1f1;\n",
       "        }    #T_f889efdc_713d_11ec_a5b3_02420a39d251row2_col3 {\n",
       "            background-color:  #fff5f0;\n",
       "            color:  #000000;\n",
       "        }    #T_f889efdc_713d_11ec_a5b3_02420a39d251row3_col0 {\n",
       "            background-color:  #fedfd0;\n",
       "            color:  #000000;\n",
       "        }    #T_f889efdc_713d_11ec_a5b3_02420a39d251row3_col1 {\n",
       "            background-color:  #fedfd0;\n",
       "            color:  #000000;\n",
       "        }    #T_f889efdc_713d_11ec_a5b3_02420a39d251row3_col2 {\n",
       "            background-color:  #fff0e9;\n",
       "            color:  #000000;\n",
       "        }    #T_f889efdc_713d_11ec_a5b3_02420a39d251row3_col3 {\n",
       "            background-color:  #67000d;\n",
       "            color:  #f1f1f1;\n",
       "        }</style><table id=\"T_f889efdc_713d_11ec_a5b3_02420a39d251\" ><thead>    <tr>        <th class=\"blank level0\" ></th>        <th class=\"col_heading level0 col0\" >calls</th>        <th class=\"col_heading level0 col1\" >minutes</th>        <th class=\"col_heading level0 col2\" >messages</th>        <th class=\"col_heading level0 col3\" >mb_used</th>    </tr></thead><tbody>\n",
       "                <tr>\n",
       "                        <th id=\"T_f889efdc_713d_11ec_a5b3_02420a39d251level0_row0\" class=\"row_heading level0 row0\" >calls</th>\n",
       "                        <td id=\"T_f889efdc_713d_11ec_a5b3_02420a39d251row0_col0\" class=\"data row0 col0\" >1</td>\n",
       "                        <td id=\"T_f889efdc_713d_11ec_a5b3_02420a39d251row0_col1\" class=\"data row0 col1\" >0.982083</td>\n",
       "                        <td id=\"T_f889efdc_713d_11ec_a5b3_02420a39d251row0_col2\" class=\"data row0 col2\" >0.177385</td>\n",
       "                        <td id=\"T_f889efdc_713d_11ec_a5b3_02420a39d251row0_col3\" class=\"data row0 col3\" >0.286442</td>\n",
       "            </tr>\n",
       "            <tr>\n",
       "                        <th id=\"T_f889efdc_713d_11ec_a5b3_02420a39d251level0_row1\" class=\"row_heading level0 row1\" >minutes</th>\n",
       "                        <td id=\"T_f889efdc_713d_11ec_a5b3_02420a39d251row1_col0\" class=\"data row1 col0\" >0.982083</td>\n",
       "                        <td id=\"T_f889efdc_713d_11ec_a5b3_02420a39d251row1_col1\" class=\"data row1 col1\" >1</td>\n",
       "                        <td id=\"T_f889efdc_713d_11ec_a5b3_02420a39d251row1_col2\" class=\"data row1 col2\" >0.17311</td>\n",
       "                        <td id=\"T_f889efdc_713d_11ec_a5b3_02420a39d251row1_col3\" class=\"data row1 col3\" >0.280967</td>\n",
       "            </tr>\n",
       "            <tr>\n",
       "                        <th id=\"T_f889efdc_713d_11ec_a5b3_02420a39d251level0_row2\" class=\"row_heading level0 row2\" >messages</th>\n",
       "                        <td id=\"T_f889efdc_713d_11ec_a5b3_02420a39d251row2_col0\" class=\"data row2 col0\" >0.177385</td>\n",
       "                        <td id=\"T_f889efdc_713d_11ec_a5b3_02420a39d251row2_col1\" class=\"data row2 col1\" >0.17311</td>\n",
       "                        <td id=\"T_f889efdc_713d_11ec_a5b3_02420a39d251row2_col2\" class=\"data row2 col2\" >1</td>\n",
       "                        <td id=\"T_f889efdc_713d_11ec_a5b3_02420a39d251row2_col3\" class=\"data row2 col3\" >0.195721</td>\n",
       "            </tr>\n",
       "            <tr>\n",
       "                        <th id=\"T_f889efdc_713d_11ec_a5b3_02420a39d251level0_row3\" class=\"row_heading level0 row3\" >mb_used</th>\n",
       "                        <td id=\"T_f889efdc_713d_11ec_a5b3_02420a39d251row3_col0\" class=\"data row3 col0\" >0.286442</td>\n",
       "                        <td id=\"T_f889efdc_713d_11ec_a5b3_02420a39d251row3_col1\" class=\"data row3 col1\" >0.280967</td>\n",
       "                        <td id=\"T_f889efdc_713d_11ec_a5b3_02420a39d251row3_col2\" class=\"data row3 col2\" >0.195721</td>\n",
       "                        <td id=\"T_f889efdc_713d_11ec_a5b3_02420a39d251row3_col3\" class=\"data row3 col3\" >1</td>\n",
       "            </tr>\n",
       "    </tbody></table>"
      ],
      "text/plain": [
       "<pandas.io.formats.style.Styler at 0x7ff48514c5d0>"
      ]
     },
     "execution_count": 8,
     "metadata": {},
     "output_type": "execute_result"
    }
   ],
   "source": [
    "df.drop('is_ultra', axis=1).corr().style.background_gradient(cmap='Reds')"
   ]
  },
  {
   "cell_type": "code",
   "execution_count": 9,
   "metadata": {},
   "outputs": [
    {
     "data": {
      "image/png": "[encoded data removed]",
      "text/plain": [
       "<Figure size 648x648 with 16 Axes>"
      ]
     },
     "metadata": {
      "needs_background": "light"
     },
     "output_type": "display_data"
    }
   ],
   "source": [
    "pd.plotting.scatter_matrix(df.drop('is_ultra', axis=1), figsize=(9, 9));"
   ]
  },
  {
   "cell_type": "code",
   "execution_count": 10,
   "metadata": {},
   "outputs": [
    {
     "data": {
      "image/png": "[encoded data removed]",
      "text/plain": [
       "<Figure size 504x360 with 2 Axes>"
      ]
     },
     "metadata": {},
     "output_type": "display_data"
    }
   ],
   "source": [
    "sns.set(rc={'figure.figsize':(7, 5)})\n",
    "sns.heatmap(df.drop('is_ultra', axis=1).corr(),\n",
    "            annot=True,\n",
    "            vmin=-1,\n",
    "            vmax=1,\n",
    "            center= 0,\n",
    "            cmap='coolwarm',\n",
    "            linewidths=.01,\n",
    "            linecolor='black');"
   ]
  },
  {
   "cell_type": "markdown",
   "metadata": {},
   "source": [
    "В принципе хитмап мог уже не делать. И так понятно, что 'calls' и 'minutes' очень сильно коррелируют между собой. В таком случае мы уберем из обучения 'minutes'."
   ]
  },
  {
   "cell_type": "code",
   "execution_count": 11,
   "metadata": {},
   "outputs": [],
   "source": [
    "df = df.drop('calls', axis=1).copy()"
   ]
  },
  {
   "cell_type": "code",
   "execution_count": 12,
   "metadata": {},
   "outputs": [
    {
     "data": {
      "text/html": [
       "<div>\n",
       "<style scoped>\n",
       "    .dataframe tbody tr th:only-of-type {\n",
       "        vertical-align: middle;\n",
       "    }\n",
       "\n",
       "    .dataframe tbody tr th {\n",
       "        vertical-align: top;\n",
       "    }\n",
       "\n",
       "    .dataframe thead th {\n",
       "        text-align: right;\n",
       "    }\n",
       "</style>\n",
       "<table border=\"1\" class=\"dataframe\">\n",
       "  <thead>\n",
       "    <tr style=\"text-align: right;\">\n",
       "      <th></th>\n",
       "      <th>minutes</th>\n",
       "      <th>messages</th>\n",
       "      <th>mb_used</th>\n",
       "      <th>is_ultra</th>\n",
       "    </tr>\n",
       "  </thead>\n",
       "  <tbody>\n",
       "    <tr>\n",
       "      <td>0</td>\n",
       "      <td>311.90</td>\n",
       "      <td>83</td>\n",
       "      <td>19915.42</td>\n",
       "      <td>0</td>\n",
       "    </tr>\n",
       "    <tr>\n",
       "      <td>1</td>\n",
       "      <td>516.75</td>\n",
       "      <td>56</td>\n",
       "      <td>22696.96</td>\n",
       "      <td>0</td>\n",
       "    </tr>\n",
       "    <tr>\n",
       "      <td>2</td>\n",
       "      <td>467.66</td>\n",
       "      <td>86</td>\n",
       "      <td>21060.45</td>\n",
       "      <td>0</td>\n",
       "    </tr>\n",
       "    <tr>\n",
       "      <td>3</td>\n",
       "      <td>745.53</td>\n",
       "      <td>81</td>\n",
       "      <td>8437.39</td>\n",
       "      <td>1</td>\n",
       "    </tr>\n",
       "    <tr>\n",
       "      <td>4</td>\n",
       "      <td>418.74</td>\n",
       "      <td>1</td>\n",
       "      <td>14502.75</td>\n",
       "      <td>0</td>\n",
       "    </tr>\n",
       "  </tbody>\n",
       "</table>\n",
       "</div>"
      ],
      "text/plain": [
       "   minutes  messages   mb_used  is_ultra\n",
       "0   311.90        83  19915.42         0\n",
       "1   516.75        56  22696.96         0\n",
       "2   467.66        86  21060.45         0\n",
       "3   745.53        81   8437.39         1\n",
       "4   418.74         1  14502.75         0"
      ]
     },
     "execution_count": 12,
     "metadata": {},
     "output_type": "execute_result"
    }
   ],
   "source": [
    "df.head()"
   ]
  },
  {
   "cell_type": "code",
   "execution_count": 13,
   "metadata": {},
   "outputs": [
    {
     "name": "stdout",
     "output_type": "stream",
     "text": [
      "<class 'pandas.core.frame.DataFrame'>\n",
      "RangeIndex: 3214 entries, 0 to 3213\n",
      "Data columns (total 4 columns):\n",
      "minutes     3214 non-null float64\n",
      "messages    3214 non-null int64\n",
      "mb_used     3214 non-null float64\n",
      "is_ultra    3214 non-null int64\n",
      "dtypes: float64(2), int64(2)\n",
      "memory usage: 100.6 KB\n"
     ]
    }
   ],
   "source": [
    "df.info()"
   ]
  },
  {
   "cell_type": "code",
   "execution_count": 14,
   "metadata": {},
   "outputs": [
    {
     "data": {
      "text/html": [
       "<div>\n",
       "<style scoped>\n",
       "    .dataframe tbody tr th:only-of-type {\n",
       "        vertical-align: middle;\n",
       "    }\n",
       "\n",
       "    .dataframe tbody tr th {\n",
       "        vertical-align: top;\n",
       "    }\n",
       "\n",
       "    .dataframe thead th {\n",
       "        text-align: right;\n",
       "    }\n",
       "</style>\n",
       "<table border=\"1\" class=\"dataframe\">\n",
       "  <thead>\n",
       "    <tr style=\"text-align: right;\">\n",
       "      <th></th>\n",
       "      <th>minutes</th>\n",
       "      <th>messages</th>\n",
       "      <th>mb_used</th>\n",
       "      <th>is_ultra</th>\n",
       "    </tr>\n",
       "  </thead>\n",
       "  <tbody>\n",
       "    <tr>\n",
       "      <td>count</td>\n",
       "      <td>3214.000000</td>\n",
       "      <td>3214.000000</td>\n",
       "      <td>3214.000000</td>\n",
       "      <td>3214.000000</td>\n",
       "    </tr>\n",
       "    <tr>\n",
       "      <td>mean</td>\n",
       "      <td>438.208787</td>\n",
       "      <td>38.281269</td>\n",
       "      <td>17207.673836</td>\n",
       "      <td>0.306472</td>\n",
       "    </tr>\n",
       "    <tr>\n",
       "      <td>std</td>\n",
       "      <td>234.569872</td>\n",
       "      <td>36.148326</td>\n",
       "      <td>7570.968246</td>\n",
       "      <td>0.461100</td>\n",
       "    </tr>\n",
       "    <tr>\n",
       "      <td>min</td>\n",
       "      <td>0.000000</td>\n",
       "      <td>0.000000</td>\n",
       "      <td>0.000000</td>\n",
       "      <td>0.000000</td>\n",
       "    </tr>\n",
       "    <tr>\n",
       "      <td>25%</td>\n",
       "      <td>274.575000</td>\n",
       "      <td>9.000000</td>\n",
       "      <td>12491.902500</td>\n",
       "      <td>0.000000</td>\n",
       "    </tr>\n",
       "    <tr>\n",
       "      <td>50%</td>\n",
       "      <td>430.600000</td>\n",
       "      <td>30.000000</td>\n",
       "      <td>16943.235000</td>\n",
       "      <td>0.000000</td>\n",
       "    </tr>\n",
       "    <tr>\n",
       "      <td>75%</td>\n",
       "      <td>571.927500</td>\n",
       "      <td>57.000000</td>\n",
       "      <td>21424.700000</td>\n",
       "      <td>1.000000</td>\n",
       "    </tr>\n",
       "    <tr>\n",
       "      <td>max</td>\n",
       "      <td>1632.060000</td>\n",
       "      <td>224.000000</td>\n",
       "      <td>49745.730000</td>\n",
       "      <td>1.000000</td>\n",
       "    </tr>\n",
       "  </tbody>\n",
       "</table>\n",
       "</div>"
      ],
      "text/plain": [
       "           minutes     messages       mb_used     is_ultra\n",
       "count  3214.000000  3214.000000   3214.000000  3214.000000\n",
       "mean    438.208787    38.281269  17207.673836     0.306472\n",
       "std     234.569872    36.148326   7570.968246     0.461100\n",
       "min       0.000000     0.000000      0.000000     0.000000\n",
       "25%     274.575000     9.000000  12491.902500     0.000000\n",
       "50%     430.600000    30.000000  16943.235000     0.000000\n",
       "75%     571.927500    57.000000  21424.700000     1.000000\n",
       "max    1632.060000   224.000000  49745.730000     1.000000"
      ]
     },
     "execution_count": 14,
     "metadata": {},
     "output_type": "execute_result"
    }
   ],
   "source": [
    "df.describe()"
   ]
  },
  {
   "cell_type": "code",
   "execution_count": 15,
   "metadata": {},
   "outputs": [
    {
     "data": {
      "image/png": "[encoded data removed]",
      "text/plain": [
       "<Figure size 720x432 with 1 Axes>"
      ]
     },
     "metadata": {},
     "output_type": "display_data"
    }
   ],
   "source": [
    "df['is_ultra'].plot(kind='hist',\n",
    "                    bins=20,\n",
    "                    figsize=(10, 6),\n",
    "                    grid=True);"
   ]
  },
  {
   "cell_type": "markdown",
   "metadata": {},
   "source": [
    "Итого у нас получился датасет из 4 признаков. Целевой признак распределен неравномерно. Клиентов на тарифе Ультра почти в 2 раза меньше, чем клиентов на тарифе Смарт. Мы это учтем чуть позже."
   ]
  },
  {
   "cell_type": "markdown",
   "metadata": {},
   "source": [
    "## Разбиение данных на выборки"
   ]
  },
  {
   "cell_type": "markdown",
   "metadata": {},
   "source": [
    "Целевой признак - 'is_ultra'"
   ]
  },
  {
   "cell_type": "code",
   "execution_count": 16,
   "metadata": {},
   "outputs": [],
   "source": [
    "X = df.drop('is_ultra', axis=1)\n",
    "y = df['is_ultra']"
   ]
  },
  {
   "cell_type": "markdown",
   "metadata": {},
   "source": [
    "Сначала разобью на train (80%) и test (20%), а потом поставлю кроссвалидацию, равную 4 (т.е. validate = 20%)."
   ]
  },
  {
   "cell_type": "code",
   "execution_count": 17,
   "metadata": {},
   "outputs": [],
   "source": [
    "X_train, X_test, y_train, y_test = train_test_split(X,\n",
    "                                                    y,\n",
    "                                                    test_size=0.2,\n",
    "                                                    random_state=42,\n",
    "                                                    stratify=df['is_ultra'])"
   ]
  },
  {
   "cell_type": "code",
   "execution_count": 18,
   "metadata": {},
   "outputs": [
    {
     "data": {
      "text/plain": [
       "3214"
      ]
     },
     "execution_count": 18,
     "metadata": {},
     "output_type": "execute_result"
    }
   ],
   "source": [
    "len(df)"
   ]
  },
  {
   "cell_type": "code",
   "execution_count": 19,
   "metadata": {},
   "outputs": [
    {
     "data": {
      "text/plain": [
       "2571"
      ]
     },
     "execution_count": 19,
     "metadata": {},
     "output_type": "execute_result"
    }
   ],
   "source": [
    "len(X_train)"
   ]
  },
  {
   "cell_type": "code",
   "execution_count": 20,
   "metadata": {},
   "outputs": [
    {
     "data": {
      "text/plain": [
       "643"
      ]
     },
     "execution_count": 20,
     "metadata": {},
     "output_type": "execute_result"
    }
   ],
   "source": [
    "len(X_test)"
   ]
  },
  {
   "cell_type": "code",
   "execution_count": 21,
   "metadata": {},
   "outputs": [
    {
     "data": {
      "text/plain": [
       "3214"
      ]
     },
     "execution_count": 21,
     "metadata": {},
     "output_type": "execute_result"
    }
   ],
   "source": [
    "len(X_train) + len(X_test)"
   ]
  },
  {
   "cell_type": "code",
   "execution_count": 22,
   "metadata": {},
   "outputs": [
    {
     "data": {
      "text/plain": [
       "True"
      ]
     },
     "execution_count": 22,
     "metadata": {},
     "output_type": "execute_result"
    }
   ],
   "source": [
    "len(X_train) + len(X_test) == len(y_train) + len(y_test)"
   ]
  },
  {
   "cell_type": "code",
   "execution_count": 23,
   "metadata": {},
   "outputs": [
    {
     "data": {
      "text/plain": [
       "0.30647168637212197"
      ]
     },
     "execution_count": 23,
     "metadata": {},
     "output_type": "execute_result"
    }
   ],
   "source": [
    "df['is_ultra'].mean()"
   ]
  },
  {
   "cell_type": "code",
   "execution_count": 24,
   "metadata": {},
   "outputs": [
    {
     "data": {
      "text/plain": [
       "0.30649552703228317"
      ]
     },
     "execution_count": 24,
     "metadata": {},
     "output_type": "execute_result"
    }
   ],
   "source": [
    "y_train.mean()"
   ]
  },
  {
   "cell_type": "code",
   "execution_count": 25,
   "metadata": {},
   "outputs": [
    {
     "data": {
      "text/plain": [
       "0.30637636080870917"
      ]
     },
     "execution_count": 25,
     "metadata": {},
     "output_type": "execute_result"
    }
   ],
   "source": [
    "y_test.mean()"
   ]
  },
  {
   "cell_type": "markdown",
   "metadata": {},
   "source": [
    "## Исследование моделей"
   ]
  },
  {
   "cell_type": "code",
   "execution_count": 26,
   "metadata": {},
   "outputs": [
    {
     "data": {
      "text/plain": [
       "0    0.693528\n",
       "1    0.306472\n",
       "Name: is_ultra, dtype: float64"
      ]
     },
     "execution_count": 26,
     "metadata": {},
     "output_type": "execute_result"
    }
   ],
   "source": [
    "df['is_ultra'].value_counts(normalize=True)"
   ]
  },
  {
   "cell_type": "markdown",
   "metadata": {},
   "source": [
    "Классы не сбалансированны."
   ]
  },
  {
   "cell_type": "code",
   "execution_count": 27,
   "metadata": {},
   "outputs": [],
   "source": [
    "clf_dt = DecisionTreeClassifier(random_state=42)"
   ]
  },
  {
   "cell_type": "code",
   "execution_count": 28,
   "metadata": {},
   "outputs": [],
   "source": [
    "weights = np.linspace(0.0, 0.99, 200)\n",
    "parameters = {'class_weight': [{0: n, 1: 1.0 - n} for n in weights]}"
   ]
  },
  {
   "cell_type": "markdown",
   "metadata": {},
   "source": [
    "Задал пока что только вариации весов. Благодаря гиперпараметру cv=StratifiedKFold(4) у меня получается валидационная выборка, равная 20% от всего датасета. В качестве метрики выбрал f1-меру, чтобы был баланс между точностью и полнотой."
   ]
  },
  {
   "cell_type": "code",
   "execution_count": 29,
   "metadata": {},
   "outputs": [],
   "source": [
    "grid_search_cv = GridSearchCV(clf_dt,\n",
    "                              parameters,\n",
    "                              scoring='f1',\n",
    "                              n_jobs=-1,\n",
    "                              cv=StratifiedKFold(4)).fit(X_train, y_train)"
   ]
  },
  {
   "cell_type": "code",
   "execution_count": 30,
   "metadata": {},
   "outputs": [
    {
     "data": {
      "text/plain": [
       "{'class_weight': {0: 0.9502010050251256, 1: 0.04979899497487439}}"
      ]
     },
     "execution_count": 30,
     "metadata": {},
     "output_type": "execute_result"
    }
   ],
   "source": [
    "grid_search_cv.best_params_"
   ]
  },
  {
   "cell_type": "code",
   "execution_count": 31,
   "metadata": {},
   "outputs": [],
   "source": [
    "parameters = {'criterion': ['gini', 'entropy'],\n",
    "              'max_depth': range(1, 21),\n",
    "              'min_samples_split': range(2, 21, 5),\n",
    "              'min_samples_leaf': range(1, 21, 5),\n",
    "              'class_weight': [{0: 0.9502010050251256, 1: 0.04979899497487439}]}"
   ]
  },
  {
   "cell_type": "markdown",
   "metadata": {},
   "source": [
    "Задал новые параметры для GridSearchCV. И здесь я уже беру метрику accuracy"
   ]
  },
  {
   "cell_type": "code",
   "execution_count": 32,
   "metadata": {},
   "outputs": [],
   "source": [
    "grid_search_cv_dt = GridSearchCV(clf_dt,\n",
    "                                 parameters,\n",
    "                                 scoring='accuracy',\n",
    "                                 n_jobs=-1,\n",
    "                                 cv=StratifiedKFold(4)).fit(X_train, y_train)"
   ]
  },
  {
   "cell_type": "code",
   "execution_count": 33,
   "metadata": {},
   "outputs": [
    {
     "data": {
      "text/plain": [
       "{'class_weight': {0: 0.9502010050251256, 1: 0.04979899497487439},\n",
       " 'criterion': 'gini',\n",
       " 'max_depth': 14,\n",
       " 'min_samples_leaf': 1,\n",
       " 'min_samples_split': 2}"
      ]
     },
     "execution_count": 33,
     "metadata": {},
     "output_type": "execute_result"
    }
   ],
   "source": [
    "grid_search_cv_dt.best_params_"
   ]
  },
  {
   "cell_type": "code",
   "execution_count": 34,
   "metadata": {},
   "outputs": [],
   "source": [
    "best_clf_dt = grid_search_cv_dt.best_estimator_"
   ]
  },
  {
   "cell_type": "code",
   "execution_count": 35,
   "metadata": {},
   "outputs": [],
   "source": [
    "predictions_dt = best_clf_dt.predict(X_train)"
   ]
  },
  {
   "cell_type": "code",
   "execution_count": 36,
   "metadata": {},
   "outputs": [
    {
     "data": {
      "text/plain": [
       "0.8424737456242707"
      ]
     },
     "execution_count": 36,
     "metadata": {},
     "output_type": "execute_result"
    }
   ],
   "source": [
    "accuracy_score(y_train, predictions_dt)"
   ]
  },
  {
   "cell_type": "markdown",
   "metadata": {},
   "source": [
    "На тренировочной выборке решающее дерево показало accuracy = 0.8424737456242707"
   ]
  },
  {
   "cell_type": "markdown",
   "metadata": {},
   "source": [
    "Теперь все то же самое проделаем для случайного леса и логистической регрессии."
   ]
  },
  {
   "cell_type": "code",
   "execution_count": 37,
   "metadata": {},
   "outputs": [],
   "source": [
    "clf_rf = RandomForestClassifier(random_state=42)"
   ]
  },
  {
   "cell_type": "code",
   "execution_count": 38,
   "metadata": {},
   "outputs": [],
   "source": [
    "weights = np.linspace(0.0, 0.99, 200)\n",
    "parameters = {'n_estimators': [50],\n",
    "              'class_weight': [{0: n, 1: 1.0 - n} for n in weights]}"
   ]
  },
  {
   "cell_type": "code",
   "execution_count": 39,
   "metadata": {},
   "outputs": [],
   "source": [
    "grid_search_rf = GridSearchCV(clf_rf,\n",
    "                              parameters,\n",
    "                              scoring='f1',\n",
    "                              n_jobs=-1,\n",
    "                              cv=StratifiedKFold(4)).fit(X_train, y_train)"
   ]
  },
  {
   "cell_type": "code",
   "execution_count": 40,
   "metadata": {},
   "outputs": [
    {
     "data": {
      "text/plain": [
       "{'class_weight': {0: 0.9352763819095478, 1: 0.06472361809045224},\n",
       " 'n_estimators': 50}"
      ]
     },
     "execution_count": 40,
     "metadata": {},
     "output_type": "execute_result"
    }
   ],
   "source": [
    "grid_search_rf.best_params_"
   ]
  },
  {
   "cell_type": "code",
   "execution_count": 41,
   "metadata": {},
   "outputs": [],
   "source": [
    "parameters = {'n_estimators': range(50, 201, 50),\n",
    "              'criterion': ['gini', 'entropy'],\n",
    "              'max_depth': range(1, 21),\n",
    "              'min_samples_split': range(2, 22, 10),\n",
    "              'min_samples_leaf': range(1, 21, 10),\n",
    "              'class_weight': [{0: 0.9352763819095478, 1: 0.06472361809045224}]}"
   ]
  },
  {
   "cell_type": "code",
   "execution_count": 42,
   "metadata": {},
   "outputs": [],
   "source": [
    "grid_search_cv_rf = GridSearchCV(clf_rf,\n",
    "                                 parameters,\n",
    "                                 scoring='accuracy',\n",
    "                                 n_jobs=-1,\n",
    "                                 cv=StratifiedKFold(4)).fit(X_train, y_train)"
   ]
  },
  {
   "cell_type": "code",
   "execution_count": 43,
   "metadata": {},
   "outputs": [
    {
     "data": {
      "text/plain": [
       "{'class_weight': {0: 0.9352763819095478, 1: 0.06472361809045224},\n",
       " 'criterion': 'gini',\n",
       " 'max_depth': 18,\n",
       " 'min_samples_leaf': 1,\n",
       " 'min_samples_split': 2,\n",
       " 'n_estimators': 100}"
      ]
     },
     "execution_count": 43,
     "metadata": {},
     "output_type": "execute_result"
    }
   ],
   "source": [
    "grid_search_cv_rf.best_params_"
   ]
  },
  {
   "cell_type": "code",
   "execution_count": 44,
   "metadata": {},
   "outputs": [],
   "source": [
    "best_clf_rf = grid_search_cv_rf.best_estimator_"
   ]
  },
  {
   "cell_type": "code",
   "execution_count": 45,
   "metadata": {},
   "outputs": [],
   "source": [
    "predictions_rf = best_clf_rf.predict(X_train)"
   ]
  },
  {
   "cell_type": "code",
   "execution_count": 46,
   "metadata": {},
   "outputs": [
    {
     "data": {
      "text/plain": [
       "0.8914819136522754"
      ]
     },
     "execution_count": 46,
     "metadata": {},
     "output_type": "execute_result"
    }
   ],
   "source": [
    "accuracy_score(y_train, predictions_rf)"
   ]
  },
  {
   "cell_type": "markdown",
   "metadata": {},
   "source": [
    "На тренировочной выборке случайный лес показал accuracy = 0.8914819136522754"
   ]
  },
  {
   "cell_type": "code",
   "execution_count": 47,
   "metadata": {},
   "outputs": [],
   "source": [
    "clf_lr = LogisticRegression()"
   ]
  },
  {
   "cell_type": "code",
   "execution_count": 48,
   "metadata": {},
   "outputs": [],
   "source": [
    "weights = np.linspace(0.0, 0.99, 200)\n",
    "parameters = {'class_weight': [{0: n, 1: 1.0 - n} for n in weights],\n",
    "              'solver': ['lbfgs']}"
   ]
  },
  {
   "cell_type": "code",
   "execution_count": 49,
   "metadata": {},
   "outputs": [],
   "source": [
    "grid_search_lr = GridSearchCV(clf_lr,\n",
    "                              parameters,\n",
    "                              scoring='f1',\n",
    "                              n_jobs=-1,\n",
    "                              cv=StratifiedKFold(4)).fit(X_train, y_train)"
   ]
  },
  {
   "cell_type": "code",
   "execution_count": 50,
   "metadata": {},
   "outputs": [
    {
     "data": {
      "text/plain": [
       "{'class_weight': {0: 0.2935175879396985, 1: 0.7064824120603015},\n",
       " 'solver': 'lbfgs'}"
      ]
     },
     "execution_count": 50,
     "metadata": {},
     "output_type": "execute_result"
    }
   ],
   "source": [
    "grid_search_lr.best_params_"
   ]
  },
  {
   "cell_type": "code",
   "execution_count": 51,
   "metadata": {},
   "outputs": [],
   "source": [
    "parameters = {'class_weight': [{0: 0.2935175879396985, 1: 0.7064824120603015}],\n",
    "              'solver': ['lbfgs']}"
   ]
  },
  {
   "cell_type": "code",
   "execution_count": 52,
   "metadata": {},
   "outputs": [],
   "source": [
    "grid_search_cv_lr = GridSearchCV(clf_lr,\n",
    "                                 parameters,\n",
    "                                 scoring='accuracy',\n",
    "                                 n_jobs=-1,\n",
    "                                 cv=StratifiedKFold(4)).fit(X_train, y_train)"
   ]
  },
  {
   "cell_type": "code",
   "execution_count": 53,
   "metadata": {},
   "outputs": [
    {
     "data": {
      "text/plain": [
       "{'class_weight': {0: 0.2935175879396985, 1: 0.7064824120603015},\n",
       " 'solver': 'lbfgs'}"
      ]
     },
     "execution_count": 53,
     "metadata": {},
     "output_type": "execute_result"
    }
   ],
   "source": [
    "grid_search_cv_lr.best_params_"
   ]
  },
  {
   "cell_type": "code",
   "execution_count": 54,
   "metadata": {},
   "outputs": [],
   "source": [
    "best_clf_lr = grid_search_cv_lr.best_estimator_"
   ]
  },
  {
   "cell_type": "code",
   "execution_count": 55,
   "metadata": {},
   "outputs": [],
   "source": [
    "predictions_lr = best_clf_lr.predict(X_train)"
   ]
  },
  {
   "cell_type": "code",
   "execution_count": 56,
   "metadata": {},
   "outputs": [
    {
     "data": {
      "text/plain": [
       "0.337611824192921"
      ]
     },
     "execution_count": 56,
     "metadata": {},
     "output_type": "execute_result"
    }
   ],
   "source": [
    "accuracy_score(y_train, predictions_lr)"
   ]
  },
  {
   "cell_type": "markdown",
   "metadata": {},
   "source": [
    "На тренировочной выборке логистическая регрессия показала наихудший результат: accuracy = 0.337611824192921"
   ]
  },
  {
   "cell_type": "markdown",
   "metadata": {},
   "source": [
    "## Проверка на тестовой выборке"
   ]
  },
  {
   "cell_type": "code",
   "execution_count": 57,
   "metadata": {},
   "outputs": [],
   "source": [
    "predictions_dt_test = best_clf_dt.predict(X_test)"
   ]
  },
  {
   "cell_type": "code",
   "execution_count": 58,
   "metadata": {},
   "outputs": [
    {
     "data": {
      "text/plain": [
       "0.8133748055987559"
      ]
     },
     "execution_count": 58,
     "metadata": {},
     "output_type": "execute_result"
    }
   ],
   "source": [
    "accuracy_score(y_test, predictions_dt_test)"
   ]
  },
  {
   "cell_type": "code",
   "execution_count": 59,
   "metadata": {},
   "outputs": [],
   "source": [
    "predictions_rf_test = best_clf_rf.predict(X_test)"
   ]
  },
  {
   "cell_type": "code",
   "execution_count": 60,
   "metadata": {},
   "outputs": [
    {
     "data": {
      "text/plain": [
       "0.8164852255054432"
      ]
     },
     "execution_count": 60,
     "metadata": {},
     "output_type": "execute_result"
    }
   ],
   "source": [
    "accuracy_score(y_test, predictions_rf_test)"
   ]
  },
  {
   "cell_type": "code",
   "execution_count": 61,
   "metadata": {},
   "outputs": [],
   "source": [
    "predictions_lr_test = best_clf_lr.predict(X_test)"
   ]
  },
  {
   "cell_type": "code",
   "execution_count": 62,
   "metadata": {},
   "outputs": [
    {
     "data": {
      "text/plain": [
       "0.359253499222395"
      ]
     },
     "execution_count": 62,
     "metadata": {},
     "output_type": "execute_result"
    }
   ],
   "source": [
    "accuracy_score(y_test, predictions_lr_test)"
   ]
  },
  {
   "cell_type": "markdown",
   "metadata": {},
   "source": [
    "Лучший результат дал random forest: accuracy = 0.8164852255054432. Правда и обучался намного дольше остальных. Если время обучения не критично, то его мы и будем использовать для внедрения. Худший результат дала логистическая регрессия. Она не дотянула даже до значения 0.75."
   ]
  },
  {
   "cell_type": "markdown",
   "metadata": {},
   "source": [
    "## Проверка моделей на адекватность"
   ]
  },
  {
   "cell_type": "code",
   "execution_count": 63,
   "metadata": {},
   "outputs": [
    {
     "data": {
      "text/plain": [
       "0.693528313627878"
      ]
     },
     "execution_count": 63,
     "metadata": {},
     "output_type": "execute_result"
    }
   ],
   "source": [
    "1 - y.mean()"
   ]
  },
  {
   "cell_type": "code",
   "execution_count": 64,
   "metadata": {},
   "outputs": [
    {
     "data": {
      "text/plain": [
       "0.6936236391912908"
      ]
     },
     "execution_count": 64,
     "metadata": {},
     "output_type": "execute_result"
    }
   ],
   "source": [
    "clf_dummy = DummyClassifier(strategy='most_frequent', random_state=42)\n",
    "clf_dummy.fit(X_train, y_train)\n",
    "clf_dummy.score(X_test, y_test)"
   ]
  },
  {
   "cell_type": "code",
   "execution_count": 65,
   "metadata": {},
   "outputs": [
    {
     "data": {
      "text/plain": [
       "0.5909797822706065"
      ]
     },
     "execution_count": 65,
     "metadata": {},
     "output_type": "execute_result"
    }
   ],
   "source": [
    "clf_dummy = DummyClassifier(strategy='stratified', random_state=42)\n",
    "clf_dummy.fit(X_train, y_train)\n",
    "clf_dummy.score(X_test, y_test)"
   ]
  },
  {
   "cell_type": "code",
   "execution_count": 66,
   "metadata": {},
   "outputs": [
    {
     "data": {
      "text/plain": [
       "0.6936236391912908"
      ]
     },
     "execution_count": 66,
     "metadata": {},
     "output_type": "execute_result"
    }
   ],
   "source": [
    "clf_dummy = DummyClassifier(strategy='prior', random_state=42)\n",
    "clf_dummy.fit(X_train, y_train)\n",
    "clf_dummy.score(X_test, y_test)"
   ]
  },
  {
   "cell_type": "code",
   "execution_count": 67,
   "metadata": {},
   "outputs": [
    {
     "data": {
      "text/plain": [
       "0.49144634525660963"
      ]
     },
     "execution_count": 67,
     "metadata": {},
     "output_type": "execute_result"
    }
   ],
   "source": [
    "clf_dummy = DummyClassifier(strategy='uniform', random_state=42)\n",
    "clf_dummy.fit(X_train, y_train)\n",
    "clf_dummy.score(X_test, y_test)"
   ]
  },
  {
   "cell_type": "markdown",
   "metadata": {},
   "source": [
    "Получается, что лучший DummyClassifier выдал точность прогноза 0.6936236391912908. Это почти соответствует доле клиентов на тарифе Смарт. Наши обученные дерево решений и случайный лес явно лучше модели, которая предсказывает нулевой класс для всех. А вот логистическая регрессия совершенно невменяема)"
   ]
  }
 ],
 "metadata": {
  "ExecuteTimeLog": [
   {
    "duration": 1080,
    "start_time": "2021-10-26T16:42:34.940Z"
   },
   {
    "duration": 19,
    "start_time": "2021-10-26T16:42:39.732Z"
   },
   {
    "duration": 19,
    "start_time": "2021-10-26T16:42:45.380Z"
   },
   {
    "duration": 3,
    "start_time": "2021-10-26T16:46:04.324Z"
   },
   {
    "duration": 4,
    "start_time": "2021-10-26T16:46:32.869Z"
   },
   {
    "duration": 8,
    "start_time": "2021-10-26T17:04:00.891Z"
   },
   {
    "duration": 438,
    "start_time": "2021-10-26T17:28:10.815Z"
   },
   {
    "duration": 3,
    "start_time": "2021-10-26T17:28:15.755Z"
   },
   {
    "duration": 19,
    "start_time": "2021-10-26T17:28:56.803Z"
   },
   {
    "duration": 8,
    "start_time": "2021-10-26T17:28:57.712Z"
   },
   {
    "duration": 5,
    "start_time": "2021-10-26T17:29:12.770Z"
   },
   {
    "duration": 1172,
    "start_time": "2021-10-26T17:38:02.278Z"
   },
   {
    "duration": 21,
    "start_time": "2021-10-26T17:38:06.583Z"
   },
   {
    "duration": 17,
    "start_time": "2021-10-26T17:38:07.341Z"
   },
   {
    "duration": 5,
    "start_time": "2021-10-26T17:38:15.916Z"
   },
   {
    "duration": 6,
    "start_time": "2021-10-26T17:39:21.830Z"
   },
   {
    "duration": 3,
    "start_time": "2021-10-26T17:40:57.033Z"
   },
   {
    "duration": 4,
    "start_time": "2021-10-26T17:58:49.510Z"
   },
   {
    "duration": 3,
    "start_time": "2021-10-26T18:02:39.623Z"
   },
   {
    "duration": 6,
    "start_time": "2021-10-26T18:02:46.303Z"
   },
   {
    "duration": 58,
    "start_time": "2021-10-26T18:25:17.348Z"
   },
   {
    "duration": 50,
    "start_time": "2021-10-26T18:25:46.018Z"
   },
   {
    "duration": 473,
    "start_time": "2021-10-26T18:30:29.017Z"
   },
   {
    "duration": 7,
    "start_time": "2021-10-26T18:30:37.357Z"
   },
   {
    "duration": 7,
    "start_time": "2021-10-26T18:30:46.912Z"
   },
   {
    "duration": 7,
    "start_time": "2021-10-26T18:31:15.724Z"
   },
   {
    "duration": 7,
    "start_time": "2021-10-26T18:31:19.716Z"
   },
   {
    "duration": 7,
    "start_time": "2021-10-26T18:31:31.824Z"
   },
   {
    "duration": 7,
    "start_time": "2021-10-26T18:31:37.508Z"
   },
   {
    "duration": 11,
    "start_time": "2021-10-26T18:33:30.408Z"
   },
   {
    "duration": 353,
    "start_time": "2021-10-26T18:34:06.528Z"
   },
   {
    "duration": 5101,
    "start_time": "2021-10-26T18:34:54.762Z"
   },
   {
    "duration": 5,
    "start_time": "2021-10-26T18:35:18.726Z"
   },
   {
    "duration": 4,
    "start_time": "2021-10-26T18:35:39.799Z"
   },
   {
    "duration": 6,
    "start_time": "2021-10-26T18:36:00.819Z"
   },
   {
    "duration": 5,
    "start_time": "2021-10-26T18:36:29.925Z"
   },
   {
    "duration": 8,
    "start_time": "2021-10-26T18:36:31.103Z"
   },
   {
    "duration": 5,
    "start_time": "2021-10-26T18:36:53.020Z"
   },
   {
    "duration": 5,
    "start_time": "2021-10-26T18:37:06.584Z"
   },
   {
    "duration": 14,
    "start_time": "2021-10-26T18:37:43.979Z"
   },
   {
    "duration": 15070,
    "start_time": "2021-10-26T18:39:40.031Z"
   },
   {
    "duration": 417,
    "start_time": "2021-10-26T18:40:54.353Z"
   },
   {
    "duration": 372,
    "start_time": "2021-10-26T18:41:56.263Z"
   },
   {
    "duration": 3,
    "start_time": "2021-10-26T18:42:59.552Z"
   },
   {
    "duration": 7,
    "start_time": "2021-10-26T18:43:01.886Z"
   },
   {
    "duration": 6,
    "start_time": "2021-10-26T18:43:31.411Z"
   },
   {
    "duration": 6,
    "start_time": "2021-10-26T18:44:41.830Z"
   },
   {
    "duration": 6,
    "start_time": "2021-10-26T18:44:48.516Z"
   },
   {
    "duration": 6,
    "start_time": "2021-10-26T18:44:54.046Z"
   },
   {
    "duration": 6,
    "start_time": "2021-10-26T18:45:24.451Z"
   },
   {
    "duration": 3,
    "start_time": "2021-10-26T19:10:06.095Z"
   },
   {
    "duration": 3,
    "start_time": "2021-10-26T19:10:15.063Z"
   },
   {
    "duration": 408,
    "start_time": "2021-10-26T19:13:49.983Z"
   },
   {
    "duration": 4,
    "start_time": "2021-10-26T19:14:04.760Z"
   },
   {
    "duration": 5,
    "start_time": "2021-10-26T19:14:10.437Z"
   },
   {
    "duration": 4,
    "start_time": "2021-10-26T19:15:57.865Z"
   },
   {
    "duration": 6,
    "start_time": "2021-10-26T19:15:59.129Z"
   },
   {
    "duration": 4,
    "start_time": "2021-10-26T19:16:18.833Z"
   },
   {
    "duration": 5,
    "start_time": "2021-10-26T19:16:19.379Z"
   },
   {
    "duration": 4,
    "start_time": "2021-10-26T19:16:46.837Z"
   },
   {
    "duration": 3,
    "start_time": "2021-10-26T19:16:50.064Z"
   },
   {
    "duration": 16670,
    "start_time": "2021-10-26T19:17:11.080Z"
   },
   {
    "duration": 1094,
    "start_time": "2021-10-26T19:58:18.435Z"
   },
   {
    "duration": 20,
    "start_time": "2021-10-26T19:58:20.539Z"
   },
   {
    "duration": 17,
    "start_time": "2021-10-26T19:58:21.607Z"
   },
   {
    "duration": 5,
    "start_time": "2021-10-26T19:58:23.747Z"
   },
   {
    "duration": 6,
    "start_time": "2021-10-26T19:58:30.629Z"
   },
   {
    "duration": 4,
    "start_time": "2021-10-26T19:58:34.155Z"
   },
   {
    "duration": 4,
    "start_time": "2021-10-26T19:58:34.807Z"
   },
   {
    "duration": 2,
    "start_time": "2021-10-26T19:58:37.817Z"
   },
   {
    "duration": 3,
    "start_time": "2021-10-26T19:58:39.275Z"
   },
   {
    "duration": 14802,
    "start_time": "2021-10-26T19:58:40.825Z"
   },
   {
    "duration": 134,
    "start_time": "2021-10-26T19:59:14.216Z"
   },
   {
    "duration": 5,
    "start_time": "2021-10-26T19:59:46.495Z"
   },
   {
    "duration": 456,
    "start_time": "2021-10-26T20:00:20.061Z"
   },
   {
    "duration": 4,
    "start_time": "2021-10-26T20:01:42.017Z"
   },
   {
    "duration": 339,
    "start_time": "2021-10-26T20:01:45.404Z"
   },
   {
    "duration": 508,
    "start_time": "2021-10-26T20:05:10.424Z"
   },
   {
    "duration": 344,
    "start_time": "2021-10-26T20:05:25.742Z"
   },
   {
    "duration": 504,
    "start_time": "2021-10-26T20:05:44.954Z"
   },
   {
    "duration": 478,
    "start_time": "2021-10-26T20:05:53.110Z"
   },
   {
    "duration": 555,
    "start_time": "2021-10-26T20:06:04.405Z"
   },
   {
    "duration": 513,
    "start_time": "2021-10-26T20:06:11.836Z"
   },
   {
    "duration": 448,
    "start_time": "2021-10-26T20:06:20.760Z"
   },
   {
    "duration": 337,
    "start_time": "2021-10-26T20:06:29.402Z"
   },
   {
    "duration": 482,
    "start_time": "2021-10-26T20:06:43.313Z"
   },
   {
    "duration": 454,
    "start_time": "2021-10-26T20:06:48.369Z"
   },
   {
    "duration": 450,
    "start_time": "2021-10-26T20:07:21.821Z"
   },
   {
    "duration": 359,
    "start_time": "2021-10-26T20:07:26.470Z"
   },
   {
    "duration": 341,
    "start_time": "2021-10-26T20:07:32.841Z"
   },
   {
    "duration": 339,
    "start_time": "2021-10-26T20:08:16.499Z"
   },
   {
    "duration": 312,
    "start_time": "2021-10-26T20:08:54.248Z"
   },
   {
    "duration": 394,
    "start_time": "2021-10-26T20:09:03.458Z"
   },
   {
    "duration": 319,
    "start_time": "2021-10-26T20:09:12.511Z"
   },
   {
    "duration": 328,
    "start_time": "2021-10-26T20:09:47.173Z"
   },
   {
    "duration": 453,
    "start_time": "2021-10-26T20:09:51.593Z"
   },
   {
    "duration": 303,
    "start_time": "2021-10-26T20:09:59.433Z"
   },
   {
    "duration": 312,
    "start_time": "2021-10-26T20:10:13.645Z"
   },
   {
    "duration": 322,
    "start_time": "2021-10-26T20:10:17.339Z"
   },
   {
    "duration": 317,
    "start_time": "2021-10-26T20:10:21.937Z"
   },
   {
    "duration": 310,
    "start_time": "2021-10-26T20:10:29.177Z"
   },
   {
    "duration": 472,
    "start_time": "2021-10-26T20:10:47.184Z"
   },
   {
    "duration": 308,
    "start_time": "2021-10-26T20:11:04.596Z"
   },
   {
    "duration": 303,
    "start_time": "2021-10-26T20:11:34.560Z"
   },
   {
    "duration": 674,
    "start_time": "2021-10-26T20:11:44.892Z"
   },
   {
    "duration": 321,
    "start_time": "2021-10-26T20:11:50.864Z"
   },
   {
    "duration": 312,
    "start_time": "2021-10-26T20:11:57.888Z"
   },
   {
    "duration": 467,
    "start_time": "2021-10-26T20:12:11.178Z"
   },
   {
    "duration": 331,
    "start_time": "2021-10-26T20:12:18.955Z"
   },
   {
    "duration": 308,
    "start_time": "2021-10-26T20:12:23.221Z"
   },
   {
    "duration": 321,
    "start_time": "2021-10-26T20:12:39.345Z"
   },
   {
    "duration": 310,
    "start_time": "2021-10-26T20:12:45.243Z"
   },
   {
    "duration": 322,
    "start_time": "2021-10-26T20:12:51.600Z"
   },
   {
    "duration": 477,
    "start_time": "2021-10-26T20:13:02.237Z"
   },
   {
    "duration": 350,
    "start_time": "2021-10-26T20:13:08.462Z"
   },
   {
    "duration": 295,
    "start_time": "2021-10-26T20:14:22.230Z"
   },
   {
    "duration": 287,
    "start_time": "2021-10-26T20:14:32.756Z"
   },
   {
    "duration": 311,
    "start_time": "2021-10-26T20:14:40.552Z"
   },
   {
    "duration": 346,
    "start_time": "2021-10-26T20:14:49.570Z"
   },
   {
    "duration": 4,
    "start_time": "2021-10-26T20:17:00.545Z"
   },
   {
    "duration": 4,
    "start_time": "2021-10-26T20:17:45.132Z"
   },
   {
    "duration": 4,
    "start_time": "2021-10-26T20:17:45.718Z"
   },
   {
    "duration": 11765,
    "start_time": "2021-10-26T20:22:12.821Z"
   },
   {
    "duration": 1452,
    "start_time": "2021-10-26T20:22:35.336Z"
   },
   {
    "duration": 21,
    "start_time": "2021-10-26T20:22:36.791Z"
   },
   {
    "duration": 17,
    "start_time": "2021-10-26T20:22:36.816Z"
   },
   {
    "duration": 5,
    "start_time": "2021-10-26T20:22:36.835Z"
   },
   {
    "duration": 7,
    "start_time": "2021-10-26T20:22:36.842Z"
   },
   {
    "duration": 5,
    "start_time": "2021-10-26T20:22:36.851Z"
   },
   {
    "duration": 11,
    "start_time": "2021-10-26T20:22:36.876Z"
   },
   {
    "duration": 3,
    "start_time": "2021-10-26T20:22:36.890Z"
   },
   {
    "duration": 6,
    "start_time": "2021-10-26T20:22:36.896Z"
   },
   {
    "duration": 14100,
    "start_time": "2021-10-26T20:22:39.524Z"
   },
   {
    "duration": 5,
    "start_time": "2021-10-26T20:22:55.964Z"
   },
   {
    "duration": 14802,
    "start_time": "2021-10-26T20:23:15.436Z"
   },
   {
    "duration": 4,
    "start_time": "2021-10-26T20:23:35.729Z"
   },
   {
    "duration": 2,
    "start_time": "2021-10-26T20:23:55.509Z"
   },
   {
    "duration": 3,
    "start_time": "2021-10-26T20:31:09.212Z"
   },
   {
    "duration": 64946,
    "start_time": "2021-10-26T20:31:13.272Z"
   },
   {
    "duration": 4,
    "start_time": "2021-10-26T20:32:58.949Z"
   },
   {
    "duration": 439,
    "start_time": "2021-10-26T20:33:10.361Z"
   },
   {
    "duration": 4,
    "start_time": "2021-10-26T20:33:23.559Z"
   },
   {
    "duration": 64962,
    "start_time": "2021-10-26T20:33:54.251Z"
   },
   {
    "duration": 5,
    "start_time": "2021-10-26T20:35:12.616Z"
   },
   {
    "duration": 477,
    "start_time": "2021-10-26T20:35:42.287Z"
   },
   {
    "duration": 1442,
    "start_time": "2021-10-26T20:37:10.877Z"
   },
   {
    "duration": 19,
    "start_time": "2021-10-26T20:37:12.321Z"
   },
   {
    "duration": 15,
    "start_time": "2021-10-26T20:37:12.343Z"
   },
   {
    "duration": 16,
    "start_time": "2021-10-26T20:37:12.361Z"
   },
   {
    "duration": 10,
    "start_time": "2021-10-26T20:37:12.380Z"
   },
   {
    "duration": 7,
    "start_time": "2021-10-26T20:37:12.394Z"
   },
   {
    "duration": 6,
    "start_time": "2021-10-26T20:37:12.403Z"
   },
   {
    "duration": 2,
    "start_time": "2021-10-26T20:37:12.413Z"
   },
   {
    "duration": 6,
    "start_time": "2021-10-26T20:37:12.418Z"
   },
   {
    "duration": 14454,
    "start_time": "2021-10-26T20:37:12.426Z"
   },
   {
    "duration": 4,
    "start_time": "2021-10-26T20:37:26.883Z"
   },
   {
    "duration": 6,
    "start_time": "2021-10-26T20:37:26.889Z"
   },
   {
    "duration": 69951,
    "start_time": "2021-10-26T20:37:26.897Z"
   },
   {
    "duration": 5,
    "start_time": "2021-10-26T20:38:36.850Z"
   },
   {
    "duration": 2,
    "start_time": "2021-10-26T20:43:08.499Z"
   },
   {
    "duration": 5,
    "start_time": "2021-10-26T20:44:23.822Z"
   },
   {
    "duration": 2,
    "start_time": "2021-10-26T20:46:46.650Z"
   },
   {
    "duration": 4,
    "start_time": "2021-10-26T20:48:36.018Z"
   },
   {
    "duration": 22467,
    "start_time": "2021-10-26T20:48:36.906Z"
   },
   {
    "duration": 3,
    "start_time": "2021-10-26T20:51:00.540Z"
   },
   {
    "duration": 1321,
    "start_time": "2021-10-26T20:51:23.970Z"
   },
   {
    "duration": 19,
    "start_time": "2021-10-26T20:51:25.296Z"
   },
   {
    "duration": 13,
    "start_time": "2021-10-26T20:51:25.317Z"
   },
   {
    "duration": 5,
    "start_time": "2021-10-26T20:51:25.331Z"
   },
   {
    "duration": 6,
    "start_time": "2021-10-26T20:51:25.338Z"
   },
   {
    "duration": 5,
    "start_time": "2021-10-26T20:51:25.346Z"
   },
   {
    "duration": 25,
    "start_time": "2021-10-26T20:51:25.352Z"
   },
   {
    "duration": 3,
    "start_time": "2021-10-26T20:51:25.383Z"
   },
   {
    "duration": 12,
    "start_time": "2021-10-26T20:51:25.389Z"
   },
   {
    "duration": 17320,
    "start_time": "2021-10-26T20:51:25.404Z"
   },
   {
    "duration": 4,
    "start_time": "2021-10-26T20:51:42.726Z"
   },
   {
    "duration": 6,
    "start_time": "2021-10-26T20:51:42.732Z"
   },
   {
    "duration": 76252,
    "start_time": "2021-10-26T20:51:42.740Z"
   },
   {
    "duration": 5,
    "start_time": "2021-10-26T20:52:58.995Z"
   },
   {
    "duration": 3,
    "start_time": "2021-10-26T20:52:59.004Z"
   },
   {
    "duration": 9,
    "start_time": "2021-10-26T20:52:59.011Z"
   },
   {
    "duration": 6,
    "start_time": "2021-10-26T20:52:59.022Z"
   },
   {
    "duration": 103,
    "start_time": "2021-10-26T20:53:24.050Z"
   },
   {
    "duration": 116,
    "start_time": "2021-10-26T20:53:35.746Z"
   },
   {
    "duration": 4,
    "start_time": "2021-10-26T20:54:16.141Z"
   },
   {
    "duration": 244375,
    "start_time": "2021-10-26T20:54:19.931Z"
   },
   {
    "duration": 1237,
    "start_time": "2021-10-26T20:58:51.643Z"
   },
   {
    "duration": 20,
    "start_time": "2021-10-26T20:58:52.883Z"
   },
   {
    "duration": 12,
    "start_time": "2021-10-26T20:58:52.905Z"
   },
   {
    "duration": 8,
    "start_time": "2021-10-26T20:58:52.919Z"
   },
   {
    "duration": 11,
    "start_time": "2021-10-26T20:58:52.929Z"
   },
   {
    "duration": 5,
    "start_time": "2021-10-26T20:58:52.942Z"
   },
   {
    "duration": 5,
    "start_time": "2021-10-26T20:58:52.949Z"
   },
   {
    "duration": 27,
    "start_time": "2021-10-26T20:58:52.956Z"
   },
   {
    "duration": 4,
    "start_time": "2021-10-26T20:58:52.987Z"
   },
   {
    "duration": 13366,
    "start_time": "2021-10-26T20:58:52.993Z"
   },
   {
    "duration": 4,
    "start_time": "2021-10-26T20:59:06.361Z"
   },
   {
    "duration": 12,
    "start_time": "2021-10-26T20:59:06.366Z"
   },
   {
    "duration": 53001,
    "start_time": "2021-10-26T20:59:06.380Z"
   },
   {
    "duration": 5,
    "start_time": "2021-10-26T20:59:59.386Z"
   },
   {
    "duration": 5,
    "start_time": "2021-10-26T20:59:59.393Z"
   },
   {
    "duration": 7,
    "start_time": "2021-10-26T20:59:59.400Z"
   },
   {
    "duration": 3,
    "start_time": "2021-10-26T20:59:59.409Z"
   },
   {
    "duration": 6,
    "start_time": "2021-10-26T20:59:59.414Z"
   },
   {
    "duration": 4,
    "start_time": "2021-10-26T21:00:08.770Z"
   },
   {
    "duration": 53407,
    "start_time": "2021-10-26T21:00:11.307Z"
   },
   {
    "duration": 5,
    "start_time": "2021-10-26T21:01:06.335Z"
   },
   {
    "duration": 3,
    "start_time": "2021-10-26T21:01:12.263Z"
   },
   {
    "duration": 6,
    "start_time": "2021-10-26T21:01:12.899Z"
   },
   {
    "duration": 3,
    "start_time": "2021-10-26T21:01:28.566Z"
   },
   {
    "duration": 5,
    "start_time": "2021-10-26T21:01:44.837Z"
   },
   {
    "duration": 221417,
    "start_time": "2021-10-26T21:01:49.051Z"
   },
   {
    "duration": 3,
    "start_time": "2021-10-26T21:06:05.096Z"
   },
   {
    "duration": 3,
    "start_time": "2021-10-26T21:06:11.282Z"
   },
   {
    "duration": 4,
    "start_time": "2021-10-26T21:06:12.100Z"
   },
   {
    "duration": 382,
    "start_time": "2021-10-26T21:06:14.082Z"
   },
   {
    "duration": 3,
    "start_time": "2021-10-26T21:07:05.463Z"
   },
   {
    "duration": 26010,
    "start_time": "2021-10-26T21:07:07.041Z"
   },
   {
    "duration": 4,
    "start_time": "2021-10-26T21:07:36.759Z"
   },
   {
    "duration": 4,
    "start_time": "2021-10-26T21:08:12.313Z"
   },
   {
    "duration": 337,
    "start_time": "2021-10-26T21:08:15.249Z"
   },
   {
    "duration": 967,
    "start_time": "2021-10-26T21:08:28.883Z"
   },
   {
    "duration": 3,
    "start_time": "2021-10-26T21:09:02.240Z"
   },
   {
    "duration": 334463,
    "start_time": "2021-10-26T21:09:03.810Z"
   },
   {
    "duration": 5,
    "start_time": "2021-10-26T21:14:42.633Z"
   },
   {
    "duration": 4,
    "start_time": "2021-10-26T21:16:35.646Z"
   },
   {
    "duration": 1748068,
    "start_time": "2021-10-26T21:17:30.884Z"
   },
   {
    "duration": 4,
    "start_time": "2021-10-26T21:47:36.507Z"
   },
   {
    "duration": 2,
    "start_time": "2021-10-26T21:47:48.219Z"
   },
   {
    "duration": 21,
    "start_time": "2021-10-26T21:47:49.747Z"
   },
   {
    "duration": 4,
    "start_time": "2021-10-26T21:47:56.299Z"
   },
   {
    "duration": 3,
    "start_time": "2021-10-26T21:47:57.860Z"
   },
   {
    "duration": 6944,
    "start_time": "2021-10-26T21:47:59.851Z"
   },
   {
    "duration": 9,
    "start_time": "2021-10-26T21:48:20.583Z"
   },
   {
    "duration": 3,
    "start_time": "2021-10-26T21:48:46.000Z"
   },
   {
    "duration": 102,
    "start_time": "2021-10-26T21:48:48.930Z"
   },
   {
    "duration": 4,
    "start_time": "2021-10-26T21:48:54.130Z"
   },
   {
    "duration": 3,
    "start_time": "2021-10-26T21:48:57.738Z"
   },
   {
    "duration": 7,
    "start_time": "2021-10-26T21:48:59.538Z"
   },
   {
    "duration": 1439,
    "start_time": "2021-10-27T09:59:55.901Z"
   },
   {
    "duration": 22,
    "start_time": "2021-10-27T09:59:58.709Z"
   },
   {
    "duration": 24,
    "start_time": "2021-10-27T09:59:59.576Z"
   },
   {
    "duration": 5,
    "start_time": "2021-10-27T10:00:19.935Z"
   },
   {
    "duration": 7,
    "start_time": "2021-10-27T10:00:22.819Z"
   },
   {
    "duration": 4,
    "start_time": "2021-10-27T10:11:06.218Z"
   },
   {
    "duration": 6,
    "start_time": "2021-10-27T10:11:10.442Z"
   },
   {
    "duration": 13258,
    "start_time": "2021-10-27T10:11:14.266Z"
   },
   {
    "duration": 4,
    "start_time": "2021-10-27T10:11:52.361Z"
   },
   {
    "duration": 4,
    "start_time": "2021-10-27T10:11:52.931Z"
   },
   {
    "duration": 31437,
    "start_time": "2021-10-27T10:11:53.545Z"
   },
   {
    "duration": 3,
    "start_time": "2021-10-27T10:12:30.621Z"
   },
   {
    "duration": 5,
    "start_time": "2021-10-27T10:12:32.780Z"
   },
   {
    "duration": 14709,
    "start_time": "2021-10-27T10:12:33.750Z"
   },
   {
    "duration": 4,
    "start_time": "2021-10-27T10:13:56.254Z"
   },
   {
    "duration": 4,
    "start_time": "2021-10-27T10:13:56.820Z"
   },
   {
    "duration": 11632,
    "start_time": "2021-10-27T10:13:57.601Z"
   },
   {
    "duration": 4,
    "start_time": "2021-10-27T10:14:33.453Z"
   },
   {
    "duration": 5,
    "start_time": "2021-10-27T10:14:34.734Z"
   },
   {
    "duration": 157833,
    "start_time": "2021-10-27T10:14:35.257Z"
   },
   {
    "duration": 3,
    "start_time": "2021-10-27T10:17:49.351Z"
   },
   {
    "duration": 4,
    "start_time": "2021-10-27T10:17:49.975Z"
   },
   {
    "duration": 24610,
    "start_time": "2021-10-27T10:17:51.093Z"
   },
   {
    "duration": 4,
    "start_time": "2021-10-27T10:19:00.507Z"
   },
   {
    "duration": 4,
    "start_time": "2021-10-27T10:19:01.113Z"
   },
   {
    "duration": 27106,
    "start_time": "2021-10-27T10:19:01.763Z"
   },
   {
    "duration": 3,
    "start_time": "2021-10-27T10:19:42.442Z"
   },
   {
    "duration": 4,
    "start_time": "2021-10-27T10:19:43.246Z"
   },
   {
    "duration": 11419,
    "start_time": "2021-10-27T10:19:45.318Z"
   },
   {
    "duration": 6,
    "start_time": "2021-10-27T10:20:02.028Z"
   },
   {
    "duration": 4,
    "start_time": "2021-10-27T10:20:11.336Z"
   },
   {
    "duration": 458,
    "start_time": "2021-10-27T10:20:15.572Z"
   },
   {
    "duration": 350,
    "start_time": "2021-10-27T10:29:38.242Z"
   },
   {
    "duration": 126,
    "start_time": "2021-10-27T10:30:32.325Z"
   },
   {
    "duration": 334,
    "start_time": "2021-10-27T10:30:44.623Z"
   },
   {
    "duration": 227,
    "start_time": "2021-10-27T10:32:59.678Z"
   },
   {
    "duration": 5,
    "start_time": "2021-10-27T10:33:06.267Z"
   },
   {
    "duration": 4,
    "start_time": "2021-10-27T10:33:09.321Z"
   },
   {
    "duration": 8,
    "start_time": "2021-10-27T10:33:10.331Z"
   },
   {
    "duration": 206,
    "start_time": "2021-10-27T10:33:19.657Z"
   },
   {
    "duration": 517,
    "start_time": "2021-10-27T10:33:22.387Z"
   },
   {
    "duration": 338,
    "start_time": "2021-10-27T10:33:33.525Z"
   },
   {
    "duration": 241,
    "start_time": "2021-10-27T10:33:51.661Z"
   },
   {
    "duration": 6,
    "start_time": "2021-10-27T10:33:54.905Z"
   },
   {
    "duration": 4,
    "start_time": "2021-10-27T10:33:57.557Z"
   },
   {
    "duration": 9,
    "start_time": "2021-10-27T10:33:58.063Z"
   },
   {
    "duration": 188,
    "start_time": "2021-10-27T10:34:10.758Z"
   },
   {
    "duration": 6,
    "start_time": "2021-10-27T10:34:12.724Z"
   },
   {
    "duration": 3,
    "start_time": "2021-10-27T10:34:13.490Z"
   },
   {
    "duration": 8,
    "start_time": "2021-10-27T10:34:15.139Z"
   },
   {
    "duration": 1335,
    "start_time": "2021-10-29T15:05:27.837Z"
   },
   {
    "duration": 21,
    "start_time": "2021-10-29T15:05:30.481Z"
   },
   {
    "duration": 22,
    "start_time": "2021-10-29T15:05:31.051Z"
   },
   {
    "duration": 6,
    "start_time": "2021-10-29T15:05:33.515Z"
   },
   {
    "duration": 8,
    "start_time": "2021-10-29T15:05:50.935Z"
   },
   {
    "duration": 6,
    "start_time": "2021-10-29T15:05:55.780Z"
   },
   {
    "duration": 6,
    "start_time": "2021-10-29T15:05:56.599Z"
   },
   {
    "duration": 4,
    "start_time": "2021-10-29T15:06:09.503Z"
   },
   {
    "duration": 5,
    "start_time": "2021-10-29T15:06:10.103Z"
   },
   {
    "duration": 14156,
    "start_time": "2021-10-29T15:06:24.507Z"
   },
   {
    "duration": 5,
    "start_time": "2021-10-29T15:06:44.263Z"
   },
   {
    "duration": 4,
    "start_time": "2021-10-29T15:07:06.640Z"
   },
   {
    "duration": 356,
    "start_time": "2021-10-29T15:08:13.411Z"
   },
   {
    "duration": 5,
    "start_time": "2021-10-29T15:08:41.677Z"
   },
   {
    "duration": 32698,
    "start_time": "2021-10-29T15:08:42.935Z"
   },
   {
    "duration": 5,
    "start_time": "2021-10-29T15:09:19.158Z"
   },
   {
    "duration": 3,
    "start_time": "2021-10-29T15:11:33.297Z"
   },
   {
    "duration": 5,
    "start_time": "2021-10-29T15:11:52.161Z"
   },
   {
    "duration": 6,
    "start_time": "2021-10-29T15:11:56.562Z"
   },
   {
    "duration": 4,
    "start_time": "2021-10-29T15:13:14.565Z"
   },
   {
    "duration": 4,
    "start_time": "2021-10-29T15:13:27.911Z"
   },
   {
    "duration": 224493,
    "start_time": "2021-10-29T15:13:30.365Z"
   },
   {
    "duration": 6,
    "start_time": "2021-10-29T15:17:21.416Z"
   },
   {
    "duration": 4,
    "start_time": "2021-10-29T15:18:01.295Z"
   },
   {
    "duration": 144244,
    "start_time": "2021-10-29T15:18:04.460Z"
   },
   {
    "duration": 6,
    "start_time": "2021-10-29T15:31:53.025Z"
   },
   {
    "duration": 3,
    "start_time": "2021-10-29T15:31:58.034Z"
   },
   {
    "duration": 20,
    "start_time": "2021-10-29T15:31:59.433Z"
   },
   {
    "duration": 7,
    "start_time": "2021-10-29T15:32:02.487Z"
   },
   {
    "duration": 3,
    "start_time": "2021-10-29T15:32:39.918Z"
   },
   {
    "duration": 5,
    "start_time": "2021-10-29T15:32:41.734Z"
   },
   {
    "duration": 11461,
    "start_time": "2021-10-29T15:32:42.726Z"
   },
   {
    "duration": 6,
    "start_time": "2021-10-29T15:32:57.766Z"
   },
   {
    "duration": 4,
    "start_time": "2021-10-29T15:33:12.704Z"
   },
   {
    "duration": 110,
    "start_time": "2021-10-29T15:33:18.552Z"
   },
   {
    "duration": 5,
    "start_time": "2021-10-29T15:33:23.824Z"
   },
   {
    "duration": 4,
    "start_time": "2021-10-29T15:33:27.926Z"
   },
   {
    "duration": 5,
    "start_time": "2021-10-29T15:33:29.468Z"
   },
   {
    "duration": 7,
    "start_time": "2021-10-29T15:33:31.026Z"
   },
   {
    "duration": 5,
    "start_time": "2021-10-29T15:34:44.857Z"
   },
   {
    "duration": 7,
    "start_time": "2021-10-29T15:34:45.843Z"
   },
   {
    "duration": 30,
    "start_time": "2021-10-29T15:35:07.268Z"
   },
   {
    "duration": 7,
    "start_time": "2021-10-29T15:35:08.066Z"
   },
   {
    "duration": 11,
    "start_time": "2021-10-29T15:35:27.628Z"
   },
   {
    "duration": 6,
    "start_time": "2021-10-29T15:35:28.226Z"
   },
   {
    "duration": 5,
    "start_time": "2021-10-29T15:36:04.987Z"
   },
   {
    "duration": 5,
    "start_time": "2021-10-29T15:36:29.334Z"
   },
   {
    "duration": 6,
    "start_time": "2021-10-29T15:36:42.196Z"
   },
   {
    "duration": 1322,
    "start_time": "2021-10-29T16:41:32.656Z"
   },
   {
    "duration": 21,
    "start_time": "2021-10-29T16:41:33.986Z"
   },
   {
    "duration": 34,
    "start_time": "2021-10-29T16:41:34.010Z"
   },
   {
    "duration": 7,
    "start_time": "2021-10-29T16:41:34.046Z"
   },
   {
    "duration": 17,
    "start_time": "2021-10-29T16:41:34.056Z"
   },
   {
    "duration": 18,
    "start_time": "2021-10-29T16:41:34.076Z"
   },
   {
    "duration": 13,
    "start_time": "2021-10-29T16:41:34.099Z"
   },
   {
    "duration": 16,
    "start_time": "2021-10-29T16:41:34.115Z"
   },
   {
    "duration": 10,
    "start_time": "2021-10-29T16:41:34.134Z"
   },
   {
    "duration": 14418,
    "start_time": "2021-10-29T16:41:34.147Z"
   },
   {
    "duration": 5,
    "start_time": "2021-10-29T16:41:48.568Z"
   },
   {
    "duration": 9,
    "start_time": "2021-10-29T16:41:48.575Z"
   },
   {
    "duration": 33052,
    "start_time": "2021-10-29T16:41:48.586Z"
   },
   {
    "duration": 5,
    "start_time": "2021-10-29T16:42:21.640Z"
   },
   {
    "duration": 10,
    "start_time": "2021-10-29T16:42:21.647Z"
   },
   {
    "duration": 11,
    "start_time": "2021-10-29T16:42:21.659Z"
   },
   {
    "duration": 11,
    "start_time": "2021-10-29T16:42:21.672Z"
   },
   {
    "duration": 13,
    "start_time": "2021-10-29T16:42:21.685Z"
   },
   {
    "duration": 7,
    "start_time": "2021-10-29T16:42:21.701Z"
   },
   {
    "duration": 229969,
    "start_time": "2021-10-29T16:42:21.710Z"
   },
   {
    "duration": 10,
    "start_time": "2021-10-29T16:46:11.682Z"
   },
   {
    "duration": 6,
    "start_time": "2021-10-29T16:46:11.700Z"
   },
   {
    "duration": 150628,
    "start_time": "2021-10-29T16:46:11.710Z"
   },
   {
    "duration": 6,
    "start_time": "2021-10-29T16:48:42.341Z"
   },
   {
    "duration": 11,
    "start_time": "2021-10-29T16:48:42.349Z"
   },
   {
    "duration": 36,
    "start_time": "2021-10-29T16:48:42.363Z"
   },
   {
    "duration": 6,
    "start_time": "2021-10-29T16:48:42.401Z"
   },
   {
    "duration": 3,
    "start_time": "2021-10-29T16:48:42.429Z"
   },
   {
    "duration": 5,
    "start_time": "2021-10-29T16:48:42.435Z"
   },
   {
    "duration": 12386,
    "start_time": "2021-10-29T16:48:42.443Z"
   },
   {
    "duration": 6,
    "start_time": "2021-10-29T16:48:54.832Z"
   },
   {
    "duration": 6,
    "start_time": "2021-10-29T16:48:54.842Z"
   },
   {
    "duration": 145,
    "start_time": "2021-10-29T16:48:54.851Z"
   },
   {
    "duration": 6,
    "start_time": "2021-10-29T16:48:54.999Z"
   },
   {
    "duration": 22,
    "start_time": "2021-10-29T16:48:55.007Z"
   },
   {
    "duration": 107,
    "start_time": "2021-10-29T16:48:55.033Z"
   },
   {
    "duration": 88,
    "start_time": "2021-10-29T16:48:55.144Z"
   },
   {
    "duration": 14,
    "start_time": "2021-10-29T16:48:55.234Z"
   },
   {
    "duration": 11,
    "start_time": "2021-10-29T16:48:55.251Z"
   },
   {
    "duration": 22,
    "start_time": "2021-10-29T16:48:55.265Z"
   },
   {
    "duration": 7,
    "start_time": "2021-10-29T16:48:55.289Z"
   },
   {
    "duration": 37,
    "start_time": "2021-10-29T16:48:55.298Z"
   },
   {
    "duration": 12,
    "start_time": "2021-10-29T16:48:55.338Z"
   },
   {
    "duration": 1544,
    "start_time": "2021-10-30T13:33:59.616Z"
   },
   {
    "duration": 43,
    "start_time": "2021-10-30T13:34:01.162Z"
   },
   {
    "duration": 21,
    "start_time": "2021-10-30T13:34:01.209Z"
   },
   {
    "duration": 5,
    "start_time": "2021-10-30T13:34:01.233Z"
   },
   {
    "duration": 8,
    "start_time": "2021-10-30T13:34:01.241Z"
   },
   {
    "duration": 8,
    "start_time": "2021-10-30T13:34:01.251Z"
   },
   {
    "duration": 23,
    "start_time": "2021-10-30T13:34:01.261Z"
   },
   {
    "duration": 13,
    "start_time": "2021-10-30T13:34:01.286Z"
   },
   {
    "duration": 9,
    "start_time": "2021-10-30T13:34:01.303Z"
   },
   {
    "duration": 13821,
    "start_time": "2021-10-30T13:34:01.315Z"
   },
   {
    "duration": 6,
    "start_time": "2021-10-30T13:34:15.138Z"
   },
   {
    "duration": 5,
    "start_time": "2021-10-30T13:34:15.146Z"
   },
   {
    "duration": 34433,
    "start_time": "2021-10-30T13:34:15.154Z"
   },
   {
    "duration": 5,
    "start_time": "2021-10-30T13:34:49.590Z"
   },
   {
    "duration": 4,
    "start_time": "2021-10-30T13:34:49.597Z"
   },
   {
    "duration": 8,
    "start_time": "2021-10-30T13:34:49.604Z"
   },
   {
    "duration": 10,
    "start_time": "2021-10-30T13:34:49.614Z"
   },
   {
    "duration": 3,
    "start_time": "2021-10-30T13:34:49.627Z"
   },
   {
    "duration": 6,
    "start_time": "2021-10-30T13:34:49.633Z"
   },
   {
    "duration": 220366,
    "start_time": "2021-10-30T13:34:49.642Z"
   },
   {
    "duration": 6,
    "start_time": "2021-10-30T13:38:30.010Z"
   },
   {
    "duration": 15,
    "start_time": "2021-10-30T13:38:30.018Z"
   },
   {
    "duration": 147272,
    "start_time": "2021-10-30T13:38:30.035Z"
   },
   {
    "duration": 6,
    "start_time": "2021-10-30T13:40:57.310Z"
   },
   {
    "duration": 15,
    "start_time": "2021-10-30T13:40:57.318Z"
   },
   {
    "duration": 46,
    "start_time": "2021-10-30T13:40:57.336Z"
   },
   {
    "duration": 7,
    "start_time": "2021-10-30T13:40:57.387Z"
   },
   {
    "duration": 5,
    "start_time": "2021-10-30T13:40:57.397Z"
   },
   {
    "duration": 8,
    "start_time": "2021-10-30T13:40:57.404Z"
   },
   {
    "duration": 11519,
    "start_time": "2021-10-30T13:40:57.414Z"
   },
   {
    "duration": 5,
    "start_time": "2021-10-30T13:41:08.937Z"
   },
   {
    "duration": 10,
    "start_time": "2021-10-30T13:41:08.944Z"
   },
   {
    "duration": 134,
    "start_time": "2021-10-30T13:41:08.957Z"
   },
   {
    "duration": 5,
    "start_time": "2021-10-30T13:41:09.094Z"
   },
   {
    "duration": 7,
    "start_time": "2021-10-30T13:41:09.101Z"
   },
   {
    "duration": 12,
    "start_time": "2021-10-30T13:41:09.110Z"
   },
   {
    "duration": 66,
    "start_time": "2021-10-30T13:41:09.125Z"
   },
   {
    "duration": 90,
    "start_time": "2021-10-30T13:41:09.194Z"
   },
   {
    "duration": 8,
    "start_time": "2021-10-30T13:41:09.287Z"
   },
   {
    "duration": 19,
    "start_time": "2021-10-30T13:41:09.297Z"
   },
   {
    "duration": 5,
    "start_time": "2021-10-30T13:41:09.318Z"
   },
   {
    "duration": 5,
    "start_time": "2021-10-30T13:41:09.325Z"
   },
   {
    "duration": 50,
    "start_time": "2021-10-30T13:41:09.332Z"
   },
   {
    "duration": 1022,
    "start_time": "2021-10-31T14:18:26.907Z"
   },
   {
    "duration": 20,
    "start_time": "2021-10-31T14:18:31.272Z"
   },
   {
    "duration": 14,
    "start_time": "2021-10-31T14:18:31.927Z"
   },
   {
    "duration": 7,
    "start_time": "2021-10-31T14:21:12.828Z"
   },
   {
    "duration": 7,
    "start_time": "2021-10-31T14:21:26.141Z"
   },
   {
    "duration": 7,
    "start_time": "2021-10-31T14:24:20.985Z"
   },
   {
    "duration": 7,
    "start_time": "2021-10-31T14:24:26.593Z"
   },
   {
    "duration": 9,
    "start_time": "2021-10-31T14:25:21.061Z"
   },
   {
    "duration": 8,
    "start_time": "2021-10-31T14:52:31.644Z"
   },
   {
    "duration": 354,
    "start_time": "2021-10-31T14:52:59.274Z"
   },
   {
    "duration": 4,
    "start_time": "2021-10-31T14:53:44.404Z"
   },
   {
    "duration": 365,
    "start_time": "2021-10-31T14:54:00.033Z"
   },
   {
    "duration": 9,
    "start_time": "2021-10-31T14:54:54.795Z"
   },
   {
    "duration": 5,
    "start_time": "2021-10-31T14:55:54.952Z"
   },
   {
    "duration": 8,
    "start_time": "2021-10-31T14:56:02.040Z"
   },
   {
    "duration": 7,
    "start_time": "2021-10-31T14:56:17.437Z"
   },
   {
    "duration": 18,
    "start_time": "2021-10-31T14:57:04.616Z"
   },
   {
    "duration": 8,
    "start_time": "2021-10-31T14:57:05.376Z"
   },
   {
    "duration": 7,
    "start_time": "2021-10-31T14:57:06.654Z"
   },
   {
    "duration": 5,
    "start_time": "2021-10-31T14:57:07.352Z"
   },
   {
    "duration": 6,
    "start_time": "2021-10-31T14:57:08.660Z"
   },
   {
    "duration": 6,
    "start_time": "2021-10-31T14:57:11.327Z"
   },
   {
    "duration": 336,
    "start_time": "2021-10-31T14:59:32.504Z"
   },
   {
    "duration": 2797,
    "start_time": "2021-10-31T15:01:30.823Z"
   },
   {
    "duration": 2649,
    "start_time": "2021-10-31T15:01:41.345Z"
   },
   {
    "duration": 235,
    "start_time": "2021-10-31T15:02:35.673Z"
   },
   {
    "duration": 337,
    "start_time": "2021-10-31T15:02:58.423Z"
   },
   {
    "duration": 4,
    "start_time": "2021-10-31T15:09:32.176Z"
   },
   {
    "duration": 7,
    "start_time": "2021-10-31T15:09:38.623Z"
   },
   {
    "duration": 6,
    "start_time": "2021-10-31T15:10:14.937Z"
   },
   {
    "duration": 21,
    "start_time": "2021-10-31T15:12:31.038Z"
   },
   {
    "duration": 389,
    "start_time": "2021-10-31T15:16:14.077Z"
   },
   {
    "duration": 312,
    "start_time": "2021-10-31T15:16:29.496Z"
   },
   {
    "duration": 425,
    "start_time": "2021-10-31T15:17:16.762Z"
   },
   {
    "duration": 369,
    "start_time": "2021-10-31T15:17:35.506Z"
   },
   {
    "duration": 374,
    "start_time": "2021-10-31T15:17:40.294Z"
   },
   {
    "duration": 393,
    "start_time": "2021-10-31T15:17:44.650Z"
   },
   {
    "duration": 305,
    "start_time": "2021-10-31T15:18:22.820Z"
   },
   {
    "duration": 4,
    "start_time": "2021-10-31T15:22:23.149Z"
   },
   {
    "duration": 7,
    "start_time": "2021-10-31T15:22:30.371Z"
   },
   {
    "duration": 62,
    "start_time": "2021-10-31T15:22:42.451Z"
   },
   {
    "duration": 4,
    "start_time": "2021-10-31T15:22:49.941Z"
   },
   {
    "duration": 4,
    "start_time": "2021-10-31T15:22:59.916Z"
   },
   {
    "duration": 4,
    "start_time": "2021-10-31T15:23:17.011Z"
   },
   {
    "duration": 4,
    "start_time": "2021-10-31T15:23:50.904Z"
   },
   {
    "duration": 3,
    "start_time": "2021-10-31T15:23:51.659Z"
   },
   {
    "duration": 4,
    "start_time": "2021-10-31T15:24:13.400Z"
   },
   {
    "duration": 4,
    "start_time": "2021-10-31T15:25:09.217Z"
   },
   {
    "duration": 166,
    "start_time": "2021-10-31T15:28:09.287Z"
   },
   {
    "duration": 7,
    "start_time": "2021-10-31T15:30:21.498Z"
   },
   {
    "duration": 4,
    "start_time": "2021-10-31T15:30:25.670Z"
   },
   {
    "duration": 4,
    "start_time": "2021-10-31T15:30:26.824Z"
   },
   {
    "duration": 4,
    "start_time": "2021-10-31T15:30:27.838Z"
   },
   {
    "duration": 4,
    "start_time": "2021-10-31T15:30:28.426Z"
   },
   {
    "duration": 4,
    "start_time": "2021-10-31T15:30:29.140Z"
   },
   {
    "duration": 292,
    "start_time": "2021-10-31T15:31:06.662Z"
   },
   {
    "duration": 298,
    "start_time": "2021-10-31T15:31:15.528Z"
   },
   {
    "duration": 4,
    "start_time": "2021-10-31T15:31:44.639Z"
   },
   {
    "duration": 5,
    "start_time": "2021-10-31T15:31:53.632Z"
   },
   {
    "duration": 5,
    "start_time": "2021-10-31T15:32:17.295Z"
   },
   {
    "duration": 4,
    "start_time": "2021-10-31T15:32:18.467Z"
   },
   {
    "duration": 5,
    "start_time": "2021-10-31T15:32:19.203Z"
   },
   {
    "duration": 4,
    "start_time": "2021-10-31T15:33:27.828Z"
   },
   {
    "duration": 4,
    "start_time": "2021-10-31T15:33:29.386Z"
   },
   {
    "duration": 2,
    "start_time": "2021-10-31T15:47:07.768Z"
   },
   {
    "duration": 57,
    "start_time": "2021-10-31T15:47:08.791Z"
   },
   {
    "duration": 177,
    "start_time": "2021-10-31T15:47:17.024Z"
   },
   {
    "duration": 3,
    "start_time": "2021-10-31T15:47:20.808Z"
   },
   {
    "duration": 12145,
    "start_time": "2021-10-31T15:47:25.516Z"
   },
   {
    "duration": 225,
    "start_time": "2021-10-31T15:53:05.758Z"
   },
   {
    "duration": 3,
    "start_time": "2021-10-31T15:53:51.277Z"
   },
   {
    "duration": 852,
    "start_time": "2021-10-31T15:53:52.468Z"
   },
   {
    "duration": 3,
    "start_time": "2021-10-31T15:54:44.136Z"
   },
   {
    "duration": 3,
    "start_time": "2021-10-31T15:54:54.766Z"
   },
   {
    "duration": 3,
    "start_time": "2021-10-31T15:54:55.541Z"
   },
   {
    "duration": 3,
    "start_time": "2021-10-31T15:55:00.240Z"
   },
   {
    "duration": 11654,
    "start_time": "2021-10-31T15:55:05.999Z"
   },
   {
    "duration": 6,
    "start_time": "2021-10-31T16:00:58.006Z"
   },
   {
    "duration": 6,
    "start_time": "2021-10-31T16:02:22.495Z"
   },
   {
    "duration": 6,
    "start_time": "2021-10-31T16:02:28.540Z"
   },
   {
    "duration": 1141,
    "start_time": "2021-10-31T16:10:14.002Z"
   },
   {
    "duration": 18,
    "start_time": "2021-10-31T16:10:15.144Z"
   },
   {
    "duration": 11,
    "start_time": "2021-10-31T16:10:15.164Z"
   },
   {
    "duration": 8,
    "start_time": "2021-10-31T16:10:15.176Z"
   },
   {
    "duration": 9,
    "start_time": "2021-10-31T16:10:15.185Z"
   },
   {
    "duration": 4,
    "start_time": "2021-10-31T16:10:15.196Z"
   },
   {
    "duration": 9,
    "start_time": "2021-10-31T16:10:15.202Z"
   },
   {
    "duration": 279,
    "start_time": "2021-10-31T16:10:15.213Z"
   },
   {
    "duration": 2735,
    "start_time": "2021-10-31T16:10:15.494Z"
   },
   {
    "duration": 338,
    "start_time": "2021-10-31T16:10:18.231Z"
   },
   {
    "duration": 4,
    "start_time": "2021-10-31T16:10:18.571Z"
   },
   {
    "duration": 20,
    "start_time": "2021-10-31T16:10:18.576Z"
   },
   {
    "duration": 8,
    "start_time": "2021-10-31T16:10:18.597Z"
   },
   {
    "duration": 19,
    "start_time": "2021-10-31T16:10:18.606Z"
   },
   {
    "duration": 311,
    "start_time": "2021-10-31T16:10:18.626Z"
   },
   {
    "duration": 4,
    "start_time": "2021-10-31T16:10:18.938Z"
   },
   {
    "duration": 10,
    "start_time": "2021-10-31T16:10:18.943Z"
   },
   {
    "duration": 3,
    "start_time": "2021-10-31T16:10:18.954Z"
   },
   {
    "duration": 4,
    "start_time": "2021-10-31T16:10:18.959Z"
   },
   {
    "duration": 5,
    "start_time": "2021-10-31T16:10:18.965Z"
   },
   {
    "duration": 21,
    "start_time": "2021-10-31T16:10:18.972Z"
   },
   {
    "duration": 10,
    "start_time": "2021-10-31T16:10:18.994Z"
   },
   {
    "duration": 5,
    "start_time": "2021-10-31T16:10:19.008Z"
   },
   {
    "duration": 7,
    "start_time": "2021-10-31T16:10:19.015Z"
   },
   {
    "duration": 5,
    "start_time": "2021-10-31T16:10:19.023Z"
   },
   {
    "duration": 7,
    "start_time": "2021-10-31T16:10:19.029Z"
   },
   {
    "duration": 4,
    "start_time": "2021-10-31T16:10:19.038Z"
   },
   {
    "duration": 5,
    "start_time": "2021-10-31T16:10:19.044Z"
   },
   {
    "duration": 7679,
    "start_time": "2021-10-31T16:10:19.051Z"
   },
   {
    "duration": 4,
    "start_time": "2021-10-31T16:10:26.731Z"
   },
   {
    "duration": 5,
    "start_time": "2021-10-31T16:10:26.736Z"
   },
   {
    "duration": 17385,
    "start_time": "2021-10-31T16:10:26.743Z"
   },
   {
    "duration": -466,
    "start_time": "2021-10-31T16:10:44.596Z"
   },
   {
    "duration": -475,
    "start_time": "2021-10-31T16:10:44.606Z"
   },
   {
    "duration": -483,
    "start_time": "2021-10-31T16:10:44.615Z"
   },
   {
    "duration": -490,
    "start_time": "2021-10-31T16:10:44.623Z"
   },
   {
    "duration": -498,
    "start_time": "2021-10-31T16:10:44.632Z"
   },
   {
    "duration": -510,
    "start_time": "2021-10-31T16:10:44.645Z"
   },
   {
    "duration": -519,
    "start_time": "2021-10-31T16:10:44.655Z"
   },
   {
    "duration": -525,
    "start_time": "2021-10-31T16:10:44.662Z"
   },
   {
    "duration": -532,
    "start_time": "2021-10-31T16:10:44.670Z"
   },
   {
    "duration": -537,
    "start_time": "2021-10-31T16:10:44.676Z"
   },
   {
    "duration": -595,
    "start_time": "2021-10-31T16:10:44.735Z"
   },
   {
    "duration": -599,
    "start_time": "2021-10-31T16:10:44.740Z"
   },
   {
    "duration": -603,
    "start_time": "2021-10-31T16:10:44.745Z"
   },
   {
    "duration": -607,
    "start_time": "2021-10-31T16:10:44.750Z"
   },
   {
    "duration": -657,
    "start_time": "2021-10-31T16:10:44.801Z"
   },
   {
    "duration": -669,
    "start_time": "2021-10-31T16:10:44.814Z"
   },
   {
    "duration": -682,
    "start_time": "2021-10-31T16:10:44.828Z"
   },
   {
    "duration": -771,
    "start_time": "2021-10-31T16:10:44.918Z"
   },
   {
    "duration": -783,
    "start_time": "2021-10-31T16:10:44.931Z"
   },
   {
    "duration": -795,
    "start_time": "2021-10-31T16:10:44.944Z"
   },
   {
    "duration": -802,
    "start_time": "2021-10-31T16:10:44.952Z"
   },
   {
    "duration": -824,
    "start_time": "2021-10-31T16:10:44.975Z"
   },
   {
    "duration": -829,
    "start_time": "2021-10-31T16:10:44.981Z"
   },
   {
    "duration": -832,
    "start_time": "2021-10-31T16:10:44.985Z"
   },
   {
    "duration": -836,
    "start_time": "2021-10-31T16:10:44.990Z"
   },
   {
    "duration": -840,
    "start_time": "2021-10-31T16:10:44.995Z"
   },
   {
    "duration": -844,
    "start_time": "2021-10-31T16:10:45.000Z"
   },
   {
    "duration": -847,
    "start_time": "2021-10-31T16:10:45.004Z"
   },
   {
    "duration": -851,
    "start_time": "2021-10-31T16:10:45.009Z"
   },
   {
    "duration": -886,
    "start_time": "2021-10-31T16:10:45.045Z"
   },
   {
    "duration": 1091,
    "start_time": "2021-10-31T16:11:13.146Z"
   },
   {
    "duration": 18,
    "start_time": "2021-10-31T16:11:14.239Z"
   },
   {
    "duration": 11,
    "start_time": "2021-10-31T16:11:14.259Z"
   },
   {
    "duration": 5,
    "start_time": "2021-10-31T16:11:14.272Z"
   },
   {
    "duration": 13,
    "start_time": "2021-10-31T16:11:14.279Z"
   },
   {
    "duration": 5,
    "start_time": "2021-10-31T16:11:14.293Z"
   },
   {
    "duration": 7,
    "start_time": "2021-10-31T16:11:14.299Z"
   },
   {
    "duration": 309,
    "start_time": "2021-10-31T16:11:14.309Z"
   },
   {
    "duration": 2710,
    "start_time": "2021-10-31T16:11:14.620Z"
   },
   {
    "duration": 347,
    "start_time": "2021-10-31T16:11:17.332Z"
   },
   {
    "duration": 11,
    "start_time": "2021-10-31T16:11:17.681Z"
   },
   {
    "duration": 10,
    "start_time": "2021-10-31T16:11:17.694Z"
   },
   {
    "duration": 7,
    "start_time": "2021-10-31T16:11:17.706Z"
   },
   {
    "duration": 19,
    "start_time": "2021-10-31T16:11:17.715Z"
   },
   {
    "duration": 322,
    "start_time": "2021-10-31T16:11:17.736Z"
   },
   {
    "duration": 4,
    "start_time": "2021-10-31T16:11:18.060Z"
   },
   {
    "duration": 9,
    "start_time": "2021-10-31T16:11:18.065Z"
   },
   {
    "duration": 4,
    "start_time": "2021-10-31T16:11:18.075Z"
   },
   {
    "duration": 4,
    "start_time": "2021-10-31T16:11:18.091Z"
   },
   {
    "duration": 5,
    "start_time": "2021-10-31T16:11:18.096Z"
   },
   {
    "duration": 3,
    "start_time": "2021-10-31T16:11:18.103Z"
   },
   {
    "duration": 5,
    "start_time": "2021-10-31T16:11:18.108Z"
   },
   {
    "duration": 10,
    "start_time": "2021-10-31T16:11:18.116Z"
   },
   {
    "duration": 15,
    "start_time": "2021-10-31T16:11:18.127Z"
   },
   {
    "duration": 5,
    "start_time": "2021-10-31T16:11:18.143Z"
   },
   {
    "duration": 6,
    "start_time": "2021-10-31T16:11:18.150Z"
   },
   {
    "duration": 5,
    "start_time": "2021-10-31T16:11:18.157Z"
   },
   {
    "duration": 3,
    "start_time": "2021-10-31T16:11:18.192Z"
   },
   {
    "duration": 7357,
    "start_time": "2021-10-31T16:11:18.197Z"
   },
   {
    "duration": 3,
    "start_time": "2021-10-31T16:11:25.556Z"
   },
   {
    "duration": 4,
    "start_time": "2021-10-31T16:11:52.660Z"
   },
   {
    "duration": 17062,
    "start_time": "2021-10-31T16:12:02.077Z"
   },
   {
    "duration": 4,
    "start_time": "2021-10-31T16:12:21.931Z"
   },
   {
    "duration": 3,
    "start_time": "2021-10-31T16:12:31.493Z"
   },
   {
    "duration": 3,
    "start_time": "2021-10-31T16:12:32.225Z"
   },
   {
    "duration": 5,
    "start_time": "2021-10-31T16:12:34.217Z"
   },
   {
    "duration": 3,
    "start_time": "2021-10-31T16:12:50.021Z"
   },
   {
    "duration": 4,
    "start_time": "2021-10-31T16:12:52.611Z"
   },
   {
    "duration": 96545,
    "start_time": "2021-10-31T16:12:54.408Z"
   },
   {
    "duration": 4,
    "start_time": "2021-10-31T16:14:38.724Z"
   },
   {
    "duration": 4,
    "start_time": "2021-10-31T16:16:00.843Z"
   },
   {
    "duration": 63293,
    "start_time": "2021-10-31T16:16:17.345Z"
   },
   {
    "duration": 3,
    "start_time": "2021-10-31T16:17:25.637Z"
   },
   {
    "duration": 2,
    "start_time": "2021-10-31T16:17:32.215Z"
   },
   {
    "duration": 20,
    "start_time": "2021-10-31T16:17:34.133Z"
   },
   {
    "duration": 6,
    "start_time": "2021-10-31T16:17:35.060Z"
   },
   {
    "duration": 2,
    "start_time": "2021-10-31T16:17:47.491Z"
   },
   {
    "duration": 4,
    "start_time": "2021-10-31T16:17:50.842Z"
   },
   {
    "duration": 11998,
    "start_time": "2021-10-31T16:17:53.932Z"
   },
   {
    "duration": 3,
    "start_time": "2021-10-31T16:18:12.143Z"
   },
   {
    "duration": 3,
    "start_time": "2021-10-31T16:18:29.417Z"
   },
   {
    "duration": 70,
    "start_time": "2021-10-31T16:18:31.033Z"
   },
   {
    "duration": 6,
    "start_time": "2021-10-31T16:18:35.083Z"
   },
   {
    "duration": 3,
    "start_time": "2021-10-31T16:18:38.391Z"
   },
   {
    "duration": 4,
    "start_time": "2021-10-31T16:18:39.693Z"
   },
   {
    "duration": 4,
    "start_time": "2021-10-31T16:18:40.695Z"
   },
   {
    "duration": 3,
    "start_time": "2021-10-31T16:21:07.105Z"
   },
   {
    "duration": 5,
    "start_time": "2021-10-31T16:21:08.023Z"
   },
   {
    "duration": 12,
    "start_time": "2021-10-31T16:21:08.751Z"
   },
   {
    "duration": 5,
    "start_time": "2021-10-31T16:21:09.256Z"
   },
   {
    "duration": 4,
    "start_time": "2021-10-31T16:21:09.935Z"
   },
   {
    "duration": 4,
    "start_time": "2021-10-31T16:21:10.497Z"
   },
   {
    "duration": 259,
    "start_time": "2021-10-31T16:26:41.474Z"
   },
   {
    "duration": 4,
    "start_time": "2021-10-31T16:27:07.456Z"
   },
   {
    "duration": 4,
    "start_time": "2021-10-31T16:27:12.831Z"
   },
   {
    "duration": 6,
    "start_time": "2021-10-31T16:27:18.935Z"
   },
   {
    "duration": 4,
    "start_time": "2021-10-31T16:27:37.813Z"
   },
   {
    "duration": 6,
    "start_time": "2021-10-31T16:28:16.992Z"
   },
   {
    "duration": 4,
    "start_time": "2021-10-31T16:32:35.482Z"
   },
   {
    "duration": 168,
    "start_time": "2021-10-31T16:36:34.757Z"
   },
   {
    "duration": 4,
    "start_time": "2021-10-31T16:37:00.447Z"
   },
   {
    "duration": 3,
    "start_time": "2021-10-31T16:37:07.973Z"
   },
   {
    "duration": 174,
    "start_time": "2021-10-31T16:37:09.303Z"
   },
   {
    "duration": 3,
    "start_time": "2021-10-31T16:44:08.760Z"
   },
   {
    "duration": 176,
    "start_time": "2021-10-31T16:44:12.068Z"
   },
   {
    "duration": 2,
    "start_time": "2021-10-31T16:45:05.009Z"
   },
   {
    "duration": 4,
    "start_time": "2021-10-31T16:45:06.157Z"
   },
   {
    "duration": 5,
    "start_time": "2021-10-31T16:45:09.961Z"
   },
   {
    "duration": 2,
    "start_time": "2021-10-31T16:53:49.663Z"
   },
   {
    "duration": 7,
    "start_time": "2021-10-31T16:53:50.482Z"
   },
   {
    "duration": 2,
    "start_time": "2021-10-31T16:54:02.467Z"
   },
   {
    "duration": 5,
    "start_time": "2021-10-31T16:54:03.639Z"
   },
   {
    "duration": 6,
    "start_time": "2021-10-31T16:54:46.853Z"
   },
   {
    "duration": 7,
    "start_time": "2021-10-31T16:54:47.655Z"
   },
   {
    "duration": 6,
    "start_time": "2021-10-31T16:54:48.187Z"
   },
   {
    "duration": 6,
    "start_time": "2021-10-31T16:55:14.914Z"
   },
   {
    "duration": 4,
    "start_time": "2021-10-31T17:00:22.583Z"
   },
   {
    "duration": 1063,
    "start_time": "2021-10-31T17:03:18.847Z"
   },
   {
    "duration": 19,
    "start_time": "2021-10-31T17:03:21.461Z"
   },
   {
    "duration": 13,
    "start_time": "2021-10-31T17:03:22.269Z"
   },
   {
    "duration": 7,
    "start_time": "2021-10-31T17:03:24.026Z"
   },
   {
    "duration": 5,
    "start_time": "2021-10-31T17:03:26.109Z"
   },
   {
    "duration": 5,
    "start_time": "2021-10-31T17:03:33.816Z"
   },
   {
    "duration": 7,
    "start_time": "2021-10-31T17:03:36.021Z"
   },
   {
    "duration": 271,
    "start_time": "2021-10-31T17:03:38.836Z"
   },
   {
    "duration": 2739,
    "start_time": "2021-10-31T17:03:39.926Z"
   },
   {
    "duration": 2723,
    "start_time": "2021-10-31T17:03:50.645Z"
   },
   {
    "duration": 1087,
    "start_time": "2021-10-31T17:04:17.844Z"
   },
   {
    "duration": 18,
    "start_time": "2021-10-31T17:04:21.385Z"
   },
   {
    "duration": 12,
    "start_time": "2021-10-31T17:04:22.322Z"
   },
   {
    "duration": 7,
    "start_time": "2021-10-31T17:04:23.376Z"
   },
   {
    "duration": 7,
    "start_time": "2021-10-31T17:04:26.602Z"
   },
   {
    "duration": 5,
    "start_time": "2021-10-31T17:04:29.620Z"
   },
   {
    "duration": 7,
    "start_time": "2021-10-31T17:04:30.998Z"
   },
   {
    "duration": 271,
    "start_time": "2021-10-31T17:04:33.484Z"
   },
   {
    "duration": 2842,
    "start_time": "2021-10-31T17:04:38.847Z"
   },
   {
    "duration": 374,
    "start_time": "2021-10-31T17:04:45.084Z"
   },
   {
    "duration": 4,
    "start_time": "2021-10-31T17:05:03.459Z"
   },
   {
    "duration": 8,
    "start_time": "2021-10-31T17:05:04.636Z"
   },
   {
    "duration": 8,
    "start_time": "2021-10-31T17:05:05.788Z"
   },
   {
    "duration": 21,
    "start_time": "2021-10-31T17:05:07.524Z"
   },
   {
    "duration": 314,
    "start_time": "2021-10-31T17:05:17.530Z"
   },
   {
    "duration": 6,
    "start_time": "2021-10-31T17:05:29.437Z"
   },
   {
    "duration": 6,
    "start_time": "2021-10-31T17:05:44.527Z"
   },
   {
    "duration": 3,
    "start_time": "2021-10-31T17:05:45.833Z"
   },
   {
    "duration": 4,
    "start_time": "2021-10-31T17:05:46.297Z"
   },
   {
    "duration": 4,
    "start_time": "2021-10-31T17:05:46.757Z"
   },
   {
    "duration": 4,
    "start_time": "2021-10-31T17:05:47.229Z"
   },
   {
    "duration": 3,
    "start_time": "2021-10-31T17:05:47.658Z"
   },
   {
    "duration": 5,
    "start_time": "2021-10-31T17:05:48.879Z"
   },
   {
    "duration": 4,
    "start_time": "2021-10-31T17:05:49.321Z"
   },
   {
    "duration": 5,
    "start_time": "2021-10-31T17:05:49.743Z"
   },
   {
    "duration": 7,
    "start_time": "2021-10-31T17:05:53.605Z"
   },
   {
    "duration": 2,
    "start_time": "2021-10-31T17:05:56.693Z"
   },
   {
    "duration": 4,
    "start_time": "2021-10-31T17:05:58.053Z"
   },
   {
    "duration": 7257,
    "start_time": "2021-10-31T17:06:02.880Z"
   },
   {
    "duration": 4,
    "start_time": "2021-10-31T17:11:11.259Z"
   },
   {
    "duration": 3,
    "start_time": "2021-10-31T17:11:16.931Z"
   },
   {
    "duration": 18342,
    "start_time": "2021-10-31T17:11:21.863Z"
   },
   {
    "duration": 4,
    "start_time": "2021-10-31T17:11:42.152Z"
   },
   {
    "duration": 3,
    "start_time": "2021-10-31T17:11:49.849Z"
   },
   {
    "duration": 5,
    "start_time": "2021-10-31T17:11:50.500Z"
   },
   {
    "duration": 5,
    "start_time": "2021-10-31T17:11:51.171Z"
   },
   {
    "duration": 3,
    "start_time": "2021-10-31T17:11:56.704Z"
   },
   {
    "duration": 4,
    "start_time": "2021-10-31T17:11:57.753Z"
   },
   {
    "duration": 1009581,
    "start_time": "2021-10-31T17:11:58.602Z"
   },
   {
    "duration": 4,
    "start_time": "2021-10-31T17:29:35.945Z"
   },
   {
    "duration": 4,
    "start_time": "2021-10-31T17:30:16.746Z"
   },
   {
    "duration": 70258,
    "start_time": "2021-10-31T17:30:19.383Z"
   },
   {
    "duration": 4,
    "start_time": "2021-10-31T17:31:39.566Z"
   },
   {
    "duration": 4,
    "start_time": "2021-10-31T17:31:46.921Z"
   },
   {
    "duration": 22,
    "start_time": "2021-10-31T17:31:48.140Z"
   },
   {
    "duration": 6,
    "start_time": "2021-10-31T17:31:48.804Z"
   },
   {
    "duration": 3,
    "start_time": "2021-10-31T17:32:02.456Z"
   },
   {
    "duration": 4,
    "start_time": "2021-10-31T17:32:03.304Z"
   },
   {
    "duration": 13323,
    "start_time": "2021-10-31T17:32:04.437Z"
   },
   {
    "duration": 4,
    "start_time": "2021-10-31T17:32:21.309Z"
   },
   {
    "duration": 3,
    "start_time": "2021-10-31T17:32:25.775Z"
   },
   {
    "duration": 83,
    "start_time": "2021-10-31T17:32:26.943Z"
   },
   {
    "duration": 4,
    "start_time": "2021-10-31T17:32:28.171Z"
   },
   {
    "duration": 3,
    "start_time": "2021-10-31T17:32:29.337Z"
   },
   {
    "duration": 10,
    "start_time": "2021-10-31T17:32:30.393Z"
   },
   {
    "duration": 5,
    "start_time": "2021-10-31T17:32:31.385Z"
   },
   {
    "duration": 8,
    "start_time": "2021-10-31T17:32:46.994Z"
   },
   {
    "duration": 6,
    "start_time": "2021-10-31T17:32:48.297Z"
   },
   {
    "duration": 11,
    "start_time": "2021-10-31T17:32:50.524Z"
   },
   {
    "duration": 5,
    "start_time": "2021-10-31T17:32:51.655Z"
   },
   {
    "duration": 4,
    "start_time": "2021-10-31T17:32:56.649Z"
   },
   {
    "duration": 5,
    "start_time": "2021-10-31T17:32:57.433Z"
   },
   {
    "duration": 4,
    "start_time": "2021-10-31T17:33:13.621Z"
   },
   {
    "duration": 6,
    "start_time": "2021-10-31T17:33:14.568Z"
   },
   {
    "duration": 6,
    "start_time": "2021-10-31T17:33:15.414Z"
   },
   {
    "duration": 6,
    "start_time": "2021-10-31T17:33:16.643Z"
   },
   {
    "duration": 6,
    "start_time": "2021-10-31T17:33:17.539Z"
   },
   {
    "duration": 1176,
    "start_time": "2021-11-01T16:02:22.579Z"
   },
   {
    "duration": 19,
    "start_time": "2021-11-01T16:02:24.687Z"
   },
   {
    "duration": 12,
    "start_time": "2021-11-01T16:02:25.261Z"
   },
   {
    "duration": 8,
    "start_time": "2021-11-01T16:02:26.565Z"
   },
   {
    "duration": 7,
    "start_time": "2021-11-01T16:02:27.687Z"
   },
   {
    "duration": 6,
    "start_time": "2021-11-01T16:02:28.291Z"
   },
   {
    "duration": 6,
    "start_time": "2021-11-01T16:02:28.893Z"
   },
   {
    "duration": 265,
    "start_time": "2021-11-01T16:02:53.104Z"
   },
   {
    "duration": 2160,
    "start_time": "2021-11-01T16:03:32.116Z"
   },
   {
    "duration": 383,
    "start_time": "2021-11-01T16:03:41.864Z"
   },
   {
    "duration": 297,
    "start_time": "2021-11-01T16:03:54.626Z"
   },
   {
    "duration": 6,
    "start_time": "2021-11-01T16:05:46.449Z"
   },
   {
    "duration": 11,
    "start_time": "2021-11-01T16:05:48.927Z"
   },
   {
    "duration": 8,
    "start_time": "2021-11-01T16:05:51.619Z"
   },
   {
    "duration": 25,
    "start_time": "2021-11-01T16:05:52.727Z"
   },
   {
    "duration": 323,
    "start_time": "2021-11-01T16:06:01.670Z"
   },
   {
    "duration": 4,
    "start_time": "2021-11-01T16:06:22.252Z"
   },
   {
    "duration": 8,
    "start_time": "2021-11-01T16:06:25.752Z"
   },
   {
    "duration": 4,
    "start_time": "2021-11-01T16:06:48.996Z"
   },
   {
    "duration": 4,
    "start_time": "2021-11-01T16:06:49.542Z"
   },
   {
    "duration": 5,
    "start_time": "2021-11-01T16:06:50.110Z"
   },
   {
    "duration": 4,
    "start_time": "2021-11-01T16:06:50.666Z"
   },
   {
    "duration": 5,
    "start_time": "2021-11-01T16:06:51.294Z"
   },
   {
    "duration": 5,
    "start_time": "2021-11-01T16:06:52.464Z"
   },
   {
    "duration": 5,
    "start_time": "2021-11-01T16:06:53.640Z"
   },
   {
    "duration": 5,
    "start_time": "2021-11-01T16:06:56.110Z"
   },
   {
    "duration": 8,
    "start_time": "2021-11-01T16:07:25.252Z"
   },
   {
    "duration": 3,
    "start_time": "2021-11-01T16:10:19.144Z"
   },
   {
    "duration": 4,
    "start_time": "2021-11-01T16:10:21.079Z"
   },
   {
    "duration": 8438,
    "start_time": "2021-11-01T16:10:26.780Z"
   },
   {
    "duration": 4,
    "start_time": "2021-11-01T16:10:53.677Z"
   },
   {
    "duration": 3,
    "start_time": "2021-11-01T16:11:19.355Z"
   },
   {
    "duration": 20362,
    "start_time": "2021-11-01T16:11:23.179Z"
   },
   {
    "duration": 4,
    "start_time": "2021-11-01T16:12:46.080Z"
   },
   {
    "duration": 2,
    "start_time": "2021-11-01T16:12:49.014Z"
   },
   {
    "duration": 4,
    "start_time": "2021-11-01T16:12:49.714Z"
   },
   {
    "duration": 5,
    "start_time": "2021-11-01T16:12:52.418Z"
   },
   {
    "duration": 2,
    "start_time": "2021-11-01T16:13:07.540Z"
   },
   {
    "duration": 3,
    "start_time": "2021-11-01T16:13:42.380Z"
   },
   {
    "duration": 104613,
    "start_time": "2021-11-01T16:13:44.078Z"
   },
   {
    "duration": 4,
    "start_time": "2021-11-01T16:21:44.974Z"
   },
   {
    "duration": 3,
    "start_time": "2021-11-01T16:22:05.230Z"
   },
   {
    "duration": 69788,
    "start_time": "2021-11-01T16:22:14.606Z"
   },
   {
    "duration": 4,
    "start_time": "2021-11-01T16:35:40.123Z"
   },
   {
    "duration": 3,
    "start_time": "2021-11-01T16:35:42.961Z"
   },
   {
    "duration": 25,
    "start_time": "2021-11-01T16:35:43.710Z"
   },
   {
    "duration": 6,
    "start_time": "2021-11-01T16:35:44.705Z"
   },
   {
    "duration": 3,
    "start_time": "2021-11-01T16:35:54.551Z"
   },
   {
    "duration": 4,
    "start_time": "2021-11-01T16:36:00.959Z"
   },
   {
    "duration": 11949,
    "start_time": "2021-11-01T16:36:03.073Z"
   },
   {
    "duration": 4,
    "start_time": "2021-11-01T16:37:00.634Z"
   },
   {
    "duration": 4,
    "start_time": "2021-11-01T16:37:21.244Z"
   },
   {
    "duration": 68,
    "start_time": "2021-11-01T16:37:22.704Z"
   },
   {
    "duration": 4,
    "start_time": "2021-11-01T16:37:23.978Z"
   },
   {
    "duration": 3,
    "start_time": "2021-11-01T16:37:25.464Z"
   },
   {
    "duration": 5,
    "start_time": "2021-11-01T16:37:25.942Z"
   },
   {
    "duration": 5,
    "start_time": "2021-11-01T16:37:26.385Z"
   },
   {
    "duration": 4,
    "start_time": "2021-11-01T16:37:37.311Z"
   },
   {
    "duration": 5,
    "start_time": "2021-11-01T16:37:43.897Z"
   },
   {
    "duration": 13,
    "start_time": "2021-11-01T16:37:45.822Z"
   },
   {
    "duration": 6,
    "start_time": "2021-11-01T16:37:50.318Z"
   },
   {
    "duration": 3,
    "start_time": "2021-11-01T16:37:51.795Z"
   },
   {
    "duration": 5,
    "start_time": "2021-11-01T16:37:52.355Z"
   },
   {
    "duration": 4,
    "start_time": "2021-11-01T16:37:57.720Z"
   },
   {
    "duration": 7,
    "start_time": "2021-11-01T16:37:58.459Z"
   },
   {
    "duration": 8,
    "start_time": "2021-11-01T16:37:59.032Z"
   },
   {
    "duration": 7,
    "start_time": "2021-11-01T16:37:59.603Z"
   },
   {
    "duration": 7,
    "start_time": "2021-11-01T16:38:00.231Z"
   },
   {
    "duration": 1130,
    "start_time": "2021-11-16T22:16:38.637Z"
   },
   {
    "duration": 19,
    "start_time": "2021-11-16T22:16:39.769Z"
   },
   {
    "duration": 11,
    "start_time": "2021-11-16T22:16:39.790Z"
   },
   {
    "duration": 7,
    "start_time": "2021-11-16T22:16:39.802Z"
   },
   {
    "duration": 7,
    "start_time": "2021-11-16T22:16:39.811Z"
   },
   {
    "duration": 4,
    "start_time": "2021-11-16T22:16:39.819Z"
   },
   {
    "duration": 7,
    "start_time": "2021-11-16T22:16:39.825Z"
   },
   {
    "duration": 519,
    "start_time": "2021-11-16T22:16:39.833Z"
   },
   {
    "duration": 1893,
    "start_time": "2021-11-16T22:16:40.356Z"
   },
   {
    "duration": 404,
    "start_time": "2021-11-16T22:16:42.251Z"
   },
   {
    "duration": 5,
    "start_time": "2021-11-16T22:16:42.657Z"
   },
   {
    "duration": 11,
    "start_time": "2021-11-16T22:16:42.663Z"
   },
   {
    "duration": 8,
    "start_time": "2021-11-16T22:16:42.688Z"
   },
   {
    "duration": 27,
    "start_time": "2021-11-16T22:16:42.697Z"
   },
   {
    "duration": 391,
    "start_time": "2021-11-16T22:16:42.726Z"
   },
   {
    "duration": 3,
    "start_time": "2021-11-16T22:16:43.118Z"
   },
   {
    "duration": 9,
    "start_time": "2021-11-16T22:16:43.122Z"
   },
   {
    "duration": 3,
    "start_time": "2021-11-16T22:16:43.132Z"
   },
   {
    "duration": 7,
    "start_time": "2021-11-16T22:16:43.136Z"
   },
   {
    "duration": 8,
    "start_time": "2021-11-16T22:16:43.144Z"
   },
   {
    "duration": 6,
    "start_time": "2021-11-16T22:16:43.153Z"
   },
   {
    "duration": 5,
    "start_time": "2021-11-16T22:16:43.161Z"
   },
   {
    "duration": 3,
    "start_time": "2021-11-16T22:16:43.188Z"
   },
   {
    "duration": 12,
    "start_time": "2021-11-16T22:16:43.193Z"
   },
   {
    "duration": 6,
    "start_time": "2021-11-16T22:16:43.206Z"
   },
   {
    "duration": 9,
    "start_time": "2021-11-16T22:16:43.214Z"
   },
   {
    "duration": 2,
    "start_time": "2021-11-16T22:16:43.226Z"
   },
   {
    "duration": 3,
    "start_time": "2021-11-16T22:16:54.770Z"
   },
   {
    "duration": 3,
    "start_time": "2021-11-16T22:17:09.544Z"
   },
   {
    "duration": 3,
    "start_time": "2021-11-16T22:17:14.761Z"
   },
   {
    "duration": 1164,
    "start_time": "2022-01-08T18:49:49.527Z"
   },
   {
    "duration": 19,
    "start_time": "2022-01-08T18:49:50.693Z"
   },
   {
    "duration": 17,
    "start_time": "2022-01-08T18:49:50.714Z"
   },
   {
    "duration": 7,
    "start_time": "2022-01-08T18:49:50.733Z"
   },
   {
    "duration": 12,
    "start_time": "2022-01-08T18:49:50.742Z"
   },
   {
    "duration": 5,
    "start_time": "2022-01-08T18:49:50.756Z"
   },
   {
    "duration": 8,
    "start_time": "2022-01-08T18:49:50.762Z"
   },
   {
    "duration": 324,
    "start_time": "2022-01-08T18:49:50.771Z"
   },
   {
    "duration": 1137,
    "start_time": "2022-01-08T18:50:24.633Z"
   },
   {
    "duration": 19,
    "start_time": "2022-01-08T18:50:25.772Z"
   },
   {
    "duration": 12,
    "start_time": "2022-01-08T18:50:25.793Z"
   },
   {
    "duration": 7,
    "start_time": "2022-01-08T18:50:25.807Z"
   },
   {
    "duration": 9,
    "start_time": "2022-01-08T18:50:25.816Z"
   },
   {
    "duration": 7,
    "start_time": "2022-01-08T18:50:25.826Z"
   },
   {
    "duration": 8,
    "start_time": "2022-01-08T18:50:25.835Z"
   },
   {
    "duration": 351,
    "start_time": "2022-01-08T18:50:25.844Z"
   },
   {
    "duration": 2147,
    "start_time": "2022-01-08T18:50:26.198Z"
   },
   {
    "duration": 384,
    "start_time": "2022-01-08T18:50:28.347Z"
   },
   {
    "duration": 4,
    "start_time": "2022-01-08T18:50:28.732Z"
   },
   {
    "duration": 10,
    "start_time": "2022-01-08T18:50:28.738Z"
   },
   {
    "duration": 6,
    "start_time": "2022-01-08T18:50:28.750Z"
   },
   {
    "duration": 39,
    "start_time": "2022-01-08T18:50:28.757Z"
   },
   {
    "duration": 312,
    "start_time": "2022-01-08T18:50:28.798Z"
   },
   {
    "duration": 3,
    "start_time": "2022-01-08T18:50:29.111Z"
   },
   {
    "duration": 9,
    "start_time": "2022-01-08T18:50:29.116Z"
   },
   {
    "duration": 3,
    "start_time": "2022-01-08T18:50:29.126Z"
   },
   {
    "duration": 5,
    "start_time": "2022-01-08T18:50:29.131Z"
   },
   {
    "duration": 5,
    "start_time": "2022-01-08T18:50:29.138Z"
   },
   {
    "duration": 6,
    "start_time": "2022-01-08T18:50:29.144Z"
   },
   {
    "duration": 4,
    "start_time": "2022-01-08T18:50:29.152Z"
   },
   {
    "duration": 34,
    "start_time": "2022-01-08T18:50:29.158Z"
   },
   {
    "duration": 4,
    "start_time": "2022-01-08T18:50:29.194Z"
   },
   {
    "duration": 5,
    "start_time": "2022-01-08T18:50:29.200Z"
   },
   {
    "duration": 7,
    "start_time": "2022-01-08T18:50:29.206Z"
   },
   {
    "duration": 3,
    "start_time": "2022-01-08T18:50:29.217Z"
   },
   {
    "duration": 5,
    "start_time": "2022-01-08T18:50:29.222Z"
   },
   {
    "duration": 8571,
    "start_time": "2022-01-08T18:50:29.229Z"
   },
   {
    "duration": 4,
    "start_time": "2022-01-08T18:50:37.801Z"
   },
   {
    "duration": 5,
    "start_time": "2022-01-08T18:50:37.807Z"
   },
   {
    "duration": 21084,
    "start_time": "2022-01-08T18:50:37.814Z"
   },
   {
    "duration": 5,
    "start_time": "2022-01-08T18:50:58.899Z"
   },
   {
    "duration": 5,
    "start_time": "2022-01-08T18:50:58.905Z"
   },
   {
    "duration": 6,
    "start_time": "2022-01-08T18:50:58.912Z"
   },
   {
    "duration": 7,
    "start_time": "2022-01-08T18:50:58.919Z"
   },
   {
    "duration": 3,
    "start_time": "2022-01-08T18:50:58.927Z"
   },
   {
    "duration": 5,
    "start_time": "2022-01-08T18:50:58.931Z"
   },
   {
    "duration": 107767,
    "start_time": "2022-01-08T18:50:58.937Z"
   },
   {
    "duration": 3,
    "start_time": "2022-01-08T18:52:46.706Z"
   },
   {
    "duration": 11,
    "start_time": "2022-01-08T18:52:46.711Z"
   },
   {
    "duration": 71651,
    "start_time": "2022-01-08T18:52:46.723Z"
   },
   {
    "duration": 3,
    "start_time": "2022-01-08T18:53:58.376Z"
   },
   {
    "duration": 4,
    "start_time": "2022-01-08T18:53:58.392Z"
   },
   {
    "duration": 33,
    "start_time": "2022-01-08T18:53:58.397Z"
   },
   {
    "duration": 4,
    "start_time": "2022-01-08T18:53:58.432Z"
   },
   {
    "duration": 3,
    "start_time": "2022-01-08T18:53:58.438Z"
   },
   {
    "duration": 4,
    "start_time": "2022-01-08T18:53:58.443Z"
   },
   {
    "duration": 12677,
    "start_time": "2022-01-08T18:53:58.449Z"
   },
   {
    "duration": 3,
    "start_time": "2022-01-08T18:54:11.128Z"
   },
   {
    "duration": 6,
    "start_time": "2022-01-08T18:54:11.133Z"
   },
   {
    "duration": 80,
    "start_time": "2022-01-08T18:54:11.141Z"
   },
   {
    "duration": 4,
    "start_time": "2022-01-08T18:54:11.223Z"
   },
   {
    "duration": 5,
    "start_time": "2022-01-08T18:54:11.228Z"
   },
   {
    "duration": 8,
    "start_time": "2022-01-08T18:54:11.234Z"
   },
   {
    "duration": 6,
    "start_time": "2022-01-08T18:54:11.243Z"
   },
   {
    "duration": 4,
    "start_time": "2022-01-08T18:54:11.250Z"
   },
   {
    "duration": 9,
    "start_time": "2022-01-08T18:54:11.256Z"
   },
   {
    "duration": 28,
    "start_time": "2022-01-08T18:54:11.267Z"
   },
   {
    "duration": 5,
    "start_time": "2022-01-08T18:54:11.296Z"
   },
   {
    "duration": 5,
    "start_time": "2022-01-08T18:54:11.303Z"
   },
   {
    "duration": 16,
    "start_time": "2022-01-08T18:54:11.310Z"
   },
   {
    "duration": 23,
    "start_time": "2022-01-08T18:54:11.328Z"
   },
   {
    "duration": 14,
    "start_time": "2022-01-08T18:54:11.352Z"
   },
   {
    "duration": 27,
    "start_time": "2022-01-08T18:54:11.368Z"
   },
   {
    "duration": 20,
    "start_time": "2022-01-08T18:54:11.397Z"
   },
   {
    "duration": 24,
    "start_time": "2022-01-08T18:54:11.419Z"
   },
   {
    "duration": 1160,
    "start_time": "2022-01-08T18:57:36.309Z"
   },
   {
    "duration": 18,
    "start_time": "2022-01-08T18:57:37.471Z"
   },
   {
    "duration": 12,
    "start_time": "2022-01-08T18:57:37.491Z"
   },
   {
    "duration": 14,
    "start_time": "2022-01-08T18:57:37.505Z"
   },
   {
    "duration": 9,
    "start_time": "2022-01-08T18:57:37.520Z"
   },
   {
    "duration": 5,
    "start_time": "2022-01-08T18:57:37.530Z"
   },
   {
    "duration": 7,
    "start_time": "2022-01-08T18:57:37.537Z"
   },
   {
    "duration": 296,
    "start_time": "2022-01-08T18:57:37.545Z"
   },
   {
    "duration": 2150,
    "start_time": "2022-01-08T18:57:37.844Z"
   },
   {
    "duration": 348,
    "start_time": "2022-01-08T18:57:39.997Z"
   },
   {
    "duration": 5,
    "start_time": "2022-01-08T18:57:40.347Z"
   },
   {
    "duration": 12,
    "start_time": "2022-01-08T18:57:40.353Z"
   },
   {
    "duration": 8,
    "start_time": "2022-01-08T18:57:40.366Z"
   },
   {
    "duration": 33,
    "start_time": "2022-01-08T18:57:40.375Z"
   },
   {
    "duration": 328,
    "start_time": "2022-01-08T18:57:40.409Z"
   },
   {
    "duration": 4,
    "start_time": "2022-01-08T18:57:40.738Z"
   },
   {
    "duration": 11,
    "start_time": "2022-01-08T18:57:40.744Z"
   },
   {
    "duration": 4,
    "start_time": "2022-01-08T18:57:40.756Z"
   },
   {
    "duration": 5,
    "start_time": "2022-01-08T18:57:40.761Z"
   },
   {
    "duration": 4,
    "start_time": "2022-01-08T18:57:40.791Z"
   },
   {
    "duration": 6,
    "start_time": "2022-01-08T18:57:40.796Z"
   },
   {
    "duration": 5,
    "start_time": "2022-01-08T18:57:40.803Z"
   },
   {
    "duration": 4,
    "start_time": "2022-01-08T18:57:40.810Z"
   },
   {
    "duration": 5,
    "start_time": "2022-01-08T18:57:40.816Z"
   },
   {
    "duration": 5,
    "start_time": "2022-01-08T18:57:40.823Z"
   },
   {
    "duration": 7,
    "start_time": "2022-01-08T18:57:40.830Z"
   },
   {
    "duration": 3,
    "start_time": "2022-01-08T18:57:40.841Z"
   },
   {
    "duration": 5,
    "start_time": "2022-01-08T18:57:40.846Z"
   },
   {
    "duration": 8453,
    "start_time": "2022-01-08T18:57:40.852Z"
   },
   {
    "duration": 4,
    "start_time": "2022-01-08T18:57:49.307Z"
   },
   {
    "duration": 5,
    "start_time": "2022-01-08T18:57:49.313Z"
   },
   {
    "duration": 21165,
    "start_time": "2022-01-08T18:57:49.319Z"
   },
   {
    "duration": 4,
    "start_time": "2022-01-08T18:58:10.485Z"
   },
   {
    "duration": 4,
    "start_time": "2022-01-08T18:58:10.491Z"
   },
   {
    "duration": 5,
    "start_time": "2022-01-08T18:58:10.497Z"
   },
   {
    "duration": 9,
    "start_time": "2022-01-08T18:58:10.503Z"
   },
   {
    "duration": 4,
    "start_time": "2022-01-08T18:58:10.513Z"
   },
   {
    "duration": 5,
    "start_time": "2022-01-08T18:58:10.518Z"
   },
   {
    "duration": 101584,
    "start_time": "2022-01-08T18:59:58.568Z"
   },
   {
    "duration": 5,
    "start_time": "2022-01-08T19:01:40.154Z"
   },
   {
    "duration": 8,
    "start_time": "2022-01-08T19:01:40.160Z"
   },
   {
    "duration": 38,
    "start_time": "2022-01-08T19:01:40.170Z"
   },
   {
    "duration": 5,
    "start_time": "2022-01-08T19:01:40.210Z"
   },
   {
    "duration": 7,
    "start_time": "2022-01-08T19:01:40.216Z"
   },
   {
    "duration": 6,
    "start_time": "2022-01-08T19:01:40.224Z"
   },
   {
    "duration": 12651,
    "start_time": "2022-01-08T19:01:40.231Z"
   },
   {
    "duration": 7,
    "start_time": "2022-01-08T19:01:52.884Z"
   },
   {
    "duration": 5,
    "start_time": "2022-01-08T19:01:52.893Z"
   },
   {
    "duration": 76,
    "start_time": "2022-01-08T19:01:52.899Z"
   },
   {
    "duration": 15,
    "start_time": "2022-01-08T19:01:52.977Z"
   },
   {
    "duration": 2,
    "start_time": "2022-01-08T19:01:52.994Z"
   },
   {
    "duration": 7,
    "start_time": "2022-01-08T19:01:52.997Z"
   },
   {
    "duration": 7,
    "start_time": "2022-01-08T19:01:53.006Z"
   },
   {
    "duration": 7,
    "start_time": "2022-01-08T19:01:53.015Z"
   },
   {
    "duration": 10,
    "start_time": "2022-01-08T19:01:53.024Z"
   },
   {
    "duration": 19,
    "start_time": "2022-01-08T19:01:53.036Z"
   },
   {
    "duration": 4,
    "start_time": "2022-01-08T19:01:53.057Z"
   },
   {
    "duration": 4,
    "start_time": "2022-01-08T19:01:53.063Z"
   },
   {
    "duration": 24,
    "start_time": "2022-01-08T19:01:53.068Z"
   },
   {
    "duration": 6,
    "start_time": "2022-01-08T19:01:53.094Z"
   },
   {
    "duration": 7,
    "start_time": "2022-01-08T19:01:53.102Z"
   },
   {
    "duration": 6,
    "start_time": "2022-01-08T19:01:53.110Z"
   },
   {
    "duration": 8,
    "start_time": "2022-01-08T19:01:53.117Z"
   },
   {
    "duration": 6,
    "start_time": "2022-01-08T19:01:53.126Z"
   },
   {
    "duration": 1652,
    "start_time": "2022-01-09T11:10:41.783Z"
   },
   {
    "duration": 28,
    "start_time": "2022-01-09T11:10:43.437Z"
   },
   {
    "duration": 19,
    "start_time": "2022-01-09T11:10:43.469Z"
   },
   {
    "duration": 12,
    "start_time": "2022-01-09T11:10:43.491Z"
   },
   {
    "duration": 10,
    "start_time": "2022-01-09T11:10:43.505Z"
   },
   {
    "duration": 49,
    "start_time": "2022-01-09T11:10:43.518Z"
   },
   {
    "duration": 14,
    "start_time": "2022-01-09T11:10:43.571Z"
   },
   {
    "duration": 763,
    "start_time": "2022-01-09T11:10:43.589Z"
   },
   {
    "duration": 3264,
    "start_time": "2022-01-09T11:10:44.362Z"
   },
   {
    "duration": 502,
    "start_time": "2022-01-09T11:10:47.628Z"
   },
   {
    "duration": 7,
    "start_time": "2022-01-09T11:10:48.133Z"
   },
   {
    "duration": 15,
    "start_time": "2022-01-09T11:10:48.160Z"
   },
   {
    "duration": 8,
    "start_time": "2022-01-09T11:10:48.178Z"
   },
   {
    "duration": 28,
    "start_time": "2022-01-09T11:10:48.189Z"
   },
   {
    "duration": 592,
    "start_time": "2022-01-09T11:10:48.220Z"
   },
   {
    "duration": 6,
    "start_time": "2022-01-09T11:10:48.815Z"
   },
   {
    "duration": 12,
    "start_time": "2022-01-09T11:10:48.824Z"
   },
   {
    "duration": 8,
    "start_time": "2022-01-09T11:10:48.863Z"
   },
   {
    "duration": 10,
    "start_time": "2022-01-09T11:10:48.875Z"
   },
   {
    "duration": 4,
    "start_time": "2022-01-09T11:10:48.887Z"
   },
   {
    "duration": 9,
    "start_time": "2022-01-09T11:10:48.893Z"
   },
   {
    "duration": 8,
    "start_time": "2022-01-09T11:10:48.904Z"
   },
   {
    "duration": 13,
    "start_time": "2022-01-09T11:10:48.958Z"
   },
   {
    "duration": 7,
    "start_time": "2022-01-09T11:10:48.977Z"
   },
   {
    "duration": 6,
    "start_time": "2022-01-09T11:10:48.987Z"
   },
   {
    "duration": 11,
    "start_time": "2022-01-09T11:10:48.995Z"
   },
   {
    "duration": 11,
    "start_time": "2022-01-09T11:10:49.008Z"
   },
   {
    "duration": 7,
    "start_time": "2022-01-09T11:10:49.022Z"
   },
   {
    "duration": 13329,
    "start_time": "2022-01-09T11:10:49.061Z"
   },
   {
    "duration": 6,
    "start_time": "2022-01-09T11:11:02.392Z"
   },
   {
    "duration": 6,
    "start_time": "2022-01-09T11:11:02.400Z"
   },
   {
    "duration": 33592,
    "start_time": "2022-01-09T11:11:02.409Z"
   },
   {
    "duration": 7,
    "start_time": "2022-01-09T11:11:36.003Z"
   },
   {
    "duration": 12,
    "start_time": "2022-01-09T11:11:36.013Z"
   },
   {
    "duration": 8,
    "start_time": "2022-01-09T11:11:36.028Z"
   },
   {
    "duration": 29,
    "start_time": "2022-01-09T11:11:36.039Z"
   },
   {
    "duration": 12,
    "start_time": "2022-01-09T11:11:36.071Z"
   },
   {
    "duration": 10,
    "start_time": "2022-01-09T11:11:36.086Z"
   },
   {
    "duration": 179831,
    "start_time": "2022-01-09T11:11:36.098Z"
   },
   {
    "duration": 5,
    "start_time": "2022-01-09T11:14:35.931Z"
   },
   {
    "duration": 20,
    "start_time": "2022-01-09T11:14:35.939Z"
   },
   {
    "duration": 128034,
    "start_time": "2022-01-09T11:14:35.962Z"
   },
   {
    "duration": 4,
    "start_time": "2022-01-09T11:16:43.999Z"
   },
   {
    "duration": 4,
    "start_time": "2022-01-09T11:16:44.006Z"
   },
   {
    "duration": 57,
    "start_time": "2022-01-09T11:16:44.012Z"
   },
   {
    "duration": 6,
    "start_time": "2022-01-09T11:16:44.071Z"
   },
   {
    "duration": 4,
    "start_time": "2022-01-09T11:16:44.079Z"
   },
   {
    "duration": 6,
    "start_time": "2022-01-09T11:16:44.085Z"
   },
   {
    "duration": 22103,
    "start_time": "2022-01-09T11:16:44.093Z"
   },
   {
    "duration": 5,
    "start_time": "2022-01-09T11:17:06.199Z"
   },
   {
    "duration": 10,
    "start_time": "2022-01-09T11:17:06.207Z"
   },
   {
    "duration": 136,
    "start_time": "2022-01-09T11:17:06.219Z"
   },
   {
    "duration": 6,
    "start_time": "2022-01-09T11:17:06.357Z"
   },
   {
    "duration": 9,
    "start_time": "2022-01-09T11:17:06.365Z"
   },
   {
    "duration": 7,
    "start_time": "2022-01-09T11:17:06.377Z"
   },
   {
    "duration": 8,
    "start_time": "2022-01-09T11:17:06.387Z"
   },
   {
    "duration": 5,
    "start_time": "2022-01-09T11:17:06.398Z"
   },
   {
    "duration": 8,
    "start_time": "2022-01-09T11:17:06.406Z"
   },
   {
    "duration": 21,
    "start_time": "2022-01-09T11:17:06.460Z"
   },
   {
    "duration": 8,
    "start_time": "2022-01-09T11:17:06.483Z"
   },
   {
    "duration": 21,
    "start_time": "2022-01-09T11:17:06.494Z"
   },
   {
    "duration": 10,
    "start_time": "2022-01-09T11:17:06.517Z"
   },
   {
    "duration": 32,
    "start_time": "2022-01-09T11:17:06.530Z"
   },
   {
    "duration": 21,
    "start_time": "2022-01-09T11:17:06.564Z"
   },
   {
    "duration": 8,
    "start_time": "2022-01-09T11:17:06.588Z"
   },
   {
    "duration": 7,
    "start_time": "2022-01-09T11:17:06.598Z"
   },
   {
    "duration": 7,
    "start_time": "2022-01-09T11:17:06.608Z"
   },
   {
    "duration": 1633,
    "start_time": "2022-01-09T11:19:09.200Z"
   },
   {
    "duration": 24,
    "start_time": "2022-01-09T11:19:10.836Z"
   },
   {
    "duration": 21,
    "start_time": "2022-01-09T11:19:10.865Z"
   },
   {
    "duration": 10,
    "start_time": "2022-01-09T11:19:10.889Z"
   },
   {
    "duration": 8,
    "start_time": "2022-01-09T11:19:10.901Z"
   },
   {
    "duration": 8,
    "start_time": "2022-01-09T11:19:10.911Z"
   },
   {
    "duration": 44,
    "start_time": "2022-01-09T11:19:10.921Z"
   },
   {
    "duration": 877,
    "start_time": "2022-01-09T11:19:10.968Z"
   },
   {
    "duration": 3529,
    "start_time": "2022-01-09T11:19:11.850Z"
   },
   {
    "duration": 573,
    "start_time": "2022-01-09T11:19:15.383Z"
   },
   {
    "duration": 13,
    "start_time": "2022-01-09T11:19:15.963Z"
   },
   {
    "duration": 13,
    "start_time": "2022-01-09T11:19:15.980Z"
   },
   {
    "duration": 14,
    "start_time": "2022-01-09T11:19:15.996Z"
   },
   {
    "duration": 72,
    "start_time": "2022-01-09T11:19:16.013Z"
   },
   {
    "duration": 551,
    "start_time": "2022-01-09T11:19:16.088Z"
   },
   {
    "duration": 5,
    "start_time": "2022-01-09T11:19:16.641Z"
   },
   {
    "duration": 16,
    "start_time": "2022-01-09T11:19:16.660Z"
   },
   {
    "duration": 8,
    "start_time": "2022-01-09T11:19:16.679Z"
   },
   {
    "duration": 6,
    "start_time": "2022-01-09T11:19:16.689Z"
   },
   {
    "duration": 6,
    "start_time": "2022-01-09T11:19:16.697Z"
   },
   {
    "duration": 54,
    "start_time": "2022-01-09T11:19:16.705Z"
   },
   {
    "duration": 13,
    "start_time": "2022-01-09T11:19:16.764Z"
   },
   {
    "duration": 8,
    "start_time": "2022-01-09T11:19:16.779Z"
   },
   {
    "duration": 6,
    "start_time": "2022-01-09T11:19:16.789Z"
   },
   {
    "duration": 7,
    "start_time": "2022-01-09T11:19:16.797Z"
   },
   {
    "duration": 58,
    "start_time": "2022-01-09T11:19:16.807Z"
   },
   {
    "duration": 4,
    "start_time": "2022-01-09T11:19:16.874Z"
   },
   {
    "duration": 5,
    "start_time": "2022-01-09T11:19:16.883Z"
   },
   {
    "duration": 13588,
    "start_time": "2022-01-09T11:19:16.891Z"
   },
   {
    "duration": 6,
    "start_time": "2022-01-09T11:19:30.481Z"
   },
   {
    "duration": 8,
    "start_time": "2022-01-09T11:19:30.490Z"
   },
   {
    "duration": 35983,
    "start_time": "2022-01-09T11:19:30.501Z"
   },
   {
    "duration": 5,
    "start_time": "2022-01-09T11:20:06.487Z"
   },
   {
    "duration": 6,
    "start_time": "2022-01-09T11:20:06.494Z"
   },
   {
    "duration": 6,
    "start_time": "2022-01-09T11:20:06.503Z"
   },
   {
    "duration": 7,
    "start_time": "2022-01-09T11:20:06.511Z"
   },
   {
    "duration": 7,
    "start_time": "2022-01-09T11:20:06.520Z"
   },
   {
    "duration": 6,
    "start_time": "2022-01-09T11:20:06.561Z"
   },
   {
    "duration": 186184,
    "start_time": "2022-01-09T11:20:06.570Z"
   },
   {
    "duration": 8,
    "start_time": "2022-01-09T11:23:12.759Z"
   },
   {
    "duration": 14,
    "start_time": "2022-01-09T11:23:12.770Z"
   },
   {
    "duration": 245028,
    "start_time": "2022-01-09T11:23:12.786Z"
   },
   {
    "duration": 5,
    "start_time": "2022-01-09T11:27:17.817Z"
   },
   {
    "duration": 4,
    "start_time": "2022-01-09T11:27:17.825Z"
   },
   {
    "duration": 88,
    "start_time": "2022-01-09T11:27:17.831Z"
   },
   {
    "duration": 9,
    "start_time": "2022-01-09T11:27:17.921Z"
   },
   {
    "duration": 3,
    "start_time": "2022-01-09T11:27:17.932Z"
   },
   {
    "duration": 28,
    "start_time": "2022-01-09T11:27:17.937Z"
   },
   {
    "duration": 23166,
    "start_time": "2022-01-09T11:27:17.968Z"
   },
   {
    "duration": 5,
    "start_time": "2022-01-09T11:27:41.137Z"
   },
   {
    "duration": 6,
    "start_time": "2022-01-09T11:27:41.159Z"
   },
   {
    "duration": 143,
    "start_time": "2022-01-09T11:27:41.168Z"
   },
   {
    "duration": 6,
    "start_time": "2022-01-09T11:27:41.313Z"
   },
   {
    "duration": 7,
    "start_time": "2022-01-09T11:27:41.321Z"
   },
   {
    "duration": 28,
    "start_time": "2022-01-09T11:27:41.331Z"
   },
   {
    "duration": 9,
    "start_time": "2022-01-09T11:27:41.364Z"
   },
   {
    "duration": 13,
    "start_time": "2022-01-09T11:27:41.376Z"
   },
   {
    "duration": 10,
    "start_time": "2022-01-09T11:27:41.391Z"
   },
   {
    "duration": 59,
    "start_time": "2022-01-09T11:27:41.403Z"
   },
   {
    "duration": 8,
    "start_time": "2022-01-09T11:27:41.465Z"
   },
   {
    "duration": 18,
    "start_time": "2022-01-09T11:27:41.477Z"
   },
   {
    "duration": 13,
    "start_time": "2022-01-09T11:27:41.498Z"
   },
   {
    "duration": 7,
    "start_time": "2022-01-09T11:27:41.514Z"
   },
   {
    "duration": 38,
    "start_time": "2022-01-09T11:27:41.524Z"
   },
   {
    "duration": 12,
    "start_time": "2022-01-09T11:27:41.564Z"
   },
   {
    "duration": 12,
    "start_time": "2022-01-09T11:27:41.578Z"
   },
   {
    "duration": 12,
    "start_time": "2022-01-09T11:27:41.592Z"
   }
  ],
  "kernelspec": {
   "display_name": "Python 3",
   "language": "python",
   "name": "python3"
  },
  "language_info": {
   "codemirror_mode": {
    "name": "ipython",
    "version": 3
   },
   "file_extension": ".py",
   "mimetype": "text/x-python",
   "name": "python",
   "nbconvert_exporter": "python",
   "pygments_lexer": "ipython3",
   "version": "3.8.5"
  },
  "toc": {
   "base_numbering": 1,
   "nav_menu": {},
   "number_sections": true,
   "sideBar": true,
   "skip_h1_title": true,
   "title_cell": "Table of Contents",
   "title_sidebar": "Contents",
   "toc_cell": true,
   "toc_position": {},
   "toc_section_display": true,
   "toc_window_display": false
  }
 },
 "nbformat": 4,
 "nbformat_minor": 2
}
