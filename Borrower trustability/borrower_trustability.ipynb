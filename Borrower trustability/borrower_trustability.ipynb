{
 "cells": [
  {
   "cell_type": "markdown",
   "metadata": {},
   "source": [
    "## Изучение общей информации"
   ]
  },
  {
   "cell_type": "code",
   "execution_count": 1,
   "metadata": {},
   "outputs": [],
   "source": [
    "import pandas as pd\n",
    "from pymystem3 import Mystem\n",
    "import warnings\n",
    "warnings.filterwarnings('ignore')"
   ]
  },
  {
   "cell_type": "code",
   "execution_count": 2,
   "metadata": {},
   "outputs": [
    {
     "data": {
      "text/html": [
       "<div>\n",
       "<style scoped>\n",
       "    .dataframe tbody tr th:only-of-type {\n",
       "        vertical-align: middle;\n",
       "    }\n",
       "\n",
       "    .dataframe tbody tr th {\n",
       "        vertical-align: top;\n",
       "    }\n",
       "\n",
       "    .dataframe thead th {\n",
       "        text-align: right;\n",
       "    }\n",
       "</style>\n",
       "<table border=\"1\" class=\"dataframe\">\n",
       "  <thead>\n",
       "    <tr style=\"text-align: right;\">\n",
       "      <th></th>\n",
       "      <th>children</th>\n",
       "      <th>days_employed</th>\n",
       "      <th>dob_years</th>\n",
       "      <th>education</th>\n",
       "      <th>education_id</th>\n",
       "      <th>family_status</th>\n",
       "      <th>family_status_id</th>\n",
       "      <th>gender</th>\n",
       "      <th>income_type</th>\n",
       "      <th>debt</th>\n",
       "      <th>total_income</th>\n",
       "      <th>purpose</th>\n",
       "    </tr>\n",
       "  </thead>\n",
       "  <tbody>\n",
       "    <tr>\n",
       "      <td>0</td>\n",
       "      <td>1</td>\n",
       "      <td>-8437.673028</td>\n",
       "      <td>42</td>\n",
       "      <td>высшее</td>\n",
       "      <td>0</td>\n",
       "      <td>женат / замужем</td>\n",
       "      <td>0</td>\n",
       "      <td>F</td>\n",
       "      <td>сотрудник</td>\n",
       "      <td>0</td>\n",
       "      <td>253875.639453</td>\n",
       "      <td>покупка жилья</td>\n",
       "    </tr>\n",
       "    <tr>\n",
       "      <td>1</td>\n",
       "      <td>1</td>\n",
       "      <td>-4024.803754</td>\n",
       "      <td>36</td>\n",
       "      <td>среднее</td>\n",
       "      <td>1</td>\n",
       "      <td>женат / замужем</td>\n",
       "      <td>0</td>\n",
       "      <td>F</td>\n",
       "      <td>сотрудник</td>\n",
       "      <td>0</td>\n",
       "      <td>112080.014102</td>\n",
       "      <td>приобретение автомобиля</td>\n",
       "    </tr>\n",
       "    <tr>\n",
       "      <td>2</td>\n",
       "      <td>0</td>\n",
       "      <td>-5623.422610</td>\n",
       "      <td>33</td>\n",
       "      <td>Среднее</td>\n",
       "      <td>1</td>\n",
       "      <td>женат / замужем</td>\n",
       "      <td>0</td>\n",
       "      <td>M</td>\n",
       "      <td>сотрудник</td>\n",
       "      <td>0</td>\n",
       "      <td>145885.952297</td>\n",
       "      <td>покупка жилья</td>\n",
       "    </tr>\n",
       "    <tr>\n",
       "      <td>3</td>\n",
       "      <td>3</td>\n",
       "      <td>-4124.747207</td>\n",
       "      <td>32</td>\n",
       "      <td>среднее</td>\n",
       "      <td>1</td>\n",
       "      <td>женат / замужем</td>\n",
       "      <td>0</td>\n",
       "      <td>M</td>\n",
       "      <td>сотрудник</td>\n",
       "      <td>0</td>\n",
       "      <td>267628.550329</td>\n",
       "      <td>дополнительное образование</td>\n",
       "    </tr>\n",
       "    <tr>\n",
       "      <td>4</td>\n",
       "      <td>0</td>\n",
       "      <td>340266.072047</td>\n",
       "      <td>53</td>\n",
       "      <td>среднее</td>\n",
       "      <td>1</td>\n",
       "      <td>гражданский брак</td>\n",
       "      <td>1</td>\n",
       "      <td>F</td>\n",
       "      <td>пенсионер</td>\n",
       "      <td>0</td>\n",
       "      <td>158616.077870</td>\n",
       "      <td>сыграть свадьбу</td>\n",
       "    </tr>\n",
       "    <tr>\n",
       "      <td>5</td>\n",
       "      <td>0</td>\n",
       "      <td>-926.185831</td>\n",
       "      <td>27</td>\n",
       "      <td>высшее</td>\n",
       "      <td>0</td>\n",
       "      <td>гражданский брак</td>\n",
       "      <td>1</td>\n",
       "      <td>M</td>\n",
       "      <td>компаньон</td>\n",
       "      <td>0</td>\n",
       "      <td>255763.565419</td>\n",
       "      <td>покупка жилья</td>\n",
       "    </tr>\n",
       "    <tr>\n",
       "      <td>6</td>\n",
       "      <td>0</td>\n",
       "      <td>-2879.202052</td>\n",
       "      <td>43</td>\n",
       "      <td>высшее</td>\n",
       "      <td>0</td>\n",
       "      <td>женат / замужем</td>\n",
       "      <td>0</td>\n",
       "      <td>F</td>\n",
       "      <td>компаньон</td>\n",
       "      <td>0</td>\n",
       "      <td>240525.971920</td>\n",
       "      <td>операции с жильем</td>\n",
       "    </tr>\n",
       "    <tr>\n",
       "      <td>7</td>\n",
       "      <td>0</td>\n",
       "      <td>-152.779569</td>\n",
       "      <td>50</td>\n",
       "      <td>СРЕДНЕЕ</td>\n",
       "      <td>1</td>\n",
       "      <td>женат / замужем</td>\n",
       "      <td>0</td>\n",
       "      <td>M</td>\n",
       "      <td>сотрудник</td>\n",
       "      <td>0</td>\n",
       "      <td>135823.934197</td>\n",
       "      <td>образование</td>\n",
       "    </tr>\n",
       "    <tr>\n",
       "      <td>8</td>\n",
       "      <td>2</td>\n",
       "      <td>-6929.865299</td>\n",
       "      <td>35</td>\n",
       "      <td>ВЫСШЕЕ</td>\n",
       "      <td>0</td>\n",
       "      <td>гражданский брак</td>\n",
       "      <td>1</td>\n",
       "      <td>F</td>\n",
       "      <td>сотрудник</td>\n",
       "      <td>0</td>\n",
       "      <td>95856.832424</td>\n",
       "      <td>на проведение свадьбы</td>\n",
       "    </tr>\n",
       "    <tr>\n",
       "      <td>9</td>\n",
       "      <td>0</td>\n",
       "      <td>-2188.756445</td>\n",
       "      <td>41</td>\n",
       "      <td>среднее</td>\n",
       "      <td>1</td>\n",
       "      <td>женат / замужем</td>\n",
       "      <td>0</td>\n",
       "      <td>M</td>\n",
       "      <td>сотрудник</td>\n",
       "      <td>0</td>\n",
       "      <td>144425.938277</td>\n",
       "      <td>покупка жилья для семьи</td>\n",
       "    </tr>\n",
       "    <tr>\n",
       "      <td>10</td>\n",
       "      <td>2</td>\n",
       "      <td>-4171.483647</td>\n",
       "      <td>36</td>\n",
       "      <td>высшее</td>\n",
       "      <td>0</td>\n",
       "      <td>женат / замужем</td>\n",
       "      <td>0</td>\n",
       "      <td>M</td>\n",
       "      <td>компаньон</td>\n",
       "      <td>0</td>\n",
       "      <td>113943.491460</td>\n",
       "      <td>покупка недвижимости</td>\n",
       "    </tr>\n",
       "    <tr>\n",
       "      <td>11</td>\n",
       "      <td>0</td>\n",
       "      <td>-792.701887</td>\n",
       "      <td>40</td>\n",
       "      <td>среднее</td>\n",
       "      <td>1</td>\n",
       "      <td>женат / замужем</td>\n",
       "      <td>0</td>\n",
       "      <td>F</td>\n",
       "      <td>сотрудник</td>\n",
       "      <td>0</td>\n",
       "      <td>77069.234271</td>\n",
       "      <td>покупка коммерческой недвижимости</td>\n",
       "    </tr>\n",
       "    <tr>\n",
       "      <td>12</td>\n",
       "      <td>0</td>\n",
       "      <td>NaN</td>\n",
       "      <td>65</td>\n",
       "      <td>среднее</td>\n",
       "      <td>1</td>\n",
       "      <td>гражданский брак</td>\n",
       "      <td>1</td>\n",
       "      <td>M</td>\n",
       "      <td>пенсионер</td>\n",
       "      <td>0</td>\n",
       "      <td>NaN</td>\n",
       "      <td>сыграть свадьбу</td>\n",
       "    </tr>\n",
       "    <tr>\n",
       "      <td>13</td>\n",
       "      <td>0</td>\n",
       "      <td>-1846.641941</td>\n",
       "      <td>54</td>\n",
       "      <td>неоконченное высшее</td>\n",
       "      <td>2</td>\n",
       "      <td>женат / замужем</td>\n",
       "      <td>0</td>\n",
       "      <td>F</td>\n",
       "      <td>сотрудник</td>\n",
       "      <td>0</td>\n",
       "      <td>130458.228857</td>\n",
       "      <td>приобретение автомобиля</td>\n",
       "    </tr>\n",
       "    <tr>\n",
       "      <td>14</td>\n",
       "      <td>0</td>\n",
       "      <td>-1844.956182</td>\n",
       "      <td>56</td>\n",
       "      <td>высшее</td>\n",
       "      <td>0</td>\n",
       "      <td>гражданский брак</td>\n",
       "      <td>1</td>\n",
       "      <td>F</td>\n",
       "      <td>компаньон</td>\n",
       "      <td>1</td>\n",
       "      <td>165127.911772</td>\n",
       "      <td>покупка жилой недвижимости</td>\n",
       "    </tr>\n",
       "  </tbody>\n",
       "</table>\n",
       "</div>"
      ],
      "text/plain": [
       "    children  days_employed  dob_years            education  education_id  \\\n",
       "0          1   -8437.673028         42               высшее             0   \n",
       "1          1   -4024.803754         36              среднее             1   \n",
       "2          0   -5623.422610         33              Среднее             1   \n",
       "3          3   -4124.747207         32              среднее             1   \n",
       "4          0  340266.072047         53              среднее             1   \n",
       "5          0    -926.185831         27               высшее             0   \n",
       "6          0   -2879.202052         43               высшее             0   \n",
       "7          0    -152.779569         50              СРЕДНЕЕ             1   \n",
       "8          2   -6929.865299         35               ВЫСШЕЕ             0   \n",
       "9          0   -2188.756445         41              среднее             1   \n",
       "10         2   -4171.483647         36               высшее             0   \n",
       "11         0    -792.701887         40              среднее             1   \n",
       "12         0            NaN         65              среднее             1   \n",
       "13         0   -1846.641941         54  неоконченное высшее             2   \n",
       "14         0   -1844.956182         56               высшее             0   \n",
       "\n",
       "       family_status  family_status_id gender income_type  debt  \\\n",
       "0    женат / замужем                 0      F   сотрудник     0   \n",
       "1    женат / замужем                 0      F   сотрудник     0   \n",
       "2    женат / замужем                 0      M   сотрудник     0   \n",
       "3    женат / замужем                 0      M   сотрудник     0   \n",
       "4   гражданский брак                 1      F   пенсионер     0   \n",
       "5   гражданский брак                 1      M   компаньон     0   \n",
       "6    женат / замужем                 0      F   компаньон     0   \n",
       "7    женат / замужем                 0      M   сотрудник     0   \n",
       "8   гражданский брак                 1      F   сотрудник     0   \n",
       "9    женат / замужем                 0      M   сотрудник     0   \n",
       "10   женат / замужем                 0      M   компаньон     0   \n",
       "11   женат / замужем                 0      F   сотрудник     0   \n",
       "12  гражданский брак                 1      M   пенсионер     0   \n",
       "13   женат / замужем                 0      F   сотрудник     0   \n",
       "14  гражданский брак                 1      F   компаньон     1   \n",
       "\n",
       "     total_income                            purpose  \n",
       "0   253875.639453                      покупка жилья  \n",
       "1   112080.014102            приобретение автомобиля  \n",
       "2   145885.952297                      покупка жилья  \n",
       "3   267628.550329         дополнительное образование  \n",
       "4   158616.077870                    сыграть свадьбу  \n",
       "5   255763.565419                      покупка жилья  \n",
       "6   240525.971920                  операции с жильем  \n",
       "7   135823.934197                        образование  \n",
       "8    95856.832424              на проведение свадьбы  \n",
       "9   144425.938277            покупка жилья для семьи  \n",
       "10  113943.491460               покупка недвижимости  \n",
       "11   77069.234271  покупка коммерческой недвижимости  \n",
       "12            NaN                    сыграть свадьбу  \n",
       "13  130458.228857            приобретение автомобиля  \n",
       "14  165127.911772         покупка жилой недвижимости  "
      ]
     },
     "execution_count": 2,
     "metadata": {},
     "output_type": "execute_result"
    }
   ],
   "source": [
    "df = pd.read_csv('/datasets/data.csv')\n",
    "df.head(15)"
   ]
  },
  {
   "cell_type": "code",
   "execution_count": 3,
   "metadata": {},
   "outputs": [
    {
     "name": "stdout",
     "output_type": "stream",
     "text": [
      "<class 'pandas.core.frame.DataFrame'>\n",
      "RangeIndex: 21525 entries, 0 to 21524\n",
      "Data columns (total 12 columns):\n",
      "children            21525 non-null int64\n",
      "days_employed       19351 non-null float64\n",
      "dob_years           21525 non-null int64\n",
      "education           21525 non-null object\n",
      "education_id        21525 non-null int64\n",
      "family_status       21525 non-null object\n",
      "family_status_id    21525 non-null int64\n",
      "gender              21525 non-null object\n",
      "income_type         21525 non-null object\n",
      "debt                21525 non-null int64\n",
      "total_income        19351 non-null float64\n",
      "purpose             21525 non-null object\n",
      "dtypes: float64(2), int64(5), object(5)\n",
      "memory usage: 2.0+ MB\n"
     ]
    }
   ],
   "source": [
    "df.info()"
   ]
  },
  {
   "cell_type": "code",
   "execution_count": 4,
   "metadata": {},
   "outputs": [
    {
     "data": {
      "text/plain": [
       "Index(['children', 'days_employed', 'dob_years', 'education', 'education_id',\n",
       "       'family_status', 'family_status_id', 'gender', 'income_type', 'debt',\n",
       "       'total_income', 'purpose'],\n",
       "      dtype='object')"
      ]
     },
     "execution_count": 4,
     "metadata": {},
     "output_type": "execute_result"
    }
   ],
   "source": [
    "df.columns"
   ]
  },
  {
   "cell_type": "code",
   "execution_count": 5,
   "metadata": {},
   "outputs": [
    {
     "data": {
      "text/html": [
       "<div>\n",
       "<style scoped>\n",
       "    .dataframe tbody tr th:only-of-type {\n",
       "        vertical-align: middle;\n",
       "    }\n",
       "\n",
       "    .dataframe tbody tr th {\n",
       "        vertical-align: top;\n",
       "    }\n",
       "\n",
       "    .dataframe thead th {\n",
       "        text-align: right;\n",
       "    }\n",
       "</style>\n",
       "<table border=\"1\" class=\"dataframe\">\n",
       "  <thead>\n",
       "    <tr style=\"text-align: right;\">\n",
       "      <th></th>\n",
       "      <th>children</th>\n",
       "      <th>days_employed</th>\n",
       "      <th>dob_years</th>\n",
       "      <th>education_id</th>\n",
       "      <th>family_status_id</th>\n",
       "      <th>debt</th>\n",
       "      <th>total_income</th>\n",
       "    </tr>\n",
       "  </thead>\n",
       "  <tbody>\n",
       "    <tr>\n",
       "      <td>count</td>\n",
       "      <td>21525.000000</td>\n",
       "      <td>19351.000000</td>\n",
       "      <td>21525.000000</td>\n",
       "      <td>21525.000000</td>\n",
       "      <td>21525.000000</td>\n",
       "      <td>21525.000000</td>\n",
       "      <td>1.935100e+04</td>\n",
       "    </tr>\n",
       "    <tr>\n",
       "      <td>mean</td>\n",
       "      <td>0.538908</td>\n",
       "      <td>63046.497661</td>\n",
       "      <td>43.293380</td>\n",
       "      <td>0.817236</td>\n",
       "      <td>0.972544</td>\n",
       "      <td>0.080883</td>\n",
       "      <td>1.674223e+05</td>\n",
       "    </tr>\n",
       "    <tr>\n",
       "      <td>std</td>\n",
       "      <td>1.381587</td>\n",
       "      <td>140827.311974</td>\n",
       "      <td>12.574584</td>\n",
       "      <td>0.548138</td>\n",
       "      <td>1.420324</td>\n",
       "      <td>0.272661</td>\n",
       "      <td>1.029716e+05</td>\n",
       "    </tr>\n",
       "    <tr>\n",
       "      <td>min</td>\n",
       "      <td>-1.000000</td>\n",
       "      <td>-18388.949901</td>\n",
       "      <td>0.000000</td>\n",
       "      <td>0.000000</td>\n",
       "      <td>0.000000</td>\n",
       "      <td>0.000000</td>\n",
       "      <td>2.066726e+04</td>\n",
       "    </tr>\n",
       "    <tr>\n",
       "      <td>25%</td>\n",
       "      <td>0.000000</td>\n",
       "      <td>-2747.423625</td>\n",
       "      <td>33.000000</td>\n",
       "      <td>1.000000</td>\n",
       "      <td>0.000000</td>\n",
       "      <td>0.000000</td>\n",
       "      <td>1.030532e+05</td>\n",
       "    </tr>\n",
       "    <tr>\n",
       "      <td>50%</td>\n",
       "      <td>0.000000</td>\n",
       "      <td>-1203.369529</td>\n",
       "      <td>42.000000</td>\n",
       "      <td>1.000000</td>\n",
       "      <td>0.000000</td>\n",
       "      <td>0.000000</td>\n",
       "      <td>1.450179e+05</td>\n",
       "    </tr>\n",
       "    <tr>\n",
       "      <td>75%</td>\n",
       "      <td>1.000000</td>\n",
       "      <td>-291.095954</td>\n",
       "      <td>53.000000</td>\n",
       "      <td>1.000000</td>\n",
       "      <td>1.000000</td>\n",
       "      <td>0.000000</td>\n",
       "      <td>2.034351e+05</td>\n",
       "    </tr>\n",
       "    <tr>\n",
       "      <td>max</td>\n",
       "      <td>20.000000</td>\n",
       "      <td>401755.400475</td>\n",
       "      <td>75.000000</td>\n",
       "      <td>4.000000</td>\n",
       "      <td>4.000000</td>\n",
       "      <td>1.000000</td>\n",
       "      <td>2.265604e+06</td>\n",
       "    </tr>\n",
       "  </tbody>\n",
       "</table>\n",
       "</div>"
      ],
      "text/plain": [
       "           children  days_employed     dob_years  education_id  \\\n",
       "count  21525.000000   19351.000000  21525.000000  21525.000000   \n",
       "mean       0.538908   63046.497661     43.293380      0.817236   \n",
       "std        1.381587  140827.311974     12.574584      0.548138   \n",
       "min       -1.000000  -18388.949901      0.000000      0.000000   \n",
       "25%        0.000000   -2747.423625     33.000000      1.000000   \n",
       "50%        0.000000   -1203.369529     42.000000      1.000000   \n",
       "75%        1.000000    -291.095954     53.000000      1.000000   \n",
       "max       20.000000  401755.400475     75.000000      4.000000   \n",
       "\n",
       "       family_status_id          debt  total_income  \n",
       "count      21525.000000  21525.000000  1.935100e+04  \n",
       "mean           0.972544      0.080883  1.674223e+05  \n",
       "std            1.420324      0.272661  1.029716e+05  \n",
       "min            0.000000      0.000000  2.066726e+04  \n",
       "25%            0.000000      0.000000  1.030532e+05  \n",
       "50%            0.000000      0.000000  1.450179e+05  \n",
       "75%            1.000000      0.000000  2.034351e+05  \n",
       "max            4.000000      1.000000  2.265604e+06  "
      ]
     },
     "execution_count": 5,
     "metadata": {},
     "output_type": "execute_result"
    }
   ],
   "source": [
    "df.describe()"
   ]
  },
  {
   "cell_type": "markdown",
   "metadata": {},
   "source": [
    "У нас есть датафрейм на 21525 строк. С первого взгляда видны аномалии в столбце \"days_employed\" и \"children\" в виде отрицательных значений и значений с плавающей точкой. Еще видны неполные дубликаты в столбце \"education\" в виде строк с разными регистрами. Кроме того, в столбце \"total_income\" слишком много элементов в дробной части. Так же я обнаружил пропущенные значения в столбцах \"days_employed\" и \"total_income\". Названия столбцов записаны полностью латиницей, без пробелов и разных регистров."
   ]
  },
  {
   "cell_type": "markdown",
   "metadata": {},
   "source": [
    "## Предобработка данных"
   ]
  },
  {
   "cell_type": "markdown",
   "metadata": {},
   "source": [
    "### Обработка пропусков"
   ]
  },
  {
   "cell_type": "code",
   "execution_count": 6,
   "metadata": {},
   "outputs": [
    {
     "data": {
      "text/plain": [
       "children               0\n",
       "days_employed       2174\n",
       "dob_years              0\n",
       "education              0\n",
       "education_id           0\n",
       "family_status          0\n",
       "family_status_id       0\n",
       "gender                 0\n",
       "income_type            0\n",
       "debt                   0\n",
       "total_income        2174\n",
       "purpose                0\n",
       "dtype: int64"
      ]
     },
     "execution_count": 6,
     "metadata": {},
     "output_type": "execute_result"
    }
   ],
   "source": [
    "df.isnull().sum()"
   ]
  },
  {
   "cell_type": "code",
   "execution_count": 7,
   "metadata": {},
   "outputs": [
    {
     "data": {
      "text/html": [
       "<div>\n",
       "<style scoped>\n",
       "    .dataframe tbody tr th:only-of-type {\n",
       "        vertical-align: middle;\n",
       "    }\n",
       "\n",
       "    .dataframe tbody tr th {\n",
       "        vertical-align: top;\n",
       "    }\n",
       "\n",
       "    .dataframe thead th {\n",
       "        text-align: right;\n",
       "    }\n",
       "</style>\n",
       "<table border=\"1\" class=\"dataframe\">\n",
       "  <thead>\n",
       "    <tr style=\"text-align: right;\">\n",
       "      <th></th>\n",
       "      <th>children</th>\n",
       "      <th>days_employed</th>\n",
       "      <th>dob_years</th>\n",
       "      <th>education</th>\n",
       "      <th>education_id</th>\n",
       "      <th>family_status</th>\n",
       "      <th>family_status_id</th>\n",
       "      <th>gender</th>\n",
       "      <th>income_type</th>\n",
       "      <th>debt</th>\n",
       "      <th>total_income</th>\n",
       "      <th>purpose</th>\n",
       "    </tr>\n",
       "  </thead>\n",
       "  <tbody>\n",
       "    <tr>\n",
       "      <td>12</td>\n",
       "      <td>0</td>\n",
       "      <td>NaN</td>\n",
       "      <td>65</td>\n",
       "      <td>среднее</td>\n",
       "      <td>1</td>\n",
       "      <td>гражданский брак</td>\n",
       "      <td>1</td>\n",
       "      <td>M</td>\n",
       "      <td>пенсионер</td>\n",
       "      <td>0</td>\n",
       "      <td>NaN</td>\n",
       "      <td>сыграть свадьбу</td>\n",
       "    </tr>\n",
       "    <tr>\n",
       "      <td>26</td>\n",
       "      <td>0</td>\n",
       "      <td>NaN</td>\n",
       "      <td>41</td>\n",
       "      <td>среднее</td>\n",
       "      <td>1</td>\n",
       "      <td>женат / замужем</td>\n",
       "      <td>0</td>\n",
       "      <td>M</td>\n",
       "      <td>госслужащий</td>\n",
       "      <td>0</td>\n",
       "      <td>NaN</td>\n",
       "      <td>образование</td>\n",
       "    </tr>\n",
       "    <tr>\n",
       "      <td>29</td>\n",
       "      <td>0</td>\n",
       "      <td>NaN</td>\n",
       "      <td>63</td>\n",
       "      <td>среднее</td>\n",
       "      <td>1</td>\n",
       "      <td>Не женат / не замужем</td>\n",
       "      <td>4</td>\n",
       "      <td>F</td>\n",
       "      <td>пенсионер</td>\n",
       "      <td>0</td>\n",
       "      <td>NaN</td>\n",
       "      <td>строительство жилой недвижимости</td>\n",
       "    </tr>\n",
       "    <tr>\n",
       "      <td>41</td>\n",
       "      <td>0</td>\n",
       "      <td>NaN</td>\n",
       "      <td>50</td>\n",
       "      <td>среднее</td>\n",
       "      <td>1</td>\n",
       "      <td>женат / замужем</td>\n",
       "      <td>0</td>\n",
       "      <td>F</td>\n",
       "      <td>госслужащий</td>\n",
       "      <td>0</td>\n",
       "      <td>NaN</td>\n",
       "      <td>сделка с подержанным автомобилем</td>\n",
       "    </tr>\n",
       "    <tr>\n",
       "      <td>55</td>\n",
       "      <td>0</td>\n",
       "      <td>NaN</td>\n",
       "      <td>54</td>\n",
       "      <td>среднее</td>\n",
       "      <td>1</td>\n",
       "      <td>гражданский брак</td>\n",
       "      <td>1</td>\n",
       "      <td>F</td>\n",
       "      <td>пенсионер</td>\n",
       "      <td>1</td>\n",
       "      <td>NaN</td>\n",
       "      <td>сыграть свадьбу</td>\n",
       "    </tr>\n",
       "  </tbody>\n",
       "</table>\n",
       "</div>"
      ],
      "text/plain": [
       "    children  days_employed  dob_years education  education_id  \\\n",
       "12         0            NaN         65   среднее             1   \n",
       "26         0            NaN         41   среднее             1   \n",
       "29         0            NaN         63   среднее             1   \n",
       "41         0            NaN         50   среднее             1   \n",
       "55         0            NaN         54   среднее             1   \n",
       "\n",
       "            family_status  family_status_id gender  income_type  debt  \\\n",
       "12       гражданский брак                 1      M    пенсионер     0   \n",
       "26        женат / замужем                 0      M  госслужащий     0   \n",
       "29  Не женат / не замужем                 4      F    пенсионер     0   \n",
       "41        женат / замужем                 0      F  госслужащий     0   \n",
       "55       гражданский брак                 1      F    пенсионер     1   \n",
       "\n",
       "    total_income                           purpose  \n",
       "12           NaN                   сыграть свадьбу  \n",
       "26           NaN                       образование  \n",
       "29           NaN  строительство жилой недвижимости  \n",
       "41           NaN  сделка с подержанным автомобилем  \n",
       "55           NaN                   сыграть свадьбу  "
      ]
     },
     "execution_count": 7,
     "metadata": {},
     "output_type": "execute_result"
    }
   ],
   "source": [
    "null_data = df[df.isnull().any(axis=1)]\n",
    "null_data.head(5)"
   ]
  },
  {
   "cell_type": "code",
   "execution_count": 8,
   "metadata": {
    "scrolled": true
   },
   "outputs": [
    {
     "data": {
      "text/plain": [
       "count     19351.000000\n",
       "mean      63046.497661\n",
       "std      140827.311974\n",
       "min      -18388.949901\n",
       "25%       -2747.423625\n",
       "50%       -1203.369529\n",
       "75%        -291.095954\n",
       "max      401755.400475\n",
       "Name: days_employed, dtype: float64"
      ]
     },
     "execution_count": 8,
     "metadata": {},
     "output_type": "execute_result"
    }
   ],
   "source": [
    "df['days_employed'].describe()"
   ]
  },
  {
   "cell_type": "code",
   "execution_count": 9,
   "metadata": {},
   "outputs": [
    {
     "data": {
      "text/plain": [
       "count    19351.000000\n",
       "mean       773.409931\n",
       "std       7045.147683\n",
       "min     -18388.949901\n",
       "25%      -2747.423625\n",
       "50%      -1203.369529\n",
       "75%       -291.095954\n",
       "max      16739.808353\n",
       "Name: days_employed, dtype: float64"
      ]
     },
     "execution_count": 9,
     "metadata": {},
     "output_type": "execute_result"
    }
   ],
   "source": [
    "df.loc[(df['days_employed'] >= 0), 'days_employed'] /= 24\n",
    "df['days_employed'].describe()"
   ]
  },
  {
   "cell_type": "code",
   "execution_count": 10,
   "metadata": {},
   "outputs": [
    {
     "data": {
      "text/plain": [
       "count    19351.000000\n",
       "mean      4641.641176\n",
       "std       5355.964289\n",
       "min         24.141633\n",
       "25%        927.009265\n",
       "50%       2194.220567\n",
       "75%       5537.882441\n",
       "max      18388.949901\n",
       "Name: days_employed, dtype: float64"
      ]
     },
     "execution_count": 10,
     "metadata": {},
     "output_type": "execute_result"
    }
   ],
   "source": [
    "df['days_employed'].abs().describe()"
   ]
  },
  {
   "cell_type": "code",
   "execution_count": 11,
   "metadata": {},
   "outputs": [],
   "source": [
    "df['days_employed'] = df['days_employed'].abs()"
   ]
  },
  {
   "cell_type": "code",
   "execution_count": 12,
   "metadata": {
    "scrolled": true
   },
   "outputs": [],
   "source": [
    "df['total_income'] = df.groupby(['gender', 'income_type', 'education'])['total_income'] \\\n",
    "                       .transform(lambda x: x.fillna(x.median()))"
   ]
  },
  {
   "cell_type": "code",
   "execution_count": 13,
   "metadata": {},
   "outputs": [],
   "source": [
    "df['total_income'] = df['total_income'].fillna(df['total_income'].median())"
   ]
  },
  {
   "cell_type": "code",
   "execution_count": 14,
   "metadata": {},
   "outputs": [],
   "source": [
    "train = df.sample(frac=.7,random_state=42).copy()"
   ]
  },
  {
   "cell_type": "code",
   "execution_count": 15,
   "metadata": {},
   "outputs": [],
   "source": [
    "test = df[~df.index.isin(train.index)].copy()"
   ]
  },
  {
   "cell_type": "code",
   "execution_count": 16,
   "metadata": {},
   "outputs": [
    {
     "data": {
      "text/plain": [
       "15067"
      ]
     },
     "execution_count": 16,
     "metadata": {},
     "output_type": "execute_result"
    }
   ],
   "source": [
    "len(train)"
   ]
  },
  {
   "cell_type": "code",
   "execution_count": 17,
   "metadata": {},
   "outputs": [
    {
     "data": {
      "text/plain": [
       "6458"
      ]
     },
     "execution_count": 17,
     "metadata": {},
     "output_type": "execute_result"
    }
   ],
   "source": [
    "len(test)"
   ]
  },
  {
   "cell_type": "code",
   "execution_count": 18,
   "metadata": {},
   "outputs": [
    {
     "data": {
      "text/plain": [
       "21525"
      ]
     },
     "execution_count": 18,
     "metadata": {},
     "output_type": "execute_result"
    }
   ],
   "source": [
    "len(df)"
   ]
  },
  {
   "cell_type": "code",
   "execution_count": 19,
   "metadata": {},
   "outputs": [
    {
     "data": {
      "text/plain": [
       "21525"
      ]
     },
     "execution_count": 19,
     "metadata": {},
     "output_type": "execute_result"
    }
   ],
   "source": [
    "len(train) + len(test)"
   ]
  },
  {
   "cell_type": "code",
   "execution_count": 20,
   "metadata": {},
   "outputs": [
    {
     "data": {
      "text/plain": [
       "165747.49112376754"
      ]
     },
     "execution_count": 20,
     "metadata": {},
     "output_type": "execute_result"
    }
   ],
   "source": [
    "train['total_income'].mean()"
   ]
  },
  {
   "cell_type": "code",
   "execution_count": 21,
   "metadata": {},
   "outputs": [],
   "source": [
    "test['income_pred'] = train['total_income'].mean()"
   ]
  },
  {
   "cell_type": "code",
   "execution_count": 22,
   "metadata": {},
   "outputs": [],
   "source": [
    "test['income_pred_med'] = train['total_income'].median()"
   ]
  },
  {
   "cell_type": "code",
   "execution_count": 23,
   "metadata": {},
   "outputs": [
    {
     "data": {
      "text/plain": [
       "64703.88654627921"
      ]
     },
     "execution_count": 23,
     "metadata": {},
     "output_type": "execute_result"
    }
   ],
   "source": [
    "(test['total_income'] - test['income_pred']).abs().mean()"
   ]
  },
  {
   "cell_type": "code",
   "execution_count": 24,
   "metadata": {},
   "outputs": [
    {
     "data": {
      "text/plain": [
       "children               0\n",
       "days_employed       2174\n",
       "dob_years              0\n",
       "education              0\n",
       "education_id           0\n",
       "family_status          0\n",
       "family_status_id       0\n",
       "gender                 0\n",
       "income_type            0\n",
       "debt                   0\n",
       "total_income           0\n",
       "purpose                0\n",
       "dtype: int64"
      ]
     },
     "execution_count": 24,
     "metadata": {},
     "output_type": "execute_result"
    }
   ],
   "source": [
    "df.isnull().sum()"
   ]
  },
  {
   "cell_type": "code",
   "execution_count": 25,
   "metadata": {},
   "outputs": [
    {
     "data": {
      "text/plain": [
       "101"
      ]
     },
     "execution_count": 25,
     "metadata": {},
     "output_type": "execute_result"
    }
   ],
   "source": [
    "df[df['dob_years'] == 0]['dob_years'].sort_values().count()"
   ]
  },
  {
   "cell_type": "code",
   "execution_count": 26,
   "metadata": {},
   "outputs": [],
   "source": [
    "groupped_median = df.groupby('family_status')['dob_years'].median()\n",
    "df.loc[(df['dob_years'] == 0), 'dob_years'] = groupped_median[1]"
   ]
  },
  {
   "cell_type": "markdown",
   "metadata": {},
   "source": [
    "Заменил нулевые значения возраста медианой в соответствии с семейным положением"
   ]
  },
  {
   "cell_type": "code",
   "execution_count": 27,
   "metadata": {},
   "outputs": [
    {
     "data": {
      "text/plain": [
       "0"
      ]
     },
     "execution_count": 27,
     "metadata": {},
     "output_type": "execute_result"
    }
   ],
   "source": [
    "df[df['dob_years'] == 0]['dob_years'].sort_values().count()"
   ]
  },
  {
   "cell_type": "code",
   "execution_count": 28,
   "metadata": {},
   "outputs": [
    {
     "data": {
      "text/plain": [
       "children               0\n",
       "days_employed       2174\n",
       "dob_years              0\n",
       "education              0\n",
       "education_id           0\n",
       "family_status          0\n",
       "family_status_id       0\n",
       "gender                 0\n",
       "income_type            0\n",
       "debt                   0\n",
       "total_income           0\n",
       "purpose                0\n",
       "dtype: int64"
      ]
     },
     "execution_count": 28,
     "metadata": {},
     "output_type": "execute_result"
    }
   ],
   "source": [
    "df.isnull().sum()"
   ]
  },
  {
   "cell_type": "code",
   "execution_count": 29,
   "metadata": {},
   "outputs": [],
   "source": [
    "def category_age(data):\n",
    "    if data[0] < 35:\n",
    "        return 'молодежь'\n",
    "    elif ((35 <= data[0] < 65) & (data[1] == 'M')) | \\\n",
    "         ((35 <= data[0] < 60) & (data[1] == 'F')):\n",
    "        return 'взрослые'\n",
    "    return 'пенсионеры'"
   ]
  },
  {
   "cell_type": "markdown",
   "metadata": {},
   "source": [
    "Молодежь и пенсионеров взял в соответствии с законодательством"
   ]
  },
  {
   "cell_type": "code",
   "execution_count": 30,
   "metadata": {},
   "outputs": [],
   "source": [
    "df['age_cat'] = df[['dob_years', 'gender']].apply(category_age, axis=1)"
   ]
  },
  {
   "cell_type": "code",
   "execution_count": 31,
   "metadata": {},
   "outputs": [],
   "source": [
    "df['days_employed'] = df.groupby('age_cat')['days_employed'] \\\n",
    "                        .transform(lambda x: x.fillna(x.median()))"
   ]
  },
  {
   "cell_type": "markdown",
   "metadata": {},
   "source": [
    "Заменил пропуски в трудовом стаже на медианные значения в зависимости от возрастной категории"
   ]
  },
  {
   "cell_type": "code",
   "execution_count": 32,
   "metadata": {},
   "outputs": [
    {
     "data": {
      "text/plain": [
       "children            0\n",
       "days_employed       0\n",
       "dob_years           0\n",
       "education           0\n",
       "education_id        0\n",
       "family_status       0\n",
       "family_status_id    0\n",
       "gender              0\n",
       "income_type         0\n",
       "debt                0\n",
       "total_income        0\n",
       "purpose             0\n",
       "age_cat             0\n",
       "dtype: int64"
      ]
     },
     "execution_count": 32,
     "metadata": {},
     "output_type": "execute_result"
    }
   ],
   "source": [
    "df.isnull().sum()"
   ]
  },
  {
   "cell_type": "code",
   "execution_count": 33,
   "metadata": {},
   "outputs": [
    {
     "data": {
      "text/html": [
       "<div>\n",
       "<style scoped>\n",
       "    .dataframe tbody tr th:only-of-type {\n",
       "        vertical-align: middle;\n",
       "    }\n",
       "\n",
       "    .dataframe tbody tr th {\n",
       "        vertical-align: top;\n",
       "    }\n",
       "\n",
       "    .dataframe thead th {\n",
       "        text-align: right;\n",
       "    }\n",
       "</style>\n",
       "<table border=\"1\" class=\"dataframe\">\n",
       "  <thead>\n",
       "    <tr style=\"text-align: right;\">\n",
       "      <th></th>\n",
       "      <th>children</th>\n",
       "      <th>days_employed</th>\n",
       "      <th>dob_years</th>\n",
       "      <th>education_id</th>\n",
       "      <th>family_status_id</th>\n",
       "      <th>debt</th>\n",
       "      <th>total_income</th>\n",
       "    </tr>\n",
       "  </thead>\n",
       "  <tbody>\n",
       "    <tr>\n",
       "      <td>count</td>\n",
       "      <td>21525.000000</td>\n",
       "      <td>21525.000000</td>\n",
       "      <td>21525.000000</td>\n",
       "      <td>21525.000000</td>\n",
       "      <td>21525.000000</td>\n",
       "      <td>21525.000000</td>\n",
       "      <td>2.152500e+04</td>\n",
       "    </tr>\n",
       "    <tr>\n",
       "      <td>mean</td>\n",
       "      <td>0.538908</td>\n",
       "      <td>4521.865542</td>\n",
       "      <td>43.509222</td>\n",
       "      <td>0.817236</td>\n",
       "      <td>0.972544</td>\n",
       "      <td>0.080883</td>\n",
       "      <td>1.653978e+05</td>\n",
       "    </tr>\n",
       "    <tr>\n",
       "      <td>std</td>\n",
       "      <td>1.381587</td>\n",
       "      <td>5240.686707</td>\n",
       "      <td>12.219363</td>\n",
       "      <td>0.548138</td>\n",
       "      <td>1.420324</td>\n",
       "      <td>0.272661</td>\n",
       "      <td>9.829815e+04</td>\n",
       "    </tr>\n",
       "    <tr>\n",
       "      <td>min</td>\n",
       "      <td>-1.000000</td>\n",
       "      <td>24.141633</td>\n",
       "      <td>19.000000</td>\n",
       "      <td>0.000000</td>\n",
       "      <td>0.000000</td>\n",
       "      <td>0.000000</td>\n",
       "      <td>2.066726e+04</td>\n",
       "    </tr>\n",
       "    <tr>\n",
       "      <td>25%</td>\n",
       "      <td>0.000000</td>\n",
       "      <td>1025.608174</td>\n",
       "      <td>34.000000</td>\n",
       "      <td>1.000000</td>\n",
       "      <td>0.000000</td>\n",
       "      <td>0.000000</td>\n",
       "      <td>1.077145e+05</td>\n",
       "    </tr>\n",
       "    <tr>\n",
       "      <td>50%</td>\n",
       "      <td>0.000000</td>\n",
       "      <td>2385.358043</td>\n",
       "      <td>43.000000</td>\n",
       "      <td>1.000000</td>\n",
       "      <td>0.000000</td>\n",
       "      <td>0.000000</td>\n",
       "      <td>1.449026e+05</td>\n",
       "    </tr>\n",
       "    <tr>\n",
       "      <td>75%</td>\n",
       "      <td>1.000000</td>\n",
       "      <td>5068.532819</td>\n",
       "      <td>53.000000</td>\n",
       "      <td>1.000000</td>\n",
       "      <td>1.000000</td>\n",
       "      <td>0.000000</td>\n",
       "      <td>1.966348e+05</td>\n",
       "    </tr>\n",
       "    <tr>\n",
       "      <td>max</td>\n",
       "      <td>20.000000</td>\n",
       "      <td>18388.949901</td>\n",
       "      <td>75.000000</td>\n",
       "      <td>4.000000</td>\n",
       "      <td>4.000000</td>\n",
       "      <td>1.000000</td>\n",
       "      <td>2.265604e+06</td>\n",
       "    </tr>\n",
       "  </tbody>\n",
       "</table>\n",
       "</div>"
      ],
      "text/plain": [
       "           children  days_employed     dob_years  education_id  \\\n",
       "count  21525.000000   21525.000000  21525.000000  21525.000000   \n",
       "mean       0.538908    4521.865542     43.509222      0.817236   \n",
       "std        1.381587    5240.686707     12.219363      0.548138   \n",
       "min       -1.000000      24.141633     19.000000      0.000000   \n",
       "25%        0.000000    1025.608174     34.000000      1.000000   \n",
       "50%        0.000000    2385.358043     43.000000      1.000000   \n",
       "75%        1.000000    5068.532819     53.000000      1.000000   \n",
       "max       20.000000   18388.949901     75.000000      4.000000   \n",
       "\n",
       "       family_status_id          debt  total_income  \n",
       "count      21525.000000  21525.000000  2.152500e+04  \n",
       "mean           0.972544      0.080883  1.653978e+05  \n",
       "std            1.420324      0.272661  9.829815e+04  \n",
       "min            0.000000      0.000000  2.066726e+04  \n",
       "25%            0.000000      0.000000  1.077145e+05  \n",
       "50%            0.000000      0.000000  1.449026e+05  \n",
       "75%            1.000000      0.000000  1.966348e+05  \n",
       "max            4.000000      1.000000  2.265604e+06  "
      ]
     },
     "execution_count": 33,
     "metadata": {},
     "output_type": "execute_result"
    }
   ],
   "source": [
    "df.describe()"
   ]
  },
  {
   "cell_type": "code",
   "execution_count": 34,
   "metadata": {},
   "outputs": [
    {
     "data": {
      "text/html": [
       "<div>\n",
       "<style scoped>\n",
       "    .dataframe tbody tr th:only-of-type {\n",
       "        vertical-align: middle;\n",
       "    }\n",
       "\n",
       "    .dataframe tbody tr th {\n",
       "        vertical-align: top;\n",
       "    }\n",
       "\n",
       "    .dataframe thead th {\n",
       "        text-align: right;\n",
       "    }\n",
       "</style>\n",
       "<table border=\"1\" class=\"dataframe\">\n",
       "  <thead>\n",
       "    <tr style=\"text-align: right;\">\n",
       "      <th></th>\n",
       "      <th>children</th>\n",
       "      <th>days_employed</th>\n",
       "      <th>dob_years</th>\n",
       "      <th>education_id</th>\n",
       "      <th>family_status_id</th>\n",
       "      <th>debt</th>\n",
       "      <th>total_income</th>\n",
       "    </tr>\n",
       "  </thead>\n",
       "  <tbody>\n",
       "    <tr>\n",
       "      <td>count</td>\n",
       "      <td>21525.000000</td>\n",
       "      <td>21525.000000</td>\n",
       "      <td>21525.000000</td>\n",
       "      <td>21525.000000</td>\n",
       "      <td>21525.000000</td>\n",
       "      <td>21525.000000</td>\n",
       "      <td>2.152500e+04</td>\n",
       "    </tr>\n",
       "    <tr>\n",
       "      <td>mean</td>\n",
       "      <td>0.543275</td>\n",
       "      <td>4521.865542</td>\n",
       "      <td>43.509222</td>\n",
       "      <td>0.817236</td>\n",
       "      <td>0.972544</td>\n",
       "      <td>0.080883</td>\n",
       "      <td>1.653978e+05</td>\n",
       "    </tr>\n",
       "    <tr>\n",
       "      <td>std</td>\n",
       "      <td>1.379876</td>\n",
       "      <td>5240.686707</td>\n",
       "      <td>12.219363</td>\n",
       "      <td>0.548138</td>\n",
       "      <td>1.420324</td>\n",
       "      <td>0.272661</td>\n",
       "      <td>9.829815e+04</td>\n",
       "    </tr>\n",
       "    <tr>\n",
       "      <td>min</td>\n",
       "      <td>0.000000</td>\n",
       "      <td>24.141633</td>\n",
       "      <td>19.000000</td>\n",
       "      <td>0.000000</td>\n",
       "      <td>0.000000</td>\n",
       "      <td>0.000000</td>\n",
       "      <td>2.066726e+04</td>\n",
       "    </tr>\n",
       "    <tr>\n",
       "      <td>25%</td>\n",
       "      <td>0.000000</td>\n",
       "      <td>1025.608174</td>\n",
       "      <td>34.000000</td>\n",
       "      <td>1.000000</td>\n",
       "      <td>0.000000</td>\n",
       "      <td>0.000000</td>\n",
       "      <td>1.077145e+05</td>\n",
       "    </tr>\n",
       "    <tr>\n",
       "      <td>50%</td>\n",
       "      <td>0.000000</td>\n",
       "      <td>2385.358043</td>\n",
       "      <td>43.000000</td>\n",
       "      <td>1.000000</td>\n",
       "      <td>0.000000</td>\n",
       "      <td>0.000000</td>\n",
       "      <td>1.449026e+05</td>\n",
       "    </tr>\n",
       "    <tr>\n",
       "      <td>75%</td>\n",
       "      <td>1.000000</td>\n",
       "      <td>5068.532819</td>\n",
       "      <td>53.000000</td>\n",
       "      <td>1.000000</td>\n",
       "      <td>1.000000</td>\n",
       "      <td>0.000000</td>\n",
       "      <td>1.966348e+05</td>\n",
       "    </tr>\n",
       "    <tr>\n",
       "      <td>max</td>\n",
       "      <td>20.000000</td>\n",
       "      <td>18388.949901</td>\n",
       "      <td>75.000000</td>\n",
       "      <td>4.000000</td>\n",
       "      <td>4.000000</td>\n",
       "      <td>1.000000</td>\n",
       "      <td>2.265604e+06</td>\n",
       "    </tr>\n",
       "  </tbody>\n",
       "</table>\n",
       "</div>"
      ],
      "text/plain": [
       "           children  days_employed     dob_years  education_id  \\\n",
       "count  21525.000000   21525.000000  21525.000000  21525.000000   \n",
       "mean       0.543275    4521.865542     43.509222      0.817236   \n",
       "std        1.379876    5240.686707     12.219363      0.548138   \n",
       "min        0.000000      24.141633     19.000000      0.000000   \n",
       "25%        0.000000    1025.608174     34.000000      1.000000   \n",
       "50%        0.000000    2385.358043     43.000000      1.000000   \n",
       "75%        1.000000    5068.532819     53.000000      1.000000   \n",
       "max       20.000000   18388.949901     75.000000      4.000000   \n",
       "\n",
       "       family_status_id          debt  total_income  \n",
       "count      21525.000000  21525.000000  2.152500e+04  \n",
       "mean           0.972544      0.080883  1.653978e+05  \n",
       "std            1.420324      0.272661  9.829815e+04  \n",
       "min            0.000000      0.000000  2.066726e+04  \n",
       "25%            0.000000      0.000000  1.077145e+05  \n",
       "50%            0.000000      0.000000  1.449026e+05  \n",
       "75%            1.000000      0.000000  1.966348e+05  \n",
       "max            4.000000      1.000000  2.265604e+06  "
      ]
     },
     "execution_count": 34,
     "metadata": {},
     "output_type": "execute_result"
    }
   ],
   "source": [
    "df['children'] = df['children'].abs()\n",
    "df.describe()"
   ]
  },
  {
   "cell_type": "code",
   "execution_count": 35,
   "metadata": {
    "scrolled": false
   },
   "outputs": [
    {
     "data": {
      "text/plain": [
       "0     14149\n",
       "1      4865\n",
       "2      2055\n",
       "3       330\n",
       "20       76\n",
       "4        41\n",
       "5         9\n",
       "Name: children, dtype: int64"
      ]
     },
     "execution_count": 35,
     "metadata": {},
     "output_type": "execute_result"
    }
   ],
   "source": [
    "df['children'].value_counts()"
   ]
  },
  {
   "cell_type": "code",
   "execution_count": 36,
   "metadata": {},
   "outputs": [],
   "source": [
    "def child_fill(data):\n",
    "    if (data[0] == 'молодежь') & (data[1] in [1, 4]):\n",
    "        return 0\n",
    "    return 2\n",
    "\n",
    "df.loc[df['children'] == 20, 'children'] = df[['age_cat', 'family_status_id']] \\\n",
    "                                             .apply(child_fill, axis=1)"
   ]
  },
  {
   "cell_type": "markdown",
   "metadata": {},
   "source": [
    "Разбил 20-детных так: если человеку меньше 35 лет и он не женат / не за мужем или в гражданском браке, то детей 0. В остальных случаях детей 2"
   ]
  },
  {
   "cell_type": "code",
   "execution_count": 37,
   "metadata": {},
   "outputs": [
    {
     "data": {
      "text/plain": [
       "0    14157\n",
       "1     4865\n",
       "2     2123\n",
       "3      330\n",
       "4       41\n",
       "5        9\n",
       "Name: children, dtype: int64"
      ]
     },
     "execution_count": 37,
     "metadata": {},
     "output_type": "execute_result"
    }
   ],
   "source": [
    "df['children'].value_counts()"
   ]
  },
  {
   "cell_type": "markdown",
   "metadata": {},
   "source": [
    "Значения пропущены только в столбце 'days_employed' и 'total_income'. Так как пропуски обозначаются NaN (not a number), возможно, при оформлении заявки в графу \"трудовой стаж\" и \"доход в месяц\" люди писали ответ не числом, а текстом, а форма готова была принять только числовое значение.\n",
    "Так как в двух столбцах с пропущенными значениями переменные являются количественными и число пропусков достигает почти 10% от всех строк датафрейма, то мы не можем удалить эти строки. Поэтому заменим их на значение медианы (расчитана в зависимости от возрастной группы для стажа и в зависимости от пола, типа занятости и образования для дохода), посчитанной для каждого столбца, но перед этим исправим баг с трудовым стажем (разделим положительные значения на 24, т.к. они (скорее всего) считались в часах и обратим отрицательные значения трудового стажа в положительные). Проверил так же отрицательные значения остальных столбцов. Еще заменил нулевой возсраст на медиану, расчитанную в зависимости от семейного положения и разбил 20-детных клиентов на клиентов без детей и клиентов с 2 детьми."
   ]
  },
  {
   "cell_type": "markdown",
   "metadata": {},
   "source": [
    "### Замена типа данных"
   ]
  },
  {
   "cell_type": "code",
   "execution_count": 38,
   "metadata": {},
   "outputs": [],
   "source": [
    "df['days_employed'] = df['days_employed'].astype('int')\n",
    "df['total_income'] = df['total_income'].astype('int')"
   ]
  },
  {
   "cell_type": "code",
   "execution_count": 39,
   "metadata": {},
   "outputs": [
    {
     "data": {
      "text/html": [
       "<div>\n",
       "<style scoped>\n",
       "    .dataframe tbody tr th:only-of-type {\n",
       "        vertical-align: middle;\n",
       "    }\n",
       "\n",
       "    .dataframe tbody tr th {\n",
       "        vertical-align: top;\n",
       "    }\n",
       "\n",
       "    .dataframe thead th {\n",
       "        text-align: right;\n",
       "    }\n",
       "</style>\n",
       "<table border=\"1\" class=\"dataframe\">\n",
       "  <thead>\n",
       "    <tr style=\"text-align: right;\">\n",
       "      <th></th>\n",
       "      <th>children</th>\n",
       "      <th>days_employed</th>\n",
       "      <th>dob_years</th>\n",
       "      <th>education</th>\n",
       "      <th>education_id</th>\n",
       "      <th>family_status</th>\n",
       "      <th>family_status_id</th>\n",
       "      <th>gender</th>\n",
       "      <th>income_type</th>\n",
       "      <th>debt</th>\n",
       "      <th>total_income</th>\n",
       "      <th>purpose</th>\n",
       "      <th>age_cat</th>\n",
       "    </tr>\n",
       "  </thead>\n",
       "  <tbody>\n",
       "    <tr>\n",
       "      <td>0</td>\n",
       "      <td>1</td>\n",
       "      <td>8437</td>\n",
       "      <td>42</td>\n",
       "      <td>высшее</td>\n",
       "      <td>0</td>\n",
       "      <td>женат / замужем</td>\n",
       "      <td>0</td>\n",
       "      <td>F</td>\n",
       "      <td>сотрудник</td>\n",
       "      <td>0</td>\n",
       "      <td>253875</td>\n",
       "      <td>покупка жилья</td>\n",
       "      <td>взрослые</td>\n",
       "    </tr>\n",
       "    <tr>\n",
       "      <td>1</td>\n",
       "      <td>1</td>\n",
       "      <td>4024</td>\n",
       "      <td>36</td>\n",
       "      <td>среднее</td>\n",
       "      <td>1</td>\n",
       "      <td>женат / замужем</td>\n",
       "      <td>0</td>\n",
       "      <td>F</td>\n",
       "      <td>сотрудник</td>\n",
       "      <td>0</td>\n",
       "      <td>112080</td>\n",
       "      <td>приобретение автомобиля</td>\n",
       "      <td>взрослые</td>\n",
       "    </tr>\n",
       "    <tr>\n",
       "      <td>2</td>\n",
       "      <td>0</td>\n",
       "      <td>5623</td>\n",
       "      <td>33</td>\n",
       "      <td>Среднее</td>\n",
       "      <td>1</td>\n",
       "      <td>женат / замужем</td>\n",
       "      <td>0</td>\n",
       "      <td>M</td>\n",
       "      <td>сотрудник</td>\n",
       "      <td>0</td>\n",
       "      <td>145885</td>\n",
       "      <td>покупка жилья</td>\n",
       "      <td>молодежь</td>\n",
       "    </tr>\n",
       "    <tr>\n",
       "      <td>3</td>\n",
       "      <td>3</td>\n",
       "      <td>4124</td>\n",
       "      <td>32</td>\n",
       "      <td>среднее</td>\n",
       "      <td>1</td>\n",
       "      <td>женат / замужем</td>\n",
       "      <td>0</td>\n",
       "      <td>M</td>\n",
       "      <td>сотрудник</td>\n",
       "      <td>0</td>\n",
       "      <td>267628</td>\n",
       "      <td>дополнительное образование</td>\n",
       "      <td>молодежь</td>\n",
       "    </tr>\n",
       "    <tr>\n",
       "      <td>4</td>\n",
       "      <td>0</td>\n",
       "      <td>14177</td>\n",
       "      <td>53</td>\n",
       "      <td>среднее</td>\n",
       "      <td>1</td>\n",
       "      <td>гражданский брак</td>\n",
       "      <td>1</td>\n",
       "      <td>F</td>\n",
       "      <td>пенсионер</td>\n",
       "      <td>0</td>\n",
       "      <td>158616</td>\n",
       "      <td>сыграть свадьбу</td>\n",
       "      <td>взрослые</td>\n",
       "    </tr>\n",
       "  </tbody>\n",
       "</table>\n",
       "</div>"
      ],
      "text/plain": [
       "   children  days_employed  dob_years education  education_id  \\\n",
       "0         1           8437         42    высшее             0   \n",
       "1         1           4024         36   среднее             1   \n",
       "2         0           5623         33   Среднее             1   \n",
       "3         3           4124         32   среднее             1   \n",
       "4         0          14177         53   среднее             1   \n",
       "\n",
       "      family_status  family_status_id gender income_type  debt  total_income  \\\n",
       "0   женат / замужем                 0      F   сотрудник     0        253875   \n",
       "1   женат / замужем                 0      F   сотрудник     0        112080   \n",
       "2   женат / замужем                 0      M   сотрудник     0        145885   \n",
       "3   женат / замужем                 0      M   сотрудник     0        267628   \n",
       "4  гражданский брак                 1      F   пенсионер     0        158616   \n",
       "\n",
       "                      purpose   age_cat  \n",
       "0               покупка жилья  взрослые  \n",
       "1     приобретение автомобиля  взрослые  \n",
       "2               покупка жилья  молодежь  \n",
       "3  дополнительное образование  молодежь  \n",
       "4             сыграть свадьбу  взрослые  "
      ]
     },
     "execution_count": 39,
     "metadata": {},
     "output_type": "execute_result"
    }
   ],
   "source": [
    "df.head()"
   ]
  },
  {
   "cell_type": "code",
   "execution_count": 40,
   "metadata": {},
   "outputs": [
    {
     "name": "stdout",
     "output_type": "stream",
     "text": [
      "<class 'pandas.core.frame.DataFrame'>\n",
      "RangeIndex: 21525 entries, 0 to 21524\n",
      "Data columns (total 13 columns):\n",
      "children            21525 non-null int64\n",
      "days_employed       21525 non-null int64\n",
      "dob_years           21525 non-null int64\n",
      "education           21525 non-null object\n",
      "education_id        21525 non-null int64\n",
      "family_status       21525 non-null object\n",
      "family_status_id    21525 non-null int64\n",
      "gender              21525 non-null object\n",
      "income_type         21525 non-null object\n",
      "debt                21525 non-null int64\n",
      "total_income        21525 non-null int64\n",
      "purpose             21525 non-null object\n",
      "age_cat             21525 non-null object\n",
      "dtypes: int64(7), object(6)\n",
      "memory usage: 2.1+ MB\n"
     ]
    }
   ],
   "source": [
    "df.info()"
   ]
  },
  {
   "cell_type": "markdown",
   "metadata": {},
   "source": [
    "Округлил значения трудового стажа вниз (учитываем только полные дни трудового стажа) и тем самым привел тип данных к целым числам. Значения дохода округлил так же до целой части, так как разница в копейках не так существенна в масштабах зарплат."
   ]
  },
  {
   "cell_type": "markdown",
   "metadata": {},
   "source": [
    "### Обработка дубликатов"
   ]
  },
  {
   "cell_type": "code",
   "execution_count": 41,
   "metadata": {},
   "outputs": [
    {
     "data": {
      "text/plain": [
       "55"
      ]
     },
     "execution_count": 41,
     "metadata": {},
     "output_type": "execute_result"
    }
   ],
   "source": [
    "df.duplicated().sum()"
   ]
  },
  {
   "cell_type": "code",
   "execution_count": 42,
   "metadata": {},
   "outputs": [
    {
     "data": {
      "text/plain": [
       "среднее                13750\n",
       "высшее                  4718\n",
       "СРЕДНЕЕ                  772\n",
       "Среднее                  711\n",
       "неоконченное высшее      668\n",
       "ВЫСШЕЕ                   274\n",
       "Высшее                   268\n",
       "начальное                250\n",
       "Неоконченное высшее       47\n",
       "НЕОКОНЧЕННОЕ ВЫСШЕЕ       29\n",
       "НАЧАЛЬНОЕ                 17\n",
       "Начальное                 15\n",
       "ученая степень             4\n",
       "Ученая степень             1\n",
       "УЧЕНАЯ СТЕПЕНЬ             1\n",
       "Name: education, dtype: int64"
      ]
     },
     "execution_count": 42,
     "metadata": {},
     "output_type": "execute_result"
    }
   ],
   "source": [
    "df['education'].value_counts()"
   ]
  },
  {
   "cell_type": "code",
   "execution_count": 43,
   "metadata": {},
   "outputs": [
    {
     "data": {
      "text/plain": [
       "среднее                15233\n",
       "высшее                  5260\n",
       "неоконченное высшее      744\n",
       "начальное                282\n",
       "ученая степень             6\n",
       "Name: education, dtype: int64"
      ]
     },
     "execution_count": 43,
     "metadata": {},
     "output_type": "execute_result"
    }
   ],
   "source": [
    "df['education'] = df['education'].str.lower()\n",
    "df['education'].value_counts()"
   ]
  },
  {
   "cell_type": "code",
   "execution_count": 44,
   "metadata": {},
   "outputs": [
    {
     "data": {
      "text/plain": [
       "женат / замужем          12380\n",
       "гражданский брак          4177\n",
       "Не женат / не замужем     2813\n",
       "в разводе                 1195\n",
       "вдовец / вдова             960\n",
       "Name: family_status, dtype: int64"
      ]
     },
     "execution_count": 44,
     "metadata": {},
     "output_type": "execute_result"
    }
   ],
   "source": [
    "df['family_status'].value_counts()"
   ]
  },
  {
   "cell_type": "code",
   "execution_count": 45,
   "metadata": {},
   "outputs": [
    {
     "data": {
      "text/plain": [
       "женат / замужем          12380\n",
       "гражданский брак          4177\n",
       "не женат / не замужем     2813\n",
       "в разводе                 1195\n",
       "вдовец / вдова             960\n",
       "Name: family_status, dtype: int64"
      ]
     },
     "execution_count": 45,
     "metadata": {},
     "output_type": "execute_result"
    }
   ],
   "source": [
    "df['family_status'] = df['family_status'].str.lower()\n",
    "df['family_status'].value_counts()"
   ]
  },
  {
   "cell_type": "code",
   "execution_count": 46,
   "metadata": {},
   "outputs": [
    {
     "data": {
      "text/plain": [
       "F      14236\n",
       "M       7288\n",
       "XNA        1\n",
       "Name: gender, dtype: int64"
      ]
     },
     "execution_count": 46,
     "metadata": {},
     "output_type": "execute_result"
    }
   ],
   "source": [
    "df['gender'].value_counts()"
   ]
  },
  {
   "cell_type": "code",
   "execution_count": 47,
   "metadata": {},
   "outputs": [
    {
     "data": {
      "text/plain": [
       "F    14236\n",
       "M     7288\n",
       "Name: gender, dtype: int64"
      ]
     },
     "execution_count": 47,
     "metadata": {},
     "output_type": "execute_result"
    }
   ],
   "source": [
    "df = df.drop(df[df['gender'] == 'XNA'].index)\n",
    "df['gender'].value_counts()"
   ]
  },
  {
   "cell_type": "code",
   "execution_count": 48,
   "metadata": {},
   "outputs": [
    {
     "data": {
      "text/plain": [
       "сотрудник          11119\n",
       "компаньон           5084\n",
       "пенсионер           3856\n",
       "госслужащий         1459\n",
       "безработный            2\n",
       "предприниматель        2\n",
       "в декрете              1\n",
       "студент                1\n",
       "Name: income_type, dtype: int64"
      ]
     },
     "execution_count": 48,
     "metadata": {},
     "output_type": "execute_result"
    }
   ],
   "source": [
    "df['income_type'].value_counts()"
   ]
  },
  {
   "cell_type": "code",
   "execution_count": 49,
   "metadata": {},
   "outputs": [
    {
     "data": {
      "text/plain": [
       "55"
      ]
     },
     "execution_count": 49,
     "metadata": {},
     "output_type": "execute_result"
    }
   ],
   "source": [
    "df.duplicated().sum()"
   ]
  },
  {
   "cell_type": "code",
   "execution_count": 50,
   "metadata": {},
   "outputs": [],
   "source": [
    "df = df.drop_duplicates().reset_index(drop=True)"
   ]
  },
  {
   "cell_type": "code",
   "execution_count": 51,
   "metadata": {},
   "outputs": [
    {
     "name": "stdout",
     "output_type": "stream",
     "text": [
      "<class 'pandas.core.frame.DataFrame'>\n",
      "RangeIndex: 21469 entries, 0 to 21468\n",
      "Data columns (total 13 columns):\n",
      "children            21469 non-null int64\n",
      "days_employed       21469 non-null int64\n",
      "dob_years           21469 non-null int64\n",
      "education           21469 non-null object\n",
      "education_id        21469 non-null int64\n",
      "family_status       21469 non-null object\n",
      "family_status_id    21469 non-null int64\n",
      "gender              21469 non-null object\n",
      "income_type         21469 non-null object\n",
      "debt                21469 non-null int64\n",
      "total_income        21469 non-null int64\n",
      "purpose             21469 non-null object\n",
      "age_cat             21469 non-null object\n",
      "dtypes: int64(7), object(6)\n",
      "memory usage: 2.1+ MB\n"
     ]
    }
   ],
   "source": [
    "df.info()"
   ]
  },
  {
   "cell_type": "markdown",
   "metadata": {},
   "source": [
    "Исправил в категориальных значениях дубликаты с разными регистрами, удалил 1 строку, столбец \"gender\" которой имеет значение \"XNA\". В конце удалил полные дубликаты (которые были изначально и которые появились после приведения значений в стандартный вид)."
   ]
  },
  {
   "cell_type": "markdown",
   "metadata": {},
   "source": [
    "### Лемматизация"
   ]
  },
  {
   "cell_type": "code",
   "execution_count": 52,
   "metadata": {},
   "outputs": [
    {
     "data": {
      "text/plain": [
       "свадьба                                   793\n",
       "на проведение свадьбы                     772\n",
       "сыграть свадьбу                           769\n",
       "операции с недвижимостью                  675\n",
       "покупка коммерческой недвижимости         662\n",
       "операции с жильем                         652\n",
       "покупка жилья для сдачи                   652\n",
       "операции с коммерческой недвижимостью     650\n",
       "покупка жилья                             646\n",
       "жилье                                     646\n",
       "покупка жилья для семьи                   638\n",
       "строительство собственной недвижимости    635\n",
       "недвижимость                              633\n",
       "операции со своей недвижимостью           627\n",
       "строительство жилой недвижимости          625\n",
       "покупка недвижимости                      620\n",
       "покупка своего жилья                      620\n",
       "строительство недвижимости                619\n",
       "ремонт жилью                              607\n",
       "покупка жилой недвижимости                606\n",
       "на покупку своего автомобиля              505\n",
       "заняться высшим образованием              496\n",
       "автомобиль                                494\n",
       "сделка с подержанным автомобилем          486\n",
       "свой автомобиль                           479\n",
       "автомобили                                478\n",
       "на покупку подержанного автомобиля        478\n",
       "на покупку автомобиля                     472\n",
       "приобретение автомобиля                   461\n",
       "дополнительное образование                460\n",
       "сделка с автомобилем                      455\n",
       "высшее образование                        452\n",
       "образование                               447\n",
       "получение дополнительного образования     447\n",
       "получение образования                     442\n",
       "профильное образование                    436\n",
       "получение высшего образования             426\n",
       "заняться образованием                     408\n",
       "Name: purpose, dtype: int64"
      ]
     },
     "execution_count": 52,
     "metadata": {},
     "output_type": "execute_result"
    }
   ],
   "source": [
    "df['purpose'].value_counts()"
   ]
  },
  {
   "cell_type": "code",
   "execution_count": 53,
   "metadata": {},
   "outputs": [],
   "source": [
    "m = Mystem()"
   ]
  },
  {
   "cell_type": "code",
   "execution_count": 54,
   "metadata": {},
   "outputs": [],
   "source": [
    "def category_purpose(data):\n",
    "    category_list = ['свадьба', 'недвижимость', 'жилье', 'автомобиль', 'образование']\n",
    "    lemmas = m.lemmatize(data)\n",
    "    for word in category_list:\n",
    "        if word in lemmas:\n",
    "            return word"
   ]
  },
  {
   "cell_type": "markdown",
   "metadata": {},
   "source": [
    "Создал функцию по лемматизации и категоризации данных. На основе столбца purpose создал список категорий."
   ]
  },
  {
   "cell_type": "markdown",
   "metadata": {},
   "source": [
    "### Категоризация данных"
   ]
  },
  {
   "cell_type": "code",
   "execution_count": 55,
   "metadata": {},
   "outputs": [],
   "source": [
    "df['purpose_cat'] = df['purpose'].apply(category_purpose)"
   ]
  },
  {
   "cell_type": "code",
   "execution_count": 56,
   "metadata": {},
   "outputs": [],
   "source": [
    "df = df.drop('purpose', axis=1)"
   ]
  },
  {
   "cell_type": "code",
   "execution_count": 57,
   "metadata": {},
   "outputs": [
    {
     "data": {
      "text/html": [
       "<div>\n",
       "<style scoped>\n",
       "    .dataframe tbody tr th:only-of-type {\n",
       "        vertical-align: middle;\n",
       "    }\n",
       "\n",
       "    .dataframe tbody tr th {\n",
       "        vertical-align: top;\n",
       "    }\n",
       "\n",
       "    .dataframe thead th {\n",
       "        text-align: right;\n",
       "    }\n",
       "</style>\n",
       "<table border=\"1\" class=\"dataframe\">\n",
       "  <thead>\n",
       "    <tr style=\"text-align: right;\">\n",
       "      <th></th>\n",
       "      <th>children</th>\n",
       "      <th>days_employed</th>\n",
       "      <th>dob_years</th>\n",
       "      <th>education</th>\n",
       "      <th>education_id</th>\n",
       "      <th>family_status</th>\n",
       "      <th>family_status_id</th>\n",
       "      <th>gender</th>\n",
       "      <th>income_type</th>\n",
       "      <th>debt</th>\n",
       "      <th>total_income</th>\n",
       "      <th>age_cat</th>\n",
       "      <th>purpose_cat</th>\n",
       "    </tr>\n",
       "  </thead>\n",
       "  <tbody>\n",
       "    <tr>\n",
       "      <td>0</td>\n",
       "      <td>1</td>\n",
       "      <td>8437</td>\n",
       "      <td>42</td>\n",
       "      <td>высшее</td>\n",
       "      <td>0</td>\n",
       "      <td>женат / замужем</td>\n",
       "      <td>0</td>\n",
       "      <td>F</td>\n",
       "      <td>сотрудник</td>\n",
       "      <td>0</td>\n",
       "      <td>253875</td>\n",
       "      <td>взрослые</td>\n",
       "      <td>жилье</td>\n",
       "    </tr>\n",
       "    <tr>\n",
       "      <td>1</td>\n",
       "      <td>1</td>\n",
       "      <td>4024</td>\n",
       "      <td>36</td>\n",
       "      <td>среднее</td>\n",
       "      <td>1</td>\n",
       "      <td>женат / замужем</td>\n",
       "      <td>0</td>\n",
       "      <td>F</td>\n",
       "      <td>сотрудник</td>\n",
       "      <td>0</td>\n",
       "      <td>112080</td>\n",
       "      <td>взрослые</td>\n",
       "      <td>автомобиль</td>\n",
       "    </tr>\n",
       "    <tr>\n",
       "      <td>2</td>\n",
       "      <td>0</td>\n",
       "      <td>5623</td>\n",
       "      <td>33</td>\n",
       "      <td>среднее</td>\n",
       "      <td>1</td>\n",
       "      <td>женат / замужем</td>\n",
       "      <td>0</td>\n",
       "      <td>M</td>\n",
       "      <td>сотрудник</td>\n",
       "      <td>0</td>\n",
       "      <td>145885</td>\n",
       "      <td>молодежь</td>\n",
       "      <td>жилье</td>\n",
       "    </tr>\n",
       "    <tr>\n",
       "      <td>3</td>\n",
       "      <td>3</td>\n",
       "      <td>4124</td>\n",
       "      <td>32</td>\n",
       "      <td>среднее</td>\n",
       "      <td>1</td>\n",
       "      <td>женат / замужем</td>\n",
       "      <td>0</td>\n",
       "      <td>M</td>\n",
       "      <td>сотрудник</td>\n",
       "      <td>0</td>\n",
       "      <td>267628</td>\n",
       "      <td>молодежь</td>\n",
       "      <td>образование</td>\n",
       "    </tr>\n",
       "    <tr>\n",
       "      <td>4</td>\n",
       "      <td>0</td>\n",
       "      <td>14177</td>\n",
       "      <td>53</td>\n",
       "      <td>среднее</td>\n",
       "      <td>1</td>\n",
       "      <td>гражданский брак</td>\n",
       "      <td>1</td>\n",
       "      <td>F</td>\n",
       "      <td>пенсионер</td>\n",
       "      <td>0</td>\n",
       "      <td>158616</td>\n",
       "      <td>взрослые</td>\n",
       "      <td>свадьба</td>\n",
       "    </tr>\n",
       "  </tbody>\n",
       "</table>\n",
       "</div>"
      ],
      "text/plain": [
       "   children  days_employed  dob_years education  education_id  \\\n",
       "0         1           8437         42    высшее             0   \n",
       "1         1           4024         36   среднее             1   \n",
       "2         0           5623         33   среднее             1   \n",
       "3         3           4124         32   среднее             1   \n",
       "4         0          14177         53   среднее             1   \n",
       "\n",
       "      family_status  family_status_id gender income_type  debt  total_income  \\\n",
       "0   женат / замужем                 0      F   сотрудник     0        253875   \n",
       "1   женат / замужем                 0      F   сотрудник     0        112080   \n",
       "2   женат / замужем                 0      M   сотрудник     0        145885   \n",
       "3   женат / замужем                 0      M   сотрудник     0        267628   \n",
       "4  гражданский брак                 1      F   пенсионер     0        158616   \n",
       "\n",
       "    age_cat  purpose_cat  \n",
       "0  взрослые        жилье  \n",
       "1  взрослые   автомобиль  \n",
       "2  молодежь        жилье  \n",
       "3  молодежь  образование  \n",
       "4  взрослые      свадьба  "
      ]
     },
     "execution_count": 57,
     "metadata": {},
     "output_type": "execute_result"
    }
   ],
   "source": [
    "df.head()"
   ]
  },
  {
   "cell_type": "code",
   "execution_count": 58,
   "metadata": {},
   "outputs": [
    {
     "data": {
      "text/plain": [
       "недвижимость    6352\n",
       "жилье           4461\n",
       "автомобиль      4308\n",
       "образование     4014\n",
       "свадьба         2334\n",
       "Name: purpose_cat, dtype: int64"
      ]
     },
     "execution_count": 58,
     "metadata": {},
     "output_type": "execute_result"
    }
   ],
   "source": [
    "df['purpose_cat'].value_counts()"
   ]
  },
  {
   "cell_type": "code",
   "execution_count": 59,
   "metadata": {},
   "outputs": [],
   "source": [
    "def category_child(childrens):\n",
    "    if childrens == 0:\n",
    "        return 'бездетные'\n",
    "    elif 0 < childrens < 3:\n",
    "        return 'малодетные'\n",
    "    return 'многодетные'\n",
    "\n",
    "\n",
    "df['child_cat'] = df['children'].apply(category_child)"
   ]
  },
  {
   "cell_type": "code",
   "execution_count": 60,
   "metadata": {},
   "outputs": [
    {
     "data": {
      "text/plain": [
       "Index(['children', 'days_employed', 'dob_years', 'education', 'education_id',\n",
       "       'family_status', 'family_status_id', 'gender', 'income_type', 'debt',\n",
       "       'total_income', 'age_cat', 'purpose_cat', 'child_cat'],\n",
       "      dtype='object')"
      ]
     },
     "execution_count": 60,
     "metadata": {},
     "output_type": "execute_result"
    }
   ],
   "source": [
    "df.columns"
   ]
  },
  {
   "cell_type": "code",
   "execution_count": 61,
   "metadata": {},
   "outputs": [
    {
     "data": {
      "text/plain": [
       "208"
      ]
     },
     "execution_count": 61,
     "metadata": {},
     "output_type": "execute_result"
    }
   ],
   "source": [
    "df.duplicated().sum()"
   ]
  },
  {
   "cell_type": "code",
   "execution_count": 62,
   "metadata": {},
   "outputs": [
    {
     "name": "stdout",
     "output_type": "stream",
     "text": [
      "<class 'pandas.core.frame.DataFrame'>\n",
      "RangeIndex: 21261 entries, 0 to 21260\n",
      "Data columns (total 14 columns):\n",
      "children            21261 non-null int64\n",
      "days_employed       21261 non-null int64\n",
      "dob_years           21261 non-null int64\n",
      "education           21261 non-null object\n",
      "education_id        21261 non-null int64\n",
      "family_status       21261 non-null object\n",
      "family_status_id    21261 non-null int64\n",
      "gender              21261 non-null object\n",
      "income_type         21261 non-null object\n",
      "debt                21261 non-null int64\n",
      "total_income        21261 non-null int64\n",
      "age_cat             21261 non-null object\n",
      "purpose_cat         21261 non-null object\n",
      "child_cat           21261 non-null object\n",
      "dtypes: int64(7), object(7)\n",
      "memory usage: 2.3+ MB\n"
     ]
    }
   ],
   "source": [
    "df = df.drop_duplicates().reset_index(drop=True)\n",
    "df.info()"
   ]
  },
  {
   "cell_type": "markdown",
   "metadata": {},
   "source": [
    "Создал новый столбец purpose_cat с категориями целей кредита, удалил более ненужный столбец purpose и снова удалил дубликаты (без категоризации этого сделать было нельзя, так как при составлении нескольких заявок на кредит один и тот же человек мог написать в графе \"цель кредита\" разные формулировки одной и той же цели кредита.\n",
    "Итого после всех преобразований из датафрейма ушло 263 строки дубликатов. Это примерно 1.2% от изначального датафрейма, что считаю приемлемым."
   ]
  },
  {
   "cell_type": "markdown",
   "metadata": {},
   "source": [
    "## Анализ"
   ]
  },
  {
   "cell_type": "markdown",
   "metadata": {},
   "source": [
    "### Есть ли зависимость между наличием детей и возвратом кредита в срок?"
   ]
  },
  {
   "cell_type": "code",
   "execution_count": 63,
   "metadata": {},
   "outputs": [
    {
     "data": {
      "text/plain": [
       "child_cat\n",
       "малодетные     9.311041\n",
       "многодетные    8.179420\n",
       "бездетные      7.623351\n",
       "Name: debt, dtype: float64"
      ]
     },
     "execution_count": 63,
     "metadata": {},
     "output_type": "execute_result"
    }
   ],
   "source": [
    "df.groupby('child_cat')['debt'].mean().sort_values(ascending=False) * 100"
   ]
  },
  {
   "cell_type": "markdown",
   "metadata": {},
   "source": [
    "Зависимость следующая: малодетные клиенты чаще не возвращают кредит в срок. Бездетные же клиенты возвращают кредит в срок чаще."
   ]
  },
  {
   "cell_type": "markdown",
   "metadata": {},
   "source": [
    "### Есть ли зависимость между семейным положением и возвратом кредита в срок?"
   ]
  },
  {
   "cell_type": "code",
   "execution_count": 64,
   "metadata": {
    "scrolled": true
   },
   "outputs": [
    {
     "data": {
      "text/plain": [
       "family_status\n",
       "не женат / не замужем    9.792709\n",
       "гражданский брак         9.371981\n",
       "женат / замужем          7.636095\n",
       "в разводе                7.124895\n",
       "вдовец / вдова           6.624606\n",
       "Name: debt, dtype: float64"
      ]
     },
     "execution_count": 64,
     "metadata": {},
     "output_type": "execute_result"
    }
   ],
   "source": [
    "df.groupby('family_status')['debt'].mean().sort_values(ascending=False) * 100"
   ]
  },
  {
   "cell_type": "markdown",
   "metadata": {},
   "source": [
    "Зависимость есть. Не женатые и состоящие в гражданском браке (то есть, не обремененные обязательствами перед другим человеком) реже возвращают кредит в срок. Наибольшую вероятность возврата кредита в срок имеют те, кто утратил связь с супругом (развод или смерть)."
   ]
  },
  {
   "cell_type": "markdown",
   "metadata": {},
   "source": [
    "### Есть ли зависимость между уровнем дохода и возвратом кредита в срок?"
   ]
  },
  {
   "cell_type": "code",
   "execution_count": 65,
   "metadata": {},
   "outputs": [
    {
     "data": {
      "text/plain": [
       "count    2.126100e+04\n",
       "mean     1.657875e+05\n",
       "std      9.881031e+04\n",
       "min      2.066700e+04\n",
       "25%      1.070030e+05\n",
       "50%      1.449020e+05\n",
       "75%      1.973820e+05\n",
       "max      2.265604e+06\n",
       "Name: total_income, dtype: float64"
      ]
     },
     "execution_count": 65,
     "metadata": {},
     "output_type": "execute_result"
    }
   ],
   "source": [
    "df['total_income'].describe()"
   ]
  },
  {
   "cell_type": "code",
   "execution_count": 66,
   "metadata": {},
   "outputs": [],
   "source": [
    "df['income_cat'] = pd.qcut(x=df['total_income'],\n",
    "        q=4,\n",
    "        labels=['низкая зарплата',\n",
    "                'ниже среднего',\n",
    "                'выше среднего',\n",
    "                'высокая зарплата'])"
   ]
  },
  {
   "cell_type": "code",
   "execution_count": 67,
   "metadata": {},
   "outputs": [
    {
     "data": {
      "text/plain": [
       "income_cat\n",
       "выше среднего       8.927558\n",
       "ниже среднего       8.777840\n",
       "низкая зарплата     7.957111\n",
       "высокая зарплата    7.074318\n",
       "Name: debt, dtype: float64"
      ]
     },
     "execution_count": 67,
     "metadata": {},
     "output_type": "execute_result"
    }
   ],
   "source": [
    "df.groupby('income_cat')['debt'].mean().sort_values(ascending=False) * 100"
   ]
  },
  {
   "cell_type": "markdown",
   "metadata": {},
   "source": [
    "Клиенты со средней зарплатой возвращают кредит в срок реже, чем клиенты с наиболее высокой зарплатой"
   ]
  },
  {
   "cell_type": "markdown",
   "metadata": {},
   "source": [
    "### Как разные цели кредита влияют на его возврат в срок?"
   ]
  },
  {
   "cell_type": "code",
   "execution_count": 68,
   "metadata": {},
   "outputs": [
    {
     "data": {
      "text/plain": [
       "purpose_cat\n",
       "автомобиль      9.399112\n",
       "образование     9.312862\n",
       "свадьба         8.027622\n",
       "недвижимость    7.550175\n",
       "жилье           6.974638\n",
       "Name: debt, dtype: float64"
      ]
     },
     "execution_count": 68,
     "metadata": {},
     "output_type": "execute_result"
    }
   ],
   "source": [
    "df.groupby('purpose_cat')['debt'].mean().sort_values(ascending=False) * 100"
   ]
  },
  {
   "cell_type": "markdown",
   "metadata": {},
   "source": [
    "Реже всего в срок возвращают кредиты, полученные на автомобиль и образование. Чаще всего возвращают в срок кредиты, полученные на жилье и недвижимость."
   ]
  },
  {
   "cell_type": "markdown",
   "metadata": {},
   "source": [
    "## Вывод"
   ]
  },
  {
   "cell_type": "markdown",
   "metadata": {},
   "source": [
    "На возврат кредита в срок такие параметры, как наличие детей, семейное положение, уровень дохода и цель кредита влияют следующим образом:\n",
    "    Клиент без детей, вдовец (или вдова) с высоким доходом и запросивший кредит на недвижимость или жилье с бОльшей долей вероятности вернет кредит в срок.\n",
    "    Клиент с 1-2 детьми, не женатый (или незамужняя) или в гражданском браке со средним доходом и запросивший кредит на автомобиль или образование с наименьшей вероятностью вернет кредит в срок."
   ]
  }
 ],
 "metadata": {
  "ExecuteTimeLog": [
   {
    "duration": 586,
    "start_time": "2021-09-03T06:36:06.651Z"
   },
   {
    "duration": 14,
    "start_time": "2021-09-03T06:50:12.901Z"
   },
   {
    "duration": 359,
    "start_time": "2021-09-03T06:50:36.316Z"
   },
   {
    "duration": 4,
    "start_time": "2021-09-03T06:50:40.722Z"
   },
   {
    "duration": 13,
    "start_time": "2021-09-03T06:50:51.744Z"
   },
   {
    "duration": 36,
    "start_time": "2021-09-03T06:51:00.188Z"
   },
   {
    "duration": 39,
    "start_time": "2021-09-03T06:51:11.575Z"
   },
   {
    "duration": 19,
    "start_time": "2021-09-03T06:51:30.390Z"
   },
   {
    "duration": 18,
    "start_time": "2021-09-03T07:12:44.897Z"
   },
   {
    "duration": 13,
    "start_time": "2021-09-03T07:12:57.878Z"
   },
   {
    "duration": 16,
    "start_time": "2021-09-03T07:13:12.282Z"
   },
   {
    "duration": 9,
    "start_time": "2021-09-03T07:14:29.655Z"
   },
   {
    "duration": 10,
    "start_time": "2021-09-03T07:14:39.268Z"
   },
   {
    "duration": 9,
    "start_time": "2021-09-03T07:14:43.547Z"
   },
   {
    "duration": 12,
    "start_time": "2021-09-03T07:18:06.982Z"
   },
   {
    "duration": 4,
    "start_time": "2021-09-03T07:18:21.571Z"
   },
   {
    "duration": 5,
    "start_time": "2021-09-03T07:18:38.836Z"
   },
   {
    "duration": 10,
    "start_time": "2021-09-03T07:23:56.582Z"
   },
   {
    "duration": 11,
    "start_time": "2021-09-03T07:24:12.686Z"
   },
   {
    "duration": 9,
    "start_time": "2021-09-03T07:24:53.211Z"
   },
   {
    "duration": 9,
    "start_time": "2021-09-03T07:30:46.759Z"
   },
   {
    "duration": 4,
    "start_time": "2021-09-03T07:31:51.190Z"
   },
   {
    "duration": 6,
    "start_time": "2021-09-03T07:38:08.924Z"
   },
   {
    "duration": 10,
    "start_time": "2021-09-03T07:38:13.219Z"
   },
   {
    "duration": 4,
    "start_time": "2021-09-03T07:38:20.599Z"
   },
   {
    "duration": 9,
    "start_time": "2021-09-03T07:38:22.221Z"
   },
   {
    "duration": 9,
    "start_time": "2021-09-03T07:38:47.301Z"
   },
   {
    "duration": 5,
    "start_time": "2021-09-03T07:39:15.739Z"
   },
   {
    "duration": 10,
    "start_time": "2021-09-03T07:40:15.356Z"
   },
   {
    "duration": 6,
    "start_time": "2021-09-03T07:45:02.317Z"
   },
   {
    "duration": 196,
    "start_time": "2021-09-03T08:10:01.429Z"
   },
   {
    "duration": 6,
    "start_time": "2021-09-03T08:10:21.855Z"
   },
   {
    "duration": 61,
    "start_time": "2021-09-03T08:22:11.794Z"
   },
   {
    "duration": 10,
    "start_time": "2021-09-03T08:22:15.657Z"
   },
   {
    "duration": 4,
    "start_time": "2021-09-03T08:22:17.472Z"
   },
   {
    "duration": 10,
    "start_time": "2021-09-03T08:22:20.251Z"
   },
   {
    "duration": 9,
    "start_time": "2021-09-03T08:22:23.988Z"
   },
   {
    "duration": 4,
    "start_time": "2021-09-03T08:22:26.073Z"
   },
   {
    "duration": 9,
    "start_time": "2021-09-03T08:22:28.545Z"
   },
   {
    "duration": 4,
    "start_time": "2021-09-03T08:22:50.076Z"
   },
   {
    "duration": 10,
    "start_time": "2021-09-03T08:22:51.110Z"
   },
   {
    "duration": 6,
    "start_time": "2021-09-03T08:23:17.583Z"
   },
   {
    "duration": 8,
    "start_time": "2021-09-03T08:25:24.920Z"
   },
   {
    "duration": 8,
    "start_time": "2021-09-03T08:25:32.016Z"
   },
   {
    "duration": 22,
    "start_time": "2021-09-03T08:25:36.470Z"
   },
   {
    "duration": 9,
    "start_time": "2021-09-03T08:26:37.312Z"
   },
   {
    "duration": 58,
    "start_time": "2021-09-03T08:26:53.943Z"
   },
   {
    "duration": 11,
    "start_time": "2021-09-03T08:26:55.847Z"
   },
   {
    "duration": 4,
    "start_time": "2021-09-03T08:26:57.654Z"
   },
   {
    "duration": 9,
    "start_time": "2021-09-03T08:26:59.404Z"
   },
   {
    "duration": 9,
    "start_time": "2021-09-03T08:27:04.930Z"
   },
   {
    "duration": 9,
    "start_time": "2021-09-03T08:27:21.375Z"
   },
   {
    "duration": 4,
    "start_time": "2021-09-03T08:28:06.796Z"
   },
   {
    "duration": 9,
    "start_time": "2021-09-03T08:28:07.810Z"
   },
   {
    "duration": 4,
    "start_time": "2021-09-03T08:28:09.961Z"
   },
   {
    "duration": 9,
    "start_time": "2021-09-03T08:28:10.946Z"
   },
   {
    "duration": 4,
    "start_time": "2021-09-03T08:28:59.659Z"
   },
   {
    "duration": 6,
    "start_time": "2021-09-03T08:41:19.320Z"
   },
   {
    "duration": 3,
    "start_time": "2021-09-03T08:41:54.156Z"
   },
   {
    "duration": 5,
    "start_time": "2021-09-03T08:42:03.543Z"
   },
   {
    "duration": 5,
    "start_time": "2021-09-03T08:42:12.135Z"
   },
   {
    "duration": 11,
    "start_time": "2021-09-03T08:54:00.508Z"
   },
   {
    "duration": 12,
    "start_time": "2021-09-03T08:55:25.770Z"
   },
   {
    "duration": 58,
    "start_time": "2021-09-03T08:55:39.743Z"
   },
   {
    "duration": 11,
    "start_time": "2021-09-03T08:57:05.460Z"
   },
   {
    "duration": 18,
    "start_time": "2021-09-03T08:58:18.281Z"
   },
   {
    "duration": 16,
    "start_time": "2021-09-03T08:58:24.322Z"
   },
   {
    "duration": 7,
    "start_time": "2021-09-03T09:01:35.324Z"
   },
   {
    "duration": 12,
    "start_time": "2021-09-03T09:10:31.278Z"
   },
   {
    "duration": 17,
    "start_time": "2021-09-03T09:11:13.775Z"
   },
   {
    "duration": 10,
    "start_time": "2021-09-03T09:12:30.990Z"
   },
   {
    "duration": 59,
    "start_time": "2021-09-03T09:12:42.323Z"
   },
   {
    "duration": 17,
    "start_time": "2021-09-03T09:12:46.011Z"
   },
   {
    "duration": 4,
    "start_time": "2021-09-03T09:12:48.322Z"
   },
   {
    "duration": 11,
    "start_time": "2021-09-03T09:12:50.320Z"
   },
   {
    "duration": 9,
    "start_time": "2021-09-03T09:12:52.191Z"
   },
   {
    "duration": 9,
    "start_time": "2021-09-03T09:12:53.474Z"
   },
   {
    "duration": 5,
    "start_time": "2021-09-03T09:12:56.107Z"
   },
   {
    "duration": 9,
    "start_time": "2021-09-03T09:12:57.434Z"
   },
   {
    "duration": 4,
    "start_time": "2021-09-03T09:12:59.624Z"
   },
   {
    "duration": 9,
    "start_time": "2021-09-03T09:13:01.334Z"
   },
   {
    "duration": 4,
    "start_time": "2021-09-03T09:13:03.699Z"
   },
   {
    "duration": 11,
    "start_time": "2021-09-03T09:13:06.930Z"
   },
   {
    "duration": 10,
    "start_time": "2021-09-03T09:13:08.849Z"
   },
   {
    "duration": 8,
    "start_time": "2021-09-03T09:13:11.648Z"
   },
   {
    "duration": 17,
    "start_time": "2021-09-03T09:13:14.406Z"
   },
   {
    "duration": 8,
    "start_time": "2021-09-03T09:13:20.989Z"
   },
   {
    "duration": 17,
    "start_time": "2021-09-03T09:14:47.424Z"
   },
   {
    "duration": 7,
    "start_time": "2021-09-03T09:16:10.536Z"
   },
   {
    "duration": 8,
    "start_time": "2021-09-03T09:16:51.154Z"
   },
   {
    "duration": 8,
    "start_time": "2021-09-03T09:18:17.471Z"
   },
   {
    "duration": 175,
    "start_time": "2021-09-03T09:23:55.192Z"
   },
   {
    "duration": 198,
    "start_time": "2021-09-03T09:24:07.811Z"
   },
   {
    "duration": 61,
    "start_time": "2021-09-03T09:24:25.242Z"
   },
   {
    "duration": 205,
    "start_time": "2021-09-03T09:24:54.642Z"
   },
   {
    "duration": 198,
    "start_time": "2021-09-03T09:26:21.407Z"
   },
   {
    "duration": 34,
    "start_time": "2021-09-03T09:26:35.969Z"
   },
   {
    "duration": 59,
    "start_time": "2021-09-03T09:26:59.284Z"
   },
   {
    "duration": 12,
    "start_time": "2021-09-03T09:27:02.628Z"
   },
   {
    "duration": 4,
    "start_time": "2021-09-03T09:27:04.112Z"
   },
   {
    "duration": 10,
    "start_time": "2021-09-03T09:27:06.679Z"
   },
   {
    "duration": 9,
    "start_time": "2021-09-03T09:27:08.706Z"
   },
   {
    "duration": 9,
    "start_time": "2021-09-03T09:27:10.757Z"
   },
   {
    "duration": 4,
    "start_time": "2021-09-03T09:27:12.414Z"
   },
   {
    "duration": 12,
    "start_time": "2021-09-03T09:27:13.469Z"
   },
   {
    "duration": 4,
    "start_time": "2021-09-03T09:27:17.170Z"
   },
   {
    "duration": 10,
    "start_time": "2021-09-03T09:27:18.361Z"
   },
   {
    "duration": 4,
    "start_time": "2021-09-03T09:27:22.239Z"
   },
   {
    "duration": 11,
    "start_time": "2021-09-03T09:27:24.063Z"
   },
   {
    "duration": 11,
    "start_time": "2021-09-03T09:27:27.807Z"
   },
   {
    "duration": 8,
    "start_time": "2021-09-03T09:27:30.815Z"
   },
   {
    "duration": 23,
    "start_time": "2021-09-03T09:27:33.300Z"
   },
   {
    "duration": 7,
    "start_time": "2021-09-03T09:27:38.127Z"
   },
   {
    "duration": 17,
    "start_time": "2021-09-03T09:27:40.120Z"
   },
   {
    "duration": 8,
    "start_time": "2021-09-03T09:27:44.459Z"
   },
   {
    "duration": 191,
    "start_time": "2021-09-03T09:28:13.769Z"
   },
   {
    "duration": 182,
    "start_time": "2021-09-03T09:28:49.420Z"
   },
   {
    "duration": 486,
    "start_time": "2021-09-03T09:28:53.991Z"
   },
   {
    "duration": 189,
    "start_time": "2021-09-03T09:29:21.668Z"
   },
   {
    "duration": 189,
    "start_time": "2021-09-03T09:29:46.939Z"
   },
   {
    "duration": 189,
    "start_time": "2021-09-03T09:30:12.336Z"
   },
   {
    "duration": 23,
    "start_time": "2021-09-03T09:30:35.578Z"
   },
   {
    "duration": 7,
    "start_time": "2021-09-03T09:30:55.862Z"
   },
   {
    "duration": 64,
    "start_time": "2021-09-03T09:33:39.846Z"
   },
   {
    "duration": 12,
    "start_time": "2021-09-03T09:33:43.073Z"
   },
   {
    "duration": 4,
    "start_time": "2021-09-03T09:33:45.804Z"
   },
   {
    "duration": 10,
    "start_time": "2021-09-03T09:33:48.415Z"
   },
   {
    "duration": 11,
    "start_time": "2021-09-03T09:33:50.410Z"
   },
   {
    "duration": 8,
    "start_time": "2021-09-03T09:33:51.957Z"
   },
   {
    "duration": 4,
    "start_time": "2021-09-03T09:33:54.830Z"
   },
   {
    "duration": 9,
    "start_time": "2021-09-03T09:33:56.340Z"
   },
   {
    "duration": 5,
    "start_time": "2021-09-03T09:33:58.568Z"
   },
   {
    "duration": 9,
    "start_time": "2021-09-03T09:33:59.873Z"
   },
   {
    "duration": 5,
    "start_time": "2021-09-03T09:34:01.850Z"
   },
   {
    "duration": 12,
    "start_time": "2021-09-03T09:34:05.962Z"
   },
   {
    "duration": 11,
    "start_time": "2021-09-03T09:34:07.966Z"
   },
   {
    "duration": 7,
    "start_time": "2021-09-03T09:34:10.969Z"
   },
   {
    "duration": 17,
    "start_time": "2021-09-03T09:34:13.316Z"
   },
   {
    "duration": 6,
    "start_time": "2021-09-03T09:34:15.473Z"
   },
   {
    "duration": 17,
    "start_time": "2021-09-03T09:34:17.800Z"
   },
   {
    "duration": 8,
    "start_time": "2021-09-03T09:34:19.098Z"
   },
   {
    "duration": 8,
    "start_time": "2021-09-03T09:34:47.725Z"
   },
   {
    "duration": 7,
    "start_time": "2021-09-03T09:34:54.434Z"
   },
   {
    "duration": 14,
    "start_time": "2021-09-03T09:35:16.610Z"
   },
   {
    "duration": 13,
    "start_time": "2021-09-03T09:35:34.527Z"
   },
   {
    "duration": 8,
    "start_time": "2021-09-03T09:36:45.854Z"
   },
   {
    "duration": 201,
    "start_time": "2021-09-03T10:47:49.086Z"
   },
   {
    "duration": 805,
    "start_time": "2021-09-03T10:50:49.489Z"
   },
   {
    "duration": 3,
    "start_time": "2021-09-03T10:56:08.723Z"
   },
   {
    "duration": 4019,
    "start_time": "2021-09-03T10:57:14.003Z"
   },
   {
    "duration": 2912,
    "start_time": "2021-09-03T10:57:41.123Z"
   },
   {
    "duration": 8357,
    "start_time": "2021-09-03T10:58:00.764Z"
   },
   {
    "duration": 16,
    "start_time": "2021-09-03T10:58:32.664Z"
   },
   {
    "duration": 9561,
    "start_time": "2021-09-03T10:58:48.075Z"
   },
   {
    "duration": 14,
    "start_time": "2021-09-03T11:00:43.875Z"
   },
   {
    "duration": 9,
    "start_time": "2021-09-03T11:00:58.519Z"
   },
   {
    "duration": 682,
    "start_time": "2021-09-03T11:01:20.409Z"
   },
   {
    "duration": 12,
    "start_time": "2021-09-03T11:01:28.264Z"
   },
   {
    "duration": 4,
    "start_time": "2021-09-03T11:01:30.505Z"
   },
   {
    "duration": 9,
    "start_time": "2021-09-03T11:01:33.918Z"
   },
   {
    "duration": 16,
    "start_time": "2021-09-03T11:01:35.481Z"
   },
   {
    "duration": 9,
    "start_time": "2021-09-03T11:01:37.537Z"
   },
   {
    "duration": 7,
    "start_time": "2021-09-03T11:01:38.899Z"
   },
   {
    "duration": 9,
    "start_time": "2021-09-03T11:01:41.749Z"
   },
   {
    "duration": 4,
    "start_time": "2021-09-03T11:01:48.055Z"
   },
   {
    "duration": 9,
    "start_time": "2021-09-03T11:01:49.161Z"
   },
   {
    "duration": 4,
    "start_time": "2021-09-03T11:01:53.114Z"
   },
   {
    "duration": 16,
    "start_time": "2021-09-03T11:01:54.387Z"
   },
   {
    "duration": 12,
    "start_time": "2021-09-03T11:01:55.961Z"
   },
   {
    "duration": 7,
    "start_time": "2021-09-03T11:01:58.871Z"
   },
   {
    "duration": 23,
    "start_time": "2021-09-03T11:02:01.400Z"
   },
   {
    "duration": 8,
    "start_time": "2021-09-03T11:02:03.351Z"
   },
   {
    "duration": 18,
    "start_time": "2021-09-03T11:02:04.824Z"
   },
   {
    "duration": 8,
    "start_time": "2021-09-03T11:02:08.747Z"
   },
   {
    "duration": 30,
    "start_time": "2021-09-03T11:02:10.585Z"
   },
   {
    "duration": 8,
    "start_time": "2021-09-03T11:02:15.929Z"
   },
   {
    "duration": 12,
    "start_time": "2021-09-03T11:02:21.961Z"
   },
   {
    "duration": 10,
    "start_time": "2021-09-03T11:02:25.116Z"
   },
   {
    "duration": 249,
    "start_time": "2021-09-03T11:02:48.349Z"
   },
   {
    "duration": 199,
    "start_time": "2021-09-03T11:03:18.165Z"
   },
   {
    "duration": 189,
    "start_time": "2021-09-03T11:03:23.748Z"
   },
   {
    "duration": 9,
    "start_time": "2021-09-03T11:03:42.521Z"
   },
   {
    "duration": 10,
    "start_time": "2021-09-03T11:04:19.816Z"
   },
   {
    "duration": 10,
    "start_time": "2021-09-03T11:04:28.407Z"
   },
   {
    "duration": 4,
    "start_time": "2021-09-03T11:05:24.913Z"
   },
   {
    "duration": 188,
    "start_time": "2021-09-03T11:05:33.930Z"
   },
   {
    "duration": 230,
    "start_time": "2021-09-03T11:05:54.471Z"
   },
   {
    "duration": 208,
    "start_time": "2021-09-03T11:19:03.501Z"
   },
   {
    "duration": 13,
    "start_time": "2021-09-03T11:20:57.119Z"
   },
   {
    "duration": 46,
    "start_time": "2021-09-03T11:21:07.460Z"
   },
   {
    "duration": 197,
    "start_time": "2021-09-03T11:22:07.557Z"
   },
   {
    "duration": 5,
    "start_time": "2021-09-03T11:22:47.252Z"
   },
   {
    "duration": 5,
    "start_time": "2021-09-03T11:22:49.229Z"
   },
   {
    "duration": 16,
    "start_time": "2021-09-03T11:23:11.955Z"
   },
   {
    "duration": 247,
    "start_time": "2021-09-03T11:23:13.217Z"
   },
   {
    "duration": 209,
    "start_time": "2021-09-03T11:23:43.826Z"
   },
   {
    "duration": 181,
    "start_time": "2021-09-03T11:23:58.030Z"
   },
   {
    "duration": 10,
    "start_time": "2021-09-03T11:24:05.541Z"
   },
   {
    "duration": 43,
    "start_time": "2021-09-03T11:24:07.183Z"
   },
   {
    "duration": 189,
    "start_time": "2021-09-03T11:24:57.474Z"
   },
   {
    "duration": 6,
    "start_time": "2021-09-03T11:26:20.023Z"
   },
   {
    "duration": 18,
    "start_time": "2021-09-03T11:26:21.381Z"
   },
   {
    "duration": 376,
    "start_time": "2021-09-03T11:26:37.216Z"
   },
   {
    "duration": 188,
    "start_time": "2021-09-03T11:28:13.213Z"
   },
   {
    "duration": 183,
    "start_time": "2021-09-03T11:28:59.981Z"
   },
   {
    "duration": 183,
    "start_time": "2021-09-03T11:35:53.198Z"
   },
   {
    "duration": 6,
    "start_time": "2021-09-03T11:36:57.010Z"
   },
   {
    "duration": 5,
    "start_time": "2021-09-03T11:37:07.128Z"
   },
   {
    "duration": 5,
    "start_time": "2021-09-03T11:37:14.070Z"
   },
   {
    "duration": 229,
    "start_time": "2021-09-03T11:37:30.814Z"
   },
   {
    "duration": 657,
    "start_time": "2021-09-03T11:38:57.337Z"
   },
   {
    "duration": 7,
    "start_time": "2021-09-03T11:39:03.866Z"
   },
   {
    "duration": 175,
    "start_time": "2021-09-03T11:39:24.806Z"
   },
   {
    "duration": 6,
    "start_time": "2021-09-03T11:40:11.697Z"
   },
   {
    "duration": 186,
    "start_time": "2021-09-03T11:40:13.570Z"
   },
   {
    "duration": 173,
    "start_time": "2021-09-03T11:40:42.377Z"
   },
   {
    "duration": 11,
    "start_time": "2021-09-03T11:40:53.673Z"
   },
   {
    "duration": 7,
    "start_time": "2021-09-03T11:40:56.047Z"
   },
   {
    "duration": 11,
    "start_time": "2021-09-03T11:41:30.597Z"
   },
   {
    "duration": 9,
    "start_time": "2021-09-03T11:41:33.376Z"
   },
   {
    "duration": 4,
    "start_time": "2021-09-03T11:45:46.124Z"
   },
   {
    "duration": 4,
    "start_time": "2021-09-03T11:45:47.683Z"
   },
   {
    "duration": 10,
    "start_time": "2021-09-03T11:46:31.388Z"
   },
   {
    "duration": 6,
    "start_time": "2021-09-03T11:46:32.643Z"
   },
   {
    "duration": 9,
    "start_time": "2021-09-03T11:49:32.621Z"
   },
   {
    "duration": 3,
    "start_time": "2021-09-03T11:50:27.752Z"
   },
   {
    "duration": 623,
    "start_time": "2021-09-03T11:50:36.608Z"
   },
   {
    "duration": 8,
    "start_time": "2021-09-03T11:50:38.417Z"
   },
   {
    "duration": 218,
    "start_time": "2021-09-03T11:52:51.172Z"
   },
   {
    "duration": 11,
    "start_time": "2021-09-03T11:53:18.140Z"
   },
   {
    "duration": 7,
    "start_time": "2021-09-03T11:53:20.388Z"
   },
   {
    "duration": 11,
    "start_time": "2021-09-03T11:56:21.964Z"
   },
   {
    "duration": 8,
    "start_time": "2021-09-03T11:56:23.411Z"
   },
   {
    "duration": 10,
    "start_time": "2021-09-03T12:03:50.337Z"
   },
   {
    "duration": 7,
    "start_time": "2021-09-03T12:03:51.501Z"
   },
   {
    "duration": 539,
    "start_time": "2021-09-03T12:03:58.497Z"
   },
   {
    "duration": 217,
    "start_time": "2021-09-03T12:05:17.813Z"
   },
   {
    "duration": 192,
    "start_time": "2021-09-03T12:07:59.046Z"
   },
   {
    "duration": 210,
    "start_time": "2021-09-03T12:08:12.626Z"
   },
   {
    "duration": 8,
    "start_time": "2021-09-03T12:09:09.760Z"
   },
   {
    "duration": 6,
    "start_time": "2021-09-03T12:09:17.992Z"
   },
   {
    "duration": 7,
    "start_time": "2021-09-03T12:22:49.309Z"
   },
   {
    "duration": 4,
    "start_time": "2021-09-03T12:22:51.714Z"
   },
   {
    "duration": 7,
    "start_time": "2021-09-03T12:24:13.224Z"
   },
   {
    "duration": 6,
    "start_time": "2021-09-03T12:24:14.136Z"
   },
   {
    "duration": 6,
    "start_time": "2021-09-03T12:24:34.380Z"
   },
   {
    "duration": 5,
    "start_time": "2021-09-03T12:24:35.415Z"
   },
   {
    "duration": 11,
    "start_time": "2021-09-03T12:27:08.938Z"
   },
   {
    "duration": 7,
    "start_time": "2021-09-03T12:27:10.119Z"
   },
   {
    "duration": 10,
    "start_time": "2021-09-03T12:27:42.979Z"
   },
   {
    "duration": 7,
    "start_time": "2021-09-03T12:27:45.146Z"
   },
   {
    "duration": 7,
    "start_time": "2021-09-03T12:27:48.874Z"
   },
   {
    "duration": 4,
    "start_time": "2021-09-03T12:27:50.297Z"
   },
   {
    "duration": 10,
    "start_time": "2021-09-03T12:28:28.001Z"
   },
   {
    "duration": 5,
    "start_time": "2021-09-03T12:28:33.175Z"
   },
   {
    "duration": 689,
    "start_time": "2021-09-03T19:29:03.002Z"
   },
   {
    "duration": 13,
    "start_time": "2021-09-03T19:29:06.929Z"
   },
   {
    "duration": 4,
    "start_time": "2021-09-03T19:29:08.971Z"
   },
   {
    "duration": 12,
    "start_time": "2021-09-03T19:29:11.573Z"
   },
   {
    "duration": 10,
    "start_time": "2021-09-03T19:29:14.222Z"
   },
   {
    "duration": 12,
    "start_time": "2021-09-03T19:29:17.380Z"
   },
   {
    "duration": 5,
    "start_time": "2021-09-03T19:29:19.905Z"
   },
   {
    "duration": 9,
    "start_time": "2021-09-03T19:29:23.629Z"
   },
   {
    "duration": 4,
    "start_time": "2021-09-03T19:29:25.411Z"
   },
   {
    "duration": 11,
    "start_time": "2021-09-03T19:29:28.546Z"
   },
   {
    "duration": 4,
    "start_time": "2021-09-03T19:29:31.327Z"
   },
   {
    "duration": 12,
    "start_time": "2021-09-03T19:29:34.305Z"
   },
   {
    "duration": 12,
    "start_time": "2021-09-03T19:29:39.542Z"
   },
   {
    "duration": 9,
    "start_time": "2021-09-03T19:29:44.877Z"
   },
   {
    "duration": 21,
    "start_time": "2021-09-03T19:29:47.670Z"
   },
   {
    "duration": 7,
    "start_time": "2021-09-03T19:29:55.844Z"
   },
   {
    "duration": 22,
    "start_time": "2021-09-03T19:29:57.575Z"
   },
   {
    "duration": 8,
    "start_time": "2021-09-03T19:30:00.225Z"
   },
   {
    "duration": 15,
    "start_time": "2021-09-03T19:30:02.285Z"
   },
   {
    "duration": 7,
    "start_time": "2021-09-03T19:30:05.697Z"
   },
   {
    "duration": 8,
    "start_time": "2021-09-03T19:30:11.721Z"
   },
   {
    "duration": 613,
    "start_time": "2021-09-03T19:30:36.630Z"
   },
   {
    "duration": 13,
    "start_time": "2021-09-03T19:37:54.293Z"
   },
   {
    "duration": 4,
    "start_time": "2021-09-03T19:38:01.950Z"
   },
   {
    "duration": 758,
    "start_time": "2021-09-04T11:31:06.412Z"
   },
   {
    "duration": 13,
    "start_time": "2021-09-04T11:31:09.491Z"
   },
   {
    "duration": 5,
    "start_time": "2021-09-04T11:31:11.742Z"
   },
   {
    "duration": 15,
    "start_time": "2021-09-04T11:31:14.081Z"
   },
   {
    "duration": 11,
    "start_time": "2021-09-04T11:31:15.960Z"
   },
   {
    "duration": 10,
    "start_time": "2021-09-04T11:31:18.506Z"
   },
   {
    "duration": 6,
    "start_time": "2021-09-04T11:31:20.344Z"
   },
   {
    "duration": 20,
    "start_time": "2021-09-04T11:31:21.914Z"
   },
   {
    "duration": 5,
    "start_time": "2021-09-04T11:31:24.396Z"
   },
   {
    "duration": 11,
    "start_time": "2021-09-04T11:31:25.616Z"
   },
   {
    "duration": 5,
    "start_time": "2021-09-04T11:31:27.998Z"
   },
   {
    "duration": 14,
    "start_time": "2021-09-04T11:31:30.360Z"
   },
   {
    "duration": 14,
    "start_time": "2021-09-04T11:31:32.442Z"
   },
   {
    "duration": 8,
    "start_time": "2021-09-04T11:31:35.660Z"
   },
   {
    "duration": 20,
    "start_time": "2021-09-04T11:31:37.810Z"
   },
   {
    "duration": 8,
    "start_time": "2021-09-04T11:31:41.216Z"
   },
   {
    "duration": 22,
    "start_time": "2021-09-04T11:31:43.369Z"
   },
   {
    "duration": 8,
    "start_time": "2021-09-04T11:31:45.827Z"
   },
   {
    "duration": 14,
    "start_time": "2021-09-04T11:31:52.191Z"
   },
   {
    "duration": 12,
    "start_time": "2021-09-04T11:31:54.885Z"
   },
   {
    "duration": 9,
    "start_time": "2021-09-04T11:32:03.057Z"
   },
   {
    "duration": 8,
    "start_time": "2021-09-04T11:58:05.804Z"
   },
   {
    "duration": 3,
    "start_time": "2021-09-04T13:04:25.052Z"
   },
   {
    "duration": 868,
    "start_time": "2021-09-04T13:04:28.178Z"
   },
   {
    "duration": 19,
    "start_time": "2021-09-04T13:04:40.386Z"
   },
   {
    "duration": 109,
    "start_time": "2021-09-04T13:07:22.830Z"
   },
   {
    "duration": 420,
    "start_time": "2021-09-04T13:07:44.298Z"
   },
   {
    "duration": 13,
    "start_time": "2021-09-04T13:07:59.360Z"
   },
   {
    "duration": 12,
    "start_time": "2021-09-04T13:08:03.140Z"
   },
   {
    "duration": 12,
    "start_time": "2021-09-04T13:08:26.415Z"
   },
   {
    "duration": 13,
    "start_time": "2021-09-04T13:10:40.230Z"
   },
   {
    "duration": 13,
    "start_time": "2021-09-04T13:11:00.200Z"
   },
   {
    "duration": 13,
    "start_time": "2021-09-04T13:11:05.948Z"
   },
   {
    "duration": 15,
    "start_time": "2021-09-04T13:11:46.889Z"
   },
   {
    "duration": 28,
    "start_time": "2021-09-04T13:11:50.001Z"
   },
   {
    "duration": 18,
    "start_time": "2021-09-04T13:13:54.284Z"
   },
   {
    "duration": 3443,
    "start_time": "2021-09-04T13:15:20.983Z"
   },
   {
    "duration": 13,
    "start_time": "2021-09-04T13:15:27.796Z"
   },
   {
    "duration": 3497,
    "start_time": "2021-09-04T13:17:26.614Z"
   },
   {
    "duration": 3530,
    "start_time": "2021-09-04T13:18:25.485Z"
   },
   {
    "duration": 16,
    "start_time": "2021-09-04T13:18:30.817Z"
   },
   {
    "duration": 8014,
    "start_time": "2021-09-04T13:19:18.882Z"
   },
   {
    "duration": 13,
    "start_time": "2021-09-04T13:19:29.404Z"
   },
   {
    "duration": 90,
    "start_time": "2021-09-04T13:20:29.549Z"
   },
   {
    "duration": 3747,
    "start_time": "2021-09-04T13:21:41.929Z"
   },
   {
    "duration": 3218,
    "start_time": "2021-09-04T13:22:03.528Z"
   },
   {
    "duration": 13,
    "start_time": "2021-09-04T13:22:09.104Z"
   },
   {
    "duration": 8397,
    "start_time": "2021-09-04T13:36:02.710Z"
   },
   {
    "duration": 13,
    "start_time": "2021-09-04T13:36:22.338Z"
   },
   {
    "duration": 12353,
    "start_time": "2021-09-04T13:38:00.357Z"
   },
   {
    "duration": 13,
    "start_time": "2021-09-04T13:38:15.791Z"
   },
   {
    "duration": 391,
    "start_time": "2021-09-04T13:38:37.141Z"
   },
   {
    "duration": 29,
    "start_time": "2021-09-04T13:38:50.693Z"
   },
   {
    "duration": 12564,
    "start_time": "2021-09-04T13:39:07.599Z"
   },
   {
    "duration": 18,
    "start_time": "2021-09-04T13:39:22.394Z"
   },
   {
    "duration": 12762,
    "start_time": "2021-09-04T13:43:37.939Z"
   },
   {
    "duration": 13,
    "start_time": "2021-09-04T13:43:52.865Z"
   },
   {
    "duration": 12176,
    "start_time": "2021-09-04T13:44:35.025Z"
   },
   {
    "duration": 20,
    "start_time": "2021-09-04T13:44:49.269Z"
   },
   {
    "duration": 12548,
    "start_time": "2021-09-04T13:48:32.186Z"
   },
   {
    "duration": 14,
    "start_time": "2021-09-04T13:48:47.012Z"
   },
   {
    "duration": 4069,
    "start_time": "2021-09-04T13:50:08.849Z"
   },
   {
    "duration": 21,
    "start_time": "2021-09-04T13:50:14.354Z"
   },
   {
    "duration": 11841,
    "start_time": "2021-09-04T13:50:51.299Z"
   },
   {
    "duration": 19,
    "start_time": "2021-09-04T13:51:04.652Z"
   },
   {
    "duration": 8231,
    "start_time": "2021-09-04T13:51:41.122Z"
   },
   {
    "duration": 13,
    "start_time": "2021-09-04T13:51:50.472Z"
   },
   {
    "duration": 4,
    "start_time": "2021-09-04T13:52:20.642Z"
   },
   {
    "duration": 85,
    "start_time": "2021-09-04T13:52:32.136Z"
   },
   {
    "duration": 341,
    "start_time": "2021-09-04T13:55:28.265Z"
   },
   {
    "duration": 358,
    "start_time": "2021-09-04T13:55:38.786Z"
   },
   {
    "duration": 11249,
    "start_time": "2021-09-04T13:55:47.586Z"
   },
   {
    "duration": 351,
    "start_time": "2021-09-04T13:58:36.483Z"
   },
   {
    "duration": 353,
    "start_time": "2021-09-04T13:59:07.837Z"
   },
   {
    "duration": 349,
    "start_time": "2021-09-04T13:59:21.931Z"
   },
   {
    "duration": 369,
    "start_time": "2021-09-04T14:00:50.216Z"
   },
   {
    "duration": 398,
    "start_time": "2021-09-04T14:01:02.000Z"
   },
   {
    "duration": 1000,
    "start_time": "2021-09-04T14:01:45.001Z"
   },
   {
    "duration": 670,
    "start_time": "2021-09-04T14:03:38.030Z"
   },
   {
    "duration": 618,
    "start_time": "2021-09-04T14:04:03.564Z"
   },
   {
    "duration": 598,
    "start_time": "2021-09-04T14:04:15.305Z"
   },
   {
    "duration": 651845,
    "start_time": "2021-09-04T14:06:35.834Z"
   },
   {
    "duration": 348,
    "start_time": "2021-09-04T14:17:35.001Z"
   },
   {
    "duration": 739,
    "start_time": "2021-09-04T14:17:59.578Z"
   },
   {
    "duration": 12,
    "start_time": "2021-09-04T14:18:02.917Z"
   },
   {
    "duration": 4,
    "start_time": "2021-09-04T14:18:04.749Z"
   },
   {
    "duration": 11,
    "start_time": "2021-09-04T14:18:07.082Z"
   },
   {
    "duration": 11,
    "start_time": "2021-09-04T14:18:08.685Z"
   },
   {
    "duration": 10,
    "start_time": "2021-09-04T14:18:10.845Z"
   },
   {
    "duration": 6,
    "start_time": "2021-09-04T14:18:12.687Z"
   },
   {
    "duration": 10,
    "start_time": "2021-09-04T14:18:15.297Z"
   },
   {
    "duration": 5,
    "start_time": "2021-09-04T14:18:17.309Z"
   },
   {
    "duration": 11,
    "start_time": "2021-09-04T14:18:19.471Z"
   },
   {
    "duration": 5,
    "start_time": "2021-09-04T14:18:21.715Z"
   },
   {
    "duration": 12,
    "start_time": "2021-09-04T14:18:23.327Z"
   },
   {
    "duration": 13,
    "start_time": "2021-09-04T14:18:26.018Z"
   },
   {
    "duration": 9,
    "start_time": "2021-09-04T14:18:28.599Z"
   },
   {
    "duration": 20,
    "start_time": "2021-09-04T14:18:30.707Z"
   },
   {
    "duration": 8,
    "start_time": "2021-09-04T14:18:33.335Z"
   },
   {
    "duration": 22,
    "start_time": "2021-09-04T14:18:35.587Z"
   },
   {
    "duration": 9,
    "start_time": "2021-09-04T14:18:37.863Z"
   },
   {
    "duration": 15,
    "start_time": "2021-09-04T14:18:39.407Z"
   },
   {
    "duration": 9,
    "start_time": "2021-09-04T14:18:42.773Z"
   },
   {
    "duration": 9,
    "start_time": "2021-09-04T14:18:45.143Z"
   },
   {
    "duration": 8,
    "start_time": "2021-09-04T14:18:48.975Z"
   },
   {
    "duration": 121261,
    "start_time": "2021-09-04T14:19:07.709Z"
   },
   {
    "duration": 14,
    "start_time": "2021-09-04T14:21:12.807Z"
   },
   {
    "duration": 761,
    "start_time": "2021-09-04T14:21:30.816Z"
   },
   {
    "duration": 13,
    "start_time": "2021-09-04T14:21:34.154Z"
   },
   {
    "duration": 5,
    "start_time": "2021-09-04T14:21:36.208Z"
   },
   {
    "duration": 12,
    "start_time": "2021-09-04T14:21:39.686Z"
   },
   {
    "duration": 10,
    "start_time": "2021-09-04T14:21:41.324Z"
   },
   {
    "duration": 9,
    "start_time": "2021-09-04T14:21:43.324Z"
   },
   {
    "duration": 5,
    "start_time": "2021-09-04T14:21:45.101Z"
   },
   {
    "duration": 10,
    "start_time": "2021-09-04T14:21:47.318Z"
   },
   {
    "duration": 5,
    "start_time": "2021-09-04T14:21:48.798Z"
   },
   {
    "duration": 11,
    "start_time": "2021-09-04T14:21:50.117Z"
   },
   {
    "duration": 6,
    "start_time": "2021-09-04T14:21:52.592Z"
   },
   {
    "duration": 13,
    "start_time": "2021-09-04T14:21:53.846Z"
   },
   {
    "duration": 13,
    "start_time": "2021-09-04T14:21:56.778Z"
   },
   {
    "duration": 8,
    "start_time": "2021-09-04T14:21:59.517Z"
   },
   {
    "duration": 20,
    "start_time": "2021-09-04T14:22:01.088Z"
   },
   {
    "duration": 8,
    "start_time": "2021-09-04T14:22:04.137Z"
   },
   {
    "duration": 21,
    "start_time": "2021-09-04T14:22:05.725Z"
   },
   {
    "duration": 8,
    "start_time": "2021-09-04T14:22:07.085Z"
   },
   {
    "duration": 13,
    "start_time": "2021-09-04T14:22:08.501Z"
   },
   {
    "duration": 9,
    "start_time": "2021-09-04T14:22:10.884Z"
   },
   {
    "duration": 11,
    "start_time": "2021-09-04T14:22:12.393Z"
   },
   {
    "duration": 7,
    "start_time": "2021-09-04T14:22:15.681Z"
   },
   {
    "duration": 64449,
    "start_time": "2021-09-04T15:21:40.528Z"
   },
   {
    "duration": 15,
    "start_time": "2021-09-04T15:22:48.231Z"
   },
   {
    "duration": 1882,
    "start_time": "2021-09-04T15:24:40.581Z"
   },
   {
    "duration": 63217,
    "start_time": "2021-09-04T15:34:11.129Z"
   },
   {
    "duration": 13,
    "start_time": "2021-09-04T15:35:19.051Z"
   },
   {
    "duration": 1847,
    "start_time": "2021-09-04T15:43:01.778Z"
   },
   {
    "duration": 3575,
    "start_time": "2021-09-04T15:43:18.656Z"
   },
   {
    "duration": 13,
    "start_time": "2021-09-04T15:43:26.316Z"
   },
   {
    "duration": 8,
    "start_time": "2021-09-04T15:44:15.639Z"
   },
   {
    "duration": 812,
    "start_time": "2021-09-04T15:47:33.142Z"
   },
   {
    "duration": 21,
    "start_time": "2021-09-04T15:47:44.036Z"
   },
   {
    "duration": 6,
    "start_time": "2021-09-04T15:47:46.234Z"
   },
   {
    "duration": 17,
    "start_time": "2021-09-04T15:47:48.518Z"
   },
   {
    "duration": 10,
    "start_time": "2021-09-04T15:48:03.734Z"
   },
   {
    "duration": 10,
    "start_time": "2021-09-04T15:48:05.361Z"
   },
   {
    "duration": 5,
    "start_time": "2021-09-04T15:48:07.411Z"
   },
   {
    "duration": 11,
    "start_time": "2021-09-04T15:48:09.488Z"
   },
   {
    "duration": 4,
    "start_time": "2021-09-04T15:48:11.345Z"
   },
   {
    "duration": 10,
    "start_time": "2021-09-04T15:48:12.542Z"
   },
   {
    "duration": 5,
    "start_time": "2021-09-04T15:48:15.970Z"
   },
   {
    "duration": 13,
    "start_time": "2021-09-04T15:48:17.146Z"
   },
   {
    "duration": 13,
    "start_time": "2021-09-04T15:48:19.818Z"
   },
   {
    "duration": 9,
    "start_time": "2021-09-04T15:48:24.551Z"
   },
   {
    "duration": 23,
    "start_time": "2021-09-04T15:48:26.079Z"
   },
   {
    "duration": 9,
    "start_time": "2021-09-04T15:48:28.126Z"
   },
   {
    "duration": 21,
    "start_time": "2021-09-04T15:48:32.318Z"
   },
   {
    "duration": 8,
    "start_time": "2021-09-04T15:48:33.525Z"
   },
   {
    "duration": 15,
    "start_time": "2021-09-04T15:48:35.358Z"
   },
   {
    "duration": 8,
    "start_time": "2021-09-04T15:48:41.191Z"
   },
   {
    "duration": 25,
    "start_time": "2021-09-04T15:49:04.487Z"
   },
   {
    "duration": 18,
    "start_time": "2021-09-04T15:49:09.861Z"
   },
   {
    "duration": 22,
    "start_time": "2021-09-04T15:50:17.736Z"
   },
   {
    "duration": 769,
    "start_time": "2021-09-04T15:50:36.186Z"
   },
   {
    "duration": 12,
    "start_time": "2021-09-04T15:50:39.219Z"
   },
   {
    "duration": 4,
    "start_time": "2021-09-04T15:50:41.421Z"
   },
   {
    "duration": 12,
    "start_time": "2021-09-04T15:50:43.299Z"
   },
   {
    "duration": 13,
    "start_time": "2021-09-04T15:50:44.968Z"
   },
   {
    "duration": 10,
    "start_time": "2021-09-04T15:50:46.950Z"
   },
   {
    "duration": 6,
    "start_time": "2021-09-04T15:50:48.382Z"
   },
   {
    "duration": 9,
    "start_time": "2021-09-04T15:50:50.221Z"
   },
   {
    "duration": 5,
    "start_time": "2021-09-04T15:50:51.642Z"
   },
   {
    "duration": 11,
    "start_time": "2021-09-04T15:50:52.998Z"
   },
   {
    "duration": 6,
    "start_time": "2021-09-04T15:50:55.264Z"
   },
   {
    "duration": 15,
    "start_time": "2021-09-04T15:50:56.342Z"
   },
   {
    "duration": 18,
    "start_time": "2021-09-04T15:50:58.679Z"
   },
   {
    "duration": 6,
    "start_time": "2021-09-04T15:52:44.986Z"
   },
   {
    "duration": 13,
    "start_time": "2021-09-04T15:52:46.772Z"
   },
   {
    "duration": 796,
    "start_time": "2021-09-04T15:52:59.541Z"
   },
   {
    "duration": 17,
    "start_time": "2021-09-04T15:53:03.086Z"
   },
   {
    "duration": 6,
    "start_time": "2021-09-04T15:53:04.667Z"
   },
   {
    "duration": 11,
    "start_time": "2021-09-04T15:53:07.608Z"
   },
   {
    "duration": 13,
    "start_time": "2021-09-04T15:53:09.878Z"
   },
   {
    "duration": 10,
    "start_time": "2021-09-04T15:53:11.128Z"
   },
   {
    "duration": 5,
    "start_time": "2021-09-04T15:53:12.708Z"
   },
   {
    "duration": 10,
    "start_time": "2021-09-04T15:53:14.658Z"
   },
   {
    "duration": 4,
    "start_time": "2021-09-04T15:53:16.240Z"
   },
   {
    "duration": 13,
    "start_time": "2021-09-04T15:53:18.072Z"
   },
   {
    "duration": 6,
    "start_time": "2021-09-04T15:53:20.025Z"
   },
   {
    "duration": 12,
    "start_time": "2021-09-04T15:53:21.614Z"
   },
   {
    "duration": 13,
    "start_time": "2021-09-04T15:53:23.762Z"
   },
   {
    "duration": 9,
    "start_time": "2021-09-04T15:53:26.762Z"
   },
   {
    "duration": 18,
    "start_time": "2021-09-04T15:53:28.920Z"
   },
   {
    "duration": 9,
    "start_time": "2021-09-04T15:53:31.926Z"
   },
   {
    "duration": 20,
    "start_time": "2021-09-04T15:53:34.688Z"
   },
   {
    "duration": 8,
    "start_time": "2021-09-04T15:53:38.120Z"
   },
   {
    "duration": 13,
    "start_time": "2021-09-04T15:53:39.760Z"
   },
   {
    "duration": 739,
    "start_time": "2021-09-04T15:54:04.235Z"
   },
   {
    "duration": 13,
    "start_time": "2021-09-04T15:54:07.139Z"
   },
   {
    "duration": 5,
    "start_time": "2021-09-04T15:54:08.862Z"
   },
   {
    "duration": 11,
    "start_time": "2021-09-04T15:54:11.011Z"
   },
   {
    "duration": 10,
    "start_time": "2021-09-04T15:54:12.511Z"
   },
   {
    "duration": 15,
    "start_time": "2021-09-04T15:54:14.373Z"
   },
   {
    "duration": 10,
    "start_time": "2021-09-04T15:54:15.887Z"
   },
   {
    "duration": 12,
    "start_time": "2021-09-04T15:54:18.183Z"
   },
   {
    "duration": 5,
    "start_time": "2021-09-04T15:54:23.027Z"
   },
   {
    "duration": 11,
    "start_time": "2021-09-04T15:54:24.953Z"
   },
   {
    "duration": 6,
    "start_time": "2021-09-04T15:54:29.858Z"
   },
   {
    "duration": 13,
    "start_time": "2021-09-04T15:54:30.925Z"
   },
   {
    "duration": 15,
    "start_time": "2021-09-04T15:54:33.465Z"
   },
   {
    "duration": 17,
    "start_time": "2021-09-04T15:54:39.345Z"
   },
   {
    "duration": 9,
    "start_time": "2021-09-04T15:54:41.341Z"
   },
   {
    "duration": 24,
    "start_time": "2021-09-04T15:54:43.377Z"
   },
   {
    "duration": 8,
    "start_time": "2021-09-04T15:54:45.711Z"
   },
   {
    "duration": 20,
    "start_time": "2021-09-04T15:54:47.237Z"
   },
   {
    "duration": 8,
    "start_time": "2021-09-04T15:54:49.495Z"
   },
   {
    "duration": 13,
    "start_time": "2021-09-04T15:54:50.859Z"
   },
   {
    "duration": 8,
    "start_time": "2021-09-04T15:54:53.241Z"
   },
   {
    "duration": 24,
    "start_time": "2021-09-04T15:55:53.560Z"
   },
   {
    "duration": 26,
    "start_time": "2021-09-04T15:58:23.174Z"
   },
   {
    "duration": 12,
    "start_time": "2021-09-04T15:58:37.736Z"
   },
   {
    "duration": 8,
    "start_time": "2021-09-04T16:00:07.703Z"
   },
   {
    "duration": 8,
    "start_time": "2021-09-04T16:00:12.121Z"
   },
   {
    "duration": 3,
    "start_time": "2021-09-04T16:00:16.645Z"
   },
   {
    "duration": 4271,
    "start_time": "2021-09-04T16:00:25.449Z"
   },
   {
    "duration": 27,
    "start_time": "2021-09-04T16:00:43.478Z"
   },
   {
    "duration": 12,
    "start_time": "2021-09-04T16:00:59.313Z"
   },
   {
    "duration": 6,
    "start_time": "2021-09-04T16:01:14.825Z"
   },
   {
    "duration": 12,
    "start_time": "2021-09-04T16:01:16.317Z"
   },
   {
    "duration": 8,
    "start_time": "2021-09-04T16:01:20.559Z"
   },
   {
    "duration": 17,
    "start_time": "2021-09-04T16:02:06.057Z"
   },
   {
    "duration": 15,
    "start_time": "2021-09-04T16:02:28.902Z"
   },
   {
    "duration": 22,
    "start_time": "2021-09-04T16:02:50.776Z"
   },
   {
    "duration": 20,
    "start_time": "2021-09-04T16:03:01.577Z"
   },
   {
    "duration": 33,
    "start_time": "2021-09-04T16:05:08.876Z"
   },
   {
    "duration": 10,
    "start_time": "2021-09-04T16:05:49.682Z"
   },
   {
    "duration": 62,
    "start_time": "2021-09-04T17:05:13.620Z"
   },
   {
    "duration": 12,
    "start_time": "2021-09-04T17:05:17.052Z"
   },
   {
    "duration": 12,
    "start_time": "2021-09-04T17:05:35.726Z"
   },
   {
    "duration": 18,
    "start_time": "2021-09-04T17:06:02.327Z"
   },
   {
    "duration": 26,
    "start_time": "2021-09-04T17:07:10.423Z"
   },
   {
    "duration": 3154,
    "start_time": "2021-09-04T17:20:02.248Z"
   },
   {
    "duration": 1070,
    "start_time": "2021-09-04T17:20:14.232Z"
   },
   {
    "duration": 729,
    "start_time": "2021-09-04T17:20:19.322Z"
   },
   {
    "duration": 376,
    "start_time": "2021-09-04T17:22:40.886Z"
   },
   {
    "duration": 30,
    "start_time": "2021-09-04T17:22:47.462Z"
   },
   {
    "duration": 63,
    "start_time": "2021-09-04T17:23:07.824Z"
   },
   {
    "duration": 24,
    "start_time": "2021-09-04T17:23:20.110Z"
   },
   {
    "duration": 26,
    "start_time": "2021-09-04T17:23:33.150Z"
   },
   {
    "duration": 20,
    "start_time": "2021-09-04T17:23:41.914Z"
   },
   {
    "duration": 25,
    "start_time": "2021-09-04T17:23:52.368Z"
   },
   {
    "duration": 687,
    "start_time": "2021-09-04T17:24:24.488Z"
   },
   {
    "duration": 12,
    "start_time": "2021-09-04T17:24:27.626Z"
   },
   {
    "duration": 5,
    "start_time": "2021-09-04T17:24:29.710Z"
   },
   {
    "duration": 10,
    "start_time": "2021-09-04T17:24:37.535Z"
   },
   {
    "duration": 31,
    "start_time": "2021-09-04T17:24:40.534Z"
   },
   {
    "duration": 9,
    "start_time": "2021-09-04T17:24:48.553Z"
   },
   {
    "duration": 10,
    "start_time": "2021-09-04T17:24:52.888Z"
   },
   {
    "duration": 5,
    "start_time": "2021-09-04T17:24:56.329Z"
   },
   {
    "duration": 9,
    "start_time": "2021-09-04T17:24:57.605Z"
   },
   {
    "duration": 5,
    "start_time": "2021-09-04T17:24:59.429Z"
   },
   {
    "duration": 10,
    "start_time": "2021-09-04T17:25:01.505Z"
   },
   {
    "duration": 924,
    "start_time": "2021-09-06T06:32:22.816Z"
   },
   {
    "duration": 15,
    "start_time": "2021-09-06T06:32:42.832Z"
   },
   {
    "duration": 6,
    "start_time": "2021-09-06T06:32:47.598Z"
   },
   {
    "duration": 13,
    "start_time": "2021-09-06T06:33:03.873Z"
   },
   {
    "duration": 38,
    "start_time": "2021-09-06T06:33:06.161Z"
   },
   {
    "duration": 12,
    "start_time": "2021-09-06T06:33:11.895Z"
   },
   {
    "duration": 13,
    "start_time": "2021-09-06T06:33:13.533Z"
   },
   {
    "duration": 7,
    "start_time": "2021-09-06T06:33:14.388Z"
   },
   {
    "duration": 14,
    "start_time": "2021-09-06T06:33:15.183Z"
   },
   {
    "duration": 5,
    "start_time": "2021-09-06T06:33:18.653Z"
   },
   {
    "duration": 13,
    "start_time": "2021-09-06T06:33:19.223Z"
   },
   {
    "duration": 7,
    "start_time": "2021-09-06T06:33:22.533Z"
   },
   {
    "duration": 18,
    "start_time": "2021-09-06T06:33:23.261Z"
   },
   {
    "duration": 16,
    "start_time": "2021-09-06T06:33:25.517Z"
   },
   {
    "duration": 22,
    "start_time": "2021-09-06T06:33:29.673Z"
   },
   {
    "duration": 10,
    "start_time": "2021-09-06T06:33:30.517Z"
   },
   {
    "duration": 25,
    "start_time": "2021-09-06T06:33:35.353Z"
   },
   {
    "duration": 10,
    "start_time": "2021-09-06T06:33:44.685Z"
   },
   {
    "duration": 25,
    "start_time": "2021-09-06T06:33:45.655Z"
   },
   {
    "duration": 10,
    "start_time": "2021-09-06T06:33:46.437Z"
   },
   {
    "duration": 16,
    "start_time": "2021-09-06T06:34:22.533Z"
   },
   {
    "duration": 11,
    "start_time": "2021-09-06T06:34:23.541Z"
   },
   {
    "duration": 30,
    "start_time": "2021-09-06T06:34:26.399Z"
   },
   {
    "duration": 30,
    "start_time": "2021-09-06T06:34:27.917Z"
   },
   {
    "duration": 20,
    "start_time": "2021-09-06T06:34:29.182Z"
   },
   {
    "duration": 10,
    "start_time": "2021-09-06T06:34:38.517Z"
   },
   {
    "duration": 14,
    "start_time": "2021-09-06T06:34:43.117Z"
   },
   {
    "duration": 5,
    "start_time": "2021-09-06T06:34:45.500Z"
   },
   {
    "duration": 4553,
    "start_time": "2021-09-06T06:34:47.779Z"
   },
   {
    "duration": 14,
    "start_time": "2021-09-06T06:34:57.765Z"
   },
   {
    "duration": 17,
    "start_time": "2021-09-06T06:35:02.068Z"
   },
   {
    "duration": 11,
    "start_time": "2021-09-06T06:35:06.893Z"
   },
   {
    "duration": 24,
    "start_time": "2021-09-06T06:35:18.788Z"
   },
   {
    "duration": 36,
    "start_time": "2021-09-06T06:35:20.284Z"
   },
   {
    "duration": 10,
    "start_time": "2021-09-06T06:43:29.955Z"
   },
   {
    "duration": 12,
    "start_time": "2021-09-06T06:44:20.292Z"
   },
   {
    "duration": 11,
    "start_time": "2021-09-06T06:53:06.584Z"
   },
   {
    "duration": 12,
    "start_time": "2021-09-06T06:53:28.753Z"
   },
   {
    "duration": 12,
    "start_time": "2021-09-06T06:53:36.961Z"
   },
   {
    "duration": 10,
    "start_time": "2021-09-06T06:53:59.273Z"
   },
   {
    "duration": 16,
    "start_time": "2021-09-06T06:57:48.951Z"
   },
   {
    "duration": 10,
    "start_time": "2021-09-06T06:58:16.151Z"
   },
   {
    "duration": 15,
    "start_time": "2021-09-06T06:59:07.104Z"
   },
   {
    "duration": 16,
    "start_time": "2021-09-06T06:59:22.053Z"
   },
   {
    "duration": 16,
    "start_time": "2021-09-06T07:00:59.117Z"
   },
   {
    "duration": 16,
    "start_time": "2021-09-06T07:01:07.350Z"
   },
   {
    "duration": 17,
    "start_time": "2021-09-06T07:01:24.639Z"
   },
   {
    "duration": 8,
    "start_time": "2021-09-06T07:02:03.813Z"
   },
   {
    "duration": 11,
    "start_time": "2021-09-06T07:03:57.587Z"
   },
   {
    "duration": 804,
    "start_time": "2021-09-06T07:08:42.672Z"
   },
   {
    "duration": 10,
    "start_time": "2021-09-06T07:08:54.816Z"
   },
   {
    "duration": 10,
    "start_time": "2021-09-06T07:09:11.585Z"
   },
   {
    "duration": 9,
    "start_time": "2021-09-06T07:09:30.896Z"
   },
   {
    "duration": 8,
    "start_time": "2021-09-06T07:10:28.184Z"
   },
   {
    "duration": 7,
    "start_time": "2021-09-06T07:10:29.263Z"
   },
   {
    "duration": 16,
    "start_time": "2021-09-06T07:10:45.736Z"
   },
   {
    "duration": 5,
    "start_time": "2021-09-06T07:11:48.536Z"
   },
   {
    "duration": 8,
    "start_time": "2021-09-06T07:12:03.064Z"
   },
   {
    "duration": 5,
    "start_time": "2021-09-06T07:12:33.441Z"
   },
   {
    "duration": 7,
    "start_time": "2021-09-06T07:12:35.207Z"
   },
   {
    "duration": 6,
    "start_time": "2021-09-06T07:12:58.400Z"
   },
   {
    "duration": 6,
    "start_time": "2021-09-06T07:12:59.494Z"
   },
   {
    "duration": 4,
    "start_time": "2021-09-06T07:13:02.386Z"
   },
   {
    "duration": 8,
    "start_time": "2021-09-06T07:13:03.455Z"
   },
   {
    "duration": 7,
    "start_time": "2021-09-06T07:13:20.785Z"
   },
   {
    "duration": 8,
    "start_time": "2021-09-06T07:14:04.983Z"
   },
   {
    "duration": 9,
    "start_time": "2021-09-06T07:16:05.612Z"
   },
   {
    "duration": 8,
    "start_time": "2021-09-06T07:16:12.589Z"
   },
   {
    "duration": 10,
    "start_time": "2021-09-06T07:16:38.805Z"
   },
   {
    "duration": 9,
    "start_time": "2021-09-06T07:17:04.317Z"
   },
   {
    "duration": 12,
    "start_time": "2021-09-06T07:17:44.388Z"
   },
   {
    "duration": 893,
    "start_time": "2021-09-06T07:19:01.602Z"
   },
   {
    "duration": 16,
    "start_time": "2021-09-06T07:19:05.002Z"
   },
   {
    "duration": 6,
    "start_time": "2021-09-06T07:19:09.115Z"
   },
   {
    "duration": 13,
    "start_time": "2021-09-06T07:19:13.018Z"
   },
   {
    "duration": 40,
    "start_time": "2021-09-06T07:19:14.195Z"
   },
   {
    "duration": 11,
    "start_time": "2021-09-06T07:19:16.466Z"
   },
   {
    "duration": 12,
    "start_time": "2021-09-06T07:19:22.834Z"
   },
   {
    "duration": 48,
    "start_time": "2021-09-06T07:19:33.708Z"
   },
   {
    "duration": 48,
    "start_time": "2021-09-06T07:20:20.281Z"
   },
   {
    "duration": 47,
    "start_time": "2021-09-06T07:20:36.392Z"
   },
   {
    "duration": 6,
    "start_time": "2021-09-06T07:20:55.824Z"
   },
   {
    "duration": 13,
    "start_time": "2021-09-06T07:20:58.147Z"
   },
   {
    "duration": 5,
    "start_time": "2021-09-06T07:21:15.469Z"
   },
   {
    "duration": 13,
    "start_time": "2021-09-06T07:21:22.360Z"
   },
   {
    "duration": 49,
    "start_time": "2021-09-06T07:21:32.964Z"
   },
   {
    "duration": 48,
    "start_time": "2021-09-06T07:21:46.558Z"
   },
   {
    "duration": 7,
    "start_time": "2021-09-06T07:22:25.966Z"
   },
   {
    "duration": 19,
    "start_time": "2021-09-06T07:23:08.062Z"
   },
   {
    "duration": 17,
    "start_time": "2021-09-06T07:23:09.851Z"
   },
   {
    "duration": 24,
    "start_time": "2021-09-06T07:23:14.045Z"
   },
   {
    "duration": 10,
    "start_time": "2021-09-06T07:23:16.835Z"
   },
   {
    "duration": 23,
    "start_time": "2021-09-06T07:23:19.324Z"
   },
   {
    "duration": 10,
    "start_time": "2021-09-06T07:23:21.336Z"
   },
   {
    "duration": 25,
    "start_time": "2021-09-06T07:23:23.180Z"
   },
   {
    "duration": 10,
    "start_time": "2021-09-06T07:23:28.252Z"
   },
   {
    "duration": 16,
    "start_time": "2021-09-06T07:23:30.671Z"
   },
   {
    "duration": 10,
    "start_time": "2021-09-06T07:23:40.494Z"
   },
   {
    "duration": 31,
    "start_time": "2021-09-06T07:23:43.763Z"
   },
   {
    "duration": 29,
    "start_time": "2021-09-06T07:23:47.776Z"
   },
   {
    "duration": 18,
    "start_time": "2021-09-06T07:23:53.071Z"
   },
   {
    "duration": 11,
    "start_time": "2021-09-06T07:23:59.717Z"
   },
   {
    "duration": 10,
    "start_time": "2021-09-06T07:24:03.830Z"
   },
   {
    "duration": 4,
    "start_time": "2021-09-06T07:24:06.058Z"
   },
   {
    "duration": 4456,
    "start_time": "2021-09-06T07:24:11.928Z"
   },
   {
    "duration": 15,
    "start_time": "2021-09-06T07:24:18.074Z"
   },
   {
    "duration": 18,
    "start_time": "2021-09-06T07:24:19.657Z"
   },
   {
    "duration": 10,
    "start_time": "2021-09-06T07:24:22.916Z"
   },
   {
    "duration": 24,
    "start_time": "2021-09-06T07:24:26.411Z"
   },
   {
    "duration": 36,
    "start_time": "2021-09-06T07:24:36.121Z"
   },
   {
    "duration": 7,
    "start_time": "2021-09-06T07:26:02.252Z"
   },
   {
    "duration": 6,
    "start_time": "2021-09-06T07:26:03.994Z"
   },
   {
    "duration": 12,
    "start_time": "2021-09-06T07:26:05.331Z"
   },
   {
    "duration": 8,
    "start_time": "2021-09-06T07:26:07.242Z"
   },
   {
    "duration": 13,
    "start_time": "2021-09-06T07:30:27.145Z"
   },
   {
    "duration": 8,
    "start_time": "2021-09-06T07:30:46.113Z"
   },
   {
    "duration": 18,
    "start_time": "2021-09-06T07:33:19.024Z"
   },
   {
    "duration": 10,
    "start_time": "2021-09-06T07:33:20.449Z"
   },
   {
    "duration": 9,
    "start_time": "2021-09-06T07:34:28.944Z"
   },
   {
    "duration": 7,
    "start_time": "2021-09-06T07:34:30.849Z"
   },
   {
    "duration": 19,
    "start_time": "2021-09-06T07:35:14.398Z"
   },
   {
    "duration": 9,
    "start_time": "2021-09-06T07:35:15.370Z"
   },
   {
    "duration": 9,
    "start_time": "2021-09-06T07:36:13.753Z"
   },
   {
    "duration": 8,
    "start_time": "2021-09-06T07:36:25.138Z"
   },
   {
    "duration": 10,
    "start_time": "2021-09-06T07:37:24.621Z"
   },
   {
    "duration": 13,
    "start_time": "2021-09-06T07:37:54.966Z"
   },
   {
    "duration": 9,
    "start_time": "2021-09-06T07:39:18.421Z"
   },
   {
    "duration": 152,
    "start_time": "2021-09-06T07:51:17.876Z"
   },
   {
    "duration": 528,
    "start_time": "2021-09-06T07:52:41.081Z"
   },
   {
    "duration": 27,
    "start_time": "2021-09-06T07:53:21.893Z"
   },
   {
    "duration": 10,
    "start_time": "2021-09-06T07:54:28.123Z"
   },
   {
    "duration": 10,
    "start_time": "2021-09-06T07:54:29.781Z"
   },
   {
    "duration": 9,
    "start_time": "2021-09-06T07:55:21.025Z"
   },
   {
    "duration": 8,
    "start_time": "2021-09-06T07:55:22.436Z"
   },
   {
    "duration": 24,
    "start_time": "2021-09-06T07:55:49.243Z"
   },
   {
    "duration": 8,
    "start_time": "2021-09-06T07:55:51.586Z"
   },
   {
    "duration": 7,
    "start_time": "2021-09-06T07:55:52.642Z"
   },
   {
    "duration": 5,
    "start_time": "2021-09-06T08:01:56.864Z"
   },
   {
    "duration": 70603,
    "start_time": "2021-09-06T08:03:05.272Z"
   },
   {
    "duration": 1074,
    "start_time": "2021-09-06T08:04:55.559Z"
   },
   {
    "duration": 18,
    "start_time": "2021-09-06T08:05:10.151Z"
   },
   {
    "duration": 8,
    "start_time": "2021-09-06T08:05:13.287Z"
   },
   {
    "duration": 6,
    "start_time": "2021-09-06T08:06:16.614Z"
   },
   {
    "duration": 96232,
    "start_time": "2021-09-06T08:06:17.965Z"
   },
   {
    "duration": 13,
    "start_time": "2021-09-06T08:08:03.427Z"
   },
   {
    "duration": 9,
    "start_time": "2021-09-06T08:08:07.598Z"
   },
   {
    "duration": 6,
    "start_time": "2021-09-06T08:08:45.742Z"
   },
   {
    "duration": 4897,
    "start_time": "2021-09-06T08:08:47.725Z"
   },
   {
    "duration": 6,
    "start_time": "2021-09-06T08:09:05.088Z"
   },
   {
    "duration": 97512,
    "start_time": "2021-09-06T08:09:06.220Z"
   },
   {
    "duration": 13,
    "start_time": "2021-09-06T08:10:46.475Z"
   },
   {
    "duration": 8,
    "start_time": "2021-09-06T08:10:49.114Z"
   },
   {
    "duration": 18,
    "start_time": "2021-09-06T08:12:39.666Z"
   },
   {
    "duration": 7,
    "start_time": "2021-09-06T08:12:41.811Z"
   },
   {
    "duration": 20,
    "start_time": "2021-09-06T08:19:56.895Z"
   },
   {
    "duration": 923,
    "start_time": "2021-09-06T10:14:42.122Z"
   },
   {
    "duration": 12,
    "start_time": "2021-09-06T10:14:47.040Z"
   },
   {
    "duration": 5,
    "start_time": "2021-09-06T10:14:49.007Z"
   },
   {
    "duration": 12,
    "start_time": "2021-09-06T10:14:52.833Z"
   },
   {
    "duration": 28,
    "start_time": "2021-09-06T10:14:54.968Z"
   },
   {
    "duration": 9,
    "start_time": "2021-09-06T10:15:10.694Z"
   },
   {
    "duration": 10,
    "start_time": "2021-09-06T10:15:12.564Z"
   },
   {
    "duration": 12,
    "start_time": "2021-09-06T10:16:14.533Z"
   },
   {
    "duration": 1280,
    "start_time": "2021-09-06T10:16:55.558Z"
   },
   {
    "duration": 8,
    "start_time": "2021-09-06T10:17:28.528Z"
   },
   {
    "duration": 11162,
    "start_time": "2021-09-06T10:17:41.766Z"
   },
   {
    "duration": 10,
    "start_time": "2021-09-06T10:18:34.296Z"
   },
   {
    "duration": 12,
    "start_time": "2021-09-06T10:19:48.274Z"
   },
   {
    "duration": 72,
    "start_time": "2021-09-06T10:20:12.390Z"
   },
   {
    "duration": 11,
    "start_time": "2021-09-06T10:20:16.745Z"
   },
   {
    "duration": 4,
    "start_time": "2021-09-06T10:20:17.617Z"
   },
   {
    "duration": 11,
    "start_time": "2021-09-06T10:20:23.431Z"
   },
   {
    "duration": 28,
    "start_time": "2021-09-06T10:20:24.546Z"
   },
   {
    "duration": 9,
    "start_time": "2021-09-06T10:20:28.135Z"
   },
   {
    "duration": 14,
    "start_time": "2021-09-06T10:20:33.728Z"
   },
   {
    "duration": 15,
    "start_time": "2021-09-06T10:25:43.340Z"
   },
   {
    "duration": 683,
    "start_time": "2021-09-06T10:26:08.025Z"
   },
   {
    "duration": 11,
    "start_time": "2021-09-06T10:26:22.616Z"
   },
   {
    "duration": 1407,
    "start_time": "2021-09-06T12:22:57.536Z"
   },
   {
    "duration": 12,
    "start_time": "2021-09-06T12:23:11.211Z"
   },
   {
    "duration": 11,
    "start_time": "2021-09-06T12:23:25.203Z"
   },
   {
    "duration": 1100,
    "start_time": "2021-09-06T12:23:52.327Z"
   },
   {
    "duration": 12,
    "start_time": "2021-09-06T12:23:56.716Z"
   },
   {
    "duration": 5,
    "start_time": "2021-09-06T12:23:59.194Z"
   },
   {
    "duration": 11,
    "start_time": "2021-09-06T12:24:03.369Z"
   },
   {
    "duration": 28,
    "start_time": "2021-09-06T12:24:05.856Z"
   },
   {
    "duration": 10,
    "start_time": "2021-09-06T12:24:08.744Z"
   },
   {
    "duration": 18,
    "start_time": "2021-09-06T12:24:11.106Z"
   },
   {
    "duration": 9,
    "start_time": "2021-09-06T12:24:40.478Z"
   },
   {
    "duration": 85,
    "start_time": "2021-09-06T12:24:53.953Z"
   },
   {
    "duration": 11,
    "start_time": "2021-09-06T12:25:18.608Z"
   },
   {
    "duration": 70,
    "start_time": "2021-09-06T12:25:35.261Z"
   },
   {
    "duration": 9,
    "start_time": "2021-09-06T12:25:52.885Z"
   },
   {
    "duration": 12,
    "start_time": "2021-09-06T12:25:55.214Z"
   },
   {
    "duration": 14,
    "start_time": "2021-09-06T12:26:21.639Z"
   },
   {
    "duration": 15,
    "start_time": "2021-09-06T12:29:33.436Z"
   },
   {
    "duration": 11,
    "start_time": "2021-09-06T12:33:27.139Z"
   },
   {
    "duration": 68,
    "start_time": "2021-09-06T12:34:57.831Z"
   },
   {
    "duration": 14,
    "start_time": "2021-09-06T12:35:02.780Z"
   },
   {
    "duration": 68,
    "start_time": "2021-09-06T12:35:22.738Z"
   },
   {
    "duration": 13,
    "start_time": "2021-09-06T12:35:26.200Z"
   },
   {
    "duration": 72,
    "start_time": "2021-09-06T12:37:14.829Z"
   },
   {
    "duration": 12,
    "start_time": "2021-09-06T12:37:25.977Z"
   },
   {
    "duration": 888,
    "start_time": "2021-09-06T12:38:04.214Z"
   },
   {
    "duration": 13,
    "start_time": "2021-09-06T12:38:08.596Z"
   },
   {
    "duration": 4,
    "start_time": "2021-09-06T12:38:10.098Z"
   },
   {
    "duration": 10,
    "start_time": "2021-09-06T12:38:14.987Z"
   },
   {
    "duration": 29,
    "start_time": "2021-09-06T12:38:17.492Z"
   },
   {
    "duration": 31,
    "start_time": "2021-09-06T12:38:33.572Z"
   },
   {
    "duration": 9,
    "start_time": "2021-09-06T12:40:27.704Z"
   },
   {
    "duration": 13,
    "start_time": "2021-09-06T12:40:34.639Z"
   },
   {
    "duration": 9,
    "start_time": "2021-09-06T12:43:25.088Z"
   },
   {
    "duration": 5,
    "start_time": "2021-09-06T12:44:48.116Z"
   },
   {
    "duration": 9,
    "start_time": "2021-09-06T12:45:39.277Z"
   },
   {
    "duration": 5,
    "start_time": "2021-09-06T12:47:22.083Z"
   },
   {
    "duration": 10,
    "start_time": "2021-09-06T12:47:41.171Z"
   },
   {
    "duration": 30,
    "start_time": "2021-09-06T12:47:43.779Z"
   },
   {
    "duration": 33,
    "start_time": "2021-09-06T12:47:49.594Z"
   },
   {
    "duration": 68,
    "start_time": "2021-09-06T13:45:38.142Z"
   },
   {
    "duration": 10,
    "start_time": "2021-09-06T13:46:10.304Z"
   },
   {
    "duration": 4,
    "start_time": "2021-09-06T13:46:16.847Z"
   },
   {
    "duration": 31,
    "start_time": "2021-09-06T13:46:19.102Z"
   },
   {
    "duration": 10,
    "start_time": "2021-09-06T13:46:24.759Z"
   },
   {
    "duration": 24,
    "start_time": "2021-09-06T13:46:29.671Z"
   },
   {
    "duration": 8,
    "start_time": "2021-09-06T13:46:33.428Z"
   },
   {
    "duration": 11,
    "start_time": "2021-09-06T13:46:38.974Z"
   },
   {
    "duration": 9,
    "start_time": "2021-09-06T13:46:43.190Z"
   },
   {
    "duration": 4,
    "start_time": "2021-09-06T13:48:33.078Z"
   },
   {
    "duration": 9,
    "start_time": "2021-09-06T13:48:57.184Z"
   },
   {
    "duration": 29,
    "start_time": "2021-09-06T13:52:53.709Z"
   },
   {
    "duration": 17,
    "start_time": "2021-09-06T13:54:48.779Z"
   },
   {
    "duration": 7,
    "start_time": "2021-09-06T13:54:53.881Z"
   },
   {
    "duration": 18,
    "start_time": "2021-09-06T13:54:56.091Z"
   },
   {
    "duration": 8,
    "start_time": "2021-09-06T13:54:57.459Z"
   },
   {
    "duration": 18,
    "start_time": "2021-09-06T13:55:01.779Z"
   },
   {
    "duration": 7,
    "start_time": "2021-09-06T13:55:05.856Z"
   },
   {
    "duration": 11,
    "start_time": "2021-09-06T13:55:09.011Z"
   },
   {
    "duration": 7,
    "start_time": "2021-09-06T13:55:11.803Z"
   },
   {
    "duration": 28,
    "start_time": "2021-09-06T13:55:15.651Z"
   },
   {
    "duration": 19,
    "start_time": "2021-09-06T13:55:52.115Z"
   },
   {
    "duration": 11,
    "start_time": "2021-09-06T13:55:53.663Z"
   },
   {
    "duration": 16,
    "start_time": "2021-09-06T14:06:17.823Z"
   },
   {
    "duration": 945,
    "start_time": "2021-09-06T14:09:35.170Z"
   },
   {
    "duration": 7,
    "start_time": "2021-09-06T14:11:36.587Z"
   },
   {
    "duration": 29,
    "start_time": "2021-09-06T14:11:57.035Z"
   },
   {
    "duration": 29,
    "start_time": "2021-09-06T14:12:16.547Z"
   },
   {
    "duration": 8,
    "start_time": "2021-09-06T14:13:48.013Z"
   },
   {
    "duration": 667,
    "start_time": "2021-09-06T14:14:33.546Z"
   },
   {
    "duration": 11,
    "start_time": "2021-09-06T14:18:00.032Z"
   },
   {
    "duration": 8,
    "start_time": "2021-09-06T14:18:24.539Z"
   },
   {
    "duration": 12,
    "start_time": "2021-09-06T14:20:01.473Z"
   },
   {
    "duration": 8,
    "start_time": "2021-09-06T14:20:37.009Z"
   },
   {
    "duration": 8,
    "start_time": "2021-09-06T14:20:57.137Z"
   },
   {
    "duration": 8,
    "start_time": "2021-09-06T14:21:22.151Z"
   },
   {
    "duration": 7,
    "start_time": "2021-09-06T14:21:33.719Z"
   },
   {
    "duration": 695,
    "start_time": "2021-09-06T17:24:08.952Z"
   },
   {
    "duration": 11,
    "start_time": "2021-09-06T17:24:11.271Z"
   },
   {
    "duration": 4,
    "start_time": "2021-09-06T17:24:12.473Z"
   },
   {
    "duration": 30,
    "start_time": "2021-09-06T17:24:13.343Z"
   },
   {
    "duration": 9,
    "start_time": "2021-09-06T17:24:15.549Z"
   },
   {
    "duration": 23,
    "start_time": "2021-09-06T17:24:17.991Z"
   },
   {
    "duration": 8,
    "start_time": "2021-09-06T17:24:21.898Z"
   },
   {
    "duration": 17,
    "start_time": "2021-09-06T17:24:24.463Z"
   },
   {
    "duration": 9,
    "start_time": "2021-09-06T17:24:28.713Z"
   },
   {
    "duration": 4,
    "start_time": "2021-09-06T17:24:45.125Z"
   },
   {
    "duration": 14,
    "start_time": "2021-09-06T17:25:00.989Z"
   },
   {
    "duration": 16,
    "start_time": "2021-09-06T17:27:07.425Z"
   },
   {
    "duration": 680,
    "start_time": "2021-09-06T17:27:36.137Z"
   },
   {
    "duration": 11,
    "start_time": "2021-09-06T17:27:38.455Z"
   },
   {
    "duration": 4,
    "start_time": "2021-09-06T17:27:39.125Z"
   },
   {
    "duration": 30,
    "start_time": "2021-09-06T17:27:39.579Z"
   },
   {
    "duration": 10,
    "start_time": "2021-09-06T17:27:42.255Z"
   },
   {
    "duration": 24,
    "start_time": "2021-09-06T17:27:45.287Z"
   },
   {
    "duration": 8,
    "start_time": "2021-09-06T17:27:48.366Z"
   },
   {
    "duration": 16,
    "start_time": "2021-09-06T17:27:49.431Z"
   },
   {
    "duration": 9,
    "start_time": "2021-09-06T17:27:50.219Z"
   },
   {
    "duration": 4,
    "start_time": "2021-09-06T17:27:58.787Z"
   },
   {
    "duration": 8,
    "start_time": "2021-09-06T17:28:16.480Z"
   },
   {
    "duration": 16,
    "start_time": "2021-09-06T17:28:23.132Z"
   },
   {
    "duration": 25,
    "start_time": "2021-09-06T17:28:46.938Z"
   },
   {
    "duration": 10,
    "start_time": "2021-09-06T17:29:00.936Z"
   },
   {
    "duration": 5,
    "start_time": "2021-09-06T17:29:12.346Z"
   },
   {
    "duration": 60,
    "start_time": "2021-09-06T17:29:23.874Z"
   },
   {
    "duration": 12,
    "start_time": "2021-09-06T17:29:33.859Z"
   },
   {
    "duration": 4,
    "start_time": "2021-09-06T17:29:38.174Z"
   },
   {
    "duration": 5,
    "start_time": "2021-09-06T17:29:41.449Z"
   },
   {
    "duration": 36,
    "start_time": "2021-09-06T17:30:17.501Z"
   },
   {
    "duration": 333,
    "start_time": "2021-09-06T17:30:58.067Z"
   },
   {
    "duration": 24,
    "start_time": "2021-09-06T17:31:05.496Z"
   },
   {
    "duration": 16,
    "start_time": "2021-09-06T17:31:10.415Z"
   },
   {
    "duration": 292,
    "start_time": "2021-09-06T17:32:06.312Z"
   },
   {
    "duration": 17,
    "start_time": "2021-09-06T17:32:27.426Z"
   },
   {
    "duration": 1122,
    "start_time": "2021-09-06T17:32:55.261Z"
   },
   {
    "duration": 1407,
    "start_time": "2021-09-06T17:33:32.985Z"
   },
   {
    "duration": 11,
    "start_time": "2021-09-06T17:35:34.522Z"
   },
   {
    "duration": 10,
    "start_time": "2021-09-06T17:35:49.759Z"
   },
   {
    "duration": 6,
    "start_time": "2021-09-06T17:36:09.995Z"
   },
   {
    "duration": 3694,
    "start_time": "2021-09-06T17:36:44.597Z"
   },
   {
    "duration": 69,
    "start_time": "2021-09-06T17:41:07.872Z"
   },
   {
    "duration": 476,
    "start_time": "2021-09-06T17:44:27.624Z"
   },
   {
    "duration": 273,
    "start_time": "2021-09-06T17:44:48.527Z"
   },
   {
    "duration": 1032,
    "start_time": "2021-09-06T17:44:57.991Z"
   },
   {
    "duration": 74,
    "start_time": "2021-09-06T17:45:04.057Z"
   },
   {
    "duration": 66,
    "start_time": "2021-09-06T17:45:09.411Z"
   },
   {
    "duration": 65,
    "start_time": "2021-09-06T17:45:23.834Z"
   },
   {
    "duration": 408,
    "start_time": "2021-09-06T17:45:35.771Z"
   },
   {
    "duration": 63,
    "start_time": "2021-09-06T17:45:40.793Z"
   },
   {
    "duration": 64,
    "start_time": "2021-09-06T17:45:49.407Z"
   },
   {
    "duration": 327,
    "start_time": "2021-09-06T17:47:08.198Z"
   },
   {
    "duration": 64,
    "start_time": "2021-09-06T17:47:20.344Z"
   },
   {
    "duration": 62,
    "start_time": "2021-09-06T17:47:29.874Z"
   },
   {
    "duration": 106,
    "start_time": "2021-09-06T17:48:16.955Z"
   },
   {
    "duration": 66,
    "start_time": "2021-09-06T17:48:22.075Z"
   },
   {
    "duration": 272,
    "start_time": "2021-09-06T17:49:23.079Z"
   },
   {
    "duration": 28,
    "start_time": "2021-09-06T17:49:32.873Z"
   },
   {
    "duration": 12,
    "start_time": "2021-09-06T17:49:40.160Z"
   },
   {
    "duration": 327,
    "start_time": "2021-09-06T17:49:42.728Z"
   },
   {
    "duration": 70,
    "start_time": "2021-09-06T17:50:15.516Z"
   },
   {
    "duration": 13,
    "start_time": "2021-09-06T17:51:37.937Z"
   },
   {
    "duration": 5,
    "start_time": "2021-09-06T17:51:51.401Z"
   },
   {
    "duration": 13,
    "start_time": "2021-09-06T17:51:53.997Z"
   },
   {
    "duration": 67,
    "start_time": "2021-09-06T17:52:02.815Z"
   },
   {
    "duration": 58,
    "start_time": "2021-09-06T17:52:15.883Z"
   },
   {
    "duration": 12,
    "start_time": "2021-09-06T17:52:24.585Z"
   },
   {
    "duration": 3,
    "start_time": "2021-09-06T17:52:27.450Z"
   },
   {
    "duration": 66,
    "start_time": "2021-09-06T17:52:30.926Z"
   },
   {
    "duration": 13,
    "start_time": "2021-09-06T17:52:36.498Z"
   },
   {
    "duration": 5,
    "start_time": "2021-09-06T17:53:22.020Z"
   },
   {
    "duration": 13,
    "start_time": "2021-09-06T17:53:24.336Z"
   },
   {
    "duration": 11,
    "start_time": "2021-09-06T17:53:31.736Z"
   },
   {
    "duration": 13,
    "start_time": "2021-09-06T17:53:40.346Z"
   },
   {
    "duration": 9,
    "start_time": "2021-09-06T17:53:45.493Z"
   },
   {
    "duration": 11,
    "start_time": "2021-09-06T17:54:24.423Z"
   },
   {
    "duration": 10,
    "start_time": "2021-09-06T17:56:33.950Z"
   },
   {
    "duration": 5,
    "start_time": "2021-09-06T17:56:50.104Z"
   },
   {
    "duration": 5,
    "start_time": "2021-09-06T17:56:55.909Z"
   },
   {
    "duration": 4,
    "start_time": "2021-09-06T17:56:59.075Z"
   },
   {
    "duration": 60,
    "start_time": "2021-09-06T17:58:11.120Z"
   },
   {
    "duration": 293,
    "start_time": "2021-09-06T17:58:20.114Z"
   },
   {
    "duration": 10,
    "start_time": "2021-09-06T17:58:25.914Z"
   },
   {
    "duration": 809,
    "start_time": "2021-09-06T17:59:13.450Z"
   },
   {
    "duration": 11,
    "start_time": "2021-09-06T17:59:16.334Z"
   },
   {
    "duration": 6,
    "start_time": "2021-09-06T17:59:16.892Z"
   },
   {
    "duration": 34,
    "start_time": "2021-09-06T17:59:17.348Z"
   },
   {
    "duration": 15,
    "start_time": "2021-09-06T17:59:23.104Z"
   },
   {
    "duration": 38,
    "start_time": "2021-09-06T17:59:25.132Z"
   },
   {
    "duration": 11,
    "start_time": "2021-09-06T17:59:37.732Z"
   },
   {
    "duration": 16,
    "start_time": "2021-09-06T17:59:41.395Z"
   },
   {
    "duration": 10,
    "start_time": "2021-09-06T17:59:48.772Z"
   },
   {
    "duration": 4,
    "start_time": "2021-09-06T17:59:58.306Z"
   },
   {
    "duration": 65,
    "start_time": "2021-09-06T18:00:55.729Z"
   },
   {
    "duration": 60,
    "start_time": "2021-09-06T18:00:58.819Z"
   },
   {
    "duration": 10,
    "start_time": "2021-09-06T18:01:07.030Z"
   },
   {
    "duration": 580,
    "start_time": "2021-09-06T18:01:21.393Z"
   },
   {
    "duration": 58,
    "start_time": "2021-09-06T18:01:24.327Z"
   },
   {
    "duration": 46,
    "start_time": "2021-09-06T18:01:25.031Z"
   },
   {
    "duration": 11,
    "start_time": "2021-09-06T18:01:30.727Z"
   },
   {
    "duration": 4,
    "start_time": "2021-09-06T18:01:31.337Z"
   },
   {
    "duration": 28,
    "start_time": "2021-09-06T18:01:31.909Z"
   },
   {
    "duration": 10,
    "start_time": "2021-09-06T18:01:34.407Z"
   },
   {
    "duration": 23,
    "start_time": "2021-09-06T18:01:36.477Z"
   },
   {
    "duration": 8,
    "start_time": "2021-09-06T18:01:38.879Z"
   },
   {
    "duration": 16,
    "start_time": "2021-09-06T18:01:41.677Z"
   },
   {
    "duration": 8,
    "start_time": "2021-09-06T18:01:43.396Z"
   },
   {
    "duration": 4,
    "start_time": "2021-09-06T18:01:45.161Z"
   },
   {
    "duration": 105,
    "start_time": "2021-09-06T18:01:47.573Z"
   },
   {
    "duration": 10,
    "start_time": "2021-09-06T18:01:49.187Z"
   },
   {
    "duration": 5,
    "start_time": "2021-09-06T18:02:04.335Z"
   },
   {
    "duration": 10,
    "start_time": "2021-09-06T18:02:08.436Z"
   },
   {
    "duration": 9,
    "start_time": "2021-09-06T18:14:27.267Z"
   },
   {
    "duration": 7,
    "start_time": "2021-09-06T18:14:47.513Z"
   },
   {
    "duration": 8,
    "start_time": "2021-09-06T18:15:00.372Z"
   },
   {
    "duration": 11,
    "start_time": "2021-09-06T18:15:28.704Z"
   },
   {
    "duration": 11,
    "start_time": "2021-09-06T18:15:43.460Z"
   },
   {
    "duration": 7,
    "start_time": "2021-09-06T18:15:51.362Z"
   },
   {
    "duration": 84,
    "start_time": "2021-09-06T18:16:00.504Z"
   },
   {
    "duration": 6,
    "start_time": "2021-09-06T18:16:05.821Z"
   },
   {
    "duration": 7,
    "start_time": "2021-09-06T18:16:13.114Z"
   },
   {
    "duration": 7,
    "start_time": "2021-09-06T18:23:40.669Z"
   },
   {
    "duration": 7,
    "start_time": "2021-09-06T18:23:55.328Z"
   },
   {
    "duration": 38,
    "start_time": "2021-09-06T18:27:35.105Z"
   },
   {
    "duration": 23,
    "start_time": "2021-09-06T18:27:46.287Z"
   },
   {
    "duration": 94,
    "start_time": "2021-09-06T18:29:02.601Z"
   },
   {
    "duration": 356,
    "start_time": "2021-09-06T18:29:20.060Z"
   },
   {
    "duration": 34,
    "start_time": "2021-09-06T18:31:40.103Z"
   },
   {
    "duration": 33,
    "start_time": "2021-09-06T18:32:10.395Z"
   },
   {
    "duration": 850,
    "start_time": "2021-09-07T05:50:15.634Z"
   },
   {
    "duration": 17,
    "start_time": "2021-09-07T05:50:20.496Z"
   },
   {
    "duration": 6,
    "start_time": "2021-09-07T05:50:21.304Z"
   },
   {
    "duration": 47,
    "start_time": "2021-09-07T05:50:22.936Z"
   },
   {
    "duration": 13,
    "start_time": "2021-09-07T05:50:29.240Z"
   },
   {
    "duration": 39,
    "start_time": "2021-09-07T05:50:30.016Z"
   },
   {
    "duration": 11,
    "start_time": "2021-09-07T05:50:35.024Z"
   },
   {
    "duration": 37,
    "start_time": "2021-09-07T05:50:36.400Z"
   },
   {
    "duration": 18,
    "start_time": "2021-09-07T05:50:37.840Z"
   },
   {
    "duration": 5,
    "start_time": "2021-09-07T05:50:42.287Z"
   },
   {
    "duration": 112,
    "start_time": "2021-09-07T05:51:11.942Z"
   },
   {
    "duration": 9,
    "start_time": "2021-09-07T05:51:16.704Z"
   },
   {
    "duration": 20,
    "start_time": "2021-09-07T05:51:18.929Z"
   },
   {
    "duration": 9,
    "start_time": "2021-09-07T05:51:51.983Z"
   },
   {
    "duration": 50,
    "start_time": "2021-09-07T05:52:10.762Z"
   },
   {
    "duration": 49,
    "start_time": "2021-09-07T05:52:49.365Z"
   },
   {
    "duration": 124,
    "start_time": "2021-09-07T05:56:17.355Z"
   },
   {
    "duration": 140,
    "start_time": "2021-09-07T05:56:52.476Z"
   },
   {
    "duration": 13,
    "start_time": "2021-09-07T05:57:04.185Z"
   },
   {
    "duration": 9,
    "start_time": "2021-09-07T05:57:11.198Z"
   },
   {
    "duration": 837,
    "start_time": "2021-09-07T05:59:32.257Z"
   },
   {
    "duration": 15,
    "start_time": "2021-09-07T05:59:37.796Z"
   },
   {
    "duration": 7,
    "start_time": "2021-09-07T05:59:38.335Z"
   },
   {
    "duration": 48,
    "start_time": "2021-09-07T05:59:40.868Z"
   },
   {
    "duration": 15,
    "start_time": "2021-09-07T05:59:45.491Z"
   },
   {
    "duration": 38,
    "start_time": "2021-09-07T05:59:47.131Z"
   },
   {
    "duration": 15,
    "start_time": "2021-09-07T05:59:50.247Z"
   },
   {
    "duration": 23,
    "start_time": "2021-09-07T05:59:51.440Z"
   },
   {
    "duration": 13,
    "start_time": "2021-09-07T05:59:52.825Z"
   },
   {
    "duration": 5,
    "start_time": "2021-09-07T05:59:55.463Z"
   },
   {
    "duration": 114,
    "start_time": "2021-09-07T06:02:38.976Z"
   },
   {
    "duration": 6,
    "start_time": "2021-09-07T06:02:40.350Z"
   },
   {
    "duration": 15,
    "start_time": "2021-09-07T06:02:41.103Z"
   },
   {
    "duration": 9,
    "start_time": "2021-09-07T06:02:45.632Z"
   },
   {
    "duration": 13,
    "start_time": "2021-09-07T06:02:47.734Z"
   },
   {
    "duration": 14,
    "start_time": "2021-09-07T06:03:06.918Z"
   },
   {
    "duration": 11,
    "start_time": "2021-09-07T06:03:14.090Z"
   },
   {
    "duration": 132,
    "start_time": "2021-09-07T06:06:03.957Z"
   },
   {
    "duration": 127,
    "start_time": "2021-09-07T06:06:21.133Z"
   },
   {
    "duration": 785,
    "start_time": "2021-09-07T06:12:03.755Z"
   },
   {
    "duration": 664,
    "start_time": "2021-09-07T06:12:22.006Z"
   },
   {
    "duration": 672,
    "start_time": "2021-09-07T06:13:41.911Z"
   },
   {
    "duration": 7833,
    "start_time": "2021-09-07T06:14:43.198Z"
   },
   {
    "duration": 11103,
    "start_time": "2021-09-07T06:16:34.406Z"
   },
   {
    "duration": 410,
    "start_time": "2021-09-07T06:17:16.145Z"
   },
   {
    "duration": 180,
    "start_time": "2021-09-07T06:17:48.766Z"
   },
   {
    "duration": 720,
    "start_time": "2021-09-07T06:17:55.307Z"
   },
   {
    "duration": 16,
    "start_time": "2021-09-07T06:20:35.314Z"
   },
   {
    "duration": 1192,
    "start_time": "2021-09-07T06:21:14.714Z"
   },
   {
    "duration": 685,
    "start_time": "2021-09-07T06:21:45.291Z"
   },
   {
    "duration": 5430,
    "start_time": "2021-09-07T06:22:38.658Z"
   },
   {
    "duration": 13,
    "start_time": "2021-09-07T06:27:43.896Z"
   },
   {
    "duration": 13,
    "start_time": "2021-09-07T06:28:06.843Z"
   },
   {
    "duration": 6905,
    "start_time": "2021-09-07T06:28:32.727Z"
   },
   {
    "duration": 147,
    "start_time": "2021-09-07T06:29:10.390Z"
   },
   {
    "duration": 202,
    "start_time": "2021-09-07T06:29:42.687Z"
   },
   {
    "duration": 190,
    "start_time": "2021-09-07T06:29:48.760Z"
   },
   {
    "duration": 15,
    "start_time": "2021-09-07T06:29:53.565Z"
   },
   {
    "duration": 488,
    "start_time": "2021-09-07T06:32:24.557Z"
   },
   {
    "duration": 462,
    "start_time": "2021-09-07T06:32:43.043Z"
   },
   {
    "duration": 1724,
    "start_time": "2021-09-07T06:32:57.300Z"
   },
   {
    "duration": 1638,
    "start_time": "2021-09-07T06:34:50.627Z"
   },
   {
    "duration": 930,
    "start_time": "2021-09-07T06:57:42.146Z"
   },
   {
    "duration": 16,
    "start_time": "2021-09-07T06:57:48.354Z"
   },
   {
    "duration": 5,
    "start_time": "2021-09-07T06:57:49.075Z"
   },
   {
    "duration": 48,
    "start_time": "2021-09-07T06:57:49.496Z"
   },
   {
    "duration": 14,
    "start_time": "2021-09-07T06:57:54.031Z"
   },
   {
    "duration": 39,
    "start_time": "2021-09-07T06:57:54.786Z"
   },
   {
    "duration": 24,
    "start_time": "2021-09-07T06:58:12.100Z"
   },
   {
    "duration": 12,
    "start_time": "2021-09-07T06:58:17.043Z"
   },
   {
    "duration": 22,
    "start_time": "2021-09-07T06:58:18.400Z"
   },
   {
    "duration": 12,
    "start_time": "2021-09-07T06:58:18.855Z"
   },
   {
    "duration": 4,
    "start_time": "2021-09-07T06:58:23.080Z"
   },
   {
    "duration": 111,
    "start_time": "2021-09-07T06:58:28.425Z"
   },
   {
    "duration": 6,
    "start_time": "2021-09-07T06:58:30.057Z"
   },
   {
    "duration": 13,
    "start_time": "2021-09-07T06:58:31.967Z"
   },
   {
    "duration": 9,
    "start_time": "2021-09-07T06:58:32.890Z"
   },
   {
    "duration": 12,
    "start_time": "2021-09-07T06:59:04.774Z"
   },
   {
    "duration": 10,
    "start_time": "2021-09-07T06:59:06.718Z"
   },
   {
    "duration": 6,
    "start_time": "2021-09-07T06:59:25.401Z"
   },
   {
    "duration": 1257,
    "start_time": "2021-09-07T06:59:31.968Z"
   },
   {
    "duration": 21,
    "start_time": "2021-09-07T07:09:31.838Z"
   },
   {
    "duration": 13,
    "start_time": "2021-09-07T07:09:51.113Z"
   },
   {
    "duration": 918,
    "start_time": "2021-09-07T07:12:37.800Z"
   },
   {
    "duration": 16,
    "start_time": "2021-09-07T07:12:42.236Z"
   },
   {
    "duration": 6,
    "start_time": "2021-09-07T07:12:42.696Z"
   },
   {
    "duration": 49,
    "start_time": "2021-09-07T07:12:43.133Z"
   },
   {
    "duration": 13,
    "start_time": "2021-09-07T07:12:49.306Z"
   },
   {
    "duration": 25,
    "start_time": "2021-09-07T07:12:49.714Z"
   },
   {
    "duration": 12,
    "start_time": "2021-09-07T07:12:50.251Z"
   },
   {
    "duration": 23,
    "start_time": "2021-09-07T07:12:53.690Z"
   },
   {
    "duration": 12,
    "start_time": "2021-09-07T07:12:54.212Z"
   },
   {
    "duration": 5,
    "start_time": "2021-09-07T07:12:56.778Z"
   },
   {
    "duration": 129,
    "start_time": "2021-09-07T07:13:06.121Z"
   },
   {
    "duration": 14,
    "start_time": "2021-09-07T07:13:08.043Z"
   },
   {
    "duration": 15,
    "start_time": "2021-09-07T07:13:09.402Z"
   },
   {
    "duration": 9,
    "start_time": "2021-09-07T07:13:13.505Z"
   },
   {
    "duration": 10,
    "start_time": "2021-09-07T07:15:22.139Z"
   },
   {
    "duration": 13,
    "start_time": "2021-09-07T07:16:53.604Z"
   },
   {
    "duration": 14,
    "start_time": "2021-09-07T07:16:59.232Z"
   },
   {
    "duration": 14,
    "start_time": "2021-09-07T07:17:01.134Z"
   },
   {
    "duration": 84,
    "start_time": "2021-09-07T07:18:24.850Z"
   },
   {
    "duration": 16,
    "start_time": "2021-09-07T07:18:27.455Z"
   },
   {
    "duration": 5,
    "start_time": "2021-09-07T07:18:27.889Z"
   },
   {
    "duration": 51,
    "start_time": "2021-09-07T07:18:28.273Z"
   },
   {
    "duration": 13,
    "start_time": "2021-09-07T07:18:32.417Z"
   },
   {
    "duration": 25,
    "start_time": "2021-09-07T07:18:32.825Z"
   },
   {
    "duration": 11,
    "start_time": "2021-09-07T07:18:37.582Z"
   },
   {
    "duration": 16,
    "start_time": "2021-09-07T07:18:38.105Z"
   },
   {
    "duration": 11,
    "start_time": "2021-09-07T07:18:39.772Z"
   },
   {
    "duration": 4,
    "start_time": "2021-09-07T07:18:42.008Z"
   },
   {
    "duration": 105,
    "start_time": "2021-09-07T07:18:44.319Z"
   },
   {
    "duration": 6,
    "start_time": "2021-09-07T07:18:46.758Z"
   },
   {
    "duration": 13,
    "start_time": "2021-09-07T07:18:48.376Z"
   },
   {
    "duration": 9,
    "start_time": "2021-09-07T07:18:54.364Z"
   },
   {
    "duration": 12,
    "start_time": "2021-09-07T07:18:56.679Z"
   },
   {
    "duration": 13,
    "start_time": "2021-09-07T07:18:59.368Z"
   },
   {
    "duration": 9,
    "start_time": "2021-09-07T07:19:01.569Z"
   },
   {
    "duration": 4,
    "start_time": "2021-09-07T07:19:32.774Z"
   },
   {
    "duration": 1259,
    "start_time": "2021-09-07T07:19:38.257Z"
   },
   {
    "duration": 21,
    "start_time": "2021-09-07T07:19:46.337Z"
   },
   {
    "duration": 15,
    "start_time": "2021-09-07T07:19:49.366Z"
   },
   {
    "duration": 48,
    "start_time": "2021-09-07T07:20:22.158Z"
   },
   {
    "duration": 48,
    "start_time": "2021-09-07T07:22:01.052Z"
   },
   {
    "duration": 6,
    "start_time": "2021-09-07T07:29:26.191Z"
   },
   {
    "duration": 18,
    "start_time": "2021-09-07T07:29:27.181Z"
   },
   {
    "duration": 18,
    "start_time": "2021-09-07T07:29:39.280Z"
   },
   {
    "duration": 24,
    "start_time": "2021-09-07T07:31:58.926Z"
   },
   {
    "duration": 11,
    "start_time": "2021-09-07T07:32:02.960Z"
   },
   {
    "duration": 25,
    "start_time": "2021-09-07T07:32:07.490Z"
   },
   {
    "duration": 10,
    "start_time": "2021-09-07T07:32:11.156Z"
   },
   {
    "duration": 27,
    "start_time": "2021-09-07T07:32:13.488Z"
   },
   {
    "duration": 11,
    "start_time": "2021-09-07T07:32:17.406Z"
   },
   {
    "duration": 18,
    "start_time": "2021-09-07T07:32:20.487Z"
   },
   {
    "duration": 11,
    "start_time": "2021-09-07T07:32:24.007Z"
   },
   {
    "duration": 32,
    "start_time": "2021-09-07T07:32:27.142Z"
   },
   {
    "duration": 34,
    "start_time": "2021-09-07T07:32:40.361Z"
   },
   {
    "duration": 18,
    "start_time": "2021-09-07T07:32:41.598Z"
   },
   {
    "duration": 11,
    "start_time": "2021-09-07T07:34:11.733Z"
   },
   {
    "duration": 11,
    "start_time": "2021-09-07T07:34:16.686Z"
   },
   {
    "duration": 6,
    "start_time": "2021-09-07T07:34:19.482Z"
   },
   {
    "duration": 4504,
    "start_time": "2021-09-07T07:34:24.550Z"
   },
   {
    "duration": 16,
    "start_time": "2021-09-07T07:34:33.463Z"
   },
   {
    "duration": 18,
    "start_time": "2021-09-07T07:34:34.637Z"
   },
   {
    "duration": 10,
    "start_time": "2021-09-07T07:34:44.966Z"
   },
   {
    "duration": 25,
    "start_time": "2021-09-07T07:35:00.334Z"
   },
   {
    "duration": 40,
    "start_time": "2021-09-07T07:58:43.050Z"
   },
   {
    "duration": 9,
    "start_time": "2021-09-07T08:12:47.642Z"
   },
   {
    "duration": 10,
    "start_time": "2021-09-07T08:13:00.549Z"
   },
   {
    "duration": 34,
    "start_time": "2021-09-07T08:13:05.487Z"
   },
   {
    "duration": 7,
    "start_time": "2021-09-07T08:13:39.375Z"
   },
   {
    "duration": 8,
    "start_time": "2021-09-07T08:15:36.591Z"
   },
   {
    "duration": 8,
    "start_time": "2021-09-07T08:20:10.572Z"
   },
   {
    "duration": 11,
    "start_time": "2021-09-07T08:26:01.401Z"
   },
   {
    "duration": 14,
    "start_time": "2021-09-07T08:26:22.768Z"
   },
   {
    "duration": 491,
    "start_time": "2021-09-07T08:26:52.520Z"
   },
   {
    "duration": 432,
    "start_time": "2021-09-07T08:27:04.106Z"
   },
   {
    "duration": 475,
    "start_time": "2021-09-07T08:28:17.705Z"
   },
   {
    "duration": 14,
    "start_time": "2021-09-07T08:28:55.697Z"
   },
   {
    "duration": 11,
    "start_time": "2021-09-07T08:29:13.539Z"
   },
   {
    "duration": 14,
    "start_time": "2021-09-07T08:29:19.745Z"
   },
   {
    "duration": 11,
    "start_time": "2021-09-07T08:29:32.264Z"
   },
   {
    "duration": 15,
    "start_time": "2021-09-07T08:29:44.080Z"
   },
   {
    "duration": 15,
    "start_time": "2021-09-07T08:30:52.743Z"
   },
   {
    "duration": 12,
    "start_time": "2021-09-07T08:31:19.860Z"
   },
   {
    "duration": 15,
    "start_time": "2021-09-07T08:33:13.381Z"
   },
   {
    "duration": 15,
    "start_time": "2021-09-07T08:37:08.315Z"
   },
   {
    "duration": 394,
    "start_time": "2021-09-07T08:37:15.576Z"
   },
   {
    "duration": 408,
    "start_time": "2021-09-07T08:37:19.644Z"
   },
   {
    "duration": 15,
    "start_time": "2021-09-07T08:37:28.403Z"
   },
   {
    "duration": 6,
    "start_time": "2021-09-07T08:38:13.512Z"
   },
   {
    "duration": 438,
    "start_time": "2021-09-07T08:38:31.735Z"
   },
   {
    "duration": 416,
    "start_time": "2021-09-07T08:38:35.133Z"
   },
   {
    "duration": 12,
    "start_time": "2021-09-07T08:38:42.491Z"
   },
   {
    "duration": 7,
    "start_time": "2021-09-07T08:39:21.292Z"
   },
   {
    "duration": 7,
    "start_time": "2021-09-07T08:39:26.516Z"
   },
   {
    "duration": 393,
    "start_time": "2021-09-07T08:39:48.234Z"
   },
   {
    "duration": 10691,
    "start_time": "2021-09-07T08:40:19.643Z"
   },
   {
    "duration": 393,
    "start_time": "2021-09-07T08:42:06.961Z"
   },
   {
    "duration": 407,
    "start_time": "2021-09-07T08:42:43.722Z"
   },
   {
    "duration": 5502,
    "start_time": "2021-09-07T08:59:48.066Z"
   },
   {
    "duration": 576,
    "start_time": "2021-09-07T09:00:19.119Z"
   },
   {
    "duration": 389,
    "start_time": "2021-09-07T09:00:37.821Z"
   },
   {
    "duration": 456,
    "start_time": "2021-09-07T09:00:48.679Z"
   },
   {
    "duration": 484,
    "start_time": "2021-09-07T09:01:12.807Z"
   },
   {
    "duration": 527,
    "start_time": "2021-09-07T09:01:20.468Z"
   },
   {
    "duration": 12,
    "start_time": "2021-09-07T09:03:05.279Z"
   },
   {
    "duration": 11,
    "start_time": "2021-09-07T09:03:14.317Z"
   },
   {
    "duration": 6485,
    "start_time": "2021-09-07T09:03:38.291Z"
   },
   {
    "duration": 12,
    "start_time": "2021-09-07T09:03:51.726Z"
   },
   {
    "duration": 9,
    "start_time": "2021-09-07T09:04:04.493Z"
   },
   {
    "duration": 13,
    "start_time": "2021-09-07T09:04:20.308Z"
   },
   {
    "duration": 12,
    "start_time": "2021-09-07T09:04:26.467Z"
   },
   {
    "duration": 10,
    "start_time": "2021-09-07T09:05:11.073Z"
   },
   {
    "duration": 9,
    "start_time": "2021-09-07T09:05:19.507Z"
   },
   {
    "duration": 7,
    "start_time": "2021-09-07T09:05:27.006Z"
   },
   {
    "duration": 734,
    "start_time": "2021-09-07T09:12:01.851Z"
   },
   {
    "duration": 10,
    "start_time": "2021-09-07T09:12:37.575Z"
   },
   {
    "duration": 1067,
    "start_time": "2021-09-07T09:13:09.163Z"
   },
   {
    "duration": 17,
    "start_time": "2021-09-07T09:13:13.591Z"
   },
   {
    "duration": 6,
    "start_time": "2021-09-07T09:13:14.295Z"
   },
   {
    "duration": 47,
    "start_time": "2021-09-07T09:13:14.735Z"
   },
   {
    "duration": 13,
    "start_time": "2021-09-07T09:13:19.125Z"
   },
   {
    "duration": 25,
    "start_time": "2021-09-07T09:13:21.493Z"
   },
   {
    "duration": 12,
    "start_time": "2021-09-07T09:13:24.573Z"
   },
   {
    "duration": 23,
    "start_time": "2021-09-07T09:13:27.501Z"
   },
   {
    "duration": 13,
    "start_time": "2021-09-07T09:13:29.448Z"
   },
   {
    "duration": 5,
    "start_time": "2021-09-07T09:13:34.789Z"
   },
   {
    "duration": 117,
    "start_time": "2021-09-07T09:13:40.807Z"
   },
   {
    "duration": 6,
    "start_time": "2021-09-07T09:13:42.295Z"
   },
   {
    "duration": 13,
    "start_time": "2021-09-07T09:13:51.261Z"
   },
   {
    "duration": 9,
    "start_time": "2021-09-07T09:13:55.086Z"
   },
   {
    "duration": 12,
    "start_time": "2021-09-07T09:13:58.143Z"
   },
   {
    "duration": 11,
    "start_time": "2021-09-07T09:14:06.215Z"
   },
   {
    "duration": 12,
    "start_time": "2021-09-07T09:14:13.338Z"
   },
   {
    "duration": 6,
    "start_time": "2021-09-07T09:14:55.047Z"
   },
   {
    "duration": 1256,
    "start_time": "2021-09-07T09:14:57.877Z"
   },
   {
    "duration": 20,
    "start_time": "2021-09-07T09:15:12.292Z"
   },
   {
    "duration": 14,
    "start_time": "2021-09-07T09:15:13.717Z"
   },
   {
    "duration": 49,
    "start_time": "2021-09-07T09:15:18.876Z"
   },
   {
    "duration": 48,
    "start_time": "2021-09-07T09:15:22.028Z"
   },
   {
    "duration": 7,
    "start_time": "2021-09-07T09:15:25.485Z"
   },
   {
    "duration": 746,
    "start_time": "2021-09-07T09:15:53.421Z"
   },
   {
    "duration": 9,
    "start_time": "2021-09-07T09:15:55.900Z"
   },
   {
    "duration": 6,
    "start_time": "2021-09-07T09:18:11.087Z"
   },
   {
    "duration": 18,
    "start_time": "2021-09-07T09:18:11.965Z"
   },
   {
    "duration": 16,
    "start_time": "2021-09-07T09:18:14.252Z"
   },
   {
    "duration": 25,
    "start_time": "2021-09-07T09:18:29.243Z"
   },
   {
    "duration": 13,
    "start_time": "2021-09-07T09:18:30.791Z"
   },
   {
    "duration": 25,
    "start_time": "2021-09-07T09:18:32.247Z"
   },
   {
    "duration": 10,
    "start_time": "2021-09-07T09:18:42.037Z"
   },
   {
    "duration": 29,
    "start_time": "2021-09-07T09:18:45.822Z"
   },
   {
    "duration": 11,
    "start_time": "2021-09-07T09:18:47.548Z"
   },
   {
    "duration": 17,
    "start_time": "2021-09-07T09:18:48.364Z"
   },
   {
    "duration": 12,
    "start_time": "2021-09-07T09:18:49.156Z"
   },
   {
    "duration": 33,
    "start_time": "2021-09-07T09:18:51.044Z"
   },
   {
    "duration": 34,
    "start_time": "2021-09-07T09:18:53.275Z"
   },
   {
    "duration": 18,
    "start_time": "2021-09-07T09:18:54.459Z"
   },
   {
    "duration": 11,
    "start_time": "2021-09-07T09:19:07.155Z"
   },
   {
    "duration": 12,
    "start_time": "2021-09-07T09:19:09.628Z"
   },
   {
    "duration": 5,
    "start_time": "2021-09-07T09:19:10.106Z"
   },
   {
    "duration": 4527,
    "start_time": "2021-09-07T09:19:14.667Z"
   },
   {
    "duration": 15,
    "start_time": "2021-09-07T09:19:20.794Z"
   },
   {
    "duration": 18,
    "start_time": "2021-09-07T09:19:21.598Z"
   },
   {
    "duration": 12,
    "start_time": "2021-09-07T09:19:25.548Z"
   },
   {
    "duration": 27,
    "start_time": "2021-09-07T09:19:43.313Z"
   },
   {
    "duration": 43,
    "start_time": "2021-09-07T09:19:49.786Z"
   },
   {
    "duration": 12,
    "start_time": "2021-09-07T09:34:06.216Z"
   },
   {
    "duration": 18,
    "start_time": "2021-09-07T09:34:21.927Z"
   },
   {
    "duration": 11,
    "start_time": "2021-09-07T09:34:36.715Z"
   },
   {
    "duration": 10,
    "start_time": "2021-09-07T09:36:56.694Z"
   },
   {
    "duration": 5,
    "start_time": "2021-09-07T09:37:14.296Z"
   },
   {
    "duration": 19,
    "start_time": "2021-09-07T09:38:41.465Z"
   },
   {
    "duration": 8,
    "start_time": "2021-09-07T09:38:42.414Z"
   },
   {
    "duration": 7,
    "start_time": "2021-09-07T09:39:05.257Z"
   },
   {
    "duration": 8,
    "start_time": "2021-09-07T09:40:22.548Z"
   },
   {
    "duration": 11,
    "start_time": "2021-09-07T09:48:18.072Z"
   },
   {
    "duration": 10,
    "start_time": "2021-09-07T09:48:32.532Z"
   },
   {
    "duration": 11,
    "start_time": "2021-09-07T09:48:52.635Z"
   },
   {
    "duration": 11,
    "start_time": "2021-09-07T09:49:18.760Z"
   },
   {
    "duration": 15,
    "start_time": "2021-09-07T09:51:08.536Z"
   },
   {
    "duration": 8,
    "start_time": "2021-09-07T09:51:09.469Z"
   },
   {
    "duration": 16,
    "start_time": "2021-09-07T09:51:10.271Z"
   },
   {
    "duration": 11,
    "start_time": "2021-09-07T09:57:09.173Z"
   },
   {
    "duration": 6,
    "start_time": "2021-09-07T10:19:12.391Z"
   },
   {
    "duration": 99430,
    "start_time": "2021-09-07T10:19:16.120Z"
   },
   {
    "duration": 20,
    "start_time": "2021-09-07T10:21:39.234Z"
   },
   {
    "duration": 84,
    "start_time": "2021-09-07T10:22:47.813Z"
   },
   {
    "duration": 14,
    "start_time": "2021-09-07T10:22:51.407Z"
   },
   {
    "duration": 6,
    "start_time": "2021-09-07T10:22:51.892Z"
   },
   {
    "duration": 48,
    "start_time": "2021-09-07T10:22:52.367Z"
   },
   {
    "duration": 13,
    "start_time": "2021-09-07T10:22:55.588Z"
   },
   {
    "duration": 26,
    "start_time": "2021-09-07T10:22:57.180Z"
   },
   {
    "duration": 11,
    "start_time": "2021-09-07T10:22:58.557Z"
   },
   {
    "duration": 17,
    "start_time": "2021-09-07T10:23:00.381Z"
   },
   {
    "duration": 12,
    "start_time": "2021-09-07T10:23:00.844Z"
   },
   {
    "duration": 5,
    "start_time": "2021-09-07T10:23:03.700Z"
   },
   {
    "duration": 108,
    "start_time": "2021-09-07T10:23:05.701Z"
   },
   {
    "duration": 6,
    "start_time": "2021-09-07T10:23:05.932Z"
   },
   {
    "duration": 14,
    "start_time": "2021-09-07T10:23:06.159Z"
   },
   {
    "duration": 9,
    "start_time": "2021-09-07T10:23:06.381Z"
   },
   {
    "duration": 12,
    "start_time": "2021-09-07T10:23:06.607Z"
   },
   {
    "duration": 9,
    "start_time": "2021-09-07T10:23:06.831Z"
   },
   {
    "duration": 16,
    "start_time": "2021-09-07T10:23:09.989Z"
   },
   {
    "duration": 5,
    "start_time": "2021-09-07T10:23:10.549Z"
   },
   {
    "duration": 1250,
    "start_time": "2021-09-07T10:23:12.652Z"
   },
   {
    "duration": 19,
    "start_time": "2021-09-07T10:23:15.372Z"
   },
   {
    "duration": 14,
    "start_time": "2021-09-07T10:23:15.940Z"
   },
   {
    "duration": 47,
    "start_time": "2021-09-07T10:23:19.238Z"
   },
   {
    "duration": 46,
    "start_time": "2021-09-07T10:23:19.597Z"
   },
   {
    "duration": 8,
    "start_time": "2021-09-07T10:23:22.157Z"
   },
   {
    "duration": 735,
    "start_time": "2021-09-07T10:23:22.636Z"
   },
   {
    "duration": 8,
    "start_time": "2021-09-07T10:23:24.005Z"
   },
   {
    "duration": 7,
    "start_time": "2021-09-07T10:23:32.836Z"
   },
   {
    "duration": 17,
    "start_time": "2021-09-07T10:23:33.454Z"
   },
   {
    "duration": 17,
    "start_time": "2021-09-07T10:23:35.181Z"
   },
   {
    "duration": 24,
    "start_time": "2021-09-07T10:23:39.624Z"
   },
   {
    "duration": 11,
    "start_time": "2021-09-07T10:23:40.439Z"
   },
   {
    "duration": 25,
    "start_time": "2021-09-07T10:23:42.660Z"
   },
   {
    "duration": 11,
    "start_time": "2021-09-07T10:23:43.028Z"
   },
   {
    "duration": 25,
    "start_time": "2021-09-07T10:23:43.424Z"
   },
   {
    "duration": 10,
    "start_time": "2021-09-07T10:23:43.829Z"
   },
   {
    "duration": 17,
    "start_time": "2021-09-07T10:23:46.163Z"
   },
   {
    "duration": 11,
    "start_time": "2021-09-07T10:23:46.532Z"
   },
   {
    "duration": 29,
    "start_time": "2021-09-07T10:23:47.104Z"
   },
   {
    "duration": 30,
    "start_time": "2021-09-07T10:23:47.493Z"
   },
   {
    "duration": 16,
    "start_time": "2021-09-07T10:23:47.941Z"
   },
   {
    "duration": 10,
    "start_time": "2021-09-07T10:23:52.349Z"
   },
   {
    "duration": 29,
    "start_time": "2021-09-07T10:23:55.532Z"
   },
   {
    "duration": 4,
    "start_time": "2021-09-07T10:23:55.933Z"
   },
   {
    "duration": 4552,
    "start_time": "2021-09-07T10:23:58.239Z"
   },
   {
    "duration": 16,
    "start_time": "2021-09-07T10:24:06.414Z"
   },
   {
    "duration": 20,
    "start_time": "2021-09-07T10:24:08.514Z"
   },
   {
    "duration": 11,
    "start_time": "2021-09-07T10:24:11.869Z"
   },
   {
    "duration": 12,
    "start_time": "2021-09-07T10:24:12.725Z"
   },
   {
    "duration": 5,
    "start_time": "2021-09-07T10:24:14.332Z"
   },
   {
    "duration": 27,
    "start_time": "2021-09-07T10:24:19.485Z"
   },
   {
    "duration": 52,
    "start_time": "2021-09-07T10:24:28.524Z"
   },
   {
    "duration": 22,
    "start_time": "2021-09-07T10:24:40.349Z"
   },
   {
    "duration": 13,
    "start_time": "2021-09-07T10:24:48.236Z"
   },
   {
    "duration": 11,
    "start_time": "2021-09-07T10:25:00.166Z"
   },
   {
    "duration": 10,
    "start_time": "2021-09-07T10:25:27.010Z"
   },
   {
    "duration": 12,
    "start_time": "2021-09-07T10:25:56.842Z"
   },
   {
    "duration": 6,
    "start_time": "2021-09-07T10:26:37.855Z"
   },
   {
    "duration": 588,
    "start_time": "2021-09-07T10:29:45.849Z"
   },
   {
    "duration": 9,
    "start_time": "2021-09-07T10:29:50.479Z"
   },
   {
    "duration": 421,
    "start_time": "2021-09-07T10:29:51.937Z"
   },
   {
    "duration": 10,
    "start_time": "2021-09-07T10:30:01.679Z"
   },
   {
    "duration": 893,
    "start_time": "2021-09-07T10:55:59.616Z"
   },
   {
    "duration": 17,
    "start_time": "2021-09-07T10:56:02.065Z"
   },
   {
    "duration": 6,
    "start_time": "2021-09-07T10:56:04.049Z"
   },
   {
    "duration": 50,
    "start_time": "2021-09-07T10:56:06.180Z"
   },
   {
    "duration": 866,
    "start_time": "2021-09-07T10:57:04.852Z"
   },
   {
    "duration": 14,
    "start_time": "2021-09-07T10:57:05.721Z"
   },
   {
    "duration": 6,
    "start_time": "2021-09-07T10:57:05.738Z"
   },
   {
    "duration": 73,
    "start_time": "2021-09-07T10:57:05.747Z"
   },
   {
    "duration": 12,
    "start_time": "2021-09-07T10:57:05.822Z"
   },
   {
    "duration": 25,
    "start_time": "2021-09-07T10:57:05.837Z"
   },
   {
    "duration": 11,
    "start_time": "2021-09-07T10:57:05.865Z"
   },
   {
    "duration": 55,
    "start_time": "2021-09-07T10:57:05.880Z"
   },
   {
    "duration": 11,
    "start_time": "2021-09-07T10:57:05.938Z"
   },
   {
    "duration": 4,
    "start_time": "2021-09-07T10:57:05.952Z"
   },
   {
    "duration": 135,
    "start_time": "2021-09-07T10:57:05.958Z"
   },
   {
    "duration": 20,
    "start_time": "2021-09-07T10:57:06.096Z"
   },
   {
    "duration": 12,
    "start_time": "2021-09-07T10:57:06.118Z"
   },
   {
    "duration": 9,
    "start_time": "2021-09-07T10:57:06.133Z"
   },
   {
    "duration": 20,
    "start_time": "2021-09-07T10:57:06.145Z"
   },
   {
    "duration": 10,
    "start_time": "2021-09-07T10:57:06.168Z"
   },
   {
    "duration": 43,
    "start_time": "2021-09-07T10:57:06.181Z"
   },
   {
    "duration": 5,
    "start_time": "2021-09-07T10:57:06.227Z"
   },
   {
    "duration": 1226,
    "start_time": "2021-09-07T10:57:06.234Z"
   },
   {
    "duration": 20,
    "start_time": "2021-09-07T10:57:07.462Z"
   },
   {
    "duration": 33,
    "start_time": "2021-09-07T10:57:07.485Z"
   },
   {
    "duration": 46,
    "start_time": "2021-09-07T10:57:07.521Z"
   },
   {
    "duration": 68,
    "start_time": "2021-09-07T10:57:07.573Z"
   },
   {
    "duration": 8,
    "start_time": "2021-09-07T10:57:07.645Z"
   },
   {
    "duration": 734,
    "start_time": "2021-09-07T10:57:07.655Z"
   },
   {
    "duration": 8,
    "start_time": "2021-09-07T10:57:08.391Z"
   },
   {
    "duration": 6,
    "start_time": "2021-09-07T10:57:08.416Z"
   },
   {
    "duration": 20,
    "start_time": "2021-09-07T10:57:08.425Z"
   },
   {
    "duration": 19,
    "start_time": "2021-09-07T10:57:08.447Z"
   },
   {
    "duration": 55,
    "start_time": "2021-09-07T10:57:08.469Z"
   },
   {
    "duration": 11,
    "start_time": "2021-09-07T10:57:08.526Z"
   },
   {
    "duration": 26,
    "start_time": "2021-09-07T10:57:08.540Z"
   },
   {
    "duration": 10,
    "start_time": "2021-09-07T10:57:08.569Z"
   },
   {
    "duration": 27,
    "start_time": "2021-09-07T10:57:08.616Z"
   },
   {
    "duration": 13,
    "start_time": "2021-09-07T10:57:08.645Z"
   },
   {
    "duration": 19,
    "start_time": "2021-09-07T10:57:08.660Z"
   },
   {
    "duration": 37,
    "start_time": "2021-09-07T10:57:08.682Z"
   },
   {
    "duration": 32,
    "start_time": "2021-09-07T10:57:08.721Z"
   },
   {
    "duration": 29,
    "start_time": "2021-09-07T10:57:08.755Z"
   },
   {
    "duration": 40,
    "start_time": "2021-09-07T10:57:08.786Z"
   },
   {
    "duration": 10,
    "start_time": "2021-09-07T10:57:08.829Z"
   },
   {
    "duration": 14,
    "start_time": "2021-09-07T10:57:08.842Z"
   },
   {
    "duration": 4,
    "start_time": "2021-09-07T10:57:08.858Z"
   },
   {
    "duration": 4769,
    "start_time": "2021-09-07T10:57:08.865Z"
   },
   {
    "duration": 17,
    "start_time": "2021-09-07T10:57:13.637Z"
   },
   {
    "duration": 19,
    "start_time": "2021-09-07T10:57:13.657Z"
   },
   {
    "duration": 44,
    "start_time": "2021-09-07T10:57:13.679Z"
   },
   {
    "duration": 16,
    "start_time": "2021-09-07T10:57:13.725Z"
   },
   {
    "duration": 6,
    "start_time": "2021-09-07T10:57:13.743Z"
   },
   {
    "duration": 32,
    "start_time": "2021-09-07T10:57:13.752Z"
   },
   {
    "duration": 48,
    "start_time": "2021-09-07T10:57:13.816Z"
   },
   {
    "duration": 12,
    "start_time": "2021-09-07T10:57:13.867Z"
   },
   {
    "duration": 42,
    "start_time": "2021-09-07T10:57:13.882Z"
   },
   {
    "duration": 11,
    "start_time": "2021-09-07T10:57:13.926Z"
   },
   {
    "duration": 17,
    "start_time": "2021-09-07T10:57:13.939Z"
   },
   {
    "duration": 2,
    "start_time": "2021-09-07T10:57:13.959Z"
   },
   {
    "duration": 16,
    "start_time": "2021-09-07T10:57:13.964Z"
   },
   {
    "duration": 42,
    "start_time": "2021-09-07T10:57:13.983Z"
   },
   {
    "duration": 944,
    "start_time": "2021-09-07T10:57:39.809Z"
   },
   {
    "duration": 16,
    "start_time": "2021-09-07T10:57:40.756Z"
   },
   {
    "duration": 6,
    "start_time": "2021-09-07T10:57:40.775Z"
   },
   {
    "duration": 75,
    "start_time": "2021-09-07T10:57:40.784Z"
   },
   {
    "duration": 15,
    "start_time": "2021-09-07T10:57:40.862Z"
   },
   {
    "duration": 60,
    "start_time": "2021-09-07T10:57:40.880Z"
   },
   {
    "duration": 12,
    "start_time": "2021-09-07T10:57:40.942Z"
   },
   {
    "duration": 16,
    "start_time": "2021-09-07T10:57:40.959Z"
   },
   {
    "duration": 44,
    "start_time": "2021-09-07T10:57:40.978Z"
   },
   {
    "duration": 4,
    "start_time": "2021-09-07T10:57:41.025Z"
   },
   {
    "duration": 134,
    "start_time": "2021-09-07T10:57:41.032Z"
   },
   {
    "duration": 5,
    "start_time": "2021-09-07T10:57:41.169Z"
   },
   {
    "duration": 13,
    "start_time": "2021-09-07T10:57:41.176Z"
   },
   {
    "duration": 29,
    "start_time": "2021-09-07T10:57:41.192Z"
   },
   {
    "duration": 13,
    "start_time": "2021-09-07T10:57:41.224Z"
   },
   {
    "duration": 8,
    "start_time": "2021-09-07T10:57:41.240Z"
   },
   {
    "duration": 18,
    "start_time": "2021-09-07T10:57:41.250Z"
   },
   {
    "duration": 46,
    "start_time": "2021-09-07T10:57:41.270Z"
   },
   {
    "duration": 1307,
    "start_time": "2021-09-07T10:57:41.319Z"
   },
   {
    "duration": 19,
    "start_time": "2021-09-07T10:57:42.629Z"
   },
   {
    "duration": 13,
    "start_time": "2021-09-07T10:57:42.650Z"
   },
   {
    "duration": 73,
    "start_time": "2021-09-07T10:57:42.665Z"
   },
   {
    "duration": 45,
    "start_time": "2021-09-07T10:57:42.743Z"
   },
   {
    "duration": 28,
    "start_time": "2021-09-07T10:57:42.791Z"
   },
   {
    "duration": 746,
    "start_time": "2021-09-07T10:57:42.821Z"
   },
   {
    "duration": 7,
    "start_time": "2021-09-07T10:57:43.570Z"
   },
   {
    "duration": 46,
    "start_time": "2021-09-07T10:57:43.579Z"
   },
   {
    "duration": 50,
    "start_time": "2021-09-07T10:57:43.627Z"
   },
   {
    "duration": 18,
    "start_time": "2021-09-07T10:57:43.679Z"
   },
   {
    "duration": 22,
    "start_time": "2021-09-07T10:57:43.699Z"
   },
   {
    "duration": 9,
    "start_time": "2021-09-07T10:57:43.724Z"
   },
   {
    "duration": 31,
    "start_time": "2021-09-07T10:57:43.735Z"
   },
   {
    "duration": 15,
    "start_time": "2021-09-07T10:57:43.768Z"
   },
   {
    "duration": 45,
    "start_time": "2021-09-07T10:57:43.786Z"
   },
   {
    "duration": 11,
    "start_time": "2021-09-07T10:57:43.833Z"
   },
   {
    "duration": 18,
    "start_time": "2021-09-07T10:57:43.846Z"
   },
   {
    "duration": 9,
    "start_time": "2021-09-07T10:57:43.866Z"
   },
   {
    "duration": 66,
    "start_time": "2021-09-07T10:57:43.878Z"
   },
   {
    "duration": 32,
    "start_time": "2021-09-07T10:57:43.946Z"
   },
   {
    "duration": 42,
    "start_time": "2021-09-07T10:57:43.980Z"
   },
   {
    "duration": 10,
    "start_time": "2021-09-07T10:57:44.024Z"
   },
   {
    "duration": 14,
    "start_time": "2021-09-07T10:57:44.037Z"
   },
   {
    "duration": 5,
    "start_time": "2021-09-07T10:57:44.053Z"
   },
   {
    "duration": 4823,
    "start_time": "2021-09-07T10:57:44.060Z"
   },
   {
    "duration": 16,
    "start_time": "2021-09-07T10:57:48.886Z"
   },
   {
    "duration": 19,
    "start_time": "2021-09-07T10:57:48.917Z"
   },
   {
    "duration": 22,
    "start_time": "2021-09-07T10:57:48.938Z"
   },
   {
    "duration": 24,
    "start_time": "2021-09-07T10:57:48.962Z"
   },
   {
    "duration": 18,
    "start_time": "2021-09-07T10:57:48.988Z"
   },
   {
    "duration": 47,
    "start_time": "2021-09-07T10:57:49.009Z"
   },
   {
    "duration": 47,
    "start_time": "2021-09-07T10:57:49.058Z"
   },
   {
    "duration": 15,
    "start_time": "2021-09-07T10:57:49.107Z"
   },
   {
    "duration": 16,
    "start_time": "2021-09-07T10:57:49.124Z"
   },
   {
    "duration": 10,
    "start_time": "2021-09-07T10:57:49.143Z"
   },
   {
    "duration": 20,
    "start_time": "2021-09-07T10:57:49.156Z"
   },
   {
    "duration": 7,
    "start_time": "2021-09-07T10:57:49.179Z"
   },
   {
    "duration": 13,
    "start_time": "2021-09-07T10:57:49.217Z"
   },
   {
    "duration": 18,
    "start_time": "2021-09-07T10:57:49.232Z"
   },
   {
    "duration": 976,
    "start_time": "2021-09-07T10:58:59.631Z"
   },
   {
    "duration": 15,
    "start_time": "2021-09-07T10:59:03.139Z"
   },
   {
    "duration": 6,
    "start_time": "2021-09-07T10:59:04.586Z"
   },
   {
    "duration": 48,
    "start_time": "2021-09-07T10:59:04.977Z"
   },
   {
    "duration": 13,
    "start_time": "2021-09-07T10:59:08.754Z"
   },
   {
    "duration": 27,
    "start_time": "2021-09-07T10:59:09.388Z"
   },
   {
    "duration": 11,
    "start_time": "2021-09-07T10:59:09.891Z"
   },
   {
    "duration": 36,
    "start_time": "2021-09-07T10:59:11.708Z"
   },
   {
    "duration": 12,
    "start_time": "2021-09-07T10:59:12.241Z"
   },
   {
    "duration": 6,
    "start_time": "2021-09-07T10:59:14.876Z"
   },
   {
    "duration": 108,
    "start_time": "2021-09-07T10:59:17.879Z"
   },
   {
    "duration": 7,
    "start_time": "2021-09-07T10:59:20.681Z"
   },
   {
    "duration": 13,
    "start_time": "2021-09-07T10:59:21.500Z"
   },
   {
    "duration": 9,
    "start_time": "2021-09-07T10:59:22.330Z"
   },
   {
    "duration": 12,
    "start_time": "2021-09-07T10:59:23.738Z"
   },
   {
    "duration": 8,
    "start_time": "2021-09-07T10:59:24.268Z"
   },
   {
    "duration": 13,
    "start_time": "2021-09-07T10:59:24.821Z"
   },
   {
    "duration": 6,
    "start_time": "2021-09-07T10:59:25.570Z"
   },
   {
    "duration": 1211,
    "start_time": "2021-09-07T10:59:27.385Z"
   },
   {
    "duration": 20,
    "start_time": "2021-09-07T10:59:29.776Z"
   },
   {
    "duration": 14,
    "start_time": "2021-09-07T10:59:30.505Z"
   },
   {
    "duration": 49,
    "start_time": "2021-09-07T10:59:35.005Z"
   },
   {
    "duration": 48,
    "start_time": "2021-09-07T10:59:35.756Z"
   },
   {
    "duration": 8,
    "start_time": "2021-09-07T10:59:36.281Z"
   },
   {
    "duration": 713,
    "start_time": "2021-09-07T10:59:38.545Z"
   },
   {
    "duration": 8,
    "start_time": "2021-09-07T10:59:40.442Z"
   },
   {
    "duration": 6,
    "start_time": "2021-09-07T10:59:44.369Z"
   },
   {
    "duration": 21,
    "start_time": "2021-09-07T10:59:45.178Z"
   },
   {
    "duration": 19,
    "start_time": "2021-09-07T10:59:46.017Z"
   },
   {
    "duration": 23,
    "start_time": "2021-09-07T10:59:49.317Z"
   },
   {
    "duration": 10,
    "start_time": "2021-09-07T10:59:50.058Z"
   },
   {
    "duration": 26,
    "start_time": "2021-09-07T10:59:51.914Z"
   },
   {
    "duration": 10,
    "start_time": "2021-09-07T10:59:52.578Z"
   },
   {
    "duration": 30,
    "start_time": "2021-09-07T10:59:55.196Z"
   },
   {
    "duration": 12,
    "start_time": "2021-09-07T10:59:55.835Z"
   },
   {
    "duration": 18,
    "start_time": "2021-09-07T10:59:56.362Z"
   },
   {
    "duration": 10,
    "start_time": "2021-09-07T10:59:56.930Z"
   },
   {
    "duration": 32,
    "start_time": "2021-09-07T10:59:57.562Z"
   },
   {
    "duration": 33,
    "start_time": "2021-09-07T10:59:59.377Z"
   },
   {
    "duration": 16,
    "start_time": "2021-09-07T11:00:00.249Z"
   },
   {
    "duration": 10,
    "start_time": "2021-09-07T11:00:07.743Z"
   },
   {
    "duration": 11,
    "start_time": "2021-09-07T11:00:11.105Z"
   },
   {
    "duration": 4,
    "start_time": "2021-09-07T11:00:11.833Z"
   },
   {
    "duration": 4476,
    "start_time": "2021-09-07T11:00:14.093Z"
   },
   {
    "duration": 16,
    "start_time": "2021-09-07T11:00:19.333Z"
   },
   {
    "duration": 19,
    "start_time": "2021-09-07T11:00:20.073Z"
   },
   {
    "duration": 11,
    "start_time": "2021-09-07T11:00:23.384Z"
   },
   {
    "duration": 13,
    "start_time": "2021-09-07T11:00:25.512Z"
   },
   {
    "duration": 7,
    "start_time": "2021-09-07T11:00:26.343Z"
   },
   {
    "duration": 29,
    "start_time": "2021-09-07T11:02:39.088Z"
   },
   {
    "duration": 47,
    "start_time": "2021-09-07T11:02:39.798Z"
   },
   {
    "duration": 12,
    "start_time": "2021-09-07T11:02:47.670Z"
   },
   {
    "duration": 12,
    "start_time": "2021-09-07T11:02:52.647Z"
   },
   {
    "duration": 11,
    "start_time": "2021-09-07T11:02:55.176Z"
   },
   {
    "duration": 11,
    "start_time": "2021-09-07T11:02:56.639Z"
   },
   {
    "duration": 13,
    "start_time": "2021-09-07T11:03:00.998Z"
   },
   {
    "duration": 12,
    "start_time": "2021-09-07T11:03:27.743Z"
   },
   {
    "duration": 681,
    "start_time": "2021-09-08T08:34:29.705Z"
   },
   {
    "duration": 12,
    "start_time": "2021-09-08T08:34:30.388Z"
   },
   {
    "duration": 6,
    "start_time": "2021-09-08T08:34:30.403Z"
   },
   {
    "duration": 35,
    "start_time": "2021-09-08T08:34:30.411Z"
   },
   {
    "duration": 10,
    "start_time": "2021-09-08T08:34:30.449Z"
   },
   {
    "duration": 39,
    "start_time": "2021-09-08T08:34:30.461Z"
   },
   {
    "duration": 9,
    "start_time": "2021-09-08T08:34:30.502Z"
   },
   {
    "duration": 12,
    "start_time": "2021-09-08T08:34:30.514Z"
   },
   {
    "duration": 8,
    "start_time": "2021-09-08T08:34:30.528Z"
   },
   {
    "duration": 3,
    "start_time": "2021-09-08T08:34:30.537Z"
   },
   {
    "duration": 93,
    "start_time": "2021-09-08T08:34:30.542Z"
   },
   {
    "duration": 4,
    "start_time": "2021-09-08T08:34:30.637Z"
   },
   {
    "duration": 13,
    "start_time": "2021-09-08T08:34:30.642Z"
   },
   {
    "duration": 9,
    "start_time": "2021-09-08T08:34:30.657Z"
   },
   {
    "duration": 24,
    "start_time": "2021-09-08T08:34:30.667Z"
   },
   {
    "duration": 7,
    "start_time": "2021-09-08T08:34:30.693Z"
   },
   {
    "duration": 23,
    "start_time": "2021-09-08T08:34:30.701Z"
   },
   {
    "duration": 8,
    "start_time": "2021-09-08T08:34:30.726Z"
   },
   {
    "duration": 681,
    "start_time": "2021-09-08T08:34:30.736Z"
   },
   {
    "duration": 14,
    "start_time": "2021-09-08T08:34:31.419Z"
   },
   {
    "duration": 10,
    "start_time": "2021-09-08T08:34:31.434Z"
   },
   {
    "duration": 47,
    "start_time": "2021-09-08T08:34:31.445Z"
   },
   {
    "duration": 31,
    "start_time": "2021-09-08T08:34:31.496Z"
   },
   {
    "duration": 5,
    "start_time": "2021-09-08T08:34:31.529Z"
   },
   {
    "duration": 416,
    "start_time": "2021-09-08T08:34:31.535Z"
   },
   {
    "duration": 5,
    "start_time": "2021-09-08T08:34:31.952Z"
   },
   {
    "duration": 7,
    "start_time": "2021-09-08T08:34:31.959Z"
   },
   {
    "duration": 25,
    "start_time": "2021-09-08T08:34:31.968Z"
   },
   {
    "duration": 15,
    "start_time": "2021-09-08T08:34:31.995Z"
   },
   {
    "duration": 14,
    "start_time": "2021-09-08T08:34:32.012Z"
   },
   {
    "duration": 6,
    "start_time": "2021-09-08T08:34:32.027Z"
   },
   {
    "duration": 19,
    "start_time": "2021-09-08T08:34:32.035Z"
   },
   {
    "duration": 7,
    "start_time": "2021-09-08T08:34:32.055Z"
   },
   {
    "duration": 40,
    "start_time": "2021-09-08T08:34:32.064Z"
   },
   {
    "duration": 6,
    "start_time": "2021-09-08T08:34:32.106Z"
   },
   {
    "duration": 13,
    "start_time": "2021-09-08T08:34:32.114Z"
   },
   {
    "duration": 15,
    "start_time": "2021-09-08T08:34:32.128Z"
   },
   {
    "duration": 30,
    "start_time": "2021-09-08T08:34:32.145Z"
   },
   {
    "duration": 29,
    "start_time": "2021-09-08T08:34:32.176Z"
   },
   {
    "duration": 11,
    "start_time": "2021-09-08T08:34:32.207Z"
   },
   {
    "duration": 14,
    "start_time": "2021-09-08T08:34:32.219Z"
   },
   {
    "duration": 11,
    "start_time": "2021-09-08T08:34:32.234Z"
   },
   {
    "duration": 3,
    "start_time": "2021-09-08T08:34:32.247Z"
   },
   {
    "duration": 3391,
    "start_time": "2021-09-08T08:34:32.252Z"
   },
   {
    "duration": 13,
    "start_time": "2021-09-08T08:34:35.645Z"
   },
   {
    "duration": 15,
    "start_time": "2021-09-08T08:34:35.659Z"
   },
   {
    "duration": 17,
    "start_time": "2021-09-08T08:34:35.676Z"
   },
   {
    "duration": 9,
    "start_time": "2021-09-08T08:34:35.695Z"
   },
   {
    "duration": 315,
    "start_time": "2021-09-08T08:36:31.322Z"
   },
   {
    "duration": 910,
    "start_time": "2021-09-08T08:36:53.098Z"
   },
   {
    "duration": 652,
    "start_time": "2021-09-08T08:37:03.551Z"
   },
   {
    "duration": 247,
    "start_time": "2021-09-08T08:37:56.151Z"
   },
   {
    "duration": 5,
    "start_time": "2021-09-08T08:38:10.070Z"
   },
   {
    "duration": 244,
    "start_time": "2021-09-08T08:40:06.524Z"
   },
   {
    "duration": 4,
    "start_time": "2021-09-08T08:40:17.313Z"
   },
   {
    "duration": 6,
    "start_time": "2021-09-08T08:40:22.801Z"
   },
   {
    "duration": 5,
    "start_time": "2021-09-08T08:41:15.405Z"
   },
   {
    "duration": 6,
    "start_time": "2021-09-08T08:41:16.998Z"
   },
   {
    "duration": 5,
    "start_time": "2021-09-08T08:41:21.308Z"
   },
   {
    "duration": 5,
    "start_time": "2021-09-08T08:43:46.109Z"
   },
   {
    "duration": 24,
    "start_time": "2021-09-08T08:45:45.071Z"
   },
   {
    "duration": 61,
    "start_time": "2021-09-08T08:49:49.401Z"
   },
   {
    "duration": 9,
    "start_time": "2021-09-08T08:49:49.464Z"
   },
   {
    "duration": 17,
    "start_time": "2021-09-08T08:49:49.475Z"
   },
   {
    "duration": 49,
    "start_time": "2021-09-08T08:49:49.493Z"
   },
   {
    "duration": 10,
    "start_time": "2021-09-08T08:49:49.544Z"
   },
   {
    "duration": 28,
    "start_time": "2021-09-08T08:49:49.555Z"
   },
   {
    "duration": 8,
    "start_time": "2021-09-08T08:49:49.591Z"
   },
   {
    "duration": 20,
    "start_time": "2021-09-08T08:49:49.602Z"
   },
   {
    "duration": 24,
    "start_time": "2021-09-08T08:49:49.624Z"
   },
   {
    "duration": 11,
    "start_time": "2021-09-08T08:49:49.649Z"
   },
   {
    "duration": 77,
    "start_time": "2021-09-08T08:49:49.662Z"
   },
   {
    "duration": 4,
    "start_time": "2021-09-08T08:49:49.741Z"
   },
   {
    "duration": 10,
    "start_time": "2021-09-08T08:49:49.747Z"
   },
   {
    "duration": 6,
    "start_time": "2021-09-08T08:49:49.759Z"
   },
   {
    "duration": 24,
    "start_time": "2021-09-08T08:49:49.767Z"
   },
   {
    "duration": 7,
    "start_time": "2021-09-08T08:49:49.793Z"
   },
   {
    "duration": 9,
    "start_time": "2021-09-08T08:49:49.802Z"
   },
   {
    "duration": 3,
    "start_time": "2021-09-08T08:49:49.813Z"
   },
   {
    "duration": 690,
    "start_time": "2021-09-08T08:49:49.818Z"
   },
   {
    "duration": 15,
    "start_time": "2021-09-08T08:49:50.510Z"
   },
   {
    "duration": 10,
    "start_time": "2021-09-08T08:49:50.527Z"
   },
   {
    "duration": 38,
    "start_time": "2021-09-08T08:49:50.538Z"
   },
   {
    "duration": 31,
    "start_time": "2021-09-08T08:49:50.591Z"
   },
   {
    "duration": 6,
    "start_time": "2021-09-08T08:49:50.625Z"
   },
   {
    "duration": 422,
    "start_time": "2021-09-08T08:49:50.633Z"
   },
   {
    "duration": 7,
    "start_time": "2021-09-08T08:49:51.057Z"
   },
   {
    "duration": 5,
    "start_time": "2021-09-08T08:49:51.066Z"
   },
   {
    "duration": 11,
    "start_time": "2021-09-08T08:49:51.091Z"
   },
   {
    "duration": 20,
    "start_time": "2021-09-08T08:49:51.104Z"
   },
   {
    "duration": 18,
    "start_time": "2021-09-08T08:49:51.126Z"
   },
   {
    "duration": 8,
    "start_time": "2021-09-08T08:49:51.146Z"
   },
   {
    "duration": 44,
    "start_time": "2021-09-08T08:49:51.156Z"
   },
   {
    "duration": 11,
    "start_time": "2021-09-08T08:49:51.202Z"
   },
   {
    "duration": 25,
    "start_time": "2021-09-08T08:49:51.215Z"
   },
   {
    "duration": 9,
    "start_time": "2021-09-08T08:49:51.242Z"
   },
   {
    "duration": 13,
    "start_time": "2021-09-08T08:49:51.253Z"
   },
   {
    "duration": 28,
    "start_time": "2021-09-08T08:49:51.268Z"
   },
   {
    "duration": 23,
    "start_time": "2021-09-08T08:49:51.298Z"
   },
   {
    "duration": 20,
    "start_time": "2021-09-08T08:49:51.323Z"
   },
   {
    "duration": 11,
    "start_time": "2021-09-08T08:49:51.345Z"
   },
   {
    "duration": 36,
    "start_time": "2021-09-08T08:49:51.358Z"
   },
   {
    "duration": 23,
    "start_time": "2021-09-08T08:49:51.396Z"
   },
   {
    "duration": 3,
    "start_time": "2021-09-08T08:49:51.421Z"
   },
   {
    "duration": 3496,
    "start_time": "2021-09-08T08:49:51.426Z"
   },
   {
    "duration": 11,
    "start_time": "2021-09-08T08:49:54.924Z"
   },
   {
    "duration": 9,
    "start_time": "2021-09-08T08:49:54.937Z"
   },
   {
    "duration": 10,
    "start_time": "2021-09-08T08:49:54.948Z"
   },
   {
    "duration": 6,
    "start_time": "2021-09-08T08:49:54.960Z"
   },
   {
    "duration": 689,
    "start_time": "2021-09-08T08:49:54.967Z"
   },
   {
    "duration": 6,
    "start_time": "2021-09-08T08:49:55.658Z"
   },
   {
    "duration": 40,
    "start_time": "2021-09-08T08:49:55.666Z"
   },
   {
    "duration": 38,
    "start_time": "2021-09-08T08:49:55.708Z"
   },
   {
    "duration": 15,
    "start_time": "2021-09-08T08:53:58.013Z"
   },
   {
    "duration": 277,
    "start_time": "2021-09-08T08:54:29.978Z"
   },
   {
    "duration": 13,
    "start_time": "2021-09-08T08:54:34.087Z"
   },
   {
    "duration": 83,
    "start_time": "2021-09-08T08:56:19.666Z"
   },
   {
    "duration": 100,
    "start_time": "2021-09-08T08:56:22.947Z"
   },
   {
    "duration": 8,
    "start_time": "2021-09-08T08:56:26.924Z"
   },
   {
    "duration": 65,
    "start_time": "2021-09-08T08:57:55.964Z"
   },
   {
    "duration": 12,
    "start_time": "2021-09-08T08:57:56.030Z"
   },
   {
    "duration": 4,
    "start_time": "2021-09-08T08:57:56.045Z"
   },
   {
    "duration": 63,
    "start_time": "2021-09-08T08:57:56.051Z"
   },
   {
    "duration": 9,
    "start_time": "2021-09-08T08:57:56.116Z"
   },
   {
    "duration": 22,
    "start_time": "2021-09-08T08:57:56.127Z"
   },
   {
    "duration": 10,
    "start_time": "2021-09-08T08:57:56.151Z"
   },
   {
    "duration": 37,
    "start_time": "2021-09-08T08:57:56.164Z"
   },
   {
    "duration": 8,
    "start_time": "2021-09-08T08:57:56.203Z"
   },
   {
    "duration": 9,
    "start_time": "2021-09-08T08:57:56.213Z"
   },
   {
    "duration": 90,
    "start_time": "2021-09-08T08:57:56.223Z"
   },
   {
    "duration": 4,
    "start_time": "2021-09-08T08:57:56.316Z"
   },
   {
    "duration": 11,
    "start_time": "2021-09-08T08:57:56.322Z"
   },
   {
    "duration": 6,
    "start_time": "2021-09-08T08:57:56.336Z"
   },
   {
    "duration": 19,
    "start_time": "2021-09-08T08:57:56.344Z"
   },
   {
    "duration": 28,
    "start_time": "2021-09-08T08:57:56.365Z"
   },
   {
    "duration": 16,
    "start_time": "2021-09-08T08:57:56.395Z"
   },
   {
    "duration": 24,
    "start_time": "2021-09-08T08:57:56.413Z"
   },
   {
    "duration": 683,
    "start_time": "2021-09-08T08:57:56.439Z"
   },
   {
    "duration": 15,
    "start_time": "2021-09-08T08:57:57.124Z"
   },
   {
    "duration": 20,
    "start_time": "2021-09-08T08:57:57.141Z"
   },
   {
    "duration": 42,
    "start_time": "2021-09-08T08:57:57.163Z"
   },
   {
    "duration": 30,
    "start_time": "2021-09-08T08:57:57.209Z"
   },
   {
    "duration": 6,
    "start_time": "2021-09-08T08:57:57.242Z"
   },
   {
    "duration": 416,
    "start_time": "2021-09-08T08:57:57.249Z"
   },
   {
    "duration": 7,
    "start_time": "2021-09-08T08:57:57.667Z"
   },
   {
    "duration": 17,
    "start_time": "2021-09-08T08:57:57.675Z"
   },
   {
    "duration": 31,
    "start_time": "2021-09-08T08:57:57.694Z"
   },
   {
    "duration": 28,
    "start_time": "2021-09-08T08:57:57.726Z"
   },
   {
    "duration": 15,
    "start_time": "2021-09-08T08:57:57.756Z"
   },
   {
    "duration": 8,
    "start_time": "2021-09-08T08:57:57.773Z"
   },
   {
    "duration": 33,
    "start_time": "2021-09-08T08:57:57.783Z"
   },
   {
    "duration": 18,
    "start_time": "2021-09-08T08:57:57.818Z"
   },
   {
    "duration": 26,
    "start_time": "2021-09-08T08:57:57.838Z"
   },
   {
    "duration": 17,
    "start_time": "2021-09-08T08:57:57.866Z"
   },
   {
    "duration": 27,
    "start_time": "2021-09-08T08:57:57.885Z"
   },
   {
    "duration": 11,
    "start_time": "2021-09-08T08:57:57.913Z"
   },
   {
    "duration": 35,
    "start_time": "2021-09-08T08:57:57.925Z"
   },
   {
    "duration": 22,
    "start_time": "2021-09-08T08:57:57.961Z"
   },
   {
    "duration": 10,
    "start_time": "2021-09-08T08:57:57.985Z"
   },
   {
    "duration": 19,
    "start_time": "2021-09-08T08:57:57.997Z"
   },
   {
    "duration": 40,
    "start_time": "2021-09-08T08:57:58.017Z"
   },
   {
    "duration": 2,
    "start_time": "2021-09-08T08:57:58.059Z"
   },
   {
    "duration": 3437,
    "start_time": "2021-09-08T08:57:58.063Z"
   },
   {
    "duration": 13,
    "start_time": "2021-09-08T08:58:01.503Z"
   },
   {
    "duration": 29,
    "start_time": "2021-09-08T08:58:01.518Z"
   },
   {
    "duration": 25,
    "start_time": "2021-09-08T08:58:01.549Z"
   },
   {
    "duration": 27,
    "start_time": "2021-09-08T08:58:01.576Z"
   },
   {
    "duration": 714,
    "start_time": "2021-09-08T08:58:01.605Z"
   },
   {
    "duration": 7,
    "start_time": "2021-09-08T08:58:02.321Z"
   },
   {
    "duration": 40,
    "start_time": "2021-09-08T08:58:02.331Z"
   },
   {
    "duration": 52,
    "start_time": "2021-09-08T08:58:02.373Z"
   },
   {
    "duration": 10,
    "start_time": "2021-09-08T08:58:02.428Z"
   },
   {
    "duration": 16,
    "start_time": "2021-09-08T08:58:02.440Z"
   },
   {
    "duration": 15,
    "start_time": "2021-09-08T08:58:02.458Z"
   },
   {
    "duration": 10,
    "start_time": "2021-09-08T08:58:02.491Z"
   },
   {
    "duration": 13,
    "start_time": "2021-09-08T08:58:02.503Z"
   },
   {
    "duration": 17,
    "start_time": "2021-09-08T08:58:02.518Z"
   },
   {
    "duration": 24,
    "start_time": "2021-09-08T08:58:52.320Z"
   },
   {
    "duration": 697,
    "start_time": "2021-09-09T05:46:58.148Z"
   },
   {
    "duration": 12,
    "start_time": "2021-09-09T05:47:00.047Z"
   },
   {
    "duration": 4,
    "start_time": "2021-09-09T05:47:03.079Z"
   },
   {
    "duration": 33,
    "start_time": "2021-09-09T05:47:03.656Z"
   },
   {
    "duration": 10,
    "start_time": "2021-09-09T05:47:07.023Z"
   },
   {
    "duration": 18,
    "start_time": "2021-09-09T05:47:07.704Z"
   },
   {
    "duration": 8,
    "start_time": "2021-09-09T05:47:10.201Z"
   },
   {
    "duration": 18,
    "start_time": "2021-09-09T05:47:10.697Z"
   },
   {
    "duration": 10,
    "start_time": "2021-09-09T05:47:11.254Z"
   },
   {
    "duration": 4,
    "start_time": "2021-09-09T05:47:14.293Z"
   },
   {
    "duration": 71,
    "start_time": "2021-09-09T05:47:15.695Z"
   },
   {
    "duration": 5,
    "start_time": "2021-09-09T05:47:18.013Z"
   },
   {
    "duration": 10,
    "start_time": "2021-09-09T05:47:18.632Z"
   },
   {
    "duration": 7,
    "start_time": "2021-09-09T05:47:19.400Z"
   },
   {
    "duration": 10,
    "start_time": "2021-09-09T05:47:20.014Z"
   },
   {
    "duration": 7,
    "start_time": "2021-09-09T05:47:22.327Z"
   },
   {
    "duration": 11,
    "start_time": "2021-09-09T05:47:22.862Z"
   },
   {
    "duration": 3,
    "start_time": "2021-09-09T05:47:23.646Z"
   },
   {
    "duration": 745,
    "start_time": "2021-09-09T05:47:24.759Z"
   },
   {
    "duration": 16,
    "start_time": "2021-09-09T05:47:26.237Z"
   },
   {
    "duration": 11,
    "start_time": "2021-09-09T05:47:28.182Z"
   },
   {
    "duration": 34,
    "start_time": "2021-09-09T05:47:32.504Z"
   },
   {
    "duration": 34,
    "start_time": "2021-09-09T05:47:33.148Z"
   },
   {
    "duration": 7,
    "start_time": "2021-09-09T05:47:33.654Z"
   },
   {
    "duration": 468,
    "start_time": "2021-09-09T05:47:36.861Z"
   },
   {
    "duration": 6,
    "start_time": "2021-09-09T05:47:37.934Z"
   },
   {
    "duration": 5,
    "start_time": "2021-09-09T05:47:41.871Z"
   },
   {
    "duration": 13,
    "start_time": "2021-09-09T05:47:43.160Z"
   },
   {
    "duration": 14,
    "start_time": "2021-09-09T05:47:44.038Z"
   },
   {
    "duration": 17,
    "start_time": "2021-09-09T05:47:47.637Z"
   },
   {
    "duration": 7,
    "start_time": "2021-09-09T05:47:48.223Z"
   },
   {
    "duration": 19,
    "start_time": "2021-09-09T05:47:49.782Z"
   },
   {
    "duration": 8,
    "start_time": "2021-09-09T05:47:50.510Z"
   },
   {
    "duration": 20,
    "start_time": "2021-09-09T05:47:53.679Z"
   },
   {
    "duration": 8,
    "start_time": "2021-09-09T05:47:54.190Z"
   },
   {
    "duration": 13,
    "start_time": "2021-09-09T05:47:54.664Z"
   },
   {
    "duration": 8,
    "start_time": "2021-09-09T05:47:55.120Z"
   },
   {
    "duration": 22,
    "start_time": "2021-09-09T05:47:55.750Z"
   },
   {
    "duration": 23,
    "start_time": "2021-09-09T05:47:58.013Z"
   },
   {
    "duration": 12,
    "start_time": "2021-09-09T05:47:58.415Z"
   },
   {
    "duration": 9,
    "start_time": "2021-09-09T05:48:01.451Z"
   },
   {
    "duration": 7,
    "start_time": "2021-09-09T05:48:04.517Z"
   },
   {
    "duration": 3,
    "start_time": "2021-09-09T05:48:06.936Z"
   },
   {
    "duration": 3682,
    "start_time": "2021-09-09T05:48:08.904Z"
   },
   {
    "duration": 11,
    "start_time": "2021-09-09T05:48:31.655Z"
   },
   {
    "duration": 13,
    "start_time": "2021-09-09T05:48:34.870Z"
   },
   {
    "duration": 9,
    "start_time": "2021-09-09T05:48:45.415Z"
   },
   {
    "duration": 9,
    "start_time": "2021-09-09T05:48:47.980Z"
   },
   {
    "duration": 5,
    "start_time": "2021-09-09T05:48:49.997Z"
   },
   {
    "duration": 345,
    "start_time": "2021-09-09T05:49:00.902Z"
   },
   {
    "duration": 22,
    "start_time": "2021-09-09T05:49:08.707Z"
   },
   {
    "duration": 902,
    "start_time": "2021-09-19T08:14:07.674Z"
   },
   {
    "duration": 15,
    "start_time": "2021-09-19T08:14:08.579Z"
   },
   {
    "duration": 22,
    "start_time": "2021-09-19T08:14:08.597Z"
   },
   {
    "duration": 48,
    "start_time": "2021-09-19T08:14:08.621Z"
   },
   {
    "duration": 12,
    "start_time": "2021-09-19T08:14:08.672Z"
   },
   {
    "duration": 62,
    "start_time": "2021-09-19T08:14:08.686Z"
   },
   {
    "duration": 11,
    "start_time": "2021-09-19T08:14:08.751Z"
   },
   {
    "duration": 21,
    "start_time": "2021-09-19T08:14:08.766Z"
   },
   {
    "duration": 35,
    "start_time": "2021-09-19T08:14:08.790Z"
   },
   {
    "duration": 4,
    "start_time": "2021-09-19T08:14:08.827Z"
   },
   {
    "duration": 131,
    "start_time": "2021-09-19T08:14:08.834Z"
   },
   {
    "duration": 6,
    "start_time": "2021-09-19T08:14:08.967Z"
   },
   {
    "duration": 13,
    "start_time": "2021-09-19T08:14:08.975Z"
   },
   {
    "duration": 33,
    "start_time": "2021-09-19T08:14:08.990Z"
   },
   {
    "duration": 11,
    "start_time": "2021-09-19T08:14:09.026Z"
   },
   {
    "duration": 8,
    "start_time": "2021-09-19T08:14:09.040Z"
   },
   {
    "duration": 15,
    "start_time": "2021-09-19T08:14:09.050Z"
   },
   {
    "duration": 5,
    "start_time": "2021-09-19T08:14:09.068Z"
   },
   {
    "duration": 1374,
    "start_time": "2021-09-19T08:14:09.075Z"
   },
   {
    "duration": 20,
    "start_time": "2021-09-19T08:14:10.451Z"
   },
   {
    "duration": 14,
    "start_time": "2021-09-19T08:14:10.473Z"
   },
   {
    "duration": 67,
    "start_time": "2021-09-19T08:14:10.489Z"
   },
   {
    "duration": 73,
    "start_time": "2021-09-19T08:14:10.562Z"
   },
   {
    "duration": 8,
    "start_time": "2021-09-19T08:14:10.638Z"
   },
   {
    "duration": 741,
    "start_time": "2021-09-19T08:14:10.648Z"
   },
   {
    "duration": 8,
    "start_time": "2021-09-19T08:14:11.392Z"
   },
   {
    "duration": 18,
    "start_time": "2021-09-19T08:14:11.402Z"
   },
   {
    "duration": 18,
    "start_time": "2021-09-19T08:14:11.423Z"
   },
   {
    "duration": 17,
    "start_time": "2021-09-19T08:14:11.444Z"
   },
   {
    "duration": 60,
    "start_time": "2021-09-19T08:14:11.463Z"
   },
   {
    "duration": 9,
    "start_time": "2021-09-19T08:14:11.526Z"
   },
   {
    "duration": 23,
    "start_time": "2021-09-19T08:14:11.538Z"
   },
   {
    "duration": 10,
    "start_time": "2021-09-19T08:14:11.564Z"
   },
   {
    "duration": 62,
    "start_time": "2021-09-19T08:14:11.576Z"
   },
   {
    "duration": 11,
    "start_time": "2021-09-19T08:14:11.641Z"
   },
   {
    "duration": 22,
    "start_time": "2021-09-19T08:14:11.654Z"
   },
   {
    "duration": 11,
    "start_time": "2021-09-19T08:14:11.679Z"
   },
   {
    "duration": 29,
    "start_time": "2021-09-19T08:14:11.716Z"
   },
   {
    "duration": 28,
    "start_time": "2021-09-19T08:14:11.747Z"
   },
   {
    "duration": 43,
    "start_time": "2021-09-19T08:14:11.778Z"
   },
   {
    "duration": 10,
    "start_time": "2021-09-19T08:14:11.823Z"
   },
   {
    "duration": 14,
    "start_time": "2021-09-19T08:14:11.836Z"
   },
   {
    "duration": 4,
    "start_time": "2021-09-19T08:14:11.853Z"
   },
   {
    "duration": 4483,
    "start_time": "2021-09-19T08:14:11.859Z"
   },
   {
    "duration": 15,
    "start_time": "2021-09-19T08:14:16.345Z"
   },
   {
    "duration": 19,
    "start_time": "2021-09-19T08:14:16.362Z"
   },
   {
    "duration": 38,
    "start_time": "2021-09-19T08:14:16.383Z"
   },
   {
    "duration": 13,
    "start_time": "2021-09-19T08:14:16.423Z"
   },
   {
    "duration": 8,
    "start_time": "2021-09-19T08:14:16.439Z"
   },
   {
    "duration": 478,
    "start_time": "2021-09-19T08:14:16.450Z"
   },
   {
    "duration": 138,
    "start_time": "2021-09-19T08:14:16.792Z"
   },
   {
    "duration": 131,
    "start_time": "2021-09-19T08:14:16.801Z"
   },
   {
    "duration": 123,
    "start_time": "2021-09-19T08:14:16.810Z"
   },
   {
    "duration": 116,
    "start_time": "2021-09-19T08:14:16.818Z"
   },
   {
    "duration": 104,
    "start_time": "2021-09-19T08:14:16.831Z"
   },
   {
    "duration": 100,
    "start_time": "2021-09-19T08:14:16.837Z"
   },
   {
    "duration": 94,
    "start_time": "2021-09-19T08:14:16.844Z"
   },
   {
    "duration": 87,
    "start_time": "2021-09-19T08:14:16.852Z"
   },
   {
    "duration": 83,
    "start_time": "2021-09-19T08:14:16.858Z"
   },
   {
    "duration": 78,
    "start_time": "2021-09-19T08:14:16.864Z"
   },
   {
    "duration": 70,
    "start_time": "2021-09-19T08:14:16.873Z"
   },
   {
    "duration": 66,
    "start_time": "2021-09-19T08:14:16.879Z"
   },
   {
    "duration": 60,
    "start_time": "2021-09-19T08:14:16.886Z"
   },
   {
    "duration": 29,
    "start_time": "2021-09-19T08:14:58.587Z"
   },
   {
    "duration": 46,
    "start_time": "2021-09-19T08:14:58.618Z"
   },
   {
    "duration": 11,
    "start_time": "2021-09-19T08:14:58.667Z"
   },
   {
    "duration": 44,
    "start_time": "2021-09-19T08:14:58.681Z"
   },
   {
    "duration": 11,
    "start_time": "2021-09-19T08:14:58.728Z"
   },
   {
    "duration": 10,
    "start_time": "2021-09-19T08:14:58.741Z"
   },
   {
    "duration": 4,
    "start_time": "2021-09-19T08:14:58.753Z"
   },
   {
    "duration": 19,
    "start_time": "2021-09-19T08:14:58.760Z"
   },
   {
    "duration": 43,
    "start_time": "2021-09-19T08:14:58.781Z"
   },
   {
    "duration": 23,
    "start_time": "2021-09-19T08:14:58.827Z"
   },
   {
    "duration": 35,
    "start_time": "2021-09-19T08:14:58.852Z"
   },
   {
    "duration": 11,
    "start_time": "2021-09-19T08:14:58.917Z"
   },
   {
    "duration": 880,
    "start_time": "2021-12-25T15:17:24.104Z"
   },
   {
    "duration": 15,
    "start_time": "2021-12-25T15:17:24.987Z"
   },
   {
    "duration": 5,
    "start_time": "2021-12-25T15:17:25.005Z"
   },
   {
    "duration": 76,
    "start_time": "2021-12-25T15:17:25.013Z"
   },
   {
    "duration": 13,
    "start_time": "2021-12-25T15:17:25.092Z"
   },
   {
    "duration": 24,
    "start_time": "2021-12-25T15:17:25.108Z"
   },
   {
    "duration": 35,
    "start_time": "2021-12-25T15:17:25.135Z"
   },
   {
    "duration": 23,
    "start_time": "2021-12-25T15:17:25.173Z"
   },
   {
    "duration": 12,
    "start_time": "2021-12-25T15:17:25.201Z"
   },
   {
    "duration": 44,
    "start_time": "2021-12-25T15:17:25.216Z"
   },
   {
    "duration": 116,
    "start_time": "2021-12-25T15:17:25.262Z"
   },
   {
    "duration": 5,
    "start_time": "2021-12-25T15:17:25.381Z"
   },
   {
    "duration": 11,
    "start_time": "2021-12-25T15:17:25.388Z"
   },
   {
    "duration": 10,
    "start_time": "2021-12-25T15:17:25.401Z"
   },
   {
    "duration": 5,
    "start_time": "2021-12-25T15:17:25.413Z"
   },
   {
    "duration": 40,
    "start_time": "2021-12-25T15:17:25.420Z"
   },
   {
    "duration": 4,
    "start_time": "2021-12-25T15:17:25.463Z"
   },
   {
    "duration": 6,
    "start_time": "2021-12-25T15:17:25.469Z"
   },
   {
    "duration": 6,
    "start_time": "2021-12-25T15:17:25.478Z"
   },
   {
    "duration": 5,
    "start_time": "2021-12-25T15:17:25.486Z"
   },
   {
    "duration": 5,
    "start_time": "2021-12-25T15:17:25.493Z"
   },
   {
    "duration": 7,
    "start_time": "2021-12-25T15:17:25.500Z"
   },
   {
    "duration": 14,
    "start_time": "2021-12-25T15:17:25.560Z"
   },
   {
    "duration": 8,
    "start_time": "2021-12-25T15:17:25.576Z"
   },
   {
    "duration": 13,
    "start_time": "2021-12-25T15:17:25.586Z"
   },
   {
    "duration": 8,
    "start_time": "2021-12-25T15:17:25.601Z"
   },
   {
    "duration": 49,
    "start_time": "2021-12-25T15:17:25.615Z"
   },
   {
    "duration": 5,
    "start_time": "2021-12-25T15:17:25.667Z"
   },
   {
    "duration": 1253,
    "start_time": "2021-12-25T15:17:25.674Z"
   },
   {
    "duration": 29,
    "start_time": "2021-12-25T15:17:26.930Z"
   },
   {
    "duration": 14,
    "start_time": "2021-12-25T15:17:26.961Z"
   },
   {
    "duration": 45,
    "start_time": "2021-12-25T15:17:26.977Z"
   },
   {
    "duration": 73,
    "start_time": "2021-12-25T15:17:27.024Z"
   },
   {
    "duration": 8,
    "start_time": "2021-12-25T15:17:27.099Z"
   },
   {
    "duration": 735,
    "start_time": "2021-12-25T15:17:27.109Z"
   },
   {
    "duration": 12,
    "start_time": "2021-12-25T15:17:27.847Z"
   },
   {
    "duration": 6,
    "start_time": "2021-12-25T15:17:27.861Z"
   },
   {
    "duration": 16,
    "start_time": "2021-12-25T15:17:27.869Z"
   },
   {
    "duration": 17,
    "start_time": "2021-12-25T15:17:27.887Z"
   },
   {
    "duration": 59,
    "start_time": "2021-12-25T15:17:27.907Z"
   },
   {
    "duration": 11,
    "start_time": "2021-12-25T15:17:27.969Z"
   },
   {
    "duration": 25,
    "start_time": "2021-12-25T15:17:27.983Z"
   },
   {
    "duration": 10,
    "start_time": "2021-12-25T15:17:28.011Z"
   },
   {
    "duration": 65,
    "start_time": "2021-12-25T15:17:28.023Z"
   },
   {
    "duration": 10,
    "start_time": "2021-12-25T15:17:28.091Z"
   },
   {
    "duration": 20,
    "start_time": "2021-12-25T15:17:28.103Z"
   },
   {
    "duration": 10,
    "start_time": "2021-12-25T15:17:28.160Z"
   },
   {
    "duration": 33,
    "start_time": "2021-12-25T15:17:28.172Z"
   },
   {
    "duration": 59,
    "start_time": "2021-12-25T15:17:28.207Z"
   },
   {
    "duration": 16,
    "start_time": "2021-12-25T15:17:28.268Z"
   },
   {
    "duration": 10,
    "start_time": "2021-12-25T15:17:28.286Z"
   },
   {
    "duration": 10,
    "start_time": "2021-12-25T15:17:28.299Z"
   },
   {
    "duration": 3,
    "start_time": "2021-12-25T15:17:28.312Z"
   },
   {
    "duration": 5016,
    "start_time": "2021-12-25T15:17:28.318Z"
   },
   {
    "duration": 28,
    "start_time": "2021-12-25T15:17:33.337Z"
   },
   {
    "duration": 19,
    "start_time": "2021-12-25T15:17:33.367Z"
   },
   {
    "duration": 15,
    "start_time": "2021-12-25T15:17:33.389Z"
   },
   {
    "duration": 21,
    "start_time": "2021-12-25T15:17:33.407Z"
   },
   {
    "duration": 31,
    "start_time": "2021-12-25T15:17:33.430Z"
   },
   {
    "duration": 468,
    "start_time": "2021-12-25T15:17:33.463Z"
   },
   {
    "duration": 87,
    "start_time": "2021-12-25T15:17:33.846Z"
   },
   {
    "duration": 83,
    "start_time": "2021-12-25T15:17:33.852Z"
   },
   {
    "duration": 78,
    "start_time": "2021-12-25T15:17:33.858Z"
   },
   {
    "duration": 73,
    "start_time": "2021-12-25T15:17:33.864Z"
   },
   {
    "duration": 68,
    "start_time": "2021-12-25T15:17:33.871Z"
   },
   {
    "duration": 63,
    "start_time": "2021-12-25T15:17:33.877Z"
   },
   {
    "duration": 58,
    "start_time": "2021-12-25T15:17:33.884Z"
   },
   {
    "duration": 41,
    "start_time": "2021-12-25T15:17:33.902Z"
   },
   {
    "duration": 26,
    "start_time": "2021-12-25T15:17:33.918Z"
   },
   {
    "duration": 11,
    "start_time": "2021-12-25T15:17:33.934Z"
   },
   {
    "duration": -1,
    "start_time": "2021-12-25T15:17:33.948Z"
   },
   {
    "duration": -7,
    "start_time": "2021-12-25T15:17:33.955Z"
   },
   {
    "duration": -18,
    "start_time": "2021-12-25T15:17:33.968Z"
   },
   {
    "duration": 945,
    "start_time": "2021-12-25T15:18:23.954Z"
   },
   {
    "duration": 21,
    "start_time": "2021-12-25T15:18:24.903Z"
   },
   {
    "duration": 6,
    "start_time": "2021-12-25T15:18:24.928Z"
   },
   {
    "duration": 49,
    "start_time": "2021-12-25T15:18:24.961Z"
   },
   {
    "duration": 13,
    "start_time": "2021-12-25T15:18:25.012Z"
   },
   {
    "duration": 51,
    "start_time": "2021-12-25T15:18:25.028Z"
   },
   {
    "duration": 13,
    "start_time": "2021-12-25T15:18:25.082Z"
   },
   {
    "duration": 21,
    "start_time": "2021-12-25T15:18:25.098Z"
   },
   {
    "duration": 47,
    "start_time": "2021-12-25T15:18:25.125Z"
   },
   {
    "duration": 6,
    "start_time": "2021-12-25T15:18:25.176Z"
   },
   {
    "duration": 139,
    "start_time": "2021-12-25T15:18:25.184Z"
   },
   {
    "duration": 5,
    "start_time": "2021-12-25T15:18:25.326Z"
   },
   {
    "duration": 26,
    "start_time": "2021-12-25T15:18:25.333Z"
   },
   {
    "duration": 11,
    "start_time": "2021-12-25T15:18:25.361Z"
   },
   {
    "duration": 5,
    "start_time": "2021-12-25T15:18:25.374Z"
   },
   {
    "duration": 5,
    "start_time": "2021-12-25T15:18:25.381Z"
   },
   {
    "duration": 6,
    "start_time": "2021-12-25T15:18:25.388Z"
   },
   {
    "duration": 7,
    "start_time": "2021-12-25T15:18:25.397Z"
   },
   {
    "duration": 55,
    "start_time": "2021-12-25T15:18:25.406Z"
   },
   {
    "duration": 6,
    "start_time": "2021-12-25T15:18:25.463Z"
   },
   {
    "duration": 8,
    "start_time": "2021-12-25T15:18:25.471Z"
   },
   {
    "duration": 8,
    "start_time": "2021-12-25T15:18:25.481Z"
   },
   {
    "duration": 12,
    "start_time": "2021-12-25T15:18:25.491Z"
   },
   {
    "duration": 8,
    "start_time": "2021-12-25T15:18:25.505Z"
   },
   {
    "duration": 54,
    "start_time": "2021-12-25T15:18:25.515Z"
   },
   {
    "duration": 8,
    "start_time": "2021-12-25T15:18:25.571Z"
   },
   {
    "duration": 12,
    "start_time": "2021-12-25T15:18:25.586Z"
   },
   {
    "duration": 4,
    "start_time": "2021-12-25T15:18:25.602Z"
   },
   {
    "duration": 1295,
    "start_time": "2021-12-25T15:18:25.609Z"
   },
   {
    "duration": 20,
    "start_time": "2021-12-25T15:18:26.907Z"
   },
   {
    "duration": 40,
    "start_time": "2021-12-25T15:18:26.930Z"
   },
   {
    "duration": 48,
    "start_time": "2021-12-25T15:18:26.973Z"
   },
   {
    "duration": 77,
    "start_time": "2021-12-25T15:18:27.023Z"
   },
   {
    "duration": 9,
    "start_time": "2021-12-25T15:18:27.103Z"
   },
   {
    "duration": 771,
    "start_time": "2021-12-25T15:18:27.115Z"
   },
   {
    "duration": 732,
    "start_time": "2022-01-06T18:11:31.170Z"
   },
   {
    "duration": 16,
    "start_time": "2022-01-06T18:11:31.905Z"
   },
   {
    "duration": 4,
    "start_time": "2022-01-06T18:11:31.923Z"
   },
   {
    "duration": 36,
    "start_time": "2022-01-06T18:11:31.929Z"
   },
   {
    "duration": 35,
    "start_time": "2022-01-06T18:11:31.967Z"
   },
   {
    "duration": 19,
    "start_time": "2022-01-06T18:11:32.005Z"
   },
   {
    "duration": 11,
    "start_time": "2022-01-06T18:11:32.026Z"
   },
   {
    "duration": 13,
    "start_time": "2022-01-06T18:11:32.040Z"
   },
   {
    "duration": 46,
    "start_time": "2022-01-06T18:11:32.055Z"
   },
   {
    "duration": 5,
    "start_time": "2022-01-06T18:11:32.104Z"
   },
   {
    "duration": 102,
    "start_time": "2022-01-06T18:11:32.111Z"
   },
   {
    "duration": 5,
    "start_time": "2022-01-06T18:11:32.216Z"
   },
   {
    "duration": 9,
    "start_time": "2022-01-06T18:11:32.223Z"
   },
   {
    "duration": 7,
    "start_time": "2022-01-06T18:11:32.234Z"
   },
   {
    "duration": 4,
    "start_time": "2022-01-06T18:11:32.243Z"
   },
   {
    "duration": 6,
    "start_time": "2022-01-06T18:11:32.249Z"
   },
   {
    "duration": 38,
    "start_time": "2022-01-06T18:11:32.256Z"
   },
   {
    "duration": 5,
    "start_time": "2022-01-06T18:11:32.297Z"
   },
   {
    "duration": 7,
    "start_time": "2022-01-06T18:11:32.305Z"
   },
   {
    "duration": 5,
    "start_time": "2022-01-06T18:11:32.314Z"
   },
   {
    "duration": 5,
    "start_time": "2022-01-06T18:11:32.321Z"
   },
   {
    "duration": 6,
    "start_time": "2022-01-06T18:11:32.328Z"
   },
   {
    "duration": 57,
    "start_time": "2022-01-06T18:11:32.339Z"
   },
   {
    "duration": 10,
    "start_time": "2022-01-06T18:11:32.399Z"
   },
   {
    "duration": 10,
    "start_time": "2022-01-06T18:11:32.411Z"
   },
   {
    "duration": 6,
    "start_time": "2022-01-06T18:11:32.423Z"
   },
   {
    "duration": 11,
    "start_time": "2022-01-06T18:11:32.431Z"
   },
   {
    "duration": 4,
    "start_time": "2022-01-06T18:11:32.444Z"
   },
   {
    "duration": 803,
    "start_time": "2022-01-06T18:11:32.451Z"
   },
   {
    "duration": 14,
    "start_time": "2022-01-06T18:11:33.256Z"
   },
   {
    "duration": 25,
    "start_time": "2022-01-06T18:11:33.272Z"
   },
   {
    "duration": 36,
    "start_time": "2022-01-06T18:11:33.299Z"
   },
   {
    "duration": 55,
    "start_time": "2022-01-06T18:11:33.337Z"
   },
   {
    "duration": 9,
    "start_time": "2022-01-06T18:11:33.395Z"
   },
   {
    "duration": 461,
    "start_time": "2022-01-06T18:11:33.407Z"
   },
   {
    "duration": 6,
    "start_time": "2022-01-06T18:11:33.869Z"
   },
   {
    "duration": 17,
    "start_time": "2022-01-06T18:11:33.877Z"
   },
   {
    "duration": 17,
    "start_time": "2022-01-06T18:11:33.897Z"
   },
   {
    "duration": 14,
    "start_time": "2022-01-06T18:11:33.917Z"
   },
   {
    "duration": 16,
    "start_time": "2022-01-06T18:11:33.933Z"
   },
   {
    "duration": 42,
    "start_time": "2022-01-06T18:11:33.951Z"
   },
   {
    "duration": 30,
    "start_time": "2022-01-06T18:11:33.996Z"
   },
   {
    "duration": 7,
    "start_time": "2022-01-06T18:11:34.029Z"
   },
   {
    "duration": 21,
    "start_time": "2022-01-06T18:11:34.038Z"
   },
   {
    "duration": 9,
    "start_time": "2022-01-06T18:11:34.094Z"
   },
   {
    "duration": 16,
    "start_time": "2022-01-06T18:11:34.105Z"
   },
   {
    "duration": 7,
    "start_time": "2022-01-06T18:11:34.123Z"
   },
   {
    "duration": 22,
    "start_time": "2022-01-06T18:11:34.132Z"
   },
   {
    "duration": 62,
    "start_time": "2022-01-06T18:11:34.156Z"
   },
   {
    "duration": 13,
    "start_time": "2022-01-06T18:11:34.221Z"
   },
   {
    "duration": 10,
    "start_time": "2022-01-06T18:11:34.236Z"
   },
   {
    "duration": 6,
    "start_time": "2022-01-06T18:11:34.248Z"
   },
   {
    "duration": 5,
    "start_time": "2022-01-06T18:11:34.256Z"
   },
   {
    "duration": 3939,
    "start_time": "2022-01-06T18:11:34.296Z"
   },
   {
    "duration": 12,
    "start_time": "2022-01-06T18:11:38.237Z"
   },
   {
    "duration": 13,
    "start_time": "2022-01-06T18:11:38.251Z"
   },
   {
    "duration": 30,
    "start_time": "2022-01-06T18:11:38.266Z"
   },
   {
    "duration": 10,
    "start_time": "2022-01-06T18:11:38.301Z"
   },
   {
    "duration": 7,
    "start_time": "2022-01-06T18:11:38.313Z"
   },
   {
    "duration": 22,
    "start_time": "2022-01-06T18:11:38.322Z"
   },
   {
    "duration": 67,
    "start_time": "2022-01-06T18:11:38.346Z"
   },
   {
    "duration": 10,
    "start_time": "2022-01-06T18:11:38.416Z"
   },
   {
    "duration": 12,
    "start_time": "2022-01-06T18:11:38.428Z"
   },
   {
    "duration": 11,
    "start_time": "2022-01-06T18:11:38.442Z"
   },
   {
    "duration": 42,
    "start_time": "2022-01-06T18:11:38.455Z"
   },
   {
    "duration": 4,
    "start_time": "2022-01-06T18:11:38.500Z"
   },
   {
    "duration": 13,
    "start_time": "2022-01-06T18:11:38.508Z"
   },
   {
    "duration": 9,
    "start_time": "2022-01-06T18:11:38.528Z"
   },
   {
    "duration": 659,
    "start_time": "2022-01-06T18:14:09.575Z"
   },
   {
    "duration": 79,
    "start_time": "2022-01-06T18:14:10.236Z"
   },
   {
    "duration": 12,
    "start_time": "2022-01-06T18:14:10.317Z"
   },
   {
    "duration": 4,
    "start_time": "2022-01-06T18:14:10.331Z"
   },
   {
    "duration": 61,
    "start_time": "2022-01-06T18:14:10.337Z"
   },
   {
    "duration": 16,
    "start_time": "2022-01-06T18:14:10.400Z"
   },
   {
    "duration": 19,
    "start_time": "2022-01-06T18:14:10.418Z"
   },
   {
    "duration": 8,
    "start_time": "2022-01-06T18:14:10.440Z"
   },
   {
    "duration": 12,
    "start_time": "2022-01-06T18:14:10.450Z"
   },
   {
    "duration": 13,
    "start_time": "2022-01-06T18:14:10.492Z"
   },
   {
    "duration": 7,
    "start_time": "2022-01-06T18:14:10.507Z"
   },
   {
    "duration": 94,
    "start_time": "2022-01-06T18:14:10.517Z"
   },
   {
    "duration": 7,
    "start_time": "2022-01-06T18:14:10.613Z"
   },
   {
    "duration": 19,
    "start_time": "2022-01-06T18:14:10.622Z"
   },
   {
    "duration": 9,
    "start_time": "2022-01-06T18:14:10.643Z"
   },
   {
    "duration": 4,
    "start_time": "2022-01-06T18:14:10.654Z"
   },
   {
    "duration": 5,
    "start_time": "2022-01-06T18:14:10.660Z"
   },
   {
    "duration": 25,
    "start_time": "2022-01-06T18:14:10.667Z"
   },
   {
    "duration": 4,
    "start_time": "2022-01-06T18:14:10.693Z"
   },
   {
    "duration": 7,
    "start_time": "2022-01-06T18:14:10.699Z"
   },
   {
    "duration": 5,
    "start_time": "2022-01-06T18:14:10.708Z"
   },
   {
    "duration": 7,
    "start_time": "2022-01-06T18:14:10.715Z"
   },
   {
    "duration": 6,
    "start_time": "2022-01-06T18:14:10.728Z"
   },
   {
    "duration": 55,
    "start_time": "2022-01-06T18:14:10.737Z"
   },
   {
    "duration": 10,
    "start_time": "2022-01-06T18:14:10.793Z"
   },
   {
    "duration": 13,
    "start_time": "2022-01-06T18:14:10.805Z"
   },
   {
    "duration": 8,
    "start_time": "2022-01-06T18:14:10.820Z"
   },
   {
    "duration": 12,
    "start_time": "2022-01-06T18:14:10.830Z"
   },
   {
    "duration": 5,
    "start_time": "2022-01-06T18:14:10.843Z"
   },
   {
    "duration": 855,
    "start_time": "2022-01-06T18:14:10.849Z"
   },
   {
    "duration": 17,
    "start_time": "2022-01-06T18:14:11.706Z"
   },
   {
    "duration": 11,
    "start_time": "2022-01-06T18:14:11.725Z"
   },
   {
    "duration": 62,
    "start_time": "2022-01-06T18:14:11.738Z"
   },
   {
    "duration": 39,
    "start_time": "2022-01-06T18:14:11.802Z"
   },
   {
    "duration": 5,
    "start_time": "2022-01-06T18:14:11.843Z"
   },
   {
    "duration": 513,
    "start_time": "2022-01-06T18:14:11.849Z"
   },
   {
    "duration": 6,
    "start_time": "2022-01-06T18:14:12.364Z"
   },
   {
    "duration": 5,
    "start_time": "2022-01-06T18:14:12.372Z"
   },
   {
    "duration": 17,
    "start_time": "2022-01-06T18:14:12.391Z"
   },
   {
    "duration": 21,
    "start_time": "2022-01-06T18:14:12.411Z"
   },
   {
    "duration": 22,
    "start_time": "2022-01-06T18:14:12.435Z"
   },
   {
    "duration": 35,
    "start_time": "2022-01-06T18:14:12.460Z"
   },
   {
    "duration": 31,
    "start_time": "2022-01-06T18:14:12.498Z"
   },
   {
    "duration": 11,
    "start_time": "2022-01-06T18:14:12.531Z"
   },
   {
    "duration": 22,
    "start_time": "2022-01-06T18:14:12.544Z"
   },
   {
    "duration": 35,
    "start_time": "2022-01-06T18:14:12.568Z"
   },
   {
    "duration": 17,
    "start_time": "2022-01-06T18:14:12.607Z"
   },
   {
    "duration": 11,
    "start_time": "2022-01-06T18:14:12.626Z"
   },
   {
    "duration": 55,
    "start_time": "2022-01-06T18:14:12.639Z"
   },
   {
    "duration": 32,
    "start_time": "2022-01-06T18:14:12.699Z"
   },
   {
    "duration": 12,
    "start_time": "2022-01-06T18:14:12.734Z"
   },
   {
    "duration": 8,
    "start_time": "2022-01-06T18:14:12.748Z"
   },
   {
    "duration": 35,
    "start_time": "2022-01-06T18:14:12.758Z"
   },
   {
    "duration": 4,
    "start_time": "2022-01-06T18:14:12.796Z"
   },
   {
    "duration": 4047,
    "start_time": "2022-01-06T18:14:12.802Z"
   },
   {
    "duration": 14,
    "start_time": "2022-01-06T18:14:16.851Z"
   },
   {
    "duration": 32,
    "start_time": "2022-01-06T18:14:16.867Z"
   },
   {
    "duration": 15,
    "start_time": "2022-01-06T18:14:16.901Z"
   },
   {
    "duration": 11,
    "start_time": "2022-01-06T18:14:16.918Z"
   },
   {
    "duration": 6,
    "start_time": "2022-01-06T18:14:16.931Z"
   },
   {
    "duration": 25,
    "start_time": "2022-01-06T18:14:16.939Z"
   },
   {
    "duration": 64,
    "start_time": "2022-01-06T18:14:16.966Z"
   },
   {
    "duration": 8,
    "start_time": "2022-01-06T18:14:17.032Z"
   },
   {
    "duration": 9,
    "start_time": "2022-01-06T18:14:17.042Z"
   },
   {
    "duration": 9,
    "start_time": "2022-01-06T18:14:17.052Z"
   },
   {
    "duration": 39,
    "start_time": "2022-01-06T18:14:17.062Z"
   },
   {
    "duration": 13,
    "start_time": "2022-01-06T18:14:17.104Z"
   },
   {
    "duration": 11,
    "start_time": "2022-01-06T18:14:17.122Z"
   }
  ],
  "kernelspec": {
   "display_name": "Python 3",
   "language": "python",
   "name": "python3"
  },
  "language_info": {
   "codemirror_mode": {
    "name": "ipython",
    "version": 3
   },
   "file_extension": ".py",
   "mimetype": "text/x-python",
   "name": "python",
   "nbconvert_exporter": "python",
   "pygments_lexer": "ipython3",
   "version": "3.8.5"
  },
  "toc": {
   "base_numbering": 1,
   "nav_menu": {},
   "number_sections": true,
   "sideBar": true,
   "skip_h1_title": true,
   "title_cell": "Table of Contents",
   "title_sidebar": "Contents",
   "toc_cell": false,
   "toc_position": {},
   "toc_section_display": true,
   "toc_window_display": false
  }
 },
 "nbformat": 4,
 "nbformat_minor": 2
}
