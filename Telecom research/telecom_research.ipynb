{
 "cells": [
  {
   "cell_type": "markdown",
   "metadata": {},
   "source": [
    "## Изучение данных"
   ]
  },
  {
   "cell_type": "code",
   "execution_count": 1,
   "metadata": {},
   "outputs": [],
   "source": [
    "import warnings\n",
    "warnings.filterwarnings('ignore')\n",
    "import pandas as pd\n",
    "import matplotlib.pyplot as plt\n",
    "import numpy as np\n",
    "from scipy import stats as st"
   ]
  },
  {
   "cell_type": "code",
   "execution_count": 2,
   "metadata": {},
   "outputs": [],
   "source": [
    "df_calls = pd.read_csv('/datasets/calls.csv')\n",
    "df_internet = pd.read_csv('/datasets/internet.csv', index_col=0)\n",
    "df_messages = pd.read_csv('/datasets/messages.csv')\n",
    "df_tariffs = pd.read_csv('/datasets/tariffs.csv')\n",
    "df_users = pd.read_csv('/datasets/users.csv')"
   ]
  },
  {
   "cell_type": "code",
   "execution_count": 3,
   "metadata": {},
   "outputs": [],
   "source": [
    "def all_info(data):\n",
    "    print(data.head(), '\\n')\n",
    "    print(data.columns, '\\n')\n",
    "    print(data.describe(), '\\n')\n",
    "    print(data.info())"
   ]
  },
  {
   "cell_type": "code",
   "execution_count": 4,
   "metadata": {},
   "outputs": [
    {
     "name": "stdout",
     "output_type": "stream",
     "text": [
      "       id   call_date  duration  user_id\n",
      "0  1000_0  2018-07-25      0.00     1000\n",
      "1  1000_1  2018-08-17      0.00     1000\n",
      "2  1000_2  2018-06-11      2.85     1000\n",
      "3  1000_3  2018-09-21     13.80     1000\n",
      "4  1000_4  2018-12-15      5.18     1000 \n",
      "\n",
      "Index(['id', 'call_date', 'duration', 'user_id'], dtype='object') \n",
      "\n",
      "            duration        user_id\n",
      "count  202607.000000  202607.000000\n",
      "mean        6.755887    1253.940619\n",
      "std         5.843365     144.722751\n",
      "min         0.000000    1000.000000\n",
      "25%         1.300000    1126.000000\n",
      "50%         6.000000    1260.000000\n",
      "75%        10.700000    1379.000000\n",
      "max        38.000000    1499.000000 \n",
      "\n",
      "<class 'pandas.core.frame.DataFrame'>\n",
      "RangeIndex: 202607 entries, 0 to 202606\n",
      "Data columns (total 4 columns):\n",
      "id           202607 non-null object\n",
      "call_date    202607 non-null object\n",
      "duration     202607 non-null float64\n",
      "user_id      202607 non-null int64\n",
      "dtypes: float64(1), int64(1), object(2)\n",
      "memory usage: 6.2+ MB\n",
      "None\n"
     ]
    }
   ],
   "source": [
    "all_info(df_calls)"
   ]
  },
  {
   "cell_type": "code",
   "execution_count": 5,
   "metadata": {},
   "outputs": [
    {
     "name": "stdout",
     "output_type": "stream",
     "text": [
      "       id  mb_used session_date  user_id\n",
      "0  1000_0   112.95   2018-11-25     1000\n",
      "1  1000_1  1052.81   2018-09-07     1000\n",
      "2  1000_2  1197.26   2018-06-25     1000\n",
      "3  1000_3   550.27   2018-08-22     1000\n",
      "4  1000_4   302.56   2018-09-24     1000 \n",
      "\n",
      "Index(['id', 'mb_used', 'session_date', 'user_id'], dtype='object') \n",
      "\n",
      "             mb_used        user_id\n",
      "count  149396.000000  149396.000000\n",
      "mean      370.192426    1252.099842\n",
      "std       278.300951     144.050823\n",
      "min         0.000000    1000.000000\n",
      "25%       138.187500    1130.000000\n",
      "50%       348.015000    1251.000000\n",
      "75%       559.552500    1380.000000\n",
      "max      1724.830000    1499.000000 \n",
      "\n",
      "<class 'pandas.core.frame.DataFrame'>\n",
      "Int64Index: 149396 entries, 0 to 149395\n",
      "Data columns (total 4 columns):\n",
      "id              149396 non-null object\n",
      "mb_used         149396 non-null float64\n",
      "session_date    149396 non-null object\n",
      "user_id         149396 non-null int64\n",
      "dtypes: float64(1), int64(1), object(2)\n",
      "memory usage: 5.7+ MB\n",
      "None\n"
     ]
    }
   ],
   "source": [
    "all_info(df_internet)"
   ]
  },
  {
   "cell_type": "code",
   "execution_count": 6,
   "metadata": {},
   "outputs": [
    {
     "name": "stdout",
     "output_type": "stream",
     "text": [
      "       id message_date  user_id\n",
      "0  1000_0   2018-06-27     1000\n",
      "1  1000_1   2018-10-08     1000\n",
      "2  1000_2   2018-08-04     1000\n",
      "3  1000_3   2018-06-16     1000\n",
      "4  1000_4   2018-12-05     1000 \n",
      "\n",
      "Index(['id', 'message_date', 'user_id'], dtype='object') \n",
      "\n",
      "             user_id\n",
      "count  123036.000000\n",
      "mean     1256.989410\n",
      "std       143.523967\n",
      "min      1000.000000\n",
      "25%      1134.000000\n",
      "50%      1271.000000\n",
      "75%      1381.000000\n",
      "max      1499.000000 \n",
      "\n",
      "<class 'pandas.core.frame.DataFrame'>\n",
      "RangeIndex: 123036 entries, 0 to 123035\n",
      "Data columns (total 3 columns):\n",
      "id              123036 non-null object\n",
      "message_date    123036 non-null object\n",
      "user_id         123036 non-null int64\n",
      "dtypes: int64(1), object(2)\n",
      "memory usage: 2.8+ MB\n",
      "None\n"
     ]
    }
   ],
   "source": [
    "all_info(df_messages)"
   ]
  },
  {
   "cell_type": "code",
   "execution_count": 7,
   "metadata": {},
   "outputs": [
    {
     "name": "stdout",
     "output_type": "stream",
     "text": [
      "   messages_included  mb_per_month_included  minutes_included  \\\n",
      "0                 50                  15360               500   \n",
      "1               1000                  30720              3000   \n",
      "\n",
      "   rub_monthly_fee  rub_per_gb  rub_per_message  rub_per_minute tariff_name  \n",
      "0              550         200                3               3       smart  \n",
      "1             1950         150                1               1       ultra   \n",
      "\n",
      "Index(['messages_included', 'mb_per_month_included', 'minutes_included',\n",
      "       'rub_monthly_fee', 'rub_per_gb', 'rub_per_message', 'rub_per_minute',\n",
      "       'tariff_name'],\n",
      "      dtype='object') \n",
      "\n",
      "       messages_included  mb_per_month_included  minutes_included  \\\n",
      "count           2.000000               2.000000          2.000000   \n",
      "mean          525.000000           23040.000000       1750.000000   \n",
      "std           671.751442           10861.160159       1767.766953   \n",
      "min            50.000000           15360.000000        500.000000   \n",
      "25%           287.500000           19200.000000       1125.000000   \n",
      "50%           525.000000           23040.000000       1750.000000   \n",
      "75%           762.500000           26880.000000       2375.000000   \n",
      "max          1000.000000           30720.000000       3000.000000   \n",
      "\n",
      "       rub_monthly_fee  rub_per_gb  rub_per_message  rub_per_minute  \n",
      "count         2.000000    2.000000         2.000000        2.000000  \n",
      "mean       1250.000000  175.000000         2.000000        2.000000  \n",
      "std         989.949494   35.355339         1.414214        1.414214  \n",
      "min         550.000000  150.000000         1.000000        1.000000  \n",
      "25%         900.000000  162.500000         1.500000        1.500000  \n",
      "50%        1250.000000  175.000000         2.000000        2.000000  \n",
      "75%        1600.000000  187.500000         2.500000        2.500000  \n",
      "max        1950.000000  200.000000         3.000000        3.000000   \n",
      "\n",
      "<class 'pandas.core.frame.DataFrame'>\n",
      "RangeIndex: 2 entries, 0 to 1\n",
      "Data columns (total 8 columns):\n",
      "messages_included        2 non-null int64\n",
      "mb_per_month_included    2 non-null int64\n",
      "minutes_included         2 non-null int64\n",
      "rub_monthly_fee          2 non-null int64\n",
      "rub_per_gb               2 non-null int64\n",
      "rub_per_message          2 non-null int64\n",
      "rub_per_minute           2 non-null int64\n",
      "tariff_name              2 non-null object\n",
      "dtypes: int64(7), object(1)\n",
      "memory usage: 256.0+ bytes\n",
      "None\n"
     ]
    }
   ],
   "source": [
    "all_info(df_tariffs)"
   ]
  },
  {
   "cell_type": "code",
   "execution_count": 8,
   "metadata": {},
   "outputs": [
    {
     "name": "stdout",
     "output_type": "stream",
     "text": [
      "   user_id  age churn_date         city first_name  last_name    reg_date  \\\n",
      "0     1000   52        NaN    Краснодар     Рафаил  Верещагин  2018-05-25   \n",
      "1     1001   41        NaN       Москва       Иван       Ежов  2018-11-01   \n",
      "2     1002   59        NaN  Стерлитамак    Евгений  Абрамович  2018-06-17   \n",
      "3     1003   23        NaN       Москва      Белла   Белякова  2018-08-17   \n",
      "4     1004   68        NaN  Новокузнецк    Татьяна   Авдеенко  2018-05-14   \n",
      "\n",
      "  tariff  \n",
      "0  ultra  \n",
      "1  smart  \n",
      "2  smart  \n",
      "3  ultra  \n",
      "4  ultra   \n",
      "\n",
      "Index(['user_id', 'age', 'churn_date', 'city', 'first_name', 'last_name',\n",
      "       'reg_date', 'tariff'],\n",
      "      dtype='object') \n",
      "\n",
      "           user_id        age\n",
      "count   500.000000  500.00000\n",
      "mean   1249.500000   46.58800\n",
      "std     144.481833   16.66763\n",
      "min    1000.000000   18.00000\n",
      "25%    1124.750000   32.00000\n",
      "50%    1249.500000   46.00000\n",
      "75%    1374.250000   62.00000\n",
      "max    1499.000000   75.00000 \n",
      "\n",
      "<class 'pandas.core.frame.DataFrame'>\n",
      "RangeIndex: 500 entries, 0 to 499\n",
      "Data columns (total 8 columns):\n",
      "user_id       500 non-null int64\n",
      "age           500 non-null int64\n",
      "churn_date    38 non-null object\n",
      "city          500 non-null object\n",
      "first_name    500 non-null object\n",
      "last_name     500 non-null object\n",
      "reg_date      500 non-null object\n",
      "tariff        500 non-null object\n",
      "dtypes: int64(2), object(6)\n",
      "memory usage: 31.4+ KB\n",
      "None\n"
     ]
    }
   ],
   "source": [
    "all_info(df_users)"
   ]
  },
  {
   "cell_type": "markdown",
   "metadata": {},
   "source": [
    "Мы имеем 5 датасетов. При загрузке было обнаружено, что в df_internet есть лишний столбец с индексами. Пропусков нет нигде, кроме датафрейма df_users. Колонки везде названы корректно (в нижнем регистре, без пробелов, кириллицы и разнообразных символов). Тип данных в столбцах с датами не корректный, но полные даты нам и не нужны, раз мы смотрим только лишь один 2018 год и при этом будем смотреть на срезы по месяцам."
   ]
  },
  {
   "cell_type": "markdown",
   "metadata": {},
   "source": [
    "## Предобработка данных"
   ]
  },
  {
   "cell_type": "markdown",
   "metadata": {},
   "source": [
    "Заменю значение тех, кто продолжает пользоваться тарифом на нулевой месяц"
   ]
  },
  {
   "cell_type": "code",
   "execution_count": 9,
   "metadata": {},
   "outputs": [],
   "source": [
    "df_users['churn_date'] = df_users['churn_date'].fillna('2036-00-31')"
   ]
  },
  {
   "cell_type": "markdown",
   "metadata": {},
   "source": [
    "Возьму в каждом датафрейме только лишь месяц и после этого удалю ненужные более столбцы"
   ]
  },
  {
   "cell_type": "code",
   "execution_count": 10,
   "metadata": {},
   "outputs": [],
   "source": [
    "df_calls['month'] = df_calls['call_date'].str.split('-').str[-2].astype('int')\n",
    "df_internet['month'] = df_internet['session_date'].str.split('-').str[-2].astype('int')\n",
    "df_messages['month'] = df_messages['message_date'].str.split('-').str[-2].astype('int')\n",
    "df_users['reg_month'] = df_users['reg_date'].str.split('-').str[-2].astype('int')\n",
    "df_users['churn_month'] = df_users['churn_date'].str.split('-').str[-2].astype('int')"
   ]
  },
  {
   "cell_type": "markdown",
   "metadata": {},
   "source": [
    "Получил число из даты таким образом, потому что подумал, нам нужно лишь одно число, так что просто вырезал его из строки и обернул в int. Преобразование в datetime здесь считаю излишним."
   ]
  },
  {
   "cell_type": "code",
   "execution_count": 13,
   "metadata": {},
   "outputs": [],
   "source": [
    "df_call = df_calls.drop(columns=['call_date'])\n",
    "df_internet = df_internet.drop(columns=['session_date'])\n",
    "df_messages = df_messages.drop(columns=['message_date'])\n",
    "df_users = df_users.drop(columns=['reg_date', 'churn_date'])"
   ]
  },
  {
   "cell_type": "code",
   "execution_count": 14,
   "metadata": {},
   "outputs": [],
   "source": [
    "df_calls['duration'] = np.ceil(df_calls['duration']).astype('int')"
   ]
  },
  {
   "cell_type": "markdown",
   "metadata": {},
   "source": [
    "Переведу в датафрейме df_tariffs включенные мегабайты в гигабайты"
   ]
  },
  {
   "cell_type": "code",
   "execution_count": 15,
   "metadata": {},
   "outputs": [],
   "source": [
    "df_tariffs['mb_per_month_included'] = (df_tariffs['mb_per_month_included'] / 1024).astype('int')\n",
    "df_tariffs = df_tariffs.rename({'mb_per_month_included': 'gb_per_month_included',\n",
    "                                'tariff_name': 'tariff'}, axis='columns')"
   ]
  },
  {
   "cell_type": "markdown",
   "metadata": {},
   "source": [
    "Сгруппирую датафреймы по месяцам"
   ]
  },
  {
   "cell_type": "code",
   "execution_count": 16,
   "metadata": {},
   "outputs": [],
   "source": [
    "df_internet['gb_used'] = df_internet['mb_used'] / 1024\n",
    "df_internet.drop(columns=['mb_used'], inplace=True)"
   ]
  },
  {
   "cell_type": "code",
   "execution_count": 17,
   "metadata": {},
   "outputs": [],
   "source": [
    "df_internet = np.ceil(\n",
    "                        df_internet.pivot_table(index=['user_id', 'month'],\n",
    "                                                values='gb_used',\n",
    "                                                aggfunc='sum')\n",
    "                     ).astype('int').reset_index()"
   ]
  },
  {
   "cell_type": "code",
   "execution_count": 18,
   "metadata": {},
   "outputs": [],
   "source": [
    "df_calls = df_calls.pivot_table(index=['user_id', 'month'],\n",
    "                                values='duration',\n",
    "                                aggfunc=['sum', 'count']).reset_index()"
   ]
  },
  {
   "cell_type": "code",
   "execution_count": 19,
   "metadata": {},
   "outputs": [],
   "source": [
    "df_calls.columns = [' '.join(col).strip() for col in df_calls.columns.values]"
   ]
  },
  {
   "cell_type": "code",
   "execution_count": 20,
   "metadata": {},
   "outputs": [],
   "source": [
    "df_calls = df_calls.rename({'sum duration': 'sum_duration',\n",
    "                            'count duration': 'call_count'}, axis='columns')"
   ]
  },
  {
   "cell_type": "code",
   "execution_count": 21,
   "metadata": {},
   "outputs": [],
   "source": [
    "df_messages = df_messages.pivot_table(index=['user_id', 'month'],\n",
    "                                      values='id',\n",
    "                                      aggfunc='count').reset_index().rename({'id': 'message_count'}, axis='columns')"
   ]
  },
  {
   "cell_type": "markdown",
   "metadata": {},
   "source": [
    "Наконец-то уже соединим все датафреймы в единый. Сначала соединим df_calls, df_internet и df_messages через outer, чтобы не потерять значения (ведь клиент может в каком-то месяце не пользоваться интернетом, звонками или смс), а потом через left соединим df_users и сформировавшийся датафрейм df_activity, т.к. в df_users нам известны данные клиентов (город, возраст, тариф), а в df_activity могут быть клиенты, не входящие в df_users."
   ]
  },
  {
   "cell_type": "code",
   "execution_count": 22,
   "metadata": {},
   "outputs": [
    {
     "data": {
      "text/plain": [
       "500"
      ]
     },
     "execution_count": 22,
     "metadata": {},
     "output_type": "execute_result"
    }
   ],
   "source": [
    "df_users['user_id'].nunique()"
   ]
  },
  {
   "cell_type": "code",
   "execution_count": 23,
   "metadata": {},
   "outputs": [
    {
     "name": "stdout",
     "output_type": "stream",
     "text": [
      "<class 'pandas.core.frame.DataFrame'>\n",
      "Int64Index: 3216 entries, 0 to 3215\n",
      "Data columns (total 20 columns):\n",
      "user_id                  3216 non-null int64\n",
      "age                      3216 non-null int64\n",
      "city                     3216 non-null object\n",
      "first_name               3216 non-null object\n",
      "last_name                3216 non-null object\n",
      "tariff                   3216 non-null object\n",
      "reg_month                3216 non-null int64\n",
      "churn_month              3216 non-null int64\n",
      "month                    3214 non-null float64\n",
      "gb_used                  3203 non-null float64\n",
      "sum_duration             3174 non-null float64\n",
      "call_count               3174 non-null float64\n",
      "message_count            2717 non-null float64\n",
      "messages_included        3216 non-null int64\n",
      "gb_per_month_included    3216 non-null int64\n",
      "minutes_included         3216 non-null int64\n",
      "rub_monthly_fee          3216 non-null int64\n",
      "rub_per_gb               3216 non-null int64\n",
      "rub_per_message          3216 non-null int64\n",
      "rub_per_minute           3216 non-null int64\n",
      "dtypes: float64(5), int64(11), object(4)\n",
      "memory usage: 527.6+ KB\n"
     ]
    }
   ],
   "source": [
    "df_activity = df_internet.merge(df_calls, on=['user_id', 'month'], how='outer')\n",
    "df_activity = df_activity.merge(df_messages, on=['user_id', 'month'], how='outer')\n",
    "df = df_users.merge(df_activity, on='user_id', how='left')\n",
    "df = df.merge(df_tariffs, on=['tariff'], how='left')\n",
    "df.info()"
   ]
  },
  {
   "cell_type": "code",
   "execution_count": 24,
   "metadata": {},
   "outputs": [
    {
     "data": {
      "text/plain": [
       "500"
      ]
     },
     "execution_count": 24,
     "metadata": {},
     "output_type": "execute_result"
    }
   ],
   "source": [
    "df.user_id.nunique()"
   ]
  },
  {
   "cell_type": "code",
   "execution_count": 25,
   "metadata": {},
   "outputs": [
    {
     "data": {
      "text/plain": [
       "user_id                  0.000000\n",
       "age                      0.000000\n",
       "city                     0.000000\n",
       "first_name               0.000000\n",
       "last_name                0.000000\n",
       "tariff                   0.000000\n",
       "reg_month                0.000000\n",
       "churn_month              0.000000\n",
       "month                    0.000622\n",
       "gb_used                  0.004042\n",
       "sum_duration             0.013060\n",
       "call_count               0.013060\n",
       "message_count            0.155162\n",
       "messages_included        0.000000\n",
       "gb_per_month_included    0.000000\n",
       "minutes_included         0.000000\n",
       "rub_monthly_fee          0.000000\n",
       "rub_per_gb               0.000000\n",
       "rub_per_message          0.000000\n",
       "rub_per_minute           0.000000\n",
       "dtype: float64"
      ]
     },
     "execution_count": 25,
     "metadata": {},
     "output_type": "execute_result"
    }
   ],
   "source": [
    "df.isna().mean()"
   ]
  },
  {
   "cell_type": "code",
   "execution_count": 26,
   "metadata": {},
   "outputs": [
    {
     "data": {
      "text/html": [
       "<div>\n",
       "<style scoped>\n",
       "    .dataframe tbody tr th:only-of-type {\n",
       "        vertical-align: middle;\n",
       "    }\n",
       "\n",
       "    .dataframe tbody tr th {\n",
       "        vertical-align: top;\n",
       "    }\n",
       "\n",
       "    .dataframe thead th {\n",
       "        text-align: right;\n",
       "    }\n",
       "</style>\n",
       "<table border=\"1\" class=\"dataframe\">\n",
       "  <thead>\n",
       "    <tr style=\"text-align: right;\">\n",
       "      <th></th>\n",
       "      <th>user_id</th>\n",
       "      <th>age</th>\n",
       "      <th>city</th>\n",
       "      <th>first_name</th>\n",
       "      <th>last_name</th>\n",
       "      <th>tariff</th>\n",
       "      <th>reg_month</th>\n",
       "      <th>churn_month</th>\n",
       "      <th>month</th>\n",
       "      <th>gb_used</th>\n",
       "      <th>sum_duration</th>\n",
       "      <th>call_count</th>\n",
       "      <th>message_count</th>\n",
       "      <th>messages_included</th>\n",
       "      <th>gb_per_month_included</th>\n",
       "      <th>minutes_included</th>\n",
       "      <th>rub_monthly_fee</th>\n",
       "      <th>rub_per_gb</th>\n",
       "      <th>rub_per_message</th>\n",
       "      <th>rub_per_minute</th>\n",
       "    </tr>\n",
       "  </thead>\n",
       "  <tbody>\n",
       "    <tr>\n",
       "      <td>827</td>\n",
       "      <td>1128</td>\n",
       "      <td>51</td>\n",
       "      <td>Волжский</td>\n",
       "      <td>Ксения</td>\n",
       "      <td>Агаева</td>\n",
       "      <td>ultra</td>\n",
       "      <td>12</td>\n",
       "      <td>12</td>\n",
       "      <td>NaN</td>\n",
       "      <td>NaN</td>\n",
       "      <td>NaN</td>\n",
       "      <td>NaN</td>\n",
       "      <td>NaN</td>\n",
       "      <td>1000</td>\n",
       "      <td>30</td>\n",
       "      <td>3000</td>\n",
       "      <td>1950</td>\n",
       "      <td>150</td>\n",
       "      <td>1</td>\n",
       "      <td>1</td>\n",
       "    </tr>\n",
       "    <tr>\n",
       "      <td>2335</td>\n",
       "      <td>1371</td>\n",
       "      <td>50</td>\n",
       "      <td>Омск</td>\n",
       "      <td>Ириней</td>\n",
       "      <td>Трофимов</td>\n",
       "      <td>smart</td>\n",
       "      <td>12</td>\n",
       "      <td>12</td>\n",
       "      <td>NaN</td>\n",
       "      <td>NaN</td>\n",
       "      <td>NaN</td>\n",
       "      <td>NaN</td>\n",
       "      <td>NaN</td>\n",
       "      <td>50</td>\n",
       "      <td>15</td>\n",
       "      <td>500</td>\n",
       "      <td>550</td>\n",
       "      <td>200</td>\n",
       "      <td>3</td>\n",
       "      <td>3</td>\n",
       "    </tr>\n",
       "  </tbody>\n",
       "</table>\n",
       "</div>"
      ],
      "text/plain": [
       "      user_id  age      city first_name last_name tariff  reg_month  \\\n",
       "827      1128   51  Волжский     Ксения    Агаева  ultra         12   \n",
       "2335     1371   50      Омск     Ириней  Трофимов  smart         12   \n",
       "\n",
       "      churn_month  month  gb_used  sum_duration  call_count  message_count  \\\n",
       "827            12    NaN      NaN           NaN         NaN            NaN   \n",
       "2335           12    NaN      NaN           NaN         NaN            NaN   \n",
       "\n",
       "      messages_included  gb_per_month_included  minutes_included  \\\n",
       "827                1000                     30              3000   \n",
       "2335                 50                     15               500   \n",
       "\n",
       "      rub_monthly_fee  rub_per_gb  rub_per_message  rub_per_minute  \n",
       "827              1950         150                1               1  \n",
       "2335              550         200                3               3  "
      ]
     },
     "execution_count": 26,
     "metadata": {},
     "output_type": "execute_result"
    }
   ],
   "source": [
    "df[df['month'].isna()]"
   ]
  },
  {
   "cell_type": "markdown",
   "metadata": {},
   "source": [
    "Здесь 2 человека подключились и сразу же отключились от услуг оператора. Можно смело их удалить"
   ]
  },
  {
   "cell_type": "code",
   "execution_count": 27,
   "metadata": {},
   "outputs": [],
   "source": [
    "df = df.dropna(axis='index', how='any', subset=['month'])"
   ]
  },
  {
   "cell_type": "code",
   "execution_count": 28,
   "metadata": {},
   "outputs": [
    {
     "data": {
      "text/plain": [
       "user_id                  0.000000\n",
       "age                      0.000000\n",
       "city                     0.000000\n",
       "first_name               0.000000\n",
       "last_name                0.000000\n",
       "tariff                   0.000000\n",
       "reg_month                0.000000\n",
       "churn_month              0.000000\n",
       "month                    0.000000\n",
       "gb_used                  0.003423\n",
       "sum_duration             0.012446\n",
       "call_count               0.012446\n",
       "message_count            0.154636\n",
       "messages_included        0.000000\n",
       "gb_per_month_included    0.000000\n",
       "minutes_included         0.000000\n",
       "rub_monthly_fee          0.000000\n",
       "rub_per_gb               0.000000\n",
       "rub_per_message          0.000000\n",
       "rub_per_minute           0.000000\n",
       "dtype: float64"
      ]
     },
     "execution_count": 28,
     "metadata": {},
     "output_type": "execute_result"
    }
   ],
   "source": [
    "df.isna().mean()"
   ]
  },
  {
   "cell_type": "code",
   "execution_count": 29,
   "metadata": {
    "scrolled": false
   },
   "outputs": [
    {
     "data": {
      "text/html": [
       "<div>\n",
       "<style scoped>\n",
       "    .dataframe tbody tr th:only-of-type {\n",
       "        vertical-align: middle;\n",
       "    }\n",
       "\n",
       "    .dataframe tbody tr th {\n",
       "        vertical-align: top;\n",
       "    }\n",
       "\n",
       "    .dataframe thead th {\n",
       "        text-align: right;\n",
       "    }\n",
       "</style>\n",
       "<table border=\"1\" class=\"dataframe\">\n",
       "  <thead>\n",
       "    <tr style=\"text-align: right;\">\n",
       "      <th></th>\n",
       "      <th>user_id</th>\n",
       "      <th>age</th>\n",
       "      <th>city</th>\n",
       "      <th>first_name</th>\n",
       "      <th>last_name</th>\n",
       "      <th>tariff</th>\n",
       "      <th>reg_month</th>\n",
       "      <th>churn_month</th>\n",
       "      <th>month</th>\n",
       "      <th>gb_used</th>\n",
       "      <th>sum_duration</th>\n",
       "      <th>call_count</th>\n",
       "      <th>message_count</th>\n",
       "      <th>messages_included</th>\n",
       "      <th>gb_per_month_included</th>\n",
       "      <th>minutes_included</th>\n",
       "      <th>rub_monthly_fee</th>\n",
       "      <th>rub_per_gb</th>\n",
       "      <th>rub_per_message</th>\n",
       "      <th>rub_per_minute</th>\n",
       "    </tr>\n",
       "  </thead>\n",
       "  <tbody>\n",
       "    <tr>\n",
       "      <td>1723</td>\n",
       "      <td>1273</td>\n",
       "      <td>46</td>\n",
       "      <td>Курган</td>\n",
       "      <td>Рэм</td>\n",
       "      <td>Корнилов</td>\n",
       "      <td>ultra</td>\n",
       "      <td>5</td>\n",
       "      <td>0</td>\n",
       "      <td>5.0</td>\n",
       "      <td>NaN</td>\n",
       "      <td>220.0</td>\n",
       "      <td>24.0</td>\n",
       "      <td>21.0</td>\n",
       "      <td>1000</td>\n",
       "      <td>30</td>\n",
       "      <td>3000</td>\n",
       "      <td>1950</td>\n",
       "      <td>150</td>\n",
       "      <td>1</td>\n",
       "      <td>1</td>\n",
       "    </tr>\n",
       "    <tr>\n",
       "      <td>1724</td>\n",
       "      <td>1273</td>\n",
       "      <td>46</td>\n",
       "      <td>Курган</td>\n",
       "      <td>Рэм</td>\n",
       "      <td>Корнилов</td>\n",
       "      <td>ultra</td>\n",
       "      <td>5</td>\n",
       "      <td>0</td>\n",
       "      <td>6.0</td>\n",
       "      <td>NaN</td>\n",
       "      <td>230.0</td>\n",
       "      <td>40.0</td>\n",
       "      <td>38.0</td>\n",
       "      <td>1000</td>\n",
       "      <td>30</td>\n",
       "      <td>3000</td>\n",
       "      <td>1950</td>\n",
       "      <td>150</td>\n",
       "      <td>1</td>\n",
       "      <td>1</td>\n",
       "    </tr>\n",
       "    <tr>\n",
       "      <td>1725</td>\n",
       "      <td>1273</td>\n",
       "      <td>46</td>\n",
       "      <td>Курган</td>\n",
       "      <td>Рэм</td>\n",
       "      <td>Корнилов</td>\n",
       "      <td>ultra</td>\n",
       "      <td>5</td>\n",
       "      <td>0</td>\n",
       "      <td>7.0</td>\n",
       "      <td>NaN</td>\n",
       "      <td>253.0</td>\n",
       "      <td>44.0</td>\n",
       "      <td>37.0</td>\n",
       "      <td>1000</td>\n",
       "      <td>30</td>\n",
       "      <td>3000</td>\n",
       "      <td>1950</td>\n",
       "      <td>150</td>\n",
       "      <td>1</td>\n",
       "      <td>1</td>\n",
       "    </tr>\n",
       "    <tr>\n",
       "      <td>1726</td>\n",
       "      <td>1273</td>\n",
       "      <td>46</td>\n",
       "      <td>Курган</td>\n",
       "      <td>Рэм</td>\n",
       "      <td>Корнилов</td>\n",
       "      <td>ultra</td>\n",
       "      <td>5</td>\n",
       "      <td>0</td>\n",
       "      <td>8.0</td>\n",
       "      <td>NaN</td>\n",
       "      <td>253.0</td>\n",
       "      <td>53.0</td>\n",
       "      <td>41.0</td>\n",
       "      <td>1000</td>\n",
       "      <td>30</td>\n",
       "      <td>3000</td>\n",
       "      <td>1950</td>\n",
       "      <td>150</td>\n",
       "      <td>1</td>\n",
       "      <td>1</td>\n",
       "    </tr>\n",
       "    <tr>\n",
       "      <td>1727</td>\n",
       "      <td>1273</td>\n",
       "      <td>46</td>\n",
       "      <td>Курган</td>\n",
       "      <td>Рэм</td>\n",
       "      <td>Корнилов</td>\n",
       "      <td>ultra</td>\n",
       "      <td>5</td>\n",
       "      <td>0</td>\n",
       "      <td>9.0</td>\n",
       "      <td>NaN</td>\n",
       "      <td>223.0</td>\n",
       "      <td>33.0</td>\n",
       "      <td>32.0</td>\n",
       "      <td>1000</td>\n",
       "      <td>30</td>\n",
       "      <td>3000</td>\n",
       "      <td>1950</td>\n",
       "      <td>150</td>\n",
       "      <td>1</td>\n",
       "      <td>1</td>\n",
       "    </tr>\n",
       "    <tr>\n",
       "      <td>1728</td>\n",
       "      <td>1273</td>\n",
       "      <td>46</td>\n",
       "      <td>Курган</td>\n",
       "      <td>Рэм</td>\n",
       "      <td>Корнилов</td>\n",
       "      <td>ultra</td>\n",
       "      <td>5</td>\n",
       "      <td>0</td>\n",
       "      <td>10.0</td>\n",
       "      <td>NaN</td>\n",
       "      <td>315.0</td>\n",
       "      <td>40.0</td>\n",
       "      <td>35.0</td>\n",
       "      <td>1000</td>\n",
       "      <td>30</td>\n",
       "      <td>3000</td>\n",
       "      <td>1950</td>\n",
       "      <td>150</td>\n",
       "      <td>1</td>\n",
       "      <td>1</td>\n",
       "    </tr>\n",
       "    <tr>\n",
       "      <td>1729</td>\n",
       "      <td>1273</td>\n",
       "      <td>46</td>\n",
       "      <td>Курган</td>\n",
       "      <td>Рэм</td>\n",
       "      <td>Корнилов</td>\n",
       "      <td>ultra</td>\n",
       "      <td>5</td>\n",
       "      <td>0</td>\n",
       "      <td>11.0</td>\n",
       "      <td>NaN</td>\n",
       "      <td>272.0</td>\n",
       "      <td>45.0</td>\n",
       "      <td>29.0</td>\n",
       "      <td>1000</td>\n",
       "      <td>30</td>\n",
       "      <td>3000</td>\n",
       "      <td>1950</td>\n",
       "      <td>150</td>\n",
       "      <td>1</td>\n",
       "      <td>1</td>\n",
       "    </tr>\n",
       "    <tr>\n",
       "      <td>1730</td>\n",
       "      <td>1273</td>\n",
       "      <td>46</td>\n",
       "      <td>Курган</td>\n",
       "      <td>Рэм</td>\n",
       "      <td>Корнилов</td>\n",
       "      <td>ultra</td>\n",
       "      <td>5</td>\n",
       "      <td>0</td>\n",
       "      <td>12.0</td>\n",
       "      <td>NaN</td>\n",
       "      <td>260.0</td>\n",
       "      <td>41.0</td>\n",
       "      <td>39.0</td>\n",
       "      <td>1000</td>\n",
       "      <td>30</td>\n",
       "      <td>3000</td>\n",
       "      <td>1950</td>\n",
       "      <td>150</td>\n",
       "      <td>1</td>\n",
       "      <td>1</td>\n",
       "    </tr>\n",
       "    <tr>\n",
       "      <td>2399</td>\n",
       "      <td>1377</td>\n",
       "      <td>59</td>\n",
       "      <td>Брянск</td>\n",
       "      <td>Альфред</td>\n",
       "      <td>Семин</td>\n",
       "      <td>ultra</td>\n",
       "      <td>2</td>\n",
       "      <td>0</td>\n",
       "      <td>2.0</td>\n",
       "      <td>NaN</td>\n",
       "      <td>179.0</td>\n",
       "      <td>23.0</td>\n",
       "      <td>2.0</td>\n",
       "      <td>1000</td>\n",
       "      <td>30</td>\n",
       "      <td>3000</td>\n",
       "      <td>1950</td>\n",
       "      <td>150</td>\n",
       "      <td>1</td>\n",
       "      <td>1</td>\n",
       "    </tr>\n",
       "    <tr>\n",
       "      <td>2509</td>\n",
       "      <td>1392</td>\n",
       "      <td>54</td>\n",
       "      <td>Челябинск</td>\n",
       "      <td>Алла</td>\n",
       "      <td>Беликова</td>\n",
       "      <td>ultra</td>\n",
       "      <td>2</td>\n",
       "      <td>9</td>\n",
       "      <td>2.0</td>\n",
       "      <td>NaN</td>\n",
       "      <td>13.0</td>\n",
       "      <td>2.0</td>\n",
       "      <td>3.0</td>\n",
       "      <td>1000</td>\n",
       "      <td>30</td>\n",
       "      <td>3000</td>\n",
       "      <td>1950</td>\n",
       "      <td>150</td>\n",
       "      <td>1</td>\n",
       "      <td>1</td>\n",
       "    </tr>\n",
       "    <tr>\n",
       "      <td>2864</td>\n",
       "      <td>1446</td>\n",
       "      <td>64</td>\n",
       "      <td>Липецк</td>\n",
       "      <td>Антонина</td>\n",
       "      <td>Артемчук</td>\n",
       "      <td>smart</td>\n",
       "      <td>8</td>\n",
       "      <td>0</td>\n",
       "      <td>8.0</td>\n",
       "      <td>NaN</td>\n",
       "      <td>50.0</td>\n",
       "      <td>4.0</td>\n",
       "      <td>1.0</td>\n",
       "      <td>50</td>\n",
       "      <td>15</td>\n",
       "      <td>500</td>\n",
       "      <td>550</td>\n",
       "      <td>200</td>\n",
       "      <td>3</td>\n",
       "      <td>3</td>\n",
       "    </tr>\n",
       "  </tbody>\n",
       "</table>\n",
       "</div>"
      ],
      "text/plain": [
       "      user_id  age       city first_name last_name tariff  reg_month  \\\n",
       "1723     1273   46     Курган        Рэм  Корнилов  ultra          5   \n",
       "1724     1273   46     Курган        Рэм  Корнилов  ultra          5   \n",
       "1725     1273   46     Курган        Рэм  Корнилов  ultra          5   \n",
       "1726     1273   46     Курган        Рэм  Корнилов  ultra          5   \n",
       "1727     1273   46     Курган        Рэм  Корнилов  ultra          5   \n",
       "1728     1273   46     Курган        Рэм  Корнилов  ultra          5   \n",
       "1729     1273   46     Курган        Рэм  Корнилов  ultra          5   \n",
       "1730     1273   46     Курган        Рэм  Корнилов  ultra          5   \n",
       "2399     1377   59     Брянск    Альфред     Семин  ultra          2   \n",
       "2509     1392   54  Челябинск       Алла  Беликова  ultra          2   \n",
       "2864     1446   64     Липецк   Антонина  Артемчук  smart          8   \n",
       "\n",
       "      churn_month  month  gb_used  sum_duration  call_count  message_count  \\\n",
       "1723            0    5.0      NaN         220.0        24.0           21.0   \n",
       "1724            0    6.0      NaN         230.0        40.0           38.0   \n",
       "1725            0    7.0      NaN         253.0        44.0           37.0   \n",
       "1726            0    8.0      NaN         253.0        53.0           41.0   \n",
       "1727            0    9.0      NaN         223.0        33.0           32.0   \n",
       "1728            0   10.0      NaN         315.0        40.0           35.0   \n",
       "1729            0   11.0      NaN         272.0        45.0           29.0   \n",
       "1730            0   12.0      NaN         260.0        41.0           39.0   \n",
       "2399            0    2.0      NaN         179.0        23.0            2.0   \n",
       "2509            9    2.0      NaN          13.0         2.0            3.0   \n",
       "2864            0    8.0      NaN          50.0         4.0            1.0   \n",
       "\n",
       "      messages_included  gb_per_month_included  minutes_included  \\\n",
       "1723               1000                     30              3000   \n",
       "1724               1000                     30              3000   \n",
       "1725               1000                     30              3000   \n",
       "1726               1000                     30              3000   \n",
       "1727               1000                     30              3000   \n",
       "1728               1000                     30              3000   \n",
       "1729               1000                     30              3000   \n",
       "1730               1000                     30              3000   \n",
       "2399               1000                     30              3000   \n",
       "2509               1000                     30              3000   \n",
       "2864                 50                     15               500   \n",
       "\n",
       "      rub_monthly_fee  rub_per_gb  rub_per_message  rub_per_minute  \n",
       "1723             1950         150                1               1  \n",
       "1724             1950         150                1               1  \n",
       "1725             1950         150                1               1  \n",
       "1726             1950         150                1               1  \n",
       "1727             1950         150                1               1  \n",
       "1728             1950         150                1               1  \n",
       "1729             1950         150                1               1  \n",
       "1730             1950         150                1               1  \n",
       "2399             1950         150                1               1  \n",
       "2509             1950         150                1               1  \n",
       "2864              550         200                3               3  "
      ]
     },
     "execution_count": 29,
     "metadata": {},
     "output_type": "execute_result"
    }
   ],
   "source": [
    "df[df['gb_used'].isna()]"
   ]
  },
  {
   "cell_type": "markdown",
   "metadata": {},
   "source": [
    "Функция заполняет пропуски по медиане, сгруппированной по городу возрасту и тарифу. И если строка с пропущенным значением не попадет ни в одну группу, то пропуск заполняется медианой по всем значениям"
   ]
  },
  {
   "cell_type": "code",
   "execution_count": 30,
   "metadata": {},
   "outputs": [],
   "source": [
    "def fill_na(data, column):\n",
    "    print('Медиана до заполнения пропусков:', data[column].median())\n",
    "    data[column] = data.groupby(['city', 'age', 'tariff'])[column].transform(lambda x: x.fillna(x.median())).copy()\n",
    "    data[column] = data[column].fillna(data[column].median()).copy()\n",
    "    print('Медиана после заполнения пропусков:', data[column].median())\n",
    "    \n",
    "    return data[column]"
   ]
  },
  {
   "cell_type": "code",
   "execution_count": 31,
   "metadata": {},
   "outputs": [
    {
     "name": "stdout",
     "output_type": "stream",
     "text": [
      "Медиана до заполнения пропусков: 17.0\n",
      "Медиана после заполнения пропусков: 17.0\n"
     ]
    }
   ],
   "source": [
    "df['gb_used'] = fill_na(df, 'gb_used')"
   ]
  },
  {
   "cell_type": "code",
   "execution_count": 32,
   "metadata": {},
   "outputs": [
    {
     "name": "stdout",
     "output_type": "stream",
     "text": [
      "Медиана до заполнения пропусков: 447.0\n",
      "Медиана после заполнения пропусков: 446.0\n"
     ]
    }
   ],
   "source": [
    "df['sum_duration'] = fill_na(df, 'sum_duration')"
   ]
  },
  {
   "cell_type": "code",
   "execution_count": 33,
   "metadata": {},
   "outputs": [
    {
     "name": "stdout",
     "output_type": "stream",
     "text": [
      "Медиана до заполнения пропусков: 63.0\n",
      "Медиана после заполнения пропусков: 63.0\n"
     ]
    }
   ],
   "source": [
    "df['call_count'] = fill_na(df, 'call_count')"
   ]
  },
  {
   "cell_type": "code",
   "execution_count": 34,
   "metadata": {
    "scrolled": false
   },
   "outputs": [
    {
     "name": "stdout",
     "output_type": "stream",
     "text": [
      "Медиана до заполнения пропусков: 38.0\n",
      "Медиана после заполнения пропусков: 37.0\n"
     ]
    }
   ],
   "source": [
    "df['message_count'] = fill_na(df, 'message_count')"
   ]
  },
  {
   "cell_type": "code",
   "execution_count": 35,
   "metadata": {},
   "outputs": [
    {
     "data": {
      "text/plain": [
       "user_id                  0.0\n",
       "age                      0.0\n",
       "city                     0.0\n",
       "first_name               0.0\n",
       "last_name                0.0\n",
       "tariff                   0.0\n",
       "reg_month                0.0\n",
       "churn_month              0.0\n",
       "month                    0.0\n",
       "gb_used                  0.0\n",
       "sum_duration             0.0\n",
       "call_count               0.0\n",
       "message_count            0.0\n",
       "messages_included        0.0\n",
       "gb_per_month_included    0.0\n",
       "minutes_included         0.0\n",
       "rub_monthly_fee          0.0\n",
       "rub_per_gb               0.0\n",
       "rub_per_message          0.0\n",
       "rub_per_minute           0.0\n",
       "dtype: float64"
      ]
     },
     "execution_count": 35,
     "metadata": {},
     "output_type": "execute_result"
    }
   ],
   "source": [
    "df.isna().mean()"
   ]
  },
  {
   "cell_type": "code",
   "execution_count": 36,
   "metadata": {},
   "outputs": [
    {
     "name": "stdout",
     "output_type": "stream",
     "text": [
      "<class 'pandas.core.frame.DataFrame'>\n",
      "Int64Index: 3214 entries, 0 to 3215\n",
      "Data columns (total 20 columns):\n",
      "user_id                  3214 non-null int64\n",
      "age                      3214 non-null int64\n",
      "city                     3214 non-null object\n",
      "first_name               3214 non-null object\n",
      "last_name                3214 non-null object\n",
      "tariff                   3214 non-null object\n",
      "reg_month                3214 non-null int64\n",
      "churn_month              3214 non-null int64\n",
      "month                    3214 non-null float64\n",
      "gb_used                  3214 non-null float64\n",
      "sum_duration             3214 non-null float64\n",
      "call_count               3214 non-null float64\n",
      "message_count            3214 non-null float64\n",
      "messages_included        3214 non-null int64\n",
      "gb_per_month_included    3214 non-null int64\n",
      "minutes_included         3214 non-null int64\n",
      "rub_monthly_fee          3214 non-null int64\n",
      "rub_per_gb               3214 non-null int64\n",
      "rub_per_message          3214 non-null int64\n",
      "rub_per_minute           3214 non-null int64\n",
      "dtypes: float64(5), int64(11), object(4)\n",
      "memory usage: 527.3+ KB\n"
     ]
    }
   ],
   "source": [
    "df.info()"
   ]
  },
  {
   "cell_type": "code",
   "execution_count": 37,
   "metadata": {},
   "outputs": [],
   "source": [
    "df = df.astype({'month': 'int',\n",
    "                'gb_used': 'int',\n",
    "                'sum_duration': 'int',\n",
    "                'call_count': 'int',\n",
    "                'message_count': 'int'})"
   ]
  },
  {
   "cell_type": "code",
   "execution_count": 38,
   "metadata": {},
   "outputs": [
    {
     "name": "stdout",
     "output_type": "stream",
     "text": [
      "<class 'pandas.core.frame.DataFrame'>\n",
      "Int64Index: 3214 entries, 0 to 3215\n",
      "Data columns (total 20 columns):\n",
      "user_id                  3214 non-null int64\n",
      "age                      3214 non-null int64\n",
      "city                     3214 non-null object\n",
      "first_name               3214 non-null object\n",
      "last_name                3214 non-null object\n",
      "tariff                   3214 non-null object\n",
      "reg_month                3214 non-null int64\n",
      "churn_month              3214 non-null int64\n",
      "month                    3214 non-null int64\n",
      "gb_used                  3214 non-null int64\n",
      "sum_duration             3214 non-null int64\n",
      "call_count               3214 non-null int64\n",
      "message_count            3214 non-null int64\n",
      "messages_included        3214 non-null int64\n",
      "gb_per_month_included    3214 non-null int64\n",
      "minutes_included         3214 non-null int64\n",
      "rub_monthly_fee          3214 non-null int64\n",
      "rub_per_gb               3214 non-null int64\n",
      "rub_per_message          3214 non-null int64\n",
      "rub_per_minute           3214 non-null int64\n",
      "dtypes: int64(16), object(4)\n",
      "memory usage: 527.3+ KB\n"
     ]
    }
   ],
   "source": [
    "df.info()"
   ]
  },
  {
   "cell_type": "code",
   "execution_count": 39,
   "metadata": {},
   "outputs": [
    {
     "data": {
      "text/plain": [
       "0"
      ]
     },
     "execution_count": 39,
     "metadata": {},
     "output_type": "execute_result"
    }
   ],
   "source": [
    "df.duplicated().sum()"
   ]
  },
  {
   "cell_type": "code",
   "execution_count": 40,
   "metadata": {},
   "outputs": [],
   "source": [
    "df = df.reset_index(drop=True)"
   ]
  },
  {
   "cell_type": "code",
   "execution_count": 41,
   "metadata": {},
   "outputs": [],
   "source": [
    "df['over_minutes'] = df['sum_duration'] - df['minutes_included']\n",
    "df.loc[df['over_minutes'] < 0, 'over_minutes'] = 0\n",
    "df['profit_minutes'] = df['over_minutes'] * df['rub_per_minute']"
   ]
  },
  {
   "cell_type": "code",
   "execution_count": 42,
   "metadata": {},
   "outputs": [],
   "source": [
    "df['over_messages'] = df['message_count'] - df['messages_included']\n",
    "df.loc[df['over_messages'] < 0, 'over_messages'] = 0\n",
    "df['profit_messages'] = df['over_messages'] * df['rub_per_message']"
   ]
  },
  {
   "cell_type": "code",
   "execution_count": 43,
   "metadata": {},
   "outputs": [],
   "source": [
    "df['over_gb'] = df['gb_used'] - df['gb_per_month_included']\n",
    "df.loc[df['over_gb'] < 0, 'over_gb'] = 0\n",
    "df['profit_gb'] = df['over_gb'] * df['rub_per_gb']"
   ]
  },
  {
   "cell_type": "code",
   "execution_count": 44,
   "metadata": {},
   "outputs": [],
   "source": [
    "df['profit'] = df['rub_monthly_fee'] + df['profit_minutes'] + df['profit_messages'] + df['profit_gb']"
   ]
  },
  {
   "cell_type": "code",
   "execution_count": 45,
   "metadata": {},
   "outputs": [],
   "source": [
    "df.drop(columns=['over_minutes',\n",
    "                 'profit_minutes',\n",
    "                 'over_messages',\n",
    "                 'profit_messages',\n",
    "                 'over_gb',\n",
    "                 'profit_gb'], inplace=True)"
   ]
  },
  {
   "cell_type": "code",
   "execution_count": 46,
   "metadata": {},
   "outputs": [
    {
     "data": {
      "text/plain": [
       "count    3214.000000\n",
       "mean     1529.245488\n",
       "std       798.136126\n",
       "min       550.000000\n",
       "25%       750.000000\n",
       "50%      1653.500000\n",
       "75%      1950.000000\n",
       "max      6770.000000\n",
       "Name: profit, dtype: float64"
      ]
     },
     "execution_count": 46,
     "metadata": {},
     "output_type": "execute_result"
    }
   ],
   "source": [
    "df['profit'].describe()"
   ]
  },
  {
   "cell_type": "markdown",
   "metadata": {},
   "source": [
    "Расчитал выручку по каждому клиенту в каждый месяц."
   ]
  },
  {
   "cell_type": "code",
   "execution_count": 47,
   "metadata": {},
   "outputs": [
    {
     "data": {
      "text/html": [
       "<div>\n",
       "<style scoped>\n",
       "    .dataframe tbody tr th:only-of-type {\n",
       "        vertical-align: middle;\n",
       "    }\n",
       "\n",
       "    .dataframe tbody tr th {\n",
       "        vertical-align: top;\n",
       "    }\n",
       "\n",
       "    .dataframe thead th {\n",
       "        text-align: right;\n",
       "    }\n",
       "</style>\n",
       "<table border=\"1\" class=\"dataframe\">\n",
       "  <thead>\n",
       "    <tr style=\"text-align: right;\">\n",
       "      <th></th>\n",
       "      <th>user_id</th>\n",
       "      <th>age</th>\n",
       "      <th>city</th>\n",
       "      <th>first_name</th>\n",
       "      <th>last_name</th>\n",
       "      <th>tariff</th>\n",
       "      <th>reg_month</th>\n",
       "      <th>churn_month</th>\n",
       "      <th>month</th>\n",
       "      <th>gb_used</th>\n",
       "      <th>...</th>\n",
       "      <th>call_count</th>\n",
       "      <th>message_count</th>\n",
       "      <th>messages_included</th>\n",
       "      <th>gb_per_month_included</th>\n",
       "      <th>minutes_included</th>\n",
       "      <th>rub_monthly_fee</th>\n",
       "      <th>rub_per_gb</th>\n",
       "      <th>rub_per_message</th>\n",
       "      <th>rub_per_minute</th>\n",
       "      <th>profit</th>\n",
       "    </tr>\n",
       "  </thead>\n",
       "  <tbody>\n",
       "    <tr>\n",
       "      <td>0</td>\n",
       "      <td>1000</td>\n",
       "      <td>52</td>\n",
       "      <td>Краснодар</td>\n",
       "      <td>Рафаил</td>\n",
       "      <td>Верещагин</td>\n",
       "      <td>ultra</td>\n",
       "      <td>5</td>\n",
       "      <td>0</td>\n",
       "      <td>5</td>\n",
       "      <td>3</td>\n",
       "      <td>...</td>\n",
       "      <td>22</td>\n",
       "      <td>22</td>\n",
       "      <td>1000</td>\n",
       "      <td>30</td>\n",
       "      <td>3000</td>\n",
       "      <td>1950</td>\n",
       "      <td>150</td>\n",
       "      <td>1</td>\n",
       "      <td>1</td>\n",
       "      <td>1950</td>\n",
       "    </tr>\n",
       "    <tr>\n",
       "      <td>1</td>\n",
       "      <td>1000</td>\n",
       "      <td>52</td>\n",
       "      <td>Краснодар</td>\n",
       "      <td>Рафаил</td>\n",
       "      <td>Верещагин</td>\n",
       "      <td>ultra</td>\n",
       "      <td>5</td>\n",
       "      <td>0</td>\n",
       "      <td>6</td>\n",
       "      <td>23</td>\n",
       "      <td>...</td>\n",
       "      <td>43</td>\n",
       "      <td>60</td>\n",
       "      <td>1000</td>\n",
       "      <td>30</td>\n",
       "      <td>3000</td>\n",
       "      <td>1950</td>\n",
       "      <td>150</td>\n",
       "      <td>1</td>\n",
       "      <td>1</td>\n",
       "      <td>1950</td>\n",
       "    </tr>\n",
       "    <tr>\n",
       "      <td>2</td>\n",
       "      <td>1000</td>\n",
       "      <td>52</td>\n",
       "      <td>Краснодар</td>\n",
       "      <td>Рафаил</td>\n",
       "      <td>Верещагин</td>\n",
       "      <td>ultra</td>\n",
       "      <td>5</td>\n",
       "      <td>0</td>\n",
       "      <td>7</td>\n",
       "      <td>14</td>\n",
       "      <td>...</td>\n",
       "      <td>47</td>\n",
       "      <td>75</td>\n",
       "      <td>1000</td>\n",
       "      <td>30</td>\n",
       "      <td>3000</td>\n",
       "      <td>1950</td>\n",
       "      <td>150</td>\n",
       "      <td>1</td>\n",
       "      <td>1</td>\n",
       "      <td>1950</td>\n",
       "    </tr>\n",
       "    <tr>\n",
       "      <td>3</td>\n",
       "      <td>1000</td>\n",
       "      <td>52</td>\n",
       "      <td>Краснодар</td>\n",
       "      <td>Рафаил</td>\n",
       "      <td>Верещагин</td>\n",
       "      <td>ultra</td>\n",
       "      <td>5</td>\n",
       "      <td>0</td>\n",
       "      <td>8</td>\n",
       "      <td>14</td>\n",
       "      <td>...</td>\n",
       "      <td>52</td>\n",
       "      <td>81</td>\n",
       "      <td>1000</td>\n",
       "      <td>30</td>\n",
       "      <td>3000</td>\n",
       "      <td>1950</td>\n",
       "      <td>150</td>\n",
       "      <td>1</td>\n",
       "      <td>1</td>\n",
       "      <td>1950</td>\n",
       "    </tr>\n",
       "    <tr>\n",
       "      <td>4</td>\n",
       "      <td>1000</td>\n",
       "      <td>52</td>\n",
       "      <td>Краснодар</td>\n",
       "      <td>Рафаил</td>\n",
       "      <td>Верещагин</td>\n",
       "      <td>ultra</td>\n",
       "      <td>5</td>\n",
       "      <td>0</td>\n",
       "      <td>9</td>\n",
       "      <td>15</td>\n",
       "      <td>...</td>\n",
       "      <td>58</td>\n",
       "      <td>57</td>\n",
       "      <td>1000</td>\n",
       "      <td>30</td>\n",
       "      <td>3000</td>\n",
       "      <td>1950</td>\n",
       "      <td>150</td>\n",
       "      <td>1</td>\n",
       "      <td>1</td>\n",
       "      <td>1950</td>\n",
       "    </tr>\n",
       "  </tbody>\n",
       "</table>\n",
       "<p>5 rows × 21 columns</p>\n",
       "</div>"
      ],
      "text/plain": [
       "   user_id  age       city first_name  last_name tariff  reg_month  \\\n",
       "0     1000   52  Краснодар     Рафаил  Верещагин  ultra          5   \n",
       "1     1000   52  Краснодар     Рафаил  Верещагин  ultra          5   \n",
       "2     1000   52  Краснодар     Рафаил  Верещагин  ultra          5   \n",
       "3     1000   52  Краснодар     Рафаил  Верещагин  ultra          5   \n",
       "4     1000   52  Краснодар     Рафаил  Верещагин  ultra          5   \n",
       "\n",
       "   churn_month  month  gb_used  ...  call_count  message_count  \\\n",
       "0            0      5        3  ...          22             22   \n",
       "1            0      6       23  ...          43             60   \n",
       "2            0      7       14  ...          47             75   \n",
       "3            0      8       14  ...          52             81   \n",
       "4            0      9       15  ...          58             57   \n",
       "\n",
       "   messages_included  gb_per_month_included  minutes_included  \\\n",
       "0               1000                     30              3000   \n",
       "1               1000                     30              3000   \n",
       "2               1000                     30              3000   \n",
       "3               1000                     30              3000   \n",
       "4               1000                     30              3000   \n",
       "\n",
       "   rub_monthly_fee  rub_per_gb  rub_per_message  rub_per_minute  profit  \n",
       "0             1950         150                1               1    1950  \n",
       "1             1950         150                1               1    1950  \n",
       "2             1950         150                1               1    1950  \n",
       "3             1950         150                1               1    1950  \n",
       "4             1950         150                1               1    1950  \n",
       "\n",
       "[5 rows x 21 columns]"
      ]
     },
     "execution_count": 47,
     "metadata": {},
     "output_type": "execute_result"
    }
   ],
   "source": [
    "df.head()"
   ]
  },
  {
   "cell_type": "code",
   "execution_count": 48,
   "metadata": {
    "scrolled": false
   },
   "outputs": [
    {
     "data": {
      "text/html": [
       "<div>\n",
       "<style scoped>\n",
       "    .dataframe tbody tr th:only-of-type {\n",
       "        vertical-align: middle;\n",
       "    }\n",
       "\n",
       "    .dataframe tbody tr th {\n",
       "        vertical-align: top;\n",
       "    }\n",
       "\n",
       "    .dataframe thead th {\n",
       "        text-align: right;\n",
       "    }\n",
       "</style>\n",
       "<table border=\"1\" class=\"dataframe\">\n",
       "  <thead>\n",
       "    <tr style=\"text-align: right;\">\n",
       "      <th></th>\n",
       "      <th>count</th>\n",
       "      <th>mean</th>\n",
       "      <th>std</th>\n",
       "      <th>min</th>\n",
       "      <th>25%</th>\n",
       "      <th>50%</th>\n",
       "      <th>75%</th>\n",
       "      <th>max</th>\n",
       "    </tr>\n",
       "  </thead>\n",
       "  <tbody>\n",
       "    <tr>\n",
       "      <td>user_id</td>\n",
       "      <td>3214.0</td>\n",
       "      <td>1251.590230</td>\n",
       "      <td>144.659172</td>\n",
       "      <td>1000.0</td>\n",
       "      <td>1125.0</td>\n",
       "      <td>1253.0</td>\n",
       "      <td>1378.75</td>\n",
       "      <td>1499.0</td>\n",
       "    </tr>\n",
       "    <tr>\n",
       "      <td>age</td>\n",
       "      <td>3214.0</td>\n",
       "      <td>46.641568</td>\n",
       "      <td>16.586109</td>\n",
       "      <td>18.0</td>\n",
       "      <td>32.0</td>\n",
       "      <td>46.0</td>\n",
       "      <td>62.00</td>\n",
       "      <td>75.0</td>\n",
       "    </tr>\n",
       "    <tr>\n",
       "      <td>reg_month</td>\n",
       "      <td>3214.0</td>\n",
       "      <td>4.719042</td>\n",
       "      <td>2.908036</td>\n",
       "      <td>1.0</td>\n",
       "      <td>2.0</td>\n",
       "      <td>4.0</td>\n",
       "      <td>7.00</td>\n",
       "      <td>12.0</td>\n",
       "    </tr>\n",
       "    <tr>\n",
       "      <td>churn_month</td>\n",
       "      <td>3214.0</td>\n",
       "      <td>0.613877</td>\n",
       "      <td>2.489931</td>\n",
       "      <td>0.0</td>\n",
       "      <td>0.0</td>\n",
       "      <td>0.0</td>\n",
       "      <td>0.00</td>\n",
       "      <td>12.0</td>\n",
       "    </tr>\n",
       "    <tr>\n",
       "      <td>month</td>\n",
       "      <td>3214.0</td>\n",
       "      <td>8.317362</td>\n",
       "      <td>2.905413</td>\n",
       "      <td>1.0</td>\n",
       "      <td>6.0</td>\n",
       "      <td>9.0</td>\n",
       "      <td>11.00</td>\n",
       "      <td>12.0</td>\n",
       "    </tr>\n",
       "    <tr>\n",
       "      <td>gb_used</td>\n",
       "      <td>3214.0</td>\n",
       "      <td>17.354387</td>\n",
       "      <td>7.334211</td>\n",
       "      <td>0.0</td>\n",
       "      <td>13.0</td>\n",
       "      <td>17.0</td>\n",
       "      <td>21.00</td>\n",
       "      <td>49.0</td>\n",
       "    </tr>\n",
       "    <tr>\n",
       "      <td>sum_duration</td>\n",
       "      <td>3214.0</td>\n",
       "      <td>456.620411</td>\n",
       "      <td>236.800445</td>\n",
       "      <td>0.0</td>\n",
       "      <td>291.0</td>\n",
       "      <td>446.0</td>\n",
       "      <td>589.00</td>\n",
       "      <td>1673.0</td>\n",
       "    </tr>\n",
       "    <tr>\n",
       "      <td>call_count</td>\n",
       "      <td>3214.0</td>\n",
       "      <td>63.795582</td>\n",
       "      <td>32.512636</td>\n",
       "      <td>1.0</td>\n",
       "      <td>41.0</td>\n",
       "      <td>63.0</td>\n",
       "      <td>82.00</td>\n",
       "      <td>244.0</td>\n",
       "    </tr>\n",
       "    <tr>\n",
       "      <td>message_count</td>\n",
       "      <td>3214.0</td>\n",
       "      <td>43.546982</td>\n",
       "      <td>32.772587</td>\n",
       "      <td>1.0</td>\n",
       "      <td>21.0</td>\n",
       "      <td>37.0</td>\n",
       "      <td>57.00</td>\n",
       "      <td>224.0</td>\n",
       "    </tr>\n",
       "    <tr>\n",
       "      <td>messages_included</td>\n",
       "      <td>3214.0</td>\n",
       "      <td>341.148102</td>\n",
       "      <td>438.044726</td>\n",
       "      <td>50.0</td>\n",
       "      <td>50.0</td>\n",
       "      <td>50.0</td>\n",
       "      <td>1000.00</td>\n",
       "      <td>1000.0</td>\n",
       "    </tr>\n",
       "    <tr>\n",
       "      <td>gb_per_month_included</td>\n",
       "      <td>3214.0</td>\n",
       "      <td>19.597075</td>\n",
       "      <td>6.916496</td>\n",
       "      <td>15.0</td>\n",
       "      <td>15.0</td>\n",
       "      <td>15.0</td>\n",
       "      <td>30.00</td>\n",
       "      <td>30.0</td>\n",
       "    </tr>\n",
       "    <tr>\n",
       "      <td>minutes_included</td>\n",
       "      <td>3214.0</td>\n",
       "      <td>1266.179216</td>\n",
       "      <td>1152.749279</td>\n",
       "      <td>500.0</td>\n",
       "      <td>500.0</td>\n",
       "      <td>500.0</td>\n",
       "      <td>3000.00</td>\n",
       "      <td>3000.0</td>\n",
       "    </tr>\n",
       "    <tr>\n",
       "      <td>rub_monthly_fee</td>\n",
       "      <td>3214.0</td>\n",
       "      <td>979.060361</td>\n",
       "      <td>645.539596</td>\n",
       "      <td>550.0</td>\n",
       "      <td>550.0</td>\n",
       "      <td>550.0</td>\n",
       "      <td>1950.00</td>\n",
       "      <td>1950.0</td>\n",
       "    </tr>\n",
       "    <tr>\n",
       "      <td>rub_per_gb</td>\n",
       "      <td>3214.0</td>\n",
       "      <td>184.676416</td>\n",
       "      <td>23.054986</td>\n",
       "      <td>150.0</td>\n",
       "      <td>150.0</td>\n",
       "      <td>200.0</td>\n",
       "      <td>200.00</td>\n",
       "      <td>200.0</td>\n",
       "    </tr>\n",
       "    <tr>\n",
       "      <td>rub_per_message</td>\n",
       "      <td>3214.0</td>\n",
       "      <td>2.387057</td>\n",
       "      <td>0.922199</td>\n",
       "      <td>1.0</td>\n",
       "      <td>1.0</td>\n",
       "      <td>3.0</td>\n",
       "      <td>3.00</td>\n",
       "      <td>3.0</td>\n",
       "    </tr>\n",
       "    <tr>\n",
       "      <td>rub_per_minute</td>\n",
       "      <td>3214.0</td>\n",
       "      <td>2.387057</td>\n",
       "      <td>0.922199</td>\n",
       "      <td>1.0</td>\n",
       "      <td>1.0</td>\n",
       "      <td>3.0</td>\n",
       "      <td>3.00</td>\n",
       "      <td>3.0</td>\n",
       "    </tr>\n",
       "    <tr>\n",
       "      <td>profit</td>\n",
       "      <td>3214.0</td>\n",
       "      <td>1529.245488</td>\n",
       "      <td>798.136126</td>\n",
       "      <td>550.0</td>\n",
       "      <td>750.0</td>\n",
       "      <td>1653.5</td>\n",
       "      <td>1950.00</td>\n",
       "      <td>6770.0</td>\n",
       "    </tr>\n",
       "  </tbody>\n",
       "</table>\n",
       "</div>"
      ],
      "text/plain": [
       "                        count         mean          std     min     25%  \\\n",
       "user_id                3214.0  1251.590230   144.659172  1000.0  1125.0   \n",
       "age                    3214.0    46.641568    16.586109    18.0    32.0   \n",
       "reg_month              3214.0     4.719042     2.908036     1.0     2.0   \n",
       "churn_month            3214.0     0.613877     2.489931     0.0     0.0   \n",
       "month                  3214.0     8.317362     2.905413     1.0     6.0   \n",
       "gb_used                3214.0    17.354387     7.334211     0.0    13.0   \n",
       "sum_duration           3214.0   456.620411   236.800445     0.0   291.0   \n",
       "call_count             3214.0    63.795582    32.512636     1.0    41.0   \n",
       "message_count          3214.0    43.546982    32.772587     1.0    21.0   \n",
       "messages_included      3214.0   341.148102   438.044726    50.0    50.0   \n",
       "gb_per_month_included  3214.0    19.597075     6.916496    15.0    15.0   \n",
       "minutes_included       3214.0  1266.179216  1152.749279   500.0   500.0   \n",
       "rub_monthly_fee        3214.0   979.060361   645.539596   550.0   550.0   \n",
       "rub_per_gb             3214.0   184.676416    23.054986   150.0   150.0   \n",
       "rub_per_message        3214.0     2.387057     0.922199     1.0     1.0   \n",
       "rub_per_minute         3214.0     2.387057     0.922199     1.0     1.0   \n",
       "profit                 3214.0  1529.245488   798.136126   550.0   750.0   \n",
       "\n",
       "                          50%      75%     max  \n",
       "user_id                1253.0  1378.75  1499.0  \n",
       "age                      46.0    62.00    75.0  \n",
       "reg_month                 4.0     7.00    12.0  \n",
       "churn_month               0.0     0.00    12.0  \n",
       "month                     9.0    11.00    12.0  \n",
       "gb_used                  17.0    21.00    49.0  \n",
       "sum_duration            446.0   589.00  1673.0  \n",
       "call_count               63.0    82.00   244.0  \n",
       "message_count            37.0    57.00   224.0  \n",
       "messages_included        50.0  1000.00  1000.0  \n",
       "gb_per_month_included    15.0    30.00    30.0  \n",
       "minutes_included        500.0  3000.00  3000.0  \n",
       "rub_monthly_fee         550.0  1950.00  1950.0  \n",
       "rub_per_gb              200.0   200.00   200.0  \n",
       "rub_per_message           3.0     3.00     3.0  \n",
       "rub_per_minute            3.0     3.00     3.0  \n",
       "profit                 1653.5  1950.00  6770.0  "
      ]
     },
     "execution_count": 48,
     "metadata": {},
     "output_type": "execute_result"
    }
   ],
   "source": [
    "df.describe().T"
   ]
  },
  {
   "cell_type": "markdown",
   "metadata": {},
   "source": [
    "По итогу сгруппировал отдельные датафреймы по месяцам и клиентам, посчитал суммарное количество минут, гигабайт и сообщений, соединил это все в один датафрейм, заполнил пропуски и посчитал выручку по клиентам."
   ]
  },
  {
   "cell_type": "markdown",
   "metadata": {},
   "source": [
    "## Анализ данных"
   ]
  },
  {
   "cell_type": "markdown",
   "metadata": {},
   "source": [
    "Функция сравнения поведения на разных тарифах"
   ]
  },
  {
   "cell_type": "code",
   "execution_count": 49,
   "metadata": {},
   "outputs": [],
   "source": [
    "def smart_vs_ultra_diagram(data, column):\n",
    "    ax = data[data['tariff'] == 'smart'].pivot_table(index='month',\n",
    "                                                     values=column).plot(style='o-');\n",
    "    data[data['tariff'] == 'ultra'].pivot_table(index='month',\n",
    "                                                values=column).plot(figsize=(10, 6),\n",
    "                                                                    style='o-',\n",
    "                                                                    grid=True,\n",
    "                                                                    ax=ax,\n",
    "                                                                    title='mean_{}'.format(column));\n",
    "    ax.legend(['smart', 'ultra']);"
   ]
  },
  {
   "cell_type": "markdown",
   "metadata": {},
   "source": [
    "Функция построения гистограм для сравнения"
   ]
  },
  {
   "cell_type": "code",
   "execution_count": 50,
   "metadata": {},
   "outputs": [],
   "source": [
    "def smart_vs_ultra_hist(data, column):\n",
    "    plt.figure(figsize=(10, 6), dpi=80)\n",
    "    flagell_max = data[column].quantile(0.75) + (data[column].quantile(0.75) - data[column].quantile(0.25)) * 3\n",
    "    plt.hist([data[data['tariff'] == 'smart'][column],\n",
    "              data[data['tariff'] == 'ultra'][column]],\n",
    "             bins='fd',\n",
    "             label=['smart', 'ultra'],\n",
    "             range=(0, flagell_max))\n",
    "    plt.legend(loc='upper left')\n",
    "    plt.title(label=column)\n",
    "    plt.show();"
   ]
  },
  {
   "cell_type": "code",
   "execution_count": 51,
   "metadata": {},
   "outputs": [
    {
     "data": {
      "image/png": "[encoded data removed]",
      "text/plain": [
       "<Figure size 800x480 with 1 Axes>"
      ]
     },
     "metadata": {
      "needs_background": "light"
     },
     "output_type": "display_data"
    }
   ],
   "source": [
    "smart_vs_ultra_hist(df, 'sum_duration')"
   ]
  },
  {
   "cell_type": "code",
   "execution_count": 52,
   "metadata": {},
   "outputs": [
    {
     "data": {
      "image/png": "[encoded data removed]",
      "text/plain": [
       "<Figure size 720x432 with 1 Axes>"
      ]
     },
     "metadata": {
      "needs_background": "light"
     },
     "output_type": "display_data"
    }
   ],
   "source": [
    "smart_vs_ultra_diagram(df, 'sum_duration')"
   ]
  },
  {
   "cell_type": "code",
   "execution_count": 53,
   "metadata": {},
   "outputs": [
    {
     "data": {
      "image/png": "[encoded data removed]",
      "text/plain": [
       "<Figure size 800x480 with 1 Axes>"
      ]
     },
     "metadata": {
      "needs_background": "light"
     },
     "output_type": "display_data"
    }
   ],
   "source": [
    "smart_vs_ultra_hist(df, 'message_count')"
   ]
  },
  {
   "cell_type": "code",
   "execution_count": 54,
   "metadata": {},
   "outputs": [
    {
     "data": {
      "image/png": "[encoded data removed]",
      "text/plain": [
       "<Figure size 720x432 with 1 Axes>"
      ]
     },
     "metadata": {
      "needs_background": "light"
     },
     "output_type": "display_data"
    }
   ],
   "source": [
    "smart_vs_ultra_diagram(df, 'message_count')"
   ]
  },
  {
   "cell_type": "code",
   "execution_count": 55,
   "metadata": {},
   "outputs": [
    {
     "data": {
      "image/png": "[encoded data removed]",
      "text/plain": [
       "<Figure size 800x480 with 1 Axes>"
      ]
     },
     "metadata": {
      "needs_background": "light"
     },
     "output_type": "display_data"
    }
   ],
   "source": [
    "smart_vs_ultra_hist(df, 'gb_used')"
   ]
  },
  {
   "cell_type": "code",
   "execution_count": 56,
   "metadata": {},
   "outputs": [
    {
     "data": {
      "image/png": "[encoded data removed]",
      "text/plain": [
       "<Figure size 720x432 with 1 Axes>"
      ]
     },
     "metadata": {
      "needs_background": "light"
     },
     "output_type": "display_data"
    }
   ],
   "source": [
    "smart_vs_ultra_diagram(df, 'gb_used')"
   ]
  },
  {
   "cell_type": "code",
   "execution_count": 57,
   "metadata": {},
   "outputs": [
    {
     "data": {
      "text/html": [
       "<div>\n",
       "<style scoped>\n",
       "    .dataframe tbody tr th:only-of-type {\n",
       "        vertical-align: middle;\n",
       "    }\n",
       "\n",
       "    .dataframe tbody tr th {\n",
       "        vertical-align: top;\n",
       "    }\n",
       "\n",
       "    .dataframe thead th {\n",
       "        text-align: right;\n",
       "    }\n",
       "</style>\n",
       "<table border=\"1\" class=\"dataframe\">\n",
       "  <thead>\n",
       "    <tr style=\"text-align: right;\">\n",
       "      <th></th>\n",
       "      <th>tariff</th>\n",
       "      <th>smart</th>\n",
       "      <th>ultra</th>\n",
       "    </tr>\n",
       "  </thead>\n",
       "  <tbody>\n",
       "    <tr>\n",
       "      <td rowspan=\"3\" valign=\"top\">var</td>\n",
       "      <td>gb_used</td>\n",
       "      <td>32.909176</td>\n",
       "      <td>93.467176</td>\n",
       "    </tr>\n",
       "    <tr>\n",
       "      <td>message_count</td>\n",
       "      <td>638.017800</td>\n",
       "      <td>1829.081245</td>\n",
       "    </tr>\n",
       "    <tr>\n",
       "      <td>sum_duration</td>\n",
       "      <td>35823.281553</td>\n",
       "      <td>91491.021611</td>\n",
       "    </tr>\n",
       "    <tr>\n",
       "      <td rowspan=\"3\" valign=\"top\">std</td>\n",
       "      <td>gb_used</td>\n",
       "      <td>5.736652</td>\n",
       "      <td>9.667842</td>\n",
       "    </tr>\n",
       "    <tr>\n",
       "      <td>message_count</td>\n",
       "      <td>25.259014</td>\n",
       "      <td>42.767759</td>\n",
       "    </tr>\n",
       "    <tr>\n",
       "      <td>sum_duration</td>\n",
       "      <td>189.270393</td>\n",
       "      <td>302.474828</td>\n",
       "    </tr>\n",
       "    <tr>\n",
       "      <td rowspan=\"3\" valign=\"top\">mean</td>\n",
       "      <td>gb_used</td>\n",
       "      <td>16.336474</td>\n",
       "      <td>19.657868</td>\n",
       "    </tr>\n",
       "    <tr>\n",
       "      <td>message_count</td>\n",
       "      <td>37.928668</td>\n",
       "      <td>56.260914</td>\n",
       "    </tr>\n",
       "    <tr>\n",
       "      <td>sum_duration</td>\n",
       "      <td>418.941229</td>\n",
       "      <td>541.886294</td>\n",
       "    </tr>\n",
       "  </tbody>\n",
       "</table>\n",
       "</div>"
      ],
      "text/plain": [
       "tariff                     smart         ultra\n",
       "var  gb_used           32.909176     93.467176\n",
       "     message_count    638.017800   1829.081245\n",
       "     sum_duration   35823.281553  91491.021611\n",
       "std  gb_used            5.736652      9.667842\n",
       "     message_count     25.259014     42.767759\n",
       "     sum_duration     189.270393    302.474828\n",
       "mean gb_used           16.336474     19.657868\n",
       "     message_count     37.928668     56.260914\n",
       "     sum_duration     418.941229    541.886294"
      ]
     },
     "execution_count": 57,
     "metadata": {},
     "output_type": "execute_result"
    }
   ],
   "source": [
    "df.pivot_table(index='tariff',\n",
    "               values=['sum_duration', 'message_count', 'gb_used'],\n",
    "               aggfunc=['var', 'std', 'mean']).T"
   ]
  },
  {
   "cell_type": "code",
   "execution_count": 58,
   "metadata": {},
   "outputs": [
    {
     "data": {
      "text/plain": [
       "437    10\n",
       "401     9\n",
       "Name: sum_duration, dtype: int64"
      ]
     },
     "execution_count": 58,
     "metadata": {},
     "output_type": "execute_result"
    }
   ],
   "source": [
    "df[df['tariff'] == 'smart']['sum_duration'].value_counts().head(2)"
   ]
  },
  {
   "cell_type": "code",
   "execution_count": 59,
   "metadata": {},
   "outputs": [
    {
     "data": {
      "text/plain": [
       "446    31\n",
       "368     5\n",
       "Name: sum_duration, dtype: int64"
      ]
     },
     "execution_count": 59,
     "metadata": {},
     "output_type": "execute_result"
    }
   ],
   "source": [
    "df[df['tariff'] == 'ultra']['sum_duration'].value_counts().head(2)"
   ]
  },
  {
   "cell_type": "code",
   "execution_count": 60,
   "metadata": {},
   "outputs": [
    {
     "data": {
      "text/plain": [
       "37    244\n",
       "21     43\n",
       "Name: message_count, dtype: int64"
      ]
     },
     "execution_count": 60,
     "metadata": {},
     "output_type": "execute_result"
    }
   ],
   "source": [
    "df[df['tariff'] == 'smart']['message_count'].value_counts().head(2)"
   ]
  },
  {
   "cell_type": "code",
   "execution_count": 61,
   "metadata": {},
   "outputs": [
    {
     "data": {
      "text/plain": [
       "37    146\n",
       "40     23\n",
       "Name: message_count, dtype: int64"
      ]
     },
     "execution_count": 61,
     "metadata": {},
     "output_type": "execute_result"
    }
   ],
   "source": [
    "df[df['tariff'] == 'ultra']['message_count'].value_counts().head(2)"
   ]
  },
  {
   "cell_type": "code",
   "execution_count": 62,
   "metadata": {},
   "outputs": [
    {
     "data": {
      "text/plain": [
       "17    184\n",
       "16    174\n",
       "Name: gb_used, dtype: int64"
      ]
     },
     "execution_count": 62,
     "metadata": {},
     "output_type": "execute_result"
    }
   ],
   "source": [
    "df[df['tariff'] == 'smart']['gb_used'].value_counts().head(2)"
   ]
  },
  {
   "cell_type": "code",
   "execution_count": 63,
   "metadata": {},
   "outputs": [
    {
     "data": {
      "text/plain": [
       "17    48\n",
       "19    44\n",
       "Name: gb_used, dtype: int64"
      ]
     },
     "execution_count": 63,
     "metadata": {},
     "output_type": "execute_result"
    }
   ],
   "source": [
    "df[df['tariff'] == 'ultra']['gb_used'].value_counts().head(2)"
   ]
  },
  {
   "cell_type": "code",
   "execution_count": 64,
   "metadata": {},
   "outputs": [
    {
     "data": {
      "text/plain": [
       "count    2229.000000\n",
       "mean     1290.217586\n",
       "std       818.313988\n",
       "min       550.000000\n",
       "25%       550.000000\n",
       "50%      1023.000000\n",
       "75%      1750.000000\n",
       "max      6770.000000\n",
       "Name: profit, dtype: float64"
      ]
     },
     "execution_count": 64,
     "metadata": {},
     "output_type": "execute_result"
    }
   ],
   "source": [
    "df[df['tariff'] == 'smart']['profit'].describe()"
   ]
  },
  {
   "cell_type": "code",
   "execution_count": 65,
   "metadata": {},
   "outputs": [
    {
     "data": {
      "text/plain": [
       "count     985.000000\n",
       "mean     2070.152284\n",
       "std       376.187114\n",
       "min      1950.000000\n",
       "25%      1950.000000\n",
       "50%      1950.000000\n",
       "75%      1950.000000\n",
       "max      4800.000000\n",
       "Name: profit, dtype: float64"
      ]
     },
     "execution_count": 65,
     "metadata": {},
     "output_type": "execute_result"
    }
   ],
   "source": [
    "df[df['tariff'] == 'ultra']['profit'].describe()"
   ]
  },
  {
   "cell_type": "code",
   "execution_count": 66,
   "metadata": {},
   "outputs": [
    {
     "data": {
      "image/png": "[encoded data removed]",
      "text/plain": [
       "<Figure size 800x480 with 1 Axes>"
      ]
     },
     "metadata": {
      "needs_background": "light"
     },
     "output_type": "display_data"
    }
   ],
   "source": [
    "smart_vs_ultra_hist(df, 'profit')"
   ]
  },
  {
   "cell_type": "code",
   "execution_count": 67,
   "metadata": {},
   "outputs": [
    {
     "data": {
      "image/png": "[encoded data removed]",
      "text/plain": [
       "<Figure size 720x432 with 1 Axes>"
      ]
     },
     "metadata": {
      "needs_background": "light"
     },
     "output_type": "display_data"
    }
   ],
   "source": [
    "smart_vs_ultra_diagram(df, 'profit')"
   ]
  },
  {
   "cell_type": "markdown",
   "metadata": {},
   "source": [
    "Из графиков мы можем сказать, что абоненты тарифа smart тратят меньше минут на разговоры (в среднем 189.27 минут), чем абоненты тарифа ultra (в среднем 302.48 минут). Чаще всего абонентам smart требуется 437 минут в месяц, а абонентам ultra - 446 минут.\n",
    "\n",
    "По смс: абоненты тарифа smart отправляют меньше смс (в среднем 38 смс), чем абоненты тарифа ultra (в среднем 56 смс). Чаще всего абонентам обоих тарифов требуется 37 смс в месяц.\n",
    "\n",
    "Интернет-траффик: абоненты тарифа smart расходуют интернет-траффик меньше (в среднем 16.34 гб), чем абоненты тарифа ultra (в среднем 19,66 гб). Чаще всего абонентам smart требуется 16-17 гб в месяц (что выходит за рамки включенного в тариф объема), а абонентам ultra - 17-19 гб в месяц.\n",
    "\n",
    "Распределение количества минут, количества смс и объема интернет-трафика у абонентов тарифа smart более консолидировано вокруг средней (дисперсия и стандартное отклонение меньше), чем в ultra. В принципе логично: при ограничении в 500 минут, 50 смс и 15гб, больше следишь за расходом лимита и стараешься уложиться в него. А ограничение в 3000 минут, 1000 смс, 30гб, да еще и низкая стоимость оплаты сверх тарифа дает больше свободы для активности.\n",
    "\n",
    "Проверил еще распределение выручки.\n",
    "\n",
    "Интересная особенность: в феврале у абонентов ultra какая-то просадка по всем видам активности, а у абонентов smart просадка всех активностей в январе и чуть менее выраженная в феврале (но это можно объяснить, что примерно вплоть до февраля было подключено только лишь четверть абонентов. "
   ]
  },
  {
   "cell_type": "markdown",
   "metadata": {},
   "source": [
    "В феврале сильное падение активности у абонентов тарифа ultra. Проверю, может в этот месяц они много отключались от тарифа?!"
   ]
  },
  {
   "cell_type": "code",
   "execution_count": 68,
   "metadata": {},
   "outputs": [
    {
     "data": {
      "image/png": "[encoded data removed]",
      "text/plain": [
       "<Figure size 432x432 with 1 Axes>"
      ]
     },
     "metadata": {
      "needs_background": "light"
     },
     "output_type": "display_data"
    }
   ],
   "source": [
    "df[df['tariff'] == 'ultra'].plot(kind='scatter',\n",
    "                                 figsize=(6, 6),\n",
    "                                 x='churn_month',\n",
    "                                 y='user_id',\n",
    "                                 alpha=0.1);"
   ]
  },
  {
   "cell_type": "markdown",
   "metadata": {},
   "source": [
    "Нет. Помним, что нулевой месяц означает, что абоненты все еще подключены к тарифу. Отключались они только с августа по декабрь"
   ]
  },
  {
   "cell_type": "code",
   "execution_count": 69,
   "metadata": {},
   "outputs": [
    {
     "data": {
      "image/png": "[encoded data removed]",
      "text/plain": [
       "<Figure size 432x432 with 1 Axes>"
      ]
     },
     "metadata": {
      "needs_background": "light"
     },
     "output_type": "display_data"
    }
   ],
   "source": [
    "df[df['tariff'] == 'ultra'].plot(kind='scatter',\n",
    "                                 figsize=(6, 6),\n",
    "                                 x='month',\n",
    "                                 y='sum_duration',\n",
    "                                 alpha=0.1);"
   ]
  },
  {
   "cell_type": "markdown",
   "metadata": {},
   "source": [
    "Теперь понятно. В феврале было чуть больше звонков, чем в январе и они были в целом короче январских. Из-за этого среднее значение сместилось вниз. Проверю так же интернет и смс."
   ]
  },
  {
   "cell_type": "code",
   "execution_count": 70,
   "metadata": {},
   "outputs": [
    {
     "data": {
      "image/png": "[encoded data removed]",
      "text/plain": [
       "<Figure size 432x432 with 1 Axes>"
      ]
     },
     "metadata": {
      "needs_background": "light"
     },
     "output_type": "display_data"
    }
   ],
   "source": [
    "df[df['tariff'] == 'ultra'].plot(kind='scatter',\n",
    "                                 figsize=(6, 6),\n",
    "                                 x='month',\n",
    "                                 y='message_count',\n",
    "                                 alpha=0.1);"
   ]
  },
  {
   "cell_type": "code",
   "execution_count": 71,
   "metadata": {},
   "outputs": [
    {
     "data": {
      "image/png": "[encoded data removed]",
      "text/plain": [
       "<Figure size 432x432 with 1 Axes>"
      ]
     },
     "metadata": {
      "needs_background": "light"
     },
     "output_type": "display_data"
    }
   ],
   "source": [
    "df[df['tariff'] == 'ultra'].plot(kind='scatter',\n",
    "                                 figsize=(6, 6),\n",
    "                                 x='month',\n",
    "                                 y='gb_used',\n",
    "                                 alpha=0.1);"
   ]
  },
  {
   "cell_type": "markdown",
   "metadata": {},
   "source": [
    "Те же самые выводы."
   ]
  },
  {
   "cell_type": "markdown",
   "metadata": {},
   "source": [
    "## Проверка гипотез"
   ]
  },
  {
   "cell_type": "markdown",
   "metadata": {},
   "source": [
    "Так как мы сейчас будем сравнивать две выборки абонентов из генеральной совокупности, то будем использовать метод для проверки гипотез о равенстве среднего двух генеральных совокупностей по взятым из них выборкам."
   ]
  },
  {
   "cell_type": "code",
   "execution_count": 72,
   "metadata": {},
   "outputs": [],
   "source": [
    "alpha = 0.05"
   ]
  },
  {
   "cell_type": "markdown",
   "metadata": {},
   "source": [
    "Думаю, что 5% для нас вполне достаточно"
   ]
  },
  {
   "cell_type": "markdown",
   "metadata": {},
   "source": [
    "#### Нулевая гипотеза: средняя выручка пользователей тарифов smart и ultra равны\n",
    "#### Альтернативная гипотеза: средняя выручка пользователей тарифов smart и ultra значимо различаются"
   ]
  },
  {
   "cell_type": "code",
   "execution_count": 73,
   "metadata": {},
   "outputs": [],
   "source": [
    "def equal_hypothesis(data_1, data_2, column): # функция проверки гипотезы о равенстве средних двух выборок\n",
    "    if data_2[column].var() * 0.95 <= data_1[column].var() <= data_2[column].var() * 1.05: # равны ли дисперсии примерно\n",
    "        equal_var = True\n",
    "    else:\n",
    "        equal_var = False\n",
    "    results = st.ttest_ind(data_1[column],\n",
    "                           data_2[column],\n",
    "                           equal_var=equal_var)\n",
    "    if results.pvalue < alpha:\n",
    "        print('p-value = {}. Отвергаем нулевую гипотезу'.format(results.pvalue))\n",
    "    else:\n",
    "        print('p-value = {}. Не получилось отвергнуть нулевую гипотезу'.format(results.pvalue)) "
   ]
  },
  {
   "cell_type": "code",
   "execution_count": 74,
   "metadata": {},
   "outputs": [
    {
     "name": "stdout",
     "output_type": "stream",
     "text": [
      "p-value = 5.359784422326041e-250. Отвергаем нулевую гипотезу\n"
     ]
    }
   ],
   "source": [
    "equal_hypothesis(df[df['tariff'] == 'smart'], df[df['tariff'] == 'ultra'], 'profit')"
   ]
  },
  {
   "cell_type": "markdown",
   "metadata": {},
   "source": [
    "Полученное значение p-value очень мало. Значит мы можем сказать, что выручка пользователей тарифов smart и ultra значимо различается."
   ]
  },
  {
   "cell_type": "markdown",
   "metadata": {},
   "source": [
    "#### Нулевая гипотеза: средняя выручка пользователей из Москвы равна выручке пользователей из других регионов\n",
    "#### Альтернативная гипотеза: средняя выручка пользователей из Москвы и пользователей из других регионов значимо различаются"
   ]
  },
  {
   "cell_type": "code",
   "execution_count": 75,
   "metadata": {},
   "outputs": [
    {
     "name": "stdout",
     "output_type": "stream",
     "text": [
      "p-value = 0.5297020783885258. Не получилось отвергнуть нулевую гипотезу\n"
     ]
    }
   ],
   "source": [
    "equal_hypothesis(df[df['city'] == 'Москва'], df[df['city'] != 'Москва'], 'profit')"
   ]
  },
  {
   "cell_type": "markdown",
   "metadata": {},
   "source": [
    "Полученное значение p-value больше, чем альфа. Значит мы можем сказать, что выручка пользователей из Москвы и регионов действительно одинаковая."
   ]
  },
  {
   "cell_type": "markdown",
   "metadata": {},
   "source": [
    "## Вывод"
   ]
  },
  {
   "cell_type": "markdown",
   "metadata": {},
   "source": [
    "Мы загрузили, предобработали и соединили несколько маленьких датафреймов в единый. Расчитали ежемесячную выручку. Провели анализ данных, где выяснили, что абонентов на тарифе smart значительно больше, чем абонентов на тарифе ultra. Абоненты smart в среднем расходуют меньше траффика, минут и смс, чем абоненты ultra, но при этом чаще выходят за пределы своих лимитов, что дает выручку больше, чем тарифные 550 рублей, но все еще значимо меньшую, чем абоненты тарифа ultra. Кроме того, мы узнали, что выручка абонентов из Москвы и других регионов не отличается значимо."
   ]
  }
 ],
 "metadata": {
  "ExecuteTimeLog": [
   {
    "duration": 6,
    "start_time": "2021-10-07T10:08:35.809Z"
   },
   {
    "duration": 135,
    "start_time": "2021-10-07T10:08:48.239Z"
   },
   {
    "duration": 1485,
    "start_time": "2021-10-07T10:22:08.365Z"
   },
   {
    "duration": 530,
    "start_time": "2021-10-07T10:24:45.024Z"
   },
   {
    "duration": 14,
    "start_time": "2021-10-07T10:25:34.269Z"
   },
   {
    "duration": 12,
    "start_time": "2021-10-07T10:25:35.247Z"
   },
   {
    "duration": 11,
    "start_time": "2021-10-07T10:25:36.059Z"
   },
   {
    "duration": 13,
    "start_time": "2021-10-07T10:25:39.001Z"
   },
   {
    "duration": 15,
    "start_time": "2021-10-07T10:25:39.863Z"
   },
   {
    "duration": 545,
    "start_time": "2021-10-07T10:28:26.751Z"
   },
   {
    "duration": 17,
    "start_time": "2021-10-07T10:28:30.906Z"
   },
   {
    "duration": 694,
    "start_time": "2021-10-07T10:28:58.895Z"
   },
   {
    "duration": 576,
    "start_time": "2021-10-07T10:29:06.652Z"
   },
   {
    "duration": 11,
    "start_time": "2021-10-07T10:29:10.263Z"
   },
   {
    "duration": 541,
    "start_time": "2021-10-07T10:29:18.226Z"
   },
   {
    "duration": 11,
    "start_time": "2021-10-07T10:29:20.542Z"
   },
   {
    "duration": 544,
    "start_time": "2021-10-07T10:29:28.198Z"
   },
   {
    "duration": 12,
    "start_time": "2021-10-07T10:29:31.200Z"
   },
   {
    "duration": 552,
    "start_time": "2021-10-07T10:29:41.070Z"
   },
   {
    "duration": 11,
    "start_time": "2021-10-07T10:29:50.122Z"
   },
   {
    "duration": 532,
    "start_time": "2021-10-07T10:30:33.605Z"
   },
   {
    "duration": 24,
    "start_time": "2021-10-07T10:30:47.665Z"
   },
   {
    "duration": 16,
    "start_time": "2021-10-07T10:31:37.812Z"
   },
   {
    "duration": 23,
    "start_time": "2021-10-07T10:31:48.206Z"
   },
   {
    "duration": 529,
    "start_time": "2021-10-07T10:31:55.384Z"
   },
   {
    "duration": 17,
    "start_time": "2021-10-07T10:32:02.242Z"
   },
   {
    "duration": 30,
    "start_time": "2021-10-07T10:34:34.590Z"
   },
   {
    "duration": 26,
    "start_time": "2021-10-07T10:35:00.644Z"
   },
   {
    "duration": 22,
    "start_time": "2021-10-07T10:35:40.731Z"
   },
   {
    "duration": 19,
    "start_time": "2021-10-07T10:35:56.686Z"
   },
   {
    "duration": 11,
    "start_time": "2021-10-07T10:36:09.989Z"
   },
   {
    "duration": 10,
    "start_time": "2021-10-07T10:36:28.665Z"
   },
   {
    "duration": 6,
    "start_time": "2021-10-07T10:43:52.265Z"
   },
   {
    "duration": 6,
    "start_time": "2021-10-07T10:44:15.331Z"
   },
   {
    "duration": 6,
    "start_time": "2021-10-07T10:44:31.070Z"
   },
   {
    "duration": 6,
    "start_time": "2021-10-07T10:44:46.898Z"
   },
   {
    "duration": 308,
    "start_time": "2021-10-07T10:45:07.968Z"
   },
   {
    "duration": 6,
    "start_time": "2021-10-07T10:45:12.924Z"
   },
   {
    "duration": 17,
    "start_time": "2021-10-07T11:15:46.972Z"
   },
   {
    "duration": 256,
    "start_time": "2021-10-07T12:12:02.910Z"
   },
   {
    "duration": 8,
    "start_time": "2021-10-07T12:12:07.500Z"
   },
   {
    "duration": 9,
    "start_time": "2021-10-07T12:12:38.394Z"
   },
   {
    "duration": 12,
    "start_time": "2021-10-07T12:20:50.450Z"
   },
   {
    "duration": 38,
    "start_time": "2021-10-07T12:22:33.605Z"
   },
   {
    "duration": 12,
    "start_time": "2021-10-07T12:22:48.014Z"
   },
   {
    "duration": 20,
    "start_time": "2021-10-07T12:22:53.487Z"
   },
   {
    "duration": 279,
    "start_time": "2021-10-07T12:24:46.791Z"
   },
   {
    "duration": 399,
    "start_time": "2021-10-07T12:25:59.234Z"
   },
   {
    "duration": 399,
    "start_time": "2021-10-07T12:26:59.644Z"
   },
   {
    "duration": 827,
    "start_time": "2021-10-07T12:27:04.948Z"
   },
   {
    "duration": 358,
    "start_time": "2021-10-07T12:28:30.897Z"
   },
   {
    "duration": 305,
    "start_time": "2021-10-07T12:28:42.673Z"
   },
   {
    "duration": 5,
    "start_time": "2021-10-07T12:30:19.573Z"
   },
   {
    "duration": 21,
    "start_time": "2021-10-07T12:30:21.318Z"
   },
   {
    "duration": 12,
    "start_time": "2021-10-07T12:30:38.717Z"
   },
   {
    "duration": 6,
    "start_time": "2021-10-07T12:30:50.433Z"
   },
   {
    "duration": 21,
    "start_time": "2021-10-07T12:30:51.727Z"
   },
   {
    "duration": 12,
    "start_time": "2021-10-07T12:30:56.157Z"
   },
   {
    "duration": 11,
    "start_time": "2021-10-07T12:33:32.235Z"
   },
   {
    "duration": 28,
    "start_time": "2021-10-07T12:34:10.315Z"
   },
   {
    "duration": 12,
    "start_time": "2021-10-07T12:34:12.481Z"
   },
   {
    "duration": 18,
    "start_time": "2021-10-07T12:34:14.137Z"
   },
   {
    "duration": 11,
    "start_time": "2021-10-07T12:34:51.293Z"
   },
   {
    "duration": 19,
    "start_time": "2021-10-07T12:35:05.788Z"
   },
   {
    "duration": 24,
    "start_time": "2021-10-07T12:35:42.026Z"
   },
   {
    "duration": 10,
    "start_time": "2021-10-07T12:35:46.202Z"
   },
   {
    "duration": 16,
    "start_time": "2021-10-07T12:35:50.888Z"
   },
   {
    "duration": 16,
    "start_time": "2021-10-07T12:36:35.963Z"
   },
   {
    "duration": 9,
    "start_time": "2021-10-07T12:36:43.680Z"
   },
   {
    "duration": 6,
    "start_time": "2021-10-07T12:37:26.667Z"
   },
   {
    "duration": 15,
    "start_time": "2021-10-07T12:37:29.489Z"
   },
   {
    "duration": 9,
    "start_time": "2021-10-07T12:37:32.003Z"
   },
   {
    "duration": 4,
    "start_time": "2021-10-07T12:40:01.347Z"
   },
   {
    "duration": 1531,
    "start_time": "2021-10-07T12:43:10.324Z"
   },
   {
    "duration": 529,
    "start_time": "2021-10-07T12:43:13.274Z"
   },
   {
    "duration": 18,
    "start_time": "2021-10-07T12:43:17.040Z"
   },
   {
    "duration": 6,
    "start_time": "2021-10-07T12:43:18.135Z"
   },
   {
    "duration": 29,
    "start_time": "2021-10-07T12:43:19.911Z"
   },
   {
    "duration": 12,
    "start_time": "2021-10-07T12:43:20.741Z"
   },
   {
    "duration": 5,
    "start_time": "2021-10-07T12:43:21.328Z"
   },
   {
    "duration": 23,
    "start_time": "2021-10-07T12:43:22.901Z"
   },
   {
    "duration": 10,
    "start_time": "2021-10-07T12:43:23.484Z"
   },
   {
    "duration": 6,
    "start_time": "2021-10-07T12:43:24.291Z"
   },
   {
    "duration": 20,
    "start_time": "2021-10-07T12:43:25.993Z"
   },
   {
    "duration": 12,
    "start_time": "2021-10-07T12:43:26.509Z"
   },
   {
    "duration": 6,
    "start_time": "2021-10-07T12:43:26.989Z"
   },
   {
    "duration": 9,
    "start_time": "2021-10-07T12:43:28.790Z"
   },
   {
    "duration": 14,
    "start_time": "2021-10-07T12:43:29.328Z"
   },
   {
    "duration": 6,
    "start_time": "2021-10-07T12:43:29.765Z"
   },
   {
    "duration": 9,
    "start_time": "2021-10-07T12:43:31.094Z"
   },
   {
    "duration": 5,
    "start_time": "2021-10-07T12:43:35.923Z"
   },
   {
    "duration": 104,
    "start_time": "2021-10-07T12:43:36.968Z"
   },
   {
    "duration": 7,
    "start_time": "2021-10-07T12:43:44.547Z"
   },
   {
    "duration": 4,
    "start_time": "2021-10-07T12:46:27.116Z"
   },
   {
    "duration": 5,
    "start_time": "2021-10-07T12:47:03.846Z"
   },
   {
    "duration": 30,
    "start_time": "2021-10-07T12:47:36.036Z"
   },
   {
    "duration": 6,
    "start_time": "2021-10-07T12:48:09.305Z"
   },
   {
    "duration": 20,
    "start_time": "2021-10-07T12:48:37.375Z"
   },
   {
    "duration": 11,
    "start_time": "2021-10-07T12:48:47.929Z"
   },
   {
    "duration": 1596,
    "start_time": "2021-10-07T12:49:49.852Z"
   },
   {
    "duration": 536,
    "start_time": "2021-10-07T12:49:52.540Z"
   },
   {
    "duration": 15,
    "start_time": "2021-10-07T12:49:54.062Z"
   },
   {
    "duration": 5,
    "start_time": "2021-10-07T12:49:54.732Z"
   },
   {
    "duration": 29,
    "start_time": "2021-10-07T12:49:55.256Z"
   },
   {
    "duration": 12,
    "start_time": "2021-10-07T12:49:55.736Z"
   },
   {
    "duration": 5,
    "start_time": "2021-10-07T12:49:57.096Z"
   },
   {
    "duration": 24,
    "start_time": "2021-10-07T12:49:57.574Z"
   },
   {
    "duration": 11,
    "start_time": "2021-10-07T12:49:57.998Z"
   },
   {
    "duration": 5,
    "start_time": "2021-10-07T12:49:58.506Z"
   },
   {
    "duration": 21,
    "start_time": "2021-10-07T12:49:59.545Z"
   },
   {
    "duration": 11,
    "start_time": "2021-10-07T12:50:00.002Z"
   },
   {
    "duration": 5,
    "start_time": "2021-10-07T12:50:01.048Z"
   },
   {
    "duration": 9,
    "start_time": "2021-10-07T12:50:01.492Z"
   },
   {
    "duration": 15,
    "start_time": "2021-10-07T12:50:01.927Z"
   },
   {
    "duration": 5,
    "start_time": "2021-10-07T12:50:02.992Z"
   },
   {
    "duration": 9,
    "start_time": "2021-10-07T12:50:03.467Z"
   },
   {
    "duration": 3,
    "start_time": "2021-10-07T12:50:06.948Z"
   },
   {
    "duration": 5,
    "start_time": "2021-10-07T12:50:08.636Z"
   },
   {
    "duration": 100,
    "start_time": "2021-10-07T12:50:09.510Z"
   },
   {
    "duration": 7,
    "start_time": "2021-10-07T12:50:10.564Z"
   },
   {
    "duration": 6,
    "start_time": "2021-10-07T12:50:11.270Z"
   },
   {
    "duration": 16,
    "start_time": "2021-10-07T12:50:11.814Z"
   },
   {
    "duration": 10,
    "start_time": "2021-10-07T12:50:20.326Z"
   },
   {
    "duration": 136,
    "start_time": "2021-10-07T12:53:07.528Z"
   },
   {
    "duration": 17,
    "start_time": "2021-10-07T12:53:53.123Z"
   },
   {
    "duration": 92,
    "start_time": "2021-10-07T12:54:08.396Z"
   },
   {
    "duration": 20,
    "start_time": "2021-10-07T12:54:14.360Z"
   },
   {
    "duration": 15,
    "start_time": "2021-10-07T12:54:26.166Z"
   },
   {
    "duration": 107,
    "start_time": "2021-10-07T12:54:34.207Z"
   },
   {
    "duration": 1527,
    "start_time": "2021-10-07T13:00:06.633Z"
   },
   {
    "duration": 567,
    "start_time": "2021-10-07T13:00:09.390Z"
   },
   {
    "duration": 16,
    "start_time": "2021-10-07T13:00:11.074Z"
   },
   {
    "duration": 6,
    "start_time": "2021-10-07T13:00:11.678Z"
   },
   {
    "duration": 30,
    "start_time": "2021-10-07T13:00:12.732Z"
   },
   {
    "duration": 12,
    "start_time": "2021-10-07T13:00:13.306Z"
   },
   {
    "duration": 7,
    "start_time": "2021-10-07T13:00:14.210Z"
   },
   {
    "duration": 26,
    "start_time": "2021-10-07T13:00:15.045Z"
   },
   {
    "duration": 11,
    "start_time": "2021-10-07T13:00:15.706Z"
   },
   {
    "duration": 6,
    "start_time": "2021-10-07T13:00:16.328Z"
   },
   {
    "duration": 19,
    "start_time": "2021-10-07T13:00:17.262Z"
   },
   {
    "duration": 12,
    "start_time": "2021-10-07T13:00:17.844Z"
   },
   {
    "duration": 5,
    "start_time": "2021-10-07T13:00:18.638Z"
   },
   {
    "duration": 9,
    "start_time": "2021-10-07T13:00:19.165Z"
   },
   {
    "duration": 16,
    "start_time": "2021-10-07T13:00:20.114Z"
   },
   {
    "duration": 5,
    "start_time": "2021-10-07T13:00:20.995Z"
   },
   {
    "duration": 9,
    "start_time": "2021-10-07T13:00:21.666Z"
   },
   {
    "duration": 4,
    "start_time": "2021-10-07T13:00:43.606Z"
   },
   {
    "duration": 80,
    "start_time": "2021-10-07T13:03:04.920Z"
   },
   {
    "duration": 20,
    "start_time": "2021-10-07T13:03:06.832Z"
   },
   {
    "duration": 148,
    "start_time": "2021-10-07T13:03:20.738Z"
   },
   {
    "duration": 1471,
    "start_time": "2021-10-07T13:05:32.097Z"
   },
   {
    "duration": 554,
    "start_time": "2021-10-07T13:05:34.769Z"
   },
   {
    "duration": 16,
    "start_time": "2021-10-07T13:05:36.852Z"
   },
   {
    "duration": 5,
    "start_time": "2021-10-07T13:05:37.483Z"
   },
   {
    "duration": 29,
    "start_time": "2021-10-07T13:05:37.948Z"
   },
   {
    "duration": 13,
    "start_time": "2021-10-07T13:05:38.436Z"
   },
   {
    "duration": 6,
    "start_time": "2021-10-07T13:05:39.495Z"
   },
   {
    "duration": 22,
    "start_time": "2021-10-07T13:05:39.937Z"
   },
   {
    "duration": 10,
    "start_time": "2021-10-07T13:05:40.816Z"
   },
   {
    "duration": 6,
    "start_time": "2021-10-07T13:05:41.258Z"
   },
   {
    "duration": 21,
    "start_time": "2021-10-07T13:05:41.637Z"
   },
   {
    "duration": 12,
    "start_time": "2021-10-07T13:05:42.664Z"
   },
   {
    "duration": 6,
    "start_time": "2021-10-07T13:05:43.098Z"
   },
   {
    "duration": 8,
    "start_time": "2021-10-07T13:05:43.525Z"
   },
   {
    "duration": 16,
    "start_time": "2021-10-07T13:05:44.632Z"
   },
   {
    "duration": 6,
    "start_time": "2021-10-07T13:05:45.072Z"
   },
   {
    "duration": 9,
    "start_time": "2021-10-07T13:05:46.062Z"
   },
   {
    "duration": 507,
    "start_time": "2021-10-07T13:07:30.070Z"
   },
   {
    "duration": 17,
    "start_time": "2021-10-07T13:08:15.917Z"
   },
   {
    "duration": 28,
    "start_time": "2021-10-07T13:08:22.453Z"
   },
   {
    "duration": 70,
    "start_time": "2021-10-07T13:08:39.889Z"
   },
   {
    "duration": 26,
    "start_time": "2021-10-07T13:08:42.235Z"
   },
   {
    "duration": 72,
    "start_time": "2021-10-07T13:09:45.139Z"
   },
   {
    "duration": 70,
    "start_time": "2021-10-07T13:09:48.179Z"
   },
   {
    "duration": 1499,
    "start_time": "2021-10-07T13:15:09.054Z"
   },
   {
    "duration": 576,
    "start_time": "2021-10-07T13:15:11.285Z"
   },
   {
    "duration": 17,
    "start_time": "2021-10-07T13:15:12.429Z"
   },
   {
    "duration": 6,
    "start_time": "2021-10-07T13:15:13.460Z"
   },
   {
    "duration": 28,
    "start_time": "2021-10-07T13:15:14.088Z"
   },
   {
    "duration": 12,
    "start_time": "2021-10-07T13:15:14.668Z"
   },
   {
    "duration": 6,
    "start_time": "2021-10-07T13:15:15.653Z"
   },
   {
    "duration": 22,
    "start_time": "2021-10-07T13:15:16.199Z"
   },
   {
    "duration": 11,
    "start_time": "2021-10-07T13:15:16.736Z"
   },
   {
    "duration": 5,
    "start_time": "2021-10-07T13:15:17.721Z"
   },
   {
    "duration": 20,
    "start_time": "2021-10-07T13:15:18.225Z"
   },
   {
    "duration": 13,
    "start_time": "2021-10-07T13:15:18.715Z"
   },
   {
    "duration": 5,
    "start_time": "2021-10-07T13:15:19.886Z"
   },
   {
    "duration": 9,
    "start_time": "2021-10-07T13:15:20.429Z"
   },
   {
    "duration": 15,
    "start_time": "2021-10-07T13:15:21.055Z"
   },
   {
    "duration": 6,
    "start_time": "2021-10-07T13:15:22.612Z"
   },
   {
    "duration": 9,
    "start_time": "2021-10-07T13:15:24.061Z"
   },
   {
    "duration": 72,
    "start_time": "2021-10-07T13:15:28.056Z"
   },
   {
    "duration": 338,
    "start_time": "2021-10-07T13:18:45.659Z"
   },
   {
    "duration": 1560,
    "start_time": "2021-10-07T13:18:52.528Z"
   },
   {
    "duration": 561,
    "start_time": "2021-10-07T13:18:54.734Z"
   },
   {
    "duration": 16,
    "start_time": "2021-10-07T13:18:56.673Z"
   },
   {
    "duration": 139,
    "start_time": "2021-10-07T13:18:59.540Z"
   },
   {
    "duration": 5,
    "start_time": "2021-10-07T13:19:08.973Z"
   },
   {
    "duration": 28,
    "start_time": "2021-10-07T13:19:10.280Z"
   },
   {
    "duration": 11,
    "start_time": "2021-10-07T13:19:13.637Z"
   },
   {
    "duration": 6,
    "start_time": "2021-10-07T13:19:15.535Z"
   },
   {
    "duration": 23,
    "start_time": "2021-10-07T13:19:17.138Z"
   },
   {
    "duration": 65,
    "start_time": "2021-10-07T13:19:27.852Z"
   },
   {
    "duration": 10,
    "start_time": "2021-10-07T13:19:34.985Z"
   },
   {
    "duration": 5,
    "start_time": "2021-10-07T13:19:38.416Z"
   },
   {
    "duration": 19,
    "start_time": "2021-10-07T13:19:41.753Z"
   },
   {
    "duration": 66,
    "start_time": "2021-10-07T13:19:53.002Z"
   },
   {
    "duration": 13,
    "start_time": "2021-10-07T13:19:58.295Z"
   },
   {
    "duration": 5,
    "start_time": "2021-10-07T13:20:01.114Z"
   },
   {
    "duration": 10,
    "start_time": "2021-10-07T13:20:03.111Z"
   },
   {
    "duration": 15,
    "start_time": "2021-10-07T13:20:05.127Z"
   },
   {
    "duration": 5,
    "start_time": "2021-10-07T13:20:06.325Z"
   },
   {
    "duration": 10,
    "start_time": "2021-10-07T13:20:07.002Z"
   },
   {
    "duration": 10,
    "start_time": "2021-10-07T13:20:17.121Z"
   },
   {
    "duration": 4,
    "start_time": "2021-10-07T13:29:20.036Z"
   },
   {
    "duration": 1553,
    "start_time": "2021-10-07T13:29:29.725Z"
   },
   {
    "duration": 548,
    "start_time": "2021-10-07T13:29:32.482Z"
   },
   {
    "duration": 21,
    "start_time": "2021-10-07T13:29:34.361Z"
   },
   {
    "duration": 5,
    "start_time": "2021-10-07T13:29:35.072Z"
   },
   {
    "duration": 29,
    "start_time": "2021-10-07T13:29:36.903Z"
   },
   {
    "duration": 12,
    "start_time": "2021-10-07T13:29:37.544Z"
   },
   {
    "duration": 6,
    "start_time": "2021-10-07T13:29:38.192Z"
   },
   {
    "duration": 24,
    "start_time": "2021-10-07T13:29:49.408Z"
   },
   {
    "duration": 12,
    "start_time": "2021-10-07T13:29:50.046Z"
   },
   {
    "duration": 6,
    "start_time": "2021-10-07T13:29:57.884Z"
   },
   {
    "duration": 21,
    "start_time": "2021-10-07T13:30:00.756Z"
   },
   {
    "duration": 13,
    "start_time": "2021-10-07T13:30:01.468Z"
   },
   {
    "duration": 6,
    "start_time": "2021-10-07T13:30:02.062Z"
   },
   {
    "duration": 11,
    "start_time": "2021-10-07T13:30:03.103Z"
   },
   {
    "duration": 16,
    "start_time": "2021-10-07T13:30:03.674Z"
   },
   {
    "duration": 6,
    "start_time": "2021-10-07T13:30:04.728Z"
   },
   {
    "duration": 9,
    "start_time": "2021-10-07T13:30:05.627Z"
   },
   {
    "duration": 71,
    "start_time": "2021-10-07T13:30:12.043Z"
   },
   {
    "duration": 2059,
    "start_time": "2021-10-07T13:33:08.423Z"
   },
   {
    "duration": 283,
    "start_time": "2021-10-07T13:33:37.742Z"
   },
   {
    "duration": 30297,
    "start_time": "2021-10-07T13:36:48.017Z"
   },
   {
    "duration": 1028,
    "start_time": "2021-10-07T13:37:21.780Z"
   },
   {
    "duration": 309,
    "start_time": "2021-10-07T13:37:41.836Z"
   },
   {
    "duration": 4,
    "start_time": "2021-10-07T13:38:00.160Z"
   },
   {
    "duration": 270,
    "start_time": "2021-10-07T13:38:04.256Z"
   },
   {
    "duration": 3248,
    "start_time": "2021-10-07T13:39:03.211Z"
   },
   {
    "duration": 328,
    "start_time": "2021-10-07T13:39:11.343Z"
   },
   {
    "duration": 1990,
    "start_time": "2021-10-07T13:39:41.741Z"
   },
   {
    "duration": 3802,
    "start_time": "2021-10-07T13:41:49.641Z"
   },
   {
    "duration": 1670,
    "start_time": "2021-10-07T13:42:03.617Z"
   },
   {
    "duration": 628,
    "start_time": "2021-10-07T13:42:11.002Z"
   },
   {
    "duration": 475,
    "start_time": "2021-10-07T13:42:28.859Z"
   },
   {
    "duration": 528,
    "start_time": "2021-10-07T13:42:39.049Z"
   },
   {
    "duration": 17,
    "start_time": "2021-10-07T13:42:40.933Z"
   },
   {
    "duration": 5,
    "start_time": "2021-10-07T13:42:41.713Z"
   },
   {
    "duration": 35,
    "start_time": "2021-10-07T13:42:42.636Z"
   },
   {
    "duration": 12,
    "start_time": "2021-10-07T13:42:43.209Z"
   },
   {
    "duration": 6,
    "start_time": "2021-10-07T13:42:44.057Z"
   },
   {
    "duration": 30,
    "start_time": "2021-10-07T13:42:44.535Z"
   },
   {
    "duration": 11,
    "start_time": "2021-10-07T13:42:45.006Z"
   },
   {
    "duration": 6,
    "start_time": "2021-10-07T13:42:45.452Z"
   },
   {
    "duration": 25,
    "start_time": "2021-10-07T13:42:47.340Z"
   },
   {
    "duration": 13,
    "start_time": "2021-10-07T13:42:47.821Z"
   },
   {
    "duration": 6,
    "start_time": "2021-10-07T13:42:48.273Z"
   },
   {
    "duration": 14,
    "start_time": "2021-10-07T13:42:59.085Z"
   },
   {
    "duration": 16,
    "start_time": "2021-10-07T13:43:04.681Z"
   },
   {
    "duration": 7,
    "start_time": "2021-10-07T13:43:05.849Z"
   },
   {
    "duration": 15,
    "start_time": "2021-10-07T13:43:07.370Z"
   },
   {
    "duration": 73,
    "start_time": "2021-10-07T13:43:16.682Z"
   },
   {
    "duration": 2543,
    "start_time": "2021-10-07T13:43:42.495Z"
   },
   {
    "duration": 3316,
    "start_time": "2021-10-07T13:44:31.008Z"
   },
   {
    "duration": 3178,
    "start_time": "2021-10-07T13:45:03.196Z"
   },
   {
    "duration": 4,
    "start_time": "2021-10-07T13:45:12.427Z"
   },
   {
    "duration": 1637,
    "start_time": "2021-10-07T13:45:22.420Z"
   },
   {
    "duration": 4,
    "start_time": "2021-10-07T13:45:32.652Z"
   },
   {
    "duration": 537,
    "start_time": "2021-10-07T13:45:34.222Z"
   },
   {
    "duration": 20,
    "start_time": "2021-10-07T13:45:35.546Z"
   },
   {
    "duration": 6,
    "start_time": "2021-10-07T13:45:36.560Z"
   },
   {
    "duration": 47,
    "start_time": "2021-10-07T13:45:38.363Z"
   },
   {
    "duration": 11,
    "start_time": "2021-10-07T13:45:44.244Z"
   },
   {
    "duration": 5,
    "start_time": "2021-10-07T13:45:45.674Z"
   },
   {
    "duration": 29,
    "start_time": "2021-10-07T13:45:46.698Z"
   },
   {
    "duration": 12,
    "start_time": "2021-10-07T13:45:47.784Z"
   },
   {
    "duration": 5,
    "start_time": "2021-10-07T13:45:49.493Z"
   },
   {
    "duration": 27,
    "start_time": "2021-10-07T13:45:50.107Z"
   },
   {
    "duration": 12,
    "start_time": "2021-10-07T13:45:50.711Z"
   },
   {
    "duration": 5,
    "start_time": "2021-10-07T13:45:51.795Z"
   },
   {
    "duration": 13,
    "start_time": "2021-10-07T13:45:52.415Z"
   },
   {
    "duration": 14,
    "start_time": "2021-10-07T13:45:53.039Z"
   },
   {
    "duration": 6,
    "start_time": "2021-10-07T13:45:54.638Z"
   },
   {
    "duration": 14,
    "start_time": "2021-10-07T13:45:57.647Z"
   },
   {
    "duration": 4,
    "start_time": "2021-10-07T13:52:48.707Z"
   },
   {
    "duration": 6,
    "start_time": "2021-10-07T13:52:52.439Z"
   },
   {
    "duration": 781,
    "start_time": "2021-10-07T13:52:54.807Z"
   },
   {
    "duration": 4,
    "start_time": "2021-10-07T13:53:12.479Z"
   },
   {
    "duration": 83,
    "start_time": "2021-10-07T13:53:15.712Z"
   },
   {
    "duration": 7,
    "start_time": "2021-10-07T13:53:19.641Z"
   },
   {
    "duration": 24,
    "start_time": "2021-10-07T13:53:32.990Z"
   },
   {
    "duration": 5,
    "start_time": "2021-10-07T13:54:03.060Z"
   },
   {
    "duration": 114,
    "start_time": "2021-10-07T14:00:28.532Z"
   },
   {
    "duration": 2599,
    "start_time": "2021-10-07T14:06:08.077Z"
   },
   {
    "duration": 4,
    "start_time": "2021-10-07T14:06:16.851Z"
   },
   {
    "duration": 1179,
    "start_time": "2021-10-07T14:06:18.543Z"
   },
   {
    "duration": 22,
    "start_time": "2021-10-07T14:06:20.585Z"
   },
   {
    "duration": 7,
    "start_time": "2021-10-07T14:06:21.856Z"
   },
   {
    "duration": 44,
    "start_time": "2021-10-07T14:06:22.557Z"
   },
   {
    "duration": 12,
    "start_time": "2021-10-07T14:06:24.309Z"
   },
   {
    "duration": 5,
    "start_time": "2021-10-07T14:06:25.303Z"
   },
   {
    "duration": 29,
    "start_time": "2021-10-07T14:06:26.493Z"
   },
   {
    "duration": 12,
    "start_time": "2021-10-07T14:06:27.089Z"
   },
   {
    "duration": 6,
    "start_time": "2021-10-07T14:06:27.553Z"
   },
   {
    "duration": 27,
    "start_time": "2021-10-07T14:06:28.775Z"
   },
   {
    "duration": 11,
    "start_time": "2021-10-07T14:06:29.281Z"
   },
   {
    "duration": 6,
    "start_time": "2021-10-07T14:06:32.125Z"
   },
   {
    "duration": 14,
    "start_time": "2021-10-07T14:06:32.692Z"
   },
   {
    "duration": 14,
    "start_time": "2021-10-07T14:06:34.234Z"
   },
   {
    "duration": 6,
    "start_time": "2021-10-07T14:06:35.317Z"
   },
   {
    "duration": 16,
    "start_time": "2021-10-07T14:06:35.885Z"
   },
   {
    "duration": 12,
    "start_time": "2021-10-07T14:07:26.192Z"
   },
   {
    "duration": 4,
    "start_time": "2021-10-07T14:08:24.670Z"
   },
   {
    "duration": 5,
    "start_time": "2021-10-07T14:08:31.333Z"
   },
   {
    "duration": 102,
    "start_time": "2021-10-07T14:08:33.544Z"
   },
   {
    "duration": 6,
    "start_time": "2021-10-07T14:08:37.877Z"
   },
   {
    "duration": 5,
    "start_time": "2021-10-07T14:08:41.818Z"
   },
   {
    "duration": 13,
    "start_time": "2021-10-07T14:09:26.419Z"
   },
   {
    "duration": 12,
    "start_time": "2021-10-07T14:09:53.976Z"
   },
   {
    "duration": 10,
    "start_time": "2021-10-07T14:09:55.729Z"
   },
   {
    "duration": 9,
    "start_time": "2021-10-07T14:09:57.481Z"
   },
   {
    "duration": 26,
    "start_time": "2021-10-07T14:10:25.225Z"
   },
   {
    "duration": 34,
    "start_time": "2021-10-07T14:10:35.053Z"
   },
   {
    "duration": 22,
    "start_time": "2021-10-07T14:10:42.834Z"
   },
   {
    "duration": 8,
    "start_time": "2021-10-07T14:10:46.699Z"
   },
   {
    "duration": 44,
    "start_time": "2021-10-07T14:16:38.686Z"
   },
   {
    "duration": 26,
    "start_time": "2021-10-07T14:16:46.288Z"
   },
   {
    "duration": 1667,
    "start_time": "2021-10-07T14:18:22.468Z"
   },
   {
    "duration": 4,
    "start_time": "2021-10-07T14:18:25.904Z"
   },
   {
    "duration": 536,
    "start_time": "2021-10-07T14:18:26.792Z"
   },
   {
    "duration": 16,
    "start_time": "2021-10-07T14:18:28.384Z"
   },
   {
    "duration": 6,
    "start_time": "2021-10-07T14:18:29.227Z"
   },
   {
    "duration": 35,
    "start_time": "2021-10-07T14:18:29.886Z"
   },
   {
    "duration": 12,
    "start_time": "2021-10-07T14:18:30.666Z"
   },
   {
    "duration": 6,
    "start_time": "2021-10-07T14:18:31.760Z"
   },
   {
    "duration": 30,
    "start_time": "2021-10-07T14:18:32.324Z"
   },
   {
    "duration": 12,
    "start_time": "2021-10-07T14:18:32.904Z"
   },
   {
    "duration": 5,
    "start_time": "2021-10-07T14:18:33.380Z"
   },
   {
    "duration": 28,
    "start_time": "2021-10-07T14:18:34.726Z"
   },
   {
    "duration": 11,
    "start_time": "2021-10-07T14:18:35.248Z"
   },
   {
    "duration": 5,
    "start_time": "2021-10-07T14:18:35.714Z"
   },
   {
    "duration": 14,
    "start_time": "2021-10-07T14:18:36.650Z"
   },
   {
    "duration": 16,
    "start_time": "2021-10-07T14:18:37.117Z"
   },
   {
    "duration": 5,
    "start_time": "2021-10-07T14:18:38.382Z"
   },
   {
    "duration": 15,
    "start_time": "2021-10-07T14:18:39.008Z"
   },
   {
    "duration": 4,
    "start_time": "2021-10-07T14:19:07.018Z"
   },
   {
    "duration": 5,
    "start_time": "2021-10-07T14:19:09.134Z"
   },
   {
    "duration": 3814,
    "start_time": "2021-10-07T14:19:12.054Z"
   },
   {
    "duration": 64,
    "start_time": "2021-10-07T14:20:46.395Z"
   },
   {
    "duration": 6,
    "start_time": "2021-10-07T14:20:47.903Z"
   },
   {
    "duration": 4,
    "start_time": "2021-10-07T14:20:50.968Z"
   },
   {
    "duration": 75,
    "start_time": "2021-10-07T14:22:25.392Z"
   },
   {
    "duration": 15,
    "start_time": "2021-10-07T14:23:01.347Z"
   },
   {
    "duration": 9,
    "start_time": "2021-10-07T14:25:32.789Z"
   },
   {
    "duration": 7,
    "start_time": "2021-10-07T14:25:46.460Z"
   },
   {
    "duration": 7,
    "start_time": "2021-10-07T14:25:54.452Z"
   },
   {
    "duration": 16,
    "start_time": "2021-10-07T14:26:14.963Z"
   },
   {
    "duration": 427,
    "start_time": "2021-10-07T14:27:02.605Z"
   },
   {
    "duration": 15,
    "start_time": "2021-10-07T14:27:26.727Z"
   },
   {
    "duration": 7,
    "start_time": "2021-10-07T14:30:23.730Z"
   },
   {
    "duration": 17,
    "start_time": "2021-10-07T14:30:35.851Z"
   },
   {
    "duration": 8,
    "start_time": "2021-10-07T14:30:56.830Z"
   },
   {
    "duration": 1614,
    "start_time": "2021-10-07T14:32:57.926Z"
   },
   {
    "duration": 4,
    "start_time": "2021-10-07T14:33:01.352Z"
   },
   {
    "duration": 555,
    "start_time": "2021-10-07T14:33:02.314Z"
   },
   {
    "duration": 18,
    "start_time": "2021-10-07T14:33:03.916Z"
   },
   {
    "duration": 6,
    "start_time": "2021-10-07T14:33:04.854Z"
   },
   {
    "duration": 35,
    "start_time": "2021-10-07T14:33:05.484Z"
   },
   {
    "duration": 12,
    "start_time": "2021-10-07T14:33:06.458Z"
   },
   {
    "duration": 6,
    "start_time": "2021-10-07T14:33:07.144Z"
   },
   {
    "duration": 33,
    "start_time": "2021-10-07T14:33:08.554Z"
   },
   {
    "duration": 12,
    "start_time": "2021-10-07T14:33:09.304Z"
   },
   {
    "duration": 5,
    "start_time": "2021-10-07T14:33:10.646Z"
   },
   {
    "duration": 27,
    "start_time": "2021-10-07T14:33:11.502Z"
   },
   {
    "duration": 12,
    "start_time": "2021-10-07T14:33:12.482Z"
   },
   {
    "duration": 6,
    "start_time": "2021-10-07T14:33:13.038Z"
   },
   {
    "duration": 14,
    "start_time": "2021-10-07T14:33:13.526Z"
   },
   {
    "duration": 16,
    "start_time": "2021-10-07T14:33:14.694Z"
   },
   {
    "duration": 6,
    "start_time": "2021-10-07T14:33:15.090Z"
   },
   {
    "duration": 13,
    "start_time": "2021-10-07T14:33:16.479Z"
   },
   {
    "duration": 6,
    "start_time": "2021-10-07T14:33:23.052Z"
   },
   {
    "duration": 1219,
    "start_time": "2021-10-07T14:33:24.970Z"
   },
   {
    "duration": 14,
    "start_time": "2021-10-07T14:33:47.476Z"
   },
   {
    "duration": 50,
    "start_time": "2021-10-07T14:34:09.656Z"
   },
   {
    "duration": 1403,
    "start_time": "2021-10-07T14:34:35.268Z"
   },
   {
    "duration": 12,
    "start_time": "2021-10-07T14:34:38.813Z"
   },
   {
    "duration": 34,
    "start_time": "2021-10-07T14:34:43.551Z"
   },
   {
    "duration": 1542,
    "start_time": "2021-10-07T14:34:56.812Z"
   },
   {
    "duration": 4,
    "start_time": "2021-10-07T14:34:59.295Z"
   },
   {
    "duration": 555,
    "start_time": "2021-10-07T14:35:00.866Z"
   },
   {
    "duration": 16,
    "start_time": "2021-10-07T14:35:02.017Z"
   },
   {
    "duration": 7,
    "start_time": "2021-10-07T14:35:02.661Z"
   },
   {
    "duration": 35,
    "start_time": "2021-10-07T14:35:03.268Z"
   },
   {
    "duration": 13,
    "start_time": "2021-10-07T14:35:04.125Z"
   },
   {
    "duration": 6,
    "start_time": "2021-10-07T14:35:04.721Z"
   },
   {
    "duration": 31,
    "start_time": "2021-10-07T14:35:05.268Z"
   },
   {
    "duration": 12,
    "start_time": "2021-10-07T14:35:06.276Z"
   },
   {
    "duration": 6,
    "start_time": "2021-10-07T14:35:07.045Z"
   },
   {
    "duration": 27,
    "start_time": "2021-10-07T14:35:07.557Z"
   },
   {
    "duration": 12,
    "start_time": "2021-10-07T14:35:08.078Z"
   },
   {
    "duration": 6,
    "start_time": "2021-10-07T14:35:09.057Z"
   },
   {
    "duration": 13,
    "start_time": "2021-10-07T14:35:09.600Z"
   },
   {
    "duration": 15,
    "start_time": "2021-10-07T14:35:10.592Z"
   },
   {
    "duration": 5,
    "start_time": "2021-10-07T14:35:11.196Z"
   },
   {
    "duration": 15,
    "start_time": "2021-10-07T14:35:12.349Z"
   },
   {
    "duration": 4,
    "start_time": "2021-10-07T14:35:25.276Z"
   },
   {
    "duration": 1288,
    "start_time": "2021-10-07T14:35:26.642Z"
   },
   {
    "duration": 7,
    "start_time": "2021-10-07T14:35:50.504Z"
   },
   {
    "duration": 5,
    "start_time": "2021-10-07T14:35:52.318Z"
   },
   {
    "duration": 35,
    "start_time": "2021-10-07T14:37:55.644Z"
   },
   {
    "duration": 1005,
    "start_time": "2021-10-07T14:41:39.440Z"
   },
   {
    "duration": 1524,
    "start_time": "2021-10-07T14:42:10.282Z"
   },
   {
    "duration": 35,
    "start_time": "2021-10-07T14:42:19.992Z"
   },
   {
    "duration": 1629,
    "start_time": "2021-10-07T14:49:14.828Z"
   },
   {
    "duration": 4,
    "start_time": "2021-10-07T14:49:17.429Z"
   },
   {
    "duration": 533,
    "start_time": "2021-10-07T14:49:18.494Z"
   },
   {
    "duration": 17,
    "start_time": "2021-10-07T14:49:19.644Z"
   },
   {
    "duration": 6,
    "start_time": "2021-10-07T14:49:20.794Z"
   },
   {
    "duration": 38,
    "start_time": "2021-10-07T14:49:21.320Z"
   },
   {
    "duration": 13,
    "start_time": "2021-10-07T14:49:21.866Z"
   },
   {
    "duration": 6,
    "start_time": "2021-10-07T14:49:23.020Z"
   },
   {
    "duration": 31,
    "start_time": "2021-10-07T14:49:23.466Z"
   },
   {
    "duration": 12,
    "start_time": "2021-10-07T14:49:23.924Z"
   },
   {
    "duration": 7,
    "start_time": "2021-10-07T14:49:24.378Z"
   },
   {
    "duration": 28,
    "start_time": "2021-10-07T14:49:25.670Z"
   },
   {
    "duration": 15,
    "start_time": "2021-10-07T14:49:26.215Z"
   },
   {
    "duration": 6,
    "start_time": "2021-10-07T14:49:26.646Z"
   },
   {
    "duration": 14,
    "start_time": "2021-10-07T14:49:27.642Z"
   },
   {
    "duration": 15,
    "start_time": "2021-10-07T14:49:28.108Z"
   },
   {
    "duration": 6,
    "start_time": "2021-10-07T14:49:28.614Z"
   },
   {
    "duration": 14,
    "start_time": "2021-10-07T14:49:29.692Z"
   },
   {
    "duration": 5,
    "start_time": "2021-10-07T14:49:35.041Z"
   },
   {
    "duration": 1294,
    "start_time": "2021-10-07T14:49:36.915Z"
   },
   {
    "duration": 136,
    "start_time": "2021-10-07T14:49:46.082Z"
   },
   {
    "duration": 5,
    "start_time": "2021-10-07T14:49:49.895Z"
   },
   {
    "duration": 5,
    "start_time": "2021-10-07T14:49:51.140Z"
   },
   {
    "duration": 12,
    "start_time": "2021-10-07T14:49:52.443Z"
   },
   {
    "duration": 1562,
    "start_time": "2021-10-07T14:51:58.097Z"
   },
   {
    "duration": 4,
    "start_time": "2021-10-07T14:52:01.049Z"
   },
   {
    "duration": 527,
    "start_time": "2021-10-07T14:52:01.933Z"
   },
   {
    "duration": 17,
    "start_time": "2021-10-07T14:52:03.178Z"
   },
   {
    "duration": 5,
    "start_time": "2021-10-07T14:52:03.895Z"
   },
   {
    "duration": 36,
    "start_time": "2021-10-07T14:52:04.741Z"
   },
   {
    "duration": 11,
    "start_time": "2021-10-07T14:52:05.357Z"
   },
   {
    "duration": 5,
    "start_time": "2021-10-07T14:52:06.332Z"
   },
   {
    "duration": 29,
    "start_time": "2021-10-07T14:52:07.305Z"
   },
   {
    "duration": 12,
    "start_time": "2021-10-07T14:52:07.904Z"
   },
   {
    "duration": 6,
    "start_time": "2021-10-07T14:52:08.656Z"
   },
   {
    "duration": 26,
    "start_time": "2021-10-07T14:52:09.241Z"
   },
   {
    "duration": 12,
    "start_time": "2021-10-07T14:52:09.809Z"
   },
   {
    "duration": 6,
    "start_time": "2021-10-07T14:52:10.831Z"
   },
   {
    "duration": 14,
    "start_time": "2021-10-07T14:52:11.711Z"
   },
   {
    "duration": 16,
    "start_time": "2021-10-07T14:52:12.297Z"
   },
   {
    "duration": 5,
    "start_time": "2021-10-07T14:52:13.142Z"
   },
   {
    "duration": 14,
    "start_time": "2021-10-07T14:52:14.441Z"
   },
   {
    "duration": 5,
    "start_time": "2021-10-07T14:52:18.023Z"
   },
   {
    "duration": 1311,
    "start_time": "2021-10-07T14:52:19.719Z"
   },
   {
    "duration": 37,
    "start_time": "2021-10-07T14:52:22.110Z"
   },
   {
    "duration": 598,
    "start_time": "2021-10-07T14:52:29.706Z"
   },
   {
    "duration": 321,
    "start_time": "2021-10-07T14:52:54.378Z"
   },
   {
    "duration": 311,
    "start_time": "2021-10-07T14:53:48.743Z"
   },
   {
    "duration": 285,
    "start_time": "2021-10-07T14:54:07.131Z"
   },
   {
    "duration": 1584,
    "start_time": "2021-10-07T14:54:44.666Z"
   },
   {
    "duration": 4,
    "start_time": "2021-10-07T14:54:46.914Z"
   },
   {
    "duration": 523,
    "start_time": "2021-10-07T14:54:47.521Z"
   },
   {
    "duration": 18,
    "start_time": "2021-10-07T14:54:48.644Z"
   },
   {
    "duration": 5,
    "start_time": "2021-10-07T14:54:49.194Z"
   },
   {
    "duration": 37,
    "start_time": "2021-10-07T14:54:49.747Z"
   },
   {
    "duration": 13,
    "start_time": "2021-10-07T14:54:50.301Z"
   },
   {
    "duration": 6,
    "start_time": "2021-10-07T14:54:50.866Z"
   },
   {
    "duration": 30,
    "start_time": "2021-10-07T14:54:51.448Z"
   },
   {
    "duration": 11,
    "start_time": "2021-10-07T14:54:51.996Z"
   },
   {
    "duration": 6,
    "start_time": "2021-10-07T14:54:52.532Z"
   },
   {
    "duration": 26,
    "start_time": "2021-10-07T14:54:53.122Z"
   },
   {
    "duration": 11,
    "start_time": "2021-10-07T14:54:53.652Z"
   },
   {
    "duration": 5,
    "start_time": "2021-10-07T14:54:54.214Z"
   },
   {
    "duration": 17,
    "start_time": "2021-10-07T14:54:54.804Z"
   },
   {
    "duration": 15,
    "start_time": "2021-10-07T14:54:55.424Z"
   },
   {
    "duration": 6,
    "start_time": "2021-10-07T14:54:56.053Z"
   },
   {
    "duration": 14,
    "start_time": "2021-10-07T14:54:56.628Z"
   },
   {
    "duration": 5,
    "start_time": "2021-10-07T14:54:59.596Z"
   },
   {
    "duration": 1517,
    "start_time": "2021-10-07T14:55:00.286Z"
   },
   {
    "duration": 35,
    "start_time": "2021-10-07T14:55:03.306Z"
   },
   {
    "duration": 31,
    "start_time": "2021-10-07T14:55:17.266Z"
   },
   {
    "duration": 7,
    "start_time": "2021-10-07T14:55:18.748Z"
   },
   {
    "duration": 5,
    "start_time": "2021-10-07T14:55:19.924Z"
   },
   {
    "duration": 25,
    "start_time": "2021-10-07T14:55:20.648Z"
   },
   {
    "duration": 1784,
    "start_time": "2021-10-07T14:57:33.235Z"
   },
   {
    "duration": 603,
    "start_time": "2021-10-07T14:57:55.403Z"
   },
   {
    "duration": 13,
    "start_time": "2021-10-07T14:58:07.008Z"
   },
   {
    "duration": 599,
    "start_time": "2021-10-07T14:58:23.238Z"
   },
   {
    "duration": 569,
    "start_time": "2021-10-07T14:58:32.448Z"
   },
   {
    "duration": 572,
    "start_time": "2021-10-07T14:58:37.908Z"
   },
   {
    "duration": 313,
    "start_time": "2021-10-07T15:06:22.330Z"
   },
   {
    "duration": 10,
    "start_time": "2021-10-07T15:06:24.942Z"
   },
   {
    "duration": 1634,
    "start_time": "2021-10-07T15:06:57.913Z"
   },
   {
    "duration": 4,
    "start_time": "2021-10-07T15:07:00.393Z"
   },
   {
    "duration": 587,
    "start_time": "2021-10-07T15:07:01.077Z"
   },
   {
    "duration": 16,
    "start_time": "2021-10-07T15:07:02.247Z"
   },
   {
    "duration": 6,
    "start_time": "2021-10-07T15:07:02.774Z"
   },
   {
    "duration": 36,
    "start_time": "2021-10-07T15:07:03.668Z"
   },
   {
    "duration": 12,
    "start_time": "2021-10-07T15:07:04.809Z"
   },
   {
    "duration": 6,
    "start_time": "2021-10-07T15:07:05.299Z"
   },
   {
    "duration": 31,
    "start_time": "2021-10-07T15:07:05.805Z"
   },
   {
    "duration": 13,
    "start_time": "2021-10-07T15:07:06.313Z"
   },
   {
    "duration": 6,
    "start_time": "2021-10-07T15:07:06.847Z"
   },
   {
    "duration": 26,
    "start_time": "2021-10-07T15:07:08.099Z"
   },
   {
    "duration": 12,
    "start_time": "2021-10-07T15:07:09.753Z"
   },
   {
    "duration": 6,
    "start_time": "2021-10-07T15:07:10.951Z"
   },
   {
    "duration": 14,
    "start_time": "2021-10-07T15:07:11.763Z"
   },
   {
    "duration": 16,
    "start_time": "2021-10-07T15:07:12.409Z"
   },
   {
    "duration": 6,
    "start_time": "2021-10-07T15:07:16.643Z"
   },
   {
    "duration": 14,
    "start_time": "2021-10-07T15:07:17.369Z"
   },
   {
    "duration": 5,
    "start_time": "2021-10-07T15:07:20.047Z"
   },
   {
    "duration": 1334,
    "start_time": "2021-10-07T15:07:20.879Z"
   },
   {
    "duration": 37,
    "start_time": "2021-10-07T15:07:23.569Z"
   },
   {
    "duration": 32,
    "start_time": "2021-10-07T15:07:31.139Z"
   },
   {
    "duration": 10,
    "start_time": "2021-10-07T15:07:33.387Z"
   },
   {
    "duration": 5,
    "start_time": "2021-10-07T15:07:35.169Z"
   },
   {
    "duration": 25,
    "start_time": "2021-10-07T15:07:36.217Z"
   },
   {
    "duration": 415,
    "start_time": "2021-10-07T15:07:38.315Z"
   },
   {
    "duration": 10,
    "start_time": "2021-10-07T15:07:39.335Z"
   },
   {
    "duration": 541,
    "start_time": "2021-10-07T15:09:04.582Z"
   },
   {
    "duration": 5,
    "start_time": "2021-10-07T15:09:09.601Z"
   },
   {
    "duration": 1359,
    "start_time": "2021-10-07T15:09:10.308Z"
   },
   {
    "duration": 35,
    "start_time": "2021-10-07T15:09:12.536Z"
   },
   {
    "duration": 25,
    "start_time": "2021-10-07T15:09:14.714Z"
   },
   {
    "duration": 6,
    "start_time": "2021-10-07T15:09:16.204Z"
   },
   {
    "duration": 4,
    "start_time": "2021-10-07T15:09:17.819Z"
   },
   {
    "duration": 24,
    "start_time": "2021-10-07T15:09:19.448Z"
   },
   {
    "duration": 141,
    "start_time": "2021-10-07T15:09:21.990Z"
   },
   {
    "duration": 11,
    "start_time": "2021-10-07T15:09:23.272Z"
   },
   {
    "duration": 25,
    "start_time": "2021-10-07T15:09:39.754Z"
   },
   {
    "duration": 137,
    "start_time": "2021-10-07T15:09:53.391Z"
   },
   {
    "duration": 11,
    "start_time": "2021-10-07T15:09:55.350Z"
   },
   {
    "duration": 15,
    "start_time": "2021-10-07T15:09:57.681Z"
   },
   {
    "duration": 771,
    "start_time": "2021-10-07T15:16:13.655Z"
   },
   {
    "duration": 527,
    "start_time": "2021-10-07T15:16:33.855Z"
   },
   {
    "duration": 5,
    "start_time": "2021-10-07T15:17:04.526Z"
   },
   {
    "duration": 1313,
    "start_time": "2021-10-07T15:17:06.013Z"
   },
   {
    "duration": 24,
    "start_time": "2021-10-07T15:17:09.799Z"
   },
   {
    "duration": 6,
    "start_time": "2021-10-07T15:17:11.575Z"
   },
   {
    "duration": 4,
    "start_time": "2021-10-07T15:17:12.410Z"
   },
   {
    "duration": 368,
    "start_time": "2021-10-07T15:17:15.136Z"
   },
   {
    "duration": 15,
    "start_time": "2021-10-07T15:17:26.442Z"
   },
   {
    "duration": 15,
    "start_time": "2021-10-07T15:17:37.276Z"
   },
   {
    "duration": 13,
    "start_time": "2021-10-07T15:18:00.482Z"
   },
   {
    "duration": 11,
    "start_time": "2021-10-07T15:18:21.662Z"
   },
   {
    "duration": 281,
    "start_time": "2021-10-07T15:20:58.856Z"
   },
   {
    "duration": 21,
    "start_time": "2021-10-07T15:21:54.113Z"
   },
   {
    "duration": 15,
    "start_time": "2021-10-07T15:24:03.380Z"
   },
   {
    "duration": 8,
    "start_time": "2021-10-07T15:24:12.600Z"
   },
   {
    "duration": 307,
    "start_time": "2021-10-07T15:25:10.615Z"
   },
   {
    "duration": 6,
    "start_time": "2021-10-07T15:26:25.706Z"
   },
   {
    "duration": 13,
    "start_time": "2021-10-07T15:26:33.118Z"
   },
   {
    "duration": 23,
    "start_time": "2021-10-07T15:27:34.103Z"
   },
   {
    "duration": 291,
    "start_time": "2021-10-07T15:27:54.799Z"
   },
   {
    "duration": 22,
    "start_time": "2021-10-07T15:29:02.008Z"
   },
   {
    "duration": 22,
    "start_time": "2021-10-07T15:29:54.904Z"
   },
   {
    "duration": 51,
    "start_time": "2021-10-07T15:43:25.255Z"
   },
   {
    "duration": 36,
    "start_time": "2021-10-07T15:47:54.721Z"
   },
   {
    "duration": 32,
    "start_time": "2021-10-07T15:48:12.995Z"
   },
   {
    "duration": 35,
    "start_time": "2021-10-07T15:48:19.169Z"
   },
   {
    "duration": 9,
    "start_time": "2021-10-07T15:49:19.795Z"
   },
   {
    "duration": 99,
    "start_time": "2021-10-07T15:51:16.695Z"
   },
   {
    "duration": 32,
    "start_time": "2021-10-07T15:51:23.587Z"
   },
   {
    "duration": 10,
    "start_time": "2021-10-07T15:51:37.071Z"
   },
   {
    "duration": 11,
    "start_time": "2021-10-07T15:52:18.857Z"
   },
   {
    "duration": 331,
    "start_time": "2021-10-07T15:54:19.206Z"
   },
   {
    "duration": 81,
    "start_time": "2021-10-07T15:54:28.721Z"
   },
   {
    "duration": 81,
    "start_time": "2021-10-07T15:54:39.735Z"
   },
   {
    "duration": 91,
    "start_time": "2021-10-07T15:54:44.443Z"
   },
   {
    "duration": 264,
    "start_time": "2021-10-07T15:55:55.480Z"
   },
   {
    "duration": 1945,
    "start_time": "2021-10-07T15:56:32.484Z"
   },
   {
    "duration": 61,
    "start_time": "2021-10-07T15:56:45.389Z"
   },
   {
    "duration": 3586,
    "start_time": "2021-10-07T16:00:28.320Z"
   },
   {
    "duration": 285,
    "start_time": "2021-10-07T16:00:51.661Z"
   },
   {
    "duration": 12,
    "start_time": "2021-10-07T16:01:14.864Z"
   },
   {
    "duration": 301,
    "start_time": "2021-10-07T16:04:07.253Z"
   },
   {
    "duration": 501,
    "start_time": "2021-10-07T16:04:23.595Z"
   },
   {
    "duration": 5,
    "start_time": "2021-10-07T16:04:30.321Z"
   },
   {
    "duration": 1492,
    "start_time": "2021-10-07T16:04:31.054Z"
   },
   {
    "duration": 24,
    "start_time": "2021-10-07T16:04:33.123Z"
   },
   {
    "duration": 7,
    "start_time": "2021-10-07T16:04:33.857Z"
   },
   {
    "duration": 5,
    "start_time": "2021-10-07T16:04:34.558Z"
   },
   {
    "duration": 366,
    "start_time": "2021-10-07T16:04:35.327Z"
   },
   {
    "duration": 13,
    "start_time": "2021-10-07T16:04:37.533Z"
   },
   {
    "duration": 13,
    "start_time": "2021-10-07T16:04:54.264Z"
   },
   {
    "duration": 32,
    "start_time": "2021-10-07T16:04:56.048Z"
   },
   {
    "duration": 10,
    "start_time": "2021-10-07T16:05:00.122Z"
   },
   {
    "duration": 4030,
    "start_time": "2021-10-07T16:05:09.113Z"
   },
   {
    "duration": 699,
    "start_time": "2021-10-07T16:05:28.700Z"
   },
   {
    "duration": 12,
    "start_time": "2021-10-07T16:05:30.274Z"
   },
   {
    "duration": 6,
    "start_time": "2021-10-07T16:05:30.894Z"
   },
   {
    "duration": 36,
    "start_time": "2021-10-07T16:05:31.593Z"
   },
   {
    "duration": 17,
    "start_time": "2021-10-07T16:05:32.586Z"
   },
   {
    "duration": 6,
    "start_time": "2021-10-07T16:05:33.582Z"
   },
   {
    "duration": 31,
    "start_time": "2021-10-07T16:05:34.004Z"
   },
   {
    "duration": 12,
    "start_time": "2021-10-07T16:05:34.979Z"
   },
   {
    "duration": 6,
    "start_time": "2021-10-07T16:05:35.462Z"
   },
   {
    "duration": 27,
    "start_time": "2021-10-07T16:05:35.938Z"
   },
   {
    "duration": 12,
    "start_time": "2021-10-07T16:05:37.032Z"
   },
   {
    "duration": 6,
    "start_time": "2021-10-07T16:05:37.580Z"
   },
   {
    "duration": 13,
    "start_time": "2021-10-07T16:05:39.000Z"
   },
   {
    "duration": 15,
    "start_time": "2021-10-07T16:05:40.228Z"
   },
   {
    "duration": 6,
    "start_time": "2021-10-07T16:05:40.694Z"
   },
   {
    "duration": 15,
    "start_time": "2021-10-07T16:05:41.235Z"
   },
   {
    "duration": 5,
    "start_time": "2021-10-07T16:05:45.160Z"
   },
   {
    "duration": 1382,
    "start_time": "2021-10-07T16:05:45.958Z"
   },
   {
    "duration": 25,
    "start_time": "2021-10-07T16:05:48.078Z"
   },
   {
    "duration": 7,
    "start_time": "2021-10-07T16:05:48.704Z"
   },
   {
    "duration": 5,
    "start_time": "2021-10-07T16:05:49.205Z"
   },
   {
    "duration": 374,
    "start_time": "2021-10-07T16:05:49.710Z"
   },
   {
    "duration": 15,
    "start_time": "2021-10-07T16:05:51.322Z"
   },
   {
    "duration": 29,
    "start_time": "2021-10-07T16:05:55.822Z"
   },
   {
    "duration": 10,
    "start_time": "2021-10-07T16:06:04.544Z"
   },
   {
    "duration": 68,
    "start_time": "2021-10-07T16:06:10.888Z"
   },
   {
    "duration": 13,
    "start_time": "2021-10-07T16:06:22.754Z"
   },
   {
    "duration": 4,
    "start_time": "2021-10-07T16:06:29.795Z"
   },
   {
    "duration": 11,
    "start_time": "2021-10-07T16:06:34.579Z"
   },
   {
    "duration": 6,
    "start_time": "2021-10-07T16:08:10.609Z"
   },
   {
    "duration": 11,
    "start_time": "2021-10-07T16:08:13.018Z"
   },
   {
    "duration": 954,
    "start_time": "2021-10-07T16:08:53.347Z"
   },
   {
    "duration": 530,
    "start_time": "2021-10-07T16:09:08.384Z"
   },
   {
    "duration": 4,
    "start_time": "2021-10-07T16:09:14.857Z"
   },
   {
    "duration": 1368,
    "start_time": "2021-10-07T16:09:15.432Z"
   },
   {
    "duration": 25,
    "start_time": "2021-10-07T16:09:17.490Z"
   },
   {
    "duration": 6,
    "start_time": "2021-10-07T16:09:18.207Z"
   },
   {
    "duration": 4,
    "start_time": "2021-10-07T16:09:18.775Z"
   },
   {
    "duration": 370,
    "start_time": "2021-10-07T16:09:19.743Z"
   },
   {
    "duration": 12,
    "start_time": "2021-10-07T16:09:20.661Z"
   },
   {
    "duration": 28,
    "start_time": "2021-10-07T16:09:21.788Z"
   },
   {
    "duration": 53,
    "start_time": "2021-10-07T16:09:36.835Z"
   },
   {
    "duration": 4,
    "start_time": "2021-10-07T16:09:38.029Z"
   },
   {
    "duration": 5,
    "start_time": "2021-10-07T16:09:39.043Z"
   },
   {
    "duration": 10,
    "start_time": "2021-10-07T16:09:41.313Z"
   },
   {
    "duration": 516,
    "start_time": "2021-10-07T16:13:32.970Z"
   },
   {
    "duration": 13,
    "start_time": "2021-10-07T16:13:40.275Z"
   },
   {
    "duration": 5,
    "start_time": "2021-10-07T16:13:46.213Z"
   },
   {
    "duration": 1427,
    "start_time": "2021-10-07T16:13:53.062Z"
   },
   {
    "duration": 12,
    "start_time": "2021-10-07T16:14:09.260Z"
   },
   {
    "duration": 25,
    "start_time": "2021-10-07T16:14:13.242Z"
   },
   {
    "duration": 12,
    "start_time": "2021-10-07T16:14:18.950Z"
   },
   {
    "duration": 7,
    "start_time": "2021-10-07T16:14:27.142Z"
   },
   {
    "duration": 12,
    "start_time": "2021-10-07T16:14:31.004Z"
   },
   {
    "duration": 5,
    "start_time": "2021-10-07T16:14:36.706Z"
   },
   {
    "duration": 443,
    "start_time": "2021-10-07T16:14:48.338Z"
   },
   {
    "duration": 10,
    "start_time": "2021-10-07T16:14:52.852Z"
   },
   {
    "duration": 12,
    "start_time": "2021-10-07T16:15:16.469Z"
   },
   {
    "duration": 27,
    "start_time": "2021-10-07T16:15:17.227Z"
   },
   {
    "duration": 67,
    "start_time": "2021-10-07T16:16:12.305Z"
   },
   {
    "duration": 16,
    "start_time": "2021-10-07T16:16:16.891Z"
   },
   {
    "duration": 4,
    "start_time": "2021-10-07T16:16:35.028Z"
   },
   {
    "duration": 6,
    "start_time": "2021-10-07T16:16:35.766Z"
   },
   {
    "duration": 11,
    "start_time": "2021-10-07T16:16:46.684Z"
   },
   {
    "duration": 11,
    "start_time": "2021-10-07T16:17:15.463Z"
   },
   {
    "duration": 10,
    "start_time": "2021-10-07T16:17:44.472Z"
   },
   {
    "duration": 10,
    "start_time": "2021-10-07T16:18:12.184Z"
   },
   {
    "duration": 22,
    "start_time": "2021-10-07T16:20:18.094Z"
   },
   {
    "duration": 28,
    "start_time": "2021-10-07T16:20:40.583Z"
   },
   {
    "duration": 30,
    "start_time": "2021-10-07T16:22:10.125Z"
   },
   {
    "duration": 21,
    "start_time": "2021-10-07T16:23:20.358Z"
   },
   {
    "duration": 10,
    "start_time": "2021-10-07T16:23:28.168Z"
   },
   {
    "duration": 1573,
    "start_time": "2021-10-07T16:26:40.380Z"
   },
   {
    "duration": 4,
    "start_time": "2021-10-07T16:26:42.914Z"
   },
   {
    "duration": 547,
    "start_time": "2021-10-07T16:26:43.692Z"
   },
   {
    "duration": 17,
    "start_time": "2021-10-07T16:26:44.970Z"
   },
   {
    "duration": 6,
    "start_time": "2021-10-07T16:26:45.652Z"
   },
   {
    "duration": 35,
    "start_time": "2021-10-07T16:26:47.204Z"
   },
   {
    "duration": 13,
    "start_time": "2021-10-07T16:26:47.830Z"
   },
   {
    "duration": 6,
    "start_time": "2021-10-07T16:26:48.308Z"
   },
   {
    "duration": 30,
    "start_time": "2021-10-07T16:26:48.848Z"
   },
   {
    "duration": 12,
    "start_time": "2021-10-07T16:26:50.552Z"
   },
   {
    "duration": 7,
    "start_time": "2021-10-07T16:26:51.092Z"
   },
   {
    "duration": 26,
    "start_time": "2021-10-07T16:26:51.610Z"
   },
   {
    "duration": 12,
    "start_time": "2021-10-07T16:26:52.092Z"
   },
   {
    "duration": 6,
    "start_time": "2021-10-07T16:26:53.088Z"
   },
   {
    "duration": 14,
    "start_time": "2021-10-07T16:26:53.666Z"
   },
   {
    "duration": 15,
    "start_time": "2021-10-07T16:26:54.178Z"
   },
   {
    "duration": 6,
    "start_time": "2021-10-07T16:26:54.710Z"
   },
   {
    "duration": 14,
    "start_time": "2021-10-07T16:26:56.390Z"
   },
   {
    "duration": 5,
    "start_time": "2021-10-07T16:27:21.472Z"
   },
   {
    "duration": 1327,
    "start_time": "2021-10-07T16:27:23.700Z"
   },
   {
    "duration": 30,
    "start_time": "2021-10-07T16:27:27.668Z"
   },
   {
    "duration": 7,
    "start_time": "2021-10-07T16:27:30.553Z"
   },
   {
    "duration": 4,
    "start_time": "2021-10-07T16:27:31.243Z"
   },
   {
    "duration": 17,
    "start_time": "2021-10-07T16:28:05.571Z"
   },
   {
    "duration": 34,
    "start_time": "2021-10-07T16:28:07.179Z"
   },
   {
    "duration": 84,
    "start_time": "2021-10-07T16:28:10.425Z"
   },
   {
    "duration": 5,
    "start_time": "2021-10-07T16:28:11.931Z"
   },
   {
    "duration": 6,
    "start_time": "2021-10-07T16:28:12.735Z"
   },
   {
    "duration": 35,
    "start_time": "2021-10-07T16:28:19.775Z"
   },
   {
    "duration": 12,
    "start_time": "2021-10-07T16:28:42.967Z"
   },
   {
    "duration": 1806,
    "start_time": "2021-10-07T16:33:39.957Z"
   },
   {
    "duration": 4,
    "start_time": "2021-10-07T16:33:42.668Z"
   },
   {
    "duration": 537,
    "start_time": "2021-10-07T16:33:43.569Z"
   },
   {
    "duration": 15,
    "start_time": "2021-10-07T16:33:45.300Z"
   },
   {
    "duration": 6,
    "start_time": "2021-10-07T16:33:45.910Z"
   },
   {
    "duration": 38,
    "start_time": "2021-10-07T16:33:46.451Z"
   },
   {
    "duration": 13,
    "start_time": "2021-10-07T16:33:47.087Z"
   },
   {
    "duration": 6,
    "start_time": "2021-10-07T16:33:47.713Z"
   },
   {
    "duration": 32,
    "start_time": "2021-10-07T16:33:48.440Z"
   },
   {
    "duration": 11,
    "start_time": "2021-10-07T16:33:49.000Z"
   },
   {
    "duration": 5,
    "start_time": "2021-10-07T16:33:49.530Z"
   },
   {
    "duration": 25,
    "start_time": "2021-10-07T16:33:50.208Z"
   },
   {
    "duration": 12,
    "start_time": "2021-10-07T16:33:50.708Z"
   },
   {
    "duration": 5,
    "start_time": "2021-10-07T16:33:51.174Z"
   },
   {
    "duration": 14,
    "start_time": "2021-10-07T16:33:52.350Z"
   },
   {
    "duration": 16,
    "start_time": "2021-10-07T16:33:52.896Z"
   },
   {
    "duration": 5,
    "start_time": "2021-10-07T16:33:53.380Z"
   },
   {
    "duration": 18,
    "start_time": "2021-10-07T16:33:53.982Z"
   },
   {
    "duration": 5,
    "start_time": "2021-10-07T16:33:58.207Z"
   },
   {
    "duration": 1338,
    "start_time": "2021-10-07T16:34:00.035Z"
   },
   {
    "duration": 31,
    "start_time": "2021-10-07T16:34:02.098Z"
   },
   {
    "duration": 6,
    "start_time": "2021-10-07T16:34:04.530Z"
   },
   {
    "duration": 4,
    "start_time": "2021-10-07T16:34:07.212Z"
   },
   {
    "duration": 15,
    "start_time": "2021-10-07T16:34:09.918Z"
   },
   {
    "duration": 49,
    "start_time": "2021-10-07T16:34:12.160Z"
   },
   {
    "duration": 84,
    "start_time": "2021-10-07T16:34:14.498Z"
   },
   {
    "duration": 4,
    "start_time": "2021-10-07T16:34:15.380Z"
   },
   {
    "duration": 6,
    "start_time": "2021-10-07T16:34:17.624Z"
   },
   {
    "duration": 33,
    "start_time": "2021-10-07T16:34:21.078Z"
   },
   {
    "duration": 442,
    "start_time": "2021-10-07T16:34:26.618Z"
   },
   {
    "duration": 14,
    "start_time": "2021-10-07T16:34:50.046Z"
   },
   {
    "duration": 9,
    "start_time": "2021-10-07T16:35:00.016Z"
   },
   {
    "duration": 5296,
    "start_time": "2021-10-07T16:35:57.917Z"
   },
   {
    "duration": 1852,
    "start_time": "2021-10-07T16:36:20.140Z"
   },
   {
    "duration": 4,
    "start_time": "2021-10-07T16:36:22.844Z"
   },
   {
    "duration": 611,
    "start_time": "2021-10-07T16:36:23.564Z"
   },
   {
    "duration": 16,
    "start_time": "2021-10-07T16:36:24.780Z"
   },
   {
    "duration": 6,
    "start_time": "2021-10-07T16:36:25.800Z"
   },
   {
    "duration": 37,
    "start_time": "2021-10-07T16:36:26.440Z"
   },
   {
    "duration": 12,
    "start_time": "2021-10-07T16:36:26.986Z"
   },
   {
    "duration": 8,
    "start_time": "2021-10-07T16:36:27.880Z"
   },
   {
    "duration": 28,
    "start_time": "2021-10-07T16:36:28.414Z"
   },
   {
    "duration": 13,
    "start_time": "2021-10-07T16:36:28.914Z"
   },
   {
    "duration": 5,
    "start_time": "2021-10-07T16:36:29.414Z"
   },
   {
    "duration": 27,
    "start_time": "2021-10-07T16:36:30.418Z"
   },
   {
    "duration": 13,
    "start_time": "2021-10-07T16:36:30.948Z"
   },
   {
    "duration": 6,
    "start_time": "2021-10-07T16:36:31.480Z"
   },
   {
    "duration": 14,
    "start_time": "2021-10-07T16:36:32.023Z"
   },
   {
    "duration": 14,
    "start_time": "2021-10-07T16:36:33.082Z"
   },
   {
    "duration": 6,
    "start_time": "2021-10-07T16:36:33.845Z"
   },
   {
    "duration": 14,
    "start_time": "2021-10-07T16:36:34.331Z"
   },
   {
    "duration": 4,
    "start_time": "2021-10-07T16:36:36.763Z"
   },
   {
    "duration": 1536,
    "start_time": "2021-10-07T16:36:38.587Z"
   },
   {
    "duration": 33,
    "start_time": "2021-10-07T16:36:42.582Z"
   },
   {
    "duration": 7,
    "start_time": "2021-10-07T16:36:43.694Z"
   },
   {
    "duration": 5,
    "start_time": "2021-10-07T16:36:47.550Z"
   },
   {
    "duration": 17,
    "start_time": "2021-10-07T16:36:49.832Z"
   },
   {
    "duration": 36,
    "start_time": "2021-10-07T16:36:50.455Z"
   },
   {
    "duration": 89,
    "start_time": "2021-10-07T16:36:51.019Z"
   },
   {
    "duration": 4,
    "start_time": "2021-10-07T16:36:51.911Z"
   },
   {
    "duration": 5,
    "start_time": "2021-10-07T16:36:52.943Z"
   },
   {
    "duration": 33,
    "start_time": "2021-10-07T16:36:55.703Z"
   },
   {
    "duration": 20,
    "start_time": "2021-10-07T16:36:58.287Z"
   },
   {
    "duration": 10,
    "start_time": "2021-10-07T16:37:00.607Z"
   },
   {
    "duration": 8,
    "start_time": "2021-10-07T16:37:05.493Z"
   },
   {
    "duration": 634,
    "start_time": "2021-10-07T16:37:08.385Z"
   },
   {
    "duration": 447,
    "start_time": "2021-10-07T16:37:44.900Z"
   },
   {
    "duration": 16,
    "start_time": "2021-10-07T16:39:17.396Z"
   },
   {
    "duration": 499,
    "start_time": "2021-10-07T16:39:22.629Z"
   },
   {
    "duration": 22,
    "start_time": "2021-10-07T16:39:28.007Z"
   },
   {
    "duration": 11,
    "start_time": "2021-10-07T16:40:23.631Z"
   },
   {
    "duration": 10,
    "start_time": "2021-10-07T16:40:36.201Z"
   },
   {
    "duration": 20,
    "start_time": "2021-10-07T16:42:45.185Z"
   },
   {
    "duration": 21,
    "start_time": "2021-10-07T16:42:48.349Z"
   },
   {
    "duration": 19,
    "start_time": "2021-10-07T16:44:07.242Z"
   },
   {
    "duration": 24,
    "start_time": "2021-10-07T16:44:09.074Z"
   },
   {
    "duration": 9,
    "start_time": "2021-10-07T16:45:34.527Z"
   },
   {
    "duration": 17,
    "start_time": "2021-10-07T16:45:36.262Z"
   },
   {
    "duration": 23,
    "start_time": "2021-10-07T16:45:38.018Z"
   },
   {
    "duration": 21,
    "start_time": "2021-10-07T16:46:09.714Z"
   },
   {
    "duration": 25,
    "start_time": "2021-10-07T16:46:14.216Z"
   },
   {
    "duration": 17,
    "start_time": "2021-10-07T16:46:22.503Z"
   },
   {
    "duration": 13,
    "start_time": "2021-10-07T16:46:59.548Z"
   },
   {
    "duration": 20,
    "start_time": "2021-10-07T16:48:58.186Z"
   },
   {
    "duration": 21,
    "start_time": "2021-10-07T16:48:59.874Z"
   },
   {
    "duration": 17,
    "start_time": "2021-10-07T16:49:02.722Z"
   },
   {
    "duration": 11,
    "start_time": "2021-10-07T16:49:51.443Z"
   },
   {
    "duration": 22,
    "start_time": "2021-10-07T16:50:01.374Z"
   },
   {
    "duration": 12,
    "start_time": "2021-10-07T16:50:18.100Z"
   },
   {
    "duration": 25,
    "start_time": "2021-10-07T16:53:06.139Z"
   },
   {
    "duration": 26,
    "start_time": "2021-10-07T16:53:08.207Z"
   },
   {
    "duration": 19,
    "start_time": "2021-10-07T16:53:37.896Z"
   },
   {
    "duration": 12,
    "start_time": "2021-10-07T16:53:44.019Z"
   },
   {
    "duration": 20,
    "start_time": "2021-10-07T16:59:20.944Z"
   },
   {
    "duration": 17,
    "start_time": "2021-10-07T16:59:22.468Z"
   },
   {
    "duration": 14,
    "start_time": "2021-10-07T16:59:24.805Z"
   },
   {
    "duration": 32,
    "start_time": "2021-10-07T17:00:49.779Z"
   },
   {
    "duration": 11,
    "start_time": "2021-10-07T17:00:52.653Z"
   },
   {
    "duration": 33,
    "start_time": "2021-10-07T17:01:58.773Z"
   },
   {
    "duration": 13,
    "start_time": "2021-10-07T17:02:00.583Z"
   },
   {
    "duration": 33,
    "start_time": "2021-10-07T17:02:23.754Z"
   },
   {
    "duration": 12,
    "start_time": "2021-10-07T17:02:25.481Z"
   },
   {
    "duration": 32,
    "start_time": "2021-10-07T17:02:55.877Z"
   },
   {
    "duration": 1694,
    "start_time": "2021-10-07T17:07:13.379Z"
   },
   {
    "duration": 4,
    "start_time": "2021-10-07T17:07:15.847Z"
   },
   {
    "duration": 537,
    "start_time": "2021-10-07T17:07:16.529Z"
   },
   {
    "duration": 18,
    "start_time": "2021-10-07T17:07:17.622Z"
   },
   {
    "duration": 6,
    "start_time": "2021-10-07T17:07:18.273Z"
   },
   {
    "duration": 36,
    "start_time": "2021-10-07T17:07:18.941Z"
   },
   {
    "duration": 12,
    "start_time": "2021-10-07T17:07:19.479Z"
   },
   {
    "duration": 5,
    "start_time": "2021-10-07T17:07:20.121Z"
   },
   {
    "duration": 29,
    "start_time": "2021-10-07T17:07:20.663Z"
   },
   {
    "duration": 12,
    "start_time": "2021-10-07T17:07:21.213Z"
   },
   {
    "duration": 5,
    "start_time": "2021-10-07T17:07:21.797Z"
   },
   {
    "duration": 25,
    "start_time": "2021-10-07T17:07:22.749Z"
   },
   {
    "duration": 12,
    "start_time": "2021-10-07T17:07:23.273Z"
   },
   {
    "duration": 6,
    "start_time": "2021-10-07T17:07:23.749Z"
   },
   {
    "duration": 14,
    "start_time": "2021-10-07T17:07:24.289Z"
   },
   {
    "duration": 15,
    "start_time": "2021-10-07T17:07:24.913Z"
   },
   {
    "duration": 5,
    "start_time": "2021-10-07T17:07:25.439Z"
   },
   {
    "duration": 13,
    "start_time": "2021-10-07T17:07:26.347Z"
   },
   {
    "duration": 5,
    "start_time": "2021-10-07T17:07:28.811Z"
   },
   {
    "duration": 1381,
    "start_time": "2021-10-07T17:07:29.959Z"
   },
   {
    "duration": 30,
    "start_time": "2021-10-07T17:07:32.001Z"
   },
   {
    "duration": 6,
    "start_time": "2021-10-07T17:07:32.773Z"
   },
   {
    "duration": 6,
    "start_time": "2021-10-07T17:07:33.387Z"
   },
   {
    "duration": 16,
    "start_time": "2021-10-07T17:07:34.821Z"
   },
   {
    "duration": 34,
    "start_time": "2021-10-07T17:07:35.519Z"
   },
   {
    "duration": 80,
    "start_time": "2021-10-07T17:07:36.143Z"
   },
   {
    "duration": 5,
    "start_time": "2021-10-07T17:07:36.696Z"
   },
   {
    "duration": 7,
    "start_time": "2021-10-07T17:07:37.313Z"
   },
   {
    "duration": 48,
    "start_time": "2021-10-07T17:07:37.918Z"
   },
   {
    "duration": 19,
    "start_time": "2021-10-07T17:07:39.929Z"
   },
   {
    "duration": 13,
    "start_time": "2021-10-07T17:07:40.658Z"
   },
   {
    "duration": 13,
    "start_time": "2021-10-07T17:07:41.714Z"
   },
   {
    "duration": 12,
    "start_time": "2021-10-07T17:07:42.658Z"
   },
   {
    "duration": 42,
    "start_time": "2021-10-07T17:07:53.930Z"
   },
   {
    "duration": 11,
    "start_time": "2021-10-07T17:07:54.741Z"
   },
   {
    "duration": 31,
    "start_time": "2021-10-07T17:07:55.485Z"
   },
   {
    "duration": 10,
    "start_time": "2021-10-07T17:07:56.426Z"
   },
   {
    "duration": 32,
    "start_time": "2021-10-07T17:07:57.327Z"
   },
   {
    "duration": 11,
    "start_time": "2021-10-07T17:07:58.806Z"
   },
   {
    "duration": 33,
    "start_time": "2021-10-07T17:07:59.426Z"
   },
   {
    "duration": 11,
    "start_time": "2021-10-07T17:08:01.132Z"
   },
   {
    "duration": 32,
    "start_time": "2021-10-07T17:08:01.831Z"
   },
   {
    "duration": 11,
    "start_time": "2021-10-07T17:08:03.402Z"
   },
   {
    "duration": 31,
    "start_time": "2021-10-07T17:08:04.066Z"
   },
   {
    "duration": 11,
    "start_time": "2021-10-07T17:08:05.868Z"
   },
   {
    "duration": 37,
    "start_time": "2021-10-07T17:10:43.350Z"
   },
   {
    "duration": 12,
    "start_time": "2021-10-07T17:10:45.735Z"
   },
   {
    "duration": 38,
    "start_time": "2021-10-07T17:11:23.616Z"
   },
   {
    "duration": 11,
    "start_time": "2021-10-07T17:11:25.684Z"
   },
   {
    "duration": 30,
    "start_time": "2021-10-07T17:12:13.542Z"
   },
   {
    "duration": 12,
    "start_time": "2021-10-07T17:12:15.275Z"
   },
   {
    "duration": 33,
    "start_time": "2021-10-07T17:20:01.889Z"
   },
   {
    "duration": 1669,
    "start_time": "2021-10-07T17:20:26.893Z"
   },
   {
    "duration": 541,
    "start_time": "2021-10-07T17:20:28.568Z"
   },
   {
    "duration": 17,
    "start_time": "2021-10-07T17:20:29.112Z"
   },
   {
    "duration": 15,
    "start_time": "2021-10-07T17:20:29.131Z"
   },
   {
    "duration": 39,
    "start_time": "2021-10-07T17:20:29.148Z"
   },
   {
    "duration": 13,
    "start_time": "2021-10-07T17:20:29.190Z"
   },
   {
    "duration": 6,
    "start_time": "2021-10-07T17:20:29.205Z"
   },
   {
    "duration": 29,
    "start_time": "2021-10-07T17:20:29.214Z"
   },
   {
    "duration": 11,
    "start_time": "2021-10-07T17:20:29.268Z"
   },
   {
    "duration": 7,
    "start_time": "2021-10-07T17:20:29.282Z"
   },
   {
    "duration": 35,
    "start_time": "2021-10-07T17:20:29.291Z"
   },
   {
    "duration": 39,
    "start_time": "2021-10-07T17:20:29.329Z"
   },
   {
    "duration": 7,
    "start_time": "2021-10-07T17:20:29.371Z"
   },
   {
    "duration": 15,
    "start_time": "2021-10-07T17:20:29.380Z"
   },
   {
    "duration": 20,
    "start_time": "2021-10-07T17:20:29.398Z"
   },
   {
    "duration": 51,
    "start_time": "2021-10-07T17:20:29.421Z"
   },
   {
    "duration": 17,
    "start_time": "2021-10-07T17:20:29.474Z"
   },
   {
    "duration": 7,
    "start_time": "2021-10-07T17:20:29.493Z"
   },
   {
    "duration": 1428,
    "start_time": "2021-10-07T17:20:29.503Z"
   },
   {
    "duration": 47,
    "start_time": "2021-10-07T17:20:30.934Z"
   },
   {
    "duration": 7,
    "start_time": "2021-10-07T17:20:30.984Z"
   },
   {
    "duration": 25,
    "start_time": "2021-10-07T17:20:30.993Z"
   },
   {
    "duration": 28,
    "start_time": "2021-10-07T17:20:31.024Z"
   },
   {
    "duration": 39,
    "start_time": "2021-10-07T17:20:31.054Z"
   },
   {
    "duration": 129,
    "start_time": "2021-10-07T17:20:31.096Z"
   },
   {
    "duration": 6,
    "start_time": "2021-10-07T17:20:31.228Z"
   },
   {
    "duration": 26,
    "start_time": "2021-10-07T17:20:31.236Z"
   },
   {
    "duration": 60,
    "start_time": "2021-10-07T17:20:31.265Z"
   },
   {
    "duration": 43,
    "start_time": "2021-10-07T17:20:31.327Z"
   },
   {
    "duration": 10,
    "start_time": "2021-10-07T17:20:31.373Z"
   },
   {
    "duration": 1737,
    "start_time": "2021-10-07T17:34:19.534Z"
   },
   {
    "duration": 560,
    "start_time": "2021-10-07T17:34:21.275Z"
   },
   {
    "duration": 16,
    "start_time": "2021-10-07T17:34:21.839Z"
   },
   {
    "duration": 5,
    "start_time": "2021-10-07T17:34:21.858Z"
   },
   {
    "duration": 48,
    "start_time": "2021-10-07T17:34:21.865Z"
   },
   {
    "duration": 13,
    "start_time": "2021-10-07T17:34:21.916Z"
   },
   {
    "duration": 6,
    "start_time": "2021-10-07T17:34:21.931Z"
   },
   {
    "duration": 59,
    "start_time": "2021-10-07T17:34:21.940Z"
   },
   {
    "duration": 11,
    "start_time": "2021-10-07T17:34:22.005Z"
   },
   {
    "duration": 8,
    "start_time": "2021-10-07T17:34:22.020Z"
   },
   {
    "duration": 66,
    "start_time": "2021-10-07T17:34:22.030Z"
   },
   {
    "duration": 14,
    "start_time": "2021-10-07T17:34:22.100Z"
   },
   {
    "duration": 6,
    "start_time": "2021-10-07T17:34:22.116Z"
   },
   {
    "duration": 44,
    "start_time": "2021-10-07T17:34:22.125Z"
   },
   {
    "duration": 22,
    "start_time": "2021-10-07T17:34:22.175Z"
   },
   {
    "duration": 8,
    "start_time": "2021-10-07T17:34:22.200Z"
   },
   {
    "duration": 17,
    "start_time": "2021-10-07T17:34:22.211Z"
   },
   {
    "duration": 41,
    "start_time": "2021-10-07T17:34:22.231Z"
   },
   {
    "duration": 1439,
    "start_time": "2021-10-07T17:34:22.275Z"
   },
   {
    "duration": 29,
    "start_time": "2021-10-07T17:34:23.716Z"
   },
   {
    "duration": 30,
    "start_time": "2021-10-07T17:34:23.748Z"
   },
   {
    "duration": 5,
    "start_time": "2021-10-07T17:34:23.783Z"
   },
   {
    "duration": 19,
    "start_time": "2021-10-07T17:34:23.790Z"
   },
   {
    "duration": 58,
    "start_time": "2021-10-07T17:34:23.812Z"
   },
   {
    "duration": 94,
    "start_time": "2021-10-07T17:34:23.873Z"
   },
   {
    "duration": 6,
    "start_time": "2021-10-07T17:34:23.970Z"
   },
   {
    "duration": 7,
    "start_time": "2021-10-07T17:34:23.983Z"
   },
   {
    "duration": 35,
    "start_time": "2021-10-07T17:34:23.993Z"
   },
   {
    "duration": 69,
    "start_time": "2021-10-07T17:34:24.030Z"
   },
   {
    "duration": 9,
    "start_time": "2021-10-07T17:34:24.102Z"
   },
   {
    "duration": 32,
    "start_time": "2021-10-07T17:35:04.801Z"
   },
   {
    "duration": 11,
    "start_time": "2021-10-07T17:35:09.800Z"
   },
   {
    "duration": 33,
    "start_time": "2021-10-07T17:35:21.406Z"
   },
   {
    "duration": 13,
    "start_time": "2021-10-07T17:35:24.078Z"
   },
   {
    "duration": 37,
    "start_time": "2021-10-07T17:35:37.476Z"
   },
   {
    "duration": 15,
    "start_time": "2021-10-07T17:35:41.469Z"
   },
   {
    "duration": 36,
    "start_time": "2021-10-07T17:36:07.020Z"
   },
   {
    "duration": 11,
    "start_time": "2021-10-07T17:36:09.507Z"
   },
   {
    "duration": 431,
    "start_time": "2021-10-07T17:44:44.832Z"
   },
   {
    "duration": 17,
    "start_time": "2021-10-07T17:44:51.683Z"
   },
   {
    "duration": 18,
    "start_time": "2021-10-07T17:44:52.675Z"
   },
   {
    "duration": 12,
    "start_time": "2021-10-07T17:44:53.955Z"
   },
   {
    "duration": 17,
    "start_time": "2021-10-07T17:44:55.077Z"
   },
   {
    "duration": 10,
    "start_time": "2021-10-07T17:44:55.627Z"
   },
   {
    "duration": 15,
    "start_time": "2021-10-07T17:44:57.041Z"
   },
   {
    "duration": 9,
    "start_time": "2021-10-07T17:44:57.573Z"
   },
   {
    "duration": 16,
    "start_time": "2021-10-07T17:47:25.408Z"
   },
   {
    "duration": 14,
    "start_time": "2021-10-07T17:47:29.442Z"
   },
   {
    "duration": 9,
    "start_time": "2021-10-07T17:47:32.779Z"
   },
   {
    "duration": 1651,
    "start_time": "2021-10-07T17:56:40.611Z"
   },
   {
    "duration": 547,
    "start_time": "2021-10-07T17:56:42.268Z"
   },
   {
    "duration": 15,
    "start_time": "2021-10-07T17:56:42.818Z"
   },
   {
    "duration": 7,
    "start_time": "2021-10-07T17:56:42.836Z"
   },
   {
    "duration": 37,
    "start_time": "2021-10-07T17:56:42.845Z"
   },
   {
    "duration": 12,
    "start_time": "2021-10-07T17:56:42.884Z"
   },
   {
    "duration": 12,
    "start_time": "2021-10-07T17:56:42.898Z"
   },
   {
    "duration": 53,
    "start_time": "2021-10-07T17:56:42.915Z"
   },
   {
    "duration": 11,
    "start_time": "2021-10-07T17:56:42.971Z"
   },
   {
    "duration": 7,
    "start_time": "2021-10-07T17:56:42.984Z"
   },
   {
    "duration": 27,
    "start_time": "2021-10-07T17:56:42.993Z"
   },
   {
    "duration": 12,
    "start_time": "2021-10-07T17:56:43.022Z"
   },
   {
    "duration": 5,
    "start_time": "2021-10-07T17:56:43.068Z"
   },
   {
    "duration": 16,
    "start_time": "2021-10-07T17:56:43.075Z"
   },
   {
    "duration": 20,
    "start_time": "2021-10-07T17:56:43.093Z"
   },
   {
    "duration": 6,
    "start_time": "2021-10-07T17:56:43.116Z"
   },
   {
    "duration": 52,
    "start_time": "2021-10-07T17:56:43.124Z"
   },
   {
    "duration": 9,
    "start_time": "2021-10-07T17:56:43.178Z"
   },
   {
    "duration": 1340,
    "start_time": "2021-10-07T17:56:43.190Z"
   },
   {
    "duration": 41,
    "start_time": "2021-10-07T17:56:44.533Z"
   },
   {
    "duration": 6,
    "start_time": "2021-10-07T17:56:44.577Z"
   },
   {
    "duration": 12,
    "start_time": "2021-10-07T17:56:44.586Z"
   },
   {
    "duration": 25,
    "start_time": "2021-10-07T17:56:44.604Z"
   },
   {
    "duration": 45,
    "start_time": "2021-10-07T17:56:44.632Z"
   },
   {
    "duration": 92,
    "start_time": "2021-10-07T17:56:44.680Z"
   },
   {
    "duration": 4,
    "start_time": "2021-10-07T17:56:44.775Z"
   },
   {
    "duration": 15,
    "start_time": "2021-10-07T17:56:44.781Z"
   },
   {
    "duration": 42,
    "start_time": "2021-10-07T17:56:44.798Z"
   },
   {
    "duration": 50,
    "start_time": "2021-10-07T17:56:44.843Z"
   },
   {
    "duration": 10,
    "start_time": "2021-10-07T17:56:51.858Z"
   },
   {
    "duration": 1599,
    "start_time": "2021-10-07T17:58:06.872Z"
   },
   {
    "duration": 532,
    "start_time": "2021-10-07T17:58:08.474Z"
   },
   {
    "duration": 16,
    "start_time": "2021-10-07T17:58:09.009Z"
   },
   {
    "duration": 5,
    "start_time": "2021-10-07T17:58:09.028Z"
   },
   {
    "duration": 35,
    "start_time": "2021-10-07T17:58:09.036Z"
   },
   {
    "duration": 12,
    "start_time": "2021-10-07T17:58:09.073Z"
   },
   {
    "duration": 7,
    "start_time": "2021-10-07T17:58:09.088Z"
   },
   {
    "duration": 30,
    "start_time": "2021-10-07T17:58:09.099Z"
   },
   {
    "duration": 43,
    "start_time": "2021-10-07T17:58:09.132Z"
   },
   {
    "duration": 6,
    "start_time": "2021-10-07T17:58:09.177Z"
   },
   {
    "duration": 26,
    "start_time": "2021-10-07T17:58:09.186Z"
   },
   {
    "duration": 11,
    "start_time": "2021-10-07T17:58:09.215Z"
   },
   {
    "duration": 5,
    "start_time": "2021-10-07T17:58:09.268Z"
   },
   {
    "duration": 15,
    "start_time": "2021-10-07T17:58:09.276Z"
   },
   {
    "duration": 17,
    "start_time": "2021-10-07T17:58:09.293Z"
   },
   {
    "duration": 10,
    "start_time": "2021-10-07T17:58:09.313Z"
   },
   {
    "duration": 50,
    "start_time": "2021-10-07T17:58:09.326Z"
   },
   {
    "duration": 8,
    "start_time": "2021-10-07T17:58:09.379Z"
   },
   {
    "duration": 1346,
    "start_time": "2021-10-07T17:58:09.389Z"
   },
   {
    "duration": 37,
    "start_time": "2021-10-07T17:58:10.737Z"
   },
   {
    "duration": 7,
    "start_time": "2021-10-07T17:58:10.776Z"
   },
   {
    "duration": 5,
    "start_time": "2021-10-07T17:58:10.785Z"
   },
   {
    "duration": 25,
    "start_time": "2021-10-07T17:58:10.794Z"
   },
   {
    "duration": 58,
    "start_time": "2021-10-07T17:58:10.822Z"
   },
   {
    "duration": 91,
    "start_time": "2021-10-07T17:58:10.883Z"
   },
   {
    "duration": 4,
    "start_time": "2021-10-07T17:58:10.977Z"
   },
   {
    "duration": 9,
    "start_time": "2021-10-07T17:58:10.984Z"
   },
   {
    "duration": 38,
    "start_time": "2021-10-07T17:58:10.995Z"
   },
   {
    "duration": 55,
    "start_time": "2021-10-07T17:58:11.036Z"
   },
   {
    "duration": 11,
    "start_time": "2021-10-07T17:58:11.093Z"
   },
   {
    "duration": 25,
    "start_time": "2021-10-07T17:59:50.475Z"
   },
   {
    "duration": 22,
    "start_time": "2021-10-07T18:00:45.906Z"
   },
   {
    "duration": 31,
    "start_time": "2021-10-07T18:05:31.842Z"
   },
   {
    "duration": 462,
    "start_time": "2021-10-07T18:07:11.280Z"
   },
   {
    "duration": 5,
    "start_time": "2021-10-07T18:07:35.424Z"
   },
   {
    "duration": 5,
    "start_time": "2021-10-07T18:07:36.926Z"
   },
   {
    "duration": 16,
    "start_time": "2021-10-07T18:07:45.188Z"
   },
   {
    "duration": 11,
    "start_time": "2021-10-07T18:10:30.202Z"
   },
   {
    "duration": 5,
    "start_time": "2021-10-07T18:10:57.095Z"
   },
   {
    "duration": 5,
    "start_time": "2021-10-07T18:10:59.205Z"
   },
   {
    "duration": 10,
    "start_time": "2021-10-07T18:11:00.199Z"
   },
   {
    "duration": 22,
    "start_time": "2021-10-07T18:11:18.221Z"
   },
   {
    "duration": 284,
    "start_time": "2021-10-07T18:11:43.533Z"
   },
   {
    "duration": 5,
    "start_time": "2021-10-07T18:11:52.284Z"
   },
   {
    "duration": 22,
    "start_time": "2021-10-07T18:11:55.959Z"
   },
   {
    "duration": 266,
    "start_time": "2021-10-07T18:13:52.040Z"
   },
   {
    "duration": 7,
    "start_time": "2021-10-07T18:16:34.080Z"
   },
   {
    "duration": 11,
    "start_time": "2021-10-07T18:16:39.497Z"
   },
   {
    "duration": 14,
    "start_time": "2021-10-07T18:16:58.486Z"
   },
   {
    "duration": 2602,
    "start_time": "2021-10-07T18:17:16.940Z"
   },
   {
    "duration": 554,
    "start_time": "2021-10-07T18:17:19.545Z"
   },
   {
    "duration": 17,
    "start_time": "2021-10-07T18:17:20.103Z"
   },
   {
    "duration": 5,
    "start_time": "2021-10-07T18:17:20.122Z"
   },
   {
    "duration": 37,
    "start_time": "2021-10-07T18:17:20.129Z"
   },
   {
    "duration": 14,
    "start_time": "2021-10-07T18:17:20.168Z"
   },
   {
    "duration": 8,
    "start_time": "2021-10-07T18:17:20.185Z"
   },
   {
    "duration": 28,
    "start_time": "2021-10-07T18:17:20.196Z"
   },
   {
    "duration": 44,
    "start_time": "2021-10-07T18:17:20.228Z"
   },
   {
    "duration": 11,
    "start_time": "2021-10-07T18:17:20.275Z"
   },
   {
    "duration": 30,
    "start_time": "2021-10-07T18:17:20.289Z"
   },
   {
    "duration": 11,
    "start_time": "2021-10-07T18:17:20.322Z"
   },
   {
    "duration": 32,
    "start_time": "2021-10-07T18:17:20.336Z"
   },
   {
    "duration": 21,
    "start_time": "2021-10-07T18:17:20.371Z"
   },
   {
    "duration": 19,
    "start_time": "2021-10-07T18:17:20.395Z"
   },
   {
    "duration": 10,
    "start_time": "2021-10-07T18:17:20.416Z"
   },
   {
    "duration": 46,
    "start_time": "2021-10-07T18:17:20.428Z"
   },
   {
    "duration": 8,
    "start_time": "2021-10-07T18:17:20.476Z"
   },
   {
    "duration": 1317,
    "start_time": "2021-10-07T18:17:20.486Z"
   },
   {
    "duration": 31,
    "start_time": "2021-10-07T18:17:21.805Z"
   },
   {
    "duration": 7,
    "start_time": "2021-10-07T18:17:21.838Z"
   },
   {
    "duration": 22,
    "start_time": "2021-10-07T18:17:21.847Z"
   },
   {
    "duration": 19,
    "start_time": "2021-10-07T18:17:21.872Z"
   },
   {
    "duration": 32,
    "start_time": "2021-10-07T18:17:21.893Z"
   },
   {
    "duration": 111,
    "start_time": "2021-10-07T18:17:21.928Z"
   },
   {
    "duration": 4,
    "start_time": "2021-10-07T18:17:22.042Z"
   },
   {
    "duration": 16,
    "start_time": "2021-10-07T18:17:22.051Z"
   },
   {
    "duration": 35,
    "start_time": "2021-10-07T18:17:22.070Z"
   },
   {
    "duration": 38,
    "start_time": "2021-10-07T18:17:22.107Z"
   },
   {
    "duration": 11,
    "start_time": "2021-10-07T18:17:22.168Z"
   },
   {
    "duration": 23,
    "start_time": "2021-10-07T18:17:22.181Z"
   },
   {
    "duration": 31,
    "start_time": "2021-10-07T18:17:48.150Z"
   },
   {
    "duration": 7,
    "start_time": "2021-10-07T18:18:11.730Z"
   },
   {
    "duration": 31,
    "start_time": "2021-10-07T18:18:13.891Z"
   },
   {
    "duration": 5,
    "start_time": "2021-10-07T18:18:36.988Z"
   },
   {
    "duration": 11,
    "start_time": "2021-10-07T18:18:42.876Z"
   },
   {
    "duration": 47,
    "start_time": "2021-10-07T18:20:57.362Z"
   },
   {
    "duration": 11,
    "start_time": "2021-10-07T18:22:31.125Z"
   },
   {
    "duration": 7,
    "start_time": "2021-10-07T18:22:59.747Z"
   },
   {
    "duration": 5,
    "start_time": "2021-10-07T18:27:50.272Z"
   },
   {
    "duration": 16,
    "start_time": "2021-10-07T18:27:59.682Z"
   },
   {
    "duration": 13,
    "start_time": "2021-10-07T18:28:18.107Z"
   },
   {
    "duration": 6,
    "start_time": "2021-10-07T18:28:42.532Z"
   },
   {
    "duration": 12,
    "start_time": "2021-10-07T18:28:44.643Z"
   },
   {
    "duration": 5,
    "start_time": "2021-10-07T18:29:02.065Z"
   },
   {
    "duration": 12,
    "start_time": "2021-10-07T18:29:03.867Z"
   },
   {
    "duration": 14,
    "start_time": "2021-10-07T18:29:16.704Z"
   },
   {
    "duration": 6,
    "start_time": "2021-10-07T18:32:41.056Z"
   },
   {
    "duration": 14,
    "start_time": "2021-10-07T18:32:42.524Z"
   },
   {
    "duration": 1727,
    "start_time": "2021-10-07T18:33:02.023Z"
   },
   {
    "duration": 5,
    "start_time": "2021-10-07T18:33:04.923Z"
   },
   {
    "duration": 4627,
    "start_time": "2021-10-07T18:33:06.481Z"
   },
   {
    "duration": 16,
    "start_time": "2021-10-07T18:33:12.093Z"
   },
   {
    "duration": 6,
    "start_time": "2021-10-07T18:33:12.753Z"
   },
   {
    "duration": 46,
    "start_time": "2021-10-07T18:33:13.323Z"
   },
   {
    "duration": 16,
    "start_time": "2021-10-07T18:33:15.745Z"
   },
   {
    "duration": 7,
    "start_time": "2021-10-07T18:33:15.765Z"
   },
   {
    "duration": 29,
    "start_time": "2021-10-07T18:33:16.855Z"
   },
   {
    "duration": 12,
    "start_time": "2021-10-07T18:33:18.038Z"
   },
   {
    "duration": 5,
    "start_time": "2021-10-07T18:33:18.699Z"
   },
   {
    "duration": 25,
    "start_time": "2021-10-07T18:33:19.589Z"
   },
   {
    "duration": 10,
    "start_time": "2021-10-07T18:33:20.297Z"
   },
   {
    "duration": 5,
    "start_time": "2021-10-07T18:33:20.799Z"
   },
   {
    "duration": 15,
    "start_time": "2021-10-07T18:33:22.158Z"
   },
   {
    "duration": 15,
    "start_time": "2021-10-07T18:33:22.799Z"
   },
   {
    "duration": 6,
    "start_time": "2021-10-07T18:33:23.871Z"
   },
   {
    "duration": 14,
    "start_time": "2021-10-07T18:33:24.511Z"
   },
   {
    "duration": 5,
    "start_time": "2021-10-07T18:33:28.161Z"
   },
   {
    "duration": 1364,
    "start_time": "2021-10-07T18:33:29.803Z"
   },
   {
    "duration": 31,
    "start_time": "2021-10-07T18:33:43.617Z"
   },
   {
    "duration": 6,
    "start_time": "2021-10-07T18:33:48.287Z"
   },
   {
    "duration": 4,
    "start_time": "2021-10-07T18:33:58.988Z"
   },
   {
    "duration": 1596,
    "start_time": "2021-10-07T18:34:56.349Z"
   },
   {
    "duration": 4,
    "start_time": "2021-10-07T18:34:59.557Z"
   },
   {
    "duration": 563,
    "start_time": "2021-10-07T18:35:01.509Z"
   },
   {
    "duration": 18,
    "start_time": "2021-10-07T18:35:04.747Z"
   },
   {
    "duration": 6,
    "start_time": "2021-10-07T18:35:05.625Z"
   },
   {
    "duration": 38,
    "start_time": "2021-10-07T18:35:06.351Z"
   },
   {
    "duration": 13,
    "start_time": "2021-10-07T18:35:07.609Z"
   },
   {
    "duration": 7,
    "start_time": "2021-10-07T18:35:08.263Z"
   },
   {
    "duration": 32,
    "start_time": "2021-10-07T18:35:08.815Z"
   },
   {
    "duration": 12,
    "start_time": "2021-10-07T18:35:10.097Z"
   },
   {
    "duration": 6,
    "start_time": "2021-10-07T18:35:11.409Z"
   },
   {
    "duration": 27,
    "start_time": "2021-10-07T18:35:12.211Z"
   },
   {
    "duration": 14,
    "start_time": "2021-10-07T18:35:12.898Z"
   },
   {
    "duration": 6,
    "start_time": "2021-10-07T18:35:13.863Z"
   },
   {
    "duration": 17,
    "start_time": "2021-10-07T18:35:15.074Z"
   },
   {
    "duration": 16,
    "start_time": "2021-10-07T18:35:16.592Z"
   },
   {
    "duration": 5,
    "start_time": "2021-10-07T18:35:18.026Z"
   },
   {
    "duration": 16,
    "start_time": "2021-10-07T18:35:18.779Z"
   },
   {
    "duration": 5,
    "start_time": "2021-10-07T18:35:41.326Z"
   },
   {
    "duration": 1272,
    "start_time": "2021-10-07T18:35:43.745Z"
   },
   {
    "duration": 32,
    "start_time": "2021-10-07T18:35:49.989Z"
   },
   {
    "duration": 6,
    "start_time": "2021-10-07T18:35:51.340Z"
   },
   {
    "duration": 7,
    "start_time": "2021-10-07T18:38:14.901Z"
   },
   {
    "duration": 16,
    "start_time": "2021-10-07T18:38:49.470Z"
   },
   {
    "duration": 33,
    "start_time": "2021-10-07T18:38:52.936Z"
   },
   {
    "duration": 87,
    "start_time": "2021-10-07T18:40:30.369Z"
   },
   {
    "duration": 5,
    "start_time": "2021-10-07T18:40:33.619Z"
   },
   {
    "duration": 6,
    "start_time": "2021-10-07T18:40:50.379Z"
   },
   {
    "duration": 38,
    "start_time": "2021-10-07T18:40:53.899Z"
   },
   {
    "duration": 445,
    "start_time": "2021-10-07T18:41:15.350Z"
   },
   {
    "duration": 37,
    "start_time": "2021-10-07T18:41:28.379Z"
   },
   {
    "duration": 1663,
    "start_time": "2021-10-07T18:41:50.929Z"
   },
   {
    "duration": 529,
    "start_time": "2021-10-07T18:41:52.595Z"
   },
   {
    "duration": 19,
    "start_time": "2021-10-07T18:41:53.127Z"
   },
   {
    "duration": 6,
    "start_time": "2021-10-07T18:41:53.149Z"
   },
   {
    "duration": 46,
    "start_time": "2021-10-07T18:41:53.157Z"
   },
   {
    "duration": 13,
    "start_time": "2021-10-07T18:41:53.206Z"
   },
   {
    "duration": 8,
    "start_time": "2021-10-07T18:41:53.221Z"
   },
   {
    "duration": 31,
    "start_time": "2021-10-07T18:41:53.267Z"
   },
   {
    "duration": 10,
    "start_time": "2021-10-07T18:41:53.302Z"
   },
   {
    "duration": 8,
    "start_time": "2021-10-07T18:41:53.314Z"
   },
   {
    "duration": 66,
    "start_time": "2021-10-07T18:41:53.324Z"
   },
   {
    "duration": 11,
    "start_time": "2021-10-07T18:41:53.392Z"
   },
   {
    "duration": 9,
    "start_time": "2021-10-07T18:41:53.405Z"
   },
   {
    "duration": 16,
    "start_time": "2021-10-07T18:41:53.416Z"
   },
   {
    "duration": 44,
    "start_time": "2021-10-07T18:41:53.434Z"
   },
   {
    "duration": 10,
    "start_time": "2021-10-07T18:41:53.481Z"
   },
   {
    "duration": 18,
    "start_time": "2021-10-07T18:41:53.493Z"
   },
   {
    "duration": 10,
    "start_time": "2021-10-07T18:41:53.513Z"
   },
   {
    "duration": 1487,
    "start_time": "2021-10-07T18:41:53.525Z"
   },
   {
    "duration": 33,
    "start_time": "2021-10-07T18:41:55.015Z"
   },
   {
    "duration": 20,
    "start_time": "2021-10-07T18:41:55.050Z"
   },
   {
    "duration": 7,
    "start_time": "2021-10-07T18:41:55.073Z"
   },
   {
    "duration": 19,
    "start_time": "2021-10-07T18:41:55.085Z"
   },
   {
    "duration": 59,
    "start_time": "2021-10-07T18:41:55.107Z"
   },
   {
    "duration": 82,
    "start_time": "2021-10-07T18:41:55.169Z"
   },
   {
    "duration": 13,
    "start_time": "2021-10-07T18:41:55.254Z"
   },
   {
    "duration": 11,
    "start_time": "2021-10-07T18:41:55.269Z"
   },
   {
    "duration": 35,
    "start_time": "2021-10-07T18:41:55.282Z"
   },
   {
    "duration": 60,
    "start_time": "2021-10-07T18:41:55.319Z"
   },
   {
    "duration": 10,
    "start_time": "2021-10-07T18:42:17.138Z"
   },
   {
    "duration": 21,
    "start_time": "2021-10-07T18:42:36.636Z"
   },
   {
    "duration": 32,
    "start_time": "2021-10-07T18:42:39.102Z"
   },
   {
    "duration": 8,
    "start_time": "2021-10-07T18:43:25.543Z"
   },
   {
    "duration": 12,
    "start_time": "2021-10-07T18:43:33.638Z"
   },
   {
    "duration": 5,
    "start_time": "2021-10-07T18:48:33.642Z"
   },
   {
    "duration": 275,
    "start_time": "2021-10-07T18:48:36.294Z"
   },
   {
    "duration": 286,
    "start_time": "2021-10-07T18:49:49.501Z"
   },
   {
    "duration": 11,
    "start_time": "2021-10-07T18:50:47.413Z"
   },
   {
    "duration": 280,
    "start_time": "2021-10-07T18:51:39.644Z"
   },
   {
    "duration": 13,
    "start_time": "2021-10-07T18:51:55.152Z"
   },
   {
    "duration": 390,
    "start_time": "2021-10-07T18:52:19.342Z"
   },
   {
    "duration": 11,
    "start_time": "2021-10-07T18:52:54.058Z"
   },
   {
    "duration": 16,
    "start_time": "2021-10-07T18:53:09.657Z"
   },
   {
    "duration": 11,
    "start_time": "2021-10-07T19:02:39.613Z"
   },
   {
    "duration": 19,
    "start_time": "2021-10-07T19:02:45.665Z"
   },
   {
    "duration": 21,
    "start_time": "2021-10-07T19:02:57.675Z"
   },
   {
    "duration": 82,
    "start_time": "2021-10-07T19:05:40.941Z"
   },
   {
    "duration": 74,
    "start_time": "2021-10-07T19:05:46.203Z"
   },
   {
    "duration": 4,
    "start_time": "2021-10-07T19:07:45.562Z"
   },
   {
    "duration": 20,
    "start_time": "2021-10-07T19:07:47.768Z"
   },
   {
    "duration": 16,
    "start_time": "2021-10-07T19:07:52.884Z"
   },
   {
    "duration": 73,
    "start_time": "2021-10-07T19:07:59.478Z"
   },
   {
    "duration": 7,
    "start_time": "2021-10-07T19:09:29.912Z"
   },
   {
    "duration": 1624,
    "start_time": "2021-10-07T19:09:58.999Z"
   },
   {
    "duration": 4,
    "start_time": "2021-10-07T19:10:04.091Z"
   },
   {
    "duration": 556,
    "start_time": "2021-10-07T19:10:05.905Z"
   },
   {
    "duration": 16,
    "start_time": "2021-10-07T19:10:07.159Z"
   },
   {
    "duration": 5,
    "start_time": "2021-10-07T19:10:07.889Z"
   },
   {
    "duration": 36,
    "start_time": "2021-10-07T19:10:08.918Z"
   },
   {
    "duration": 12,
    "start_time": "2021-10-07T19:10:09.585Z"
   },
   {
    "duration": 5,
    "start_time": "2021-10-07T19:10:10.761Z"
   },
   {
    "duration": 29,
    "start_time": "2021-10-07T19:10:11.419Z"
   },
   {
    "duration": 12,
    "start_time": "2021-10-07T19:10:12.029Z"
   },
   {
    "duration": 6,
    "start_time": "2021-10-07T19:10:13.059Z"
   },
   {
    "duration": 25,
    "start_time": "2021-10-07T19:10:13.623Z"
   },
   {
    "duration": 12,
    "start_time": "2021-10-07T19:10:14.510Z"
   },
   {
    "duration": 5,
    "start_time": "2021-10-07T19:10:15.083Z"
   },
   {
    "duration": 13,
    "start_time": "2021-10-07T19:10:15.685Z"
   },
   {
    "duration": 15,
    "start_time": "2021-10-07T19:10:16.723Z"
   },
   {
    "duration": 5,
    "start_time": "2021-10-07T19:10:17.447Z"
   },
   {
    "duration": 14,
    "start_time": "2021-10-07T19:10:18.335Z"
   },
   {
    "duration": 5,
    "start_time": "2021-10-07T19:10:22.031Z"
   },
   {
    "duration": 1443,
    "start_time": "2021-10-07T19:10:24.163Z"
   },
   {
    "duration": 36,
    "start_time": "2021-10-07T19:11:07.137Z"
   },
   {
    "duration": 9,
    "start_time": "2021-10-07T19:11:17.147Z"
   },
   {
    "duration": 6,
    "start_time": "2021-10-07T19:11:21.032Z"
   },
   {
    "duration": 15,
    "start_time": "2021-10-07T19:11:24.337Z"
   },
   {
    "duration": 34,
    "start_time": "2021-10-07T19:11:26.588Z"
   },
   {
    "duration": 87,
    "start_time": "2021-10-07T19:11:28.442Z"
   },
   {
    "duration": 5,
    "start_time": "2021-10-07T19:11:30.122Z"
   },
   {
    "duration": 5,
    "start_time": "2021-10-07T19:11:31.048Z"
   },
   {
    "duration": 33,
    "start_time": "2021-10-07T19:11:31.941Z"
   },
   {
    "duration": 36,
    "start_time": "2021-10-07T19:11:36.076Z"
   },
   {
    "duration": 415,
    "start_time": "2021-10-07T19:11:59.902Z"
   },
   {
    "duration": 8,
    "start_time": "2021-10-07T19:12:08.514Z"
   },
   {
    "duration": 8,
    "start_time": "2021-10-07T19:13:47.513Z"
   },
   {
    "duration": 11,
    "start_time": "2021-10-07T19:16:37.343Z"
   },
   {
    "duration": 1712,
    "start_time": "2021-10-07T19:16:59.444Z"
   },
   {
    "duration": 5,
    "start_time": "2021-10-07T19:17:02.073Z"
   },
   {
    "duration": 595,
    "start_time": "2021-10-07T19:17:03.113Z"
   },
   {
    "duration": 17,
    "start_time": "2021-10-07T19:17:04.506Z"
   },
   {
    "duration": 5,
    "start_time": "2021-10-07T19:17:05.616Z"
   },
   {
    "duration": 34,
    "start_time": "2021-10-07T19:17:06.352Z"
   },
   {
    "duration": 12,
    "start_time": "2021-10-07T19:17:07.232Z"
   },
   {
    "duration": 6,
    "start_time": "2021-10-07T19:17:08.358Z"
   },
   {
    "duration": 29,
    "start_time": "2021-10-07T19:17:09.034Z"
   },
   {
    "duration": 12,
    "start_time": "2021-10-07T19:17:10.109Z"
   },
   {
    "duration": 7,
    "start_time": "2021-10-07T19:17:10.731Z"
   },
   {
    "duration": 26,
    "start_time": "2021-10-07T19:17:11.952Z"
   },
   {
    "duration": 12,
    "start_time": "2021-10-07T19:17:12.629Z"
   },
   {
    "duration": 5,
    "start_time": "2021-10-07T19:17:13.445Z"
   },
   {
    "duration": 13,
    "start_time": "2021-10-07T19:17:16.441Z"
   },
   {
    "duration": 15,
    "start_time": "2021-10-07T19:17:17.367Z"
   },
   {
    "duration": 7,
    "start_time": "2021-10-07T19:17:18.496Z"
   },
   {
    "duration": 13,
    "start_time": "2021-10-07T19:17:19.586Z"
   },
   {
    "duration": 5,
    "start_time": "2021-10-07T19:17:29.632Z"
   },
   {
    "duration": 1330,
    "start_time": "2021-10-07T19:17:31.872Z"
   },
   {
    "duration": 32,
    "start_time": "2021-10-07T19:17:34.409Z"
   },
   {
    "duration": 7,
    "start_time": "2021-10-07T19:17:35.630Z"
   },
   {
    "duration": 6,
    "start_time": "2021-10-07T19:17:37.550Z"
   },
   {
    "duration": 14,
    "start_time": "2021-10-07T19:17:41.852Z"
   },
   {
    "duration": 33,
    "start_time": "2021-10-07T19:17:43.556Z"
   },
   {
    "duration": 85,
    "start_time": "2021-10-07T19:17:44.916Z"
   },
   {
    "duration": 4,
    "start_time": "2021-10-07T19:17:46.232Z"
   },
   {
    "duration": 5,
    "start_time": "2021-10-07T19:17:47.090Z"
   },
   {
    "duration": 33,
    "start_time": "2021-10-07T19:17:48.320Z"
   },
   {
    "duration": 36,
    "start_time": "2021-10-07T19:17:51.045Z"
   },
   {
    "duration": 12,
    "start_time": "2021-10-07T19:18:01.382Z"
   },
   {
    "duration": 23,
    "start_time": "2021-10-07T19:18:30.382Z"
   },
   {
    "duration": 32,
    "start_time": "2021-10-07T19:19:07.525Z"
   },
   {
    "duration": 7,
    "start_time": "2021-10-07T19:19:23.205Z"
   },
   {
    "duration": 10,
    "start_time": "2021-10-07T19:19:24.409Z"
   },
   {
    "duration": 6,
    "start_time": "2021-10-07T19:19:35.717Z"
   },
   {
    "duration": 262,
    "start_time": "2021-10-07T19:19:36.889Z"
   },
   {
    "duration": 267,
    "start_time": "2021-10-07T19:19:40.071Z"
   },
   {
    "duration": 272,
    "start_time": "2021-10-07T19:19:42.203Z"
   },
   {
    "duration": 362,
    "start_time": "2021-10-07T19:19:44.277Z"
   },
   {
    "duration": 12,
    "start_time": "2021-10-07T19:19:50.943Z"
   },
   {
    "duration": 17,
    "start_time": "2021-10-07T19:20:05.126Z"
   },
   {
    "duration": 11,
    "start_time": "2021-10-07T19:20:07.122Z"
   },
   {
    "duration": 18,
    "start_time": "2021-10-07T19:20:08.614Z"
   },
   {
    "duration": 6,
    "start_time": "2021-10-07T19:20:19.710Z"
   },
   {
    "duration": 20,
    "start_time": "2021-10-07T19:20:22.001Z"
   },
   {
    "duration": 74,
    "start_time": "2021-10-07T19:20:31.294Z"
   },
   {
    "duration": 9,
    "start_time": "2021-10-07T19:28:37.285Z"
   },
   {
    "duration": 7,
    "start_time": "2021-10-07T19:28:54.867Z"
   },
   {
    "duration": 505,
    "start_time": "2021-10-07T19:31:31.515Z"
   },
   {
    "duration": 4,
    "start_time": "2021-10-07T19:31:37.567Z"
   },
   {
    "duration": 7,
    "start_time": "2021-10-07T19:31:50.837Z"
   },
   {
    "duration": 9,
    "start_time": "2021-10-07T19:32:07.481Z"
   },
   {
    "duration": 251,
    "start_time": "2021-10-07T19:33:22.481Z"
   },
   {
    "duration": 13,
    "start_time": "2021-10-07T19:33:33.850Z"
   },
   {
    "duration": 266,
    "start_time": "2021-10-07T19:34:03.235Z"
   },
   {
    "duration": 15,
    "start_time": "2021-10-07T19:34:23.893Z"
   },
   {
    "duration": 627,
    "start_time": "2021-10-07T19:34:37.057Z"
   },
   {
    "duration": 19,
    "start_time": "2021-10-07T19:34:47.099Z"
   },
   {
    "duration": 19,
    "start_time": "2021-10-07T19:40:32.614Z"
   },
   {
    "duration": 11,
    "start_time": "2021-10-07T19:40:38.015Z"
   },
   {
    "duration": 5,
    "start_time": "2021-10-07T19:47:48.066Z"
   },
   {
    "duration": 6,
    "start_time": "2021-10-07T19:49:02.316Z"
   },
   {
    "duration": 5,
    "start_time": "2021-10-07T19:50:57.924Z"
   },
   {
    "duration": 24,
    "start_time": "2021-10-07T19:51:26.936Z"
   },
   {
    "duration": 1617,
    "start_time": "2021-10-07T20:10:15.531Z"
   },
   {
    "duration": 541,
    "start_time": "2021-10-07T20:10:17.151Z"
   },
   {
    "duration": 19,
    "start_time": "2021-10-07T20:10:17.696Z"
   },
   {
    "duration": 5,
    "start_time": "2021-10-07T20:10:17.718Z"
   },
   {
    "duration": 42,
    "start_time": "2021-10-07T20:10:17.725Z"
   },
   {
    "duration": 13,
    "start_time": "2021-10-07T20:10:17.770Z"
   },
   {
    "duration": 11,
    "start_time": "2021-10-07T20:10:17.786Z"
   },
   {
    "duration": 35,
    "start_time": "2021-10-07T20:10:17.799Z"
   },
   {
    "duration": 12,
    "start_time": "2021-10-07T20:10:17.868Z"
   },
   {
    "duration": 8,
    "start_time": "2021-10-07T20:10:17.883Z"
   },
   {
    "duration": 30,
    "start_time": "2021-10-07T20:10:17.893Z"
   },
   {
    "duration": 42,
    "start_time": "2021-10-07T20:10:17.926Z"
   },
   {
    "duration": 7,
    "start_time": "2021-10-07T20:10:17.971Z"
   },
   {
    "duration": 15,
    "start_time": "2021-10-07T20:10:17.980Z"
   },
   {
    "duration": 16,
    "start_time": "2021-10-07T20:10:17.997Z"
   },
   {
    "duration": 51,
    "start_time": "2021-10-07T20:10:18.016Z"
   },
   {
    "duration": 14,
    "start_time": "2021-10-07T20:10:18.070Z"
   },
   {
    "duration": 7,
    "start_time": "2021-10-07T20:10:18.087Z"
   },
   {
    "duration": 1356,
    "start_time": "2021-10-07T20:10:18.097Z"
   },
   {
    "duration": 35,
    "start_time": "2021-10-07T20:10:19.456Z"
   },
   {
    "duration": 6,
    "start_time": "2021-10-07T20:10:19.493Z"
   },
   {
    "duration": 10,
    "start_time": "2021-10-07T20:10:19.502Z"
   },
   {
    "duration": 20,
    "start_time": "2021-10-07T20:10:19.514Z"
   },
   {
    "duration": 58,
    "start_time": "2021-10-07T20:10:19.537Z"
   },
   {
    "duration": 96,
    "start_time": "2021-10-07T20:10:19.597Z"
   },
   {
    "duration": 5,
    "start_time": "2021-10-07T20:10:19.695Z"
   },
   {
    "duration": 7,
    "start_time": "2021-10-07T20:10:19.705Z"
   },
   {
    "duration": 53,
    "start_time": "2021-10-07T20:10:19.714Z"
   },
   {
    "duration": 35,
    "start_time": "2021-10-07T20:10:19.770Z"
   },
   {
    "duration": 10,
    "start_time": "2021-10-07T20:10:19.808Z"
   },
   {
    "duration": 52,
    "start_time": "2021-10-07T20:10:19.820Z"
   },
   {
    "duration": 32,
    "start_time": "2021-10-07T20:10:19.874Z"
   },
   {
    "duration": 8,
    "start_time": "2021-10-07T20:10:19.909Z"
   },
   {
    "duration": 13,
    "start_time": "2021-10-07T20:10:19.919Z"
   },
   {
    "duration": 33,
    "start_time": "2021-10-07T20:10:19.934Z"
   },
   {
    "duration": 283,
    "start_time": "2021-10-07T20:10:19.970Z"
   },
   {
    "duration": 278,
    "start_time": "2021-10-07T20:10:20.255Z"
   },
   {
    "duration": 294,
    "start_time": "2021-10-07T20:10:20.536Z"
   },
   {
    "duration": 396,
    "start_time": "2021-10-07T20:10:20.832Z"
   },
   {
    "duration": 11,
    "start_time": "2021-10-07T20:10:21.231Z"
   },
   {
    "duration": 33,
    "start_time": "2021-10-07T20:10:21.245Z"
   },
   {
    "duration": 20,
    "start_time": "2021-10-07T20:10:21.281Z"
   },
   {
    "duration": 19,
    "start_time": "2021-10-07T20:10:21.303Z"
   },
   {
    "duration": 11,
    "start_time": "2021-10-07T20:10:21.324Z"
   },
   {
    "duration": 31,
    "start_time": "2021-10-07T20:10:21.338Z"
   },
   {
    "duration": 19,
    "start_time": "2021-10-07T20:10:21.371Z"
   },
   {
    "duration": 71,
    "start_time": "2021-10-07T20:10:26.226Z"
   },
   {
    "duration": 397,
    "start_time": "2021-10-07T20:10:43.241Z"
   },
   {
    "duration": 76,
    "start_time": "2021-10-07T20:11:05.486Z"
   },
   {
    "duration": 16,
    "start_time": "2021-10-07T20:11:11.529Z"
   },
   {
    "duration": 299,
    "start_time": "2021-10-07T20:12:47.092Z"
   },
   {
    "duration": 311,
    "start_time": "2021-10-07T20:17:22.443Z"
   },
   {
    "duration": 23,
    "start_time": "2021-10-07T20:18:01.146Z"
   },
   {
    "duration": 261,
    "start_time": "2021-10-07T20:18:19.614Z"
   },
   {
    "duration": 251,
    "start_time": "2021-10-07T20:19:20.068Z"
   },
   {
    "duration": 79,
    "start_time": "2021-10-07T20:19:42.853Z"
   },
   {
    "duration": 6,
    "start_time": "2021-10-07T20:29:40.152Z"
   },
   {
    "duration": 6,
    "start_time": "2021-10-07T20:32:16.268Z"
   },
   {
    "duration": 12,
    "start_time": "2021-10-07T20:32:50.218Z"
   },
   {
    "duration": 8,
    "start_time": "2021-10-07T20:36:28.923Z"
   },
   {
    "duration": 9,
    "start_time": "2021-10-07T20:38:09.488Z"
   },
   {
    "duration": 1602,
    "start_time": "2021-10-07T20:39:46.238Z"
   },
   {
    "duration": 557,
    "start_time": "2021-10-07T20:39:47.843Z"
   },
   {
    "duration": 23,
    "start_time": "2021-10-07T20:39:48.404Z"
   },
   {
    "duration": 7,
    "start_time": "2021-10-07T20:39:48.431Z"
   },
   {
    "duration": 54,
    "start_time": "2021-10-07T20:39:48.441Z"
   },
   {
    "duration": 14,
    "start_time": "2021-10-07T20:39:48.497Z"
   },
   {
    "duration": 10,
    "start_time": "2021-10-07T20:39:48.514Z"
   },
   {
    "duration": 71,
    "start_time": "2021-10-07T20:39:48.530Z"
   },
   {
    "duration": 10,
    "start_time": "2021-10-07T20:39:48.603Z"
   },
   {
    "duration": 7,
    "start_time": "2021-10-07T20:39:48.615Z"
   },
   {
    "duration": 53,
    "start_time": "2021-10-07T20:39:48.624Z"
   },
   {
    "duration": 12,
    "start_time": "2021-10-07T20:39:48.679Z"
   },
   {
    "duration": 7,
    "start_time": "2021-10-07T20:39:48.693Z"
   },
   {
    "duration": 18,
    "start_time": "2021-10-07T20:39:48.702Z"
   },
   {
    "duration": 53,
    "start_time": "2021-10-07T20:39:48.722Z"
   },
   {
    "duration": 6,
    "start_time": "2021-10-07T20:39:48.777Z"
   },
   {
    "duration": 14,
    "start_time": "2021-10-07T20:39:48.785Z"
   },
   {
    "duration": 6,
    "start_time": "2021-10-07T20:39:48.802Z"
   },
   {
    "duration": 1424,
    "start_time": "2021-10-07T20:39:48.810Z"
   },
   {
    "duration": 41,
    "start_time": "2021-10-07T20:39:50.237Z"
   },
   {
    "duration": 6,
    "start_time": "2021-10-07T20:39:50.281Z"
   },
   {
    "duration": 6,
    "start_time": "2021-10-07T20:39:50.290Z"
   },
   {
    "duration": 14,
    "start_time": "2021-10-07T20:39:50.302Z"
   },
   {
    "duration": 63,
    "start_time": "2021-10-07T20:39:50.320Z"
   },
   {
    "duration": 95,
    "start_time": "2021-10-07T20:39:50.385Z"
   },
   {
    "duration": 4,
    "start_time": "2021-10-07T20:39:50.483Z"
   },
   {
    "duration": 8,
    "start_time": "2021-10-07T20:39:50.490Z"
   },
   {
    "duration": 34,
    "start_time": "2021-10-07T20:39:50.500Z"
   },
   {
    "duration": 56,
    "start_time": "2021-10-07T20:39:50.536Z"
   },
   {
    "duration": 12,
    "start_time": "2021-10-07T20:39:50.594Z"
   },
   {
    "duration": 22,
    "start_time": "2021-10-07T20:39:50.609Z"
   },
   {
    "duration": 65,
    "start_time": "2021-10-07T20:39:50.633Z"
   },
   {
    "duration": 11,
    "start_time": "2021-10-07T20:39:50.700Z"
   },
   {
    "duration": 13,
    "start_time": "2021-10-07T20:39:50.715Z"
   },
   {
    "duration": 6,
    "start_time": "2021-10-07T20:39:50.730Z"
   },
   {
    "duration": 289,
    "start_time": "2021-10-07T20:39:50.768Z"
   },
   {
    "duration": 283,
    "start_time": "2021-10-07T20:39:51.059Z"
   },
   {
    "duration": 286,
    "start_time": "2021-10-07T20:39:51.344Z"
   },
   {
    "duration": 391,
    "start_time": "2021-10-07T20:39:51.632Z"
   },
   {
    "duration": 13,
    "start_time": "2021-10-07T20:39:52.026Z"
   },
   {
    "duration": 18,
    "start_time": "2021-10-07T20:39:52.066Z"
   },
   {
    "duration": 11,
    "start_time": "2021-10-07T20:39:52.087Z"
   },
   {
    "duration": 17,
    "start_time": "2021-10-07T20:39:52.101Z"
   },
   {
    "duration": 56,
    "start_time": "2021-10-07T20:39:52.122Z"
   },
   {
    "duration": 6,
    "start_time": "2021-10-07T20:39:52.181Z"
   },
   {
    "duration": 23,
    "start_time": "2021-10-07T20:39:52.189Z"
   },
   {
    "duration": 6,
    "start_time": "2021-10-07T20:39:52.215Z"
   },
   {
    "duration": 434,
    "start_time": "2021-10-07T20:39:52.224Z"
   },
   {
    "duration": 128,
    "start_time": "2021-10-07T20:39:52.534Z"
   },
   {
    "duration": 118,
    "start_time": "2021-10-07T20:39:52.546Z"
   },
   {
    "duration": 117,
    "start_time": "2021-10-07T20:39:52.549Z"
   },
   {
    "duration": 115,
    "start_time": "2021-10-07T20:39:52.553Z"
   },
   {
    "duration": 115,
    "start_time": "2021-10-07T20:39:52.556Z"
   },
   {
    "duration": 1772,
    "start_time": "2021-10-07T20:40:28.376Z"
   },
   {
    "duration": 553,
    "start_time": "2021-10-07T20:40:30.151Z"
   },
   {
    "duration": 16,
    "start_time": "2021-10-07T20:40:30.707Z"
   },
   {
    "duration": 6,
    "start_time": "2021-10-07T20:40:30.727Z"
   },
   {
    "duration": 37,
    "start_time": "2021-10-07T20:40:30.735Z"
   },
   {
    "duration": 12,
    "start_time": "2021-10-07T20:40:30.774Z"
   },
   {
    "duration": 10,
    "start_time": "2021-10-07T20:40:30.789Z"
   },
   {
    "duration": 29,
    "start_time": "2021-10-07T20:40:30.802Z"
   },
   {
    "duration": 36,
    "start_time": "2021-10-07T20:40:30.833Z"
   },
   {
    "duration": 19,
    "start_time": "2021-10-07T20:40:30.871Z"
   },
   {
    "duration": 30,
    "start_time": "2021-10-07T20:40:30.893Z"
   },
   {
    "duration": 15,
    "start_time": "2021-10-07T20:40:30.926Z"
   },
   {
    "duration": 26,
    "start_time": "2021-10-07T20:40:30.943Z"
   },
   {
    "duration": 26,
    "start_time": "2021-10-07T20:40:30.971Z"
   },
   {
    "duration": 28,
    "start_time": "2021-10-07T20:40:30.999Z"
   },
   {
    "duration": 12,
    "start_time": "2021-10-07T20:40:31.029Z"
   },
   {
    "duration": 26,
    "start_time": "2021-10-07T20:40:31.043Z"
   },
   {
    "duration": 4,
    "start_time": "2021-10-07T20:40:31.072Z"
   },
   {
    "duration": 1412,
    "start_time": "2021-10-07T20:40:31.078Z"
   },
   {
    "duration": 28,
    "start_time": "2021-10-07T20:40:32.493Z"
   },
   {
    "duration": 6,
    "start_time": "2021-10-07T20:40:32.523Z"
   },
   {
    "duration": 6,
    "start_time": "2021-10-07T20:40:32.532Z"
   },
   {
    "duration": 16,
    "start_time": "2021-10-07T20:40:32.571Z"
   },
   {
    "duration": 34,
    "start_time": "2021-10-07T20:40:32.590Z"
   },
   {
    "duration": 112,
    "start_time": "2021-10-07T20:40:32.627Z"
   },
   {
    "duration": 5,
    "start_time": "2021-10-07T20:40:32.742Z"
   },
   {
    "duration": 20,
    "start_time": "2021-10-07T20:40:32.750Z"
   },
   {
    "duration": 34,
    "start_time": "2021-10-07T20:40:32.773Z"
   },
   {
    "duration": 60,
    "start_time": "2021-10-07T20:40:32.810Z"
   },
   {
    "duration": 12,
    "start_time": "2021-10-07T20:40:32.873Z"
   },
   {
    "duration": 23,
    "start_time": "2021-10-07T20:40:32.888Z"
   },
   {
    "duration": 64,
    "start_time": "2021-10-07T20:40:32.914Z"
   },
   {
    "duration": 7,
    "start_time": "2021-10-07T20:40:32.981Z"
   },
   {
    "duration": 20,
    "start_time": "2021-10-07T20:40:32.990Z"
   },
   {
    "duration": 5,
    "start_time": "2021-10-07T20:40:33.013Z"
   },
   {
    "duration": 311,
    "start_time": "2021-10-07T20:40:33.020Z"
   },
   {
    "duration": 319,
    "start_time": "2021-10-07T20:40:33.333Z"
   },
   {
    "duration": 287,
    "start_time": "2021-10-07T20:40:33.654Z"
   },
   {
    "duration": 398,
    "start_time": "2021-10-07T20:40:33.943Z"
   },
   {
    "duration": 25,
    "start_time": "2021-10-07T20:40:34.343Z"
   },
   {
    "duration": 17,
    "start_time": "2021-10-07T20:40:34.370Z"
   },
   {
    "duration": 9,
    "start_time": "2021-10-07T20:40:34.389Z"
   },
   {
    "duration": 18,
    "start_time": "2021-10-07T20:40:34.400Z"
   },
   {
    "duration": 11,
    "start_time": "2021-10-07T20:40:34.420Z"
   },
   {
    "duration": 8,
    "start_time": "2021-10-07T20:40:34.468Z"
   },
   {
    "duration": 21,
    "start_time": "2021-10-07T20:40:34.479Z"
   },
   {
    "duration": 9,
    "start_time": "2021-10-07T20:40:34.502Z"
   },
   {
    "duration": 14,
    "start_time": "2021-10-07T20:40:34.513Z"
   },
   {
    "duration": 38,
    "start_time": "2021-10-07T20:40:34.530Z"
   },
   {
    "duration": 8,
    "start_time": "2021-10-07T20:40:34.571Z"
   },
   {
    "duration": 109,
    "start_time": "2021-10-07T20:40:34.582Z"
   },
   {
    "duration": 5,
    "start_time": "2021-10-07T20:43:56.728Z"
   },
   {
    "duration": 80,
    "start_time": "2021-10-07T20:44:02.149Z"
   },
   {
    "duration": 25,
    "start_time": "2021-10-07T20:45:11.126Z"
   },
   {
    "duration": 80,
    "start_time": "2021-10-07T20:46:35.011Z"
   },
   {
    "duration": 6,
    "start_time": "2021-10-07T20:55:56.514Z"
   },
   {
    "duration": 974,
    "start_time": "2021-10-07T20:55:58.268Z"
   },
   {
    "duration": 6,
    "start_time": "2021-10-07T20:56:39.070Z"
   },
   {
    "duration": 433,
    "start_time": "2021-10-07T20:56:40.566Z"
   },
   {
    "duration": 443,
    "start_time": "2021-10-07T20:57:19.980Z"
   },
   {
    "duration": 446,
    "start_time": "2021-10-07T20:57:51.765Z"
   },
   {
    "duration": 5,
    "start_time": "2021-10-07T21:03:15.380Z"
   },
   {
    "duration": 305,
    "start_time": "2021-10-07T21:03:32.981Z"
   },
   {
    "duration": 320,
    "start_time": "2021-10-07T21:04:56.630Z"
   },
   {
    "duration": 443,
    "start_time": "2021-10-07T21:04:59.494Z"
   },
   {
    "duration": 296,
    "start_time": "2021-10-07T21:05:05.111Z"
   },
   {
    "duration": 6,
    "start_time": "2021-10-07T21:05:49.322Z"
   },
   {
    "duration": 365,
    "start_time": "2021-10-07T21:05:51.902Z"
   },
   {
    "duration": 300,
    "start_time": "2021-10-07T21:07:45.778Z"
   },
   {
    "duration": 1450,
    "start_time": "2021-10-07T21:07:52.590Z"
   },
   {
    "duration": 817,
    "start_time": "2021-10-07T21:08:03.410Z"
   },
   {
    "duration": 398,
    "start_time": "2021-10-07T21:09:45.825Z"
   },
   {
    "duration": 397,
    "start_time": "2021-10-07T21:09:55.481Z"
   },
   {
    "duration": 303,
    "start_time": "2021-10-07T21:10:23.445Z"
   },
   {
    "duration": 3476,
    "start_time": "2021-10-07T21:11:36.488Z"
   },
   {
    "duration": 442,
    "start_time": "2021-10-07T21:12:11.487Z"
   },
   {
    "duration": 1180,
    "start_time": "2021-10-08T11:04:50.021Z"
   },
   {
    "duration": 385,
    "start_time": "2021-10-08T11:04:53.288Z"
   },
   {
    "duration": 11,
    "start_time": "2021-10-08T11:04:54.414Z"
   },
   {
    "duration": 4,
    "start_time": "2021-10-08T11:04:55.774Z"
   },
   {
    "duration": 21,
    "start_time": "2021-10-08T11:04:56.714Z"
   },
   {
    "duration": 8,
    "start_time": "2021-10-08T11:05:02.316Z"
   },
   {
    "duration": 3,
    "start_time": "2021-10-08T11:05:03.024Z"
   },
   {
    "duration": 18,
    "start_time": "2021-10-08T11:05:04.506Z"
   },
   {
    "duration": 6,
    "start_time": "2021-10-08T11:05:05.358Z"
   },
   {
    "duration": 4,
    "start_time": "2021-10-08T11:05:06.914Z"
   },
   {
    "duration": 14,
    "start_time": "2021-10-08T11:05:07.434Z"
   },
   {
    "duration": 8,
    "start_time": "2021-10-08T11:05:08.048Z"
   },
   {
    "duration": 4,
    "start_time": "2021-10-08T11:05:09.532Z"
   },
   {
    "duration": 6,
    "start_time": "2021-10-08T11:05:10.118Z"
   },
   {
    "duration": 10,
    "start_time": "2021-10-08T11:05:10.666Z"
   },
   {
    "duration": 4,
    "start_time": "2021-10-08T11:05:11.826Z"
   },
   {
    "duration": 6,
    "start_time": "2021-10-08T11:05:12.500Z"
   },
   {
    "duration": 4,
    "start_time": "2021-10-08T11:05:29.424Z"
   },
   {
    "duration": 893,
    "start_time": "2021-10-08T11:05:31.684Z"
   },
   {
    "duration": 22,
    "start_time": "2021-10-08T11:05:34.924Z"
   },
   {
    "duration": 5,
    "start_time": "2021-10-08T11:05:36.009Z"
   },
   {
    "duration": 11,
    "start_time": "2021-10-08T11:05:38.360Z"
   },
   {
    "duration": 12,
    "start_time": "2021-10-08T11:05:40.322Z"
   },
   {
    "duration": 26,
    "start_time": "2021-10-08T11:05:41.934Z"
   },
   {
    "duration": 56,
    "start_time": "2021-10-08T11:05:42.744Z"
   },
   {
    "duration": 3,
    "start_time": "2021-10-08T11:05:44.152Z"
   },
   {
    "duration": 4,
    "start_time": "2021-10-08T11:05:45.091Z"
   },
   {
    "duration": 22,
    "start_time": "2021-10-08T11:05:46.822Z"
   },
   {
    "duration": 23,
    "start_time": "2021-10-08T11:09:55.298Z"
   },
   {
    "duration": 7,
    "start_time": "2021-10-08T11:09:58.507Z"
   },
   {
    "duration": 13,
    "start_time": "2021-10-08T11:10:08.052Z"
   },
   {
    "duration": 6,
    "start_time": "2021-10-08T11:10:41.608Z"
   },
   {
    "duration": 6,
    "start_time": "2021-10-08T11:10:43.460Z"
   },
   {
    "duration": 16,
    "start_time": "2021-10-08T11:10:48.590Z"
   },
   {
    "duration": 4,
    "start_time": "2021-10-08T11:11:01.114Z"
   },
   {
    "duration": 220,
    "start_time": "2021-10-08T11:11:02.362Z"
   },
   {
    "duration": 225,
    "start_time": "2021-10-08T11:11:05.464Z"
   },
   {
    "duration": 224,
    "start_time": "2021-10-08T11:11:10.084Z"
   },
   {
    "duration": 225,
    "start_time": "2021-10-08T11:11:13.100Z"
   },
   {
    "duration": 7,
    "start_time": "2021-10-08T11:11:33.200Z"
   },
   {
    "duration": 8,
    "start_time": "2021-10-08T11:11:36.422Z"
   },
   {
    "duration": 6,
    "start_time": "2021-10-08T11:11:42.181Z"
   },
   {
    "duration": 8,
    "start_time": "2021-10-08T11:11:43.680Z"
   },
   {
    "duration": 8,
    "start_time": "2021-10-08T11:11:57.599Z"
   },
   {
    "duration": 4,
    "start_time": "2021-10-08T11:12:05.655Z"
   },
   {
    "duration": 8,
    "start_time": "2021-10-08T11:12:26.443Z"
   },
   {
    "duration": 8,
    "start_time": "2021-10-08T11:12:27.007Z"
   },
   {
    "duration": 7,
    "start_time": "2021-10-08T11:12:27.542Z"
   },
   {
    "duration": 4,
    "start_time": "2021-10-08T11:12:29.461Z"
   },
   {
    "duration": 5,
    "start_time": "2021-10-08T11:12:32.795Z"
   },
   {
    "duration": 16,
    "start_time": "2021-10-08T11:12:35.457Z"
   },
   {
    "duration": 50,
    "start_time": "2021-10-08T11:12:45.599Z"
   },
   {
    "duration": 15,
    "start_time": "2021-10-08T11:17:13.376Z"
   },
   {
    "duration": 169,
    "start_time": "2021-10-08T11:17:31.578Z"
   },
   {
    "duration": 178,
    "start_time": "2021-10-08T11:17:48.373Z"
   },
   {
    "duration": 170,
    "start_time": "2021-10-08T11:18:04.415Z"
   },
   {
    "duration": 10,
    "start_time": "2021-10-08T11:19:51.808Z"
   },
   {
    "duration": 79,
    "start_time": "2021-10-08T11:23:56.203Z"
   },
   {
    "duration": 270,
    "start_time": "2021-10-08T11:24:05.587Z"
   },
   {
    "duration": 208,
    "start_time": "2021-10-08T11:24:56.869Z"
   },
   {
    "duration": 7,
    "start_time": "2021-10-08T11:30:05.653Z"
   },
   {
    "duration": 210,
    "start_time": "2021-10-08T11:31:02.269Z"
   },
   {
    "duration": 202,
    "start_time": "2021-10-08T11:33:05.834Z"
   },
   {
    "duration": 205,
    "start_time": "2021-10-08T11:36:15.191Z"
   },
   {
    "duration": 210,
    "start_time": "2021-10-08T11:36:36.135Z"
   },
   {
    "duration": 223,
    "start_time": "2021-10-08T11:37:35.786Z"
   },
   {
    "duration": 204,
    "start_time": "2021-10-08T11:38:07.760Z"
   },
   {
    "duration": 28,
    "start_time": "2021-10-08T11:39:44.959Z"
   },
   {
    "duration": 9,
    "start_time": "2021-10-08T11:40:16.729Z"
   },
   {
    "duration": 16,
    "start_time": "2021-10-08T11:41:21.664Z"
   },
   {
    "duration": 28,
    "start_time": "2021-10-08T11:41:38.585Z"
   },
   {
    "duration": 15,
    "start_time": "2021-10-08T11:41:46.646Z"
   },
   {
    "duration": 4,
    "start_time": "2021-10-08T11:43:14.798Z"
   },
   {
    "duration": 245,
    "start_time": "2021-10-08T11:43:16.871Z"
   },
   {
    "duration": 253,
    "start_time": "2021-10-08T11:43:18.603Z"
   },
   {
    "duration": 246,
    "start_time": "2021-10-08T11:43:20.265Z"
   },
   {
    "duration": 4,
    "start_time": "2021-10-08T11:46:29.066Z"
   },
   {
    "duration": 836,
    "start_time": "2021-10-08T11:46:44.828Z"
   },
   {
    "duration": 4,
    "start_time": "2021-10-08T11:47:25.034Z"
   },
   {
    "duration": 445,
    "start_time": "2021-10-08T11:47:27.998Z"
   },
   {
    "duration": 5,
    "start_time": "2021-10-08T11:48:49.997Z"
   },
   {
    "duration": 255,
    "start_time": "2021-10-08T11:48:52.531Z"
   },
   {
    "duration": 13,
    "start_time": "2021-10-08T11:50:58.091Z"
   },
   {
    "duration": 13,
    "start_time": "2021-10-08T11:51:06.864Z"
   },
   {
    "duration": 4,
    "start_time": "2021-10-08T11:53:11.212Z"
   },
   {
    "duration": 665,
    "start_time": "2021-10-08T11:53:13.536Z"
   },
   {
    "duration": 4,
    "start_time": "2021-10-08T11:53:22.680Z"
   },
   {
    "duration": 228,
    "start_time": "2021-10-08T11:53:26.446Z"
   },
   {
    "duration": 764178,
    "start_time": "2021-10-08T12:00:09.339Z"
   },
   {
    "duration": 58179,
    "start_time": "2021-10-08T12:13:13.596Z"
   },
   {
    "duration": 1449,
    "start_time": "2021-10-08T12:14:23.719Z"
   },
   {
    "duration": 571,
    "start_time": "2021-10-08T12:14:25.171Z"
   },
   {
    "duration": 15,
    "start_time": "2021-10-08T12:14:25.744Z"
   },
   {
    "duration": 9,
    "start_time": "2021-10-08T12:14:25.761Z"
   },
   {
    "duration": 47,
    "start_time": "2021-10-08T12:14:25.772Z"
   },
   {
    "duration": 10,
    "start_time": "2021-10-08T12:14:25.821Z"
   },
   {
    "duration": 6,
    "start_time": "2021-10-08T12:14:25.845Z"
   },
   {
    "duration": 36,
    "start_time": "2021-10-08T12:14:25.855Z"
   },
   {
    "duration": 9,
    "start_time": "2021-10-08T12:14:25.894Z"
   },
   {
    "duration": 26,
    "start_time": "2021-10-08T12:14:25.905Z"
   },
   {
    "duration": 38,
    "start_time": "2021-10-08T12:14:25.933Z"
   },
   {
    "duration": 22,
    "start_time": "2021-10-08T12:14:25.973Z"
   },
   {
    "duration": 15,
    "start_time": "2021-10-08T12:14:25.997Z"
   },
   {
    "duration": 21,
    "start_time": "2021-10-08T12:14:26.014Z"
   },
   {
    "duration": 29,
    "start_time": "2021-10-08T12:14:26.037Z"
   },
   {
    "duration": 17,
    "start_time": "2021-10-08T12:14:26.068Z"
   },
   {
    "duration": 30,
    "start_time": "2021-10-08T12:14:26.087Z"
   },
   {
    "duration": 14,
    "start_time": "2021-10-08T12:14:26.119Z"
   },
   {
    "duration": 1468,
    "start_time": "2021-10-08T12:14:26.136Z"
   },
   {
    "duration": 38,
    "start_time": "2021-10-08T12:14:27.606Z"
   },
   {
    "duration": 6,
    "start_time": "2021-10-08T12:14:27.646Z"
   },
   {
    "duration": 14,
    "start_time": "2021-10-08T12:14:27.654Z"
   },
   {
    "duration": 26,
    "start_time": "2021-10-08T12:14:27.673Z"
   },
   {
    "duration": 39,
    "start_time": "2021-10-08T12:14:27.702Z"
   },
   {
    "duration": 78,
    "start_time": "2021-10-08T12:14:27.743Z"
   },
   {
    "duration": 4,
    "start_time": "2021-10-08T12:14:27.823Z"
   },
   {
    "duration": 15,
    "start_time": "2021-10-08T12:14:27.829Z"
   },
   {
    "duration": 34,
    "start_time": "2021-10-08T12:14:27.846Z"
   },
   {
    "duration": 34,
    "start_time": "2021-10-08T12:14:27.882Z"
   },
   {
    "duration": 29,
    "start_time": "2021-10-08T12:14:27.918Z"
   },
   {
    "duration": 22,
    "start_time": "2021-10-08T12:14:27.949Z"
   },
   {
    "duration": 22,
    "start_time": "2021-10-08T12:14:27.973Z"
   },
   {
    "duration": 19,
    "start_time": "2021-10-08T12:14:27.997Z"
   },
   {
    "duration": 24,
    "start_time": "2021-10-08T12:14:28.018Z"
   },
   {
    "duration": 8,
    "start_time": "2021-10-08T12:14:28.044Z"
   },
   {
    "duration": 248,
    "start_time": "2021-10-08T12:14:28.054Z"
   },
   {
    "duration": 248,
    "start_time": "2021-10-08T12:14:28.304Z"
   },
   {
    "duration": 240,
    "start_time": "2021-10-08T12:14:28.553Z"
   },
   {
    "duration": 253,
    "start_time": "2021-10-08T12:14:28.795Z"
   },
   {
    "duration": 7,
    "start_time": "2021-10-08T12:14:29.050Z"
   },
   {
    "duration": 14,
    "start_time": "2021-10-08T12:14:29.058Z"
   },
   {
    "duration": 15,
    "start_time": "2021-10-08T12:14:29.073Z"
   },
   {
    "duration": 14,
    "start_time": "2021-10-08T12:14:29.090Z"
   },
   {
    "duration": 9,
    "start_time": "2021-10-08T12:14:29.106Z"
   },
   {
    "duration": 5,
    "start_time": "2021-10-08T12:14:29.117Z"
   },
   {
    "duration": 27,
    "start_time": "2021-10-08T12:14:29.123Z"
   },
   {
    "duration": 22,
    "start_time": "2021-10-08T12:14:29.152Z"
   },
   {
    "duration": 14,
    "start_time": "2021-10-08T12:14:29.176Z"
   },
   {
    "duration": 10,
    "start_time": "2021-10-08T12:14:29.192Z"
   },
   {
    "duration": 16,
    "start_time": "2021-10-08T12:14:29.204Z"
   },
   {
    "duration": 33,
    "start_time": "2021-10-08T12:14:29.221Z"
   },
   {
    "duration": 50,
    "start_time": "2021-10-08T12:14:29.258Z"
   },
   {
    "duration": 5,
    "start_time": "2021-10-08T12:14:29.310Z"
   },
   {
    "duration": 267,
    "start_time": "2021-10-08T12:14:29.317Z"
   },
   {
    "duration": 313,
    "start_time": "2021-10-08T12:14:29.586Z"
   },
   {
    "duration": 96,
    "start_time": "2021-10-08T12:14:29.804Z"
   },
   {
    "duration": 91,
    "start_time": "2021-10-08T12:14:29.810Z"
   },
   {
    "duration": 88,
    "start_time": "2021-10-08T12:14:29.814Z"
   },
   {
    "duration": 85,
    "start_time": "2021-10-08T12:14:29.818Z"
   },
   {
    "duration": 83,
    "start_time": "2021-10-08T12:14:29.821Z"
   },
   {
    "duration": 80,
    "start_time": "2021-10-08T12:14:29.825Z"
   },
   {
    "duration": 655,
    "start_time": "2021-10-08T12:23:05.219Z"
   },
   {
    "duration": 565,
    "start_time": "2021-10-08T12:24:12.244Z"
   },
   {
    "duration": 599,
    "start_time": "2021-10-08T12:24:33.814Z"
   },
   {
    "duration": 611,
    "start_time": "2021-10-08T12:26:24.902Z"
   },
   {
    "duration": 710,
    "start_time": "2021-10-08T12:26:31.407Z"
   },
   {
    "duration": 608,
    "start_time": "2021-10-08T12:26:35.825Z"
   },
   {
    "duration": 685,
    "start_time": "2021-10-08T12:27:13.606Z"
   },
   {
    "duration": 613,
    "start_time": "2021-10-08T12:27:34.956Z"
   },
   {
    "duration": 391,
    "start_time": "2021-10-08T12:28:29.078Z"
   },
   {
    "duration": 691,
    "start_time": "2021-10-08T12:29:44.032Z"
   },
   {
    "duration": 692,
    "start_time": "2021-10-08T12:30:31.524Z"
   },
   {
    "duration": 890,
    "start_time": "2021-10-08T12:30:37.983Z"
   },
   {
    "duration": 679,
    "start_time": "2021-10-08T12:30:44.134Z"
   },
   {
    "duration": 869,
    "start_time": "2021-10-08T12:32:12.316Z"
   },
   {
    "duration": 914,
    "start_time": "2021-10-08T12:32:17.690Z"
   },
   {
    "duration": 697,
    "start_time": "2021-10-08T12:32:21.356Z"
   },
   {
    "duration": 257,
    "start_time": "2021-10-08T12:33:00.552Z"
   },
   {
    "duration": 3,
    "start_time": "2021-10-08T12:33:19.436Z"
   },
   {
    "duration": 452,
    "start_time": "2021-10-08T12:33:27.168Z"
   },
   {
    "duration": 610,
    "start_time": "2021-10-08T12:33:35.114Z"
   },
   {
    "duration": 391,
    "start_time": "2021-10-08T12:34:10.827Z"
   },
   {
    "duration": 533,
    "start_time": "2021-10-08T12:34:41.325Z"
   },
   {
    "duration": 463,
    "start_time": "2021-10-08T12:34:54.817Z"
   },
   {
    "duration": 438,
    "start_time": "2021-10-08T12:34:59.356Z"
   },
   {
    "duration": 427,
    "start_time": "2021-10-08T12:35:05.211Z"
   },
   {
    "duration": 362,
    "start_time": "2021-10-08T12:36:02.738Z"
   },
   {
    "duration": 426,
    "start_time": "2021-10-08T12:36:44.986Z"
   },
   {
    "duration": 240,
    "start_time": "2021-10-08T12:43:04.484Z"
   },
   {
    "duration": 589,
    "start_time": "2021-10-08T12:43:58.417Z"
   },
   {
    "duration": 430,
    "start_time": "2021-10-08T12:45:12.558Z"
   },
   {
    "duration": 418,
    "start_time": "2021-10-08T12:45:41.010Z"
   },
   {
    "duration": 433,
    "start_time": "2021-10-08T12:46:34.049Z"
   },
   {
    "duration": 246,
    "start_time": "2021-10-08T12:46:56.877Z"
   },
   {
    "duration": 4,
    "start_time": "2021-10-08T12:47:03.701Z"
   },
   {
    "duration": 222,
    "start_time": "2021-10-08T12:47:07.358Z"
   },
   {
    "duration": 404,
    "start_time": "2021-10-08T12:47:13.995Z"
   },
   {
    "duration": 219,
    "start_time": "2021-10-08T12:47:15.273Z"
   },
   {
    "duration": 11,
    "start_time": "2021-10-08T12:48:32.324Z"
   },
   {
    "duration": 8,
    "start_time": "2021-10-08T12:49:28.279Z"
   },
   {
    "duration": 4,
    "start_time": "2021-10-08T12:54:20.438Z"
   },
   {
    "duration": 391,
    "start_time": "2021-10-08T12:54:43.060Z"
   },
   {
    "duration": 84,
    "start_time": "2021-10-08T12:58:38.507Z"
   },
   {
    "duration": 4,
    "start_time": "2021-10-08T12:59:17.192Z"
   },
   {
    "duration": 223,
    "start_time": "2021-10-08T12:59:21.067Z"
   },
   {
    "duration": 1134,
    "start_time": "2021-10-08T13:00:47.063Z"
   },
   {
    "duration": 415,
    "start_time": "2021-10-08T13:00:48.199Z"
   },
   {
    "duration": 11,
    "start_time": "2021-10-08T13:00:48.616Z"
   },
   {
    "duration": 8,
    "start_time": "2021-10-08T13:00:48.628Z"
   },
   {
    "duration": 34,
    "start_time": "2021-10-08T13:00:48.638Z"
   },
   {
    "duration": 8,
    "start_time": "2021-10-08T13:00:48.674Z"
   },
   {
    "duration": 14,
    "start_time": "2021-10-08T13:00:48.684Z"
   },
   {
    "duration": 26,
    "start_time": "2021-10-08T13:00:48.702Z"
   },
   {
    "duration": 16,
    "start_time": "2021-10-08T13:00:48.731Z"
   },
   {
    "duration": 12,
    "start_time": "2021-10-08T13:00:48.750Z"
   },
   {
    "duration": 24,
    "start_time": "2021-10-08T13:00:48.764Z"
   },
   {
    "duration": 10,
    "start_time": "2021-10-08T13:00:48.790Z"
   },
   {
    "duration": 11,
    "start_time": "2021-10-08T13:00:48.802Z"
   },
   {
    "duration": 24,
    "start_time": "2021-10-08T13:00:48.815Z"
   },
   {
    "duration": 14,
    "start_time": "2021-10-08T13:00:48.840Z"
   },
   {
    "duration": 16,
    "start_time": "2021-10-08T13:00:48.855Z"
   },
   {
    "duration": 34,
    "start_time": "2021-10-08T13:00:48.872Z"
   },
   {
    "duration": 39,
    "start_time": "2021-10-08T13:00:48.908Z"
   },
   {
    "duration": 1179,
    "start_time": "2021-10-08T13:00:48.949Z"
   },
   {
    "duration": 44,
    "start_time": "2021-10-08T13:00:50.131Z"
   },
   {
    "duration": 7,
    "start_time": "2021-10-08T13:00:50.177Z"
   },
   {
    "duration": 30,
    "start_time": "2021-10-08T13:00:50.186Z"
   },
   {
    "duration": 14,
    "start_time": "2021-10-08T13:00:50.220Z"
   },
   {
    "duration": 31,
    "start_time": "2021-10-08T13:00:50.236Z"
   },
   {
    "duration": 53,
    "start_time": "2021-10-08T13:00:50.268Z"
   },
   {
    "duration": 3,
    "start_time": "2021-10-08T13:00:50.323Z"
   },
   {
    "duration": 5,
    "start_time": "2021-10-08T13:00:50.344Z"
   },
   {
    "duration": 32,
    "start_time": "2021-10-08T13:00:50.350Z"
   },
   {
    "duration": 24,
    "start_time": "2021-10-08T13:00:50.384Z"
   },
   {
    "duration": 6,
    "start_time": "2021-10-08T13:00:50.410Z"
   },
   {
    "duration": 39,
    "start_time": "2021-10-08T13:00:50.417Z"
   },
   {
    "duration": 19,
    "start_time": "2021-10-08T13:00:50.457Z"
   },
   {
    "duration": 26,
    "start_time": "2021-10-08T13:00:50.477Z"
   },
   {
    "duration": 34,
    "start_time": "2021-10-08T13:00:50.505Z"
   },
   {
    "duration": 28,
    "start_time": "2021-10-08T13:00:50.541Z"
   },
   {
    "duration": 264,
    "start_time": "2021-10-08T13:00:50.570Z"
   },
   {
    "duration": 231,
    "start_time": "2021-10-08T13:00:50.844Z"
   },
   {
    "duration": 349,
    "start_time": "2021-10-08T13:00:51.076Z"
   },
   {
    "duration": 240,
    "start_time": "2021-10-08T13:00:51.426Z"
   },
   {
    "duration": 6,
    "start_time": "2021-10-08T13:00:51.667Z"
   },
   {
    "duration": 41,
    "start_time": "2021-10-08T13:00:51.675Z"
   },
   {
    "duration": 22,
    "start_time": "2021-10-08T13:00:51.718Z"
   },
   {
    "duration": 25,
    "start_time": "2021-10-08T13:00:51.742Z"
   },
   {
    "duration": 33,
    "start_time": "2021-10-08T13:00:51.769Z"
   },
   {
    "duration": 18,
    "start_time": "2021-10-08T13:00:51.804Z"
   },
   {
    "duration": 26,
    "start_time": "2021-10-08T13:00:51.824Z"
   },
   {
    "duration": 19,
    "start_time": "2021-10-08T13:00:51.852Z"
   },
   {
    "duration": 36,
    "start_time": "2021-10-08T13:00:51.873Z"
   },
   {
    "duration": 24,
    "start_time": "2021-10-08T13:00:51.911Z"
   },
   {
    "duration": 17,
    "start_time": "2021-10-08T13:00:51.937Z"
   },
   {
    "duration": 44,
    "start_time": "2021-10-08T13:00:51.955Z"
   },
   {
    "duration": 57,
    "start_time": "2021-10-08T13:00:52.001Z"
   },
   {
    "duration": 3,
    "start_time": "2021-10-08T13:00:59.317Z"
   },
   {
    "duration": 4,
    "start_time": "2021-10-08T13:01:01.531Z"
   },
   {
    "duration": 396,
    "start_time": "2021-10-08T13:01:35.020Z"
   },
   {
    "duration": 212,
    "start_time": "2021-10-08T13:02:06.840Z"
   },
   {
    "duration": 19,
    "start_time": "2021-10-08T13:03:46.764Z"
   },
   {
    "duration": 24,
    "start_time": "2021-10-08T13:03:57.915Z"
   },
   {
    "duration": 21,
    "start_time": "2021-10-08T13:04:16.052Z"
   },
   {
    "duration": 81,
    "start_time": "2021-10-08T13:05:28.518Z"
   },
   {
    "duration": 24,
    "start_time": "2021-10-08T13:05:54.842Z"
   },
   {
    "duration": 23,
    "start_time": "2021-10-08T13:06:17.001Z"
   },
   {
    "duration": 24,
    "start_time": "2021-10-08T13:07:09.411Z"
   },
   {
    "duration": 26,
    "start_time": "2021-10-08T13:07:29.189Z"
   },
   {
    "duration": 24,
    "start_time": "2021-10-08T13:07:35.622Z"
   },
   {
    "duration": 402,
    "start_time": "2021-10-08T13:09:07.527Z"
   },
   {
    "duration": 390,
    "start_time": "2021-10-08T13:09:31.017Z"
   },
   {
    "duration": 197,
    "start_time": "2021-10-08T13:09:32.809Z"
   },
   {
    "duration": 399,
    "start_time": "2021-10-08T13:09:34.139Z"
   },
   {
    "duration": 204,
    "start_time": "2021-10-08T13:09:35.601Z"
   },
   {
    "duration": 4,
    "start_time": "2021-10-08T13:09:53.439Z"
   },
   {
    "duration": 287,
    "start_time": "2021-10-08T13:09:55.661Z"
   },
   {
    "duration": 266,
    "start_time": "2021-10-08T13:10:00.869Z"
   },
   {
    "duration": 279,
    "start_time": "2021-10-08T13:10:05.061Z"
   },
   {
    "duration": 33,
    "start_time": "2021-10-08T13:10:48.466Z"
   },
   {
    "duration": 4,
    "start_time": "2021-10-08T13:11:31.772Z"
   },
   {
    "duration": 4,
    "start_time": "2021-10-08T13:11:32.876Z"
   },
   {
    "duration": 429,
    "start_time": "2021-10-08T13:11:34.196Z"
   },
   {
    "duration": 244,
    "start_time": "2021-10-08T13:11:36.922Z"
   },
   {
    "duration": 338,
    "start_time": "2021-10-08T13:11:42.128Z"
   },
   {
    "duration": 262,
    "start_time": "2021-10-08T13:11:44.228Z"
   },
   {
    "duration": 353,
    "start_time": "2021-10-08T13:11:46.205Z"
   },
   {
    "duration": 230,
    "start_time": "2021-10-08T13:11:48.286Z"
   },
   {
    "duration": 4,
    "start_time": "2021-10-08T13:56:04.170Z"
   },
   {
    "duration": 335,
    "start_time": "2021-10-08T13:56:06.536Z"
   },
   {
    "duration": 319,
    "start_time": "2021-10-08T13:56:10.000Z"
   },
   {
    "duration": 331,
    "start_time": "2021-10-08T13:56:12.504Z"
   },
   {
    "duration": 220,
    "start_time": "2021-10-08T13:56:14.490Z"
   },
   {
    "duration": 334,
    "start_time": "2021-10-08T13:56:16.304Z"
   },
   {
    "duration": 229,
    "start_time": "2021-10-08T13:56:18.562Z"
   },
   {
    "duration": 81,
    "start_time": "2021-10-08T14:03:09.073Z"
   },
   {
    "duration": 11,
    "start_time": "2021-10-08T14:03:42.239Z"
   },
   {
    "duration": 103,
    "start_time": "2021-10-08T14:07:22.293Z"
   },
   {
    "duration": 4,
    "start_time": "2021-10-08T14:07:38.616Z"
   },
   {
    "duration": 674,
    "start_time": "2021-10-08T14:07:42.558Z"
   },
   {
    "duration": 4,
    "start_time": "2021-10-08T14:07:53.388Z"
   },
   {
    "duration": 820,
    "start_time": "2021-10-08T14:07:55.885Z"
   },
   {
    "duration": 4,
    "start_time": "2021-10-08T14:08:37.502Z"
   },
   {
    "duration": 431,
    "start_time": "2021-10-08T14:08:38.724Z"
   },
   {
    "duration": 5,
    "start_time": "2021-10-08T14:09:37.793Z"
   },
   {
    "duration": 347,
    "start_time": "2021-10-08T14:09:41.790Z"
   },
   {
    "duration": 89,
    "start_time": "2021-10-08T14:09:57.621Z"
   },
   {
    "duration": 4,
    "start_time": "2021-10-08T14:10:09.358Z"
   },
   {
    "duration": 365,
    "start_time": "2021-10-08T14:10:16.787Z"
   },
   {
    "duration": 5,
    "start_time": "2021-10-08T14:10:59.230Z"
   },
   {
    "duration": 334,
    "start_time": "2021-10-08T14:11:01.500Z"
   },
   {
    "duration": 4,
    "start_time": "2021-10-08T14:11:29.363Z"
   },
   {
    "duration": 362,
    "start_time": "2021-10-08T14:11:30.819Z"
   },
   {
    "duration": 4,
    "start_time": "2021-10-08T14:12:13.701Z"
   },
   {
    "duration": 316,
    "start_time": "2021-10-08T14:12:17.713Z"
   },
   {
    "duration": 5,
    "start_time": "2021-10-08T14:12:34.813Z"
   },
   {
    "duration": 427,
    "start_time": "2021-10-08T14:12:40.087Z"
   },
   {
    "duration": 362,
    "start_time": "2021-10-08T14:12:47.143Z"
   },
   {
    "duration": 350,
    "start_time": "2021-10-08T14:12:51.055Z"
   },
   {
    "duration": 9,
    "start_time": "2021-10-08T14:14:30.553Z"
   },
   {
    "duration": 8,
    "start_time": "2021-10-08T14:16:15.600Z"
   },
   {
    "duration": 7,
    "start_time": "2021-10-08T14:17:39.223Z"
   },
   {
    "duration": 8,
    "start_time": "2021-10-08T14:17:47.845Z"
   },
   {
    "duration": 9,
    "start_time": "2021-10-08T14:44:23.784Z"
   },
   {
    "duration": 27,
    "start_time": "2021-10-08T14:45:37.059Z"
   },
   {
    "duration": 33,
    "start_time": "2021-10-08T14:45:47.235Z"
   },
   {
    "duration": 29,
    "start_time": "2021-10-08T14:45:55.675Z"
   },
   {
    "duration": 9,
    "start_time": "2021-10-08T14:49:33.351Z"
   },
   {
    "duration": 8,
    "start_time": "2021-10-08T14:49:39.755Z"
   },
   {
    "duration": 8,
    "start_time": "2021-10-08T14:49:48.765Z"
   },
   {
    "duration": 8,
    "start_time": "2021-10-08T14:49:52.949Z"
   },
   {
    "duration": 8,
    "start_time": "2021-10-08T14:50:00.048Z"
   },
   {
    "duration": 86,
    "start_time": "2021-10-08T15:15:04.571Z"
   },
   {
    "duration": 4,
    "start_time": "2021-10-08T15:15:09.171Z"
   },
   {
    "duration": 240,
    "start_time": "2021-10-08T15:15:11.261Z"
   },
   {
    "duration": 4,
    "start_time": "2021-10-08T15:15:37.506Z"
   },
   {
    "duration": 245,
    "start_time": "2021-10-08T15:15:40.999Z"
   },
   {
    "duration": 230,
    "start_time": "2021-10-08T15:15:49.019Z"
   },
   {
    "duration": 237,
    "start_time": "2021-10-08T15:15:54.195Z"
   },
   {
    "duration": 8,
    "start_time": "2021-10-08T15:27:18.359Z"
   },
   {
    "duration": 8,
    "start_time": "2021-10-08T15:27:21.003Z"
   },
   {
    "duration": 30,
    "start_time": "2021-10-08T15:28:18.257Z"
   },
   {
    "duration": 32,
    "start_time": "2021-10-08T15:28:24.853Z"
   },
   {
    "duration": 9,
    "start_time": "2021-10-08T15:28:50.642Z"
   },
   {
    "duration": 8,
    "start_time": "2021-10-08T15:28:52.300Z"
   },
   {
    "duration": 8,
    "start_time": "2021-10-08T15:28:52.830Z"
   },
   {
    "duration": 8,
    "start_time": "2021-10-08T15:28:53.280Z"
   },
   {
    "duration": 17,
    "start_time": "2021-10-08T15:29:39.226Z"
   },
   {
    "duration": 10564,
    "start_time": "2021-10-08T15:30:53.689Z"
   },
   {
    "duration": 276,
    "start_time": "2021-10-08T15:31:33.398Z"
   },
   {
    "duration": 626,
    "start_time": "2021-10-08T15:32:00.474Z"
   },
   {
    "duration": 338,
    "start_time": "2021-10-08T15:32:19.217Z"
   },
   {
    "duration": 404,
    "start_time": "2021-10-08T15:32:32.563Z"
   },
   {
    "duration": 200,
    "start_time": "2021-10-08T15:32:39.745Z"
   },
   {
    "duration": 188,
    "start_time": "2021-10-08T15:33:28.639Z"
   },
   {
    "duration": 228,
    "start_time": "2021-10-08T15:33:53.968Z"
   },
   {
    "duration": 240,
    "start_time": "2021-10-08T15:33:59.290Z"
   },
   {
    "duration": 314,
    "start_time": "2021-10-08T15:35:52.971Z"
   },
   {
    "duration": 326,
    "start_time": "2021-10-08T15:36:00.751Z"
   },
   {
    "duration": 351,
    "start_time": "2021-10-08T15:36:05.509Z"
   },
   {
    "duration": 338,
    "start_time": "2021-10-08T15:38:08.919Z"
   },
   {
    "duration": 654,
    "start_time": "2021-10-08T15:40:14.985Z"
   },
   {
    "duration": 397,
    "start_time": "2021-10-08T15:41:39.857Z"
   },
   {
    "duration": 339,
    "start_time": "2021-10-08T15:43:18.424Z"
   },
   {
    "duration": 296,
    "start_time": "2021-10-08T15:44:25.761Z"
   },
   {
    "duration": 306,
    "start_time": "2021-10-08T15:45:19.291Z"
   },
   {
    "duration": 327,
    "start_time": "2021-10-08T15:45:36.512Z"
   },
   {
    "duration": 298,
    "start_time": "2021-10-08T15:46:27.272Z"
   },
   {
    "duration": 281,
    "start_time": "2021-10-08T15:46:39.174Z"
   },
   {
    "duration": 304,
    "start_time": "2021-10-08T15:52:04.555Z"
   },
   {
    "duration": 267,
    "start_time": "2021-10-08T15:52:14.772Z"
   },
   {
    "duration": 3,
    "start_time": "2021-10-08T15:59:07.198Z"
   },
   {
    "duration": 3,
    "start_time": "2021-10-08T16:01:22.649Z"
   },
   {
    "duration": 404,
    "start_time": "2021-10-08T16:01:27.742Z"
   },
   {
    "duration": 8,
    "start_time": "2021-10-08T16:03:05.287Z"
   },
   {
    "duration": 9,
    "start_time": "2021-10-08T16:03:16.587Z"
   },
   {
    "duration": 8,
    "start_time": "2021-10-08T16:04:41.062Z"
   },
   {
    "duration": 7,
    "start_time": "2021-10-08T16:07:08.626Z"
   },
   {
    "duration": 8,
    "start_time": "2021-10-08T16:15:18.013Z"
   },
   {
    "duration": 17,
    "start_time": "2021-10-08T16:18:08.836Z"
   },
   {
    "duration": 18,
    "start_time": "2021-10-08T16:18:33.654Z"
   },
   {
    "duration": 17,
    "start_time": "2021-10-08T16:18:53.064Z"
   },
   {
    "duration": 25,
    "start_time": "2021-10-08T16:19:00.682Z"
   },
   {
    "duration": 16,
    "start_time": "2021-10-08T16:19:10.079Z"
   },
   {
    "duration": 238,
    "start_time": "2021-10-08T16:19:35.690Z"
   },
   {
    "duration": 232,
    "start_time": "2021-10-08T16:19:48.478Z"
   },
   {
    "duration": 16,
    "start_time": "2021-10-08T16:19:53.207Z"
   },
   {
    "duration": 17,
    "start_time": "2021-10-08T16:20:01.630Z"
   },
   {
    "duration": 17,
    "start_time": "2021-10-08T16:20:16.162Z"
   },
   {
    "duration": 6,
    "start_time": "2021-10-08T16:21:07.117Z"
   },
   {
    "duration": 6,
    "start_time": "2021-10-08T16:21:21.217Z"
   },
   {
    "duration": 7,
    "start_time": "2021-10-08T16:21:44.719Z"
   },
   {
    "duration": 7,
    "start_time": "2021-10-08T16:21:46.786Z"
   },
   {
    "duration": 8,
    "start_time": "2021-10-08T16:24:02.421Z"
   },
   {
    "duration": 9,
    "start_time": "2021-10-08T16:38:33.784Z"
   },
   {
    "duration": 10,
    "start_time": "2021-10-08T16:38:49.458Z"
   },
   {
    "duration": 9,
    "start_time": "2021-10-08T16:38:51.487Z"
   },
   {
    "duration": 326,
    "start_time": "2021-10-08T16:39:39.311Z"
   },
   {
    "duration": 245,
    "start_time": "2021-10-08T16:40:19.927Z"
   },
   {
    "duration": 1107,
    "start_time": "2021-10-08T16:50:24.212Z"
   },
   {
    "duration": 406,
    "start_time": "2021-10-08T16:50:28.130Z"
   },
   {
    "duration": 12,
    "start_time": "2021-10-08T16:50:29.412Z"
   },
   {
    "duration": 4,
    "start_time": "2021-10-08T16:50:30.592Z"
   },
   {
    "duration": 21,
    "start_time": "2021-10-08T16:50:31.536Z"
   },
   {
    "duration": 8,
    "start_time": "2021-10-08T16:50:32.304Z"
   },
   {
    "duration": 4,
    "start_time": "2021-10-08T16:50:33.239Z"
   },
   {
    "duration": 17,
    "start_time": "2021-10-08T16:50:34.020Z"
   },
   {
    "duration": 7,
    "start_time": "2021-10-08T16:50:34.762Z"
   },
   {
    "duration": 4,
    "start_time": "2021-10-08T16:50:35.842Z"
   },
   {
    "duration": 15,
    "start_time": "2021-10-08T16:50:36.585Z"
   },
   {
    "duration": 8,
    "start_time": "2021-10-08T16:50:37.704Z"
   },
   {
    "duration": 4,
    "start_time": "2021-10-08T16:50:38.726Z"
   },
   {
    "duration": 7,
    "start_time": "2021-10-08T16:50:39.609Z"
   },
   {
    "duration": 9,
    "start_time": "2021-10-08T16:50:40.752Z"
   },
   {
    "duration": 4,
    "start_time": "2021-10-08T16:50:41.492Z"
   },
   {
    "duration": 7,
    "start_time": "2021-10-08T16:50:42.522Z"
   },
   {
    "duration": 3,
    "start_time": "2021-10-08T16:50:58.060Z"
   },
   {
    "duration": 967,
    "start_time": "2021-10-08T16:51:00.144Z"
   },
   {
    "duration": 28,
    "start_time": "2021-10-08T16:51:02.220Z"
   },
   {
    "duration": 6,
    "start_time": "2021-10-08T16:51:02.986Z"
   },
   {
    "duration": 9,
    "start_time": "2021-10-08T16:51:05.023Z"
   },
   {
    "duration": 12,
    "start_time": "2021-10-08T16:51:06.448Z"
   },
   {
    "duration": 25,
    "start_time": "2021-10-08T16:51:07.438Z"
   },
   {
    "duration": 57,
    "start_time": "2021-10-08T16:51:08.088Z"
   },
   {
    "duration": 4,
    "start_time": "2021-10-08T16:51:09.034Z"
   },
   {
    "duration": 4,
    "start_time": "2021-10-08T16:51:09.700Z"
   },
   {
    "duration": 23,
    "start_time": "2021-10-08T16:51:10.346Z"
   },
   {
    "duration": 23,
    "start_time": "2021-10-08T16:51:12.348Z"
   },
   {
    "duration": 7,
    "start_time": "2021-10-08T16:51:15.272Z"
   },
   {
    "duration": 13,
    "start_time": "2021-10-08T16:51:16.416Z"
   },
   {
    "duration": 6,
    "start_time": "2021-10-08T16:51:19.402Z"
   },
   {
    "duration": 6,
    "start_time": "2021-10-08T16:51:20.242Z"
   },
   {
    "duration": 18,
    "start_time": "2021-10-08T16:51:21.626Z"
   },
   {
    "duration": 4,
    "start_time": "2021-10-08T16:51:25.202Z"
   },
   {
    "duration": 269,
    "start_time": "2021-10-08T16:51:32.162Z"
   },
   {
    "duration": 217,
    "start_time": "2021-10-08T16:51:44.576Z"
   },
   {
    "duration": 215,
    "start_time": "2021-10-08T16:51:46.584Z"
   },
   {
    "duration": 216,
    "start_time": "2021-10-08T16:51:48.436Z"
   },
   {
    "duration": 7,
    "start_time": "2021-10-08T16:51:55.828Z"
   },
   {
    "duration": 8,
    "start_time": "2021-10-08T16:51:57.523Z"
   },
   {
    "duration": 8,
    "start_time": "2021-10-08T16:51:59.314Z"
   },
   {
    "duration": 8,
    "start_time": "2021-10-08T16:52:00.168Z"
   },
   {
    "duration": 9,
    "start_time": "2021-10-08T16:52:01.413Z"
   },
   {
    "duration": 4,
    "start_time": "2021-10-08T16:52:02.610Z"
   },
   {
    "duration": 7,
    "start_time": "2021-10-08T16:52:03.741Z"
   },
   {
    "duration": 7,
    "start_time": "2021-10-08T16:52:04.619Z"
   },
   {
    "duration": 8,
    "start_time": "2021-10-08T16:52:05.897Z"
   },
   {
    "duration": 5,
    "start_time": "2021-10-08T16:52:06.738Z"
   },
   {
    "duration": 5,
    "start_time": "2021-10-08T16:52:07.837Z"
   },
   {
    "duration": 15,
    "start_time": "2021-10-08T16:52:15.407Z"
   },
   {
    "duration": 47,
    "start_time": "2021-10-08T16:52:35.253Z"
   },
   {
    "duration": 4,
    "start_time": "2021-10-08T16:52:44.179Z"
   },
   {
    "duration": 4,
    "start_time": "2021-10-08T16:52:46.647Z"
   },
   {
    "duration": 318,
    "start_time": "2021-10-08T16:52:47.937Z"
   },
   {
    "duration": 318,
    "start_time": "2021-10-08T16:52:53.441Z"
   },
   {
    "duration": 237,
    "start_time": "2021-10-08T16:52:55.508Z"
   },
   {
    "duration": 312,
    "start_time": "2021-10-08T16:52:57.151Z"
   },
   {
    "duration": 282,
    "start_time": "2021-10-08T16:52:58.837Z"
   },
   {
    "duration": 345,
    "start_time": "2021-10-08T16:53:00.262Z"
   },
   {
    "duration": 230,
    "start_time": "2021-10-08T16:53:01.882Z"
   },
   {
    "duration": 29,
    "start_time": "2021-10-08T16:53:03.959Z"
   },
   {
    "duration": 8,
    "start_time": "2021-10-08T16:53:05.317Z"
   },
   {
    "duration": 7,
    "start_time": "2021-10-08T16:53:07.509Z"
   },
   {
    "duration": 8,
    "start_time": "2021-10-08T16:53:08.179Z"
   },
   {
    "duration": 7,
    "start_time": "2021-10-08T16:53:08.943Z"
   },
   {
    "duration": 8,
    "start_time": "2021-10-08T16:53:09.611Z"
   },
   {
    "duration": 7,
    "start_time": "2021-10-08T16:53:10.345Z"
   },
   {
    "duration": 10,
    "start_time": "2021-10-08T16:53:11.467Z"
   },
   {
    "duration": 10,
    "start_time": "2021-10-08T16:53:12.289Z"
   },
   {
    "duration": 300,
    "start_time": "2021-10-08T16:53:13.779Z"
   },
   {
    "duration": 239,
    "start_time": "2021-10-08T16:53:15.633Z"
   },
   {
    "duration": 296,
    "start_time": "2021-10-08T16:53:21.291Z"
   },
   {
    "duration": 296,
    "start_time": "2021-10-08T16:53:24.093Z"
   },
   {
    "duration": 280,
    "start_time": "2021-10-08T16:53:27.064Z"
   },
   {
    "duration": 299,
    "start_time": "2021-10-08T16:53:29.912Z"
   },
   {
    "duration": 2,
    "start_time": "2021-10-08T16:53:33.098Z"
   },
   {
    "duration": 11,
    "start_time": "2021-10-08T16:53:35.022Z"
   },
   {
    "duration": 8,
    "start_time": "2021-10-08T16:53:39.611Z"
   },
   {
    "duration": 7,
    "start_time": "2021-10-08T16:53:41.617Z"
   },
   {
    "duration": 8,
    "start_time": "2021-10-08T16:53:43.513Z"
   },
   {
    "duration": 1350,
    "start_time": "2021-10-09T07:57:17.859Z"
   },
   {
    "duration": 558,
    "start_time": "2021-10-09T07:57:19.212Z"
   },
   {
    "duration": 15,
    "start_time": "2021-10-09T07:57:19.774Z"
   },
   {
    "duration": 6,
    "start_time": "2021-10-09T07:57:19.792Z"
   },
   {
    "duration": 31,
    "start_time": "2021-10-09T07:57:19.800Z"
   },
   {
    "duration": 30,
    "start_time": "2021-10-09T07:57:19.833Z"
   },
   {
    "duration": 7,
    "start_time": "2021-10-09T07:57:19.865Z"
   },
   {
    "duration": 23,
    "start_time": "2021-10-09T07:57:19.874Z"
   },
   {
    "duration": 10,
    "start_time": "2021-10-09T07:57:19.901Z"
   },
   {
    "duration": 44,
    "start_time": "2021-10-09T07:57:19.914Z"
   },
   {
    "duration": 19,
    "start_time": "2021-10-09T07:57:19.960Z"
   },
   {
    "duration": 11,
    "start_time": "2021-10-09T07:57:19.982Z"
   },
   {
    "duration": 6,
    "start_time": "2021-10-09T07:57:19.996Z"
   },
   {
    "duration": 58,
    "start_time": "2021-10-09T07:57:20.005Z"
   },
   {
    "duration": 15,
    "start_time": "2021-10-09T07:57:20.065Z"
   },
   {
    "duration": 10,
    "start_time": "2021-10-09T07:57:20.083Z"
   },
   {
    "duration": 14,
    "start_time": "2021-10-09T07:57:20.095Z"
   },
   {
    "duration": 47,
    "start_time": "2021-10-09T07:57:20.111Z"
   },
   {
    "duration": 1451,
    "start_time": "2021-10-09T07:57:20.161Z"
   },
   {
    "duration": 44,
    "start_time": "2021-10-09T07:57:21.614Z"
   },
   {
    "duration": 7,
    "start_time": "2021-10-09T07:57:21.660Z"
   },
   {
    "duration": 16,
    "start_time": "2021-10-09T07:57:21.669Z"
   },
   {
    "duration": 17,
    "start_time": "2021-10-09T07:57:21.688Z"
   },
   {
    "duration": 66,
    "start_time": "2021-10-09T07:57:21.707Z"
   },
   {
    "duration": 95,
    "start_time": "2021-10-09T07:57:21.775Z"
   },
   {
    "duration": 5,
    "start_time": "2021-10-09T07:57:21.872Z"
   },
   {
    "duration": 9,
    "start_time": "2021-10-09T07:57:21.883Z"
   },
   {
    "duration": 32,
    "start_time": "2021-10-09T07:57:21.896Z"
   },
   {
    "duration": 60,
    "start_time": "2021-10-09T07:57:21.930Z"
   },
   {
    "duration": 9,
    "start_time": "2021-10-09T07:57:21.992Z"
   },
   {
    "duration": 54,
    "start_time": "2021-10-09T07:57:22.004Z"
   },
   {
    "duration": 8,
    "start_time": "2021-10-09T07:57:22.060Z"
   },
   {
    "duration": 10,
    "start_time": "2021-10-09T07:57:22.071Z"
   },
   {
    "duration": 38,
    "start_time": "2021-10-09T07:57:22.083Z"
   },
   {
    "duration": 6,
    "start_time": "2021-10-09T07:57:22.124Z"
   },
   {
    "duration": 436,
    "start_time": "2021-10-09T07:57:22.159Z"
   },
   {
    "duration": 405,
    "start_time": "2021-10-09T07:57:22.598Z"
   },
   {
    "duration": 411,
    "start_time": "2021-10-09T07:57:23.005Z"
   },
   {
    "duration": 408,
    "start_time": "2021-10-09T07:57:23.418Z"
   },
   {
    "duration": 9,
    "start_time": "2021-10-09T07:57:23.828Z"
   },
   {
    "duration": 27,
    "start_time": "2021-10-09T07:57:23.839Z"
   },
   {
    "duration": 9,
    "start_time": "2021-10-09T07:57:23.868Z"
   },
   {
    "duration": 20,
    "start_time": "2021-10-09T07:57:23.879Z"
   },
   {
    "duration": 21,
    "start_time": "2021-10-09T07:57:23.901Z"
   },
   {
    "duration": 33,
    "start_time": "2021-10-09T07:57:23.924Z"
   },
   {
    "duration": 15,
    "start_time": "2021-10-09T07:57:23.960Z"
   },
   {
    "duration": 22,
    "start_time": "2021-10-09T07:57:23.978Z"
   },
   {
    "duration": 31,
    "start_time": "2021-10-09T07:57:24.002Z"
   },
   {
    "duration": 14,
    "start_time": "2021-10-09T07:57:24.036Z"
   },
   {
    "duration": 17,
    "start_time": "2021-10-09T07:57:24.052Z"
   },
   {
    "duration": 28,
    "start_time": "2021-10-09T07:57:24.071Z"
   },
   {
    "duration": 91,
    "start_time": "2021-10-09T07:57:24.101Z"
   },
   {
    "duration": 5,
    "start_time": "2021-10-09T07:57:24.194Z"
   },
   {
    "duration": 23,
    "start_time": "2021-10-09T07:57:24.201Z"
   },
   {
    "duration": 588,
    "start_time": "2021-10-09T07:57:24.226Z"
   },
   {
    "duration": 409,
    "start_time": "2021-10-09T07:57:24.817Z"
   },
   {
    "duration": 557,
    "start_time": "2021-10-09T07:57:25.228Z"
   },
   {
    "duration": 392,
    "start_time": "2021-10-09T07:57:25.788Z"
   },
   {
    "duration": 645,
    "start_time": "2021-10-09T07:57:26.182Z"
   },
   {
    "duration": 413,
    "start_time": "2021-10-09T07:57:26.830Z"
   },
   {
    "duration": 57,
    "start_time": "2021-10-09T07:57:27.246Z"
   },
   {
    "duration": 12,
    "start_time": "2021-10-09T07:57:27.306Z"
   },
   {
    "duration": 43,
    "start_time": "2021-10-09T07:57:27.320Z"
   },
   {
    "duration": 13,
    "start_time": "2021-10-09T07:57:27.366Z"
   },
   {
    "duration": 27,
    "start_time": "2021-10-09T07:57:27.382Z"
   },
   {
    "duration": 11,
    "start_time": "2021-10-09T07:57:27.411Z"
   },
   {
    "duration": 17,
    "start_time": "2021-10-09T07:57:27.425Z"
   },
   {
    "duration": 28,
    "start_time": "2021-10-09T07:57:27.445Z"
   },
   {
    "duration": 34,
    "start_time": "2021-10-09T07:57:27.475Z"
   },
   {
    "duration": 929,
    "start_time": "2021-10-09T07:57:27.512Z"
   },
   {
    "duration": 408,
    "start_time": "2021-10-09T07:57:28.444Z"
   },
   {
    "duration": 429,
    "start_time": "2021-10-09T07:57:28.857Z"
   },
   {
    "duration": 432,
    "start_time": "2021-10-09T07:57:29.288Z"
   },
   {
    "duration": 455,
    "start_time": "2021-10-09T07:57:29.722Z"
   },
   {
    "duration": 410,
    "start_time": "2021-10-09T07:57:30.179Z"
   },
   {
    "duration": 3,
    "start_time": "2021-10-09T07:57:30.592Z"
   },
   {
    "duration": 13,
    "start_time": "2021-10-09T07:57:30.598Z"
   },
   {
    "duration": 13,
    "start_time": "2021-10-09T07:57:30.613Z"
   },
   {
    "duration": 34,
    "start_time": "2021-10-09T07:57:30.628Z"
   },
   {
    "duration": 32,
    "start_time": "2021-10-09T07:57:30.664Z"
   },
   {
    "duration": 13,
    "start_time": "2021-10-09T08:16:45.561Z"
   },
   {
    "duration": 8731,
    "start_time": "2021-10-09T08:17:46.519Z"
   },
   {
    "duration": 12,
    "start_time": "2021-10-09T08:18:03.877Z"
   },
   {
    "duration": 565,
    "start_time": "2021-10-09T08:18:16.519Z"
   },
   {
    "duration": 343,
    "start_time": "2021-10-09T08:18:48.334Z"
   },
   {
    "duration": 43,
    "start_time": "2021-10-09T08:19:31.134Z"
   },
   {
    "duration": 33,
    "start_time": "2021-10-09T08:19:38.321Z"
   },
   {
    "duration": 6,
    "start_time": "2021-10-09T08:25:13.889Z"
   },
   {
    "duration": 11,
    "start_time": "2021-10-09T08:26:39.505Z"
   },
   {
    "duration": 1048,
    "start_time": "2021-10-09T16:17:10.810Z"
   },
   {
    "duration": 444,
    "start_time": "2021-10-09T16:17:13.822Z"
   },
   {
    "duration": 3,
    "start_time": "2021-10-09T16:18:24.139Z"
   },
   {
    "duration": 652,
    "start_time": "2021-10-09T16:18:39.861Z"
   },
   {
    "duration": 2,
    "start_time": "2021-10-09T16:19:00.926Z"
   },
   {
    "duration": 44,
    "start_time": "2021-10-09T16:19:03.312Z"
   },
   {
    "duration": 4,
    "start_time": "2021-10-09T16:19:29.916Z"
   },
   {
    "duration": 47,
    "start_time": "2021-10-09T16:19:32.200Z"
   },
   {
    "duration": 98,
    "start_time": "2021-10-09T16:20:14.926Z"
   },
   {
    "duration": 104,
    "start_time": "2021-10-09T16:20:22.160Z"
   },
   {
    "duration": 3,
    "start_time": "2021-10-09T16:20:29.768Z"
   },
   {
    "duration": 43,
    "start_time": "2021-10-09T16:20:31.613Z"
   },
   {
    "duration": 3,
    "start_time": "2021-10-09T16:20:46.096Z"
   },
   {
    "duration": 47,
    "start_time": "2021-10-09T16:20:46.907Z"
   },
   {
    "duration": 38,
    "start_time": "2021-10-09T16:22:06.796Z"
   },
   {
    "duration": 25,
    "start_time": "2021-10-09T16:22:40.592Z"
   },
   {
    "duration": 28,
    "start_time": "2021-10-09T16:23:12.284Z"
   },
   {
    "duration": 20,
    "start_time": "2021-10-09T16:23:39.638Z"
   },
   {
    "duration": 4,
    "start_time": "2021-10-09T16:24:07.629Z"
   },
   {
    "duration": 959,
    "start_time": "2021-10-09T16:24:13.718Z"
   },
   {
    "duration": 24,
    "start_time": "2021-10-09T16:45:46.206Z"
   },
   {
    "duration": 13,
    "start_time": "2021-10-09T16:45:52.399Z"
   },
   {
    "duration": 10,
    "start_time": "2021-10-09T16:46:02.582Z"
   },
   {
    "duration": 5,
    "start_time": "2021-10-09T17:02:38.365Z"
   },
   {
    "duration": 11,
    "start_time": "2021-10-09T17:02:48.965Z"
   },
   {
    "duration": 12,
    "start_time": "2021-10-09T17:02:50.433Z"
   },
   {
    "duration": 29,
    "start_time": "2021-10-09T17:02:51.045Z"
   },
   {
    "duration": 58,
    "start_time": "2021-10-09T17:02:51.615Z"
   },
   {
    "duration": 3,
    "start_time": "2021-10-09T17:03:29.496Z"
   },
   {
    "duration": 4,
    "start_time": "2021-10-09T17:03:30.096Z"
   },
   {
    "duration": 22,
    "start_time": "2021-10-09T17:03:30.735Z"
   },
   {
    "duration": 24,
    "start_time": "2021-10-09T17:03:34.190Z"
   },
   {
    "duration": 5,
    "start_time": "2021-10-09T17:03:36.297Z"
   },
   {
    "duration": 15,
    "start_time": "2021-10-09T17:05:13.317Z"
   },
   {
    "duration": 8,
    "start_time": "2021-10-09T17:09:30.164Z"
   },
   {
    "duration": 4,
    "start_time": "2021-10-09T17:09:45.424Z"
   },
   {
    "duration": 7,
    "start_time": "2021-10-09T17:12:53.112Z"
   },
   {
    "duration": 14,
    "start_time": "2021-10-09T17:12:55.630Z"
   },
   {
    "duration": 7,
    "start_time": "2021-10-09T17:13:09.448Z"
   },
   {
    "duration": 7,
    "start_time": "2021-10-09T17:13:13.027Z"
   },
   {
    "duration": 18,
    "start_time": "2021-10-09T17:13:14.114Z"
   },
   {
    "duration": 4,
    "start_time": "2021-10-09T17:13:25.726Z"
   },
   {
    "duration": 247,
    "start_time": "2021-10-09T17:13:28.430Z"
   },
   {
    "duration": 233,
    "start_time": "2021-10-09T17:13:30.050Z"
   },
   {
    "duration": 237,
    "start_time": "2021-10-09T17:13:31.284Z"
   },
   {
    "duration": 243,
    "start_time": "2021-10-09T17:13:32.404Z"
   },
   {
    "duration": 7,
    "start_time": "2021-10-09T17:14:17.846Z"
   },
   {
    "duration": 9,
    "start_time": "2021-10-09T17:14:19.865Z"
   },
   {
    "duration": 8,
    "start_time": "2021-10-09T17:17:05.616Z"
   },
   {
    "duration": 7,
    "start_time": "2021-10-09T17:17:52.947Z"
   },
   {
    "duration": 7,
    "start_time": "2021-10-09T17:19:23.492Z"
   },
   {
    "duration": 9,
    "start_time": "2021-10-09T17:19:25.086Z"
   },
   {
    "duration": 4,
    "start_time": "2021-10-09T17:19:25.638Z"
   },
   {
    "duration": 7,
    "start_time": "2021-10-09T17:19:26.229Z"
   },
   {
    "duration": 8,
    "start_time": "2021-10-09T17:19:27.166Z"
   },
   {
    "duration": 7,
    "start_time": "2021-10-09T17:19:27.727Z"
   },
   {
    "duration": 5,
    "start_time": "2021-10-09T17:19:28.382Z"
   },
   {
    "duration": 5,
    "start_time": "2021-10-09T17:19:28.938Z"
   },
   {
    "duration": 8,
    "start_time": "2021-10-09T17:19:29.504Z"
   },
   {
    "duration": 16,
    "start_time": "2021-10-09T17:19:46.478Z"
   },
   {
    "duration": 49,
    "start_time": "2021-10-09T17:19:47.446Z"
   },
   {
    "duration": 4,
    "start_time": "2021-10-09T17:20:02.991Z"
   },
   {
    "duration": 4,
    "start_time": "2021-10-09T17:20:06.415Z"
   },
   {
    "duration": 336,
    "start_time": "2021-10-09T17:20:17.789Z"
   },
   {
    "duration": 4,
    "start_time": "2021-10-09T17:21:34.346Z"
   },
   {
    "duration": 933,
    "start_time": "2021-10-09T17:21:37.148Z"
   },
   {
    "duration": 96,
    "start_time": "2021-10-09T17:23:34.512Z"
   },
   {
    "duration": 4,
    "start_time": "2021-10-09T17:23:40.730Z"
   },
   {
    "duration": 278,
    "start_time": "2021-10-09T17:23:58.155Z"
   },
   {
    "duration": 4,
    "start_time": "2021-10-09T17:25:38.980Z"
   },
   {
    "duration": 286,
    "start_time": "2021-10-09T17:25:41.184Z"
   },
   {
    "duration": 4,
    "start_time": "2021-10-09T17:26:15.497Z"
   },
   {
    "duration": 12353,
    "start_time": "2021-10-09T17:26:16.737Z"
   },
   {
    "duration": 5,
    "start_time": "2021-10-09T17:27:59.938Z"
   },
   {
    "duration": 1119,
    "start_time": "2021-10-09T17:28:04.254Z"
   },
   {
    "duration": 4,
    "start_time": "2021-10-09T17:28:23.698Z"
   },
   {
    "duration": 338,
    "start_time": "2021-10-09T17:28:26.068Z"
   },
   {
    "duration": 274,
    "start_time": "2021-10-09T17:34:58.771Z"
   },
   {
    "duration": 326,
    "start_time": "2021-10-09T17:35:03.293Z"
   },
   {
    "duration": 229,
    "start_time": "2021-10-09T17:35:14.719Z"
   },
   {
    "duration": 528,
    "start_time": "2021-10-09T17:35:19.397Z"
   },
   {
    "duration": 248,
    "start_time": "2021-10-09T17:35:21.157Z"
   },
   {
    "duration": 29,
    "start_time": "2021-10-09T17:35:22.591Z"
   },
   {
    "duration": 8,
    "start_time": "2021-10-09T17:35:47.629Z"
   },
   {
    "duration": 9,
    "start_time": "2021-10-09T17:35:49.727Z"
   },
   {
    "duration": 8,
    "start_time": "2021-10-09T17:35:50.359Z"
   },
   {
    "duration": 9,
    "start_time": "2021-10-09T17:35:50.973Z"
   },
   {
    "duration": 9,
    "start_time": "2021-10-09T17:35:52.045Z"
   },
   {
    "duration": 8,
    "start_time": "2021-10-09T17:35:52.591Z"
   },
   {
    "duration": 10,
    "start_time": "2021-10-09T17:35:53.157Z"
   },
   {
    "duration": 10,
    "start_time": "2021-10-09T17:35:53.637Z"
   },
   {
    "duration": 339,
    "start_time": "2021-10-09T17:35:54.695Z"
   },
   {
    "duration": 244,
    "start_time": "2021-10-09T17:35:56.010Z"
   },
   {
    "duration": 335,
    "start_time": "2021-10-09T17:36:09.939Z"
   },
   {
    "duration": 322,
    "start_time": "2021-10-09T17:36:13.293Z"
   },
   {
    "duration": 294,
    "start_time": "2021-10-09T17:36:18.122Z"
   },
   {
    "duration": 289,
    "start_time": "2021-10-09T17:36:19.722Z"
   },
   {
    "duration": 3,
    "start_time": "2021-10-09T17:36:53.618Z"
   },
   {
    "duration": 9,
    "start_time": "2021-10-09T17:38:47.712Z"
   },
   {
    "duration": 8,
    "start_time": "2021-10-09T17:40:22.630Z"
   },
   {
    "duration": 8,
    "start_time": "2021-10-09T17:40:23.388Z"
   },
   {
    "duration": 12,
    "start_time": "2021-10-09T17:40:25.656Z"
   },
   {
    "duration": 4,
    "start_time": "2021-10-09T18:02:19.529Z"
   },
   {
    "duration": 582,
    "start_time": "2021-10-09T18:02:27.181Z"
   },
   {
    "duration": 4,
    "start_time": "2021-10-09T18:02:43.743Z"
   },
   {
    "duration": 9,
    "start_time": "2021-10-09T18:02:45.809Z"
   },
   {
    "duration": 4,
    "start_time": "2021-10-09T18:03:07.135Z"
   },
   {
    "duration": 8,
    "start_time": "2021-10-09T18:04:39.928Z"
   },
   {
    "duration": 17,
    "start_time": "2021-10-09T18:06:20.462Z"
   },
   {
    "duration": 6,
    "start_time": "2021-10-09T18:06:31.336Z"
   },
   {
    "duration": 6,
    "start_time": "2021-10-09T18:06:50.526Z"
   },
   {
    "duration": 6,
    "start_time": "2021-10-09T18:07:16.796Z"
   },
   {
    "duration": 6,
    "start_time": "2021-10-09T18:07:32.572Z"
   },
   {
    "duration": 4,
    "start_time": "2021-10-09T18:15:33.282Z"
   },
   {
    "duration": 4,
    "start_time": "2021-10-09T18:21:09.284Z"
   },
   {
    "duration": 8,
    "start_time": "2021-10-09T18:21:11.337Z"
   },
   {
    "duration": 9,
    "start_time": "2021-10-09T18:22:09.930Z"
   },
   {
    "duration": 3,
    "start_time": "2021-10-09T18:58:19.456Z"
   },
   {
    "duration": 391,
    "start_time": "2021-10-09T18:58:35.050Z"
   },
   {
    "duration": 6,
    "start_time": "2021-10-09T18:58:48.370Z"
   },
   {
    "duration": 1197,
    "start_time": "2021-10-09T18:58:59.282Z"
   },
   {
    "duration": 20,
    "start_time": "2021-10-09T18:59:05.506Z"
   },
   {
    "duration": 5,
    "start_time": "2021-10-09T18:59:10.644Z"
   },
   {
    "duration": 5,
    "start_time": "2021-10-09T18:59:20.948Z"
   },
   {
    "duration": 10,
    "start_time": "2021-10-09T18:59:22.939Z"
   },
   {
    "duration": 21,
    "start_time": "2021-10-09T18:59:24.159Z"
   },
   {
    "duration": 40,
    "start_time": "2021-10-09T18:59:25.023Z"
   },
   {
    "duration": 3,
    "start_time": "2021-10-09T18:59:27.852Z"
   },
   {
    "duration": 5,
    "start_time": "2021-10-09T18:59:28.869Z"
   },
   {
    "duration": 22,
    "start_time": "2021-10-09T18:59:29.637Z"
   },
   {
    "duration": 23,
    "start_time": "2021-10-09T18:59:37.349Z"
   },
   {
    "duration": 6,
    "start_time": "2021-10-09T19:00:12.946Z"
   },
   {
    "duration": 4,
    "start_time": "2021-10-09T19:00:46.250Z"
   },
   {
    "duration": 321,
    "start_time": "2021-10-09T19:00:52.296Z"
   },
   {
    "duration": 229,
    "start_time": "2021-10-09T19:00:53.864Z"
   },
   {
    "duration": 226,
    "start_time": "2021-10-09T19:00:54.814Z"
   },
   {
    "duration": 228,
    "start_time": "2021-10-09T19:00:55.702Z"
   },
   {
    "duration": 7,
    "start_time": "2021-10-09T19:01:01.424Z"
   },
   {
    "duration": 3,
    "start_time": "2021-10-09T19:01:06.782Z"
   },
   {
    "duration": 3,
    "start_time": "2021-10-09T19:01:19.840Z"
   },
   {
    "duration": 315,
    "start_time": "2021-10-09T19:01:22.551Z"
   },
   {
    "duration": 296,
    "start_time": "2021-10-09T19:02:32.905Z"
   },
   {
    "duration": 20,
    "start_time": "2021-10-09T19:02:57.297Z"
   },
   {
    "duration": 1085,
    "start_time": "2021-10-09T19:03:40.482Z"
   },
   {
    "duration": 443,
    "start_time": "2021-10-09T19:03:42.454Z"
   },
   {
    "duration": 4,
    "start_time": "2021-10-09T19:03:51.458Z"
   },
   {
    "duration": 934,
    "start_time": "2021-10-09T19:03:54.448Z"
   },
   {
    "duration": 25,
    "start_time": "2021-10-09T19:04:01.510Z"
   },
   {
    "duration": 5,
    "start_time": "2021-10-09T19:04:04.570Z"
   },
   {
    "duration": 10,
    "start_time": "2021-10-09T19:04:11.960Z"
   },
   {
    "duration": 11,
    "start_time": "2021-10-09T19:04:16.222Z"
   },
   {
    "duration": 27,
    "start_time": "2021-10-09T19:04:17.780Z"
   },
   {
    "duration": 56,
    "start_time": "2021-10-09T19:04:18.595Z"
   },
   {
    "duration": 4,
    "start_time": "2021-10-09T19:04:31.672Z"
   },
   {
    "duration": 5,
    "start_time": "2021-10-09T19:04:36.456Z"
   },
   {
    "duration": 23,
    "start_time": "2021-10-09T19:04:41.717Z"
   },
   {
    "duration": 25,
    "start_time": "2021-10-09T19:04:50.374Z"
   },
   {
    "duration": 7,
    "start_time": "2021-10-09T19:05:10.481Z"
   },
   {
    "duration": 4,
    "start_time": "2021-10-09T19:05:15.644Z"
   },
   {
    "duration": 389,
    "start_time": "2021-10-09T19:05:18.373Z"
   },
   {
    "duration": 237,
    "start_time": "2021-10-09T19:05:19.681Z"
   },
   {
    "duration": 405,
    "start_time": "2021-10-09T19:05:21.088Z"
   },
   {
    "duration": 366,
    "start_time": "2021-10-09T19:05:22.669Z"
   },
   {
    "duration": 11,
    "start_time": "2021-10-09T19:05:27.056Z"
   },
   {
    "duration": 3,
    "start_time": "2021-10-09T19:05:32.862Z"
   },
   {
    "duration": 2,
    "start_time": "2021-10-09T19:05:41.512Z"
   },
   {
    "duration": 16,
    "start_time": "2021-10-09T19:05:42.526Z"
   },
   {
    "duration": 366,
    "start_time": "2021-10-09T19:17:54.166Z"
   },
   {
    "duration": 1105,
    "start_time": "2021-10-09T19:22:53.760Z"
   },
   {
    "duration": 418,
    "start_time": "2021-10-09T19:22:56.292Z"
   },
   {
    "duration": 4,
    "start_time": "2021-10-09T19:22:58.594Z"
   },
   {
    "duration": 52,
    "start_time": "2021-10-09T19:22:59.522Z"
   },
   {
    "duration": 42,
    "start_time": "2021-10-09T19:23:00.856Z"
   },
   {
    "duration": 27,
    "start_time": "2021-10-09T19:23:01.991Z"
   },
   {
    "duration": 31,
    "start_time": "2021-10-09T19:23:03.162Z"
   },
   {
    "duration": 21,
    "start_time": "2021-10-09T19:23:04.918Z"
   },
   {
    "duration": 4,
    "start_time": "2021-10-09T19:24:56.583Z"
   },
   {
    "duration": 945,
    "start_time": "2021-10-09T19:24:58.824Z"
   },
   {
    "duration": 2,
    "start_time": "2021-10-09T19:25:07.942Z"
   },
   {
    "duration": 3,
    "start_time": "2021-10-09T19:25:08.695Z"
   },
   {
    "duration": 24,
    "start_time": "2021-10-09T19:25:10.712Z"
   },
   {
    "duration": 5,
    "start_time": "2021-10-09T19:25:13.514Z"
   },
   {
    "duration": 1129,
    "start_time": "2021-10-09T19:25:21.830Z"
   },
   {
    "duration": 428,
    "start_time": "2021-10-09T19:25:22.961Z"
   },
   {
    "duration": 3,
    "start_time": "2021-10-09T19:25:23.391Z"
   },
   {
    "duration": 50,
    "start_time": "2021-10-09T19:25:23.396Z"
   },
   {
    "duration": 45,
    "start_time": "2021-10-09T19:25:23.448Z"
   },
   {
    "duration": 26,
    "start_time": "2021-10-09T19:25:23.494Z"
   },
   {
    "duration": 28,
    "start_time": "2021-10-09T19:25:23.522Z"
   },
   {
    "duration": 41,
    "start_time": "2021-10-09T19:25:23.553Z"
   },
   {
    "duration": 4,
    "start_time": "2021-10-09T19:25:23.596Z"
   },
   {
    "duration": 957,
    "start_time": "2021-10-09T19:25:23.601Z"
   },
   {
    "duration": 2,
    "start_time": "2021-10-09T19:25:24.560Z"
   },
   {
    "duration": 5,
    "start_time": "2021-10-09T19:25:24.563Z"
   },
   {
    "duration": 30,
    "start_time": "2021-10-09T19:25:24.570Z"
   },
   {
    "duration": 4,
    "start_time": "2021-10-09T19:25:24.602Z"
   },
   {
    "duration": 15,
    "start_time": "2021-10-09T19:25:24.608Z"
   },
   {
    "duration": 12,
    "start_time": "2021-10-09T19:25:24.624Z"
   },
   {
    "duration": 47,
    "start_time": "2021-10-09T19:25:24.638Z"
   },
   {
    "duration": 58,
    "start_time": "2021-10-09T19:25:24.687Z"
   },
   {
    "duration": 3,
    "start_time": "2021-10-09T19:25:24.747Z"
   },
   {
    "duration": 8,
    "start_time": "2021-10-09T19:25:24.752Z"
   },
   {
    "duration": 35,
    "start_time": "2021-10-09T19:25:24.762Z"
   },
   {
    "duration": 6,
    "start_time": "2021-10-09T19:25:24.799Z"
   },
   {
    "duration": 23,
    "start_time": "2021-10-09T19:25:24.809Z"
   },
   {
    "duration": 4,
    "start_time": "2021-10-09T19:25:24.835Z"
   },
   {
    "duration": 36,
    "start_time": "2021-10-09T19:25:24.841Z"
   },
   {
    "duration": 14,
    "start_time": "2021-10-09T19:25:24.879Z"
   },
   {
    "duration": 5,
    "start_time": "2021-10-09T19:25:24.895Z"
   },
   {
    "duration": 7,
    "start_time": "2021-10-09T19:25:24.902Z"
   },
   {
    "duration": 16,
    "start_time": "2021-10-09T19:25:24.911Z"
   },
   {
    "duration": 5,
    "start_time": "2021-10-09T19:25:24.929Z"
   },
   {
    "duration": 266,
    "start_time": "2021-10-09T19:25:24.935Z"
   },
   {
    "duration": 238,
    "start_time": "2021-10-09T19:25:25.203Z"
   },
   {
    "duration": 248,
    "start_time": "2021-10-09T19:25:25.443Z"
   },
   {
    "duration": 235,
    "start_time": "2021-10-09T19:25:25.692Z"
   },
   {
    "duration": 6,
    "start_time": "2021-10-09T19:25:25.929Z"
   },
   {
    "duration": 12,
    "start_time": "2021-10-09T19:25:25.937Z"
   },
   {
    "duration": 6,
    "start_time": "2021-10-09T19:25:25.951Z"
   },
   {
    "duration": 8,
    "start_time": "2021-10-09T19:25:25.976Z"
   },
   {
    "duration": 10,
    "start_time": "2021-10-09T19:25:25.985Z"
   },
   {
    "duration": 4,
    "start_time": "2021-10-09T19:25:25.996Z"
   },
   {
    "duration": 12,
    "start_time": "2021-10-09T19:25:26.001Z"
   },
   {
    "duration": 7,
    "start_time": "2021-10-09T19:25:26.015Z"
   },
   {
    "duration": 8,
    "start_time": "2021-10-09T19:25:26.024Z"
   },
   {
    "duration": 4,
    "start_time": "2021-10-09T19:25:26.034Z"
   },
   {
    "duration": 39,
    "start_time": "2021-10-09T19:25:26.040Z"
   },
   {
    "duration": 10,
    "start_time": "2021-10-09T19:25:26.081Z"
   },
   {
    "duration": 16,
    "start_time": "2021-10-09T19:25:26.092Z"
   },
   {
    "duration": 69,
    "start_time": "2021-10-09T19:25:26.110Z"
   },
   {
    "duration": 4,
    "start_time": "2021-10-09T19:25:26.180Z"
   },
   {
    "duration": 7,
    "start_time": "2021-10-09T19:25:26.186Z"
   },
   {
    "duration": 357,
    "start_time": "2021-10-09T19:25:26.195Z"
   },
   {
    "duration": 245,
    "start_time": "2021-10-09T19:25:26.553Z"
   },
   {
    "duration": 350,
    "start_time": "2021-10-09T19:25:26.800Z"
   },
   {
    "duration": 250,
    "start_time": "2021-10-09T19:25:27.151Z"
   },
   {
    "duration": 430,
    "start_time": "2021-10-09T19:25:27.404Z"
   },
   {
    "duration": 275,
    "start_time": "2021-10-09T19:25:27.837Z"
   },
   {
    "duration": 31,
    "start_time": "2021-10-09T19:25:28.113Z"
   },
   {
    "duration": 9,
    "start_time": "2021-10-09T19:25:28.146Z"
   },
   {
    "duration": 7,
    "start_time": "2021-10-09T19:25:28.178Z"
   },
   {
    "duration": 7,
    "start_time": "2021-10-09T19:25:28.187Z"
   },
   {
    "duration": 7,
    "start_time": "2021-10-09T19:25:28.196Z"
   },
   {
    "duration": 9,
    "start_time": "2021-10-09T19:25:28.205Z"
   },
   {
    "duration": 7,
    "start_time": "2021-10-09T19:25:28.216Z"
   },
   {
    "duration": 10,
    "start_time": "2021-10-09T19:25:28.225Z"
   },
   {
    "duration": 10,
    "start_time": "2021-10-09T19:25:28.277Z"
   },
   {
    "duration": 372,
    "start_time": "2021-10-09T19:25:28.289Z"
   },
   {
    "duration": 250,
    "start_time": "2021-10-09T19:25:28.662Z"
   },
   {
    "duration": 294,
    "start_time": "2021-10-09T19:25:28.917Z"
   },
   {
    "duration": 289,
    "start_time": "2021-10-09T19:25:29.213Z"
   },
   {
    "duration": 290,
    "start_time": "2021-10-09T19:25:29.504Z"
   },
   {
    "duration": 367,
    "start_time": "2021-10-09T19:25:29.796Z"
   },
   {
    "duration": 2,
    "start_time": "2021-10-09T19:25:30.165Z"
   },
   {
    "duration": 4,
    "start_time": "2021-10-09T19:25:30.176Z"
   },
   {
    "duration": 11,
    "start_time": "2021-10-09T19:25:30.181Z"
   },
   {
    "duration": 8,
    "start_time": "2021-10-09T19:25:30.194Z"
   },
   {
    "duration": 1018,
    "start_time": "2021-10-16T13:47:03.298Z"
   },
   {
    "duration": 430,
    "start_time": "2021-10-16T13:47:04.318Z"
   },
   {
    "duration": 3,
    "start_time": "2021-10-16T13:47:04.750Z"
   },
   {
    "duration": 54,
    "start_time": "2021-10-16T13:47:04.754Z"
   },
   {
    "duration": 38,
    "start_time": "2021-10-16T13:47:04.810Z"
   },
   {
    "duration": 41,
    "start_time": "2021-10-16T13:47:04.850Z"
   },
   {
    "duration": 30,
    "start_time": "2021-10-16T13:47:04.893Z"
   },
   {
    "duration": 19,
    "start_time": "2021-10-16T13:47:04.926Z"
   },
   {
    "duration": 4,
    "start_time": "2021-10-16T13:47:04.947Z"
   },
   {
    "duration": 941,
    "start_time": "2021-10-16T13:47:04.953Z"
   },
   {
    "duration": 2,
    "start_time": "2021-10-16T13:47:05.896Z"
   },
   {
    "duration": 6,
    "start_time": "2021-10-16T13:47:05.900Z"
   },
   {
    "duration": 26,
    "start_time": "2021-10-16T13:47:05.907Z"
   },
   {
    "duration": 5,
    "start_time": "2021-10-16T13:47:05.935Z"
   },
   {
    "duration": 5,
    "start_time": "2021-10-16T13:47:05.942Z"
   },
   {
    "duration": 10,
    "start_time": "2021-10-16T13:47:05.949Z"
   },
   {
    "duration": 24,
    "start_time": "2021-10-16T13:47:05.992Z"
   },
   {
    "duration": 51,
    "start_time": "2021-10-16T13:47:06.018Z"
   },
   {
    "duration": 3,
    "start_time": "2021-10-16T13:47:06.070Z"
   },
   {
    "duration": 3,
    "start_time": "2021-10-16T13:47:06.091Z"
   },
   {
    "duration": 23,
    "start_time": "2021-10-16T13:47:06.095Z"
   },
   {
    "duration": 6,
    "start_time": "2021-10-16T13:47:06.119Z"
   },
   {
    "duration": 22,
    "start_time": "2021-10-16T13:47:06.128Z"
   },
   {
    "duration": 3,
    "start_time": "2021-10-16T13:47:06.152Z"
   },
   {
    "duration": 7,
    "start_time": "2021-10-16T13:47:06.157Z"
   },
   {
    "duration": 14,
    "start_time": "2021-10-16T13:47:06.192Z"
   },
   {
    "duration": 6,
    "start_time": "2021-10-16T13:47:06.208Z"
   },
   {
    "duration": 12,
    "start_time": "2021-10-16T13:47:06.215Z"
   },
   {
    "duration": 18,
    "start_time": "2021-10-16T13:47:06.228Z"
   },
   {
    "duration": 5,
    "start_time": "2021-10-16T13:47:06.247Z"
   },
   {
    "duration": 261,
    "start_time": "2021-10-16T13:47:06.253Z"
   },
   {
    "duration": 220,
    "start_time": "2021-10-16T13:47:06.515Z"
   },
   {
    "duration": 227,
    "start_time": "2021-10-16T13:47:06.737Z"
   },
   {
    "duration": 226,
    "start_time": "2021-10-16T13:47:06.965Z"
   },
   {
    "duration": 5,
    "start_time": "2021-10-16T13:47:07.193Z"
   },
   {
    "duration": 8,
    "start_time": "2021-10-16T13:47:07.200Z"
   },
   {
    "duration": 7,
    "start_time": "2021-10-16T13:47:07.210Z"
   },
   {
    "duration": 14,
    "start_time": "2021-10-16T13:47:07.218Z"
   },
   {
    "duration": 8,
    "start_time": "2021-10-16T13:47:07.233Z"
   },
   {
    "duration": 3,
    "start_time": "2021-10-16T13:47:07.243Z"
   },
   {
    "duration": 9,
    "start_time": "2021-10-16T13:47:07.247Z"
   },
   {
    "duration": 34,
    "start_time": "2021-10-16T13:47:07.257Z"
   },
   {
    "duration": 10,
    "start_time": "2021-10-16T13:47:07.293Z"
   },
   {
    "duration": 5,
    "start_time": "2021-10-16T13:47:07.304Z"
   },
   {
    "duration": 7,
    "start_time": "2021-10-16T13:47:07.310Z"
   },
   {
    "duration": 9,
    "start_time": "2021-10-16T13:47:07.319Z"
   },
   {
    "duration": 17,
    "start_time": "2021-10-16T13:47:07.330Z"
   },
   {
    "duration": 67,
    "start_time": "2021-10-16T13:47:07.348Z"
   },
   {
    "duration": 3,
    "start_time": "2021-10-16T13:47:07.417Z"
   },
   {
    "duration": 11,
    "start_time": "2021-10-16T13:47:07.422Z"
   },
   {
    "duration": 360,
    "start_time": "2021-10-16T13:47:07.434Z"
   },
   {
    "duration": 254,
    "start_time": "2021-10-16T13:47:07.796Z"
   },
   {
    "duration": 360,
    "start_time": "2021-10-16T13:47:08.051Z"
   },
   {
    "duration": 237,
    "start_time": "2021-10-16T13:47:08.413Z"
   },
   {
    "duration": 412,
    "start_time": "2021-10-16T13:47:08.651Z"
   },
   {
    "duration": 244,
    "start_time": "2021-10-16T13:47:09.065Z"
   },
   {
    "duration": 27,
    "start_time": "2021-10-16T13:47:09.311Z"
   },
   {
    "duration": 6,
    "start_time": "2021-10-16T13:47:09.340Z"
   },
   {
    "duration": 7,
    "start_time": "2021-10-16T13:47:09.347Z"
   },
   {
    "duration": 37,
    "start_time": "2021-10-16T13:47:09.355Z"
   },
   {
    "duration": 6,
    "start_time": "2021-10-16T13:47:09.394Z"
   },
   {
    "duration": 7,
    "start_time": "2021-10-16T13:47:09.402Z"
   },
   {
    "duration": 7,
    "start_time": "2021-10-16T13:47:09.410Z"
   },
   {
    "duration": 9,
    "start_time": "2021-10-16T13:47:09.418Z"
   },
   {
    "duration": 7,
    "start_time": "2021-10-16T13:47:09.429Z"
   },
   {
    "duration": 364,
    "start_time": "2021-10-16T13:47:09.438Z"
   },
   {
    "duration": 246,
    "start_time": "2021-10-16T13:47:09.804Z"
   },
   {
    "duration": 348,
    "start_time": "2021-10-16T13:47:10.054Z"
   },
   {
    "duration": 320,
    "start_time": "2021-10-16T13:47:10.403Z"
   },
   {
    "duration": 282,
    "start_time": "2021-10-16T13:47:10.724Z"
   },
   {
    "duration": 293,
    "start_time": "2021-10-16T13:47:11.007Z"
   },
   {
    "duration": 2,
    "start_time": "2021-10-16T13:47:11.302Z"
   },
   {
    "duration": 5,
    "start_time": "2021-10-16T13:47:11.306Z"
   },
   {
    "duration": 9,
    "start_time": "2021-10-16T13:47:11.312Z"
   },
   {
    "duration": 6,
    "start_time": "2021-10-16T13:47:11.323Z"
   },
   {
    "duration": 22,
    "start_time": "2021-10-16T13:47:45.795Z"
   },
   {
    "duration": 1446,
    "start_time": "2021-12-19T18:34:45.959Z"
   },
   {
    "duration": 543,
    "start_time": "2021-12-19T18:34:48.236Z"
   },
   {
    "duration": 4,
    "start_time": "2021-12-19T18:34:52.667Z"
   },
   {
    "duration": 60,
    "start_time": "2021-12-19T18:34:53.447Z"
   },
   {
    "duration": 2033,
    "start_time": "2022-01-07T10:22:54.075Z"
   },
   {
    "duration": 787,
    "start_time": "2022-01-07T10:22:56.111Z"
   },
   {
    "duration": 4,
    "start_time": "2022-01-07T10:22:56.901Z"
   },
   {
    "duration": 90,
    "start_time": "2022-01-07T10:22:56.909Z"
   },
   {
    "duration": 93,
    "start_time": "2022-01-07T10:22:57.002Z"
   },
   {
    "duration": 55,
    "start_time": "2022-01-07T10:22:57.098Z"
   },
   {
    "duration": 79,
    "start_time": "2022-01-07T10:22:57.156Z"
   },
   {
    "duration": 48,
    "start_time": "2022-01-07T10:22:57.240Z"
   },
   {
    "duration": 25,
    "start_time": "2022-01-07T10:22:57.293Z"
   },
   {
    "duration": 1300,
    "start_time": "2022-01-07T10:22:57.322Z"
   },
   {
    "duration": 5,
    "start_time": "2022-01-07T10:22:58.624Z"
   },
   {
    "duration": 3,
    "start_time": "2022-01-07T10:22:58.632Z"
   },
   {
    "duration": 39,
    "start_time": "2022-01-07T10:22:58.638Z"
   },
   {
    "duration": 8,
    "start_time": "2022-01-07T10:22:58.680Z"
   },
   {
    "duration": 82,
    "start_time": "2022-01-07T10:22:58.718Z"
   },
   {
    "duration": 14,
    "start_time": "2022-01-07T10:22:58.803Z"
   },
   {
    "duration": 34,
    "start_time": "2022-01-07T10:22:58.819Z"
   },
   {
    "duration": 80,
    "start_time": "2022-01-07T10:22:58.855Z"
   },
   {
    "duration": 5,
    "start_time": "2022-01-07T10:22:58.937Z"
   },
   {
    "duration": 7,
    "start_time": "2022-01-07T10:22:58.944Z"
   },
   {
    "duration": 31,
    "start_time": "2022-01-07T10:22:58.953Z"
   },
   {
    "duration": 37,
    "start_time": "2022-01-07T10:22:58.986Z"
   },
   {
    "duration": 35,
    "start_time": "2022-01-07T10:22:59.031Z"
   },
   {
    "duration": 5,
    "start_time": "2022-01-07T10:22:59.069Z"
   },
   {
    "duration": 47,
    "start_time": "2022-01-07T10:22:59.077Z"
   },
   {
    "duration": 23,
    "start_time": "2022-01-07T10:22:59.126Z"
   },
   {
    "duration": 8,
    "start_time": "2022-01-07T10:22:59.151Z"
   },
   {
    "duration": 11,
    "start_time": "2022-01-07T10:22:59.161Z"
   },
   {
    "duration": 27,
    "start_time": "2022-01-07T10:22:59.217Z"
   },
   {
    "duration": 7,
    "start_time": "2022-01-07T10:22:59.246Z"
   },
   {
    "duration": 429,
    "start_time": "2022-01-07T10:22:59.256Z"
   },
   {
    "duration": 420,
    "start_time": "2022-01-07T10:22:59.688Z"
   },
   {
    "duration": 443,
    "start_time": "2022-01-07T10:23:00.111Z"
   },
   {
    "duration": 464,
    "start_time": "2022-01-07T10:23:00.558Z"
   },
   {
    "duration": 13,
    "start_time": "2022-01-07T10:23:01.025Z"
   },
   {
    "duration": 12,
    "start_time": "2022-01-07T10:23:01.041Z"
   },
   {
    "duration": 12,
    "start_time": "2022-01-07T10:23:01.057Z"
   },
   {
    "duration": 51,
    "start_time": "2022-01-07T10:23:01.072Z"
   },
   {
    "duration": 23,
    "start_time": "2022-01-07T10:23:01.126Z"
   },
   {
    "duration": 15,
    "start_time": "2022-01-07T10:23:01.152Z"
   },
   {
    "duration": 31,
    "start_time": "2022-01-07T10:23:01.170Z"
   },
   {
    "duration": 30,
    "start_time": "2022-01-07T10:23:01.203Z"
   },
   {
    "duration": 23,
    "start_time": "2022-01-07T10:23:01.235Z"
   },
   {
    "duration": 37,
    "start_time": "2022-01-07T10:23:01.261Z"
   },
   {
    "duration": 27,
    "start_time": "2022-01-07T10:23:01.301Z"
   },
   {
    "duration": 46,
    "start_time": "2022-01-07T10:23:01.330Z"
   },
   {
    "duration": 26,
    "start_time": "2022-01-07T10:23:01.379Z"
   },
   {
    "duration": 93,
    "start_time": "2022-01-07T10:23:01.407Z"
   },
   {
    "duration": 7,
    "start_time": "2022-01-07T10:23:01.503Z"
   },
   {
    "duration": 35,
    "start_time": "2022-01-07T10:23:01.513Z"
   },
   {
    "duration": 643,
    "start_time": "2022-01-07T10:23:01.551Z"
   },
   {
    "duration": 431,
    "start_time": "2022-01-07T10:23:02.196Z"
   },
   {
    "duration": 725,
    "start_time": "2022-01-07T10:23:02.630Z"
   },
   {
    "duration": 460,
    "start_time": "2022-01-07T10:23:03.357Z"
   },
   {
    "duration": 731,
    "start_time": "2022-01-07T10:23:03.819Z"
   },
   {
    "duration": 408,
    "start_time": "2022-01-07T10:23:04.553Z"
   },
   {
    "duration": 63,
    "start_time": "2022-01-07T10:23:04.964Z"
   },
   {
    "duration": 9,
    "start_time": "2022-01-07T10:23:05.030Z"
   },
   {
    "duration": 10,
    "start_time": "2022-01-07T10:23:05.042Z"
   },
   {
    "duration": 11,
    "start_time": "2022-01-07T10:23:05.055Z"
   },
   {
    "duration": 53,
    "start_time": "2022-01-07T10:23:05.068Z"
   },
   {
    "duration": 11,
    "start_time": "2022-01-07T10:23:05.123Z"
   },
   {
    "duration": 11,
    "start_time": "2022-01-07T10:23:05.137Z"
   },
   {
    "duration": 26,
    "start_time": "2022-01-07T10:23:05.150Z"
   },
   {
    "duration": 47,
    "start_time": "2022-01-07T10:23:05.178Z"
   },
   {
    "duration": 698,
    "start_time": "2022-01-07T10:23:05.228Z"
   },
   {
    "duration": 496,
    "start_time": "2022-01-07T10:23:05.928Z"
   },
   {
    "duration": 428,
    "start_time": "2022-01-07T10:23:06.434Z"
   },
   {
    "duration": 476,
    "start_time": "2022-01-07T10:23:06.864Z"
   },
   {
    "duration": 437,
    "start_time": "2022-01-07T10:23:07.343Z"
   },
   {
    "duration": 454,
    "start_time": "2022-01-07T10:23:07.782Z"
   },
   {
    "duration": 3,
    "start_time": "2022-01-07T10:23:08.239Z"
   },
   {
    "duration": 6,
    "start_time": "2022-01-07T10:23:08.245Z"
   },
   {
    "duration": 18,
    "start_time": "2022-01-07T10:23:08.253Z"
   },
   {
    "duration": 47,
    "start_time": "2022-01-07T10:23:08.274Z"
   },
   {
    "duration": 1903,
    "start_time": "2022-01-07T10:24:14.606Z"
   },
   {
    "duration": 605,
    "start_time": "2022-01-07T10:24:16.512Z"
   },
   {
    "duration": 5,
    "start_time": "2022-01-07T10:24:17.121Z"
   },
   {
    "duration": 113,
    "start_time": "2022-01-07T10:24:17.130Z"
   },
   {
    "duration": 92,
    "start_time": "2022-01-07T10:24:17.246Z"
   },
   {
    "duration": 41,
    "start_time": "2022-01-07T10:24:17.341Z"
   },
   {
    "duration": 80,
    "start_time": "2022-01-07T10:24:17.385Z"
   },
   {
    "duration": 63,
    "start_time": "2022-01-07T10:24:17.471Z"
   },
   {
    "duration": 6,
    "start_time": "2022-01-07T10:24:17.539Z"
   },
   {
    "duration": 1236,
    "start_time": "2022-01-07T10:24:17.547Z"
   },
   {
    "duration": 3,
    "start_time": "2022-01-07T10:24:18.786Z"
   },
   {
    "duration": 6,
    "start_time": "2022-01-07T10:24:18.791Z"
   },
   {
    "duration": 32,
    "start_time": "2022-01-07T10:24:18.817Z"
   },
   {
    "duration": 7,
    "start_time": "2022-01-07T10:24:18.851Z"
   },
   {
    "duration": 13,
    "start_time": "2022-01-07T10:24:18.861Z"
   },
   {
    "duration": 44,
    "start_time": "2022-01-07T10:24:18.877Z"
   },
   {
    "duration": 43,
    "start_time": "2022-01-07T10:24:18.924Z"
   },
   {
    "duration": 130,
    "start_time": "2022-01-07T10:24:18.970Z"
   },
   {
    "duration": 6,
    "start_time": "2022-01-07T10:24:19.103Z"
   },
   {
    "duration": 6,
    "start_time": "2022-01-07T10:24:19.117Z"
   },
   {
    "duration": 46,
    "start_time": "2022-01-07T10:24:19.126Z"
   },
   {
    "duration": 11,
    "start_time": "2022-01-07T10:24:19.175Z"
   },
   {
    "duration": 56,
    "start_time": "2022-01-07T10:24:19.223Z"
   },
   {
    "duration": 31,
    "start_time": "2022-01-07T10:24:19.286Z"
   },
   {
    "duration": 10,
    "start_time": "2022-01-07T10:24:19.320Z"
   },
   {
    "duration": 23,
    "start_time": "2022-01-07T10:24:19.332Z"
   },
   {
    "duration": 8,
    "start_time": "2022-01-07T10:24:19.358Z"
   },
   {
    "duration": 53,
    "start_time": "2022-01-07T10:24:19.369Z"
   },
   {
    "duration": 29,
    "start_time": "2022-01-07T10:24:19.425Z"
   },
   {
    "duration": 7,
    "start_time": "2022-01-07T10:24:19.456Z"
   },
   {
    "duration": 651,
    "start_time": "2022-01-07T10:24:19.466Z"
   },
   {
    "duration": 455,
    "start_time": "2022-01-07T10:24:20.120Z"
   },
   {
    "duration": 426,
    "start_time": "2022-01-07T10:24:20.577Z"
   },
   {
    "duration": 443,
    "start_time": "2022-01-07T10:24:21.006Z"
   },
   {
    "duration": 11,
    "start_time": "2022-01-07T10:24:21.452Z"
   },
   {
    "duration": 14,
    "start_time": "2022-01-07T10:24:21.466Z"
   },
   {
    "duration": 39,
    "start_time": "2022-01-07T10:24:21.482Z"
   },
   {
    "duration": 12,
    "start_time": "2022-01-07T10:24:21.524Z"
   },
   {
    "duration": 13,
    "start_time": "2022-01-07T10:24:21.538Z"
   },
   {
    "duration": 4,
    "start_time": "2022-01-07T10:24:21.554Z"
   },
   {
    "duration": 15,
    "start_time": "2022-01-07T10:24:21.562Z"
   },
   {
    "duration": 46,
    "start_time": "2022-01-07T10:24:21.580Z"
   },
   {
    "duration": 12,
    "start_time": "2022-01-07T10:24:21.629Z"
   },
   {
    "duration": 7,
    "start_time": "2022-01-07T10:24:21.644Z"
   },
   {
    "duration": 8,
    "start_time": "2022-01-07T10:24:21.654Z"
   },
   {
    "duration": 57,
    "start_time": "2022-01-07T10:24:21.665Z"
   },
   {
    "duration": 24,
    "start_time": "2022-01-07T10:24:21.725Z"
   },
   {
    "duration": 99,
    "start_time": "2022-01-07T10:24:21.752Z"
   },
   {
    "duration": 5,
    "start_time": "2022-01-07T10:24:21.854Z"
   },
   {
    "duration": 9,
    "start_time": "2022-01-07T10:24:21.861Z"
   },
   {
    "duration": 624,
    "start_time": "2022-01-07T10:24:21.872Z"
   },
   {
    "duration": 464,
    "start_time": "2022-01-07T10:24:22.498Z"
   },
   {
    "duration": 568,
    "start_time": "2022-01-07T10:24:22.965Z"
   },
   {
    "duration": 617,
    "start_time": "2022-01-07T10:24:23.535Z"
   },
   {
    "duration": 873,
    "start_time": "2022-01-07T10:24:24.154Z"
   },
   {
    "duration": 406,
    "start_time": "2022-01-07T10:24:25.029Z"
   },
   {
    "duration": 43,
    "start_time": "2022-01-07T10:24:25.438Z"
   },
   {
    "duration": 10,
    "start_time": "2022-01-07T10:24:25.484Z"
   },
   {
    "duration": 11,
    "start_time": "2022-01-07T10:24:25.518Z"
   },
   {
    "duration": 13,
    "start_time": "2022-01-07T10:24:25.531Z"
   },
   {
    "duration": 10,
    "start_time": "2022-01-07T10:24:25.547Z"
   },
   {
    "duration": 16,
    "start_time": "2022-01-07T10:24:25.560Z"
   },
   {
    "duration": 10,
    "start_time": "2022-01-07T10:24:25.618Z"
   },
   {
    "duration": 11,
    "start_time": "2022-01-07T10:24:25.631Z"
   },
   {
    "duration": 12,
    "start_time": "2022-01-07T10:24:25.645Z"
   },
   {
    "duration": 803,
    "start_time": "2022-01-07T10:24:25.660Z"
   },
   {
    "duration": 414,
    "start_time": "2022-01-07T10:24:26.466Z"
   },
   {
    "duration": 429,
    "start_time": "2022-01-07T10:24:26.888Z"
   },
   {
    "duration": 426,
    "start_time": "2022-01-07T10:24:27.320Z"
   },
   {
    "duration": 399,
    "start_time": "2022-01-07T10:24:27.748Z"
   },
   {
    "duration": 395,
    "start_time": "2022-01-07T10:24:28.149Z"
   },
   {
    "duration": 3,
    "start_time": "2022-01-07T10:24:28.546Z"
   },
   {
    "duration": 6,
    "start_time": "2022-01-07T10:24:28.552Z"
   },
   {
    "duration": 10,
    "start_time": "2022-01-07T10:24:28.560Z"
   },
   {
    "duration": 51,
    "start_time": "2022-01-07T10:24:28.573Z"
   }
  ],
  "kernelspec": {
   "display_name": "Python 3",
   "language": "python",
   "name": "python3"
  },
  "language_info": {
   "codemirror_mode": {
    "name": "ipython",
    "version": 3
   },
   "file_extension": ".py",
   "mimetype": "text/x-python",
   "name": "python",
   "nbconvert_exporter": "python",
   "pygments_lexer": "ipython3",
   "version": "3.8.5"
  },
  "toc": {
   "base_numbering": 1,
   "nav_menu": {},
   "number_sections": true,
   "sideBar": true,
   "skip_h1_title": true,
   "title_cell": "Table of Contents",
   "title_sidebar": "Contents",
   "toc_cell": false,
   "toc_position": {
    "height": "calc(100% - 180px)",
    "left": "10px",
    "top": "150px",
    "width": "165px"
   },
   "toc_section_display": true,
   "toc_window_display": true
  }
 },
 "nbformat": 4,
 "nbformat_minor": 2
}
