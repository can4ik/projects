{
 "cells": [
  {
   "cell_type": "markdown",
   "metadata": {
    "id": "BsWScwCI7OdI"
   },
   "source": [
    "## Изучение данных"
   ]
  },
  {
   "cell_type": "code",
   "execution_count": 1,
   "metadata": {
    "id": "zrwi5rIl7OdJ"
   },
   "outputs": [],
   "source": [
    "import warnings\n",
    "warnings.filterwarnings('ignore')\n",
    "import re\n",
    "import random\n",
    "import pandas as pd\n",
    "import numpy as np\n",
    "import seaborn as sns\n",
    "from sklearn.preprocessing import OrdinalEncoder\n",
    "from sklearn.preprocessing import StandardScaler\n",
    "from sklearn.utils import shuffle\n",
    "from sklearn.metrics import f1_score\n",
    "from sklearn.metrics import roc_auc_score\n",
    "from sklearn.ensemble import RandomForestClassifier\n",
    "from sklearn.linear_model import LogisticRegression\n",
    "from sklearn.tree import DecisionTreeClassifier\n",
    "from sklearn.model_selection import train_test_split\n",
    "from sklearn.model_selection import GridSearchCV\n",
    "from sklearn.model_selection import StratifiedKFold\n",
    "from sklearn.inspection import permutation_importance\n",
    "from imblearn.pipeline import Pipeline, make_pipeline\n",
    "from imblearn.over_sampling import SMOTE\n",
    "import matplotlib.pyplot as plt"
   ]
  },
  {
   "cell_type": "code",
   "execution_count": 2,
   "metadata": {
    "id": "jJIimW7O7OdL"
   },
   "outputs": [],
   "source": [
    "df = pd.read_csv('/datasets/Churn.csv', index_col=0).reset_index(drop=True)"
   ]
  },
  {
   "cell_type": "code",
   "execution_count": 3,
   "metadata": {
    "colab": {
     "base_uri": "https://localhost:8080/",
     "height": 204
    },
    "id": "rudZQx-R7OdM",
    "outputId": "920c02c4-e2c7-4ad0-c3c4-7272822484d3"
   },
   "outputs": [
    {
     "data": {
      "text/html": [
       "<div>\n",
       "<style scoped>\n",
       "    .dataframe tbody tr th:only-of-type {\n",
       "        vertical-align: middle;\n",
       "    }\n",
       "\n",
       "    .dataframe tbody tr th {\n",
       "        vertical-align: top;\n",
       "    }\n",
       "\n",
       "    .dataframe thead th {\n",
       "        text-align: right;\n",
       "    }\n",
       "</style>\n",
       "<table border=\"1\" class=\"dataframe\">\n",
       "  <thead>\n",
       "    <tr style=\"text-align: right;\">\n",
       "      <th></th>\n",
       "      <th>CustomerId</th>\n",
       "      <th>Surname</th>\n",
       "      <th>CreditScore</th>\n",
       "      <th>Geography</th>\n",
       "      <th>Gender</th>\n",
       "      <th>Age</th>\n",
       "      <th>Tenure</th>\n",
       "      <th>Balance</th>\n",
       "      <th>NumOfProducts</th>\n",
       "      <th>HasCrCard</th>\n",
       "      <th>IsActiveMember</th>\n",
       "      <th>EstimatedSalary</th>\n",
       "      <th>Exited</th>\n",
       "    </tr>\n",
       "  </thead>\n",
       "  <tbody>\n",
       "    <tr>\n",
       "      <th>0</th>\n",
       "      <td>15634602</td>\n",
       "      <td>Hargrave</td>\n",
       "      <td>619</td>\n",
       "      <td>France</td>\n",
       "      <td>Female</td>\n",
       "      <td>42</td>\n",
       "      <td>2.0</td>\n",
       "      <td>0.00</td>\n",
       "      <td>1</td>\n",
       "      <td>1</td>\n",
       "      <td>1</td>\n",
       "      <td>101348.88</td>\n",
       "      <td>1</td>\n",
       "    </tr>\n",
       "    <tr>\n",
       "      <th>1</th>\n",
       "      <td>15647311</td>\n",
       "      <td>Hill</td>\n",
       "      <td>608</td>\n",
       "      <td>Spain</td>\n",
       "      <td>Female</td>\n",
       "      <td>41</td>\n",
       "      <td>1.0</td>\n",
       "      <td>83807.86</td>\n",
       "      <td>1</td>\n",
       "      <td>0</td>\n",
       "      <td>1</td>\n",
       "      <td>112542.58</td>\n",
       "      <td>0</td>\n",
       "    </tr>\n",
       "    <tr>\n",
       "      <th>2</th>\n",
       "      <td>15619304</td>\n",
       "      <td>Onio</td>\n",
       "      <td>502</td>\n",
       "      <td>France</td>\n",
       "      <td>Female</td>\n",
       "      <td>42</td>\n",
       "      <td>8.0</td>\n",
       "      <td>159660.80</td>\n",
       "      <td>3</td>\n",
       "      <td>1</td>\n",
       "      <td>0</td>\n",
       "      <td>113931.57</td>\n",
       "      <td>1</td>\n",
       "    </tr>\n",
       "    <tr>\n",
       "      <th>3</th>\n",
       "      <td>15701354</td>\n",
       "      <td>Boni</td>\n",
       "      <td>699</td>\n",
       "      <td>France</td>\n",
       "      <td>Female</td>\n",
       "      <td>39</td>\n",
       "      <td>1.0</td>\n",
       "      <td>0.00</td>\n",
       "      <td>2</td>\n",
       "      <td>0</td>\n",
       "      <td>0</td>\n",
       "      <td>93826.63</td>\n",
       "      <td>0</td>\n",
       "    </tr>\n",
       "    <tr>\n",
       "      <th>4</th>\n",
       "      <td>15737888</td>\n",
       "      <td>Mitchell</td>\n",
       "      <td>850</td>\n",
       "      <td>Spain</td>\n",
       "      <td>Female</td>\n",
       "      <td>43</td>\n",
       "      <td>2.0</td>\n",
       "      <td>125510.82</td>\n",
       "      <td>1</td>\n",
       "      <td>1</td>\n",
       "      <td>1</td>\n",
       "      <td>79084.10</td>\n",
       "      <td>0</td>\n",
       "    </tr>\n",
       "  </tbody>\n",
       "</table>\n",
       "</div>"
      ],
      "text/plain": [
       "   CustomerId   Surname  CreditScore Geography  Gender  Age  Tenure  \\\n",
       "0    15634602  Hargrave          619    France  Female   42     2.0   \n",
       "1    15647311      Hill          608     Spain  Female   41     1.0   \n",
       "2    15619304      Onio          502    France  Female   42     8.0   \n",
       "3    15701354      Boni          699    France  Female   39     1.0   \n",
       "4    15737888  Mitchell          850     Spain  Female   43     2.0   \n",
       "\n",
       "     Balance  NumOfProducts  HasCrCard  IsActiveMember  EstimatedSalary  \\\n",
       "0       0.00              1          1               1        101348.88   \n",
       "1   83807.86              1          0               1        112542.58   \n",
       "2  159660.80              3          1               0        113931.57   \n",
       "3       0.00              2          0               0         93826.63   \n",
       "4  125510.82              1          1               1         79084.10   \n",
       "\n",
       "   Exited  \n",
       "0       1  \n",
       "1       0  \n",
       "2       1  \n",
       "3       0  \n",
       "4       0  "
      ]
     },
     "execution_count": 3,
     "metadata": {},
     "output_type": "execute_result"
    }
   ],
   "source": [
    "df.head()"
   ]
  },
  {
   "cell_type": "code",
   "execution_count": 4,
   "metadata": {
    "colab": {
     "base_uri": "https://localhost:8080/"
    },
    "id": "x06PBFB87OdP",
    "outputId": "35f4ac1d-8629-41c0-cf4c-ad06631df6cb"
   },
   "outputs": [
    {
     "name": "stdout",
     "output_type": "stream",
     "text": [
      "<class 'pandas.core.frame.DataFrame'>\n",
      "RangeIndex: 10000 entries, 0 to 9999\n",
      "Data columns (total 13 columns):\n",
      " #   Column           Non-Null Count  Dtype  \n",
      "---  ------           --------------  -----  \n",
      " 0   CustomerId       10000 non-null  int64  \n",
      " 1   Surname          10000 non-null  object \n",
      " 2   CreditScore      10000 non-null  int64  \n",
      " 3   Geography        10000 non-null  object \n",
      " 4   Gender           10000 non-null  object \n",
      " 5   Age              10000 non-null  int64  \n",
      " 6   Tenure           9091 non-null   float64\n",
      " 7   Balance          10000 non-null  float64\n",
      " 8   NumOfProducts    10000 non-null  int64  \n",
      " 9   HasCrCard        10000 non-null  int64  \n",
      " 10  IsActiveMember   10000 non-null  int64  \n",
      " 11  EstimatedSalary  10000 non-null  float64\n",
      " 12  Exited           10000 non-null  int64  \n",
      "dtypes: float64(3), int64(7), object(3)\n",
      "memory usage: 1015.8+ KB\n"
     ]
    }
   ],
   "source": [
    "df.info()"
   ]
  },
  {
   "cell_type": "code",
   "execution_count": 5,
   "metadata": {
    "colab": {
     "base_uri": "https://localhost:8080/"
    },
    "id": "kClQoiLM7OdQ",
    "outputId": "ef8ebae7-f4ef-4987-81c1-ce7c04ce9619"
   },
   "outputs": [
    {
     "data": {
      "text/plain": [
       "CustomerId         0.0000\n",
       "Surname            0.0000\n",
       "CreditScore        0.0000\n",
       "Geography          0.0000\n",
       "Gender             0.0000\n",
       "Age                0.0000\n",
       "Tenure             0.0909\n",
       "Balance            0.0000\n",
       "NumOfProducts      0.0000\n",
       "HasCrCard          0.0000\n",
       "IsActiveMember     0.0000\n",
       "EstimatedSalary    0.0000\n",
       "Exited             0.0000\n",
       "dtype: float64"
      ]
     },
     "execution_count": 5,
     "metadata": {},
     "output_type": "execute_result"
    }
   ],
   "source": [
    "df.isna().mean()"
   ]
  },
  {
   "cell_type": "code",
   "execution_count": 6,
   "metadata": {
    "colab": {
     "base_uri": "https://localhost:8080/"
    },
    "id": "x_InGmzS7OdR",
    "outputId": "79035e2e-b837-46f8-9057-ddf7bc35ff26"
   },
   "outputs": [
    {
     "data": {
      "text/plain": [
       "0"
      ]
     },
     "execution_count": 6,
     "metadata": {},
     "output_type": "execute_result"
    }
   ],
   "source": [
    "df.duplicated().sum()"
   ]
  },
  {
   "cell_type": "code",
   "execution_count": 7,
   "metadata": {
    "colab": {
     "base_uri": "https://localhost:8080/",
     "height": 297
    },
    "id": "R02jwuUi7OdS",
    "outputId": "b8101a48-4444-4d4e-dea6-265abfb98b04"
   },
   "outputs": [
    {
     "data": {
      "text/html": [
       "<div>\n",
       "<style scoped>\n",
       "    .dataframe tbody tr th:only-of-type {\n",
       "        vertical-align: middle;\n",
       "    }\n",
       "\n",
       "    .dataframe tbody tr th {\n",
       "        vertical-align: top;\n",
       "    }\n",
       "\n",
       "    .dataframe thead th {\n",
       "        text-align: right;\n",
       "    }\n",
       "</style>\n",
       "<table border=\"1\" class=\"dataframe\">\n",
       "  <thead>\n",
       "    <tr style=\"text-align: right;\">\n",
       "      <th></th>\n",
       "      <th>CustomerId</th>\n",
       "      <th>CreditScore</th>\n",
       "      <th>Age</th>\n",
       "      <th>Tenure</th>\n",
       "      <th>Balance</th>\n",
       "      <th>NumOfProducts</th>\n",
       "      <th>HasCrCard</th>\n",
       "      <th>IsActiveMember</th>\n",
       "      <th>EstimatedSalary</th>\n",
       "      <th>Exited</th>\n",
       "    </tr>\n",
       "  </thead>\n",
       "  <tbody>\n",
       "    <tr>\n",
       "      <th>count</th>\n",
       "      <td>1.000000e+04</td>\n",
       "      <td>10000.000000</td>\n",
       "      <td>10000.000000</td>\n",
       "      <td>9091.000000</td>\n",
       "      <td>10000.000000</td>\n",
       "      <td>10000.000000</td>\n",
       "      <td>10000.00000</td>\n",
       "      <td>10000.000000</td>\n",
       "      <td>10000.000000</td>\n",
       "      <td>10000.000000</td>\n",
       "    </tr>\n",
       "    <tr>\n",
       "      <th>mean</th>\n",
       "      <td>1.569094e+07</td>\n",
       "      <td>650.528800</td>\n",
       "      <td>38.921800</td>\n",
       "      <td>4.997690</td>\n",
       "      <td>76485.889288</td>\n",
       "      <td>1.530200</td>\n",
       "      <td>0.70550</td>\n",
       "      <td>0.515100</td>\n",
       "      <td>100090.239881</td>\n",
       "      <td>0.203700</td>\n",
       "    </tr>\n",
       "    <tr>\n",
       "      <th>std</th>\n",
       "      <td>7.193619e+04</td>\n",
       "      <td>96.653299</td>\n",
       "      <td>10.487806</td>\n",
       "      <td>2.894723</td>\n",
       "      <td>62397.405202</td>\n",
       "      <td>0.581654</td>\n",
       "      <td>0.45584</td>\n",
       "      <td>0.499797</td>\n",
       "      <td>57510.492818</td>\n",
       "      <td>0.402769</td>\n",
       "    </tr>\n",
       "    <tr>\n",
       "      <th>min</th>\n",
       "      <td>1.556570e+07</td>\n",
       "      <td>350.000000</td>\n",
       "      <td>18.000000</td>\n",
       "      <td>0.000000</td>\n",
       "      <td>0.000000</td>\n",
       "      <td>1.000000</td>\n",
       "      <td>0.00000</td>\n",
       "      <td>0.000000</td>\n",
       "      <td>11.580000</td>\n",
       "      <td>0.000000</td>\n",
       "    </tr>\n",
       "    <tr>\n",
       "      <th>25%</th>\n",
       "      <td>1.562853e+07</td>\n",
       "      <td>584.000000</td>\n",
       "      <td>32.000000</td>\n",
       "      <td>2.000000</td>\n",
       "      <td>0.000000</td>\n",
       "      <td>1.000000</td>\n",
       "      <td>0.00000</td>\n",
       "      <td>0.000000</td>\n",
       "      <td>51002.110000</td>\n",
       "      <td>0.000000</td>\n",
       "    </tr>\n",
       "    <tr>\n",
       "      <th>50%</th>\n",
       "      <td>1.569074e+07</td>\n",
       "      <td>652.000000</td>\n",
       "      <td>37.000000</td>\n",
       "      <td>5.000000</td>\n",
       "      <td>97198.540000</td>\n",
       "      <td>1.000000</td>\n",
       "      <td>1.00000</td>\n",
       "      <td>1.000000</td>\n",
       "      <td>100193.915000</td>\n",
       "      <td>0.000000</td>\n",
       "    </tr>\n",
       "    <tr>\n",
       "      <th>75%</th>\n",
       "      <td>1.575323e+07</td>\n",
       "      <td>718.000000</td>\n",
       "      <td>44.000000</td>\n",
       "      <td>7.000000</td>\n",
       "      <td>127644.240000</td>\n",
       "      <td>2.000000</td>\n",
       "      <td>1.00000</td>\n",
       "      <td>1.000000</td>\n",
       "      <td>149388.247500</td>\n",
       "      <td>0.000000</td>\n",
       "    </tr>\n",
       "    <tr>\n",
       "      <th>max</th>\n",
       "      <td>1.581569e+07</td>\n",
       "      <td>850.000000</td>\n",
       "      <td>92.000000</td>\n",
       "      <td>10.000000</td>\n",
       "      <td>250898.090000</td>\n",
       "      <td>4.000000</td>\n",
       "      <td>1.00000</td>\n",
       "      <td>1.000000</td>\n",
       "      <td>199992.480000</td>\n",
       "      <td>1.000000</td>\n",
       "    </tr>\n",
       "  </tbody>\n",
       "</table>\n",
       "</div>"
      ],
      "text/plain": [
       "         CustomerId   CreditScore           Age       Tenure        Balance  \\\n",
       "count  1.000000e+04  10000.000000  10000.000000  9091.000000   10000.000000   \n",
       "mean   1.569094e+07    650.528800     38.921800     4.997690   76485.889288   \n",
       "std    7.193619e+04     96.653299     10.487806     2.894723   62397.405202   \n",
       "min    1.556570e+07    350.000000     18.000000     0.000000       0.000000   \n",
       "25%    1.562853e+07    584.000000     32.000000     2.000000       0.000000   \n",
       "50%    1.569074e+07    652.000000     37.000000     5.000000   97198.540000   \n",
       "75%    1.575323e+07    718.000000     44.000000     7.000000  127644.240000   \n",
       "max    1.581569e+07    850.000000     92.000000    10.000000  250898.090000   \n",
       "\n",
       "       NumOfProducts    HasCrCard  IsActiveMember  EstimatedSalary  \\\n",
       "count   10000.000000  10000.00000    10000.000000     10000.000000   \n",
       "mean        1.530200      0.70550        0.515100    100090.239881   \n",
       "std         0.581654      0.45584        0.499797     57510.492818   \n",
       "min         1.000000      0.00000        0.000000        11.580000   \n",
       "25%         1.000000      0.00000        0.000000     51002.110000   \n",
       "50%         1.000000      1.00000        1.000000    100193.915000   \n",
       "75%         2.000000      1.00000        1.000000    149388.247500   \n",
       "max         4.000000      1.00000        1.000000    199992.480000   \n",
       "\n",
       "             Exited  \n",
       "count  10000.000000  \n",
       "mean       0.203700  \n",
       "std        0.402769  \n",
       "min        0.000000  \n",
       "25%        0.000000  \n",
       "50%        0.000000  \n",
       "75%        0.000000  \n",
       "max        1.000000  "
      ]
     },
     "execution_count": 7,
     "metadata": {},
     "output_type": "execute_result"
    }
   ],
   "source": [
    "df.describe()"
   ]
  },
  {
   "cell_type": "markdown",
   "metadata": {
    "id": "FsMHkXRv7OdT"
   },
   "source": [
    "У нас есть датафрейм на 10 000 строк и 13 колонок (был еще лишний столбец 'RowNumber', но я его сразу же удалил).  \n",
    "Скорее всего колонка 'CustomerId' нам тоже не понадобится, но это надо проверить.  \n",
    "Наименования столбцов содержат верхний регистр и есть пропуски в колонке 'Tenure'. Дубликатов нет, все колонки имеют соответствующий тип данных. Но для машинного обучения необходимо разбить категориальные колонки 'Surname', 'Geography' и 'Gender' методом порядкового кодирования (т.к. OHE создаст около тысячи новых признаков) и привести все колонки (кроме целевой 'Exited') к единому масштабу."
   ]
  },
  {
   "cell_type": "markdown",
   "metadata": {
    "id": "djafN0gQ7OdU"
   },
   "source": [
    "## Исследование задачи"
   ]
  },
  {
   "cell_type": "code",
   "execution_count": 8,
   "metadata": {
    "colab": {
     "base_uri": "https://localhost:8080/"
    },
    "id": "RsV-G9ld7OdU",
    "outputId": "a4460dbc-c18e-4b6d-d1ac-d0afd765606c"
   },
   "outputs": [
    {
     "data": {
      "text/plain": [
       "Index(['customer_id', 'surname', 'credit_score', 'geography', 'gender', 'age',\n",
       "       'tenure', 'balance', 'num_of_products', 'has_cr_card',\n",
       "       'is_active_member', 'estimated_salary', 'exited'],\n",
       "      dtype='object')"
      ]
     },
     "execution_count": 8,
     "metadata": {},
     "output_type": "execute_result"
    }
   ],
   "source": [
    "df = df.rename(columns=lambda x: re.sub(r'(?<!^)(?=[A-Z])', '_', x).lower())\n",
    "df.columns"
   ]
  },
  {
   "cell_type": "code",
   "execution_count": 9,
   "metadata": {
    "colab": {
     "base_uri": "https://localhost:8080/"
    },
    "id": "B7j9IfoE7OdV",
    "outputId": "c56f0491-99f9-4c6c-e7e4-e717afac7006"
   },
   "outputs": [
    {
     "data": {
      "text/plain": [
       "10000"
      ]
     },
     "execution_count": 9,
     "metadata": {},
     "output_type": "execute_result"
    }
   ],
   "source": [
    "df['customer_id'].nunique()"
   ]
  },
  {
   "cell_type": "code",
   "execution_count": 10,
   "metadata": {
    "id": "jclDDKzX7OdV"
   },
   "outputs": [],
   "source": [
    "df = df.drop(['customer_id', 'surname'], axis=1)"
   ]
  },
  {
   "cell_type": "code",
   "execution_count": 11,
   "metadata": {
    "colab": {
     "base_uri": "https://localhost:8080/"
    },
    "id": "SpD7Uv-m7OdW",
    "outputId": "9ef5225c-e356-401d-9f25-690abcce3ce5"
   },
   "outputs": [
    {
     "data": {
      "text/plain": [
       "array(['France', 'Spain', 'Germany'], dtype=object)"
      ]
     },
     "execution_count": 11,
     "metadata": {},
     "output_type": "execute_result"
    }
   ],
   "source": [
    "df['geography'].unique()"
   ]
  },
  {
   "cell_type": "code",
   "execution_count": 12,
   "metadata": {
    "colab": {
     "base_uri": "https://localhost:8080/"
    },
    "id": "terKYlqc7OdW",
    "outputId": "0ef13636-3434-47d3-c6bf-ce45f422e985"
   },
   "outputs": [
    {
     "data": {
      "text/plain": [
       "array(['Female', 'Male'], dtype=object)"
      ]
     },
     "execution_count": 12,
     "metadata": {},
     "output_type": "execute_result"
    }
   ],
   "source": [
    "df['gender'].unique()"
   ]
  },
  {
   "cell_type": "code",
   "execution_count": 13,
   "metadata": {
    "colab": {
     "base_uri": "https://localhost:8080/"
    },
    "id": "WS2QlWtc7OdX",
    "outputId": "0b13d750-d80e-4a40-cf38-e4347f603edd"
   },
   "outputs": [
    {
     "data": {
      "text/plain": [
       "count     10000.000000\n",
       "mean     100090.239881\n",
       "std       57510.492818\n",
       "min          11.580000\n",
       "25%       51002.110000\n",
       "50%      100193.915000\n",
       "75%      149388.247500\n",
       "max      199992.480000\n",
       "Name: estimated_salary, dtype: float64"
      ]
     },
     "execution_count": 13,
     "metadata": {},
     "output_type": "execute_result"
    }
   ],
   "source": [
    "df['estimated_salary'].describe()"
   ]
  },
  {
   "cell_type": "code",
   "execution_count": 14,
   "metadata": {
    "colab": {
     "base_uri": "https://localhost:8080/",
     "height": 320
    },
    "id": "z8CmTV4m7OdY",
    "outputId": "09b424bc-76b5-4046-f6c6-bc94d332ba19"
   },
   "outputs": [
    {
     "data": {
      "image/png": "[encoded data removed]",
      "text/plain": [
       "<Figure size 648x360 with 1 Axes>"
      ]
     },
     "metadata": {
      "needs_background": "light"
     },
     "output_type": "display_data"
    }
   ],
   "source": [
    "df['estimated_salary'].plot(kind='hist', bins=100, grid=True, figsize=(9, 5));"
   ]
  },
  {
   "cell_type": "markdown",
   "metadata": {
    "id": "oRfSbhPS7OdY"
   },
   "source": [
    "Странно выглядят значения предполагаемой зарплаты 11.58. Но эти значения не выбиваются из общей массы. Скорее всего ничего не буду с этим делать."
   ]
  },
  {
   "cell_type": "code",
   "execution_count": 15,
   "metadata": {
    "colab": {
     "base_uri": "https://localhost:8080/"
    },
    "id": "djHx0tf9cbtn",
    "outputId": "f3777d56-d425-4875-a91e-5687c3c227f9"
   },
   "outputs": [
    {
     "data": {
      "text/plain": [
       "count    9091.000000\n",
       "mean        4.997690\n",
       "std         2.894723\n",
       "min         0.000000\n",
       "25%         2.000000\n",
       "50%         5.000000\n",
       "75%         7.000000\n",
       "max        10.000000\n",
       "Name: tenure, dtype: float64"
      ]
     },
     "execution_count": 15,
     "metadata": {},
     "output_type": "execute_result"
    }
   ],
   "source": [
    "df['tenure'].describe()"
   ]
  },
  {
   "cell_type": "code",
   "execution_count": 16,
   "metadata": {},
   "outputs": [
    {
     "data": {
      "text/plain": [
       "<AxesSubplot:>"
      ]
     },
     "execution_count": 16,
     "metadata": {},
     "output_type": "execute_result"
    },
    {
     "data": {
      "image/png": "[encoded data removed]",
      "text/plain": [
       "<Figure size 432x288 with 1 Axes>"
      ]
     },
     "metadata": {
      "needs_background": "light"
     },
     "output_type": "display_data"
    }
   ],
   "source": [
    "df['tenure'].hist()"
   ]
  },
  {
   "cell_type": "markdown",
   "metadata": {},
   "source": [
    "Функция заполняет пропуски медианой, сгруппированной по возрасту и количеству продуктов банка. А после заполняет пропуски тех наблюдений, которые не попали ни в одну группу."
   ]
  },
  {
   "cell_type": "code",
   "execution_count": 17,
   "metadata": {},
   "outputs": [],
   "source": [
    "def fill_na(data, column):\n",
    "    print('Медиана до заполнения пропусков:', data[column].median())\n",
    "    data[column] = data.groupby(['age', 'num_of_products'])[column].transform(lambda x: x.fillna(x.median())).copy()\n",
    "    data[column] = data[column].fillna(data[column].median()).copy()\n",
    "    print('Медиана после заполнения пропусков:', data[column].median())\n",
    "    \n",
    "    return data[column]"
   ]
  },
  {
   "cell_type": "code",
   "execution_count": 18,
   "metadata": {},
   "outputs": [
    {
     "name": "stdout",
     "output_type": "stream",
     "text": [
      "Медиана до заполнения пропусков: 5.0\n",
      "Медиана после заполнения пропусков: 5.0\n"
     ]
    }
   ],
   "source": [
    "df['tenure'] = fill_na(df, 'tenure')"
   ]
  },
  {
   "cell_type": "code",
   "execution_count": 19,
   "metadata": {},
   "outputs": [
    {
     "data": {
      "text/plain": [
       "count    10000.000000\n",
       "mean         4.992850\n",
       "std          2.766142\n",
       "min          0.000000\n",
       "25%          3.000000\n",
       "50%          5.000000\n",
       "75%          7.000000\n",
       "max         10.000000\n",
       "Name: tenure, dtype: float64"
      ]
     },
     "execution_count": 19,
     "metadata": {},
     "output_type": "execute_result"
    }
   ],
   "source": [
    "df['tenure'].describe()"
   ]
  },
  {
   "cell_type": "code",
   "execution_count": 20,
   "metadata": {},
   "outputs": [
    {
     "data": {
      "text/plain": [
       "<AxesSubplot:>"
      ]
     },
     "execution_count": 20,
     "metadata": {},
     "output_type": "execute_result"
    },
    {
     "data": {
      "image/png": "[encoded data removed]",
      "text/plain": [
       "<Figure size 432x288 with 1 Axes>"
      ]
     },
     "metadata": {
      "needs_background": "light"
     },
     "output_type": "display_data"
    }
   ],
   "source": [
    "df['tenure'].hist()"
   ]
  },
  {
   "cell_type": "code",
   "execution_count": 21,
   "metadata": {
    "id": "Q9WT9H2-7Oda"
   },
   "outputs": [],
   "source": [
    "encoder = OrdinalEncoder()\n",
    "df[['geography',\n",
    "    'gender',\n",
    "    'tenure']] = pd.DataFrame(encoder.fit_transform(df[['geography', 'gender', 'tenure']]),\n",
    "                              columns=['geography', 'gender', 'tenure'])"
   ]
  },
  {
   "cell_type": "code",
   "execution_count": 22,
   "metadata": {
    "colab": {
     "base_uri": "https://localhost:8080/",
     "height": 204
    },
    "id": "WX5iskhi7Oda",
    "outputId": "bdbbd069-e958-49a6-e353-b525822457d4"
   },
   "outputs": [
    {
     "data": {
      "text/html": [
       "<div>\n",
       "<style scoped>\n",
       "    .dataframe tbody tr th:only-of-type {\n",
       "        vertical-align: middle;\n",
       "    }\n",
       "\n",
       "    .dataframe tbody tr th {\n",
       "        vertical-align: top;\n",
       "    }\n",
       "\n",
       "    .dataframe thead th {\n",
       "        text-align: right;\n",
       "    }\n",
       "</style>\n",
       "<table border=\"1\" class=\"dataframe\">\n",
       "  <thead>\n",
       "    <tr style=\"text-align: right;\">\n",
       "      <th></th>\n",
       "      <th>credit_score</th>\n",
       "      <th>geography</th>\n",
       "      <th>gender</th>\n",
       "      <th>age</th>\n",
       "      <th>tenure</th>\n",
       "      <th>balance</th>\n",
       "      <th>num_of_products</th>\n",
       "      <th>has_cr_card</th>\n",
       "      <th>is_active_member</th>\n",
       "      <th>estimated_salary</th>\n",
       "      <th>exited</th>\n",
       "    </tr>\n",
       "  </thead>\n",
       "  <tbody>\n",
       "    <tr>\n",
       "      <th>0</th>\n",
       "      <td>619</td>\n",
       "      <td>0.0</td>\n",
       "      <td>0.0</td>\n",
       "      <td>42</td>\n",
       "      <td>2.0</td>\n",
       "      <td>0.00</td>\n",
       "      <td>1</td>\n",
       "      <td>1</td>\n",
       "      <td>1</td>\n",
       "      <td>101348.88</td>\n",
       "      <td>1</td>\n",
       "    </tr>\n",
       "    <tr>\n",
       "      <th>1</th>\n",
       "      <td>608</td>\n",
       "      <td>2.0</td>\n",
       "      <td>0.0</td>\n",
       "      <td>41</td>\n",
       "      <td>1.0</td>\n",
       "      <td>83807.86</td>\n",
       "      <td>1</td>\n",
       "      <td>0</td>\n",
       "      <td>1</td>\n",
       "      <td>112542.58</td>\n",
       "      <td>0</td>\n",
       "    </tr>\n",
       "    <tr>\n",
       "      <th>2</th>\n",
       "      <td>502</td>\n",
       "      <td>0.0</td>\n",
       "      <td>0.0</td>\n",
       "      <td>42</td>\n",
       "      <td>12.0</td>\n",
       "      <td>159660.80</td>\n",
       "      <td>3</td>\n",
       "      <td>1</td>\n",
       "      <td>0</td>\n",
       "      <td>113931.57</td>\n",
       "      <td>1</td>\n",
       "    </tr>\n",
       "    <tr>\n",
       "      <th>3</th>\n",
       "      <td>699</td>\n",
       "      <td>0.0</td>\n",
       "      <td>0.0</td>\n",
       "      <td>39</td>\n",
       "      <td>1.0</td>\n",
       "      <td>0.00</td>\n",
       "      <td>2</td>\n",
       "      <td>0</td>\n",
       "      <td>0</td>\n",
       "      <td>93826.63</td>\n",
       "      <td>0</td>\n",
       "    </tr>\n",
       "    <tr>\n",
       "      <th>4</th>\n",
       "      <td>850</td>\n",
       "      <td>2.0</td>\n",
       "      <td>0.0</td>\n",
       "      <td>43</td>\n",
       "      <td>2.0</td>\n",
       "      <td>125510.82</td>\n",
       "      <td>1</td>\n",
       "      <td>1</td>\n",
       "      <td>1</td>\n",
       "      <td>79084.10</td>\n",
       "      <td>0</td>\n",
       "    </tr>\n",
       "  </tbody>\n",
       "</table>\n",
       "</div>"
      ],
      "text/plain": [
       "   credit_score  geography  gender  age  tenure    balance  num_of_products  \\\n",
       "0           619        0.0     0.0   42     2.0       0.00                1   \n",
       "1           608        2.0     0.0   41     1.0   83807.86                1   \n",
       "2           502        0.0     0.0   42    12.0  159660.80                3   \n",
       "3           699        0.0     0.0   39     1.0       0.00                2   \n",
       "4           850        2.0     0.0   43     2.0  125510.82                1   \n",
       "\n",
       "   has_cr_card  is_active_member  estimated_salary  exited  \n",
       "0            1                 1         101348.88       1  \n",
       "1            0                 1         112542.58       0  \n",
       "2            1                 0         113931.57       1  \n",
       "3            0                 0          93826.63       0  \n",
       "4            1                 1          79084.10       0  "
      ]
     },
     "execution_count": 22,
     "metadata": {},
     "output_type": "execute_result"
    }
   ],
   "source": [
    "df.head()"
   ]
  },
  {
   "cell_type": "code",
   "execution_count": 23,
   "metadata": {
    "colab": {
     "base_uri": "https://localhost:8080/",
     "height": 359
    },
    "id": "o2GsLkNV7Odb",
    "outputId": "ec1aa49e-707e-4b1a-d892-9a865db60a15"
   },
   "outputs": [
    {
     "data": {
      "text/html": [
       "<style  type=\"text/css\" >\n",
       "#T_c82247b0_7168_11ec_b44e_14dae961fb77row0_col0,#T_c82247b0_7168_11ec_b44e_14dae961fb77row1_col1,#T_c82247b0_7168_11ec_b44e_14dae961fb77row2_col2,#T_c82247b0_7168_11ec_b44e_14dae961fb77row3_col3,#T_c82247b0_7168_11ec_b44e_14dae961fb77row4_col4,#T_c82247b0_7168_11ec_b44e_14dae961fb77row5_col5,#T_c82247b0_7168_11ec_b44e_14dae961fb77row6_col6,#T_c82247b0_7168_11ec_b44e_14dae961fb77row7_col7,#T_c82247b0_7168_11ec_b44e_14dae961fb77row8_col8,#T_c82247b0_7168_11ec_b44e_14dae961fb77row9_col9{\n",
       "            background-color:  #67000d;\n",
       "            color:  #f1f1f1;\n",
       "        }#T_c82247b0_7168_11ec_b44e_14dae961fb77row0_col1,#T_c82247b0_7168_11ec_b44e_14dae961fb77row3_col4,#T_c82247b0_7168_11ec_b44e_14dae961fb77row4_col3,#T_c82247b0_7168_11ec_b44e_14dae961fb77row6_col0,#T_c82247b0_7168_11ec_b44e_14dae961fb77row6_col7,#T_c82247b0_7168_11ec_b44e_14dae961fb77row7_col3,#T_c82247b0_7168_11ec_b44e_14dae961fb77row7_col8,#T_c82247b0_7168_11ec_b44e_14dae961fb77row9_col2,#T_c82247b0_7168_11ec_b44e_14dae961fb77row9_col8{\n",
       "            background-color:  #fff2ec;\n",
       "            color:  #000000;\n",
       "        }#T_c82247b0_7168_11ec_b44e_14dae961fb77row0_col2,#T_c82247b0_7168_11ec_b44e_14dae961fb77row0_col3,#T_c82247b0_7168_11ec_b44e_14dae961fb77row5_col9,#T_c82247b0_7168_11ec_b44e_14dae961fb77row6_col9{\n",
       "            background-color:  #fff1ea;\n",
       "            color:  #000000;\n",
       "        }#T_c82247b0_7168_11ec_b44e_14dae961fb77row0_col4,#T_c82247b0_7168_11ec_b44e_14dae961fb77row1_col4,#T_c82247b0_7168_11ec_b44e_14dae961fb77row3_col1,#T_c82247b0_7168_11ec_b44e_14dae961fb77row8_col0{\n",
       "            background-color:  #fff0e9;\n",
       "            color:  #000000;\n",
       "        }#T_c82247b0_7168_11ec_b44e_14dae961fb77row0_col5,#T_c82247b0_7168_11ec_b44e_14dae961fb77row1_col6,#T_c82247b0_7168_11ec_b44e_14dae961fb77row7_col6{\n",
       "            background-color:  #fcbfa7;\n",
       "            color:  #000000;\n",
       "        }#T_c82247b0_7168_11ec_b44e_14dae961fb77row0_col6,#T_c82247b0_7168_11ec_b44e_14dae961fb77row2_col5,#T_c82247b0_7168_11ec_b44e_14dae961fb77row9_col5,#T_c82247b0_7168_11ec_b44e_14dae961fb77row9_col6{\n",
       "            background-color:  #fcbda4;\n",
       "            color:  #000000;\n",
       "        }#T_c82247b0_7168_11ec_b44e_14dae961fb77row0_col7,#T_c82247b0_7168_11ec_b44e_14dae961fb77row0_col9,#T_c82247b0_7168_11ec_b44e_14dae961fb77row1_col9,#T_c82247b0_7168_11ec_b44e_14dae961fb77row5_col0{\n",
       "            background-color:  #fff4ee;\n",
       "            color:  #000000;\n",
       "        }#T_c82247b0_7168_11ec_b44e_14dae961fb77row0_col8,#T_c82247b0_7168_11ec_b44e_14dae961fb77row1_col3,#T_c82247b0_7168_11ec_b44e_14dae961fb77row2_col8,#T_c82247b0_7168_11ec_b44e_14dae961fb77row7_col4{\n",
       "            background-color:  #ffece4;\n",
       "            color:  #000000;\n",
       "        }#T_c82247b0_7168_11ec_b44e_14dae961fb77row1_col0,#T_c82247b0_7168_11ec_b44e_14dae961fb77row2_col1,#T_c82247b0_7168_11ec_b44e_14dae961fb77row6_col1,#T_c82247b0_7168_11ec_b44e_14dae961fb77row8_col1{\n",
       "            background-color:  #fff3ed;\n",
       "            color:  #000000;\n",
       "        }#T_c82247b0_7168_11ec_b44e_14dae961fb77row1_col2,#T_c82247b0_7168_11ec_b44e_14dae961fb77row7_col2{\n",
       "            background-color:  #fff0e8;\n",
       "            color:  #000000;\n",
       "        }#T_c82247b0_7168_11ec_b44e_14dae961fb77row1_col5{\n",
       "            background-color:  #fcaf93;\n",
       "            color:  #000000;\n",
       "        }#T_c82247b0_7168_11ec_b44e_14dae961fb77row1_col7,#T_c82247b0_7168_11ec_b44e_14dae961fb77row3_col9,#T_c82247b0_7168_11ec_b44e_14dae961fb77row4_col0,#T_c82247b0_7168_11ec_b44e_14dae961fb77row4_col1,#T_c82247b0_7168_11ec_b44e_14dae961fb77row6_col2,#T_c82247b0_7168_11ec_b44e_14dae961fb77row9_col0,#T_c82247b0_7168_11ec_b44e_14dae961fb77row9_col1,#T_c82247b0_7168_11ec_b44e_14dae961fb77row9_col7{\n",
       "            background-color:  #fff4ef;\n",
       "            color:  #000000;\n",
       "        }#T_c82247b0_7168_11ec_b44e_14dae961fb77row1_col8,#T_c82247b0_7168_11ec_b44e_14dae961fb77row4_col2,#T_c82247b0_7168_11ec_b44e_14dae961fb77row4_col7,#T_c82247b0_7168_11ec_b44e_14dae961fb77row5_col2,#T_c82247b0_7168_11ec_b44e_14dae961fb77row6_col8{\n",
       "            background-color:  #ffefe8;\n",
       "            color:  #000000;\n",
       "        }#T_c82247b0_7168_11ec_b44e_14dae961fb77row2_col0,#T_c82247b0_7168_11ec_b44e_14dae961fb77row2_col3,#T_c82247b0_7168_11ec_b44e_14dae961fb77row2_col9,#T_c82247b0_7168_11ec_b44e_14dae961fb77row3_col0,#T_c82247b0_7168_11ec_b44e_14dae961fb77row3_col2,#T_c82247b0_7168_11ec_b44e_14dae961fb77row3_col7,#T_c82247b0_7168_11ec_b44e_14dae961fb77row4_col8,#T_c82247b0_7168_11ec_b44e_14dae961fb77row5_col6,#T_c82247b0_7168_11ec_b44e_14dae961fb77row5_col7,#T_c82247b0_7168_11ec_b44e_14dae961fb77row6_col3,#T_c82247b0_7168_11ec_b44e_14dae961fb77row6_col5,#T_c82247b0_7168_11ec_b44e_14dae961fb77row7_col0,#T_c82247b0_7168_11ec_b44e_14dae961fb77row7_col1,#T_c82247b0_7168_11ec_b44e_14dae961fb77row7_col9,#T_c82247b0_7168_11ec_b44e_14dae961fb77row8_col4,#T_c82247b0_7168_11ec_b44e_14dae961fb77row8_col7,#T_c82247b0_7168_11ec_b44e_14dae961fb77row8_col9{\n",
       "            background-color:  #fff5f0;\n",
       "            color:  #000000;\n",
       "        }#T_c82247b0_7168_11ec_b44e_14dae961fb77row2_col4,#T_c82247b0_7168_11ec_b44e_14dae961fb77row6_col4,#T_c82247b0_7168_11ec_b44e_14dae961fb77row9_col4{\n",
       "            background-color:  #ffeee7;\n",
       "            color:  #000000;\n",
       "        }#T_c82247b0_7168_11ec_b44e_14dae961fb77row2_col6{\n",
       "            background-color:  #fdc5ae;\n",
       "            color:  #000000;\n",
       "        }#T_c82247b0_7168_11ec_b44e_14dae961fb77row2_col7,#T_c82247b0_7168_11ec_b44e_14dae961fb77row4_col9,#T_c82247b0_7168_11ec_b44e_14dae961fb77row5_col4,#T_c82247b0_7168_11ec_b44e_14dae961fb77row5_col8,#T_c82247b0_7168_11ec_b44e_14dae961fb77row9_col3{\n",
       "            background-color:  #fff2eb;\n",
       "            color:  #000000;\n",
       "        }#T_c82247b0_7168_11ec_b44e_14dae961fb77row3_col5{\n",
       "            background-color:  #fcb99f;\n",
       "            color:  #000000;\n",
       "        }#T_c82247b0_7168_11ec_b44e_14dae961fb77row3_col6{\n",
       "            background-color:  #fdc7b2;\n",
       "            color:  #000000;\n",
       "        }#T_c82247b0_7168_11ec_b44e_14dae961fb77row3_col8,#T_c82247b0_7168_11ec_b44e_14dae961fb77row8_col3{\n",
       "            background-color:  #fee3d6;\n",
       "            color:  #000000;\n",
       "        }#T_c82247b0_7168_11ec_b44e_14dae961fb77row4_col5{\n",
       "            background-color:  #fcc2aa;\n",
       "            color:  #000000;\n",
       "        }#T_c82247b0_7168_11ec_b44e_14dae961fb77row4_col6,#T_c82247b0_7168_11ec_b44e_14dae961fb77row8_col6{\n",
       "            background-color:  #fcbea5;\n",
       "            color:  #000000;\n",
       "        }#T_c82247b0_7168_11ec_b44e_14dae961fb77row5_col1{\n",
       "            background-color:  #fee8de;\n",
       "            color:  #000000;\n",
       "        }#T_c82247b0_7168_11ec_b44e_14dae961fb77row5_col3{\n",
       "            background-color:  #ffece3;\n",
       "            color:  #000000;\n",
       "        }#T_c82247b0_7168_11ec_b44e_14dae961fb77row7_col5{\n",
       "            background-color:  #fcc4ad;\n",
       "            color:  #000000;\n",
       "        }#T_c82247b0_7168_11ec_b44e_14dae961fb77row8_col2{\n",
       "            background-color:  #ffede5;\n",
       "            color:  #000000;\n",
       "        }#T_c82247b0_7168_11ec_b44e_14dae961fb77row8_col5{\n",
       "            background-color:  #fcc3ab;\n",
       "            color:  #000000;\n",
       "        }</style><table id=\"T_c82247b0_7168_11ec_b44e_14dae961fb77\" ><thead>    <tr>        <th class=\"blank level0\" ></th>        <th class=\"col_heading level0 col0\" >credit_score</th>        <th class=\"col_heading level0 col1\" >geography</th>        <th class=\"col_heading level0 col2\" >gender</th>        <th class=\"col_heading level0 col3\" >age</th>        <th class=\"col_heading level0 col4\" >tenure</th>        <th class=\"col_heading level0 col5\" >balance</th>        <th class=\"col_heading level0 col6\" >num_of_products</th>        <th class=\"col_heading level0 col7\" >has_cr_card</th>        <th class=\"col_heading level0 col8\" >is_active_member</th>        <th class=\"col_heading level0 col9\" >estimated_salary</th>    </tr></thead><tbody>\n",
       "                <tr>\n",
       "                        <th id=\"T_c82247b0_7168_11ec_b44e_14dae961fb77level0_row0\" class=\"row_heading level0 row0\" >credit_score</th>\n",
       "                        <td id=\"T_c82247b0_7168_11ec_b44e_14dae961fb77row0_col0\" class=\"data row0 col0\" >1.000000</td>\n",
       "                        <td id=\"T_c82247b0_7168_11ec_b44e_14dae961fb77row0_col1\" class=\"data row0 col1\" >0.007888</td>\n",
       "                        <td id=\"T_c82247b0_7168_11ec_b44e_14dae961fb77row0_col2\" class=\"data row0 col2\" >-0.002857</td>\n",
       "                        <td id=\"T_c82247b0_7168_11ec_b44e_14dae961fb77row0_col3\" class=\"data row0 col3\" >-0.003965</td>\n",
       "                        <td id=\"T_c82247b0_7168_11ec_b44e_14dae961fb77row0_col4\" class=\"data row0 col4\" >-0.000560</td>\n",
       "                        <td id=\"T_c82247b0_7168_11ec_b44e_14dae961fb77row0_col5\" class=\"data row0 col5\" >0.006268</td>\n",
       "                        <td id=\"T_c82247b0_7168_11ec_b44e_14dae961fb77row0_col6\" class=\"data row0 col6\" >0.012238</td>\n",
       "                        <td id=\"T_c82247b0_7168_11ec_b44e_14dae961fb77row0_col7\" class=\"data row0 col7\" >-0.005458</td>\n",
       "                        <td id=\"T_c82247b0_7168_11ec_b44e_14dae961fb77row0_col8\" class=\"data row0 col8\" >0.025651</td>\n",
       "                        <td id=\"T_c82247b0_7168_11ec_b44e_14dae961fb77row0_col9\" class=\"data row0 col9\" >-0.001384</td>\n",
       "            </tr>\n",
       "            <tr>\n",
       "                        <th id=\"T_c82247b0_7168_11ec_b44e_14dae961fb77level0_row1\" class=\"row_heading level0 row1\" >geography</th>\n",
       "                        <td id=\"T_c82247b0_7168_11ec_b44e_14dae961fb77row1_col0\" class=\"data row1 col0\" >0.007888</td>\n",
       "                        <td id=\"T_c82247b0_7168_11ec_b44e_14dae961fb77row1_col1\" class=\"data row1 col1\" >1.000000</td>\n",
       "                        <td id=\"T_c82247b0_7168_11ec_b44e_14dae961fb77row1_col2\" class=\"data row1 col2\" >0.004719</td>\n",
       "                        <td id=\"T_c82247b0_7168_11ec_b44e_14dae961fb77row1_col3\" class=\"data row1 col3\" >0.022812</td>\n",
       "                        <td id=\"T_c82247b0_7168_11ec_b44e_14dae961fb77row1_col4\" class=\"data row1 col4\" >-0.001960</td>\n",
       "                        <td id=\"T_c82247b0_7168_11ec_b44e_14dae961fb77row1_col5\" class=\"data row1 col5\" >0.069408</td>\n",
       "                        <td id=\"T_c82247b0_7168_11ec_b44e_14dae961fb77row1_col6\" class=\"data row1 col6\" >0.003972</td>\n",
       "                        <td id=\"T_c82247b0_7168_11ec_b44e_14dae961fb77row1_col7\" class=\"data row1 col7\" >-0.008523</td>\n",
       "                        <td id=\"T_c82247b0_7168_11ec_b44e_14dae961fb77row1_col8\" class=\"data row1 col8\" >0.006724</td>\n",
       "                        <td id=\"T_c82247b0_7168_11ec_b44e_14dae961fb77row1_col9\" class=\"data row1 col9\" >-0.001369</td>\n",
       "            </tr>\n",
       "            <tr>\n",
       "                        <th id=\"T_c82247b0_7168_11ec_b44e_14dae961fb77level0_row2\" class=\"row_heading level0 row2\" >gender</th>\n",
       "                        <td id=\"T_c82247b0_7168_11ec_b44e_14dae961fb77row2_col0\" class=\"data row2 col0\" >-0.002857</td>\n",
       "                        <td id=\"T_c82247b0_7168_11ec_b44e_14dae961fb77row2_col1\" class=\"data row2 col1\" >0.004719</td>\n",
       "                        <td id=\"T_c82247b0_7168_11ec_b44e_14dae961fb77row2_col2\" class=\"data row2 col2\" >1.000000</td>\n",
       "                        <td id=\"T_c82247b0_7168_11ec_b44e_14dae961fb77row2_col3\" class=\"data row2 col3\" >-0.027544</td>\n",
       "                        <td id=\"T_c82247b0_7168_11ec_b44e_14dae961fb77row2_col4\" class=\"data row2 col4\" >0.011424</td>\n",
       "                        <td id=\"T_c82247b0_7168_11ec_b44e_14dae961fb77row2_col5\" class=\"data row2 col5\" >0.012087</td>\n",
       "                        <td id=\"T_c82247b0_7168_11ec_b44e_14dae961fb77row2_col6\" class=\"data row2 col6\" >-0.021859</td>\n",
       "                        <td id=\"T_c82247b0_7168_11ec_b44e_14dae961fb77row2_col7\" class=\"data row2 col7\" >0.005766</td>\n",
       "                        <td id=\"T_c82247b0_7168_11ec_b44e_14dae961fb77row2_col8\" class=\"data row2 col8\" >0.022544</td>\n",
       "                        <td id=\"T_c82247b0_7168_11ec_b44e_14dae961fb77row2_col9\" class=\"data row2 col9\" >-0.008112</td>\n",
       "            </tr>\n",
       "            <tr>\n",
       "                        <th id=\"T_c82247b0_7168_11ec_b44e_14dae961fb77level0_row3\" class=\"row_heading level0 row3\" >age</th>\n",
       "                        <td id=\"T_c82247b0_7168_11ec_b44e_14dae961fb77row3_col0\" class=\"data row3 col0\" >-0.003965</td>\n",
       "                        <td id=\"T_c82247b0_7168_11ec_b44e_14dae961fb77row3_col1\" class=\"data row3 col1\" >0.022812</td>\n",
       "                        <td id=\"T_c82247b0_7168_11ec_b44e_14dae961fb77row3_col2\" class=\"data row3 col2\" >-0.027544</td>\n",
       "                        <td id=\"T_c82247b0_7168_11ec_b44e_14dae961fb77row3_col3\" class=\"data row3 col3\" >1.000000</td>\n",
       "                        <td id=\"T_c82247b0_7168_11ec_b44e_14dae961fb77row3_col4\" class=\"data row3 col4\" >-0.011594</td>\n",
       "                        <td id=\"T_c82247b0_7168_11ec_b44e_14dae961fb77row3_col5\" class=\"data row3 col5\" >0.028308</td>\n",
       "                        <td id=\"T_c82247b0_7168_11ec_b44e_14dae961fb77row3_col6\" class=\"data row3 col6\" >-0.030680</td>\n",
       "                        <td id=\"T_c82247b0_7168_11ec_b44e_14dae961fb77row3_col7\" class=\"data row3 col7\" >-0.011721</td>\n",
       "                        <td id=\"T_c82247b0_7168_11ec_b44e_14dae961fb77row3_col8\" class=\"data row3 col8\" >0.085472</td>\n",
       "                        <td id=\"T_c82247b0_7168_11ec_b44e_14dae961fb77row3_col9\" class=\"data row3 col9\" >-0.007201</td>\n",
       "            </tr>\n",
       "            <tr>\n",
       "                        <th id=\"T_c82247b0_7168_11ec_b44e_14dae961fb77level0_row4\" class=\"row_heading level0 row4\" >tenure</th>\n",
       "                        <td id=\"T_c82247b0_7168_11ec_b44e_14dae961fb77row4_col0\" class=\"data row4 col0\" >-0.000560</td>\n",
       "                        <td id=\"T_c82247b0_7168_11ec_b44e_14dae961fb77row4_col1\" class=\"data row4 col1\" >-0.001960</td>\n",
       "                        <td id=\"T_c82247b0_7168_11ec_b44e_14dae961fb77row4_col2\" class=\"data row4 col2\" >0.011424</td>\n",
       "                        <td id=\"T_c82247b0_7168_11ec_b44e_14dae961fb77row4_col3\" class=\"data row4 col3\" >-0.011594</td>\n",
       "                        <td id=\"T_c82247b0_7168_11ec_b44e_14dae961fb77row4_col4\" class=\"data row4 col4\" >1.000000</td>\n",
       "                        <td id=\"T_c82247b0_7168_11ec_b44e_14dae961fb77row4_col5\" class=\"data row4 col5\" >-0.007066</td>\n",
       "                        <td id=\"T_c82247b0_7168_11ec_b44e_14dae961fb77row4_col6\" class=\"data row4 col6\" >0.010224</td>\n",
       "                        <td id=\"T_c82247b0_7168_11ec_b44e_14dae961fb77row4_col7\" class=\"data row4 col7\" >0.023702</td>\n",
       "                        <td id=\"T_c82247b0_7168_11ec_b44e_14dae961fb77row4_col8\" class=\"data row4 col8\" >-0.030563</td>\n",
       "                        <td id=\"T_c82247b0_7168_11ec_b44e_14dae961fb77row4_col9\" class=\"data row4 col9\" >0.010405</td>\n",
       "            </tr>\n",
       "            <tr>\n",
       "                        <th id=\"T_c82247b0_7168_11ec_b44e_14dae961fb77level0_row5\" class=\"row_heading level0 row5\" >balance</th>\n",
       "                        <td id=\"T_c82247b0_7168_11ec_b44e_14dae961fb77row5_col0\" class=\"data row5 col0\" >0.006268</td>\n",
       "                        <td id=\"T_c82247b0_7168_11ec_b44e_14dae961fb77row5_col1\" class=\"data row5 col1\" >0.069408</td>\n",
       "                        <td id=\"T_c82247b0_7168_11ec_b44e_14dae961fb77row5_col2\" class=\"data row5 col2\" >0.012087</td>\n",
       "                        <td id=\"T_c82247b0_7168_11ec_b44e_14dae961fb77row5_col3\" class=\"data row5 col3\" >0.028308</td>\n",
       "                        <td id=\"T_c82247b0_7168_11ec_b44e_14dae961fb77row5_col4\" class=\"data row5 col4\" >-0.007066</td>\n",
       "                        <td id=\"T_c82247b0_7168_11ec_b44e_14dae961fb77row5_col5\" class=\"data row5 col5\" >1.000000</td>\n",
       "                        <td id=\"T_c82247b0_7168_11ec_b44e_14dae961fb77row5_col6\" class=\"data row5 col6\" >-0.304180</td>\n",
       "                        <td id=\"T_c82247b0_7168_11ec_b44e_14dae961fb77row5_col7\" class=\"data row5 col7\" >-0.014858</td>\n",
       "                        <td id=\"T_c82247b0_7168_11ec_b44e_14dae961fb77row5_col8\" class=\"data row5 col8\" >-0.010084</td>\n",
       "                        <td id=\"T_c82247b0_7168_11ec_b44e_14dae961fb77row5_col9\" class=\"data row5 col9\" >0.012797</td>\n",
       "            </tr>\n",
       "            <tr>\n",
       "                        <th id=\"T_c82247b0_7168_11ec_b44e_14dae961fb77level0_row6\" class=\"row_heading level0 row6\" >num_of_products</th>\n",
       "                        <td id=\"T_c82247b0_7168_11ec_b44e_14dae961fb77row6_col0\" class=\"data row6 col0\" >0.012238</td>\n",
       "                        <td id=\"T_c82247b0_7168_11ec_b44e_14dae961fb77row6_col1\" class=\"data row6 col1\" >0.003972</td>\n",
       "                        <td id=\"T_c82247b0_7168_11ec_b44e_14dae961fb77row6_col2\" class=\"data row6 col2\" >-0.021859</td>\n",
       "                        <td id=\"T_c82247b0_7168_11ec_b44e_14dae961fb77row6_col3\" class=\"data row6 col3\" >-0.030680</td>\n",
       "                        <td id=\"T_c82247b0_7168_11ec_b44e_14dae961fb77row6_col4\" class=\"data row6 col4\" >0.010224</td>\n",
       "                        <td id=\"T_c82247b0_7168_11ec_b44e_14dae961fb77row6_col5\" class=\"data row6 col5\" >-0.304180</td>\n",
       "                        <td id=\"T_c82247b0_7168_11ec_b44e_14dae961fb77row6_col6\" class=\"data row6 col6\" >1.000000</td>\n",
       "                        <td id=\"T_c82247b0_7168_11ec_b44e_14dae961fb77row6_col7\" class=\"data row6 col7\" >0.003183</td>\n",
       "                        <td id=\"T_c82247b0_7168_11ec_b44e_14dae961fb77row6_col8\" class=\"data row6 col8\" >0.009612</td>\n",
       "                        <td id=\"T_c82247b0_7168_11ec_b44e_14dae961fb77row6_col9\" class=\"data row6 col9\" >0.014204</td>\n",
       "            </tr>\n",
       "            <tr>\n",
       "                        <th id=\"T_c82247b0_7168_11ec_b44e_14dae961fb77level0_row7\" class=\"row_heading level0 row7\" >has_cr_card</th>\n",
       "                        <td id=\"T_c82247b0_7168_11ec_b44e_14dae961fb77row7_col0\" class=\"data row7 col0\" >-0.005458</td>\n",
       "                        <td id=\"T_c82247b0_7168_11ec_b44e_14dae961fb77row7_col1\" class=\"data row7 col1\" >-0.008523</td>\n",
       "                        <td id=\"T_c82247b0_7168_11ec_b44e_14dae961fb77row7_col2\" class=\"data row7 col2\" >0.005766</td>\n",
       "                        <td id=\"T_c82247b0_7168_11ec_b44e_14dae961fb77row7_col3\" class=\"data row7 col3\" >-0.011721</td>\n",
       "                        <td id=\"T_c82247b0_7168_11ec_b44e_14dae961fb77row7_col4\" class=\"data row7 col4\" >0.023702</td>\n",
       "                        <td id=\"T_c82247b0_7168_11ec_b44e_14dae961fb77row7_col5\" class=\"data row7 col5\" >-0.014858</td>\n",
       "                        <td id=\"T_c82247b0_7168_11ec_b44e_14dae961fb77row7_col6\" class=\"data row7 col6\" >0.003183</td>\n",
       "                        <td id=\"T_c82247b0_7168_11ec_b44e_14dae961fb77row7_col7\" class=\"data row7 col7\" >1.000000</td>\n",
       "                        <td id=\"T_c82247b0_7168_11ec_b44e_14dae961fb77row7_col8\" class=\"data row7 col8\" >-0.011866</td>\n",
       "                        <td id=\"T_c82247b0_7168_11ec_b44e_14dae961fb77row7_col9\" class=\"data row7 col9\" >-0.009933</td>\n",
       "            </tr>\n",
       "            <tr>\n",
       "                        <th id=\"T_c82247b0_7168_11ec_b44e_14dae961fb77level0_row8\" class=\"row_heading level0 row8\" >is_active_member</th>\n",
       "                        <td id=\"T_c82247b0_7168_11ec_b44e_14dae961fb77row8_col0\" class=\"data row8 col0\" >0.025651</td>\n",
       "                        <td id=\"T_c82247b0_7168_11ec_b44e_14dae961fb77row8_col1\" class=\"data row8 col1\" >0.006724</td>\n",
       "                        <td id=\"T_c82247b0_7168_11ec_b44e_14dae961fb77row8_col2\" class=\"data row8 col2\" >0.022544</td>\n",
       "                        <td id=\"T_c82247b0_7168_11ec_b44e_14dae961fb77row8_col3\" class=\"data row8 col3\" >0.085472</td>\n",
       "                        <td id=\"T_c82247b0_7168_11ec_b44e_14dae961fb77row8_col4\" class=\"data row8 col4\" >-0.030563</td>\n",
       "                        <td id=\"T_c82247b0_7168_11ec_b44e_14dae961fb77row8_col5\" class=\"data row8 col5\" >-0.010084</td>\n",
       "                        <td id=\"T_c82247b0_7168_11ec_b44e_14dae961fb77row8_col6\" class=\"data row8 col6\" >0.009612</td>\n",
       "                        <td id=\"T_c82247b0_7168_11ec_b44e_14dae961fb77row8_col7\" class=\"data row8 col7\" >-0.011866</td>\n",
       "                        <td id=\"T_c82247b0_7168_11ec_b44e_14dae961fb77row8_col8\" class=\"data row8 col8\" >1.000000</td>\n",
       "                        <td id=\"T_c82247b0_7168_11ec_b44e_14dae961fb77row8_col9\" class=\"data row8 col9\" >-0.011421</td>\n",
       "            </tr>\n",
       "            <tr>\n",
       "                        <th id=\"T_c82247b0_7168_11ec_b44e_14dae961fb77level0_row9\" class=\"row_heading level0 row9\" >estimated_salary</th>\n",
       "                        <td id=\"T_c82247b0_7168_11ec_b44e_14dae961fb77row9_col0\" class=\"data row9 col0\" >-0.001384</td>\n",
       "                        <td id=\"T_c82247b0_7168_11ec_b44e_14dae961fb77row9_col1\" class=\"data row9 col1\" >-0.001369</td>\n",
       "                        <td id=\"T_c82247b0_7168_11ec_b44e_14dae961fb77row9_col2\" class=\"data row9 col2\" >-0.008112</td>\n",
       "                        <td id=\"T_c82247b0_7168_11ec_b44e_14dae961fb77row9_col3\" class=\"data row9 col3\" >-0.007201</td>\n",
       "                        <td id=\"T_c82247b0_7168_11ec_b44e_14dae961fb77row9_col4\" class=\"data row9 col4\" >0.010405</td>\n",
       "                        <td id=\"T_c82247b0_7168_11ec_b44e_14dae961fb77row9_col5\" class=\"data row9 col5\" >0.012797</td>\n",
       "                        <td id=\"T_c82247b0_7168_11ec_b44e_14dae961fb77row9_col6\" class=\"data row9 col6\" >0.014204</td>\n",
       "                        <td id=\"T_c82247b0_7168_11ec_b44e_14dae961fb77row9_col7\" class=\"data row9 col7\" >-0.009933</td>\n",
       "                        <td id=\"T_c82247b0_7168_11ec_b44e_14dae961fb77row9_col8\" class=\"data row9 col8\" >-0.011421</td>\n",
       "                        <td id=\"T_c82247b0_7168_11ec_b44e_14dae961fb77row9_col9\" class=\"data row9 col9\" >1.000000</td>\n",
       "            </tr>\n",
       "    </tbody></table>"
      ],
      "text/plain": [
       "<pandas.io.formats.style.Styler at 0x210dceab820>"
      ]
     },
     "execution_count": 23,
     "metadata": {},
     "output_type": "execute_result"
    }
   ],
   "source": [
    "df.drop('exited', axis=1).corr().style.background_gradient(cmap='Reds')"
   ]
  },
  {
   "cell_type": "code",
   "execution_count": 24,
   "metadata": {
    "colab": {
     "base_uri": "https://localhost:8080/",
     "height": 953
    },
    "id": "9rb6uOqf7Odb",
    "outputId": "7f11914f-23db-4a76-f642-837f888035e9"
   },
   "outputs": [
    {
     "data": {
      "image/png": "[encoded data removed]",
      "text/plain": [
       "<Figure size 1152x1152 with 100 Axes>"
      ]
     },
     "metadata": {
      "needs_background": "light"
     },
     "output_type": "display_data"
    }
   ],
   "source": [
    "pd.plotting.scatter_matrix(df.drop('exited', axis=1), figsize=(16, 16));"
   ]
  },
  {
   "cell_type": "code",
   "execution_count": 25,
   "metadata": {
    "colab": {
     "base_uri": "https://localhost:8080/",
     "height": 634
    },
    "id": "VKLSzY9e7Odc",
    "outputId": "664555be-36e0-47b9-de84-daf8eacd84e8"
   },
   "outputs": [
    {
     "data": {
      "image/png": "[encoded data removed]",
      "text/plain": [
       "<Figure size 1008x648 with 2 Axes>"
      ]
     },
     "metadata": {},
     "output_type": "display_data"
    }
   ],
   "source": [
    "sns.set(rc={'figure.figsize':(14, 9)})\n",
    "sns.heatmap(df.drop('exited', axis=1).corr(),\n",
    "            annot=True,\n",
    "            vmin=-1,\n",
    "            vmax=1,\n",
    "            center= 0,\n",
    "            cmap='coolwarm',\n",
    "            linewidths=.01,\n",
    "            linecolor='black');"
   ]
  },
  {
   "cell_type": "code",
   "execution_count": 26,
   "metadata": {
    "id": "n2hCp-587Odc"
   },
   "outputs": [],
   "source": [
    "X = df.drop('exited', axis=1)\n",
    "y = df['exited']"
   ]
  },
  {
   "cell_type": "code",
   "execution_count": 27,
   "metadata": {
    "colab": {
     "base_uri": "https://localhost:8080/",
     "height": 204
    },
    "id": "UvG24lNz7Odd",
    "outputId": "638d2904-7961-48d4-c076-3f69a4c6f5b3",
    "scrolled": true
   },
   "outputs": [
    {
     "data": {
      "text/html": [
       "<div>\n",
       "<style scoped>\n",
       "    .dataframe tbody tr th:only-of-type {\n",
       "        vertical-align: middle;\n",
       "    }\n",
       "\n",
       "    .dataframe tbody tr th {\n",
       "        vertical-align: top;\n",
       "    }\n",
       "\n",
       "    .dataframe thead th {\n",
       "        text-align: right;\n",
       "    }\n",
       "</style>\n",
       "<table border=\"1\" class=\"dataframe\">\n",
       "  <thead>\n",
       "    <tr style=\"text-align: right;\">\n",
       "      <th></th>\n",
       "      <th>credit_score</th>\n",
       "      <th>geography</th>\n",
       "      <th>gender</th>\n",
       "      <th>age</th>\n",
       "      <th>tenure</th>\n",
       "      <th>balance</th>\n",
       "      <th>num_of_products</th>\n",
       "      <th>has_cr_card</th>\n",
       "      <th>is_active_member</th>\n",
       "      <th>estimated_salary</th>\n",
       "    </tr>\n",
       "  </thead>\n",
       "  <tbody>\n",
       "    <tr>\n",
       "      <th>0</th>\n",
       "      <td>619</td>\n",
       "      <td>0.0</td>\n",
       "      <td>0.0</td>\n",
       "      <td>42</td>\n",
       "      <td>2.0</td>\n",
       "      <td>0.00</td>\n",
       "      <td>1</td>\n",
       "      <td>1</td>\n",
       "      <td>1</td>\n",
       "      <td>101348.88</td>\n",
       "    </tr>\n",
       "    <tr>\n",
       "      <th>1</th>\n",
       "      <td>608</td>\n",
       "      <td>2.0</td>\n",
       "      <td>0.0</td>\n",
       "      <td>41</td>\n",
       "      <td>1.0</td>\n",
       "      <td>83807.86</td>\n",
       "      <td>1</td>\n",
       "      <td>0</td>\n",
       "      <td>1</td>\n",
       "      <td>112542.58</td>\n",
       "    </tr>\n",
       "    <tr>\n",
       "      <th>2</th>\n",
       "      <td>502</td>\n",
       "      <td>0.0</td>\n",
       "      <td>0.0</td>\n",
       "      <td>42</td>\n",
       "      <td>12.0</td>\n",
       "      <td>159660.80</td>\n",
       "      <td>3</td>\n",
       "      <td>1</td>\n",
       "      <td>0</td>\n",
       "      <td>113931.57</td>\n",
       "    </tr>\n",
       "    <tr>\n",
       "      <th>3</th>\n",
       "      <td>699</td>\n",
       "      <td>0.0</td>\n",
       "      <td>0.0</td>\n",
       "      <td>39</td>\n",
       "      <td>1.0</td>\n",
       "      <td>0.00</td>\n",
       "      <td>2</td>\n",
       "      <td>0</td>\n",
       "      <td>0</td>\n",
       "      <td>93826.63</td>\n",
       "    </tr>\n",
       "    <tr>\n",
       "      <th>4</th>\n",
       "      <td>850</td>\n",
       "      <td>2.0</td>\n",
       "      <td>0.0</td>\n",
       "      <td>43</td>\n",
       "      <td>2.0</td>\n",
       "      <td>125510.82</td>\n",
       "      <td>1</td>\n",
       "      <td>1</td>\n",
       "      <td>1</td>\n",
       "      <td>79084.10</td>\n",
       "    </tr>\n",
       "  </tbody>\n",
       "</table>\n",
       "</div>"
      ],
      "text/plain": [
       "   credit_score  geography  gender  age  tenure    balance  num_of_products  \\\n",
       "0           619        0.0     0.0   42     2.0       0.00                1   \n",
       "1           608        2.0     0.0   41     1.0   83807.86                1   \n",
       "2           502        0.0     0.0   42    12.0  159660.80                3   \n",
       "3           699        0.0     0.0   39     1.0       0.00                2   \n",
       "4           850        2.0     0.0   43     2.0  125510.82                1   \n",
       "\n",
       "   has_cr_card  is_active_member  estimated_salary  \n",
       "0            1                 1         101348.88  \n",
       "1            0                 1         112542.58  \n",
       "2            1                 0         113931.57  \n",
       "3            0                 0          93826.63  \n",
       "4            1                 1          79084.10  "
      ]
     },
     "execution_count": 27,
     "metadata": {},
     "output_type": "execute_result"
    }
   ],
   "source": [
    "X.head()"
   ]
  },
  {
   "cell_type": "code",
   "execution_count": 28,
   "metadata": {
    "id": "NdxaIdWs7Ode"
   },
   "outputs": [],
   "source": [
    "X_train, X_test, y_train, y_test = train_test_split(X, y, test_size=0.2, random_state=42, stratify=y)"
   ]
  },
  {
   "cell_type": "code",
   "execution_count": 29,
   "metadata": {
    "colab": {
     "base_uri": "https://localhost:8080/"
    },
    "id": "1UZS8V-R7Odf",
    "outputId": "1be44f55-213d-4aa5-b4d1-3a1a6fc081ab"
   },
   "outputs": [
    {
     "data": {
      "text/plain": [
       "10000"
      ]
     },
     "execution_count": 29,
     "metadata": {},
     "output_type": "execute_result"
    }
   ],
   "source": [
    "len(df)"
   ]
  },
  {
   "cell_type": "code",
   "execution_count": 30,
   "metadata": {
    "colab": {
     "base_uri": "https://localhost:8080/"
    },
    "id": "n93erbc57Odf",
    "outputId": "e584efc8-40e3-4794-aff7-e52e0fb99f30"
   },
   "outputs": [
    {
     "data": {
      "text/plain": [
       "8000"
      ]
     },
     "execution_count": 30,
     "metadata": {},
     "output_type": "execute_result"
    }
   ],
   "source": [
    "len(X_train)"
   ]
  },
  {
   "cell_type": "code",
   "execution_count": 31,
   "metadata": {
    "colab": {
     "base_uri": "https://localhost:8080/"
    },
    "id": "TB8ZZatg7Odg",
    "outputId": "9bb2d1c5-ba18-47e0-c423-995f85e7d786"
   },
   "outputs": [
    {
     "data": {
      "text/plain": [
       "2000"
      ]
     },
     "execution_count": 31,
     "metadata": {},
     "output_type": "execute_result"
    }
   ],
   "source": [
    "len(X_test)"
   ]
  },
  {
   "cell_type": "code",
   "execution_count": 32,
   "metadata": {
    "colab": {
     "base_uri": "https://localhost:8080/"
    },
    "id": "wFmySXg17Odh",
    "outputId": "8f64d336-e8fd-4f80-af93-6ccdd6a4b6a2"
   },
   "outputs": [
    {
     "data": {
      "text/plain": [
       "10000"
      ]
     },
     "execution_count": 32,
     "metadata": {},
     "output_type": "execute_result"
    }
   ],
   "source": [
    "len(X_train) + len(X_test)"
   ]
  },
  {
   "cell_type": "code",
   "execution_count": 33,
   "metadata": {
    "colab": {
     "base_uri": "https://localhost:8080/"
    },
    "id": "GQUwGjty7Odi",
    "outputId": "c840bf60-ea5b-4a53-ab34-f706c714060c"
   },
   "outputs": [
    {
     "data": {
      "text/plain": [
       "True"
      ]
     },
     "execution_count": 33,
     "metadata": {},
     "output_type": "execute_result"
    }
   ],
   "source": [
    "len(X_train) + len(X_test) == len(y_train) + len(y_test)"
   ]
  },
  {
   "cell_type": "code",
   "execution_count": 34,
   "metadata": {
    "colab": {
     "base_uri": "https://localhost:8080/"
    },
    "id": "jbTLK-F37Odi",
    "outputId": "f15624ad-559e-473d-94ed-126747008132"
   },
   "outputs": [
    {
     "data": {
      "text/plain": [
       "0.2037"
      ]
     },
     "execution_count": 34,
     "metadata": {},
     "output_type": "execute_result"
    }
   ],
   "source": [
    "y.mean()"
   ]
  },
  {
   "cell_type": "code",
   "execution_count": 35,
   "metadata": {
    "colab": {
     "base_uri": "https://localhost:8080/"
    },
    "id": "2Jp0poQj7Odj",
    "outputId": "b58143f3-3738-46a2-dd85-9b44700ef62a"
   },
   "outputs": [
    {
     "data": {
      "text/plain": [
       "0.20375"
      ]
     },
     "execution_count": 35,
     "metadata": {},
     "output_type": "execute_result"
    }
   ],
   "source": [
    "y_train.mean()"
   ]
  },
  {
   "cell_type": "code",
   "execution_count": 36,
   "metadata": {
    "colab": {
     "base_uri": "https://localhost:8080/"
    },
    "id": "E4rW3mCW7Odk",
    "outputId": "c04c5eae-71ed-4677-bee8-07ecbd104d47"
   },
   "outputs": [
    {
     "data": {
      "text/plain": [
       "0.2035"
      ]
     },
     "execution_count": 36,
     "metadata": {},
     "output_type": "execute_result"
    }
   ],
   "source": [
    "y_test.mean()"
   ]
  },
  {
   "cell_type": "markdown",
   "metadata": {
    "id": "ii32QN_07Odk"
   },
   "source": [
    "#### Дерево решений"
   ]
  },
  {
   "cell_type": "code",
   "execution_count": 37,
   "metadata": {
    "id": "u8oNqBbd7Odl"
   },
   "outputs": [],
   "source": [
    "pipe_dt = Pipeline([('sc', StandardScaler()),\n",
    "                    ('clf_dt', DecisionTreeClassifier(random_state=42))])\n",
    "parameters = {'clf_dt__criterion': ['gini', 'entropy'],\n",
    "              'clf_dt__max_depth': range(1, 21),\n",
    "              'clf_dt__min_samples_split': range(2, 21, 5),\n",
    "              'clf_dt__min_samples_leaf': range(1, 21, 5)}"
   ]
  },
  {
   "cell_type": "code",
   "execution_count": 38,
   "metadata": {
    "id": "xRNHTi9Y7Odl"
   },
   "outputs": [],
   "source": [
    "grid_search_cv_dt = GridSearchCV(pipe_dt,\n",
    "                                 parameters,\n",
    "                                 scoring=['f1', 'roc_auc'],\n",
    "                                 refit='f1',\n",
    "                                 n_jobs=-1,\n",
    "                                 cv=StratifiedKFold(4)).fit(X_train, y_train)"
   ]
  },
  {
   "cell_type": "code",
   "execution_count": 39,
   "metadata": {
    "colab": {
     "base_uri": "https://localhost:8080/"
    },
    "id": "C1KgCEYa7Odm",
    "outputId": "0e0d9609-7b5a-4faa-a412-6a1404c370f5"
   },
   "outputs": [
    {
     "data": {
      "text/plain": [
       "{'clf_dt__criterion': 'entropy',\n",
       " 'clf_dt__max_depth': 9,\n",
       " 'clf_dt__min_samples_leaf': 11,\n",
       " 'clf_dt__min_samples_split': 2}"
      ]
     },
     "execution_count": 39,
     "metadata": {},
     "output_type": "execute_result"
    }
   ],
   "source": [
    "grid_search_cv_dt.best_params_"
   ]
  },
  {
   "cell_type": "code",
   "execution_count": 40,
   "metadata": {
    "id": "5XID_CEq7Odm"
   },
   "outputs": [],
   "source": [
    "best_clf_dt_disbalance = grid_search_cv_dt.best_estimator_"
   ]
  },
  {
   "cell_type": "code",
   "execution_count": 41,
   "metadata": {
    "id": "vMNMJzZ57Odn"
   },
   "outputs": [],
   "source": [
    "predictions_dt_train_disbalance = best_clf_dt_disbalance.predict(X_train)"
   ]
  },
  {
   "cell_type": "code",
   "execution_count": 42,
   "metadata": {
    "colab": {
     "base_uri": "https://localhost:8080/"
    },
    "id": "GVJV09wJ7Odn",
    "outputId": "0c9635b1-8746-4136-dd27-e50901dccc06"
   },
   "outputs": [
    {
     "data": {
      "text/plain": [
       "0.6211085801063022"
      ]
     },
     "execution_count": 42,
     "metadata": {},
     "output_type": "execute_result"
    }
   ],
   "source": [
    "f1_score(y_train, predictions_dt_train_disbalance)"
   ]
  },
  {
   "cell_type": "code",
   "execution_count": 43,
   "metadata": {
    "colab": {
     "base_uri": "https://localhost:8080/"
    },
    "id": "KRXedIIn7Odn",
    "outputId": "15e1514f-c60d-4581-f4c9-ebe961bccda5"
   },
   "outputs": [
    {
     "data": {
      "text/plain": [
       "0.7363205593705155"
      ]
     },
     "execution_count": 43,
     "metadata": {},
     "output_type": "execute_result"
    }
   ],
   "source": [
    "roc_auc_score(y_train, predictions_dt_train_disbalance)"
   ]
  },
  {
   "cell_type": "markdown",
   "metadata": {
    "id": "3b1aQzPm7Odo"
   },
   "source": [
    "#### Случайный лес"
   ]
  },
  {
   "cell_type": "code",
   "execution_count": 44,
   "metadata": {
    "id": "tehMvIkH7Odo"
   },
   "outputs": [],
   "source": [
    "pipe_rf = Pipeline([('sc', StandardScaler()),\n",
    "                    ('clf_rf', RandomForestClassifier(warm_start=True, random_state=42))])\n",
    "parameters = {'clf_rf__n_estimators': [50],\n",
    "              'clf_rf__max_depth': range(1, 21),\n",
    "              'clf_rf__min_samples_split': range(2, 21, 5),\n",
    "              'clf_rf__min_samples_leaf': range(1, 21, 5)}"
   ]
  },
  {
   "cell_type": "code",
   "execution_count": 45,
   "metadata": {
    "id": "1-Un0qjH7Odp"
   },
   "outputs": [],
   "source": [
    "grid_search_cv_rf = GridSearchCV(pipe_rf,\n",
    "                                 parameters,\n",
    "                                 scoring=['f1', 'roc_auc'],\n",
    "                                 refit='f1',\n",
    "                                 n_jobs=-1,\n",
    "                                 cv=StratifiedKFold(4)).fit(X_train, y_train)"
   ]
  },
  {
   "cell_type": "code",
   "execution_count": 46,
   "metadata": {
    "colab": {
     "base_uri": "https://localhost:8080/"
    },
    "id": "GpPbFMhQ7Odp",
    "outputId": "060ff920-8df8-4422-f611-9533b58ecf72"
   },
   "outputs": [
    {
     "data": {
      "text/plain": [
       "{'clf_rf__max_depth': 18,\n",
       " 'clf_rf__min_samples_leaf': 1,\n",
       " 'clf_rf__min_samples_split': 12,\n",
       " 'clf_rf__n_estimators': 50}"
      ]
     },
     "execution_count": 46,
     "metadata": {},
     "output_type": "execute_result"
    }
   ],
   "source": [
    "grid_search_cv_rf.best_params_"
   ]
  },
  {
   "cell_type": "code",
   "execution_count": 47,
   "metadata": {
    "id": "VAbJDwMj7Odp"
   },
   "outputs": [],
   "source": [
    "best_clf_rf_disbalance = grid_search_cv_rf.best_estimator_"
   ]
  },
  {
   "cell_type": "code",
   "execution_count": 48,
   "metadata": {
    "id": "3CvJAlqr7Odq"
   },
   "outputs": [],
   "source": [
    "predictions_rf_train_disbalance = best_clf_rf_disbalance.predict(X_train)"
   ]
  },
  {
   "cell_type": "code",
   "execution_count": 49,
   "metadata": {
    "colab": {
     "base_uri": "https://localhost:8080/"
    },
    "id": "nJwJVaGC7Odq",
    "outputId": "b99b543c-5f5d-428f-c38a-d16966ab8f2d"
   },
   "outputs": [
    {
     "data": {
      "text/plain": [
       "0.7746376811594202"
      ]
     },
     "execution_count": 49,
     "metadata": {},
     "output_type": "execute_result"
    }
   ],
   "source": [
    "f1_score(y_train, predictions_rf_train_disbalance)"
   ]
  },
  {
   "cell_type": "code",
   "execution_count": 50,
   "metadata": {
    "colab": {
     "base_uri": "https://localhost:8080/"
    },
    "id": "ZKawHm7k7Odq",
    "outputId": "85449252-d37d-4c5e-8a8d-6e7a08ec3184"
   },
   "outputs": [
    {
     "data": {
      "text/plain": [
       "0.8231260413556645"
      ]
     },
     "execution_count": 50,
     "metadata": {},
     "output_type": "execute_result"
    }
   ],
   "source": [
    "roc_auc_score(y_train, predictions_rf_train_disbalance)"
   ]
  },
  {
   "cell_type": "markdown",
   "metadata": {
    "id": "5Oun11YR7Odq"
   },
   "source": [
    "#### Логистическая регрессия"
   ]
  },
  {
   "cell_type": "code",
   "execution_count": 51,
   "metadata": {
    "id": "1gz3mth27Odr"
   },
   "outputs": [],
   "source": [
    "pipe_lr = Pipeline([('sc', StandardScaler()),\n",
    "                    ('clf_lr', LogisticRegression(solver='lbfgs', random_state=42))])\n",
    "parameters = {}\n",
    "grid_search_cv_lr = GridSearchCV(pipe_lr,\n",
    "                                 parameters,\n",
    "                                 scoring=['f1', 'roc_auc'],\n",
    "                                 refit='f1',\n",
    "                                 n_jobs=-1,\n",
    "                                 cv=StratifiedKFold(4)).fit(X_train, y_train)"
   ]
  },
  {
   "cell_type": "code",
   "execution_count": 52,
   "metadata": {
    "id": "VOoqhI-17Odr"
   },
   "outputs": [],
   "source": [
    "best_clf_lr_disbalance = grid_search_cv_lr.best_estimator_"
   ]
  },
  {
   "cell_type": "code",
   "execution_count": 53,
   "metadata": {
    "id": "t42XpJuY7Odr"
   },
   "outputs": [],
   "source": [
    "predictions_lr_train_disbalance = best_clf_lr_disbalance.predict(X_train)"
   ]
  },
  {
   "cell_type": "code",
   "execution_count": 54,
   "metadata": {
    "colab": {
     "base_uri": "https://localhost:8080/"
    },
    "id": "vf2UgV1b7Od0",
    "outputId": "a889f0f7-1fce-479e-d616-24a5d51b6019"
   },
   "outputs": [
    {
     "data": {
      "text/plain": [
       "0.2686993806574559"
      ]
     },
     "execution_count": 54,
     "metadata": {},
     "output_type": "execute_result"
    }
   ],
   "source": [
    "f1_score(y_train, predictions_lr_train_disbalance)"
   ]
  },
  {
   "cell_type": "code",
   "execution_count": 55,
   "metadata": {
    "colab": {
     "base_uri": "https://localhost:8080/"
    },
    "id": "6ME0jqLD7Od0",
    "outputId": "faee1b6f-fba0-4723-c927-e01fc9d726b6"
   },
   "outputs": [
    {
     "data": {
      "text/plain": [
       "0.5718248885207693"
      ]
     },
     "execution_count": 55,
     "metadata": {},
     "output_type": "execute_result"
    }
   ],
   "source": [
    "roc_auc_score(y_train, predictions_lr_train_disbalance)"
   ]
  },
  {
   "cell_type": "markdown",
   "metadata": {
    "id": "Oey08x4-7Od1"
   },
   "source": [
    "Перевел названия столбцов в нижний регистр и snake_case, проверил на мультиколлинеарность: по этому принципу все признаки можно оставить. При этом удалил колонки 'customer_id' и 'surname' за ненадобностью, заполнил пропуски в колонке 'tenure', преобразовал категориальные признаки методом порядкового кодирования, разбил датасет на обучающие признаки и вектор, привел к общему масштабу обучающие признаки (в пайплайнах).  \n",
    "Обучил случайный лес, дерево решений и логистическую регрессию без учета дисбаланса. Дисбаланс сильно влияет на качество предсказания. Исправим это."
   ]
  },
  {
   "cell_type": "markdown",
   "metadata": {
    "id": "YPRkI_t77Od1"
   },
   "source": [
    "## Борьба с дисбалансом"
   ]
  },
  {
   "cell_type": "markdown",
   "metadata": {
    "id": "Opn679007Od1"
   },
   "source": [
    "### Коррекция весов"
   ]
  },
  {
   "cell_type": "markdown",
   "metadata": {
    "id": "cH7pmTWC7Od2"
   },
   "source": [
    "#### Дерево решений"
   ]
  },
  {
   "cell_type": "code",
   "execution_count": 56,
   "metadata": {
    "id": "4SotbfNx7Od2"
   },
   "outputs": [],
   "source": [
    "weights = np.linspace(0.0, 0.99, 200)\n",
    "parameters = {'clf_dt__class_weight': [{0: n, 1: 1.0 - n} for n in weights]}"
   ]
  },
  {
   "cell_type": "code",
   "execution_count": 57,
   "metadata": {
    "id": "UsmQq1B97Od3"
   },
   "outputs": [],
   "source": [
    "grid_search_cv_dt = GridSearchCV(pipe_dt,\n",
    "                                 parameters,\n",
    "                                 scoring=['f1', 'roc_auc'],\n",
    "                                 refit='f1',\n",
    "                                 n_jobs=-1,\n",
    "                                 cv=StratifiedKFold(4)).fit(X_train, y_train)"
   ]
  },
  {
   "cell_type": "code",
   "execution_count": 58,
   "metadata": {
    "colab": {
     "base_uri": "https://localhost:8080/"
    },
    "id": "L6YY_AjQ7Od3",
    "outputId": "0b3c49df-db50-478c-c2ce-7e2993965e5d"
   },
   "outputs": [
    {
     "data": {
      "text/plain": [
       "{'clf_dt__class_weight': {0: 0.5920100502512563, 1: 0.4079899497487437}}"
      ]
     },
     "execution_count": 58,
     "metadata": {},
     "output_type": "execute_result"
    }
   ],
   "source": [
    "grid_search_cv_dt.best_params_"
   ]
  },
  {
   "cell_type": "code",
   "execution_count": 59,
   "metadata": {
    "id": "Ze3RSP2f7Od3"
   },
   "outputs": [],
   "source": [
    "parameters = {'clf_dt__criterion': ['gini', 'entropy'],\n",
    "              'clf_dt__max_depth': range(1, 21),\n",
    "              'clf_dt__min_samples_split': range(2, 21, 5),\n",
    "              'clf_dt__min_samples_leaf': range(1, 21, 5),\n",
    "              'clf_dt__class_weight': [{0: list(grid_search_cv_dt.best_params_.values())[0][0],\n",
    "                                        1: list(grid_search_cv_dt.best_params_.values())[0][1]}]}"
   ]
  },
  {
   "cell_type": "code",
   "execution_count": 60,
   "metadata": {
    "id": "LVtav3Jd7Od4"
   },
   "outputs": [],
   "source": [
    "grid_search_cv_dt = GridSearchCV(pipe_dt,\n",
    "                                 parameters,\n",
    "                                 scoring=['f1', 'roc_auc'],\n",
    "                                 refit='f1',\n",
    "                                 n_jobs=-1,\n",
    "                                 cv=StratifiedKFold(4)).fit(X_train, y_train)"
   ]
  },
  {
   "cell_type": "code",
   "execution_count": 61,
   "metadata": {
    "colab": {
     "base_uri": "https://localhost:8080/"
    },
    "id": "Vg4nlco67Od5",
    "outputId": "d089fbb1-0c62-4a6e-e425-c3aaf7e8a3a8"
   },
   "outputs": [
    {
     "data": {
      "text/plain": [
       "{'clf_dt__class_weight': {0: 0.5920100502512563, 1: 0.4079899497487437},\n",
       " 'clf_dt__criterion': 'entropy',\n",
       " 'clf_dt__max_depth': 14,\n",
       " 'clf_dt__min_samples_leaf': 11,\n",
       " 'clf_dt__min_samples_split': 2}"
      ]
     },
     "execution_count": 61,
     "metadata": {},
     "output_type": "execute_result"
    }
   ],
   "source": [
    "grid_search_cv_dt.best_params_"
   ]
  },
  {
   "cell_type": "code",
   "execution_count": 62,
   "metadata": {
    "id": "xVkgVuMz7Od5"
   },
   "outputs": [],
   "source": [
    "best_clf_dt_balance_wgt = grid_search_cv_dt.best_estimator_"
   ]
  },
  {
   "cell_type": "code",
   "execution_count": 63,
   "metadata": {
    "id": "YWKBRON17Od6"
   },
   "outputs": [],
   "source": [
    "predictions_dt_train_balance_wgt = best_clf_dt_balance_wgt.predict(X_train)"
   ]
  },
  {
   "cell_type": "code",
   "execution_count": 64,
   "metadata": {
    "colab": {
     "base_uri": "https://localhost:8080/"
    },
    "id": "pXj18gKx7Od7",
    "outputId": "73a8f714-9941-4612-bddd-f39f2007937d"
   },
   "outputs": [
    {
     "data": {
      "text/plain": [
       "0.6671619613670134"
      ]
     },
     "execution_count": 64,
     "metadata": {},
     "output_type": "execute_result"
    }
   ],
   "source": [
    "f1_score(y_train, predictions_dt_train_balance_wgt)"
   ]
  },
  {
   "cell_type": "code",
   "execution_count": 65,
   "metadata": {
    "colab": {
     "base_uri": "https://localhost:8080/"
    },
    "id": "SqZJLb0u7Od7",
    "outputId": "31c1b888-6023-424e-d851-91f68563f05a"
   },
   "outputs": [
    {
     "data": {
      "text/plain": [
       "0.7625872812551164"
      ]
     },
     "execution_count": 65,
     "metadata": {},
     "output_type": "execute_result"
    }
   ],
   "source": [
    "roc_auc_score(y_train, predictions_dt_train_balance_wgt)"
   ]
  },
  {
   "cell_type": "markdown",
   "metadata": {
    "id": "MhzhLvQ47Od8"
   },
   "source": [
    "#### Случайный лес"
   ]
  },
  {
   "cell_type": "code",
   "execution_count": 66,
   "metadata": {
    "id": "AnI511M-7Od8"
   },
   "outputs": [],
   "source": [
    "weights = np.linspace(0.0, 0.99, 200)\n",
    "parameters = {'clf_rf__class_weight': [{0: n, 1: 1.0 - n} for n in weights]}"
   ]
  },
  {
   "cell_type": "code",
   "execution_count": 67,
   "metadata": {
    "id": "iV6rvhz37Od9"
   },
   "outputs": [],
   "source": [
    "grid_search_cv_rf = GridSearchCV(pipe_rf,\n",
    "                                 parameters,\n",
    "                                 scoring=['f1', 'roc_auc'],\n",
    "                                 refit='f1',\n",
    "                                 n_jobs=-1,\n",
    "                                 cv=StratifiedKFold(4)).fit(X_train, y_train)"
   ]
  },
  {
   "cell_type": "code",
   "execution_count": 68,
   "metadata": {
    "colab": {
     "base_uri": "https://localhost:8080/"
    },
    "id": "Uqcdj9Ro7Od-",
    "outputId": "09db9c25-7231-4e6a-8b4a-12cd37d2f16c"
   },
   "outputs": [
    {
     "data": {
      "text/plain": [
       "{'clf_rf__class_weight': {0: 0.9303015075376885, 1: 0.06969849246231152}}"
      ]
     },
     "execution_count": 68,
     "metadata": {},
     "output_type": "execute_result"
    }
   ],
   "source": [
    "grid_search_cv_rf.best_params_"
   ]
  },
  {
   "cell_type": "code",
   "execution_count": 69,
   "metadata": {
    "id": "dypTGna-7Od-"
   },
   "outputs": [],
   "source": [
    "parameters = {'clf_rf__n_estimators': [50],\n",
    "              'clf_rf__max_depth': range(1, 21),\n",
    "              'clf_rf__min_samples_split': range(2, 21, 5),\n",
    "              'clf_rf__min_samples_leaf': range(1, 21, 5),\n",
    "              'clf_rf__class_weight': [{0: list(grid_search_cv_rf.best_params_.values())[0][0],\n",
    "                                        1: list(grid_search_cv_rf.best_params_.values())[0][1]}]}"
   ]
  },
  {
   "cell_type": "code",
   "execution_count": 70,
   "metadata": {
    "id": "uBdoGM5h7Od_"
   },
   "outputs": [],
   "source": [
    "grid_search_cv_rf = GridSearchCV(pipe_rf,\n",
    "                                 parameters,\n",
    "                                 scoring=['f1', 'roc_auc'],\n",
    "                                 refit='f1',\n",
    "                                 n_jobs=-1,\n",
    "                                 cv=StratifiedKFold(4)).fit(X_train, y_train)"
   ]
  },
  {
   "cell_type": "code",
   "execution_count": 71,
   "metadata": {
    "colab": {
     "base_uri": "https://localhost:8080/"
    },
    "id": "4RYvDeem7OeA",
    "outputId": "cb04c1cb-d861-4e2f-f2f7-3bd5712e4780"
   },
   "outputs": [
    {
     "data": {
      "text/plain": [
       "{'clf_rf__class_weight': {0: 0.9303015075376885, 1: 0.06969849246231152},\n",
       " 'clf_rf__max_depth': 20,\n",
       " 'clf_rf__min_samples_leaf': 1,\n",
       " 'clf_rf__min_samples_split': 2,\n",
       " 'clf_rf__n_estimators': 50}"
      ]
     },
     "execution_count": 71,
     "metadata": {},
     "output_type": "execute_result"
    }
   ],
   "source": [
    "grid_search_cv_rf.best_params_"
   ]
  },
  {
   "cell_type": "code",
   "execution_count": 72,
   "metadata": {
    "id": "VlUb1D9c7OeA"
   },
   "outputs": [],
   "source": [
    "best_clf_rf_balance_wgt = grid_search_cv_rf.best_estimator_"
   ]
  },
  {
   "cell_type": "code",
   "execution_count": 73,
   "metadata": {
    "id": "HjQssyai7OeB"
   },
   "outputs": [],
   "source": [
    "predictions_rf_train_balance_wgt = best_clf_rf_balance_wgt.predict(X_train)"
   ]
  },
  {
   "cell_type": "code",
   "execution_count": 74,
   "metadata": {
    "colab": {
     "base_uri": "https://localhost:8080/"
    },
    "id": "cSD60reY7OeC",
    "outputId": "d539bb7d-ea07-4ca0-8ae4-84770b4075f5"
   },
   "outputs": [
    {
     "data": {
      "text/plain": [
       "0.9670468948035489"
      ]
     },
     "execution_count": 74,
     "metadata": {},
     "output_type": "execute_result"
    }
   ],
   "source": [
    "f1_score(y_train, predictions_rf_train_balance_wgt)"
   ]
  },
  {
   "cell_type": "code",
   "execution_count": 75,
   "metadata": {
    "colab": {
     "base_uri": "https://localhost:8080/"
    },
    "id": "FpqLDgno7OeD",
    "outputId": "009b4df6-ea4a-4c12-fae9-44802cbb92fd"
   },
   "outputs": [
    {
     "data": {
      "text/plain": [
       "0.9680981595092024"
      ]
     },
     "execution_count": 75,
     "metadata": {},
     "output_type": "execute_result"
    }
   ],
   "source": [
    "roc_auc_score(y_train, predictions_rf_train_balance_wgt)"
   ]
  },
  {
   "cell_type": "markdown",
   "metadata": {
    "id": "DeE1IzC97OeD"
   },
   "source": [
    "#### Логистическая регрессия"
   ]
  },
  {
   "cell_type": "code",
   "execution_count": 76,
   "metadata": {
    "id": "iTlRO3rd7OeE"
   },
   "outputs": [],
   "source": [
    "weights = np.linspace(0.0, 0.99, 200)\n",
    "parameters = {'clf_lr__class_weight': [{0: n, 1: 1.0 - n} for n in weights]}"
   ]
  },
  {
   "cell_type": "code",
   "execution_count": 77,
   "metadata": {
    "id": "BQNnt_Ii7OeF"
   },
   "outputs": [],
   "source": [
    "grid_search_cv_lr = GridSearchCV(pipe_lr,\n",
    "                                 parameters,\n",
    "                                 scoring=['f1', 'roc_auc'],\n",
    "                                 refit='f1',\n",
    "                                 n_jobs=-1,\n",
    "                                 cv=StratifiedKFold(4)).fit(X_train, y_train)"
   ]
  },
  {
   "cell_type": "code",
   "execution_count": 78,
   "metadata": {
    "colab": {
     "base_uri": "https://localhost:8080/"
    },
    "id": "Z3Qi6q5r7OeG",
    "outputId": "78820a40-59da-452e-e041-6f95215df01f"
   },
   "outputs": [
    {
     "data": {
      "text/plain": [
       "{'clf_lr__class_weight': {0: 0.22884422110552766, 1: 0.7711557788944723}}"
      ]
     },
     "execution_count": 78,
     "metadata": {},
     "output_type": "execute_result"
    }
   ],
   "source": [
    "grid_search_cv_lr.best_params_"
   ]
  },
  {
   "cell_type": "code",
   "execution_count": 79,
   "metadata": {
    "id": "DSQFts4z7OeG"
   },
   "outputs": [],
   "source": [
    "parameters = {'clf_lr__class_weight': [{0: list(grid_search_cv_lr.best_params_.values())[0][0],\n",
    "                                        1: list(grid_search_cv_lr.best_params_.values())[0][1]}]}"
   ]
  },
  {
   "cell_type": "code",
   "execution_count": 80,
   "metadata": {
    "id": "NzrdK2fi7OeH"
   },
   "outputs": [],
   "source": [
    "grid_search_cv_lr = GridSearchCV(pipe_lr,\n",
    "                                 parameters,\n",
    "                                 scoring=['f1', 'roc_auc'],\n",
    "                                 refit='f1',\n",
    "                                 n_jobs=-1,\n",
    "                                 cv=StratifiedKFold(4)).fit(X_train, y_train)"
   ]
  },
  {
   "cell_type": "code",
   "execution_count": 81,
   "metadata": {
    "id": "G2kz-nYj7OeH"
   },
   "outputs": [],
   "source": [
    "best_clf_lr_balance_wgt = grid_search_cv_lr.best_estimator_"
   ]
  },
  {
   "cell_type": "code",
   "execution_count": 82,
   "metadata": {
    "id": "LU9GKS0F7OeI"
   },
   "outputs": [],
   "source": [
    "predictions_lr_train_balance_wgt = best_clf_lr_balance_wgt.predict(X_train)"
   ]
  },
  {
   "cell_type": "code",
   "execution_count": 83,
   "metadata": {
    "colab": {
     "base_uri": "https://localhost:8080/"
    },
    "id": "N4dsW8J27OeJ",
    "outputId": "1163e266-385e-4827-8a36-7a4152b8589f"
   },
   "outputs": [
    {
     "data": {
      "text/plain": [
       "0.4876425855513308"
      ]
     },
     "execution_count": 83,
     "metadata": {},
     "output_type": "execute_result"
    }
   ],
   "source": [
    "f1_score(y_train, predictions_lr_train_balance_wgt)"
   ]
  },
  {
   "cell_type": "code",
   "execution_count": 84,
   "metadata": {
    "colab": {
     "base_uri": "https://localhost:8080/"
    },
    "id": "reVN8d5M7OeJ",
    "outputId": "aa9a2c19-eeeb-48d0-f888-c7e61cc7e014"
   },
   "outputs": [
    {
     "data": {
      "text/plain": [
       "0.6929028902736176"
      ]
     },
     "execution_count": 84,
     "metadata": {},
     "output_type": "execute_result"
    }
   ],
   "source": [
    "roc_auc_score(y_train, predictions_lr_train_balance_wgt)"
   ]
  },
  {
   "cell_type": "markdown",
   "metadata": {
    "id": "GNVHXzD77OeK"
   },
   "source": [
    "### Oversamling"
   ]
  },
  {
   "cell_type": "markdown",
   "metadata": {
    "id": "geF9MbD97OeS"
   },
   "source": [
    "#### Дерево решений"
   ]
  },
  {
   "cell_type": "code",
   "execution_count": 85,
   "metadata": {
    "id": "GcWtEYQhcbuP"
   },
   "outputs": [],
   "source": [
    "imb_pipe_dt = make_pipeline(StandardScaler(),\n",
    "                            SMOTE(random_state=42),\n",
    "                            DecisionTreeClassifier(random_state=42))\n",
    "parameters = {'decisiontreeclassifier__criterion': ['gini', 'entropy'],\n",
    "              'decisiontreeclassifier__max_depth': range(1, 21),\n",
    "              'decisiontreeclassifier__min_samples_split': range(2, 21, 5),\n",
    "              'decisiontreeclassifier__min_samples_leaf': range(1, 21, 5)}"
   ]
  },
  {
   "cell_type": "code",
   "execution_count": 86,
   "metadata": {
    "id": "Tm89-f59cbuQ"
   },
   "outputs": [],
   "source": [
    "grid_search_cv_dt = GridSearchCV(imb_pipe_dt,\n",
    "                                 parameters,\n",
    "                                 scoring=['f1', 'roc_auc'],\n",
    "                                 refit='f1',\n",
    "                                 n_jobs=-1,\n",
    "                                 cv=StratifiedKFold(4)).fit(X_train, y_train)"
   ]
  },
  {
   "cell_type": "code",
   "execution_count": 87,
   "metadata": {
    "colab": {
     "base_uri": "https://localhost:8080/"
    },
    "id": "hdTSfKgFcbuR",
    "outputId": "929d841f-33c7-431c-eb0c-75d6169e63d3"
   },
   "outputs": [
    {
     "data": {
      "text/plain": [
       "{'decisiontreeclassifier__criterion': 'entropy',\n",
       " 'decisiontreeclassifier__max_depth': 10,\n",
       " 'decisiontreeclassifier__min_samples_leaf': 11,\n",
       " 'decisiontreeclassifier__min_samples_split': 2}"
      ]
     },
     "execution_count": 87,
     "metadata": {},
     "output_type": "execute_result"
    }
   ],
   "source": [
    "grid_search_cv_dt.best_params_"
   ]
  },
  {
   "cell_type": "code",
   "execution_count": 88,
   "metadata": {
    "id": "tUoFrDo1cbuS"
   },
   "outputs": [],
   "source": [
    "best_clf_dt_balance_ups = grid_search_cv_dt.best_estimator_"
   ]
  },
  {
   "cell_type": "code",
   "execution_count": 89,
   "metadata": {
    "id": "W2ahQ3j6cbuS"
   },
   "outputs": [],
   "source": [
    "predictions_dt_train_balance_ups = best_clf_dt_balance_ups.predict(X_train)"
   ]
  },
  {
   "cell_type": "code",
   "execution_count": 90,
   "metadata": {
    "colab": {
     "base_uri": "https://localhost:8080/"
    },
    "id": "-2-87BkEcbuS",
    "outputId": "b8ea92e1-4b15-42ad-e108-6399d8e25761"
   },
   "outputs": [
    {
     "data": {
      "text/plain": [
       "0.6529395827688973"
      ]
     },
     "execution_count": 90,
     "metadata": {},
     "output_type": "execute_result"
    }
   ],
   "source": [
    "f1_score(y_train, predictions_dt_train_balance_ups)"
   ]
  },
  {
   "cell_type": "code",
   "execution_count": 91,
   "metadata": {
    "colab": {
     "base_uri": "https://localhost:8080/"
    },
    "id": "C5dsejCacbuT",
    "outputId": "eec3e6d2-36f2-40bc-a31a-d365ca9ed24d"
   },
   "outputs": [
    {
     "data": {
      "text/plain": [
       "0.8024419489362522"
      ]
     },
     "execution_count": 91,
     "metadata": {},
     "output_type": "execute_result"
    }
   ],
   "source": [
    "roc_auc_score(y_train, predictions_dt_train_balance_ups)"
   ]
  },
  {
   "cell_type": "markdown",
   "metadata": {
    "id": "dNwSHVWf7OeU"
   },
   "source": [
    "#### Случайный лес"
   ]
  },
  {
   "cell_type": "code",
   "execution_count": 92,
   "metadata": {
    "id": "TdkGHZq7WdGo"
   },
   "outputs": [],
   "source": [
    "imb_pipe_rf = make_pipeline(StandardScaler(),\n",
    "                            SMOTE(random_state=42),\n",
    "                            RandomForestClassifier(warm_start=True, random_state=42))"
   ]
  },
  {
   "cell_type": "code",
   "execution_count": 93,
   "metadata": {
    "id": "myCVJZO27OeU"
   },
   "outputs": [],
   "source": [
    "parameters = {'randomforestclassifier__n_estimators': [50],\n",
    "              'randomforestclassifier__max_depth': range(1, 21),\n",
    "              'randomforestclassifier__min_samples_split': range(2, 21, 5),\n",
    "              'randomforestclassifier__min_samples_leaf': range(1, 21, 5)}"
   ]
  },
  {
   "cell_type": "code",
   "execution_count": 94,
   "metadata": {
    "id": "L5D-YOA47OeU"
   },
   "outputs": [],
   "source": [
    "grid_search_cv_rf = GridSearchCV(imb_pipe_rf,\n",
    "                                 parameters,\n",
    "                                 scoring=['f1', 'roc_auc'],\n",
    "                                 refit='f1',\n",
    "                                 n_jobs=-1,\n",
    "                                 cv=StratifiedKFold(4)).fit(X_train, y_train)"
   ]
  },
  {
   "cell_type": "code",
   "execution_count": 95,
   "metadata": {
    "id": "au_uRtr-7OeV"
   },
   "outputs": [
    {
     "data": {
      "text/plain": [
       "{'randomforestclassifier__max_depth': 14,\n",
       " 'randomforestclassifier__min_samples_leaf': 6,\n",
       " 'randomforestclassifier__min_samples_split': 2,\n",
       " 'randomforestclassifier__n_estimators': 50}"
      ]
     },
     "execution_count": 95,
     "metadata": {},
     "output_type": "execute_result"
    }
   ],
   "source": [
    "grid_search_cv_rf.best_params_"
   ]
  },
  {
   "cell_type": "code",
   "execution_count": 96,
   "metadata": {
    "id": "wUlYvHrA7OeV"
   },
   "outputs": [],
   "source": [
    "best_clf_rf_balance_ups = grid_search_cv_rf.best_estimator_"
   ]
  },
  {
   "cell_type": "code",
   "execution_count": 97,
   "metadata": {
    "id": "sFjw0COq7OeV"
   },
   "outputs": [],
   "source": [
    "predictions_rf_train_balance_ups = best_clf_rf_balance_ups.predict(X_train)"
   ]
  },
  {
   "cell_type": "code",
   "execution_count": 98,
   "metadata": {
    "id": "6QmpcPmq7OeW"
   },
   "outputs": [
    {
     "data": {
      "text/plain": [
       "0.7844852726742492"
      ]
     },
     "execution_count": 98,
     "metadata": {},
     "output_type": "execute_result"
    }
   ],
   "source": [
    "f1_score(y_train, predictions_rf_train_balance_ups)"
   ]
  },
  {
   "cell_type": "code",
   "execution_count": 99,
   "metadata": {
    "id": "ETGUxzXZ7OeW"
   },
   "outputs": [
    {
     "data": {
      "text/plain": [
       "0.8769408943379144"
      ]
     },
     "execution_count": 99,
     "metadata": {},
     "output_type": "execute_result"
    }
   ],
   "source": [
    "roc_auc_score(y_train, predictions_rf_train_balance_ups)"
   ]
  },
  {
   "cell_type": "markdown",
   "metadata": {
    "id": "Nd3Ny3V67OeW"
   },
   "source": [
    "#### Логистическая регрессия"
   ]
  },
  {
   "cell_type": "code",
   "execution_count": 100,
   "metadata": {
    "id": "2xPnEMBw7OeW"
   },
   "outputs": [],
   "source": [
    "imb_pipe_lr = make_pipeline(StandardScaler(),\n",
    "                            SMOTE(random_state=42),\n",
    "                            LogisticRegression(solver='lbfgs', random_state=42))\n",
    "parameters = {}"
   ]
  },
  {
   "cell_type": "code",
   "execution_count": 101,
   "metadata": {
    "id": "dwNfwKdQ7OeX"
   },
   "outputs": [],
   "source": [
    "grid_search_cv_lr = GridSearchCV(imb_pipe_lr,\n",
    "                                 parameters,\n",
    "                                 scoring=['f1', 'roc_auc'],\n",
    "                                 refit='f1',\n",
    "                                 n_jobs=-1,\n",
    "                                 cv=StratifiedKFold(4)).fit(X_train, y_train)"
   ]
  },
  {
   "cell_type": "code",
   "execution_count": 102,
   "metadata": {
    "id": "5SGYI-aG7OeX"
   },
   "outputs": [],
   "source": [
    "best_clf_lr_balance_ups = grid_search_cv_lr.best_estimator_"
   ]
  },
  {
   "cell_type": "code",
   "execution_count": 103,
   "metadata": {
    "id": "mBTMnjXX7OeX"
   },
   "outputs": [],
   "source": [
    "predictions_lr_train_balance_ups = best_clf_lr_balance_ups.predict(X_train)"
   ]
  },
  {
   "cell_type": "code",
   "execution_count": 104,
   "metadata": {
    "id": "fhERVvkS7OeX"
   },
   "outputs": [
    {
     "data": {
      "text/plain": [
       "0.4812294182217344"
      ]
     },
     "execution_count": 104,
     "metadata": {},
     "output_type": "execute_result"
    }
   ],
   "source": [
    "f1_score(y_train, predictions_lr_train_balance_ups)"
   ]
  },
  {
   "cell_type": "code",
   "execution_count": 105,
   "metadata": {
    "id": "eHTm2LAn7OeY"
   },
   "outputs": [
    {
     "data": {
      "text/plain": [
       "0.69263273974054"
      ]
     },
     "execution_count": 105,
     "metadata": {},
     "output_type": "execute_result"
    }
   ],
   "source": [
    "roc_auc_score(y_train, predictions_lr_train_balance_ups)"
   ]
  },
  {
   "cell_type": "markdown",
   "metadata": {
    "id": "YLpGa0Dy7OeY"
   },
   "source": [
    "## Тестирование моделей"
   ]
  },
  {
   "cell_type": "markdown",
   "metadata": {
    "id": "BrgfTEOz7OeY"
   },
   "source": [
    "#### Дерево решений"
   ]
  },
  {
   "cell_type": "code",
   "execution_count": 106,
   "metadata": {
    "id": "RN7F_kYf7OeY"
   },
   "outputs": [],
   "source": [
    "predictions_dt_test_disbalance = best_clf_dt_disbalance.predict(X_test)"
   ]
  },
  {
   "cell_type": "code",
   "execution_count": 107,
   "metadata": {
    "id": "Hqkl83647OeY"
   },
   "outputs": [
    {
     "data": {
      "text/plain": [
       "0.5471406491499227"
      ]
     },
     "execution_count": 107,
     "metadata": {},
     "output_type": "execute_result"
    }
   ],
   "source": [
    "f1_score(y_test, predictions_dt_test_disbalance)"
   ]
  },
  {
   "cell_type": "code",
   "execution_count": 108,
   "metadata": {
    "id": "V5tfJUrs7OeZ"
   },
   "outputs": [
    {
     "data": {
      "text/plain": [
       "0.6976707061452824"
      ]
     },
     "execution_count": 108,
     "metadata": {},
     "output_type": "execute_result"
    }
   ],
   "source": [
    "roc_auc_score(y_test, predictions_dt_test_disbalance)"
   ]
  },
  {
   "cell_type": "code",
   "execution_count": 109,
   "metadata": {
    "id": "n_TBcYl-7OeZ"
   },
   "outputs": [],
   "source": [
    "predictions_dt_test_balance_wgt = best_clf_dt_balance_wgt.predict(X_test)"
   ]
  },
  {
   "cell_type": "code",
   "execution_count": 110,
   "metadata": {
    "id": "wF_7LKqj7OeZ"
   },
   "outputs": [
    {
     "data": {
      "text/plain": [
       "0.5151515151515151"
      ]
     },
     "execution_count": 110,
     "metadata": {},
     "output_type": "execute_result"
    }
   ],
   "source": [
    "f1_score(y_test, predictions_dt_test_balance_wgt)"
   ]
  },
  {
   "cell_type": "code",
   "execution_count": 111,
   "metadata": {
    "id": "O0atzr1F7OeZ"
   },
   "outputs": [
    {
     "data": {
      "text/plain": [
       "0.6827937336411913"
      ]
     },
     "execution_count": 111,
     "metadata": {},
     "output_type": "execute_result"
    }
   ],
   "source": [
    "roc_auc_score(y_test, predictions_dt_test_balance_wgt)"
   ]
  },
  {
   "cell_type": "code",
   "execution_count": 112,
   "metadata": {
    "id": "Tl4nB-9h7Oea"
   },
   "outputs": [],
   "source": [
    "predictions_dt_test_balance_ups = best_clf_dt_balance_ups.predict(X_test)"
   ]
  },
  {
   "cell_type": "code",
   "execution_count": 113,
   "metadata": {
    "id": "VBiA3Bk07Oea"
   },
   "outputs": [
    {
     "data": {
      "text/plain": [
       "0.5589519650655022"
      ]
     },
     "execution_count": 113,
     "metadata": {},
     "output_type": "execute_result"
    }
   ],
   "source": [
    "f1_score(y_test, predictions_dt_test_balance_ups)"
   ]
  },
  {
   "cell_type": "code",
   "execution_count": 114,
   "metadata": {
    "id": "8ptqKOif7Oea"
   },
   "outputs": [
    {
     "data": {
      "text/plain": [
       "0.7350863961033453"
      ]
     },
     "execution_count": 114,
     "metadata": {},
     "output_type": "execute_result"
    }
   ],
   "source": [
    "roc_auc_score(y_test, predictions_dt_test_balance_ups)"
   ]
  },
  {
   "cell_type": "markdown",
   "metadata": {
    "id": "CvxM6I4P7Oea"
   },
   "source": [
    "#### Случайный лес"
   ]
  },
  {
   "cell_type": "code",
   "execution_count": 115,
   "metadata": {
    "id": "m4useank7Oea"
   },
   "outputs": [],
   "source": [
    "predictions_rf_test_disbalance = best_clf_rf_disbalance.predict(X_test)"
   ]
  },
  {
   "cell_type": "code",
   "execution_count": 116,
   "metadata": {
    "id": "bFSzIyZ37Oeb"
   },
   "outputs": [
    {
     "data": {
      "text/plain": [
       "0.578538102643857"
      ]
     },
     "execution_count": 116,
     "metadata": {},
     "output_type": "execute_result"
    }
   ],
   "source": [
    "f1_score(y_test, predictions_rf_test_disbalance)"
   ]
  },
  {
   "cell_type": "code",
   "execution_count": 117,
   "metadata": {
    "id": "EvE05ynP7Oeb"
   },
   "outputs": [
    {
     "data": {
      "text/plain": [
       "0.7128075687397721"
      ]
     },
     "execution_count": 117,
     "metadata": {},
     "output_type": "execute_result"
    }
   ],
   "source": [
    "roc_auc_score(y_test, predictions_rf_test_disbalance)"
   ]
  },
  {
   "cell_type": "code",
   "execution_count": 118,
   "metadata": {
    "id": "OYPbToDM7Oeb"
   },
   "outputs": [],
   "source": [
    "predictions_rf_test_balance_wgt = best_clf_rf_balance_wgt.predict(X_test)"
   ]
  },
  {
   "cell_type": "code",
   "execution_count": 119,
   "metadata": {
    "id": "gsAoDOaB7Oeb"
   },
   "outputs": [
    {
     "data": {
      "text/plain": [
       "0.5830815709969789"
      ]
     },
     "execution_count": 119,
     "metadata": {},
     "output_type": "execute_result"
    }
   ],
   "source": [
    "f1_score(y_test, predictions_rf_test_balance_wgt)"
   ]
  },
  {
   "cell_type": "code",
   "execution_count": 120,
   "metadata": {
    "id": "_Dz7-J6c7Oec"
   },
   "outputs": [
    {
     "data": {
      "text/plain": [
       "0.7176405989965313"
      ]
     },
     "execution_count": 120,
     "metadata": {},
     "output_type": "execute_result"
    }
   ],
   "source": [
    "roc_auc_score(y_test, predictions_rf_test_balance_wgt)"
   ]
  },
  {
   "cell_type": "code",
   "execution_count": 121,
   "metadata": {
    "id": "AoLPRiBM7Oec"
   },
   "outputs": [],
   "source": [
    "predictions_rf_test_balance_ups = best_clf_rf_balance_ups.predict(X_test)"
   ]
  },
  {
   "cell_type": "code",
   "execution_count": 122,
   "metadata": {
    "id": "3UBZlDFQ7Oec"
   },
   "outputs": [
    {
     "data": {
      "text/plain": [
       "0.6089965397923877"
      ]
     },
     "execution_count": 122,
     "metadata": {},
     "output_type": "execute_result"
    }
   ],
   "source": [
    "f1_score(y_test, predictions_rf_test_balance_ups)"
   ]
  },
  {
   "cell_type": "code",
   "execution_count": 123,
   "metadata": {
    "id": "eBTjQS7P7Oec"
   },
   "outputs": [
    {
     "data": {
      "text/plain": [
       "0.7628051780594154"
      ]
     },
     "execution_count": 123,
     "metadata": {},
     "output_type": "execute_result"
    }
   ],
   "source": [
    "roc_auc_score(y_test, predictions_rf_test_balance_ups)"
   ]
  },
  {
   "cell_type": "markdown",
   "metadata": {
    "id": "FTnl4vic7Oed"
   },
   "source": [
    "#### Логистическая регрессия"
   ]
  },
  {
   "cell_type": "code",
   "execution_count": 124,
   "metadata": {
    "id": "Mn3wQ-Gl7Oed"
   },
   "outputs": [
    {
     "name": "stdout",
     "output_type": "stream",
     "text": [
      "Порог = 0.26, F1-мера = 0.498, AUC-ROC = 0.500\n"
     ]
    }
   ],
   "source": [
    "probabilities_valid = best_clf_lr_disbalance.predict_proba(X_test)\n",
    "probabilities_one_valid = probabilities_valid[:, 1]\n",
    "f1 = 0\n",
    "auc_roc = 0\n",
    "thresh = 0\n",
    "for threshold in np.arange(0, 1, 0.02):\n",
    "    predicted = probabilities_one_valid > threshold\n",
    "    res = f1_score(y_test, predicted)\n",
    "    auc_roc = roc_auc_score(y_test, predicted)\n",
    "    if res > f1:\n",
    "        f1 = res\n",
    "        thresh = threshold\n",
    "print(\"Порог = {:.2f}, F1-мера = {:.3f}, AUC-ROC = {:.3f}\".format(thresh, f1, auc_roc))"
   ]
  },
  {
   "cell_type": "code",
   "execution_count": 125,
   "metadata": {
    "id": "OB6bXO4d7Oed"
   },
   "outputs": [
    {
     "name": "stdout",
     "output_type": "stream",
     "text": [
      "Порог = 0.54, F1-мера = 0.502, AUC-ROC = 0.500\n"
     ]
    }
   ],
   "source": [
    "probabilities_valid = best_clf_lr_balance_wgt.predict_proba(X_test)\n",
    "probabilities_one_valid = probabilities_valid[:, 1]\n",
    "f1 = 0\n",
    "auc_roc = 0\n",
    "thresh = 0\n",
    "for threshold in np.arange(0, 1, 0.02):\n",
    "    predicted = probabilities_one_valid > threshold\n",
    "    res = f1_score(y_test, predicted)\n",
    "    auc_roc = roc_auc_score(y_test, predicted)\n",
    "    if res > f1:\n",
    "        f1 = res\n",
    "        thresh = threshold\n",
    "print(\"Порог = {:.2f}, F1-мера = {:.3f}, AUC-ROC = {:.3f}\".format(thresh, f1, auc_roc))"
   ]
  },
  {
   "cell_type": "code",
   "execution_count": 126,
   "metadata": {
    "id": "4UK5q7bA7Oee"
   },
   "outputs": [
    {
     "name": "stdout",
     "output_type": "stream",
     "text": [
      "Порог = 0.50, F1-мера = 0.503, AUC-ROC = 0.500\n"
     ]
    }
   ],
   "source": [
    "probabilities_valid = best_clf_lr_balance_ups.predict_proba(X_test)\n",
    "probabilities_one_valid = probabilities_valid[:, 1]\n",
    "f1 = 0\n",
    "auc_roc = 0\n",
    "thresh = 0\n",
    "for threshold in np.arange(0, 1, 0.02):\n",
    "    predicted = probabilities_one_valid > threshold\n",
    "    res = f1_score(y_test, predicted)\n",
    "    auc_roc = roc_auc_score(y_test, predicted)\n",
    "    if res > f1:\n",
    "        f1 = res\n",
    "        thresh = threshold\n",
    "print(\"Порог = {:.2f}, F1-мера = {:.3f}, AUC-ROC = {:.3f}\".format(thresh, f1, auc_roc))"
   ]
  },
  {
   "cell_type": "markdown",
   "metadata": {
    "id": "Mw2wnBO87Oef"
   },
   "source": [
    "## Вывод"
   ]
  },
  {
   "cell_type": "markdown",
   "metadata": {
    "id": "8Gf4AhEX7Oef"
   },
   "source": [
    "##### F1-метрика\n",
    "**Дерево решений**\n",
    "+ дисбаланс 0.5471406491499227\n",
    "+ коррекция весов 0.5151515151515151\n",
    "+ оверемплинг 0.5589519650655022\n",
    "\n",
    "**Случайный лес**\n",
    "+ дисбаланс 0.578538102643857\n",
    "+ коррекция весов 0.5830815709969789\n",
    "+ апсемплинг 0.6089965397923877\n",
    "\n",
    "**Логистическая регрессия**\n",
    "+ дисбаланс 0.498\n",
    "+ коррекция весов 0.502\n",
    "+ апсемплинг 0.503\n",
    "\n",
    "Лучшей моделью оказался случайный лес, обученный на данных, к которым был применен оверсемплинг. Метрика AUC-ROC для него составляет 0.7628051780594154"
   ]
  },
  {
   "cell_type": "code",
   "execution_count": 127,
   "metadata": {},
   "outputs": [
    {
     "data": {
      "image/png": "[encoded data removed]",
      "text/plain": [
       "<Figure size 1008x648 with 1 Axes>"
      ]
     },
     "metadata": {},
     "output_type": "display_data"
    }
   ],
   "source": [
    "importances = best_clf_rf_balance_ups.steps[2][1].feature_importances_\n",
    "std = np.std([tree.feature_importances_ for tree in best_clf_rf_balance_ups.steps[2][1].estimators_], axis=0)\n",
    "forest_importances = pd.Series(importances, index=list(X.columns))\n",
    "\n",
    "fig, ax = plt.subplots()\n",
    "forest_importances.plot.bar(yerr=std, ax=ax)\n",
    "ax.set_title(\"Feature importances using MDI\")\n",
    "ax.set_ylabel(\"Mean decrease in impurity\")\n",
    "fig.tight_layout()"
   ]
  },
  {
   "cell_type": "code",
   "execution_count": 128,
   "metadata": {},
   "outputs": [
    {
     "data": {
      "image/png": "[encoded data removed]",
      "text/plain": [
       "<Figure size 1008x648 with 1 Axes>"
      ]
     },
     "metadata": {},
     "output_type": "display_data"
    }
   ],
   "source": [
    "result = permutation_importance(best_clf_rf_balance_ups,\n",
    "                                X_test,\n",
    "                                y_test,\n",
    "                                n_repeats=10,\n",
    "                                random_state=42,\n",
    "                                n_jobs=-1)\n",
    "forest_importances = pd.Series(result.importances_mean, index=list(X.columns))\n",
    "fig, ax = plt.subplots()\n",
    "forest_importances.plot.bar(yerr=result.importances_std, ax=ax)\n",
    "ax.set_title(\"Feature importances using permutation on full model\")\n",
    "ax.set_ylabel(\"Mean accuracy decrease\")\n",
    "fig.tight_layout()\n",
    "plt.show()"
   ]
  },
  {
   "cell_type": "markdown",
   "metadata": {},
   "source": [
    "Больше всего на отток клиента влияют возраст и количество продуктов в банке."
   ]
  }
 ],
 "metadata": {
  "ExecuteTimeLog": [
   {
    "duration": 1569,
    "start_time": "2021-11-10T11:08:48.770Z"
   },
   {
    "duration": 35,
    "start_time": "2021-11-10T11:08:57.751Z"
   },
   {
    "duration": 29,
    "start_time": "2021-11-10T11:09:19.801Z"
   },
   {
    "duration": 19,
    "start_time": "2021-11-10T11:09:38.456Z"
   },
   {
    "duration": 14,
    "start_time": "2021-11-10T11:10:43.041Z"
   },
   {
    "duration": 421,
    "start_time": "2021-11-10T11:11:58.971Z"
   },
   {
    "duration": 9,
    "start_time": "2021-11-10T11:12:06.094Z"
   },
   {
    "duration": 10,
    "start_time": "2021-11-10T11:12:34.620Z"
   },
   {
    "duration": 17,
    "start_time": "2021-11-10T11:12:56.554Z"
   },
   {
    "duration": 62,
    "start_time": "2021-11-10T11:20:25.697Z"
   },
   {
    "duration": 684,
    "start_time": "2021-11-10T11:20:55.660Z"
   },
   {
    "duration": 64,
    "start_time": "2021-11-10T11:21:27.222Z"
   },
   {
    "duration": 6,
    "start_time": "2021-11-10T11:22:11.824Z"
   },
   {
    "duration": 15,
    "start_time": "2021-11-10T11:22:43.087Z"
   },
   {
    "duration": 38,
    "start_time": "2021-11-10T11:25:49.386Z"
   },
   {
    "duration": 20,
    "start_time": "2021-11-10T11:25:50.104Z"
   },
   {
    "duration": 39,
    "start_time": "2021-11-10T11:26:47.001Z"
   },
   {
    "duration": 20,
    "start_time": "2021-11-10T11:26:47.573Z"
   },
   {
    "duration": 39,
    "start_time": "2021-11-10T11:26:56.296Z"
   },
   {
    "duration": 17,
    "start_time": "2021-11-10T11:26:56.874Z"
   },
   {
    "duration": 34,
    "start_time": "2021-11-10T11:27:09.832Z"
   },
   {
    "duration": 18,
    "start_time": "2021-11-10T11:27:10.348Z"
   },
   {
    "duration": 37,
    "start_time": "2021-11-10T11:27:17.281Z"
   },
   {
    "duration": 17,
    "start_time": "2021-11-10T11:27:18.110Z"
   },
   {
    "duration": 12,
    "start_time": "2021-11-10T11:27:21.324Z"
   },
   {
    "duration": 9,
    "start_time": "2021-11-10T11:27:35.800Z"
   },
   {
    "duration": 16,
    "start_time": "2021-11-10T11:27:37.722Z"
   },
   {
    "duration": 57,
    "start_time": "2021-11-10T11:27:38.292Z"
   },
   {
    "duration": 8,
    "start_time": "2021-11-10T11:27:40.632Z"
   },
   {
    "duration": 6,
    "start_time": "2021-11-10T11:39:03.400Z"
   },
   {
    "duration": 6,
    "start_time": "2021-11-10T11:39:33.164Z"
   },
   {
    "duration": 4,
    "start_time": "2021-11-10T11:39:49.094Z"
   },
   {
    "duration": 309,
    "start_time": "2021-11-10T11:39:58.256Z"
   },
   {
    "duration": 293,
    "start_time": "2021-11-10T11:40:05.542Z"
   },
   {
    "duration": 278,
    "start_time": "2021-11-10T11:42:17.752Z"
   },
   {
    "duration": 280,
    "start_time": "2021-11-10T11:42:54.448Z"
   },
   {
    "duration": 4,
    "start_time": "2021-11-10T11:43:04.683Z"
   },
   {
    "duration": 5,
    "start_time": "2021-11-10T11:43:09.052Z"
   },
   {
    "duration": 4,
    "start_time": "2021-11-10T11:43:23.574Z"
   },
   {
    "duration": 343,
    "start_time": "2021-11-10T11:43:24.239Z"
   },
   {
    "duration": 6,
    "start_time": "2021-11-10T11:43:24.787Z"
   },
   {
    "duration": 6,
    "start_time": "2021-11-10T11:44:10.851Z"
   },
   {
    "duration": 380,
    "start_time": "2021-11-10T11:44:17.319Z"
   },
   {
    "duration": 5,
    "start_time": "2021-11-10T11:44:21.371Z"
   },
   {
    "duration": 296,
    "start_time": "2021-11-10T11:44:24.755Z"
   },
   {
    "duration": 7,
    "start_time": "2021-11-10T11:44:27.899Z"
   },
   {
    "duration": 6,
    "start_time": "2021-11-10T11:45:12.409Z"
   },
   {
    "duration": 320,
    "start_time": "2021-11-10T11:45:16.659Z"
   },
   {
    "duration": 297,
    "start_time": "2021-11-10T11:45:55.350Z"
   },
   {
    "duration": 6,
    "start_time": "2021-11-10T11:46:08.732Z"
   },
   {
    "duration": 4,
    "start_time": "2021-11-10T11:46:25.755Z"
   },
   {
    "duration": 5,
    "start_time": "2021-11-10T11:46:28.040Z"
   },
   {
    "duration": 7,
    "start_time": "2021-11-10T11:46:43.935Z"
   },
   {
    "duration": 311,
    "start_time": "2021-11-10T11:46:45.147Z"
   },
   {
    "duration": 337,
    "start_time": "2021-11-10T11:47:27.235Z"
   },
   {
    "duration": 348,
    "start_time": "2021-11-10T11:47:49.221Z"
   },
   {
    "duration": 302,
    "start_time": "2021-11-10T11:48:06.144Z"
   },
   {
    "duration": 6,
    "start_time": "2021-11-10T11:48:16.472Z"
   },
   {
    "duration": 322,
    "start_time": "2021-11-10T11:48:38.116Z"
   },
   {
    "duration": 301,
    "start_time": "2021-11-10T11:49:16.746Z"
   },
   {
    "duration": 5,
    "start_time": "2021-11-10T11:54:16.356Z"
   },
   {
    "duration": 6,
    "start_time": "2021-11-10T11:55:10.974Z"
   },
   {
    "duration": 6,
    "start_time": "2021-11-10T11:55:31.666Z"
   },
   {
    "duration": 6,
    "start_time": "2021-11-10T11:55:35.300Z"
   },
   {
    "duration": 4,
    "start_time": "2021-11-10T11:56:10.485Z"
   },
   {
    "duration": 5,
    "start_time": "2021-11-10T11:56:28.265Z"
   },
   {
    "duration": 6,
    "start_time": "2021-11-10T11:56:30.793Z"
   },
   {
    "duration": 6,
    "start_time": "2021-11-10T11:57:13.855Z"
   },
   {
    "duration": 331,
    "start_time": "2021-11-10T11:57:45.444Z"
   },
   {
    "duration": 332,
    "start_time": "2021-11-10T11:58:05.500Z"
   },
   {
    "duration": 290,
    "start_time": "2021-11-10T11:58:36.299Z"
   },
   {
    "duration": 6,
    "start_time": "2021-11-10T11:58:47.805Z"
   },
   {
    "duration": 314,
    "start_time": "2021-11-10T11:59:27.178Z"
   },
   {
    "duration": 7,
    "start_time": "2021-11-10T12:00:04.263Z"
   },
   {
    "duration": 7,
    "start_time": "2021-11-10T12:00:14.065Z"
   },
   {
    "duration": 36,
    "start_time": "2021-11-10T12:01:30.139Z"
   },
   {
    "duration": 19,
    "start_time": "2021-11-10T12:01:49.299Z"
   },
   {
    "duration": 6,
    "start_time": "2021-11-10T12:01:53.983Z"
   },
   {
    "duration": 18,
    "start_time": "2021-11-10T12:01:55.771Z"
   },
   {
    "duration": 520,
    "start_time": "2021-11-10T12:02:11.361Z"
   },
   {
    "duration": 545,
    "start_time": "2021-11-10T12:02:37.099Z"
   },
   {
    "duration": 2940,
    "start_time": "2021-11-10T12:03:11.369Z"
   },
   {
    "duration": 6,
    "start_time": "2021-11-10T12:03:25.842Z"
   },
   {
    "duration": 22,
    "start_time": "2021-11-10T12:03:27.004Z"
   },
   {
    "duration": 5,
    "start_time": "2021-11-10T12:03:39.347Z"
   },
   {
    "duration": 8,
    "start_time": "2021-11-10T12:03:40.980Z"
   },
   {
    "duration": 17,
    "start_time": "2021-11-10T12:03:42.152Z"
   },
   {
    "duration": 474,
    "start_time": "2021-11-10T12:03:56.437Z"
   },
   {
    "duration": 4,
    "start_time": "2021-11-10T12:04:11.706Z"
   },
   {
    "duration": 106,
    "start_time": "2021-11-10T12:05:42.195Z"
   },
   {
    "duration": 35,
    "start_time": "2021-11-10T12:05:58.794Z"
   },
   {
    "duration": 19,
    "start_time": "2021-11-10T12:06:01.381Z"
   },
   {
    "duration": 6,
    "start_time": "2021-11-10T12:06:12.389Z"
   },
   {
    "duration": 17,
    "start_time": "2021-11-10T12:06:13.240Z"
   },
   {
    "duration": 6,
    "start_time": "2021-11-10T12:06:14.689Z"
   },
   {
    "duration": 7,
    "start_time": "2021-11-10T12:06:16.361Z"
   },
   {
    "duration": 18,
    "start_time": "2021-11-10T12:06:16.822Z"
   },
   {
    "duration": 8,
    "start_time": "2021-11-10T12:07:06.976Z"
   },
   {
    "duration": 61,
    "start_time": "2021-11-10T12:10:34.024Z"
   },
   {
    "duration": 23989,
    "start_time": "2021-11-10T12:10:51.301Z"
   },
   {
    "duration": 1248,
    "start_time": "2021-11-10T12:11:23.611Z"
   },
   {
    "duration": 1207,
    "start_time": "2021-11-10T12:11:32.591Z"
   },
   {
    "duration": 27769,
    "start_time": "2021-11-10T12:12:21.209Z"
   },
   {
    "duration": 361,
    "start_time": "2021-11-10T12:19:44.464Z"
   },
   {
    "duration": 6,
    "start_time": "2021-11-10T12:19:52.911Z"
   },
   {
    "duration": 263,
    "start_time": "2021-11-10T12:20:08.381Z"
   },
   {
    "duration": 5,
    "start_time": "2021-11-10T12:21:41.204Z"
   },
   {
    "duration": 5,
    "start_time": "2021-11-10T12:22:40.727Z"
   },
   {
    "duration": 1556,
    "start_time": "2021-11-10T12:24:26.484Z"
   },
   {
    "duration": 40,
    "start_time": "2021-11-10T12:24:29.416Z"
   },
   {
    "duration": 25,
    "start_time": "2021-11-10T12:24:32.149Z"
   },
   {
    "duration": 14,
    "start_time": "2021-11-10T12:24:39.788Z"
   },
   {
    "duration": 11,
    "start_time": "2021-11-10T12:24:40.457Z"
   },
   {
    "duration": 18,
    "start_time": "2021-11-10T12:24:44.155Z"
   },
   {
    "duration": 61,
    "start_time": "2021-11-10T12:24:45.061Z"
   },
   {
    "duration": 13,
    "start_time": "2021-11-10T12:24:46.237Z"
   },
   {
    "duration": 8,
    "start_time": "2021-11-10T12:25:50.234Z"
   },
   {
    "duration": 501,
    "start_time": "2021-11-10T12:26:19.920Z"
   },
   {
    "duration": 304,
    "start_time": "2021-11-10T12:26:45.880Z"
   },
   {
    "duration": 288,
    "start_time": "2021-11-10T12:27:08.709Z"
   },
   {
    "duration": 101,
    "start_time": "2021-11-10T12:27:48.897Z"
   },
   {
    "duration": 106,
    "start_time": "2021-11-10T12:28:04.616Z"
   },
   {
    "duration": 417,
    "start_time": "2021-11-10T12:28:21.346Z"
   },
   {
    "duration": 311,
    "start_time": "2021-11-10T12:28:25.841Z"
   },
   {
    "duration": 306,
    "start_time": "2021-11-10T12:28:32.381Z"
   },
   {
    "duration": 323,
    "start_time": "2021-11-10T12:28:40.980Z"
   },
   {
    "duration": 93,
    "start_time": "2021-11-10T12:28:45.867Z"
   },
   {
    "duration": 33,
    "start_time": "2021-11-10T12:29:42.318Z"
   },
   {
    "duration": 11,
    "start_time": "2021-11-10T12:35:43.331Z"
   },
   {
    "duration": 39,
    "start_time": "2021-11-10T12:37:19.126Z"
   },
   {
    "duration": 314,
    "start_time": "2021-11-10T12:39:45.607Z"
   },
   {
    "duration": 7,
    "start_time": "2021-11-10T12:39:49.644Z"
   },
   {
    "duration": 12,
    "start_time": "2021-11-10T12:40:02.689Z"
   },
   {
    "duration": 8,
    "start_time": "2021-11-10T12:43:02.193Z"
   },
   {
    "duration": 7,
    "start_time": "2021-11-10T12:43:13.645Z"
   },
   {
    "duration": 7,
    "start_time": "2021-11-10T12:43:42.624Z"
   },
   {
    "duration": 8,
    "start_time": "2021-11-10T12:44:15.126Z"
   },
   {
    "duration": 15,
    "start_time": "2021-11-10T12:45:45.453Z"
   },
   {
    "duration": 6,
    "start_time": "2021-11-10T12:48:59.393Z"
   },
   {
    "duration": 318,
    "start_time": "2021-11-10T12:50:59.428Z"
   },
   {
    "duration": 1807,
    "start_time": "2021-11-10T12:51:18.682Z"
   },
   {
    "duration": 1945,
    "start_time": "2021-11-10T12:51:40.285Z"
   },
   {
    "duration": 2099,
    "start_time": "2021-11-10T12:51:54.535Z"
   },
   {
    "duration": 2384,
    "start_time": "2021-11-10T12:52:07.831Z"
   },
   {
    "duration": 1830,
    "start_time": "2021-11-10T12:52:36.746Z"
   },
   {
    "duration": 691,
    "start_time": "2021-11-10T12:52:52.942Z"
   },
   {
    "duration": 1528,
    "start_time": "2021-11-10T12:53:07.814Z"
   },
   {
    "duration": 774,
    "start_time": "2021-11-10T12:53:18.899Z"
   },
   {
    "duration": 694,
    "start_time": "2021-11-10T12:53:27.966Z"
   },
   {
    "duration": 11,
    "start_time": "2021-11-10T12:53:58.820Z"
   },
   {
    "duration": 767,
    "start_time": "2021-11-10T12:57:51.069Z"
   },
   {
    "duration": 712,
    "start_time": "2021-11-10T12:58:05.581Z"
   },
   {
    "duration": 326,
    "start_time": "2021-11-10T13:10:57.708Z"
   },
   {
    "duration": 6,
    "start_time": "2021-11-10T13:11:12.076Z"
   },
   {
    "duration": 468,
    "start_time": "2021-11-10T13:11:22.800Z"
   },
   {
    "duration": 10,
    "start_time": "2021-11-10T13:23:41.422Z"
   },
   {
    "duration": 11,
    "start_time": "2021-11-10T13:24:25.258Z"
   },
   {
    "duration": 608,
    "start_time": "2021-11-10T13:24:32.647Z"
   },
   {
    "duration": 21108,
    "start_time": "2021-11-10T13:24:37.773Z"
   },
   {
    "duration": 1023,
    "start_time": "2021-11-10T13:25:02.089Z"
   },
   {
    "duration": 16,
    "start_time": "2021-11-10T13:33:40.327Z"
   },
   {
    "duration": 6,
    "start_time": "2021-11-10T13:37:20.749Z"
   },
   {
    "duration": 326,
    "start_time": "2021-11-10T13:39:12.419Z"
   },
   {
    "duration": 17,
    "start_time": "2021-11-10T13:44:25.266Z"
   },
   {
    "duration": 311,
    "start_time": "2021-11-10T13:45:18.283Z"
   },
   {
    "duration": 23,
    "start_time": "2021-11-10T13:46:02.497Z"
   },
   {
    "duration": 12,
    "start_time": "2021-11-10T13:46:08.655Z"
   },
   {
    "duration": 19,
    "start_time": "2021-11-10T13:46:16.429Z"
   },
   {
    "duration": 78,
    "start_time": "2021-11-10T13:47:10.788Z"
   },
   {
    "duration": 41359,
    "start_time": "2021-11-10T13:47:24.246Z"
   },
   {
    "duration": 43420,
    "start_time": "2021-11-10T13:48:38.589Z"
   },
   {
    "duration": 1326,
    "start_time": "2021-11-10T13:49:38.672Z"
   },
   {
    "duration": 1448,
    "start_time": "2021-11-10T13:49:46.732Z"
   },
   {
    "duration": 1425,
    "start_time": "2021-11-10T13:49:52.491Z"
   },
   {
    "duration": 5,
    "start_time": "2021-11-10T13:50:10.034Z"
   },
   {
    "duration": 35,
    "start_time": "2021-11-10T13:50:14.478Z"
   },
   {
    "duration": 541,
    "start_time": "2021-11-10T13:51:17.505Z"
   },
   {
    "duration": 9,
    "start_time": "2021-11-10T13:52:37.517Z"
   },
   {
    "duration": 521,
    "start_time": "2021-11-10T13:53:10.106Z"
   },
   {
    "duration": 8,
    "start_time": "2021-11-10T13:53:23.687Z"
   },
   {
    "duration": 13,
    "start_time": "2021-11-10T13:54:12.756Z"
   },
   {
    "duration": 5,
    "start_time": "2021-11-10T13:54:26.468Z"
   },
   {
    "duration": 5,
    "start_time": "2021-11-10T13:54:34.628Z"
   },
   {
    "duration": 5,
    "start_time": "2021-11-10T13:54:41.401Z"
   },
   {
    "duration": 5,
    "start_time": "2021-11-10T13:54:47.881Z"
   },
   {
    "duration": 6,
    "start_time": "2021-11-10T13:54:55.223Z"
   },
   {
    "duration": 6,
    "start_time": "2021-11-10T13:55:24.149Z"
   },
   {
    "duration": 8,
    "start_time": "2021-11-10T13:55:32.050Z"
   },
   {
    "duration": 6,
    "start_time": "2021-11-10T13:55:39.325Z"
   },
   {
    "duration": 19,
    "start_time": "2021-11-10T13:57:01.457Z"
   },
   {
    "duration": 102,
    "start_time": "2021-11-10T13:57:31.827Z"
   },
   {
    "duration": 69,
    "start_time": "2021-11-10T13:59:44.934Z"
   },
   {
    "duration": 99,
    "start_time": "2021-11-10T14:00:00.674Z"
   },
   {
    "duration": 1518,
    "start_time": "2021-11-10T16:51:35.913Z"
   },
   {
    "duration": 42,
    "start_time": "2021-11-10T16:51:37.435Z"
   },
   {
    "duration": 24,
    "start_time": "2021-11-10T16:51:37.481Z"
   },
   {
    "duration": 14,
    "start_time": "2021-11-10T16:51:37.509Z"
   },
   {
    "duration": 46,
    "start_time": "2021-11-10T16:51:37.526Z"
   },
   {
    "duration": 18,
    "start_time": "2021-11-10T16:51:37.575Z"
   },
   {
    "duration": 87,
    "start_time": "2021-11-10T16:51:37.596Z"
   },
   {
    "duration": 8,
    "start_time": "2021-11-10T16:51:37.686Z"
   },
   {
    "duration": 6,
    "start_time": "2021-11-10T16:51:37.698Z"
   },
   {
    "duration": 6,
    "start_time": "2021-11-10T16:51:41.344Z"
   },
   {
    "duration": 6918,
    "start_time": "2021-11-10T16:51:48.024Z"
   },
   {
    "duration": 7,
    "start_time": "2021-11-10T16:52:02.342Z"
   },
   {
    "duration": 7,
    "start_time": "2021-11-10T16:52:03.314Z"
   },
   {
    "duration": 12,
    "start_time": "2021-11-10T16:52:06.236Z"
   },
   {
    "duration": 631,
    "start_time": "2021-11-10T16:52:07.547Z"
   },
   {
    "duration": 1660,
    "start_time": "2021-11-10T16:56:43.668Z"
   },
   {
    "duration": 6,
    "start_time": "2021-11-10T17:00:32.456Z"
   },
   {
    "duration": 6015,
    "start_time": "2021-11-10T17:00:34.228Z"
   },
   {
    "duration": 289,
    "start_time": "2021-11-10T17:02:38.115Z"
   },
   {
    "duration": 19,
    "start_time": "2021-11-10T17:02:58.881Z"
   },
   {
    "duration": 18,
    "start_time": "2021-11-10T17:03:01.358Z"
   },
   {
    "duration": 894,
    "start_time": "2021-11-10T17:03:54.476Z"
   },
   {
    "duration": 33439,
    "start_time": "2021-11-10T17:04:05.828Z"
   },
   {
    "duration": 12,
    "start_time": "2021-11-10T17:06:08.909Z"
   },
   {
    "duration": 10,
    "start_time": "2021-11-10T17:07:07.976Z"
   },
   {
    "duration": 7,
    "start_time": "2021-11-10T17:07:30.833Z"
   },
   {
    "duration": 405,
    "start_time": "2021-11-10T17:07:48.251Z"
   },
   {
    "duration": 7,
    "start_time": "2021-11-10T17:07:52.133Z"
   },
   {
    "duration": 1661,
    "start_time": "2021-11-10T17:08:24.887Z"
   },
   {
    "duration": 38,
    "start_time": "2021-11-10T17:08:26.551Z"
   },
   {
    "duration": 23,
    "start_time": "2021-11-10T17:08:26.593Z"
   },
   {
    "duration": 13,
    "start_time": "2021-11-10T17:08:26.620Z"
   },
   {
    "duration": 10,
    "start_time": "2021-11-10T17:08:26.669Z"
   },
   {
    "duration": 19,
    "start_time": "2021-11-10T17:08:26.681Z"
   },
   {
    "duration": 80,
    "start_time": "2021-11-10T17:08:26.703Z"
   },
   {
    "duration": 9,
    "start_time": "2021-11-10T17:08:26.786Z"
   },
   {
    "duration": 7,
    "start_time": "2021-11-10T17:08:26.799Z"
   },
   {
    "duration": 6,
    "start_time": "2021-11-10T17:08:26.809Z"
   },
   {
    "duration": 14,
    "start_time": "2021-11-10T17:08:26.818Z"
   },
   {
    "duration": 6,
    "start_time": "2021-11-10T17:08:26.868Z"
   },
   {
    "duration": 13,
    "start_time": "2021-11-10T17:08:26.876Z"
   },
   {
    "duration": 645,
    "start_time": "2021-11-10T17:08:26.892Z"
   },
   {
    "duration": 7,
    "start_time": "2021-11-10T17:08:27.539Z"
   },
   {
    "duration": 24,
    "start_time": "2021-11-10T17:08:27.549Z"
   },
   {
    "duration": 6098,
    "start_time": "2021-11-10T17:08:27.575Z"
   },
   {
    "duration": 6,
    "start_time": "2021-11-10T17:08:33.675Z"
   },
   {
    "duration": 1529,
    "start_time": "2021-11-10T17:09:51.508Z"
   },
   {
    "duration": 38,
    "start_time": "2021-11-10T17:09:53.039Z"
   },
   {
    "duration": 23,
    "start_time": "2021-11-10T17:09:53.080Z"
   },
   {
    "duration": 16,
    "start_time": "2021-11-10T17:09:53.106Z"
   },
   {
    "duration": 9,
    "start_time": "2021-11-10T17:09:53.125Z"
   },
   {
    "duration": 46,
    "start_time": "2021-11-10T17:09:53.136Z"
   },
   {
    "duration": 82,
    "start_time": "2021-11-10T17:09:53.184Z"
   },
   {
    "duration": 10,
    "start_time": "2021-11-10T17:09:53.271Z"
   },
   {
    "duration": 6,
    "start_time": "2021-11-10T17:09:53.284Z"
   },
   {
    "duration": 6,
    "start_time": "2021-11-10T17:09:53.293Z"
   },
   {
    "duration": 9,
    "start_time": "2021-11-10T17:09:53.301Z"
   },
   {
    "duration": 8,
    "start_time": "2021-11-10T17:09:53.312Z"
   },
   {
    "duration": 11,
    "start_time": "2021-11-10T17:09:53.368Z"
   },
   {
    "duration": 627,
    "start_time": "2021-11-10T17:09:53.381Z"
   },
   {
    "duration": 6,
    "start_time": "2021-11-10T17:09:54.010Z"
   },
   {
    "duration": 7,
    "start_time": "2021-11-10T17:09:54.018Z"
   },
   {
    "duration": 945,
    "start_time": "2021-11-10T17:09:54.027Z"
   },
   {
    "duration": 315,
    "start_time": "2021-11-10T17:09:54.660Z"
   },
   {
    "duration": 5,
    "start_time": "2021-11-10T17:10:39.820Z"
   },
   {
    "duration": 6,
    "start_time": "2021-11-10T17:10:54.916Z"
   },
   {
    "duration": 841,
    "start_time": "2021-11-10T17:10:57.622Z"
   },
   {
    "duration": 6,
    "start_time": "2021-11-10T17:11:20.057Z"
   },
   {
    "duration": 1100,
    "start_time": "2021-11-10T17:11:22.271Z"
   },
   {
    "duration": 6,
    "start_time": "2021-11-10T17:11:58.145Z"
   },
   {
    "duration": 567,
    "start_time": "2021-11-10T17:11:59.207Z"
   },
   {
    "duration": 6,
    "start_time": "2021-11-10T17:12:33.694Z"
   },
   {
    "duration": 6470,
    "start_time": "2021-11-10T17:12:34.973Z"
   },
   {
    "duration": 5,
    "start_time": "2021-11-10T17:13:07.452Z"
   },
   {
    "duration": 805,
    "start_time": "2021-11-10T17:13:08.742Z"
   },
   {
    "duration": 105,
    "start_time": "2021-11-10T17:13:34.044Z"
   },
   {
    "duration": 92,
    "start_time": "2021-11-10T17:14:21.842Z"
   },
   {
    "duration": 6,
    "start_time": "2021-11-10T17:14:35.211Z"
   },
   {
    "duration": 6510,
    "start_time": "2021-11-10T17:14:37.399Z"
   },
   {
    "duration": 8,
    "start_time": "2021-11-10T17:14:46.799Z"
   },
   {
    "duration": 1658,
    "start_time": "2021-11-10T17:15:16.480Z"
   },
   {
    "duration": 42,
    "start_time": "2021-11-10T17:15:18.141Z"
   },
   {
    "duration": 22,
    "start_time": "2021-11-10T17:15:18.186Z"
   },
   {
    "duration": 13,
    "start_time": "2021-11-10T17:15:18.211Z"
   },
   {
    "duration": 11,
    "start_time": "2021-11-10T17:15:18.226Z"
   },
   {
    "duration": 18,
    "start_time": "2021-11-10T17:15:18.268Z"
   },
   {
    "duration": 77,
    "start_time": "2021-11-10T17:15:18.289Z"
   },
   {
    "duration": 8,
    "start_time": "2021-11-10T17:15:18.368Z"
   },
   {
    "duration": 7,
    "start_time": "2021-11-10T17:15:18.380Z"
   },
   {
    "duration": 6,
    "start_time": "2021-11-10T17:15:18.390Z"
   },
   {
    "duration": 14,
    "start_time": "2021-11-10T17:15:18.399Z"
   },
   {
    "duration": 54,
    "start_time": "2021-11-10T17:15:18.415Z"
   },
   {
    "duration": 21,
    "start_time": "2021-11-10T17:15:18.472Z"
   },
   {
    "duration": 633,
    "start_time": "2021-11-10T17:15:18.496Z"
   },
   {
    "duration": 7,
    "start_time": "2021-11-10T17:15:19.131Z"
   },
   {
    "duration": 6,
    "start_time": "2021-11-10T17:15:19.140Z"
   },
   {
    "duration": 6685,
    "start_time": "2021-11-10T17:15:19.168Z"
   },
   {
    "duration": 16,
    "start_time": "2021-11-10T17:15:25.856Z"
   },
   {
    "duration": 18,
    "start_time": "2021-11-10T17:15:39.148Z"
   },
   {
    "duration": 19,
    "start_time": "2021-11-10T17:15:40.468Z"
   },
   {
    "duration": 657,
    "start_time": "2021-11-10T17:16:05.218Z"
   },
   {
    "duration": 34715,
    "start_time": "2021-11-10T17:16:07.398Z"
   },
   {
    "duration": 1548,
    "start_time": "2021-11-10T17:19:39.526Z"
   },
   {
    "duration": 37,
    "start_time": "2021-11-10T17:19:41.077Z"
   },
   {
    "duration": 24,
    "start_time": "2021-11-10T17:19:41.116Z"
   },
   {
    "duration": 26,
    "start_time": "2021-11-10T17:19:41.142Z"
   },
   {
    "duration": 9,
    "start_time": "2021-11-10T17:19:41.170Z"
   },
   {
    "duration": 16,
    "start_time": "2021-11-10T17:19:41.182Z"
   },
   {
    "duration": 89,
    "start_time": "2021-11-10T17:19:41.200Z"
   },
   {
    "duration": 9,
    "start_time": "2021-11-10T17:19:41.291Z"
   },
   {
    "duration": 7,
    "start_time": "2021-11-10T17:19:41.304Z"
   },
   {
    "duration": 6,
    "start_time": "2021-11-10T17:19:41.314Z"
   },
   {
    "duration": 46,
    "start_time": "2021-11-10T17:19:41.323Z"
   },
   {
    "duration": 7,
    "start_time": "2021-11-10T17:19:41.371Z"
   },
   {
    "duration": 15,
    "start_time": "2021-11-10T17:19:41.380Z"
   },
   {
    "duration": 635,
    "start_time": "2021-11-10T17:19:41.398Z"
   },
   {
    "duration": 6,
    "start_time": "2021-11-10T17:19:42.036Z"
   },
   {
    "duration": 246,
    "start_time": "2021-11-10T17:19:42.044Z"
   },
   {
    "duration": 18,
    "start_time": "2021-11-10T17:19:42.292Z"
   },
   {
    "duration": 20,
    "start_time": "2021-11-10T17:19:42.312Z"
   },
   {
    "duration": 657,
    "start_time": "2021-11-10T17:19:42.334Z"
   },
   {
    "duration": 33344,
    "start_time": "2021-11-10T17:19:42.993Z"
   },
   {
    "duration": 1282,
    "start_time": "2021-11-10T17:20:16.340Z"
   },
   {
    "duration": 6,
    "start_time": "2021-11-10T17:21:22.793Z"
   },
   {
    "duration": 442,
    "start_time": "2021-11-10T17:21:26.577Z"
   },
   {
    "duration": 33,
    "start_time": "2021-11-10T17:22:09.781Z"
   },
   {
    "duration": 18,
    "start_time": "2021-11-10T17:22:13.851Z"
   },
   {
    "duration": 14,
    "start_time": "2021-11-10T17:22:18.375Z"
   },
   {
    "duration": 5,
    "start_time": "2021-11-10T17:22:19.703Z"
   },
   {
    "duration": 6,
    "start_time": "2021-11-10T17:22:20.269Z"
   },
   {
    "duration": 5,
    "start_time": "2021-11-10T17:22:21.225Z"
   },
   {
    "duration": 6,
    "start_time": "2021-11-10T17:22:21.729Z"
   },
   {
    "duration": 6,
    "start_time": "2021-11-10T17:22:22.335Z"
   },
   {
    "duration": 6,
    "start_time": "2021-11-10T17:22:22.839Z"
   },
   {
    "duration": 5,
    "start_time": "2021-11-10T17:22:23.927Z"
   },
   {
    "duration": 7,
    "start_time": "2021-11-10T17:22:24.409Z"
   },
   {
    "duration": 536,
    "start_time": "2021-11-10T17:23:25.526Z"
   },
   {
    "duration": 12,
    "start_time": "2021-11-10T17:23:28.506Z"
   },
   {
    "duration": 6,
    "start_time": "2021-11-10T18:17:22.038Z"
   },
   {
    "duration": 537,
    "start_time": "2021-11-10T18:17:31.436Z"
   },
   {
    "duration": 6,
    "start_time": "2021-11-10T18:18:02.602Z"
   },
   {
    "duration": 17,
    "start_time": "2021-11-10T18:18:10.070Z"
   },
   {
    "duration": 508,
    "start_time": "2021-11-10T18:18:34.286Z"
   },
   {
    "duration": 5,
    "start_time": "2021-11-10T18:32:39.246Z"
   },
   {
    "duration": 1580,
    "start_time": "2021-11-10T18:42:09.856Z"
   },
   {
    "duration": 37,
    "start_time": "2021-11-10T18:42:11.439Z"
   },
   {
    "duration": 22,
    "start_time": "2021-11-10T18:42:11.479Z"
   },
   {
    "duration": 16,
    "start_time": "2021-11-10T18:42:11.504Z"
   },
   {
    "duration": 9,
    "start_time": "2021-11-10T18:42:11.522Z"
   },
   {
    "duration": 45,
    "start_time": "2021-11-10T18:42:11.533Z"
   },
   {
    "duration": 59,
    "start_time": "2021-11-10T18:42:11.581Z"
   },
   {
    "duration": 32,
    "start_time": "2021-11-10T18:42:11.644Z"
   },
   {
    "duration": 6,
    "start_time": "2021-11-10T18:42:11.679Z"
   },
   {
    "duration": 6,
    "start_time": "2021-11-10T18:42:11.688Z"
   },
   {
    "duration": 13,
    "start_time": "2021-11-10T18:42:11.696Z"
   },
   {
    "duration": 7,
    "start_time": "2021-11-10T18:42:11.711Z"
   },
   {
    "duration": 55,
    "start_time": "2021-11-10T18:42:11.720Z"
   },
   {
    "duration": 627,
    "start_time": "2021-11-10T18:42:11.777Z"
   },
   {
    "duration": 6,
    "start_time": "2021-11-10T18:42:12.406Z"
   },
   {
    "duration": 265,
    "start_time": "2021-11-10T18:42:12.415Z"
   },
   {
    "duration": 18,
    "start_time": "2021-11-10T18:42:12.683Z"
   },
   {
    "duration": 18,
    "start_time": "2021-11-10T18:42:12.703Z"
   },
   {
    "duration": 736,
    "start_time": "2021-11-10T18:42:12.724Z"
   },
   {
    "duration": 32413,
    "start_time": "2021-11-10T18:42:13.463Z"
   },
   {
    "duration": 1304,
    "start_time": "2021-11-10T18:42:45.878Z"
   },
   {
    "duration": 5,
    "start_time": "2021-11-10T18:42:47.185Z"
   },
   {
    "duration": 34,
    "start_time": "2021-11-10T18:42:47.195Z"
   },
   {
    "duration": 46,
    "start_time": "2021-11-10T18:42:47.231Z"
   },
   {
    "duration": 13,
    "start_time": "2021-11-10T18:42:47.279Z"
   },
   {
    "duration": 5,
    "start_time": "2021-11-10T18:42:47.295Z"
   },
   {
    "duration": 9,
    "start_time": "2021-11-10T18:42:47.303Z"
   },
   {
    "duration": 9,
    "start_time": "2021-11-10T18:42:47.315Z"
   },
   {
    "duration": 41,
    "start_time": "2021-11-10T18:42:47.327Z"
   },
   {
    "duration": 6,
    "start_time": "2021-11-10T18:42:47.371Z"
   },
   {
    "duration": 15,
    "start_time": "2021-11-10T18:42:47.379Z"
   },
   {
    "duration": 14,
    "start_time": "2021-11-10T18:42:47.396Z"
   },
   {
    "duration": 10,
    "start_time": "2021-11-10T18:42:47.412Z"
   },
   {
    "duration": 4,
    "start_time": "2021-11-10T18:52:47.617Z"
   },
   {
    "duration": 5,
    "start_time": "2021-11-10T18:55:44.304Z"
   },
   {
    "duration": 6,
    "start_time": "2021-11-10T19:05:33.647Z"
   },
   {
    "duration": 1524,
    "start_time": "2021-11-11T07:36:23.167Z"
   },
   {
    "duration": 36,
    "start_time": "2021-11-11T07:36:24.693Z"
   },
   {
    "duration": 23,
    "start_time": "2021-11-11T07:36:24.731Z"
   },
   {
    "duration": 34,
    "start_time": "2021-11-11T07:36:24.756Z"
   },
   {
    "duration": 23,
    "start_time": "2021-11-11T07:36:24.793Z"
   },
   {
    "duration": 43,
    "start_time": "2021-11-11T07:36:24.818Z"
   },
   {
    "duration": 66,
    "start_time": "2021-11-11T07:36:24.863Z"
   },
   {
    "duration": 9,
    "start_time": "2021-11-11T07:36:24.932Z"
   },
   {
    "duration": 25,
    "start_time": "2021-11-11T07:36:24.944Z"
   },
   {
    "duration": 28,
    "start_time": "2021-11-11T07:36:24.972Z"
   },
   {
    "duration": 37,
    "start_time": "2021-11-11T07:36:25.002Z"
   },
   {
    "duration": 27,
    "start_time": "2021-11-11T07:36:25.041Z"
   },
   {
    "duration": 35,
    "start_time": "2021-11-11T07:36:25.070Z"
   },
   {
    "duration": 571,
    "start_time": "2021-11-11T07:36:25.107Z"
   },
   {
    "duration": 5,
    "start_time": "2021-11-11T07:36:25.681Z"
   },
   {
    "duration": 236,
    "start_time": "2021-11-11T07:36:25.689Z"
   },
   {
    "duration": 17,
    "start_time": "2021-11-11T07:36:25.929Z"
   },
   {
    "duration": 28,
    "start_time": "2021-11-11T07:36:25.948Z"
   },
   {
    "duration": 663,
    "start_time": "2021-11-11T07:36:25.978Z"
   },
   {
    "duration": 33528,
    "start_time": "2021-11-11T07:36:26.644Z"
   },
   {
    "duration": 1303,
    "start_time": "2021-11-11T07:37:00.174Z"
   },
   {
    "duration": 7,
    "start_time": "2021-11-11T07:37:01.480Z"
   },
   {
    "duration": 61,
    "start_time": "2021-11-11T07:37:01.494Z"
   },
   {
    "duration": 19,
    "start_time": "2021-11-11T07:37:01.558Z"
   },
   {
    "duration": 26,
    "start_time": "2021-11-11T07:37:01.580Z"
   },
   {
    "duration": 22,
    "start_time": "2021-11-11T07:37:01.609Z"
   },
   {
    "duration": 10,
    "start_time": "2021-11-11T07:37:01.634Z"
   },
   {
    "duration": 9,
    "start_time": "2021-11-11T07:37:01.647Z"
   },
   {
    "duration": 8,
    "start_time": "2021-11-11T07:37:01.659Z"
   },
   {
    "duration": 9,
    "start_time": "2021-11-11T07:37:01.670Z"
   },
   {
    "duration": 49,
    "start_time": "2021-11-11T07:37:01.682Z"
   },
   {
    "duration": 16,
    "start_time": "2021-11-11T07:37:01.734Z"
   },
   {
    "duration": 8,
    "start_time": "2021-11-11T07:37:01.753Z"
   },
   {
    "duration": 17,
    "start_time": "2021-11-11T07:37:01.764Z"
   },
   {
    "duration": 38,
    "start_time": "2021-11-11T07:37:01.784Z"
   },
   {
    "duration": 449,
    "start_time": "2021-11-11T07:37:01.824Z"
   },
   {
    "duration": 98,
    "start_time": "2021-11-11T07:50:17.813Z"
   },
   {
    "duration": 277,
    "start_time": "2021-11-11T07:50:22.055Z"
   },
   {
    "duration": 325,
    "start_time": "2021-11-11T07:50:28.553Z"
   },
   {
    "duration": 5,
    "start_time": "2021-11-11T07:50:46.756Z"
   },
   {
    "duration": 291,
    "start_time": "2021-11-11T07:50:48.750Z"
   },
   {
    "duration": 350,
    "start_time": "2021-11-11T07:50:53.450Z"
   },
   {
    "duration": 267,
    "start_time": "2021-11-11T07:51:17.260Z"
   },
   {
    "duration": 4,
    "start_time": "2021-11-11T17:11:18.984Z"
   },
   {
    "duration": 5,
    "start_time": "2021-11-11T17:11:19.580Z"
   },
   {
    "duration": 294,
    "start_time": "2021-11-11T17:11:28.008Z"
   },
   {
    "duration": 4,
    "start_time": "2021-11-11T17:14:41.785Z"
   },
   {
    "duration": 332,
    "start_time": "2021-11-11T17:14:45.963Z"
   },
   {
    "duration": 453,
    "start_time": "2021-11-11T17:14:57.045Z"
   },
   {
    "duration": 4,
    "start_time": "2021-11-11T17:15:15.806Z"
   },
   {
    "duration": 4,
    "start_time": "2021-11-11T17:15:16.400Z"
   },
   {
    "duration": 285,
    "start_time": "2021-11-11T17:15:17.198Z"
   },
   {
    "duration": 4,
    "start_time": "2021-11-11T17:15:30.445Z"
   },
   {
    "duration": 315,
    "start_time": "2021-11-11T17:15:31.292Z"
   },
   {
    "duration": 453,
    "start_time": "2021-11-11T17:15:42.039Z"
   },
   {
    "duration": 1155,
    "start_time": "2021-11-12T21:24:32.604Z"
   },
   {
    "duration": 32,
    "start_time": "2021-11-12T21:24:33.761Z"
   },
   {
    "duration": 14,
    "start_time": "2021-11-12T21:24:33.795Z"
   },
   {
    "duration": 8,
    "start_time": "2021-11-12T21:24:33.811Z"
   },
   {
    "duration": 7,
    "start_time": "2021-11-12T21:24:33.821Z"
   },
   {
    "duration": 20,
    "start_time": "2021-11-12T21:24:33.829Z"
   },
   {
    "duration": 48,
    "start_time": "2021-11-12T21:24:33.850Z"
   },
   {
    "duration": 7,
    "start_time": "2021-11-12T21:24:33.901Z"
   },
   {
    "duration": 4,
    "start_time": "2021-11-12T21:24:33.910Z"
   },
   {
    "duration": 11,
    "start_time": "2021-11-12T21:24:33.916Z"
   },
   {
    "duration": 10,
    "start_time": "2021-11-12T21:24:33.929Z"
   },
   {
    "duration": 14,
    "start_time": "2021-11-12T21:24:33.940Z"
   },
   {
    "duration": 8,
    "start_time": "2021-11-12T21:24:33.956Z"
   },
   {
    "duration": 366,
    "start_time": "2021-11-12T21:24:33.966Z"
   },
   {
    "duration": 4,
    "start_time": "2021-11-12T21:24:34.333Z"
   },
   {
    "duration": 141,
    "start_time": "2021-11-12T21:24:34.338Z"
   },
   {
    "duration": 15,
    "start_time": "2021-11-12T21:24:34.480Z"
   },
   {
    "duration": 10,
    "start_time": "2021-11-12T21:24:34.496Z"
   },
   {
    "duration": 305,
    "start_time": "2021-11-12T21:24:34.508Z"
   },
   {
    "duration": 18589,
    "start_time": "2021-11-12T21:24:34.815Z"
   },
   {
    "duration": 824,
    "start_time": "2021-11-12T21:24:53.406Z"
   },
   {
    "duration": 3,
    "start_time": "2021-11-12T21:24:54.232Z"
   },
   {
    "duration": 26,
    "start_time": "2021-11-12T21:24:54.238Z"
   },
   {
    "duration": 27,
    "start_time": "2021-11-12T21:24:54.266Z"
   },
   {
    "duration": 10,
    "start_time": "2021-11-12T21:24:54.294Z"
   },
   {
    "duration": 3,
    "start_time": "2021-11-12T21:24:54.306Z"
   },
   {
    "duration": 5,
    "start_time": "2021-11-12T21:24:54.310Z"
   },
   {
    "duration": 5,
    "start_time": "2021-11-12T21:24:54.316Z"
   },
   {
    "duration": 6,
    "start_time": "2021-11-12T21:24:54.322Z"
   },
   {
    "duration": 5,
    "start_time": "2021-11-12T21:24:54.330Z"
   },
   {
    "duration": 8,
    "start_time": "2021-11-12T21:24:54.336Z"
   },
   {
    "duration": 5,
    "start_time": "2021-11-12T21:24:54.345Z"
   },
   {
    "duration": 5,
    "start_time": "2021-11-12T21:24:54.351Z"
   },
   {
    "duration": 3,
    "start_time": "2021-11-12T21:29:14.028Z"
   },
   {
    "duration": 4,
    "start_time": "2021-11-12T21:29:17.664Z"
   },
   {
    "duration": 292,
    "start_time": "2021-11-12T21:29:19.749Z"
   },
   {
    "duration": 212,
    "start_time": "2021-11-12T21:29:38.483Z"
   },
   {
    "duration": 3,
    "start_time": "2021-11-12T21:29:56.059Z"
   },
   {
    "duration": 224,
    "start_time": "2021-11-12T21:29:56.819Z"
   },
   {
    "duration": 3,
    "start_time": "2021-11-12T21:30:06.471Z"
   },
   {
    "duration": 313,
    "start_time": "2021-11-12T21:30:07.203Z"
   },
   {
    "duration": 4,
    "start_time": "2021-11-12T21:45:40.982Z"
   },
   {
    "duration": 3,
    "start_time": "2021-11-12T21:46:42.404Z"
   },
   {
    "duration": 209,
    "start_time": "2021-11-12T21:46:47.806Z"
   },
   {
    "duration": 3,
    "start_time": "2021-11-12T21:47:34.811Z"
   },
   {
    "duration": 287,
    "start_time": "2021-11-12T21:47:35.518Z"
   },
   {
    "duration": 1086,
    "start_time": "2021-11-12T21:57:58.252Z"
   },
   {
    "duration": 29,
    "start_time": "2021-11-12T21:57:59.340Z"
   },
   {
    "duration": 14,
    "start_time": "2021-11-12T21:57:59.371Z"
   },
   {
    "duration": 8,
    "start_time": "2021-11-12T21:57:59.387Z"
   },
   {
    "duration": 6,
    "start_time": "2021-11-12T21:57:59.397Z"
   },
   {
    "duration": 11,
    "start_time": "2021-11-12T21:57:59.404Z"
   },
   {
    "duration": 36,
    "start_time": "2021-11-12T21:57:59.416Z"
   },
   {
    "duration": 6,
    "start_time": "2021-11-12T21:57:59.454Z"
   },
   {
    "duration": 32,
    "start_time": "2021-11-12T21:57:59.462Z"
   },
   {
    "duration": 4,
    "start_time": "2021-11-12T21:57:59.496Z"
   },
   {
    "duration": 7,
    "start_time": "2021-11-12T21:57:59.501Z"
   },
   {
    "duration": 6,
    "start_time": "2021-11-12T21:57:59.509Z"
   },
   {
    "duration": 8,
    "start_time": "2021-11-12T21:57:59.517Z"
   },
   {
    "duration": 373,
    "start_time": "2021-11-12T21:57:59.527Z"
   },
   {
    "duration": 4,
    "start_time": "2021-11-12T21:57:59.902Z"
   },
   {
    "duration": 146,
    "start_time": "2021-11-12T21:57:59.907Z"
   },
   {
    "duration": 12,
    "start_time": "2021-11-12T21:58:00.054Z"
   },
   {
    "duration": 24,
    "start_time": "2021-11-12T21:58:00.067Z"
   },
   {
    "duration": 302,
    "start_time": "2021-11-12T21:58:00.093Z"
   },
   {
    "duration": 18841,
    "start_time": "2021-11-12T21:58:00.396Z"
   },
   {
    "duration": 901,
    "start_time": "2021-11-12T21:58:19.239Z"
   },
   {
    "duration": 4,
    "start_time": "2021-11-12T21:58:20.142Z"
   },
   {
    "duration": 26,
    "start_time": "2021-11-12T21:58:20.149Z"
   },
   {
    "duration": 28,
    "start_time": "2021-11-12T21:58:20.177Z"
   },
   {
    "duration": 13,
    "start_time": "2021-11-12T21:58:20.207Z"
   },
   {
    "duration": 4,
    "start_time": "2021-11-12T21:58:20.222Z"
   },
   {
    "duration": 5,
    "start_time": "2021-11-12T21:58:20.228Z"
   },
   {
    "duration": 5,
    "start_time": "2021-11-12T21:58:20.235Z"
   },
   {
    "duration": 5,
    "start_time": "2021-11-12T21:58:20.242Z"
   },
   {
    "duration": 5,
    "start_time": "2021-11-12T21:58:20.249Z"
   },
   {
    "duration": 37,
    "start_time": "2021-11-12T21:58:20.256Z"
   },
   {
    "duration": 5,
    "start_time": "2021-11-12T21:58:20.295Z"
   },
   {
    "duration": 5,
    "start_time": "2021-11-12T21:58:20.302Z"
   },
   {
    "duration": 7,
    "start_time": "2021-11-12T21:58:20.309Z"
   },
   {
    "duration": 5,
    "start_time": "2021-11-12T21:58:20.318Z"
   },
   {
    "duration": 1146,
    "start_time": "2021-11-12T22:30:39.419Z"
   },
   {
    "duration": 32,
    "start_time": "2021-11-12T22:30:40.566Z"
   },
   {
    "duration": 21,
    "start_time": "2021-11-12T22:30:40.600Z"
   },
   {
    "duration": 32,
    "start_time": "2021-11-12T22:30:40.623Z"
   },
   {
    "duration": 25,
    "start_time": "2021-11-12T22:30:40.656Z"
   },
   {
    "duration": 20,
    "start_time": "2021-11-12T22:30:40.683Z"
   },
   {
    "duration": 44,
    "start_time": "2021-11-12T22:30:40.705Z"
   },
   {
    "duration": 5,
    "start_time": "2021-11-12T22:30:40.751Z"
   },
   {
    "duration": 17,
    "start_time": "2021-11-12T22:30:40.758Z"
   },
   {
    "duration": 15,
    "start_time": "2021-11-12T22:30:40.776Z"
   },
   {
    "duration": 39,
    "start_time": "2021-11-12T22:30:40.793Z"
   },
   {
    "duration": 11,
    "start_time": "2021-11-12T22:30:40.833Z"
   },
   {
    "duration": 25,
    "start_time": "2021-11-12T22:30:40.845Z"
   },
   {
    "duration": 381,
    "start_time": "2021-11-12T22:30:40.871Z"
   },
   {
    "duration": 4,
    "start_time": "2021-11-12T22:30:41.253Z"
   },
   {
    "duration": 166,
    "start_time": "2021-11-12T22:30:41.258Z"
   },
   {
    "duration": 11,
    "start_time": "2021-11-12T22:30:41.426Z"
   },
   {
    "duration": 47,
    "start_time": "2021-11-12T22:30:41.439Z"
   },
   {
    "duration": 335,
    "start_time": "2021-11-12T22:30:41.488Z"
   },
   {
    "duration": 21220,
    "start_time": "2021-11-12T22:30:41.825Z"
   },
   {
    "duration": 966,
    "start_time": "2021-11-12T22:31:03.047Z"
   },
   {
    "duration": 4,
    "start_time": "2021-11-12T22:31:04.015Z"
   },
   {
    "duration": 29,
    "start_time": "2021-11-12T22:31:04.020Z"
   },
   {
    "duration": 11,
    "start_time": "2021-11-12T22:31:04.050Z"
   },
   {
    "duration": 19,
    "start_time": "2021-11-12T22:31:04.062Z"
   },
   {
    "duration": 11,
    "start_time": "2021-11-12T22:31:04.083Z"
   },
   {
    "duration": 20,
    "start_time": "2021-11-12T22:31:04.098Z"
   },
   {
    "duration": 10,
    "start_time": "2021-11-12T22:31:04.120Z"
   },
   {
    "duration": 7,
    "start_time": "2021-11-12T22:31:04.132Z"
   },
   {
    "duration": 5,
    "start_time": "2021-11-12T22:31:04.141Z"
   },
   {
    "duration": 5,
    "start_time": "2021-11-12T22:31:04.148Z"
   },
   {
    "duration": 9,
    "start_time": "2021-11-12T22:31:04.155Z"
   },
   {
    "duration": 6,
    "start_time": "2021-11-12T22:31:04.166Z"
   },
   {
    "duration": 17,
    "start_time": "2021-11-12T22:31:04.173Z"
   },
   {
    "duration": 10,
    "start_time": "2021-11-12T22:31:04.192Z"
   },
   {
    "duration": 4236154,
    "start_time": "2021-11-12T22:31:13.591Z"
   },
   {
    "duration": 4,
    "start_time": "2021-11-12T23:51:24.850Z"
   },
   {
    "duration": 1587,
    "start_time": "2021-11-13T13:25:39.775Z"
   },
   {
    "duration": 38,
    "start_time": "2021-11-13T13:25:41.364Z"
   },
   {
    "duration": 21,
    "start_time": "2021-11-13T13:25:41.405Z"
   },
   {
    "duration": 13,
    "start_time": "2021-11-13T13:25:41.429Z"
   },
   {
    "duration": 9,
    "start_time": "2021-11-13T13:25:41.444Z"
   },
   {
    "duration": 56,
    "start_time": "2021-11-13T13:25:41.455Z"
   },
   {
    "duration": 58,
    "start_time": "2021-11-13T13:25:41.514Z"
   },
   {
    "duration": 25,
    "start_time": "2021-11-13T13:25:41.576Z"
   },
   {
    "duration": 7,
    "start_time": "2021-11-13T13:25:41.604Z"
   },
   {
    "duration": 6,
    "start_time": "2021-11-13T13:25:41.613Z"
   },
   {
    "duration": 8,
    "start_time": "2021-11-13T13:25:41.621Z"
   },
   {
    "duration": 6,
    "start_time": "2021-11-13T13:25:41.631Z"
   },
   {
    "duration": 10,
    "start_time": "2021-11-13T13:25:41.640Z"
   },
   {
    "duration": 690,
    "start_time": "2021-11-13T13:25:41.652Z"
   },
   {
    "duration": 6,
    "start_time": "2021-11-13T13:25:42.346Z"
   },
   {
    "duration": 288,
    "start_time": "2021-11-13T13:25:42.355Z"
   },
   {
    "duration": 19,
    "start_time": "2021-11-13T13:25:42.647Z"
   },
   {
    "duration": 35,
    "start_time": "2021-11-13T13:25:42.669Z"
   },
   {
    "duration": 1177,
    "start_time": "2021-11-13T13:25:42.707Z"
   },
   {
    "duration": 31647,
    "start_time": "2021-11-13T13:25:43.887Z"
   },
   {
    "duration": 1310,
    "start_time": "2021-11-13T13:26:15.536Z"
   },
   {
    "duration": 5,
    "start_time": "2021-11-13T13:26:16.849Z"
   },
   {
    "duration": 53,
    "start_time": "2021-11-13T13:26:16.859Z"
   },
   {
    "duration": 19,
    "start_time": "2021-11-13T13:26:16.915Z"
   },
   {
    "duration": 16,
    "start_time": "2021-11-13T13:26:16.936Z"
   },
   {
    "duration": 5,
    "start_time": "2021-11-13T13:26:16.954Z"
   },
   {
    "duration": 41,
    "start_time": "2021-11-13T13:26:16.961Z"
   },
   {
    "duration": 11,
    "start_time": "2021-11-13T13:26:17.004Z"
   },
   {
    "duration": 8,
    "start_time": "2021-11-13T13:26:17.017Z"
   },
   {
    "duration": 6,
    "start_time": "2021-11-13T13:26:17.027Z"
   },
   {
    "duration": 6,
    "start_time": "2021-11-13T13:26:17.035Z"
   },
   {
    "duration": 7,
    "start_time": "2021-11-13T13:26:17.043Z"
   },
   {
    "duration": 50,
    "start_time": "2021-11-13T13:26:17.052Z"
   },
   {
    "duration": 4,
    "start_time": "2021-11-13T13:39:04.313Z"
   },
   {
    "duration": 496,
    "start_time": "2021-11-13T13:39:42.778Z"
   },
   {
    "duration": 65,
    "start_time": "2021-11-13T13:40:26.443Z"
   },
   {
    "duration": 9,
    "start_time": "2021-11-13T13:40:59.897Z"
   },
   {
    "duration": 576,
    "start_time": "2021-11-13T13:41:51.545Z"
   },
   {
    "duration": 8,
    "start_time": "2021-11-13T14:27:09.716Z"
   },
   {
    "duration": 28,
    "start_time": "2021-11-13T14:29:30.654Z"
   },
   {
    "duration": 10,
    "start_time": "2021-11-13T14:29:45.522Z"
   },
   {
    "duration": 7,
    "start_time": "2021-11-13T14:30:04.544Z"
   },
   {
    "duration": 1556,
    "start_time": "2021-11-13T19:00:56.031Z"
   },
   {
    "duration": 189,
    "start_time": "2021-11-13T19:00:57.590Z"
   },
   {
    "duration": 32,
    "start_time": "2021-11-13T19:00:57.783Z"
   },
   {
    "duration": 13,
    "start_time": "2021-11-13T19:00:57.818Z"
   },
   {
    "duration": 8,
    "start_time": "2021-11-13T19:00:57.834Z"
   },
   {
    "duration": 20,
    "start_time": "2021-11-13T19:00:57.845Z"
   },
   {
    "duration": 58,
    "start_time": "2021-11-13T19:00:57.901Z"
   },
   {
    "duration": 9,
    "start_time": "2021-11-13T19:00:57.963Z"
   },
   {
    "duration": 6,
    "start_time": "2021-11-13T19:00:58.001Z"
   },
   {
    "duration": 6,
    "start_time": "2021-11-13T19:00:58.010Z"
   },
   {
    "duration": 10,
    "start_time": "2021-11-13T19:00:58.018Z"
   },
   {
    "duration": 10,
    "start_time": "2021-11-13T19:00:58.030Z"
   },
   {
    "duration": 13,
    "start_time": "2021-11-13T19:00:58.043Z"
   },
   {
    "duration": 667,
    "start_time": "2021-11-13T19:00:58.058Z"
   },
   {
    "duration": 6,
    "start_time": "2021-11-13T19:00:58.727Z"
   },
   {
    "duration": 247,
    "start_time": "2021-11-13T19:00:58.735Z"
   },
   {
    "duration": 30,
    "start_time": "2021-11-13T19:00:58.985Z"
   },
   {
    "duration": 17,
    "start_time": "2021-11-13T19:00:59.017Z"
   },
   {
    "duration": 793,
    "start_time": "2021-11-13T19:00:59.037Z"
   },
   {
    "duration": 31088,
    "start_time": "2021-11-13T19:00:59.833Z"
   },
   {
    "duration": 1406,
    "start_time": "2021-11-13T19:01:30.923Z"
   },
   {
    "duration": 6,
    "start_time": "2021-11-13T19:01:32.331Z"
   },
   {
    "duration": 35,
    "start_time": "2021-11-13T19:01:32.342Z"
   },
   {
    "duration": 35,
    "start_time": "2021-11-13T19:01:32.380Z"
   },
   {
    "duration": 16,
    "start_time": "2021-11-13T19:01:32.418Z"
   },
   {
    "duration": 5,
    "start_time": "2021-11-13T19:01:32.437Z"
   },
   {
    "duration": 6,
    "start_time": "2021-11-13T19:01:32.445Z"
   },
   {
    "duration": 7,
    "start_time": "2021-11-13T19:01:32.501Z"
   },
   {
    "duration": 6,
    "start_time": "2021-11-13T19:01:32.511Z"
   },
   {
    "duration": 8,
    "start_time": "2021-11-13T19:01:32.519Z"
   },
   {
    "duration": 11,
    "start_time": "2021-11-13T19:01:32.529Z"
   },
   {
    "duration": 14,
    "start_time": "2021-11-13T19:01:32.543Z"
   },
   {
    "duration": 42,
    "start_time": "2021-11-13T19:01:32.560Z"
   },
   {
    "duration": 4,
    "start_time": "2021-11-13T19:01:32.605Z"
   },
   {
    "duration": 682,
    "start_time": "2021-11-13T19:01:32.611Z"
   },
   {
    "duration": 69,
    "start_time": "2021-11-13T19:01:33.296Z"
   },
   {
    "duration": 10,
    "start_time": "2021-11-13T19:01:33.368Z"
   },
   {
    "duration": 26,
    "start_time": "2021-11-13T19:01:33.380Z"
   },
   {
    "duration": 26,
    "start_time": "2021-11-13T19:01:33.409Z"
   },
   {
    "duration": 8,
    "start_time": "2021-11-13T19:01:33.437Z"
   },
   {
    "duration": 8,
    "start_time": "2021-11-13T19:01:33.447Z"
   },
   {
    "duration": 533,
    "start_time": "2021-11-13T19:11:12.258Z"
   },
   {
    "duration": 6,
    "start_time": "2021-11-13T19:11:16.397Z"
   },
   {
    "duration": 16,
    "start_time": "2021-11-13T19:11:18.984Z"
   },
   {
    "duration": 10,
    "start_time": "2021-11-13T19:11:20.994Z"
   },
   {
    "duration": 5,
    "start_time": "2021-11-13T19:11:56.307Z"
   },
   {
    "duration": 525,
    "start_time": "2021-11-13T19:12:00.508Z"
   },
   {
    "duration": 5,
    "start_time": "2021-11-13T19:13:10.997Z"
   },
   {
    "duration": 523643,
    "start_time": "2021-11-13T19:13:24.896Z"
   },
   {
    "duration": 5,
    "start_time": "2021-11-13T19:30:04.701Z"
   },
   {
    "duration": 552215,
    "start_time": "2021-11-13T19:33:57.349Z"
   },
   {
    "duration": 1387,
    "start_time": "2021-11-16T19:38:41.718Z"
   },
   {
    "duration": 35,
    "start_time": "2021-11-16T19:38:43.107Z"
   },
   {
    "duration": 19,
    "start_time": "2021-11-16T19:38:43.144Z"
   },
   {
    "duration": 8,
    "start_time": "2021-11-16T19:38:43.165Z"
   },
   {
    "duration": 16,
    "start_time": "2021-11-16T19:38:43.175Z"
   },
   {
    "duration": 12,
    "start_time": "2021-11-16T19:38:43.193Z"
   },
   {
    "duration": 47,
    "start_time": "2021-11-16T19:38:43.207Z"
   },
   {
    "duration": 6,
    "start_time": "2021-11-16T19:38:43.257Z"
   },
   {
    "duration": 25,
    "start_time": "2021-11-16T19:38:43.265Z"
   },
   {
    "duration": 6,
    "start_time": "2021-11-16T19:38:43.292Z"
   },
   {
    "duration": 8,
    "start_time": "2021-11-16T19:38:43.299Z"
   },
   {
    "duration": 6,
    "start_time": "2021-11-16T19:38:43.309Z"
   },
   {
    "duration": 8,
    "start_time": "2021-11-16T19:38:43.316Z"
   },
   {
    "duration": 511,
    "start_time": "2021-11-16T19:38:43.326Z"
   },
   {
    "duration": 3,
    "start_time": "2021-11-16T19:38:43.839Z"
   },
   {
    "duration": 130,
    "start_time": "2021-11-16T19:38:43.844Z"
   },
   {
    "duration": 16,
    "start_time": "2021-11-16T19:38:43.987Z"
   },
   {
    "duration": 13,
    "start_time": "2021-11-16T19:38:44.005Z"
   },
   {
    "duration": 516,
    "start_time": "2021-11-16T19:38:44.020Z"
   },
   {
    "duration": 29353,
    "start_time": "2021-11-16T19:38:44.539Z"
   },
   {
    "duration": 1072,
    "start_time": "2021-11-16T19:39:13.894Z"
   },
   {
    "duration": 4,
    "start_time": "2021-11-16T19:39:14.968Z"
   },
   {
    "duration": 22,
    "start_time": "2021-11-16T19:39:14.989Z"
   },
   {
    "duration": 15,
    "start_time": "2021-11-16T19:39:15.014Z"
   },
   {
    "duration": 20,
    "start_time": "2021-11-16T19:39:15.031Z"
   },
   {
    "duration": 6,
    "start_time": "2021-11-16T19:39:15.052Z"
   },
   {
    "duration": 11,
    "start_time": "2021-11-16T19:39:15.060Z"
   },
   {
    "duration": 17,
    "start_time": "2021-11-16T19:39:15.072Z"
   },
   {
    "duration": 19,
    "start_time": "2021-11-16T19:39:15.092Z"
   },
   {
    "duration": 21,
    "start_time": "2021-11-16T19:39:15.113Z"
   },
   {
    "duration": 14,
    "start_time": "2021-11-16T19:39:15.136Z"
   },
   {
    "duration": 11,
    "start_time": "2021-11-16T19:39:15.151Z"
   },
   {
    "duration": 24,
    "start_time": "2021-11-16T19:39:15.164Z"
   },
   {
    "duration": 22,
    "start_time": "2021-11-16T19:39:15.189Z"
   },
   {
    "duration": 450,
    "start_time": "2021-11-16T19:39:15.214Z"
   },
   {
    "duration": 64,
    "start_time": "2021-11-16T19:39:15.666Z"
   },
   {
    "duration": 12,
    "start_time": "2021-11-16T19:39:15.735Z"
   },
   {
    "duration": 9,
    "start_time": "2021-11-16T19:39:15.750Z"
   },
   {
    "duration": 33,
    "start_time": "2021-11-16T19:39:15.761Z"
   },
   {
    "duration": 9,
    "start_time": "2021-11-16T19:39:15.796Z"
   },
   {
    "duration": 7,
    "start_time": "2021-11-16T19:39:15.807Z"
   },
   {
    "duration": 3,
    "start_time": "2021-11-16T19:39:15.816Z"
   },
   {
    "duration": 5,
    "start_time": "2021-11-16T19:39:15.821Z"
   },
   {
    "duration": 4741385,
    "start_time": "2021-11-16T19:39:15.827Z"
   },
   {
    "duration": 4,
    "start_time": "2021-11-16T20:58:17.214Z"
   },
   {
    "duration": 6,
    "start_time": "2021-11-16T20:58:17.220Z"
   },
   {
    "duration": 64,
    "start_time": "2021-11-16T20:58:17.227Z"
   },
   {
    "duration": 9,
    "start_time": "2021-11-16T20:58:17.293Z"
   },
   {
    "duration": 7,
    "start_time": "2021-11-16T20:58:17.304Z"
   },
   {
    "duration": 441,
    "start_time": "2021-11-16T20:58:17.312Z"
   },
   {
    "duration": 159,
    "start_time": "2021-11-16T20:58:17.596Z"
   },
   {
    "duration": 152,
    "start_time": "2021-11-16T20:58:17.604Z"
   },
   {
    "duration": 148,
    "start_time": "2021-11-16T20:58:17.609Z"
   },
   {
    "duration": 144,
    "start_time": "2021-11-16T20:58:17.614Z"
   },
   {
    "duration": 141,
    "start_time": "2021-11-16T20:58:17.619Z"
   },
   {
    "duration": 139,
    "start_time": "2021-11-16T20:58:17.622Z"
   },
   {
    "duration": 136,
    "start_time": "2021-11-16T20:58:17.626Z"
   },
   {
    "duration": 134,
    "start_time": "2021-11-16T20:58:17.630Z"
   },
   {
    "duration": 131,
    "start_time": "2021-11-16T20:58:17.634Z"
   },
   {
    "duration": 128,
    "start_time": "2021-11-16T20:58:17.638Z"
   },
   {
    "duration": 273,
    "start_time": "2021-11-16T21:13:49.614Z"
   },
   {
    "duration": 43,
    "start_time": "2021-11-16T21:15:00.554Z"
   },
   {
    "duration": 8,
    "start_time": "2021-11-16T21:15:01.610Z"
   },
   {
    "duration": 6,
    "start_time": "2021-11-16T21:15:02.353Z"
   },
   {
    "duration": 7,
    "start_time": "2021-11-16T21:15:12.572Z"
   },
   {
    "duration": 7,
    "start_time": "2021-11-16T21:15:13.494Z"
   },
   {
    "duration": 22,
    "start_time": "2021-11-16T21:15:32.428Z"
   },
   {
    "duration": 6,
    "start_time": "2021-11-16T21:15:35.508Z"
   },
   {
    "duration": 6,
    "start_time": "2021-11-16T21:15:36.644Z"
   },
   {
    "duration": 282,
    "start_time": "2021-11-16T21:15:57.276Z"
   },
   {
    "duration": 6,
    "start_time": "2021-11-16T21:15:58.364Z"
   },
   {
    "duration": 3,
    "start_time": "2021-11-16T21:16:05.735Z"
   },
   {
    "duration": 9,
    "start_time": "2021-11-16T21:16:06.904Z"
   },
   {
    "duration": 5,
    "start_time": "2021-11-16T21:16:09.732Z"
   },
   {
    "duration": 270,
    "start_time": "2021-11-16T21:16:11.427Z"
   },
   {
    "duration": 4,
    "start_time": "2021-11-16T21:16:20.744Z"
   },
   {
    "duration": 101604,
    "start_time": "2021-11-16T21:16:22.310Z"
   },
   {
    "duration": 4,
    "start_time": "2021-11-16T21:20:52.628Z"
   },
   {
    "duration": 3,
    "start_time": "2021-11-16T21:22:45.924Z"
   },
   {
    "duration": 3,
    "start_time": "2021-11-16T21:22:46.715Z"
   },
   {
    "duration": 43329,
    "start_time": "2021-11-16T21:22:51.575Z"
   },
   {
    "duration": 3,
    "start_time": "2021-11-16T21:23:47.273Z"
   },
   {
    "duration": 3,
    "start_time": "2021-11-16T21:23:48.015Z"
   },
   {
    "duration": 445977,
    "start_time": "2021-11-16T21:23:51.464Z"
   },
   {
    "duration": 4,
    "start_time": "2021-11-16T21:33:07.357Z"
   },
   {
    "duration": 3,
    "start_time": "2021-11-16T21:33:24.736Z"
   },
   {
    "duration": 5,
    "start_time": "2021-11-16T21:33:33.464Z"
   },
   {
    "duration": 5,
    "start_time": "2021-11-16T21:33:40.132Z"
   },
   {
    "duration": 1247,
    "start_time": "2021-11-16T21:58:59.458Z"
   },
   {
    "duration": 31,
    "start_time": "2021-11-16T21:59:00.706Z"
   },
   {
    "duration": 13,
    "start_time": "2021-11-16T21:59:00.739Z"
   },
   {
    "duration": 19,
    "start_time": "2021-11-16T21:59:00.754Z"
   },
   {
    "duration": 10,
    "start_time": "2021-11-16T21:59:00.775Z"
   },
   {
    "duration": 12,
    "start_time": "2021-11-16T21:59:00.786Z"
   },
   {
    "duration": 34,
    "start_time": "2021-11-16T21:59:00.800Z"
   },
   {
    "duration": 6,
    "start_time": "2021-11-16T21:59:00.835Z"
   },
   {
    "duration": 14,
    "start_time": "2021-11-16T21:59:00.843Z"
   },
   {
    "duration": 7,
    "start_time": "2021-11-16T21:59:00.859Z"
   },
   {
    "duration": 20,
    "start_time": "2021-11-16T21:59:00.867Z"
   },
   {
    "duration": 6,
    "start_time": "2021-11-16T21:59:00.889Z"
   },
   {
    "duration": 22,
    "start_time": "2021-11-16T21:59:00.896Z"
   },
   {
    "duration": 336,
    "start_time": "2021-11-16T21:59:00.920Z"
   },
   {
    "duration": 4,
    "start_time": "2021-11-16T21:59:01.257Z"
   },
   {
    "duration": 135,
    "start_time": "2021-11-16T21:59:01.262Z"
   },
   {
    "duration": 11,
    "start_time": "2021-11-16T21:59:01.398Z"
   },
   {
    "duration": 14,
    "start_time": "2021-11-16T21:59:01.411Z"
   },
   {
    "duration": 549,
    "start_time": "2021-11-16T21:59:01.426Z"
   },
   {
    "duration": 20878,
    "start_time": "2021-11-16T21:59:01.976Z"
   },
   {
    "duration": 812,
    "start_time": "2021-11-16T21:59:22.856Z"
   },
   {
    "duration": 4,
    "start_time": "2021-11-16T21:59:23.669Z"
   },
   {
    "duration": 32,
    "start_time": "2021-11-16T21:59:23.675Z"
   },
   {
    "duration": 10,
    "start_time": "2021-11-16T21:59:23.708Z"
   },
   {
    "duration": 19,
    "start_time": "2021-11-16T21:59:23.720Z"
   },
   {
    "duration": 3,
    "start_time": "2021-11-16T21:59:23.741Z"
   },
   {
    "duration": 5,
    "start_time": "2021-11-16T21:59:23.747Z"
   },
   {
    "duration": 5,
    "start_time": "2021-11-16T21:59:23.754Z"
   },
   {
    "duration": 29,
    "start_time": "2021-11-16T21:59:23.761Z"
   },
   {
    "duration": 9,
    "start_time": "2021-11-16T21:59:23.791Z"
   },
   {
    "duration": 9,
    "start_time": "2021-11-16T21:59:23.801Z"
   },
   {
    "duration": 8,
    "start_time": "2021-11-16T21:59:23.812Z"
   },
   {
    "duration": 7,
    "start_time": "2021-11-16T21:59:23.821Z"
   },
   {
    "duration": 3,
    "start_time": "2021-11-16T21:59:23.830Z"
   },
   {
    "duration": 313,
    "start_time": "2021-11-16T21:59:23.835Z"
   },
   {
    "duration": 52,
    "start_time": "2021-11-16T21:59:24.150Z"
   },
   {
    "duration": 7,
    "start_time": "2021-11-16T21:59:24.203Z"
   },
   {
    "duration": 15,
    "start_time": "2021-11-16T21:59:24.212Z"
   },
   {
    "duration": 17,
    "start_time": "2021-11-16T21:59:24.229Z"
   },
   {
    "duration": 5,
    "start_time": "2021-11-16T21:59:24.247Z"
   },
   {
    "duration": 6,
    "start_time": "2021-11-16T21:59:24.254Z"
   },
   {
    "duration": 361,
    "start_time": "2021-11-16T21:59:24.262Z"
   },
   {
    "duration": 7,
    "start_time": "2021-11-16T21:59:24.625Z"
   },
   {
    "duration": 9,
    "start_time": "2021-11-16T21:59:24.634Z"
   },
   {
    "duration": 10,
    "start_time": "2021-11-16T22:00:08.776Z"
   },
   {
    "duration": 4,
    "start_time": "2021-11-16T22:00:11.526Z"
   },
   {
    "duration": 272,
    "start_time": "2021-11-16T22:00:12.710Z"
   },
   {
    "duration": 7,
    "start_time": "2021-11-16T22:00:16.238Z"
   },
   {
    "duration": 1218,
    "start_time": "2021-11-16T22:00:52.766Z"
   },
   {
    "duration": 30,
    "start_time": "2021-11-16T22:00:53.986Z"
   },
   {
    "duration": 14,
    "start_time": "2021-11-16T22:00:54.018Z"
   },
   {
    "duration": 9,
    "start_time": "2021-11-16T22:00:54.033Z"
   },
   {
    "duration": 7,
    "start_time": "2021-11-16T22:00:54.043Z"
   },
   {
    "duration": 12,
    "start_time": "2021-11-16T22:00:54.051Z"
   },
   {
    "duration": 61,
    "start_time": "2021-11-16T22:00:54.064Z"
   },
   {
    "duration": 7,
    "start_time": "2021-11-16T22:00:54.127Z"
   },
   {
    "duration": 4,
    "start_time": "2021-11-16T22:00:54.138Z"
   },
   {
    "duration": 4,
    "start_time": "2021-11-16T22:00:54.145Z"
   },
   {
    "duration": 8,
    "start_time": "2021-11-16T22:00:54.151Z"
   },
   {
    "duration": 27,
    "start_time": "2021-11-16T22:00:54.161Z"
   },
   {
    "duration": 9,
    "start_time": "2021-11-16T22:00:54.190Z"
   },
   {
    "duration": 522,
    "start_time": "2021-11-16T22:00:54.200Z"
   },
   {
    "duration": 5,
    "start_time": "2021-11-16T22:00:54.724Z"
   },
   {
    "duration": 192,
    "start_time": "2021-11-16T22:00:54.731Z"
   },
   {
    "duration": 14,
    "start_time": "2021-11-16T22:00:54.925Z"
   },
   {
    "duration": 10,
    "start_time": "2021-11-16T22:00:54.941Z"
   },
   {
    "duration": 595,
    "start_time": "2021-11-16T22:00:54.953Z"
   },
   {
    "duration": 19070,
    "start_time": "2021-11-16T22:00:55.550Z"
   },
   {
    "duration": 751,
    "start_time": "2021-11-16T22:01:14.622Z"
   },
   {
    "duration": 4,
    "start_time": "2021-11-16T22:01:15.375Z"
   },
   {
    "duration": 21,
    "start_time": "2021-11-16T22:01:15.388Z"
   },
   {
    "duration": 10,
    "start_time": "2021-11-16T22:01:15.411Z"
   },
   {
    "duration": 12,
    "start_time": "2021-11-16T22:01:15.422Z"
   },
   {
    "duration": 3,
    "start_time": "2021-11-16T22:01:15.436Z"
   },
   {
    "duration": 4,
    "start_time": "2021-11-16T22:01:15.442Z"
   },
   {
    "duration": 8,
    "start_time": "2021-11-16T22:01:15.448Z"
   },
   {
    "duration": 30,
    "start_time": "2021-11-16T22:01:15.458Z"
   },
   {
    "duration": 12,
    "start_time": "2021-11-16T22:01:15.489Z"
   },
   {
    "duration": 7,
    "start_time": "2021-11-16T22:01:15.503Z"
   },
   {
    "duration": 6,
    "start_time": "2021-11-16T22:01:15.512Z"
   },
   {
    "duration": 4,
    "start_time": "2021-11-16T22:01:15.520Z"
   },
   {
    "duration": 5,
    "start_time": "2021-11-16T22:01:15.526Z"
   },
   {
    "duration": 306,
    "start_time": "2021-11-16T22:01:15.532Z"
   },
   {
    "duration": 48,
    "start_time": "2021-11-16T22:01:15.840Z"
   },
   {
    "duration": 7,
    "start_time": "2021-11-16T22:01:15.889Z"
   },
   {
    "duration": 5,
    "start_time": "2021-11-16T22:01:15.898Z"
   },
   {
    "duration": 21,
    "start_time": "2021-11-16T22:01:15.905Z"
   },
   {
    "duration": 6,
    "start_time": "2021-11-16T22:01:15.928Z"
   },
   {
    "duration": 6,
    "start_time": "2021-11-16T22:01:15.935Z"
   },
   {
    "duration": 448,
    "start_time": "2021-11-16T22:01:15.942Z"
   },
   {
    "duration": 404,
    "start_time": "2021-11-16T22:01:24.636Z"
   },
   {
    "duration": 7,
    "start_time": "2021-11-16T22:01:29.416Z"
   },
   {
    "duration": 3,
    "start_time": "2021-11-16T22:01:33.154Z"
   },
   {
    "duration": 11,
    "start_time": "2021-11-16T22:01:47.320Z"
   },
   {
    "duration": 5,
    "start_time": "2021-11-16T22:01:48.290Z"
   },
   {
    "duration": 268,
    "start_time": "2021-11-16T22:01:51.346Z"
   },
   {
    "duration": 7,
    "start_time": "2021-11-16T22:01:54.102Z"
   },
   {
    "duration": 6,
    "start_time": "2021-11-16T22:02:00.748Z"
   },
   {
    "duration": 3,
    "start_time": "2021-11-16T22:02:06.586Z"
   },
   {
    "duration": 419016,
    "start_time": "2021-11-16T22:03:31.113Z"
   },
   {
    "duration": 4,
    "start_time": "2021-11-16T22:10:41.946Z"
   },
   {
    "duration": 87,
    "start_time": "2021-11-16T22:11:08.031Z"
   },
   {
    "duration": 94,
    "start_time": "2021-11-16T22:11:25.801Z"
   },
   {
    "duration": 86,
    "start_time": "2021-11-16T22:15:03.388Z"
   },
   {
    "duration": 173,
    "start_time": "2021-11-16T22:16:05.488Z"
   },
   {
    "duration": 3,
    "start_time": "2021-11-16T22:18:31.663Z"
   },
   {
    "duration": 363,
    "start_time": "2021-11-16T22:19:28.494Z"
   },
   {
    "duration": 474566,
    "start_time": "2021-11-16T22:19:52.102Z"
   },
   {
    "duration": 263,
    "start_time": "2021-11-16T22:29:35.467Z"
   },
   {
    "duration": 4,
    "start_time": "2021-11-16T22:29:43.435Z"
   },
   {
    "duration": 3,
    "start_time": "2021-11-16T22:31:41.258Z"
   },
   {
    "duration": 93,
    "start_time": "2021-11-16T22:31:53.924Z"
   },
   {
    "duration": 10,
    "start_time": "2021-11-16T22:32:02.950Z"
   },
   {
    "duration": 7,
    "start_time": "2021-11-16T22:32:08.844Z"
   },
   {
    "duration": 92,
    "start_time": "2021-11-16T22:33:07.961Z"
   },
   {
    "duration": 270,
    "start_time": "2021-11-16T22:33:09.043Z"
   },
   {
    "duration": 34,
    "start_time": "2021-11-16T22:33:32.733Z"
   },
   {
    "duration": 7,
    "start_time": "2021-11-16T22:33:35.211Z"
   },
   {
    "duration": 7,
    "start_time": "2021-11-16T22:33:36.314Z"
   },
   {
    "duration": 1181,
    "start_time": "2021-11-16T22:42:08.986Z"
   },
   {
    "duration": 29,
    "start_time": "2021-11-16T22:42:10.169Z"
   },
   {
    "duration": 12,
    "start_time": "2021-11-16T22:42:10.200Z"
   },
   {
    "duration": 8,
    "start_time": "2021-11-16T22:42:10.214Z"
   },
   {
    "duration": 6,
    "start_time": "2021-11-16T22:42:10.224Z"
   },
   {
    "duration": 10,
    "start_time": "2021-11-16T22:42:10.231Z"
   },
   {
    "duration": 53,
    "start_time": "2021-11-16T22:42:10.242Z"
   },
   {
    "duration": 6,
    "start_time": "2021-11-16T22:42:10.297Z"
   },
   {
    "duration": 4,
    "start_time": "2021-11-16T22:42:10.305Z"
   },
   {
    "duration": 6,
    "start_time": "2021-11-16T22:42:10.310Z"
   },
   {
    "duration": 6,
    "start_time": "2021-11-16T22:42:10.317Z"
   },
   {
    "duration": 6,
    "start_time": "2021-11-16T22:42:10.325Z"
   },
   {
    "duration": 11,
    "start_time": "2021-11-16T22:42:10.333Z"
   },
   {
    "duration": 355,
    "start_time": "2021-11-16T22:42:10.346Z"
   },
   {
    "duration": 3,
    "start_time": "2021-11-16T22:42:10.703Z"
   },
   {
    "duration": 127,
    "start_time": "2021-11-16T22:42:10.707Z"
   },
   {
    "duration": 10,
    "start_time": "2021-11-16T22:42:10.835Z"
   },
   {
    "duration": 9,
    "start_time": "2021-11-16T22:42:10.847Z"
   },
   {
    "duration": 525,
    "start_time": "2021-11-16T22:42:10.858Z"
   },
   {
    "duration": 18903,
    "start_time": "2021-11-16T22:42:11.385Z"
   },
   {
    "duration": 767,
    "start_time": "2021-11-16T22:42:30.290Z"
   },
   {
    "duration": 5,
    "start_time": "2021-11-16T22:42:31.059Z"
   },
   {
    "duration": 32,
    "start_time": "2021-11-16T22:42:31.068Z"
   },
   {
    "duration": 10,
    "start_time": "2021-11-16T22:42:31.102Z"
   },
   {
    "duration": 28,
    "start_time": "2021-11-16T22:42:31.113Z"
   },
   {
    "duration": 22,
    "start_time": "2021-11-16T22:42:31.142Z"
   },
   {
    "duration": 9,
    "start_time": "2021-11-16T22:42:31.165Z"
   },
   {
    "duration": 20,
    "start_time": "2021-11-16T22:42:31.175Z"
   },
   {
    "duration": 12,
    "start_time": "2021-11-16T22:42:31.197Z"
   },
   {
    "duration": 15,
    "start_time": "2021-11-16T22:42:31.210Z"
   },
   {
    "duration": 13,
    "start_time": "2021-11-16T22:42:31.227Z"
   },
   {
    "duration": 13,
    "start_time": "2021-11-16T22:42:31.242Z"
   },
   {
    "duration": 23,
    "start_time": "2021-11-16T22:42:31.256Z"
   },
   {
    "duration": 18,
    "start_time": "2021-11-16T22:42:31.281Z"
   },
   {
    "duration": 450,
    "start_time": "2021-11-16T22:42:31.301Z"
   },
   {
    "duration": 56,
    "start_time": "2021-11-16T22:42:31.753Z"
   },
   {
    "duration": 9,
    "start_time": "2021-11-16T22:42:31.811Z"
   },
   {
    "duration": 8,
    "start_time": "2021-11-16T22:42:31.822Z"
   },
   {
    "duration": 29,
    "start_time": "2021-11-16T22:42:31.832Z"
   },
   {
    "duration": 6,
    "start_time": "2021-11-16T22:42:31.863Z"
   },
   {
    "duration": 6,
    "start_time": "2021-11-16T22:42:31.887Z"
   },
   {
    "duration": 312,
    "start_time": "2021-11-16T22:42:31.895Z"
   },
   {
    "duration": 6,
    "start_time": "2021-11-16T22:42:32.209Z"
   },
   {
    "duration": 5,
    "start_time": "2021-11-16T22:42:32.216Z"
   },
   {
    "duration": 13,
    "start_time": "2021-11-16T22:42:32.222Z"
   },
   {
    "duration": 3,
    "start_time": "2021-11-16T22:42:32.236Z"
   },
   {
    "duration": 284,
    "start_time": "2021-11-16T22:42:32.240Z"
   },
   {
    "duration": 6,
    "start_time": "2021-11-16T22:42:32.525Z"
   },
   {
    "duration": 6,
    "start_time": "2021-11-16T22:42:32.533Z"
   },
   {
    "duration": 4147,
    "start_time": "2021-11-16T22:42:32.541Z"
   },
   {
    "duration": 47,
    "start_time": "2021-11-16T22:42:36.643Z"
   },
   {
    "duration": 44,
    "start_time": "2021-11-16T22:42:36.647Z"
   },
   {
    "duration": 41,
    "start_time": "2021-11-16T22:42:36.651Z"
   },
   {
    "duration": 38,
    "start_time": "2021-11-16T22:42:36.655Z"
   },
   {
    "duration": 33,
    "start_time": "2021-11-16T22:42:36.660Z"
   },
   {
    "duration": 30,
    "start_time": "2021-11-16T22:42:36.664Z"
   },
   {
    "duration": 26,
    "start_time": "2021-11-16T22:42:36.669Z"
   },
   {
    "duration": 24,
    "start_time": "2021-11-16T22:42:36.672Z"
   },
   {
    "duration": 20,
    "start_time": "2021-11-16T22:42:36.677Z"
   },
   {
    "duration": 17,
    "start_time": "2021-11-16T22:42:36.681Z"
   },
   {
    "duration": 14,
    "start_time": "2021-11-16T22:42:36.685Z"
   },
   {
    "duration": 12,
    "start_time": "2021-11-16T22:42:36.689Z"
   },
   {
    "duration": 8,
    "start_time": "2021-11-16T22:42:36.693Z"
   },
   {
    "duration": 5,
    "start_time": "2021-11-16T22:42:36.697Z"
   },
   {
    "duration": 1243,
    "start_time": "2021-11-16T22:43:23.382Z"
   },
   {
    "duration": 31,
    "start_time": "2021-11-16T22:43:24.627Z"
   },
   {
    "duration": 14,
    "start_time": "2021-11-16T22:43:24.660Z"
   },
   {
    "duration": 12,
    "start_time": "2021-11-16T22:43:24.676Z"
   },
   {
    "duration": 8,
    "start_time": "2021-11-16T22:43:24.690Z"
   },
   {
    "duration": 11,
    "start_time": "2021-11-16T22:43:24.699Z"
   },
   {
    "duration": 32,
    "start_time": "2021-11-16T22:43:24.712Z"
   },
   {
    "duration": 6,
    "start_time": "2021-11-16T22:43:24.746Z"
   },
   {
    "duration": 4,
    "start_time": "2021-11-16T22:43:24.754Z"
   },
   {
    "duration": 4,
    "start_time": "2021-11-16T22:43:24.788Z"
   },
   {
    "duration": 10,
    "start_time": "2021-11-16T22:43:24.793Z"
   },
   {
    "duration": 5,
    "start_time": "2021-11-16T22:43:24.804Z"
   },
   {
    "duration": 9,
    "start_time": "2021-11-16T22:43:24.811Z"
   },
   {
    "duration": 336,
    "start_time": "2021-11-16T22:43:24.822Z"
   },
   {
    "duration": 4,
    "start_time": "2021-11-16T22:43:25.160Z"
   },
   {
    "duration": 128,
    "start_time": "2021-11-16T22:43:25.165Z"
   },
   {
    "duration": 11,
    "start_time": "2021-11-16T22:43:25.294Z"
   },
   {
    "duration": 10,
    "start_time": "2021-11-16T22:43:25.306Z"
   },
   {
    "duration": 516,
    "start_time": "2021-11-16T22:43:25.317Z"
   },
   {
    "duration": 19556,
    "start_time": "2021-11-16T22:43:25.834Z"
   },
   {
    "duration": 780,
    "start_time": "2021-11-16T22:43:45.391Z"
   },
   {
    "duration": 4,
    "start_time": "2021-11-16T22:43:46.172Z"
   },
   {
    "duration": 24,
    "start_time": "2021-11-16T22:43:46.179Z"
   },
   {
    "duration": 11,
    "start_time": "2021-11-16T22:43:46.205Z"
   },
   {
    "duration": 8,
    "start_time": "2021-11-16T22:43:46.217Z"
   },
   {
    "duration": 3,
    "start_time": "2021-11-16T22:43:46.227Z"
   },
   {
    "duration": 5,
    "start_time": "2021-11-16T22:43:46.231Z"
   },
   {
    "duration": 4,
    "start_time": "2021-11-16T22:43:46.238Z"
   },
   {
    "duration": 6,
    "start_time": "2021-11-16T22:43:46.243Z"
   },
   {
    "duration": 6,
    "start_time": "2021-11-16T22:43:46.250Z"
   },
   {
    "duration": 5,
    "start_time": "2021-11-16T22:43:46.257Z"
   },
   {
    "duration": 5,
    "start_time": "2021-11-16T22:43:46.264Z"
   },
   {
    "duration": 5,
    "start_time": "2021-11-16T22:43:46.270Z"
   },
   {
    "duration": 8,
    "start_time": "2021-11-16T22:43:46.276Z"
   },
   {
    "duration": 6,
    "start_time": "2021-11-16T22:43:46.285Z"
   },
   {
    "duration": 4663114,
    "start_time": "2021-11-16T22:43:46.293Z"
   },
   {
    "duration": 4,
    "start_time": "2021-11-17T00:01:29.408Z"
   },
   {
    "duration": 10,
    "start_time": "2021-11-17T00:01:29.413Z"
   },
   {
    "duration": 203,
    "start_time": "2021-11-17T00:01:29.425Z"
   },
   {
    "duration": 7,
    "start_time": "2021-11-17T00:01:29.629Z"
   },
   {
    "duration": 7,
    "start_time": "2021-11-17T00:01:29.638Z"
   },
   {
    "duration": 279,
    "start_time": "2021-11-17T00:01:29.647Z"
   },
   {
    "duration": 6,
    "start_time": "2021-11-17T00:01:29.927Z"
   },
   {
    "duration": 4,
    "start_time": "2021-11-17T00:01:29.934Z"
   },
   {
    "duration": 12,
    "start_time": "2021-11-17T00:01:29.939Z"
   },
   {
    "duration": 3,
    "start_time": "2021-11-17T00:01:29.952Z"
   },
   {
    "duration": 295,
    "start_time": "2021-11-17T00:01:29.957Z"
   },
   {
    "duration": 6,
    "start_time": "2021-11-17T00:01:30.253Z"
   },
   {
    "duration": 12,
    "start_time": "2021-11-17T00:01:30.260Z"
   },
   {
    "duration": 6497984,
    "start_time": "2021-11-17T00:01:30.273Z"
   },
   {
    "duration": 3,
    "start_time": "2021-11-17T01:49:48.259Z"
   },
   {
    "duration": 7,
    "start_time": "2021-11-17T01:49:48.264Z"
   },
   {
    "duration": 7021036,
    "start_time": "2021-11-17T01:49:48.272Z"
   },
   {
    "duration": 4,
    "start_time": "2021-11-17T03:46:49.309Z"
   },
   {
    "duration": 13,
    "start_time": "2021-11-17T03:46:49.314Z"
   },
   {
    "duration": 100,
    "start_time": "2021-11-17T03:46:49.328Z"
   },
   {
    "duration": 9,
    "start_time": "2021-11-17T03:46:49.429Z"
   },
   {
    "duration": 6,
    "start_time": "2021-11-17T03:46:49.440Z"
   },
   {
    "duration": 109,
    "start_time": "2021-11-17T03:46:49.448Z"
   },
   {
    "duration": 7,
    "start_time": "2021-11-17T03:46:49.559Z"
   },
   {
    "duration": 21,
    "start_time": "2021-11-17T03:46:49.567Z"
   },
   {
    "duration": 31,
    "start_time": "2021-11-17T03:46:49.590Z"
   },
   {
    "duration": 6,
    "start_time": "2021-11-17T03:46:49.623Z"
   },
   {
    "duration": 11,
    "start_time": "2021-11-17T03:46:49.631Z"
   },
   {
    "duration": 2,
    "start_time": "2021-11-17T06:46:20.963Z"
   },
   {
    "duration": 6706579,
    "start_time": "2021-11-17T06:46:27.555Z"
   },
   {
    "duration": 3,
    "start_time": "2021-11-17T08:51:44.004Z"
   },
   {
    "duration": 3,
    "start_time": "2021-11-17T08:52:28.166Z"
   },
   {
    "duration": 191,
    "start_time": "2021-11-17T08:52:28.808Z"
   },
   {
    "duration": 9,
    "start_time": "2021-11-17T08:52:29.320Z"
   },
   {
    "duration": 7,
    "start_time": "2021-11-17T08:52:30.019Z"
   },
   {
    "duration": 45,
    "start_time": "2021-11-17T08:52:48.247Z"
   },
   {
    "duration": 5,
    "start_time": "2021-11-17T08:52:49.343Z"
   },
   {
    "duration": 5,
    "start_time": "2021-11-17T08:52:49.929Z"
   },
   {
    "duration": 267,
    "start_time": "2021-11-17T08:53:11.109Z"
   },
   {
    "duration": 7,
    "start_time": "2021-11-17T08:53:20.472Z"
   },
   {
    "duration": 3,
    "start_time": "2021-11-17T08:53:22.969Z"
   },
   {
    "duration": 11,
    "start_time": "2021-11-17T08:53:24.249Z"
   },
   {
    "duration": 4,
    "start_time": "2021-11-17T08:53:24.779Z"
   },
   {
    "duration": 270,
    "start_time": "2021-11-17T08:53:25.895Z"
   },
   {
    "duration": 1105,
    "start_time": "2021-11-17T08:54:48.214Z"
   },
   {
    "duration": 30,
    "start_time": "2021-11-17T08:54:49.320Z"
   },
   {
    "duration": 12,
    "start_time": "2021-11-17T08:54:49.352Z"
   },
   {
    "duration": 7,
    "start_time": "2021-11-17T08:54:49.366Z"
   },
   {
    "duration": 14,
    "start_time": "2021-11-17T08:54:49.375Z"
   },
   {
    "duration": 9,
    "start_time": "2021-11-17T08:54:49.390Z"
   },
   {
    "duration": 32,
    "start_time": "2021-11-17T08:54:49.401Z"
   },
   {
    "duration": 6,
    "start_time": "2021-11-17T08:54:49.436Z"
   },
   {
    "duration": 5,
    "start_time": "2021-11-17T08:54:49.444Z"
   },
   {
    "duration": 5,
    "start_time": "2021-11-17T08:54:49.450Z"
   },
   {
    "duration": 33,
    "start_time": "2021-11-17T08:54:49.456Z"
   },
   {
    "duration": 6,
    "start_time": "2021-11-17T08:54:49.491Z"
   },
   {
    "duration": 8,
    "start_time": "2021-11-17T08:54:49.499Z"
   },
   {
    "duration": 329,
    "start_time": "2021-11-17T08:54:49.508Z"
   },
   {
    "duration": 3,
    "start_time": "2021-11-17T08:54:49.839Z"
   },
   {
    "duration": 123,
    "start_time": "2021-11-17T08:54:49.844Z"
   },
   {
    "duration": 18,
    "start_time": "2021-11-17T08:54:49.969Z"
   },
   {
    "duration": 10,
    "start_time": "2021-11-17T08:54:49.989Z"
   },
   {
    "duration": 518,
    "start_time": "2021-11-17T08:54:50.001Z"
   },
   {
    "duration": 18018,
    "start_time": "2021-11-17T08:54:50.521Z"
   },
   {
    "duration": 813,
    "start_time": "2021-11-17T08:55:08.541Z"
   },
   {
    "duration": 4,
    "start_time": "2021-11-17T08:55:09.355Z"
   },
   {
    "duration": 35,
    "start_time": "2021-11-17T08:55:09.362Z"
   },
   {
    "duration": 10,
    "start_time": "2021-11-17T08:55:09.399Z"
   },
   {
    "duration": 12,
    "start_time": "2021-11-17T08:55:09.411Z"
   },
   {
    "duration": 3,
    "start_time": "2021-11-17T08:55:09.425Z"
   },
   {
    "duration": 4,
    "start_time": "2021-11-17T08:55:09.430Z"
   },
   {
    "duration": 7,
    "start_time": "2021-11-17T08:55:09.436Z"
   },
   {
    "duration": 8,
    "start_time": "2021-11-17T08:55:09.444Z"
   },
   {
    "duration": 5,
    "start_time": "2021-11-17T08:55:09.453Z"
   },
   {
    "duration": 5,
    "start_time": "2021-11-17T08:55:09.459Z"
   },
   {
    "duration": 26,
    "start_time": "2021-11-17T08:55:09.465Z"
   },
   {
    "duration": 7,
    "start_time": "2021-11-17T08:55:09.492Z"
   },
   {
    "duration": 6,
    "start_time": "2021-11-17T08:55:09.500Z"
   },
   {
    "duration": 1526,
    "start_time": "2021-11-17T08:55:09.507Z"
   },
   {
    "duration": 214,
    "start_time": "2021-11-17T08:55:11.035Z"
   },
   {
    "duration": 7,
    "start_time": "2021-11-17T08:55:11.250Z"
   },
   {
    "duration": 7,
    "start_time": "2021-11-17T08:55:11.258Z"
   },
   {
    "duration": 82,
    "start_time": "2021-11-17T08:55:11.266Z"
   },
   {
    "duration": 5,
    "start_time": "2021-11-17T08:55:11.349Z"
   },
   {
    "duration": 124,
    "start_time": "2021-11-17T08:55:11.355Z"
   },
   {
    "duration": 270,
    "start_time": "2021-11-17T08:58:09.682Z"
   },
   {
    "duration": 6,
    "start_time": "2021-11-17T08:58:12.366Z"
   },
   {
    "duration": 3,
    "start_time": "2021-11-17T08:58:14.883Z"
   },
   {
    "duration": 10,
    "start_time": "2021-11-17T08:58:16.151Z"
   },
   {
    "duration": 4,
    "start_time": "2021-11-17T08:58:18.442Z"
   },
   {
    "duration": 273,
    "start_time": "2021-11-17T08:58:19.482Z"
   },
   {
    "duration": 6,
    "start_time": "2021-11-17T08:58:25.906Z"
   },
   {
    "duration": 3,
    "start_time": "2021-11-17T08:58:29.018Z"
   },
   {
    "duration": 6072929,
    "start_time": "2021-11-17T08:58:32.130Z"
   },
   {
    "duration": 5,
    "start_time": "2021-11-17T10:57:05.000Z"
   },
   {
    "duration": 3,
    "start_time": "2021-11-17T10:58:11.812Z"
   },
   {
    "duration": 10,
    "start_time": "2021-11-17T10:59:12.580Z"
   },
   {
    "duration": 3,
    "start_time": "2021-11-17T11:00:23.076Z"
   },
   {
    "duration": 3996361,
    "start_time": "2021-11-17T11:00:25.917Z"
   },
   {
    "duration": 3,
    "start_time": "2021-11-17T12:11:34.032Z"
   },
   {
    "duration": 3,
    "start_time": "2021-11-17T12:12:00.612Z"
   },
   {
    "duration": 4540012,
    "start_time": "2021-11-17T12:12:06.835Z"
   },
   {
    "duration": 1212,
    "start_time": "2021-11-18T20:40:53.878Z"
   },
   {
    "duration": 1741,
    "start_time": "2021-11-18T20:40:55.092Z"
   },
   {
    "duration": 202,
    "start_time": "2021-11-18T20:40:56.633Z"
   },
   {
    "duration": 194,
    "start_time": "2021-11-18T20:40:56.642Z"
   },
   {
    "duration": 187,
    "start_time": "2021-11-18T20:40:56.650Z"
   },
   {
    "duration": 180,
    "start_time": "2021-11-18T20:40:56.658Z"
   },
   {
    "duration": 173,
    "start_time": "2021-11-18T20:40:56.666Z"
   },
   {
    "duration": 165,
    "start_time": "2021-11-18T20:40:56.675Z"
   },
   {
    "duration": 157,
    "start_time": "2021-11-18T20:40:56.684Z"
   },
   {
    "duration": 149,
    "start_time": "2021-11-18T20:40:56.693Z"
   },
   {
    "duration": 141,
    "start_time": "2021-11-18T20:40:56.702Z"
   },
   {
    "duration": 133,
    "start_time": "2021-11-18T20:40:56.711Z"
   },
   {
    "duration": 127,
    "start_time": "2021-11-18T20:40:56.718Z"
   },
   {
    "duration": 119,
    "start_time": "2021-11-18T20:40:56.727Z"
   },
   {
    "duration": 55,
    "start_time": "2021-11-18T20:40:56.792Z"
   },
   {
    "duration": 4,
    "start_time": "2021-11-18T20:41:23.554Z"
   },
   {
    "duration": 38,
    "start_time": "2021-11-18T20:41:23.561Z"
   },
   {
    "duration": 14,
    "start_time": "2021-11-18T20:41:23.600Z"
   },
   {
    "duration": 8,
    "start_time": "2021-11-18T20:41:23.616Z"
   },
   {
    "duration": 6,
    "start_time": "2021-11-18T20:41:23.626Z"
   },
   {
    "duration": 37,
    "start_time": "2021-11-18T20:41:23.634Z"
   },
   {
    "duration": 51,
    "start_time": "2021-11-18T20:41:23.673Z"
   },
   {
    "duration": 8,
    "start_time": "2021-11-18T20:41:23.726Z"
   },
   {
    "duration": 34,
    "start_time": "2021-11-18T20:41:23.737Z"
   },
   {
    "duration": 6,
    "start_time": "2021-11-18T20:41:23.775Z"
   },
   {
    "duration": 12,
    "start_time": "2021-11-18T20:41:23.783Z"
   },
   {
    "duration": 16,
    "start_time": "2021-11-18T20:41:23.797Z"
   },
   {
    "duration": 18,
    "start_time": "2021-11-18T20:41:23.815Z"
   },
   {
    "duration": 399,
    "start_time": "2021-11-18T20:41:23.834Z"
   },
   {
    "duration": 26,
    "start_time": "2021-11-18T20:41:56.783Z"
   },
   {
    "duration": 6,
    "start_time": "2021-11-18T20:42:18.545Z"
   },
   {
    "duration": 8,
    "start_time": "2021-11-18T20:42:38.748Z"
   },
   {
    "duration": 256,
    "start_time": "2021-11-18T20:43:06.621Z"
   },
   {
    "duration": 4,
    "start_time": "2021-11-18T20:44:06.047Z"
   },
   {
    "duration": 5,
    "start_time": "2021-11-18T20:44:14.037Z"
   },
   {
    "duration": 19,
    "start_time": "2021-11-18T20:44:27.777Z"
   },
   {
    "duration": 8,
    "start_time": "2021-11-18T20:44:48.802Z"
   },
   {
    "duration": 4,
    "start_time": "2021-11-18T20:46:13.142Z"
   },
   {
    "duration": 8,
    "start_time": "2021-11-18T20:46:16.754Z"
   },
   {
    "duration": 9,
    "start_time": "2021-11-18T20:46:20.850Z"
   },
   {
    "duration": 4,
    "start_time": "2021-11-18T20:50:39.339Z"
   },
   {
    "duration": 40,
    "start_time": "2021-11-18T20:50:39.347Z"
   },
   {
    "duration": 11,
    "start_time": "2021-11-18T20:50:39.389Z"
   },
   {
    "duration": 10,
    "start_time": "2021-11-18T20:50:39.402Z"
   },
   {
    "duration": 9,
    "start_time": "2021-11-18T20:50:39.414Z"
   },
   {
    "duration": 12,
    "start_time": "2021-11-18T20:50:39.425Z"
   },
   {
    "duration": 43,
    "start_time": "2021-11-18T20:50:39.466Z"
   },
   {
    "duration": 6,
    "start_time": "2021-11-18T20:50:39.510Z"
   },
   {
    "duration": 20,
    "start_time": "2021-11-18T20:50:39.518Z"
   },
   {
    "duration": 10,
    "start_time": "2021-11-18T20:50:39.539Z"
   },
   {
    "duration": 14,
    "start_time": "2021-11-18T20:50:39.550Z"
   },
   {
    "duration": 7,
    "start_time": "2021-11-18T20:50:39.567Z"
   },
   {
    "duration": 18,
    "start_time": "2021-11-18T20:50:39.576Z"
   },
   {
    "duration": 386,
    "start_time": "2021-11-18T20:50:39.596Z"
   },
   {
    "duration": 8,
    "start_time": "2021-11-18T20:50:39.983Z"
   },
   {
    "duration": 5,
    "start_time": "2021-11-18T20:50:43.472Z"
   },
   {
    "duration": 11,
    "start_time": "2021-11-18T20:52:23.336Z"
   },
   {
    "duration": 11,
    "start_time": "2021-11-18T20:52:28.582Z"
   },
   {
    "duration": 603,
    "start_time": "2021-11-18T20:52:40.812Z"
   },
   {
    "duration": 22199,
    "start_time": "2021-11-18T20:52:46.731Z"
   },
   {
    "duration": 843,
    "start_time": "2021-11-18T20:53:11.615Z"
   },
   {
    "duration": 5,
    "start_time": "2021-11-18T20:56:40.197Z"
   },
   {
    "duration": 12,
    "start_time": "2021-11-18T20:57:11.699Z"
   },
   {
    "duration": 5,
    "start_time": "2021-11-18T21:02:24.898Z"
   },
   {
    "duration": 5,
    "start_time": "2021-11-18T21:07:30.132Z"
   },
   {
    "duration": 6,
    "start_time": "2021-11-18T21:23:28.963Z"
   },
   {
    "duration": 3,
    "start_time": "2021-11-18T21:26:09.569Z"
   },
   {
    "duration": 9,
    "start_time": "2021-11-18T21:26:15.733Z"
   },
   {
    "duration": 4,
    "start_time": "2021-11-18T21:26:18.395Z"
   },
   {
    "duration": 4,
    "start_time": "2021-11-18T21:30:47.890Z"
   },
   {
    "duration": 3,
    "start_time": "2021-11-18T21:30:49.030Z"
   },
   {
    "duration": 4,
    "start_time": "2021-11-18T21:30:49.670Z"
   },
   {
    "duration": 4,
    "start_time": "2021-11-18T21:30:50.279Z"
   },
   {
    "duration": 4,
    "start_time": "2021-11-18T21:30:51.800Z"
   },
   {
    "duration": 4,
    "start_time": "2021-11-18T21:30:52.626Z"
   },
   {
    "duration": 4,
    "start_time": "2021-11-18T21:30:53.552Z"
   },
   {
    "duration": 4,
    "start_time": "2021-11-18T21:30:54.350Z"
   },
   {
    "duration": 4,
    "start_time": "2021-11-18T21:31:15.686Z"
   },
   {
    "duration": 289,
    "start_time": "2021-11-18T21:31:17.623Z"
   },
   {
    "duration": 648,
    "start_time": "2021-11-18T21:32:25.191Z"
   },
   {
    "duration": 277,
    "start_time": "2021-11-18T21:32:49.517Z"
   },
   {
    "duration": 3,
    "start_time": "2021-11-18T21:39:22.791Z"
   },
   {
    "duration": 257,
    "start_time": "2021-11-18T21:39:26.489Z"
   },
   {
    "duration": 406,
    "start_time": "2021-11-18T21:39:35.570Z"
   },
   {
    "duration": 3,
    "start_time": "2021-11-18T21:39:59.330Z"
   },
   {
    "duration": 69795,
    "start_time": "2021-11-18T21:40:01.458Z"
   },
   {
    "duration": 4,
    "start_time": "2021-11-18T21:41:17.135Z"
   },
   {
    "duration": 3,
    "start_time": "2021-11-18T21:42:02.801Z"
   },
   {
    "duration": 6,
    "start_time": "2021-11-18T21:42:04.047Z"
   },
   {
    "duration": 7,
    "start_time": "2021-11-18T21:42:07.403Z"
   },
   {
    "duration": 6,
    "start_time": "2021-11-18T21:42:08.785Z"
   },
   {
    "duration": 11,
    "start_time": "2021-11-18T21:42:29.738Z"
   },
   {
    "duration": 878,
    "start_time": "2021-11-18T21:45:49.986Z"
   },
   {
    "duration": 2,
    "start_time": "2021-11-18T21:45:55.860Z"
   },
   {
    "duration": 6,
    "start_time": "2021-11-18T21:45:57.254Z"
   },
   {
    "duration": 8,
    "start_time": "2021-11-18T21:45:58.122Z"
   },
   {
    "duration": 7,
    "start_time": "2021-11-18T21:45:59.398Z"
   },
   {
    "duration": 5,
    "start_time": "2021-11-18T21:48:25.301Z"
   },
   {
    "duration": 6,
    "start_time": "2021-11-18T21:48:26.700Z"
   },
   {
    "duration": 6,
    "start_time": "2021-11-18T21:48:30.783Z"
   },
   {
    "duration": 260,
    "start_time": "2021-11-18T22:42:49.649Z"
   },
   {
    "duration": 8155,
    "start_time": "2021-11-18T22:43:30.459Z"
   },
   {
    "duration": 285,
    "start_time": "2021-11-18T22:43:44.491Z"
   },
   {
    "duration": 252,
    "start_time": "2021-11-18T22:44:40.164Z"
   },
   {
    "duration": 260,
    "start_time": "2021-11-18T22:44:52.112Z"
   },
   {
    "duration": 250,
    "start_time": "2021-11-18T22:46:15.055Z"
   },
   {
    "duration": 246,
    "start_time": "2021-11-18T22:47:28.136Z"
   },
   {
    "duration": 245,
    "start_time": "2021-11-18T22:48:42.588Z"
   },
   {
    "duration": 3560,
    "start_time": "2021-11-18T22:49:07.289Z"
   },
   {
    "duration": 257,
    "start_time": "2021-11-18T22:49:15.497Z"
   },
   {
    "duration": 2589,
    "start_time": "2021-11-18T22:50:20.121Z"
   },
   {
    "duration": 265,
    "start_time": "2021-11-18T22:50:26.266Z"
   },
   {
    "duration": 513,
    "start_time": "2021-11-18T22:50:29.640Z"
   },
   {
    "duration": 5134,
    "start_time": "2021-11-18T22:51:10.828Z"
   },
   {
    "duration": 5182,
    "start_time": "2021-11-18T22:51:36.899Z"
   },
   {
    "duration": 256,
    "start_time": "2021-11-18T22:53:40.567Z"
   },
   {
    "duration": 2,
    "start_time": "2021-11-18T22:54:20.645Z"
   },
   {
    "duration": 239,
    "start_time": "2021-11-18T22:54:29.785Z"
   },
   {
    "duration": 234,
    "start_time": "2021-11-18T22:54:34.551Z"
   },
   {
    "duration": 5,
    "start_time": "2021-11-18T22:54:48.262Z"
   },
   {
    "duration": 2580,
    "start_time": "2021-11-18T22:55:51.726Z"
   },
   {
    "duration": 4,
    "start_time": "2021-11-18T22:55:57.594Z"
   },
   {
    "duration": 2101,
    "start_time": "2021-11-18T22:56:06.630Z"
   },
   {
    "duration": 4,
    "start_time": "2021-11-18T22:56:12.188Z"
   },
   {
    "duration": 6069,
    "start_time": "2021-11-18T22:59:57.284Z"
   },
   {
    "duration": 5,
    "start_time": "2021-11-18T23:00:06.936Z"
   },
   {
    "duration": 2561,
    "start_time": "2021-11-18T23:00:28.831Z"
   },
   {
    "duration": 259,
    "start_time": "2021-11-18T23:01:37.187Z"
   },
   {
    "duration": 254,
    "start_time": "2021-11-18T23:01:46.180Z"
   },
   {
    "duration": 1374,
    "start_time": "2021-11-18T23:03:14.722Z"
   },
   {
    "duration": 4419,
    "start_time": "2021-11-18T23:03:24.777Z"
   },
   {
    "duration": 262,
    "start_time": "2021-11-18T23:03:34.327Z"
   },
   {
    "duration": 2117,
    "start_time": "2021-11-18T23:04:24.969Z"
   },
   {
    "duration": 5050,
    "start_time": "2021-11-18T23:05:03.611Z"
   },
   {
    "duration": 262,
    "start_time": "2021-11-18T23:05:11.310Z"
   },
   {
    "duration": 264,
    "start_time": "2021-11-18T23:05:14.166Z"
   },
   {
    "duration": 4369,
    "start_time": "2021-11-18T23:05:26.791Z"
   },
   {
    "duration": 5920,
    "start_time": "2021-11-18T23:06:20.051Z"
   },
   {
    "duration": 378,
    "start_time": "2021-11-18T23:06:31.309Z"
   },
   {
    "duration": 247,
    "start_time": "2021-11-18T23:06:34.641Z"
   },
   {
    "duration": 941,
    "start_time": "2021-11-18T23:07:05.875Z"
   },
   {
    "duration": 930,
    "start_time": "2021-11-18T23:07:13.196Z"
   },
   {
    "duration": 936,
    "start_time": "2021-11-18T23:07:24.337Z"
   },
   {
    "duration": 4981,
    "start_time": "2021-11-18T23:08:03.040Z"
   },
   {
    "duration": 259,
    "start_time": "2021-11-18T23:08:13.435Z"
   },
   {
    "duration": 242,
    "start_time": "2021-11-18T23:08:19.308Z"
   },
   {
    "duration": 2468,
    "start_time": "2021-11-18T23:08:55.852Z"
   },
   {
    "duration": 276,
    "start_time": "2021-11-18T23:09:10.937Z"
   },
   {
    "duration": 232,
    "start_time": "2021-11-18T23:09:14.088Z"
   },
   {
    "duration": 34614,
    "start_time": "2021-11-18T23:12:44.765Z"
   },
   {
    "duration": 42348,
    "start_time": "2021-11-18T23:14:04.399Z"
   },
   {
    "duration": 103623,
    "start_time": "2021-11-18T23:14:52.734Z"
   },
   {
    "duration": 7405,
    "start_time": "2021-11-18T23:16:40.543Z"
   },
   {
    "duration": 2059,
    "start_time": "2021-11-18T23:16:56.706Z"
   },
   {
    "duration": 259,
    "start_time": "2021-11-18T23:17:02.955Z"
   },
   {
    "duration": 267,
    "start_time": "2021-11-18T23:17:06.291Z"
   },
   {
    "duration": 4346,
    "start_time": "2021-11-18T23:19:01.781Z"
   },
   {
    "duration": 5129,
    "start_time": "2021-11-18T23:19:20.901Z"
   },
   {
    "duration": 259,
    "start_time": "2021-11-18T23:19:30.992Z"
   },
   {
    "duration": 249,
    "start_time": "2021-11-18T23:19:33.831Z"
   },
   {
    "duration": 3036,
    "start_time": "2021-11-18T23:19:56.879Z"
   },
   {
    "duration": 262,
    "start_time": "2021-11-18T23:20:05.173Z"
   },
   {
    "duration": 278,
    "start_time": "2021-11-18T23:20:08.447Z"
   },
   {
    "duration": 2603,
    "start_time": "2021-11-18T23:20:39.150Z"
   },
   {
    "duration": 250,
    "start_time": "2021-11-18T23:20:48.532Z"
   },
   {
    "duration": 234,
    "start_time": "2021-11-18T23:20:51.528Z"
   },
   {
    "duration": 4977,
    "start_time": "2021-11-18T23:21:24.284Z"
   },
   {
    "duration": 258,
    "start_time": "2021-11-18T23:21:33.382Z"
   },
   {
    "duration": 604,
    "start_time": "2021-11-18T23:21:38.227Z"
   },
   {
    "duration": 2181,
    "start_time": "2021-11-18T23:23:02.375Z"
   },
   {
    "duration": 5074,
    "start_time": "2021-11-18T23:23:17.591Z"
   },
   {
    "duration": 246,
    "start_time": "2021-11-18T23:23:34.956Z"
   },
   {
    "duration": 3,
    "start_time": "2021-11-18T23:23:45.836Z"
   },
   {
    "duration": 3,
    "start_time": "2021-11-18T23:23:48.625Z"
   },
   {
    "duration": 281,
    "start_time": "2021-11-18T23:23:51.503Z"
   },
   {
    "duration": 239,
    "start_time": "2021-11-18T23:25:03.168Z"
   },
   {
    "duration": 233,
    "start_time": "2021-11-18T23:25:09.791Z"
   },
   {
    "duration": 3,
    "start_time": "2021-11-18T23:25:14.034Z"
   },
   {
    "duration": 3,
    "start_time": "2021-11-18T23:25:48.389Z"
   },
   {
    "duration": 256,
    "start_time": "2021-11-18T23:25:52.379Z"
   },
   {
    "duration": 3,
    "start_time": "2021-11-18T23:26:23.787Z"
   },
   {
    "duration": 2,
    "start_time": "2021-11-18T23:26:36.678Z"
   },
   {
    "duration": 285,
    "start_time": "2021-11-18T23:26:39.108Z"
   },
   {
    "duration": 3,
    "start_time": "2021-11-18T23:26:55.700Z"
   },
   {
    "duration": 3,
    "start_time": "2021-11-18T23:27:08.162Z"
   },
   {
    "duration": 738,
    "start_time": "2021-11-18T23:27:11.045Z"
   },
   {
    "duration": 2,
    "start_time": "2021-11-18T23:27:37.083Z"
   },
   {
    "duration": 4,
    "start_time": "2021-11-18T23:27:39.399Z"
   },
   {
    "duration": 1192,
    "start_time": "2021-11-18T23:28:30.500Z"
   },
   {
    "duration": 32,
    "start_time": "2021-11-18T23:28:31.694Z"
   },
   {
    "duration": 81,
    "start_time": "2021-11-18T23:28:31.728Z"
   },
   {
    "duration": 49,
    "start_time": "2021-11-18T23:28:31.811Z"
   },
   {
    "duration": 17,
    "start_time": "2021-11-18T23:28:31.862Z"
   },
   {
    "duration": 21,
    "start_time": "2021-11-18T23:28:31.881Z"
   },
   {
    "duration": 63,
    "start_time": "2021-11-18T23:28:31.904Z"
   },
   {
    "duration": 12,
    "start_time": "2021-11-18T23:28:31.969Z"
   },
   {
    "duration": 24,
    "start_time": "2021-11-18T23:28:31.983Z"
   },
   {
    "duration": 22,
    "start_time": "2021-11-18T23:28:32.009Z"
   },
   {
    "duration": 19,
    "start_time": "2021-11-18T23:28:32.033Z"
   },
   {
    "duration": 26,
    "start_time": "2021-11-18T23:28:32.054Z"
   },
   {
    "duration": 17,
    "start_time": "2021-11-18T23:28:32.081Z"
   },
   {
    "duration": 346,
    "start_time": "2021-11-18T23:28:32.099Z"
   },
   {
    "duration": 8,
    "start_time": "2021-11-18T23:28:32.447Z"
   },
   {
    "duration": 4,
    "start_time": "2021-11-18T23:28:32.463Z"
   },
   {
    "duration": 17,
    "start_time": "2021-11-18T23:28:32.468Z"
   },
   {
    "duration": 12,
    "start_time": "2021-11-18T23:28:32.487Z"
   },
   {
    "duration": 564,
    "start_time": "2021-11-18T23:28:32.500Z"
   },
   {
    "duration": 22598,
    "start_time": "2021-11-18T23:28:33.066Z"
   },
   {
    "duration": 816,
    "start_time": "2021-11-18T23:28:55.665Z"
   },
   {
    "duration": 4,
    "start_time": "2021-11-18T23:28:56.483Z"
   },
   {
    "duration": 13,
    "start_time": "2021-11-18T23:28:56.491Z"
   },
   {
    "duration": 14,
    "start_time": "2021-11-18T23:28:56.506Z"
   },
   {
    "duration": 4,
    "start_time": "2021-11-18T23:28:56.521Z"
   },
   {
    "duration": 7,
    "start_time": "2021-11-18T23:28:56.527Z"
   },
   {
    "duration": 10,
    "start_time": "2021-11-18T23:28:56.535Z"
   },
   {
    "duration": 4,
    "start_time": "2021-11-18T23:28:56.563Z"
   },
   {
    "duration": 11,
    "start_time": "2021-11-18T23:28:56.568Z"
   },
   {
    "duration": 9,
    "start_time": "2021-11-18T23:28:56.580Z"
   },
   {
    "duration": 10,
    "start_time": "2021-11-18T23:28:56.591Z"
   },
   {
    "duration": 12,
    "start_time": "2021-11-18T23:28:56.602Z"
   },
   {
    "duration": 17,
    "start_time": "2021-11-18T23:28:56.615Z"
   },
   {
    "duration": 78560,
    "start_time": "2021-11-18T23:28:56.633Z"
   },
   {
    "duration": 4,
    "start_time": "2021-11-18T23:30:15.194Z"
   },
   {
    "duration": 45,
    "start_time": "2021-11-18T23:30:15.199Z"
   },
   {
    "duration": 28,
    "start_time": "2021-11-18T23:30:15.246Z"
   },
   {
    "duration": 40,
    "start_time": "2021-11-18T23:30:15.275Z"
   },
   {
    "duration": 13,
    "start_time": "2021-11-18T23:30:15.317Z"
   },
   {
    "duration": 1223,
    "start_time": "2021-11-18T23:41:39.652Z"
   },
   {
    "duration": 31,
    "start_time": "2021-11-18T23:41:40.877Z"
   },
   {
    "duration": 14,
    "start_time": "2021-11-18T23:41:40.910Z"
   },
   {
    "duration": 9,
    "start_time": "2021-11-18T23:41:40.926Z"
   },
   {
    "duration": 7,
    "start_time": "2021-11-18T23:41:40.936Z"
   },
   {
    "duration": 22,
    "start_time": "2021-11-18T23:41:40.944Z"
   },
   {
    "duration": 37,
    "start_time": "2021-11-18T23:41:40.967Z"
   },
   {
    "duration": 6,
    "start_time": "2021-11-18T23:41:41.006Z"
   },
   {
    "duration": 4,
    "start_time": "2021-11-18T23:41:41.014Z"
   },
   {
    "duration": 5,
    "start_time": "2021-11-18T23:41:41.020Z"
   },
   {
    "duration": 6,
    "start_time": "2021-11-18T23:41:41.026Z"
   },
   {
    "duration": 31,
    "start_time": "2021-11-18T23:41:41.034Z"
   },
   {
    "duration": 10,
    "start_time": "2021-11-18T23:41:41.066Z"
   },
   {
    "duration": 360,
    "start_time": "2021-11-18T23:41:41.077Z"
   },
   {
    "duration": 9,
    "start_time": "2021-11-18T23:41:41.438Z"
   },
   {
    "duration": 15,
    "start_time": "2021-11-18T23:41:41.449Z"
   },
   {
    "duration": 13,
    "start_time": "2021-11-18T23:41:41.466Z"
   },
   {
    "duration": 10,
    "start_time": "2021-11-18T23:41:41.480Z"
   },
   {
    "duration": 569,
    "start_time": "2021-11-18T23:41:41.492Z"
   },
   {
    "duration": 22256,
    "start_time": "2021-11-18T23:41:42.063Z"
   },
   {
    "duration": 866,
    "start_time": "2021-11-18T23:42:04.321Z"
   },
   {
    "duration": 4,
    "start_time": "2021-11-18T23:42:05.189Z"
   },
   {
    "duration": 17,
    "start_time": "2021-11-18T23:42:05.197Z"
   },
   {
    "duration": 24,
    "start_time": "2021-11-18T23:42:05.217Z"
   },
   {
    "duration": 12,
    "start_time": "2021-11-18T23:42:05.243Z"
   },
   {
    "duration": 26,
    "start_time": "2021-11-18T23:42:05.256Z"
   },
   {
    "duration": 10,
    "start_time": "2021-11-18T23:42:05.283Z"
   },
   {
    "duration": 20,
    "start_time": "2021-11-18T23:42:05.295Z"
   },
   {
    "duration": 14,
    "start_time": "2021-11-18T23:42:05.317Z"
   },
   {
    "duration": 21,
    "start_time": "2021-11-18T23:42:05.332Z"
   },
   {
    "duration": 23,
    "start_time": "2021-11-18T23:42:05.355Z"
   },
   {
    "duration": 15,
    "start_time": "2021-11-18T23:42:05.379Z"
   },
   {
    "duration": 23,
    "start_time": "2021-11-18T23:42:05.395Z"
   },
   {
    "duration": 77855,
    "start_time": "2021-11-18T23:42:05.419Z"
   },
   {
    "duration": 3,
    "start_time": "2021-11-18T23:43:23.276Z"
   },
   {
    "duration": 6,
    "start_time": "2021-11-18T23:43:23.281Z"
   },
   {
    "duration": 8,
    "start_time": "2021-11-18T23:43:23.289Z"
   },
   {
    "duration": 16,
    "start_time": "2021-11-18T23:43:23.298Z"
   },
   {
    "duration": 5,
    "start_time": "2021-11-18T23:43:23.316Z"
   },
   {
    "duration": 25,
    "start_time": "2021-11-18T23:43:23.323Z"
   },
   {
    "duration": 494481,
    "start_time": "2021-11-18T23:43:23.350Z"
   },
   {
    "duration": 466,
    "start_time": "2021-11-18T23:51:37.368Z"
   },
   {
    "duration": 453,
    "start_time": "2021-11-18T23:51:37.382Z"
   },
   {
    "duration": 444,
    "start_time": "2021-11-18T23:51:37.391Z"
   },
   {
    "duration": 436,
    "start_time": "2021-11-18T23:51:37.400Z"
   },
   {
    "duration": 391,
    "start_time": "2021-11-18T23:51:37.446Z"
   },
   {
    "duration": 382,
    "start_time": "2021-11-18T23:51:37.456Z"
   },
   {
    "duration": 373,
    "start_time": "2021-11-18T23:51:37.466Z"
   },
   {
    "duration": 366,
    "start_time": "2021-11-18T23:51:37.474Z"
   },
   {
    "duration": 356,
    "start_time": "2021-11-18T23:51:37.485Z"
   },
   {
    "duration": 348,
    "start_time": "2021-11-18T23:51:37.494Z"
   },
   {
    "duration": 335,
    "start_time": "2021-11-18T23:51:37.508Z"
   },
   {
    "duration": 323,
    "start_time": "2021-11-18T23:51:37.521Z"
   },
   {
    "duration": 314,
    "start_time": "2021-11-18T23:51:37.532Z"
   },
   {
    "duration": 307,
    "start_time": "2021-11-18T23:51:37.540Z"
   },
   {
    "duration": 212,
    "start_time": "2021-11-18T23:51:37.636Z"
   },
   {
    "duration": 202,
    "start_time": "2021-11-18T23:51:37.647Z"
   },
   {
    "duration": 190,
    "start_time": "2021-11-18T23:51:37.660Z"
   },
   {
    "duration": 180,
    "start_time": "2021-11-18T23:51:37.671Z"
   },
   {
    "duration": 163,
    "start_time": "2021-11-18T23:51:37.689Z"
   },
   {
    "duration": 152,
    "start_time": "2021-11-18T23:51:37.701Z"
   },
   {
    "duration": 142,
    "start_time": "2021-11-18T23:51:37.712Z"
   },
   {
    "duration": 132,
    "start_time": "2021-11-18T23:51:37.723Z"
   },
   {
    "duration": 65,
    "start_time": "2021-11-18T23:51:37.791Z"
   },
   {
    "duration": 52,
    "start_time": "2021-11-18T23:51:37.805Z"
   },
   {
    "duration": 21,
    "start_time": "2021-11-18T23:51:37.837Z"
   },
   {
    "duration": 1,
    "start_time": "2021-11-18T23:51:37.857Z"
   },
   {
    "duration": -9,
    "start_time": "2021-11-18T23:51:37.869Z"
   },
   {
    "duration": -20,
    "start_time": "2021-11-18T23:51:37.880Z"
   },
   {
    "duration": -76,
    "start_time": "2021-11-18T23:51:37.937Z"
   },
   {
    "duration": -84,
    "start_time": "2021-11-18T23:51:37.946Z"
   },
   {
    "duration": -91,
    "start_time": "2021-11-18T23:51:37.954Z"
   },
   {
    "duration": -97,
    "start_time": "2021-11-18T23:51:37.961Z"
   },
   {
    "duration": -105,
    "start_time": "2021-11-18T23:51:37.970Z"
   },
   {
    "duration": -112,
    "start_time": "2021-11-18T23:51:37.978Z"
   },
   {
    "duration": -119,
    "start_time": "2021-11-18T23:51:37.986Z"
   },
   {
    "duration": -126,
    "start_time": "2021-11-18T23:51:37.994Z"
   },
   {
    "duration": -185,
    "start_time": "2021-11-18T23:51:38.054Z"
   },
   {
    "duration": -193,
    "start_time": "2021-11-18T23:51:38.063Z"
   },
   {
    "duration": -201,
    "start_time": "2021-11-18T23:51:38.072Z"
   },
   {
    "duration": -208,
    "start_time": "2021-11-18T23:51:38.080Z"
   },
   {
    "duration": -217,
    "start_time": "2021-11-18T23:51:38.090Z"
   },
   {
    "duration": -224,
    "start_time": "2021-11-18T23:51:38.098Z"
   },
   {
    "duration": -233,
    "start_time": "2021-11-18T23:51:38.108Z"
   },
   {
    "duration": -240,
    "start_time": "2021-11-18T23:51:38.116Z"
   },
   {
    "duration": -249,
    "start_time": "2021-11-18T23:51:38.126Z"
   },
   {
    "duration": -256,
    "start_time": "2021-11-18T23:51:38.134Z"
   },
   {
    "duration": -266,
    "start_time": "2021-11-18T23:51:38.145Z"
   },
   {
    "duration": 1235,
    "start_time": "2021-11-18T23:52:15.635Z"
   },
   {
    "duration": 31,
    "start_time": "2021-11-18T23:52:16.872Z"
   },
   {
    "duration": 13,
    "start_time": "2021-11-18T23:52:16.905Z"
   },
   {
    "duration": 8,
    "start_time": "2021-11-18T23:52:16.919Z"
   },
   {
    "duration": 6,
    "start_time": "2021-11-18T23:52:16.928Z"
   },
   {
    "duration": 12,
    "start_time": "2021-11-18T23:52:16.935Z"
   },
   {
    "duration": 48,
    "start_time": "2021-11-18T23:52:16.948Z"
   },
   {
    "duration": 6,
    "start_time": "2021-11-18T23:52:16.999Z"
   },
   {
    "duration": 5,
    "start_time": "2021-11-18T23:52:17.006Z"
   },
   {
    "duration": 5,
    "start_time": "2021-11-18T23:52:17.012Z"
   },
   {
    "duration": 6,
    "start_time": "2021-11-18T23:52:17.019Z"
   },
   {
    "duration": 8,
    "start_time": "2021-11-18T23:52:17.026Z"
   },
   {
    "duration": 34,
    "start_time": "2021-11-18T23:52:17.036Z"
   },
   {
    "duration": 349,
    "start_time": "2021-11-18T23:52:17.071Z"
   },
   {
    "duration": 8,
    "start_time": "2021-11-18T23:52:17.422Z"
   },
   {
    "duration": 3,
    "start_time": "2021-11-18T23:52:17.432Z"
   },
   {
    "duration": 26,
    "start_time": "2021-11-18T23:52:17.437Z"
   },
   {
    "duration": 10,
    "start_time": "2021-11-18T23:52:17.465Z"
   },
   {
    "duration": 560,
    "start_time": "2021-11-18T23:52:17.477Z"
   },
   {
    "duration": 21333,
    "start_time": "2021-11-18T23:52:18.039Z"
   },
   {
    "duration": 798,
    "start_time": "2021-11-18T23:52:39.374Z"
   },
   {
    "duration": 4,
    "start_time": "2021-11-18T23:52:40.174Z"
   },
   {
    "duration": 24,
    "start_time": "2021-11-18T23:52:40.182Z"
   },
   {
    "duration": 16,
    "start_time": "2021-11-18T23:52:40.208Z"
   },
   {
    "duration": 14,
    "start_time": "2021-11-18T23:52:40.226Z"
   },
   {
    "duration": 30,
    "start_time": "2021-11-18T23:52:40.242Z"
   },
   {
    "duration": 24,
    "start_time": "2021-11-18T23:52:40.273Z"
   },
   {
    "duration": 30,
    "start_time": "2021-11-18T23:52:40.299Z"
   },
   {
    "duration": 25,
    "start_time": "2021-11-18T23:52:40.331Z"
   },
   {
    "duration": 21,
    "start_time": "2021-11-18T23:52:40.357Z"
   },
   {
    "duration": 24,
    "start_time": "2021-11-18T23:52:40.380Z"
   },
   {
    "duration": 17,
    "start_time": "2021-11-18T23:52:40.405Z"
   },
   {
    "duration": 27,
    "start_time": "2021-11-18T23:52:40.424Z"
   },
   {
    "duration": 77836,
    "start_time": "2021-11-18T23:52:40.452Z"
   },
   {
    "duration": 3,
    "start_time": "2021-11-18T23:53:58.290Z"
   },
   {
    "duration": 4,
    "start_time": "2021-11-18T23:53:58.295Z"
   },
   {
    "duration": 8,
    "start_time": "2021-11-18T23:53:58.301Z"
   },
   {
    "duration": 8,
    "start_time": "2021-11-18T23:53:58.310Z"
   },
   {
    "duration": 6,
    "start_time": "2021-11-18T23:53:58.320Z"
   },
   {
    "duration": 3,
    "start_time": "2021-11-18T23:53:58.327Z"
   },
   {
    "duration": 4818948,
    "start_time": "2021-11-18T23:53:58.332Z"
   },
   {
    "duration": 4,
    "start_time": "2021-11-19T01:14:17.282Z"
   },
   {
    "duration": 21,
    "start_time": "2021-11-19T01:14:17.287Z"
   },
   {
    "duration": 203,
    "start_time": "2021-11-19T01:14:17.309Z"
   },
   {
    "duration": 7,
    "start_time": "2021-11-19T01:14:17.514Z"
   },
   {
    "duration": 16,
    "start_time": "2021-11-19T01:14:17.522Z"
   },
   {
    "duration": 1136,
    "start_time": "2021-11-19T01:14:17.539Z"
   },
   {
    "duration": 93,
    "start_time": "2021-11-19T01:14:18.771Z"
   },
   {
    "duration": 26,
    "start_time": "2021-11-19T01:14:18.865Z"
   },
   {
    "duration": 174,
    "start_time": "2021-11-19T01:14:18.894Z"
   },
   {
    "duration": 8,
    "start_time": "2021-11-19T01:14:19.070Z"
   },
   {
    "duration": 3,
    "start_time": "2021-11-19T01:14:19.080Z"
   },
   {
    "duration": 402,
    "start_time": "2021-11-19T01:14:19.085Z"
   },
   {
    "duration": 563,
    "start_time": "2021-11-19T01:14:18.927Z"
   },
   {
    "duration": 3,
    "start_time": "2021-11-19T07:02:29.568Z"
   },
   {
    "duration": 32571,
    "start_time": "2021-11-19T07:03:06.970Z"
   },
   {
    "duration": 4,
    "start_time": "2021-11-19T07:03:50.677Z"
   },
   {
    "duration": 4,
    "start_time": "2021-11-19T07:04:55.028Z"
   },
   {
    "duration": 84083,
    "start_time": "2021-11-19T07:04:57.644Z"
   },
   {
    "duration": 5,
    "start_time": "2021-11-19T07:08:30.930Z"
   },
   {
    "duration": 3,
    "start_time": "2021-11-19T07:08:35.490Z"
   },
   {
    "duration": 7,
    "start_time": "2021-11-19T07:08:36.222Z"
   },
   {
    "duration": 8,
    "start_time": "2021-11-19T07:08:37.182Z"
   },
   {
    "duration": 9,
    "start_time": "2021-11-19T07:08:38.466Z"
   },
   {
    "duration": 3,
    "start_time": "2021-11-19T07:08:58.457Z"
   },
   {
    "duration": 614229,
    "start_time": "2021-11-19T07:09:04.679Z"
   },
   {
    "duration": 4,
    "start_time": "2021-11-19T07:20:02.190Z"
   },
   {
    "duration": 5,
    "start_time": "2021-11-19T07:20:18.270Z"
   },
   {
    "duration": 1369,
    "start_time": "2021-11-19T08:35:54.352Z"
   },
   {
    "duration": 32,
    "start_time": "2021-11-19T08:35:55.724Z"
   },
   {
    "duration": 15,
    "start_time": "2021-11-19T08:35:55.758Z"
   },
   {
    "duration": 15,
    "start_time": "2021-11-19T08:35:55.775Z"
   },
   {
    "duration": 9,
    "start_time": "2021-11-19T08:35:55.792Z"
   },
   {
    "duration": 13,
    "start_time": "2021-11-19T08:35:55.803Z"
   },
   {
    "duration": 54,
    "start_time": "2021-11-19T08:35:55.818Z"
   },
   {
    "duration": 8,
    "start_time": "2021-11-19T08:35:55.876Z"
   },
   {
    "duration": 40,
    "start_time": "2021-11-19T08:35:55.886Z"
   },
   {
    "duration": 46,
    "start_time": "2021-11-19T08:35:55.928Z"
   },
   {
    "duration": 19,
    "start_time": "2021-11-19T08:35:55.976Z"
   },
   {
    "duration": 20,
    "start_time": "2021-11-19T08:35:55.997Z"
   },
   {
    "duration": 13,
    "start_time": "2021-11-19T08:35:56.019Z"
   },
   {
    "duration": 361,
    "start_time": "2021-11-19T08:35:56.033Z"
   },
   {
    "duration": 8,
    "start_time": "2021-11-19T08:35:56.396Z"
   },
   {
    "duration": 76,
    "start_time": "2021-11-19T08:35:56.405Z"
   },
   {
    "duration": 23,
    "start_time": "2021-11-19T08:35:56.483Z"
   },
   {
    "duration": 11,
    "start_time": "2021-11-19T08:35:56.508Z"
   },
   {
    "duration": 625,
    "start_time": "2021-11-19T08:35:56.521Z"
   },
   {
    "duration": 19886,
    "start_time": "2021-11-19T08:35:57.148Z"
   },
   {
    "duration": 834,
    "start_time": "2021-11-19T08:36:17.050Z"
   },
   {
    "duration": 5,
    "start_time": "2021-11-19T08:36:17.885Z"
   },
   {
    "duration": 13,
    "start_time": "2021-11-19T08:36:17.893Z"
   },
   {
    "duration": 13,
    "start_time": "2021-11-19T08:36:17.908Z"
   },
   {
    "duration": 4,
    "start_time": "2021-11-19T08:36:17.923Z"
   },
   {
    "duration": 6,
    "start_time": "2021-11-19T08:36:17.928Z"
   },
   {
    "duration": 4,
    "start_time": "2021-11-19T08:36:17.936Z"
   },
   {
    "duration": 4,
    "start_time": "2021-11-19T08:36:17.964Z"
   },
   {
    "duration": 7,
    "start_time": "2021-11-19T08:36:17.969Z"
   },
   {
    "duration": 11,
    "start_time": "2021-11-19T08:36:17.977Z"
   },
   {
    "duration": 10,
    "start_time": "2021-11-19T08:36:17.989Z"
   },
   {
    "duration": 16,
    "start_time": "2021-11-19T08:36:18.000Z"
   },
   {
    "duration": 8,
    "start_time": "2021-11-19T08:36:18.017Z"
   },
   {
    "duration": 84646,
    "start_time": "2021-11-19T08:36:18.026Z"
   },
   {
    "duration": 4,
    "start_time": "2021-11-19T08:37:42.674Z"
   },
   {
    "duration": 4,
    "start_time": "2021-11-19T08:37:42.681Z"
   },
   {
    "duration": 9,
    "start_time": "2021-11-19T08:37:42.687Z"
   },
   {
    "duration": 9,
    "start_time": "2021-11-19T08:37:42.698Z"
   },
   {
    "duration": 8,
    "start_time": "2021-11-19T08:37:42.709Z"
   },
   {
    "duration": 4,
    "start_time": "2021-11-19T08:37:42.719Z"
   },
   {
    "duration": 5129728,
    "start_time": "2021-11-19T08:37:42.725Z"
   },
   {
    "duration": 8,
    "start_time": "2021-11-19T10:03:12.455Z"
   },
   {
    "duration": 3,
    "start_time": "2021-11-19T10:03:12.465Z"
   },
   {
    "duration": 253,
    "start_time": "2021-11-19T10:03:12.470Z"
   },
   {
    "duration": 9,
    "start_time": "2021-11-19T10:03:12.725Z"
   },
   {
    "duration": 7,
    "start_time": "2021-11-19T10:03:12.735Z"
   },
   {
    "duration": 1229,
    "start_time": "2021-11-19T10:03:12.744Z"
   },
   {
    "duration": 4,
    "start_time": "2021-11-19T10:03:14.066Z"
   },
   {
    "duration": 96,
    "start_time": "2021-11-19T10:03:14.072Z"
   },
   {
    "duration": 97,
    "start_time": "2021-11-19T10:03:14.171Z"
   },
   {
    "duration": 96,
    "start_time": "2021-11-19T10:03:14.272Z"
   },
   {
    "duration": 15,
    "start_time": "2021-11-19T10:03:14.370Z"
   },
   {
    "duration": 33367,
    "start_time": "2021-11-19T10:03:14.386Z"
   },
   {
    "duration": 9,
    "start_time": "2021-11-19T10:03:47.755Z"
   },
   {
    "duration": 3,
    "start_time": "2021-11-19T10:24:12.907Z"
   },
   {
    "duration": 91484,
    "start_time": "2021-11-19T10:24:14.221Z"
   },
   {
    "duration": 4,
    "start_time": "2021-11-19T10:31:23.756Z"
   },
   {
    "duration": 4,
    "start_time": "2021-11-19T10:31:25.661Z"
   },
   {
    "duration": 7,
    "start_time": "2021-11-19T10:31:26.432Z"
   },
   {
    "duration": 9,
    "start_time": "2021-11-19T10:31:27.331Z"
   },
   {
    "duration": 10,
    "start_time": "2021-11-19T10:31:28.268Z"
   },
   {
    "duration": 3,
    "start_time": "2021-11-19T10:31:36.520Z"
   },
   {
    "duration": 668172,
    "start_time": "2021-11-19T10:31:38.910Z"
   },
   {
    "duration": 6,
    "start_time": "2021-11-19T10:52:24.168Z"
   },
   {
    "duration": 3,
    "start_time": "2021-11-19T10:52:40.453Z"
   },
   {
    "duration": 4034069,
    "start_time": "2021-11-19T12:31:34.616Z"
   },
   {
    "duration": 1252,
    "start_time": "2021-11-19T19:51:12.330Z"
   },
   {
    "duration": 1303,
    "start_time": "2021-11-19T19:51:20.972Z"
   },
   {
    "duration": 642,
    "start_time": "2021-11-19T19:51:22.276Z"
   },
   {
    "duration": -17,
    "start_time": "2021-11-19T19:51:22.941Z"
   },
   {
    "duration": -26,
    "start_time": "2021-11-19T19:51:22.951Z"
   },
   {
    "duration": -33,
    "start_time": "2021-11-19T19:51:22.960Z"
   },
   {
    "duration": -42,
    "start_time": "2021-11-19T19:51:22.970Z"
   },
   {
    "duration": -51,
    "start_time": "2021-11-19T19:51:22.980Z"
   },
   {
    "duration": -59,
    "start_time": "2021-11-19T19:51:22.990Z"
   },
   {
    "duration": -73,
    "start_time": "2021-11-19T19:51:23.005Z"
   },
   {
    "duration": -81,
    "start_time": "2021-11-19T19:51:23.015Z"
   },
   {
    "duration": -94,
    "start_time": "2021-11-19T19:51:23.029Z"
   },
   {
    "duration": -102,
    "start_time": "2021-11-19T19:51:23.038Z"
   },
   {
    "duration": -186,
    "start_time": "2021-11-19T19:51:23.124Z"
   },
   {
    "duration": -195,
    "start_time": "2021-11-19T19:51:23.134Z"
   },
   {
    "duration": -204,
    "start_time": "2021-11-19T19:51:23.144Z"
   },
   {
    "duration": -211,
    "start_time": "2021-11-19T19:51:23.153Z"
   },
   {
    "duration": -219,
    "start_time": "2021-11-19T19:51:23.162Z"
   },
   {
    "duration": -226,
    "start_time": "2021-11-19T19:51:23.170Z"
   },
   {
    "duration": -233,
    "start_time": "2021-11-19T19:51:23.179Z"
   },
   {
    "duration": -240,
    "start_time": "2021-11-19T19:51:23.187Z"
   },
   {
    "duration": -249,
    "start_time": "2021-11-19T19:51:23.197Z"
   },
   {
    "duration": -255,
    "start_time": "2021-11-19T19:51:23.205Z"
   },
   {
    "duration": -339,
    "start_time": "2021-11-19T19:51:23.290Z"
   },
   {
    "duration": -345,
    "start_time": "2021-11-19T19:51:23.298Z"
   },
   {
    "duration": -353,
    "start_time": "2021-11-19T19:51:23.307Z"
   },
   {
    "duration": -360,
    "start_time": "2021-11-19T19:51:23.315Z"
   },
   {
    "duration": -369,
    "start_time": "2021-11-19T19:51:23.326Z"
   },
   {
    "duration": -377,
    "start_time": "2021-11-19T19:51:23.335Z"
   },
   {
    "duration": -385,
    "start_time": "2021-11-19T19:51:23.344Z"
   },
   {
    "duration": -391,
    "start_time": "2021-11-19T19:51:23.352Z"
   },
   {
    "duration": -400,
    "start_time": "2021-11-19T19:51:23.362Z"
   },
   {
    "duration": -407,
    "start_time": "2021-11-19T19:51:23.370Z"
   },
   {
    "duration": -414,
    "start_time": "2021-11-19T19:51:23.379Z"
   },
   {
    "duration": -421,
    "start_time": "2021-11-19T19:51:23.387Z"
   },
   {
    "duration": -493,
    "start_time": "2021-11-19T19:51:23.460Z"
   },
   {
    "duration": -501,
    "start_time": "2021-11-19T19:51:23.470Z"
   },
   {
    "duration": -509,
    "start_time": "2021-11-19T19:51:23.479Z"
   },
   {
    "duration": -516,
    "start_time": "2021-11-19T19:51:23.487Z"
   },
   {
    "duration": -523,
    "start_time": "2021-11-19T19:51:23.496Z"
   },
   {
    "duration": -530,
    "start_time": "2021-11-19T19:51:23.504Z"
   },
   {
    "duration": -538,
    "start_time": "2021-11-19T19:51:23.513Z"
   },
   {
    "duration": -545,
    "start_time": "2021-11-19T19:51:23.522Z"
   },
   {
    "duration": -554,
    "start_time": "2021-11-19T19:51:23.531Z"
   },
   {
    "duration": -561,
    "start_time": "2021-11-19T19:51:23.539Z"
   },
   {
    "duration": -569,
    "start_time": "2021-11-19T19:51:23.548Z"
   },
   {
    "duration": -576,
    "start_time": "2021-11-19T19:51:23.556Z"
   },
   {
    "duration": -644,
    "start_time": "2021-11-19T19:51:23.625Z"
   },
   {
    "duration": -651,
    "start_time": "2021-11-19T19:51:23.633Z"
   },
   {
    "duration": -658,
    "start_time": "2021-11-19T19:51:23.641Z"
   },
   {
    "duration": -665,
    "start_time": "2021-11-19T19:51:23.648Z"
   },
   {
    "duration": -673,
    "start_time": "2021-11-19T19:51:23.657Z"
   },
   {
    "duration": -678,
    "start_time": "2021-11-19T19:51:23.664Z"
   },
   {
    "duration": -832,
    "start_time": "2021-11-19T19:51:23.819Z"
   },
   {
    "duration": -839,
    "start_time": "2021-11-19T19:51:23.826Z"
   },
   {
    "duration": -846,
    "start_time": "2021-11-19T19:51:23.834Z"
   },
   {
    "duration": -853,
    "start_time": "2021-11-19T19:51:23.842Z"
   },
   {
    "duration": -860,
    "start_time": "2021-11-19T19:51:23.850Z"
   },
   {
    "duration": -866,
    "start_time": "2021-11-19T19:51:23.857Z"
   },
   {
    "duration": -873,
    "start_time": "2021-11-19T19:51:23.865Z"
   },
   {
    "duration": -879,
    "start_time": "2021-11-19T19:51:23.872Z"
   },
   {
    "duration": -887,
    "start_time": "2021-11-19T19:51:23.881Z"
   },
   {
    "duration": -894,
    "start_time": "2021-11-19T19:51:23.889Z"
   },
   {
    "duration": -901,
    "start_time": "2021-11-19T19:51:23.897Z"
   },
   {
    "duration": -907,
    "start_time": "2021-11-19T19:51:23.904Z"
   },
   {
    "duration": -914,
    "start_time": "2021-11-19T19:51:23.912Z"
   },
   {
    "duration": -977,
    "start_time": "2021-11-19T19:51:23.977Z"
   },
   {
    "duration": -984,
    "start_time": "2021-11-19T19:51:23.985Z"
   },
   {
    "duration": -990,
    "start_time": "2021-11-19T19:51:23.992Z"
   },
   {
    "duration": -997,
    "start_time": "2021-11-19T19:51:24.000Z"
   },
   {
    "duration": -944,
    "start_time": "2021-11-19T19:51:24.007Z"
   },
   {
    "duration": -951,
    "start_time": "2021-11-19T19:51:24.015Z"
   },
   {
    "duration": -955,
    "start_time": "2021-11-19T19:51:24.021Z"
   },
   {
    "duration": -963,
    "start_time": "2021-11-19T19:51:24.030Z"
   },
   {
    "duration": -969,
    "start_time": "2021-11-19T19:51:24.037Z"
   },
   {
    "duration": -975,
    "start_time": "2021-11-19T19:51:24.044Z"
   },
   {
    "duration": -981,
    "start_time": "2021-11-19T19:51:24.051Z"
   },
   {
    "duration": -988,
    "start_time": "2021-11-19T19:51:24.059Z"
   },
   {
    "duration": -994,
    "start_time": "2021-11-19T19:51:24.066Z"
   },
   {
    "duration": -1001,
    "start_time": "2021-11-19T19:51:24.074Z"
   },
   {
    "duration": -1064,
    "start_time": "2021-11-19T19:51:24.138Z"
   },
   {
    "duration": -1071,
    "start_time": "2021-11-19T19:51:24.146Z"
   },
   {
    "duration": -1077,
    "start_time": "2021-11-19T19:51:24.153Z"
   },
   {
    "duration": -1084,
    "start_time": "2021-11-19T19:51:24.161Z"
   },
   {
    "duration": -1091,
    "start_time": "2021-11-19T19:51:24.169Z"
   },
   {
    "duration": -1098,
    "start_time": "2021-11-19T19:51:24.177Z"
   },
   {
    "duration": -1104,
    "start_time": "2021-11-19T19:51:24.184Z"
   },
   {
    "duration": -1740,
    "start_time": "2021-11-19T19:51:24.821Z"
   },
   {
    "duration": -1746,
    "start_time": "2021-11-19T19:51:24.828Z"
   },
   {
    "duration": -1754,
    "start_time": "2021-11-19T19:51:24.837Z"
   },
   {
    "duration": -1761,
    "start_time": "2021-11-19T19:51:24.844Z"
   },
   {
    "duration": -1768,
    "start_time": "2021-11-19T19:51:24.852Z"
   },
   {
    "duration": -1774,
    "start_time": "2021-11-19T19:51:24.859Z"
   },
   {
    "duration": -1819,
    "start_time": "2021-11-19T19:51:24.905Z"
   },
   {
    "duration": -1827,
    "start_time": "2021-11-19T19:51:24.914Z"
   },
   {
    "duration": -1834,
    "start_time": "2021-11-19T19:51:24.922Z"
   },
   {
    "duration": -1842,
    "start_time": "2021-11-19T19:51:24.930Z"
   },
   {
    "duration": -1848,
    "start_time": "2021-11-19T19:51:24.937Z"
   },
   {
    "duration": -1854,
    "start_time": "2021-11-19T19:51:24.944Z"
   },
   {
    "duration": -1861,
    "start_time": "2021-11-19T19:51:24.952Z"
   },
   {
    "duration": -1869,
    "start_time": "2021-11-19T19:51:24.960Z"
   },
   {
    "duration": -1876,
    "start_time": "2021-11-19T19:51:24.968Z"
   },
   {
    "duration": -1882,
    "start_time": "2021-11-19T19:51:24.975Z"
   },
   {
    "duration": -1889,
    "start_time": "2021-11-19T19:51:24.983Z"
   },
   {
    "duration": -1895,
    "start_time": "2021-11-19T19:51:24.990Z"
   },
   {
    "duration": -1954,
    "start_time": "2021-11-19T19:51:25.049Z"
   },
   {
    "duration": -1960,
    "start_time": "2021-11-19T19:51:25.056Z"
   },
   {
    "duration": -1968,
    "start_time": "2021-11-19T19:51:25.065Z"
   },
   {
    "duration": -1974,
    "start_time": "2021-11-19T19:51:25.072Z"
   },
   {
    "duration": -1981,
    "start_time": "2021-11-19T19:51:25.080Z"
   },
   {
    "duration": -1989,
    "start_time": "2021-11-19T19:51:25.089Z"
   },
   {
    "duration": -1936,
    "start_time": "2021-11-19T19:51:25.099Z"
   },
   {
    "duration": -1944,
    "start_time": "2021-11-19T19:51:25.108Z"
   },
   {
    "duration": -1951,
    "start_time": "2021-11-19T19:51:25.116Z"
   },
   {
    "duration": -1959,
    "start_time": "2021-11-19T19:51:25.125Z"
   },
   {
    "duration": -1966,
    "start_time": "2021-11-19T19:51:25.133Z"
   },
   {
    "duration": -2027,
    "start_time": "2021-11-19T19:51:25.195Z"
   },
   {
    "duration": -2035,
    "start_time": "2021-11-19T19:51:25.204Z"
   },
   {
    "duration": -2041,
    "start_time": "2021-11-19T19:51:25.211Z"
   },
   {
    "duration": -2049,
    "start_time": "2021-11-19T19:51:25.219Z"
   },
   {
    "duration": -2064,
    "start_time": "2021-11-19T19:51:25.235Z"
   },
   {
    "duration": -2071,
    "start_time": "2021-11-19T19:51:25.243Z"
   },
   {
    "duration": -2078,
    "start_time": "2021-11-19T19:51:25.251Z"
   },
   {
    "duration": 32,
    "start_time": "2021-11-19T19:51:57.593Z"
   },
   {
    "duration": 1274,
    "start_time": "2021-11-19T19:52:04.354Z"
   },
   {
    "duration": 31,
    "start_time": "2021-11-19T19:52:05.630Z"
   },
   {
    "duration": 38,
    "start_time": "2021-11-19T19:52:05.666Z"
   },
   {
    "duration": 25,
    "start_time": "2021-11-19T19:52:05.705Z"
   },
   {
    "duration": 31,
    "start_time": "2021-11-19T19:52:05.732Z"
   },
   {
    "duration": 41,
    "start_time": "2021-11-19T19:52:05.764Z"
   },
   {
    "duration": 61,
    "start_time": "2021-11-19T19:52:05.808Z"
   },
   {
    "duration": 6,
    "start_time": "2021-11-19T19:52:05.871Z"
   },
   {
    "duration": 40,
    "start_time": "2021-11-19T19:52:05.878Z"
   },
   {
    "duration": 51,
    "start_time": "2021-11-19T19:52:05.919Z"
   },
   {
    "duration": 88,
    "start_time": "2021-11-19T19:52:05.972Z"
   },
   {
    "duration": 8,
    "start_time": "2021-11-19T19:52:06.061Z"
   },
   {
    "duration": 12,
    "start_time": "2021-11-19T19:52:06.070Z"
   },
   {
    "duration": 343,
    "start_time": "2021-11-19T19:52:06.084Z"
   },
   {
    "duration": 8,
    "start_time": "2021-11-19T19:52:06.429Z"
   },
   {
    "duration": 3,
    "start_time": "2021-11-19T19:52:06.438Z"
   },
   {
    "duration": 23,
    "start_time": "2021-11-19T19:52:06.443Z"
   },
   {
    "duration": 10,
    "start_time": "2021-11-19T19:52:06.468Z"
   },
   {
    "duration": 592,
    "start_time": "2021-11-19T19:52:06.480Z"
   },
   {
    "duration": 23000,
    "start_time": "2021-11-19T19:52:07.074Z"
   },
   {
    "duration": 791,
    "start_time": "2021-11-19T19:52:30.075Z"
   },
   {
    "duration": 4,
    "start_time": "2021-11-19T19:52:30.871Z"
   },
   {
    "duration": 118,
    "start_time": "2021-11-19T19:52:30.878Z"
   },
   {
    "duration": 35,
    "start_time": "2021-11-19T19:52:30.998Z"
   },
   {
    "duration": 150,
    "start_time": "2021-11-19T19:52:31.034Z"
   },
   {
    "duration": 190,
    "start_time": "2021-11-19T19:52:31.187Z"
   },
   {
    "duration": 127,
    "start_time": "2021-11-19T19:52:31.378Z"
   },
   {
    "duration": 183,
    "start_time": "2021-11-19T19:52:31.507Z"
   },
   {
    "duration": 52,
    "start_time": "2021-11-19T19:52:31.692Z"
   },
   {
    "duration": 12,
    "start_time": "2021-11-19T19:52:31.747Z"
   },
   {
    "duration": 49,
    "start_time": "2021-11-19T19:52:31.760Z"
   },
   {
    "duration": 70,
    "start_time": "2021-11-19T19:52:31.811Z"
   },
   {
    "duration": 100,
    "start_time": "2021-11-19T19:52:31.883Z"
   },
   {
    "duration": 80744,
    "start_time": "2021-11-19T19:52:31.984Z"
   },
   {
    "duration": 4,
    "start_time": "2021-11-19T19:53:52.730Z"
   },
   {
    "duration": 5,
    "start_time": "2021-11-19T19:53:52.736Z"
   },
   {
    "duration": 21,
    "start_time": "2021-11-19T19:53:52.742Z"
   },
   {
    "duration": 8,
    "start_time": "2021-11-19T19:53:52.765Z"
   },
   {
    "duration": 6,
    "start_time": "2021-11-19T19:53:52.775Z"
   },
   {
    "duration": 4,
    "start_time": "2021-11-19T19:53:52.783Z"
   },
   {
    "duration": 5011660,
    "start_time": "2021-11-19T19:53:52.788Z"
   },
   {
    "duration": 4,
    "start_time": "2021-11-19T21:17:24.449Z"
   },
   {
    "duration": 9,
    "start_time": "2021-11-19T21:17:24.455Z"
   },
   {
    "duration": 167,
    "start_time": "2021-11-19T21:17:24.466Z"
   },
   {
    "duration": 8,
    "start_time": "2021-11-19T21:17:24.635Z"
   },
   {
    "duration": 6,
    "start_time": "2021-11-19T21:17:24.644Z"
   },
   {
    "duration": 1617,
    "start_time": "2021-11-19T21:17:24.652Z"
   },
   {
    "duration": 4,
    "start_time": "2021-11-19T21:17:26.272Z"
   },
   {
    "duration": 99,
    "start_time": "2021-11-19T21:17:26.365Z"
   },
   {
    "duration": 97,
    "start_time": "2021-11-19T21:17:26.468Z"
   },
   {
    "duration": 7,
    "start_time": "2021-11-19T21:17:26.566Z"
   },
   {
    "duration": 4,
    "start_time": "2021-11-19T21:17:26.574Z"
   },
   {
    "duration": 33581,
    "start_time": "2021-11-19T21:17:26.579Z"
   },
   {
    "duration": 4,
    "start_time": "2021-11-19T21:18:00.164Z"
   },
   {
    "duration": 20,
    "start_time": "2021-11-19T21:18:00.169Z"
   },
   {
    "duration": 84613,
    "start_time": "2021-11-19T21:18:00.191Z"
   },
   {
    "duration": 4,
    "start_time": "2021-11-19T21:19:24.806Z"
   },
   {
    "duration": 4,
    "start_time": "2021-11-19T21:19:24.812Z"
   },
   {
    "duration": 8,
    "start_time": "2021-11-19T21:19:24.817Z"
   },
   {
    "duration": 7,
    "start_time": "2021-11-19T21:19:24.827Z"
   },
   {
    "duration": 29,
    "start_time": "2021-11-19T21:19:24.836Z"
   },
   {
    "duration": 5,
    "start_time": "2021-11-19T21:19:24.866Z"
   },
   {
    "duration": 624685,
    "start_time": "2021-11-19T21:19:24.873Z"
   },
   {
    "duration": 6,
    "start_time": "2021-11-19T21:29:49.559Z"
   },
   {
    "duration": 7,
    "start_time": "2021-11-19T21:29:49.566Z"
   },
   {
    "duration": 5121521,
    "start_time": "2021-11-19T21:29:49.575Z"
   },
   {
    "duration": 4,
    "start_time": "2021-11-19T22:55:11.102Z"
   },
   {
    "duration": 17,
    "start_time": "2021-11-19T22:55:11.108Z"
   },
   {
    "duration": 73,
    "start_time": "2021-11-19T22:55:11.126Z"
   },
   {
    "duration": 8,
    "start_time": "2021-11-19T22:55:11.201Z"
   },
   {
    "duration": 6,
    "start_time": "2021-11-19T22:55:11.210Z"
   },
   {
    "duration": 3,
    "start_time": "2021-11-19T22:55:11.218Z"
   },
   {
    "duration": 171853,
    "start_time": "2021-11-19T22:55:11.223Z"
   },
   {
    "duration": 87,
    "start_time": "2021-11-19T22:58:03.080Z"
   },
   {
    "duration": 99,
    "start_time": "2021-11-19T22:58:03.170Z"
   },
   {
    "duration": 999,
    "start_time": "2021-11-19T22:58:03.276Z"
   },
   {
    "duration": 4,
    "start_time": "2021-11-19T22:58:04.281Z"
   },
   {
    "duration": 98,
    "start_time": "2021-11-19T22:58:04.367Z"
   },
   {
    "duration": 97,
    "start_time": "2021-11-19T22:58:04.468Z"
   },
   {
    "duration": 91,
    "start_time": "2021-11-19T22:58:04.573Z"
   },
   {
    "duration": 5,
    "start_time": "2021-11-19T22:58:04.669Z"
   },
   {
    "duration": 197176,
    "start_time": "2021-11-19T22:58:04.676Z"
   },
   {
    "duration": 4,
    "start_time": "2021-11-19T23:01:21.854Z"
   },
   {
    "duration": 7,
    "start_time": "2021-11-19T23:01:21.859Z"
   },
   {
    "duration": 11,
    "start_time": "2021-11-19T23:01:21.868Z"
   },
   {
    "duration": 11,
    "start_time": "2021-11-19T23:01:21.881Z"
   },
   {
    "duration": 7,
    "start_time": "2021-11-19T23:01:21.894Z"
   },
   {
    "duration": 4,
    "start_time": "2021-11-19T23:01:21.903Z"
   },
   {
    "duration": 9,
    "start_time": "2021-11-19T23:01:21.909Z"
   },
   {
    "duration": 8591655,
    "start_time": "2021-11-19T23:01:21.920Z"
   },
   {
    "duration": 6,
    "start_time": "2021-11-20T01:24:33.577Z"
   },
   {
    "duration": 6,
    "start_time": "2021-11-20T01:24:33.584Z"
   },
   {
    "duration": 136,
    "start_time": "2021-11-20T01:24:33.592Z"
   },
   {
    "duration": 8,
    "start_time": "2021-11-20T01:24:33.730Z"
   },
   {
    "duration": 6,
    "start_time": "2021-11-20T01:24:33.740Z"
   },
   {
    "duration": 3,
    "start_time": "2021-11-20T01:24:33.748Z"
   },
   {
    "duration": 1720,
    "start_time": "2021-11-20T01:24:33.767Z"
   },
   {
    "duration": 2,
    "start_time": "2021-11-20T01:24:35.572Z"
   },
   {
    "duration": 99,
    "start_time": "2021-11-20T01:24:35.577Z"
   },
   {
    "duration": 101,
    "start_time": "2021-11-20T01:24:35.679Z"
   },
   {
    "duration": 97,
    "start_time": "2021-11-20T01:24:35.783Z"
   },
   {
    "duration": 17,
    "start_time": "2021-11-20T01:24:35.882Z"
   },
   {
    "duration": 30,
    "start_time": "2021-11-20T01:24:35.900Z"
   },
   {
    "duration": 23,
    "start_time": "2021-11-20T01:24:35.932Z"
   },
   {
    "duration": 63,
    "start_time": "2021-11-20T01:24:35.957Z"
   },
   {
    "duration": 57,
    "start_time": "2021-11-20T01:24:36.022Z"
   },
   {
    "duration": 50,
    "start_time": "2021-11-20T01:24:36.081Z"
   },
   {
    "duration": 20,
    "start_time": "2021-11-20T01:24:36.133Z"
   },
   {
    "duration": 9,
    "start_time": "2021-11-20T01:24:36.154Z"
   },
   {
    "duration": 15,
    "start_time": "2021-11-20T01:24:36.167Z"
   },
   {
    "duration": 76,
    "start_time": "2021-11-20T01:24:36.183Z"
   },
   {
    "duration": 16,
    "start_time": "2021-11-20T01:24:36.261Z"
   },
   {
    "duration": 13,
    "start_time": "2021-11-20T01:24:36.278Z"
   },
   {
    "duration": 31,
    "start_time": "2021-11-20T01:24:36.292Z"
   },
   {
    "duration": 7,
    "start_time": "2021-11-20T01:24:36.325Z"
   },
   {
    "duration": 11,
    "start_time": "2021-11-20T01:24:36.333Z"
   },
   {
    "duration": 48,
    "start_time": "2021-11-20T01:24:36.346Z"
   },
   {
    "duration": 6,
    "start_time": "2021-11-20T01:24:36.396Z"
   },
   {
    "duration": 7,
    "start_time": "2021-11-20T01:24:36.403Z"
   },
   {
    "duration": 427,
    "start_time": "2021-11-20T01:24:36.412Z"
   },
   {
    "duration": 74,
    "start_time": "2021-11-20T01:24:36.767Z"
   },
   {
    "duration": 68,
    "start_time": "2021-11-20T01:24:36.774Z"
   },
   {
    "duration": 409,
    "start_time": "2021-11-20T13:51:02.815Z"
   },
   {
    "duration": 306,
    "start_time": "2021-11-20T13:53:27.417Z"
   },
   {
    "duration": 348,
    "start_time": "2021-11-20T13:53:55.139Z"
   },
   {
    "duration": 315,
    "start_time": "2021-11-20T13:54:07.983Z"
   },
   {
    "duration": 313,
    "start_time": "2021-11-20T13:54:13.295Z"
   },
   {
    "duration": 11,
    "start_time": "2021-11-20T14:06:38.068Z"
   },
   {
    "duration": 4720,
    "start_time": "2021-11-20T14:11:19.388Z"
   },
   {
    "duration": 5,
    "start_time": "2021-11-20T14:13:07.296Z"
   },
   {
    "duration": 300,
    "start_time": "2021-11-20T14:13:56.368Z"
   },
   {
    "duration": 5,
    "start_time": "2021-11-20T14:14:10.174Z"
   },
   {
    "duration": 5,
    "start_time": "2021-11-20T14:14:20.094Z"
   },
   {
    "duration": 4,
    "start_time": "2021-11-20T14:14:29.681Z"
   },
   {
    "duration": 4739,
    "start_time": "2021-11-20T14:14:48.589Z"
   },
   {
    "duration": 5,
    "start_time": "2021-11-20T14:16:08.394Z"
   },
   {
    "duration": 5141,
    "start_time": "2021-11-20T14:16:15.250Z"
   },
   {
    "duration": 5201,
    "start_time": "2021-11-20T14:16:52.533Z"
   },
   {
    "duration": 5306,
    "start_time": "2021-11-20T14:17:21.836Z"
   },
   {
    "duration": 5334,
    "start_time": "2021-11-20T14:17:36.499Z"
   },
   {
    "duration": 5107,
    "start_time": "2021-11-20T14:17:53.013Z"
   },
   {
    "duration": 6929,
    "start_time": "2021-11-20T14:18:14.687Z"
   },
   {
    "duration": 5240,
    "start_time": "2021-11-20T14:18:29.797Z"
   },
   {
    "duration": 253,
    "start_time": "2021-11-20T14:21:14.279Z"
   },
   {
    "duration": 249,
    "start_time": "2021-11-20T14:22:39.184Z"
   },
   {
    "duration": 242,
    "start_time": "2021-11-20T14:22:52.380Z"
   },
   {
    "duration": 255,
    "start_time": "2021-11-20T14:22:59.470Z"
   },
   {
    "duration": 334,
    "start_time": "2021-11-20T14:23:05.948Z"
   },
   {
    "duration": 569,
    "start_time": "2021-11-20T14:23:16.276Z"
   },
   {
    "duration": 1781,
    "start_time": "2021-11-20T19:56:53.980Z"
   },
   {
    "duration": 255,
    "start_time": "2021-11-20T19:57:03.527Z"
   },
   {
    "duration": 4,
    "start_time": "2021-11-20T19:57:11.225Z"
   },
   {
    "duration": 269,
    "start_time": "2021-11-20T19:57:16.806Z"
   },
   {
    "duration": 14,
    "start_time": "2021-11-20T19:57:17.077Z"
   },
   {
    "duration": 8,
    "start_time": "2021-11-20T19:57:17.702Z"
   },
   {
    "duration": 7,
    "start_time": "2021-11-20T19:57:18.091Z"
   },
   {
    "duration": 11,
    "start_time": "2021-11-20T19:57:18.616Z"
   },
   {
    "duration": 35,
    "start_time": "2021-11-20T19:57:19.181Z"
   },
   {
    "duration": 7,
    "start_time": "2021-11-20T19:57:21.466Z"
   },
   {
    "duration": 4,
    "start_time": "2021-11-20T19:57:21.766Z"
   },
   {
    "duration": 4,
    "start_time": "2021-11-20T19:57:27.286Z"
   },
   {
    "duration": 4,
    "start_time": "2021-11-20T19:57:27.789Z"
   },
   {
    "duration": 5,
    "start_time": "2021-11-20T19:57:27.893Z"
   },
   {
    "duration": 8,
    "start_time": "2021-11-20T19:57:27.998Z"
   },
   {
    "duration": 346,
    "start_time": "2021-11-20T19:57:28.744Z"
   },
   {
    "duration": 8,
    "start_time": "2021-11-20T19:57:29.686Z"
   },
   {
    "duration": 4,
    "start_time": "2021-11-20T19:57:31.449Z"
   },
   {
    "duration": 7,
    "start_time": "2021-11-20T19:57:35.647Z"
   },
   {
    "duration": 6,
    "start_time": "2021-11-20T19:57:53.138Z"
   },
   {
    "duration": 31,
    "start_time": "2021-11-20T19:58:03.425Z"
   },
   {
    "duration": 13,
    "start_time": "2021-11-20T19:58:03.642Z"
   },
   {
    "duration": 10,
    "start_time": "2021-11-20T19:58:03.801Z"
   },
   {
    "duration": 7,
    "start_time": "2021-11-20T19:58:03.940Z"
   },
   {
    "duration": 10,
    "start_time": "2021-11-20T19:58:04.094Z"
   },
   {
    "duration": 37,
    "start_time": "2021-11-20T19:58:04.258Z"
   },
   {
    "duration": 6,
    "start_time": "2021-11-20T19:58:04.959Z"
   },
   {
    "duration": 5,
    "start_time": "2021-11-20T19:58:05.165Z"
   },
   {
    "duration": 4,
    "start_time": "2021-11-20T19:58:05.402Z"
   },
   {
    "duration": 5,
    "start_time": "2021-11-20T19:58:06.128Z"
   },
   {
    "duration": 4,
    "start_time": "2021-11-20T19:58:06.329Z"
   },
   {
    "duration": 9,
    "start_time": "2021-11-20T19:58:06.760Z"
   },
   {
    "duration": 337,
    "start_time": "2021-11-20T19:58:11.413Z"
   },
   {
    "duration": 6,
    "start_time": "2021-11-20T19:58:14.891Z"
   },
   {
    "duration": 4,
    "start_time": "2021-11-20T19:58:17.544Z"
   },
   {
    "duration": 6,
    "start_time": "2021-11-20T19:58:19.953Z"
   },
   {
    "duration": 1461,
    "start_time": "2021-11-20T20:17:06.784Z"
   },
   {
    "duration": 163,
    "start_time": "2021-11-20T20:17:39.786Z"
   },
   {
    "duration": 4,
    "start_time": "2021-11-20T20:17:48.196Z"
   },
   {
    "duration": 31,
    "start_time": "2021-11-20T20:17:56.346Z"
   },
   {
    "duration": 7,
    "start_time": "2021-11-20T20:18:04.803Z"
   },
   {
    "duration": 7,
    "start_time": "2021-11-20T20:18:11.172Z"
   },
   {
    "duration": 5,
    "start_time": "2021-11-20T20:18:21.751Z"
   },
   {
    "duration": 4,
    "start_time": "2021-11-20T20:18:35.255Z"
   },
   {
    "duration": 6,
    "start_time": "2021-11-20T20:18:38.095Z"
   },
   {
    "duration": 446,
    "start_time": "2021-11-20T20:18:46.487Z"
   },
   {
    "duration": 180,
    "start_time": "2021-11-20T20:18:51.619Z"
   },
   {
    "duration": 46,
    "start_time": "2021-11-20T20:19:06.231Z"
   },
   {
    "duration": 7,
    "start_time": "2021-11-20T20:19:13.696Z"
   },
   {
    "duration": 5,
    "start_time": "2021-11-20T20:19:17.675Z"
   },
   {
    "duration": 177,
    "start_time": "2021-11-20T20:20:02.940Z"
   },
   {
    "duration": 4,
    "start_time": "2021-11-20T20:20:16.326Z"
   },
   {
    "duration": 180,
    "start_time": "2021-11-20T20:20:17.347Z"
   },
   {
    "duration": 26,
    "start_time": "2021-11-20T20:20:32.667Z"
   },
   {
    "duration": 6,
    "start_time": "2021-11-20T20:20:37.786Z"
   },
   {
    "duration": 5,
    "start_time": "2021-11-20T20:20:41.817Z"
   },
   {
    "duration": 167,
    "start_time": "2021-11-20T20:20:51.520Z"
   },
   {
    "duration": 5,
    "start_time": "2021-11-20T20:20:55.684Z"
   },
   {
    "duration": 237,
    "start_time": "2021-11-20T20:20:57.556Z"
   },
   {
    "duration": 25,
    "start_time": "2021-11-20T20:23:38.873Z"
   },
   {
    "duration": 6,
    "start_time": "2021-11-20T20:23:45.628Z"
   },
   {
    "duration": 4,
    "start_time": "2021-11-20T20:23:47.938Z"
   },
   {
    "duration": 182,
    "start_time": "2021-11-20T20:23:59.878Z"
   },
   {
    "duration": 165,
    "start_time": "2021-11-20T20:24:07.566Z"
   },
   {
    "duration": 623,
    "start_time": "2021-11-20T20:24:20.406Z"
   },
   {
    "duration": 658,
    "start_time": "2021-11-20T20:24:29.921Z"
   },
   {
    "duration": 629,
    "start_time": "2021-11-20T20:26:14.015Z"
   },
   {
    "duration": 635,
    "start_time": "2021-11-20T20:26:19.558Z"
   },
   {
    "duration": 5,
    "start_time": "2021-11-20T20:27:10.374Z"
   },
   {
    "duration": 178,
    "start_time": "2021-11-20T20:27:11.354Z"
   },
   {
    "duration": 739,
    "start_time": "2021-11-20T20:29:23.135Z"
   },
   {
    "duration": 28,
    "start_time": "2021-11-20T20:29:33.245Z"
   },
   {
    "duration": 7,
    "start_time": "2021-11-20T20:29:39.066Z"
   },
   {
    "duration": 4,
    "start_time": "2021-11-20T20:29:41.458Z"
   },
   {
    "duration": 176,
    "start_time": "2021-11-20T20:29:51.212Z"
   },
   {
    "duration": 790,
    "start_time": "2021-11-20T20:30:11.134Z"
   },
   {
    "duration": 10,
    "start_time": "2021-11-20T20:32:58.550Z"
   },
   {
    "duration": 6,
    "start_time": "2021-11-20T20:34:20.043Z"
   },
   {
    "duration": 115,
    "start_time": "2021-11-20T20:34:24.346Z"
   },
   {
    "duration": 9,
    "start_time": "2021-11-20T20:34:26.350Z"
   },
   {
    "duration": 192,
    "start_time": "2021-11-20T20:34:43.934Z"
   }
  ],
  "accelerator": "GPU",
  "colab": {
   "collapsed_sections": [],
   "name": "M2S2_Learning_with_teacher1.ipynb",
   "provenance": []
  },
  "kernelspec": {
   "display_name": "Python 3",
   "language": "python",
   "name": "python3"
  },
  "language_info": {
   "codemirror_mode": {
    "name": "ipython",
    "version": 3
   },
   "file_extension": ".py",
   "mimetype": "text/x-python",
   "name": "python",
   "nbconvert_exporter": "python",
   "pygments_lexer": "ipython3",
   "version": "3.8.5"
  },
  "toc": {
   "base_numbering": 1,
   "nav_menu": {},
   "number_sections": false,
   "sideBar": true,
   "skip_h1_title": true,
   "title_cell": "Содержание",
   "title_sidebar": "Contents",
   "toc_cell": true,
   "toc_position": {},
   "toc_section_display": true,
   "toc_window_display": true
  }
 },
 "nbformat": 4,
 "nbformat_minor": 1
}
